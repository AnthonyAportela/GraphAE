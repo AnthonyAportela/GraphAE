{
 "cells": [
  {
   "cell_type": "code",
   "execution_count": 1,
   "metadata": {},
   "outputs": [],
   "source": [
    "import pandas as pd\n",
    "import numpy as np\n",
    "from pyjet import cluster,DTYPE_PTEPM\n",
    "from sklearn import preprocessing"
   ]
  },
  {
   "cell_type": "markdown",
   "metadata": {},
   "source": [
    "# Pre processing"
   ]
  },
  {
   "cell_type": "code",
   "execution_count": 2,
   "metadata": {},
   "outputs": [],
   "source": [
    "path = '/anomalyvol/data/events_LHCO2020_backgroundMC_Pythia.h5'"
   ]
  },
  {
   "cell_type": "code",
   "execution_count": 3,
   "metadata": {},
   "outputs": [],
   "source": [
    "df = pd.read_hdf(path,stop=100000) # just read first 100000 events"
   ]
  },
  {
   "cell_type": "code",
   "execution_count": 4,
   "metadata": {},
   "outputs": [],
   "source": [
    "all_events = df.values"
   ]
  },
  {
   "cell_type": "code",
   "execution_count": 5,
   "metadata": {},
   "outputs": [],
   "source": [
    "rows = all_events.shape[0]\n",
    "cols = all_events.shape[1]\n",
    "data = []"
   ]
  },
  {
   "cell_type": "code",
   "execution_count": 6,
   "metadata": {},
   "outputs": [],
   "source": [
    "for i in range(rows):\n",
    "    pseudojets_input = np.zeros(len([x for x in all_events[i][::3] if x > 0]), dtype=DTYPE_PTEPM)\n",
    "    for j in range(cols // 3):\n",
    "        if (all_events[i][j*3]>0):\n",
    "            pseudojets_input[j]['pT'] = all_events[i][j*3]\n",
    "            pseudojets_input[j]['eta'] = all_events[i][j*3+1]\n",
    "            pseudojets_input[j]['phi'] = all_events[i][j*3+2]\n",
    "        pass\n",
    "    sequence = cluster(pseudojets_input, R=1.0, p=-1)\n",
    "    jets = sequence.inclusive_jets()\n",
    "    for k in range(len(jets)):\n",
    "        jet = []\n",
    "        jet.append(jets[k].px)\n",
    "        jet.append(jets[k].py)\n",
    "        jet.append(jets[k].pz)\n",
    "        jet.append(jets[k].e)\n",
    "        data.append(jet)"
   ]
  },
  {
   "cell_type": "code",
   "execution_count": 7,
   "metadata": {},
   "outputs": [
    {
     "data": {
      "text/plain": [
       "(1477373, 4)"
      ]
     },
     "execution_count": 7,
     "metadata": {},
     "output_type": "execute_result"
    }
   ],
   "source": [
    "data = np.array(data)\n",
    "data.shape"
   ]
  },
  {
   "cell_type": "code",
   "execution_count": 8,
   "metadata": {},
   "outputs": [],
   "source": [
    "# log transform pT\n",
    "#data[:,3] = np.ma.log(data[:,3]).filled()"
   ]
  },
  {
   "cell_type": "code",
   "execution_count": 9,
   "metadata": {},
   "outputs": [
    {
     "data": {
      "text/plain": [
       "array([[-1.17658220e+03, -7.79040316e+02,  3.40962660e+02,\n",
       "         1.45491963e+03],\n",
       "       [ 6.11088616e+02,  7.16513394e+02,  1.55833044e+03,\n",
       "         1.87194199e+03],\n",
       "       [ 4.96094722e+02, -1.87111748e+01,  1.78940558e+03,\n",
       "         1.85808569e+03],\n",
       "       ...,\n",
       "       [ 4.42306312e-01,  9.70780337e-02,  2.58945478e+01,\n",
       "         2.58985070e+01],\n",
       "       [-2.68772115e-01, -3.44070287e-01, -3.01572220e+01,\n",
       "         3.01603823e+01],\n",
       "       [-2.82745626e-01, -7.48815701e-02, -9.38791569e+00,\n",
       "         9.39247109e+00]])"
      ]
     },
     "execution_count": 9,
     "metadata": {},
     "output_type": "execute_result"
    }
   ],
   "source": [
    "data"
   ]
  },
  {
   "cell_type": "code",
   "execution_count": 10,
   "metadata": {},
   "outputs": [],
   "source": [
    "# splitting data\n",
    "x_train = data[0:int(len(data) * 0.8)]\n",
    "x_val = data[int(len(data) * 0.8):int(len(data) * 0.9)]\n",
    "x_test = data[int(len(data) * 0.9):]"
   ]
  },
  {
   "cell_type": "code",
   "execution_count": 11,
   "metadata": {},
   "outputs": [],
   "source": [
    "# regularize\n",
    "scaler = preprocessing.StandardScaler()\n",
    "x_train = scaler.fit_transform(x_train)\n",
    "x_val = scaler.transform(x_val)\n",
    "x_test = scaler.transform(x_test)"
   ]
  },
  {
   "cell_type": "markdown",
   "metadata": {},
   "source": [
    "# VAE Model"
   ]
  },
  {
   "cell_type": "code",
   "execution_count": 12,
   "metadata": {},
   "outputs": [
    {
     "name": "stderr",
     "output_type": "stream",
     "text": [
      "Using TensorFlow backend.\n"
     ]
    }
   ],
   "source": [
    "import keras\n",
    "from keras.layers import Lambda, Input, Dense, Flatten, Reshape\n",
    "from keras.models import Model, Sequential\n",
    "from keras import metrics, losses\n",
    "from keras import backend as K"
   ]
  },
  {
   "cell_type": "code",
   "execution_count": 13,
   "metadata": {},
   "outputs": [],
   "source": [
    "def sampling(args):\n",
    "    \"\"\"\n",
    "    # Arguments\n",
    "        args (tensor): mean and log of variance of Q(z|X)\n",
    "    # Returns\n",
    "        z (tensor): sampled latent vector\n",
    "    \"\"\"\n",
    "\n",
    "    z_mean, z_log_var = args\n",
    "    batch = K.shape(z_mean)[0]\n",
    "    dim = K.int_shape(z_mean)[1]\n",
    "    # by default, random_normal has mean = 0 and std = 1.0\n",
    "    epsilon = K.random_normal(shape=(batch, dim))\n",
    "    return z_mean + K.exp(0.5 * z_log_var) * epsilon"
   ]
  },
  {
   "cell_type": "code",
   "execution_count": 14,
   "metadata": {},
   "outputs": [],
   "source": [
    "inter_dim_1 = 16\n",
    "inter_dim_2 = 16\n",
    "final_dim = 8\n",
    "latent_dim = 2\n",
    "input_dim = 4"
   ]
  },
  {
   "cell_type": "code",
   "execution_count": 15,
   "metadata": {},
   "outputs": [],
   "source": [
    "# encoder\n",
    "x = Input(shape=(input_dim,))\n",
    "#x_flat = Flatten()(x)\n",
    "h1 = Dense(inter_dim_1, activation='relu')(x)\n",
    "h2 = Dense(inter_dim_2, activation='relu')(h1)\n",
    "h3 = Dense(final_dim, activation='relu')(h2)\n",
    "encoding = Dense(latent_dim)(h3)"
   ]
  },
  {
   "cell_type": "code",
   "execution_count": 16,
   "metadata": {},
   "outputs": [],
   "source": [
    "# decoder\n",
    "decoder_h3 = Dense(final_dim, activation='relu')\n",
    "decoder_h2 = Dense(inter_dim_2, activation='relu')\n",
    "decoder_h1 = Dense(inter_dim_1, activation='relu')\n",
    "decoder_mean = Dense(input_dim, activation='linear')\n",
    "\n",
    "h3_decoded = decoder_h3(encoding)\n",
    "h2_decoded = decoder_h2(h3_decoded)\n",
    "h1_decoded = decoder_h1(h2_decoded)\n",
    "x_decoded_mean = decoder_mean(h1_decoded)\n",
    "# x_decoded = Reshape(input_shape)(x_decoded_mean)"
   ]
  },
  {
   "cell_type": "code",
   "execution_count": 17,
   "metadata": {},
   "outputs": [],
   "source": [
    "vae = Model(inputs = x, outputs = x_decoded_mean, name = 'vae')"
   ]
  },
  {
   "cell_type": "code",
   "execution_count": 18,
   "metadata": {},
   "outputs": [],
   "source": [
    "mse = keras.losses.MeanSquaredError()\n",
    "def ae_loss(x, y):\n",
    "    mse_loss = mse(x, y)\n",
    "    return mse_loss\n",
    "\n",
    "vae.compile(optimizer='adam', loss=ae_loss)"
   ]
  },
  {
   "cell_type": "code",
   "execution_count": 19,
   "metadata": {},
   "outputs": [
    {
     "name": "stdout",
     "output_type": "stream",
     "text": [
      "Model: \"vae\"\n",
      "_________________________________________________________________\n",
      "Layer (type)                 Output Shape              Param #   \n",
      "=================================================================\n",
      "input_1 (InputLayer)         (None, 4)                 0         \n",
      "_________________________________________________________________\n",
      "dense_1 (Dense)              (None, 16)                80        \n",
      "_________________________________________________________________\n",
      "dense_2 (Dense)              (None, 16)                272       \n",
      "_________________________________________________________________\n",
      "dense_3 (Dense)              (None, 8)                 136       \n",
      "_________________________________________________________________\n",
      "dense_4 (Dense)              (None, 2)                 18        \n",
      "_________________________________________________________________\n",
      "dense_5 (Dense)              (None, 8)                 24        \n",
      "_________________________________________________________________\n",
      "dense_6 (Dense)              (None, 16)                144       \n",
      "_________________________________________________________________\n",
      "dense_7 (Dense)              (None, 16)                272       \n",
      "_________________________________________________________________\n",
      "dense_8 (Dense)              (None, 4)                 68        \n",
      "=================================================================\n",
      "Total params: 1,014\n",
      "Trainable params: 1,014\n",
      "Non-trainable params: 0\n",
      "_________________________________________________________________\n"
     ]
    }
   ],
   "source": [
    "vae.summary()"
   ]
  },
  {
   "cell_type": "markdown",
   "metadata": {},
   "source": [
    "# Train"
   ]
  },
  {
   "cell_type": "code",
   "execution_count": 20,
   "metadata": {},
   "outputs": [],
   "source": [
    "from sklearn.model_selection import train_test_split"
   ]
  },
  {
   "cell_type": "code",
   "execution_count": 21,
   "metadata": {},
   "outputs": [],
   "source": [
    "batch_size = 1000\n",
    "epochs = 100"
   ]
  },
  {
   "cell_type": "code",
   "execution_count": 22,
   "metadata": {},
   "outputs": [
    {
     "data": {
      "text/plain": [
       "(1181898, 4)"
      ]
     },
     "execution_count": 22,
     "metadata": {},
     "output_type": "execute_result"
    }
   ],
   "source": [
    "x_train.shape"
   ]
  },
  {
   "cell_type": "code",
   "execution_count": 23,
   "metadata": {},
   "outputs": [],
   "source": [
    "my_callbacks = [\n",
    "    keras.callbacks.EarlyStopping(patience=10)\n",
    "]"
   ]
  },
  {
   "cell_type": "code",
   "execution_count": 24,
   "metadata": {},
   "outputs": [
    {
     "name": "stdout",
     "output_type": "stream",
     "text": [
      "Train on 1181898 samples, validate on 147737 samples\n",
      "Epoch 1/100\n",
      "1181898/1181898 [==============================] - 11s 10us/step - loss: 0.2972 - val_loss: 0.1748\n",
      "Epoch 2/100\n",
      "1181898/1181898 [==============================] - 10s 9us/step - loss: 0.1399 - val_loss: 0.1033\n",
      "Epoch 3/100\n",
      "1181898/1181898 [==============================] - 10s 9us/step - loss: 0.0906 - val_loss: 0.0801\n",
      "Epoch 4/100\n",
      "1181898/1181898 [==============================] - 8s 7us/step - loss: 0.0733 - val_loss: 0.0670\n",
      "Epoch 5/100\n",
      "1181898/1181898 [==============================] - 7s 6us/step - loss: 0.0649 - val_loss: 0.0625\n",
      "Epoch 6/100\n",
      "1181898/1181898 [==============================] - 9s 8us/step - loss: 0.0604 - val_loss: 0.0582\n",
      "Epoch 7/100\n",
      "1181898/1181898 [==============================] - 9s 8us/step - loss: 0.0579 - val_loss: 0.0571\n",
      "Epoch 8/100\n",
      "1181898/1181898 [==============================] - 9s 8us/step - loss: 0.0544 - val_loss: 0.0517\n",
      "Epoch 9/100\n",
      "1181898/1181898 [==============================] - 9s 8us/step - loss: 0.0517 - val_loss: 0.0520\n",
      "Epoch 10/100\n",
      "1181898/1181898 [==============================] - 9s 8us/step - loss: 0.0515 - val_loss: 0.0541\n",
      "Epoch 11/100\n",
      "1181898/1181898 [==============================] - 9s 7us/step - loss: 0.0493 - val_loss: 0.0471\n",
      "Epoch 12/100\n",
      "1181898/1181898 [==============================] - 8s 7us/step - loss: 0.0473 - val_loss: 0.0466\n",
      "Epoch 13/100\n",
      "1181898/1181898 [==============================] - 9s 8us/step - loss: 0.0457 - val_loss: 0.0445\n",
      "Epoch 14/100\n",
      "1181898/1181898 [==============================] - 10s 8us/step - loss: 0.0449 - val_loss: 0.0442\n",
      "Epoch 15/100\n",
      "1181898/1181898 [==============================] - 11s 9us/step - loss: 0.0441 - val_loss: 0.0462\n",
      "Epoch 16/100\n",
      "1181898/1181898 [==============================] - 9s 7us/step - loss: 0.0443 - val_loss: 0.0428\n",
      "Epoch 17/100\n",
      "1181898/1181898 [==============================] - 8s 6us/step - loss: 0.0423 - val_loss: 0.0411\n",
      "Epoch 18/100\n",
      "1181898/1181898 [==============================] - 8s 6us/step - loss: 0.0421 - val_loss: 0.0433\n",
      "Epoch 19/100\n",
      "1181898/1181898 [==============================] - 7s 6us/step - loss: 0.0449 - val_loss: 0.0448\n",
      "Epoch 20/100\n",
      "1181898/1181898 [==============================] - 8s 6us/step - loss: 0.0442 - val_loss: 0.0455\n",
      "Epoch 21/100\n",
      "1181898/1181898 [==============================] - 8s 7us/step - loss: 0.0447 - val_loss: 0.0418\n",
      "Epoch 22/100\n",
      "1181898/1181898 [==============================] - 8s 7us/step - loss: 0.0413 - val_loss: 0.0411\n",
      "Epoch 23/100\n",
      "1181898/1181898 [==============================] - 8s 7us/step - loss: 0.0402 - val_loss: 0.0398\n",
      "Epoch 24/100\n",
      "1181898/1181898 [==============================] - 8s 7us/step - loss: 0.0398 - val_loss: 0.0390\n",
      "Epoch 25/100\n",
      "1181898/1181898 [==============================] - 8s 7us/step - loss: 0.0395 - val_loss: 0.0391\n",
      "Epoch 26/100\n",
      "1181898/1181898 [==============================] - 8s 6us/step - loss: 0.0397 - val_loss: 0.0411\n",
      "Epoch 27/100\n",
      "1181898/1181898 [==============================] - 8s 7us/step - loss: 0.0401 - val_loss: 0.0406\n",
      "Epoch 28/100\n",
      "1181898/1181898 [==============================] - 8s 6us/step - loss: 0.0399 - val_loss: 0.0397\n",
      "Epoch 29/100\n",
      "1181898/1181898 [==============================] - 8s 7us/step - loss: 0.0381 - val_loss: 0.0379\n",
      "Epoch 30/100\n",
      "1181898/1181898 [==============================] - 8s 6us/step - loss: 0.0376 - val_loss: 0.0370\n",
      "Epoch 31/100\n",
      "1181898/1181898 [==============================] - 7s 6us/step - loss: 0.0368 - val_loss: 0.0374\n",
      "Epoch 32/100\n",
      "1181898/1181898 [==============================] - 7s 6us/step - loss: 0.0365 - val_loss: 0.0373\n",
      "Epoch 33/100\n",
      "1181898/1181898 [==============================] - 7s 6us/step - loss: 0.0364 - val_loss: 0.0361\n",
      "Epoch 34/100\n",
      "1181898/1181898 [==============================] - 7s 6us/step - loss: 0.0362 - val_loss: 0.0359\n",
      "Epoch 35/100\n",
      "1181898/1181898 [==============================] - 7s 6us/step - loss: 0.0390 - val_loss: 0.0420\n",
      "Epoch 36/100\n",
      "1181898/1181898 [==============================] - 8s 6us/step - loss: 0.0377 - val_loss: 0.0375\n",
      "Epoch 37/100\n",
      "1181898/1181898 [==============================] - 8s 6us/step - loss: 0.0366 - val_loss: 0.0386\n",
      "Epoch 38/100\n",
      "1181898/1181898 [==============================] - 8s 7us/step - loss: 0.0365 - val_loss: 0.0358\n",
      "Epoch 39/100\n",
      "1181898/1181898 [==============================] - 8s 7us/step - loss: 0.0356 - val_loss: 0.0365\n",
      "Epoch 40/100\n",
      "1181898/1181898 [==============================] - 8s 6us/step - loss: 0.0355 - val_loss: 0.0365\n",
      "Epoch 41/100\n",
      "1181898/1181898 [==============================] - 7s 6us/step - loss: 0.0353 - val_loss: 0.0348\n",
      "Epoch 42/100\n",
      "1181898/1181898 [==============================] - 8s 7us/step - loss: 0.0347 - val_loss: 0.0350\n",
      "Epoch 43/100\n",
      "1181898/1181898 [==============================] - 8s 7us/step - loss: 0.0346 - val_loss: 0.0341\n",
      "Epoch 44/100\n",
      "1181898/1181898 [==============================] - 8s 7us/step - loss: 0.0341 - val_loss: 0.0340\n",
      "Epoch 45/100\n",
      "1181898/1181898 [==============================] - 8s 7us/step - loss: 0.0340 - val_loss: 0.0335\n",
      "Epoch 46/100\n",
      "1181898/1181898 [==============================] - 7s 6us/step - loss: 0.0341 - val_loss: 0.0335\n",
      "Epoch 47/100\n",
      "1181898/1181898 [==============================] - 7s 6us/step - loss: 0.0340 - val_loss: 0.0342\n",
      "Epoch 48/100\n",
      "1181898/1181898 [==============================] - 7s 6us/step - loss: 0.0341 - val_loss: 0.0350\n",
      "Epoch 49/100\n",
      "1181898/1181898 [==============================] - 8s 7us/step - loss: 0.0349 - val_loss: 0.0356\n",
      "Epoch 50/100\n",
      "1181898/1181898 [==============================] - 8s 7us/step - loss: 0.0346 - val_loss: 0.0340\n",
      "Epoch 51/100\n",
      "1181898/1181898 [==============================] - 8s 7us/step - loss: 0.0345 - val_loss: 0.0352\n",
      "Epoch 52/100\n",
      "1181898/1181898 [==============================] - 8s 7us/step - loss: 0.0350 - val_loss: 0.0348\n",
      "Epoch 53/100\n",
      "1181898/1181898 [==============================] - 7s 6us/step - loss: 0.0351 - val_loss: 0.0342\n",
      "Epoch 54/100\n",
      "1181898/1181898 [==============================] - 8s 6us/step - loss: 0.0339 - val_loss: 0.0342\n",
      "Epoch 55/100\n",
      "1181898/1181898 [==============================] - 7s 6us/step - loss: 0.0335 - val_loss: 0.0326\n",
      "Epoch 56/100\n",
      "1181898/1181898 [==============================] - 8s 7us/step - loss: 0.0334 - val_loss: 0.0343\n",
      "Epoch 57/100\n",
      "1181898/1181898 [==============================] - 8s 6us/step - loss: 0.0331 - val_loss: 0.0342\n",
      "Epoch 58/100\n",
      "1181898/1181898 [==============================] - 8s 7us/step - loss: 0.0333 - val_loss: 0.0327\n",
      "Epoch 59/100\n",
      "1181898/1181898 [==============================] - 8s 6us/step - loss: 0.0329 - val_loss: 0.0338\n",
      "Epoch 60/100\n",
      "1181898/1181898 [==============================] - 7s 6us/step - loss: 0.0326 - val_loss: 0.0329\n",
      "Epoch 61/100\n",
      "1181898/1181898 [==============================] - 8s 7us/step - loss: 0.0329 - val_loss: 0.0340\n",
      "Epoch 62/100\n",
      "1181898/1181898 [==============================] - 8s 7us/step - loss: 0.0326 - val_loss: 0.0321\n",
      "Epoch 63/100\n",
      "1181898/1181898 [==============================] - 8s 6us/step - loss: 0.0323 - val_loss: 0.0319\n",
      "Epoch 64/100\n",
      "1181898/1181898 [==============================] - 8s 7us/step - loss: 0.0325 - val_loss: 0.0323\n",
      "Epoch 65/100\n",
      "1181898/1181898 [==============================] - 8s 6us/step - loss: 0.0325 - val_loss: 0.0325\n",
      "Epoch 66/100\n",
      "1181898/1181898 [==============================] - 8s 6us/step - loss: 0.0332 - val_loss: 0.0333\n",
      "Epoch 67/100\n",
      "1181898/1181898 [==============================] - 8s 6us/step - loss: 0.0331 - val_loss: 0.0329\n",
      "Epoch 68/100\n",
      "1181898/1181898 [==============================] - 8s 7us/step - loss: 0.0354 - val_loss: 0.0398\n",
      "Epoch 69/100\n",
      "1181898/1181898 [==============================] - 8s 7us/step - loss: 0.0365 - val_loss: 0.0339\n",
      "Epoch 70/100\n",
      "1181898/1181898 [==============================] - 8s 7us/step - loss: 0.0343 - val_loss: 0.0388\n",
      "Epoch 71/100\n",
      "1181898/1181898 [==============================] - 8s 7us/step - loss: 0.0349 - val_loss: 0.0341\n",
      "Epoch 72/100\n",
      "1181898/1181898 [==============================] - 8s 7us/step - loss: 0.0333 - val_loss: 0.0342\n",
      "Epoch 73/100\n",
      "1181898/1181898 [==============================] - 8s 7us/step - loss: 0.0331 - val_loss: 0.0329\n"
     ]
    }
   ],
   "source": [
    "hist = vae.fit(x_train, x_train,\n",
    "               shuffle=True,\n",
    "               epochs=epochs,\n",
    "               batch_size=batch_size,\n",
    "               validation_data=(x_val, x_val),\n",
    "               callbacks=my_callbacks)"
   ]
  },
  {
   "cell_type": "markdown",
   "metadata": {},
   "source": [
    "# Visualization"
   ]
  },
  {
   "cell_type": "code",
   "execution_count": 25,
   "metadata": {},
   "outputs": [],
   "source": [
    "import matplotlib.pyplot as plt"
   ]
  },
  {
   "cell_type": "code",
   "execution_count": 26,
   "metadata": {},
   "outputs": [
    {
     "data": {
      "image/png": "[encoded data removed]",
      "text/plain": [
       "<Figure size 432x266.991 with 1 Axes>"
      ]
     },
     "metadata": {
      "needs_background": "light"
     },
     "output_type": "display_data"
    }
   ],
   "source": [
    "golden_size = lambda width: (width, 2. * width / (1 + np.sqrt(5)))\n",
    "\n",
    "fig, ax = plt.subplots(figsize=golden_size(6))\n",
    "\n",
    "hist_df = pd.DataFrame(hist.history)\n",
    "hist_df.plot(ax=ax)\n",
    "\n",
    "ax.set_ylabel('NELBO')\n",
    "ax.set_xlabel('# epochs')\n",
    "\n",
    "ax.set_ylim(.99*hist_df[1:].values.min(), \n",
    "            1.1*hist_df[1:].values.max())\n",
    "plt.show()"
   ]
  },
  {
   "cell_type": "code",
   "execution_count": 27,
   "metadata": {},
   "outputs": [],
   "source": [
    "predictions = vae.predict(x_test)"
   ]
  },
  {
   "cell_type": "code",
   "execution_count": 28,
   "metadata": {},
   "outputs": [
    {
     "data": {
      "text/plain": [
       "array([[-9.5884502e-04,  5.6366026e-03, -3.3641636e-02, -4.7911471e-01],\n",
       "       [-7.5654685e-04,  2.6030213e-02, -2.0530540e-01, -4.0508780e-01],\n",
       "       [-3.1583011e-04,  7.6567233e-03,  7.8493953e-03, -4.9372774e-01],\n",
       "       ...,\n",
       "       [ 2.4306327e-03,  9.9267066e-03,  5.0237834e-02, -4.6117729e-01],\n",
       "       [ 5.1481277e-03, -2.6258826e-04, -6.5738976e-02, -4.6009445e-01],\n",
       "       [ 1.8546134e-03,  4.4232905e-03, -2.1239102e-02, -4.8402095e-01]],\n",
       "      dtype=float32)"
      ]
     },
     "execution_count": 28,
     "metadata": {},
     "output_type": "execute_result"
    }
   ],
   "source": [
    "predictions"
   ]
  },
  {
   "cell_type": "code",
   "execution_count": 29,
   "metadata": {},
   "outputs": [],
   "source": [
    "distr = (x_test - predictions) / x_test"
   ]
  },
  {
   "cell_type": "code",
   "execution_count": 30,
   "metadata": {},
   "outputs": [],
   "source": [
    "px_pred = [row[0] for row in predictions]\n",
    "py_pred = [row[1] for row in predictions]\n",
    "pz_pred = [row[2] for row in predictions]\n",
    "e_pred = [row[3] for row in predictions]"
   ]
  },
  {
   "cell_type": "code",
   "execution_count": 31,
   "metadata": {},
   "outputs": [],
   "source": [
    "px = [row[0] for row in x_test]\n",
    "py = [row[1] for row in x_test]\n",
    "pz = [row[2] for row in x_test]\n",
    "e = [row[3] for row in x_test]"
   ]
  },
  {
   "cell_type": "markdown",
   "metadata": {},
   "source": [
    "## Stacking output (orange) over input (blue) for pT, eta, phi, m"
   ]
  },
  {
   "cell_type": "code",
   "execution_count": 32,
   "metadata": {},
   "outputs": [
    {
     "data": {
      "image/png": "[encoded data removed]",
      "text/plain": [
       "<Figure size 432x288 with 1 Axes>"
      ]
     },
     "metadata": {
      "needs_background": "light"
     },
     "output_type": "display_data"
    }
   ],
   "source": [
    "bins = np.linspace(-0.3, 0.3, 30)\n",
    "plt.hist(px, bins=bins,alpha=0.5)\n",
    "plt.hist(px_pred, bins=bins,alpha=0.5)\n",
    "bins = np.linspace(-0.45, -0.2, 40)"
   ]
  },
  {
   "cell_type": "code",
   "execution_count": 33,
   "metadata": {},
   "outputs": [
    {
     "data": {
      "text/plain": [
       "(array([   91.,   124.,   123.,   137.,   137.,   140.,   160.,   241.,\n",
       "          316.,   333.,   325.,   364.,   511.,  1357., 84188., 23983.,\n",
       "         6783.,  2802.,  1012.,   684.,   471.,   365.,   274.,   222.,\n",
       "          185.,   166.,   149.,   104.,   103.]),\n",
       " array([-0.3       , -0.27931034, -0.25862069, -0.23793103, -0.21724138,\n",
       "        -0.19655172, -0.17586207, -0.15517241, -0.13448276, -0.1137931 ,\n",
       "        -0.09310345, -0.07241379, -0.05172414, -0.03103448, -0.01034483,\n",
       "         0.01034483,  0.03103448,  0.05172414,  0.07241379,  0.09310345,\n",
       "         0.1137931 ,  0.13448276,  0.15517241,  0.17586207,  0.19655172,\n",
       "         0.21724138,  0.23793103,  0.25862069,  0.27931034,  0.3       ]),\n",
       " <a list of 29 Patch objects>)"
      ]
     },
     "execution_count": 33,
     "metadata": {},
     "output_type": "execute_result"
    },
    {
     "data": {
      "image/png": "[encoded data removed]",
      "text/plain": [
       "<Figure size 432x288 with 1 Axes>"
      ]
     },
     "metadata": {
      "needs_background": "light"
     },
     "output_type": "display_data"
    }
   ],
   "source": [
    "bins = np.linspace(-0.3, 0.3, 30)\n",
    "plt.hist(py, bins=bins,alpha=0.5)\n",
    "plt.hist(py_pred, bins=bins,alpha=0.5)"
   ]
  },
  {
   "cell_type": "code",
   "execution_count": 34,
   "metadata": {},
   "outputs": [
    {
     "data": {
      "text/plain": [
       "(array([  247.,   673.,  1291.,   993.,  1167.,  1433.,  1541.,  1431.,\n",
       "         1688.,  2099.,  3197.,  4672.,  7344., 13920., 37062., 11843.,\n",
       "         6441.,  4117.,  2968.,  2196.,  1683.,  1385.,  1105.,   968.,\n",
       "          821.,   741.,   614.,   531.,   547.]),\n",
       " array([-0.3       , -0.27931034, -0.25862069, -0.23793103, -0.21724138,\n",
       "        -0.19655172, -0.17586207, -0.15517241, -0.13448276, -0.1137931 ,\n",
       "        -0.09310345, -0.07241379, -0.05172414, -0.03103448, -0.01034483,\n",
       "         0.01034483,  0.03103448,  0.05172414,  0.07241379,  0.09310345,\n",
       "         0.1137931 ,  0.13448276,  0.15517241,  0.17586207,  0.19655172,\n",
       "         0.21724138,  0.23793103,  0.25862069,  0.27931034,  0.3       ]),\n",
       " <a list of 29 Patch objects>)"
      ]
     },
     "execution_count": 34,
     "metadata": {},
     "output_type": "execute_result"
    },
    {
     "data": {
      "image/png": "[encoded data removed]",
      "text/plain": [
       "<Figure size 432x288 with 1 Axes>"
      ]
     },
     "metadata": {
      "needs_background": "light"
     },
     "output_type": "display_data"
    }
   ],
   "source": [
    "bins = np.linspace(-0.3, 0.3, 30)\n",
    "plt.hist(pz, bins=bins,alpha=0.5)\n",
    "plt.hist(pz_pred, bins=bins,alpha=0.5)"
   ]
  },
  {
   "cell_type": "code",
   "execution_count": 35,
   "metadata": {},
   "outputs": [
    {
     "data": {
      "text/plain": [
       "(array([    0.,     0.,     0.,     0.,     0.,     0.,     0.,     0.,\n",
       "            0.,     0.,     0.,     0.,     0.,     0.,     0.,     0.,\n",
       "            0.,     0., 85186., 20459.,  4411.,  2715.,  2905.,  1771.,\n",
       "         1310.,  1259.,  1007.,   774.,   706.,   661.,   599.,   557.,\n",
       "          485.,   368.,   328.,   252.,   241.,   231.,   219.,   321.,\n",
       "          440.,   615.,   727.,  1060.,  1133.,  2762.,  1377.,  1175.,\n",
       "         1107.]),\n",
       " array([-2.        , -1.91836735, -1.83673469, -1.75510204, -1.67346939,\n",
       "        -1.59183673, -1.51020408, -1.42857143, -1.34693878, -1.26530612,\n",
       "        -1.18367347, -1.10204082, -1.02040816, -0.93877551, -0.85714286,\n",
       "        -0.7755102 , -0.69387755, -0.6122449 , -0.53061224, -0.44897959,\n",
       "        -0.36734694, -0.28571429, -0.20408163, -0.12244898, -0.04081633,\n",
       "         0.04081633,  0.12244898,  0.20408163,  0.28571429,  0.36734694,\n",
       "         0.44897959,  0.53061224,  0.6122449 ,  0.69387755,  0.7755102 ,\n",
       "         0.85714286,  0.93877551,  1.02040816,  1.10204082,  1.18367347,\n",
       "         1.26530612,  1.34693878,  1.42857143,  1.51020408,  1.59183673,\n",
       "         1.67346939,  1.75510204,  1.83673469,  1.91836735,  2.        ]),\n",
       " <a list of 49 Patch objects>)"
      ]
     },
     "execution_count": 35,
     "metadata": {},
     "output_type": "execute_result"
    },
    {
     "data": {
      "image/png": "[encoded data removed]",
      "text/plain": [
       "<Figure size 432x288 with 1 Axes>"
      ]
     },
     "metadata": {
      "needs_background": "light"
     },
     "output_type": "display_data"
    }
   ],
   "source": [
    "bins = np.linspace(-2,2, 50)\n",
    "plt.hist(e, bins=bins,alpha=0.5)\n",
    "plt.hist(e_pred, bins=bins,alpha=0.5)"
   ]
  },
  {
   "cell_type": "code",
   "execution_count": 36,
   "metadata": {},
   "outputs": [],
   "source": [
    "d_px = [row[0] for row in distr]\n",
    "d_py = [row[1] for row in distr]\n",
    "d_pz = [row[2] for row in distr]\n",
    "d_e = [row[3] for row in distr]"
   ]
  },
  {
   "cell_type": "markdown",
   "metadata": {},
   "source": [
    "## Distribution of (input - output) / input"
   ]
  },
  {
   "cell_type": "code",
   "execution_count": 37,
   "metadata": {},
   "outputs": [],
   "source": [
    "bins = np.linspace(-2, 2, 30)"
   ]
  },
  {
   "cell_type": "code",
   "execution_count": 38,
   "metadata": {},
   "outputs": [
    {
     "data": {
      "text/plain": [
       "(array([  699.,   744.,   853.,   826.,   933.,  1096.,  1247.,  1366.,\n",
       "         1607.,  1834.,  2152.,  2807.,  4038.,  7588., 12944.,  9643.,\n",
       "         7995.,  7801.,  8134.,  9744.,  9019.,  5461.,  3860.,  3018.,\n",
       "         2348.,  1992.,  1790.,  1541.,  1374.]),\n",
       " array([-2.        , -1.86206897, -1.72413793, -1.5862069 , -1.44827586,\n",
       "        -1.31034483, -1.17241379, -1.03448276, -0.89655172, -0.75862069,\n",
       "        -0.62068966, -0.48275862, -0.34482759, -0.20689655, -0.06896552,\n",
       "         0.06896552,  0.20689655,  0.34482759,  0.48275862,  0.62068966,\n",
       "         0.75862069,  0.89655172,  1.03448276,  1.17241379,  1.31034483,\n",
       "         1.44827586,  1.5862069 ,  1.72413793,  1.86206897,  2.        ]),\n",
       " <a list of 29 Patch objects>)"
      ]
     },
     "execution_count": 38,
     "metadata": {},
     "output_type": "execute_result"
    },
    {
     "data": {
      "image/png": "[encoded data removed]",
      "text/plain": [
       "<Figure size 432x288 with 1 Axes>"
      ]
     },
     "metadata": {
      "needs_background": "light"
     },
     "output_type": "display_data"
    }
   ],
   "source": [
    "plt.hist(d_px, bins=bins)"
   ]
  },
  {
   "cell_type": "code",
   "execution_count": 39,
   "metadata": {},
   "outputs": [
    {
     "data": {
      "text/plain": [
       "(array([ 842.,  877.,  906.,  908., 1023., 1026., 1084., 1244., 1278.,\n",
       "        1462., 1689., 2058., 2812., 4858., 8022., 6677., 3927., 3118.,\n",
       "        2952., 3147., 3397., 3652., 3072., 2665., 2275., 2091., 1771.,\n",
       "        1648., 1529.]),\n",
       " array([-2.        , -1.86206897, -1.72413793, -1.5862069 , -1.44827586,\n",
       "        -1.31034483, -1.17241379, -1.03448276, -0.89655172, -0.75862069,\n",
       "        -0.62068966, -0.48275862, -0.34482759, -0.20689655, -0.06896552,\n",
       "         0.06896552,  0.20689655,  0.34482759,  0.48275862,  0.62068966,\n",
       "         0.75862069,  0.89655172,  1.03448276,  1.17241379,  1.31034483,\n",
       "         1.44827586,  1.5862069 ,  1.72413793,  1.86206897,  2.        ]),\n",
       " <a list of 29 Patch objects>)"
      ]
     },
     "execution_count": 39,
     "metadata": {},
     "output_type": "execute_result"
    },
    {
     "data": {
      "image/png": "[encoded data removed]",
      "text/plain": [
       "<Figure size 432x288 with 1 Axes>"
      ]
     },
     "metadata": {
      "needs_background": "light"
     },
     "output_type": "display_data"
    }
   ],
   "source": [
    "plt.hist(d_py, bins=bins)"
   ]
  },
  {
   "cell_type": "code",
   "execution_count": 40,
   "metadata": {},
   "outputs": [
    {
     "data": {
      "text/plain": [
       "(array([  238.,   284.,   301.,   355.,   388.,   545.,   616.,   797.,\n",
       "         1067.,  1354.,  1982.,  3681.,  6988., 23410., 44443., 22353.,\n",
       "         8022.,  4460.,  5279.,  4059.,  2640.,  1874.,  1333.,   960.,\n",
       "          715.,   635.,   512.,   461.,   345.]),\n",
       " array([-2.        , -1.86206897, -1.72413793, -1.5862069 , -1.44827586,\n",
       "        -1.31034483, -1.17241379, -1.03448276, -0.89655172, -0.75862069,\n",
       "        -0.62068966, -0.48275862, -0.34482759, -0.20689655, -0.06896552,\n",
       "         0.06896552,  0.20689655,  0.34482759,  0.48275862,  0.62068966,\n",
       "         0.75862069,  0.89655172,  1.03448276,  1.17241379,  1.31034483,\n",
       "         1.44827586,  1.5862069 ,  1.72413793,  1.86206897,  2.        ]),\n",
       " <a list of 29 Patch objects>)"
      ]
     },
     "execution_count": 40,
     "metadata": {},
     "output_type": "execute_result"
    },
    {
     "data": {
      "image/png": "[encoded data removed]",
      "text/plain": [
       "<Figure size 432x288 with 1 Axes>"
      ]
     },
     "metadata": {
      "needs_background": "light"
     },
     "output_type": "display_data"
    }
   ],
   "source": [
    "plt.hist(d_pz, bins=bins)"
   ]
  }
 ],
 "metadata": {
  "kernelspec": {
   "display_name": "Python 3",
   "language": "python",
   "name": "python3"
  },
  "language_info": {
   "codemirror_mode": {
    "name": "ipython",
    "version": 3
   },
   "file_extension": ".py",
   "mimetype": "text/x-python",
   "name": "python",
   "nbconvert_exporter": "python",
   "pygments_lexer": "ipython3",
   "version": "3.7.6"
  }
 },
 "nbformat": 4,
 "nbformat_minor": 4
}
