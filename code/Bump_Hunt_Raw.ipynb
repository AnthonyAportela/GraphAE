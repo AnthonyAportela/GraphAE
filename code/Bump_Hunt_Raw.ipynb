{
 "cells": [
  {
   "cell_type": "code",
   "execution_count": 1,
   "metadata": {},
   "outputs": [],
   "source": [
    "import pandas as pd\n",
    "import numpy as np\n",
    "from pyjet import cluster,DTYPE_PTEPM\n",
    "import math\n",
    "import h5py"
   ]
  },
  {
   "cell_type": "markdown",
   "metadata": {},
   "source": [
    "# Pre processing"
   ]
  },
  {
   "cell_type": "code",
   "execution_count": 2,
   "metadata": {},
   "outputs": [],
   "source": [
    "# m_12 = sqrt ( (E_1 + E_2)^2 - (p_x1 + p_x2)^2 - (p_y1 + p_y2)^2 - (p_z1 + p_z2)^2 )\n",
    "def invariant_mass(jet1, jet2):\n",
    "    return math.sqrt((jet1.e + jet2.e)**2 - (jet1.px + jet2.px)**2 - (jet1.py + jet2.py)**2 - (jet1.pz + jet2.pz)**2)"
   ]
  },
  {
   "cell_type": "code",
   "execution_count": 3,
   "metadata": {},
   "outputs": [],
   "source": [
    "path = '/anomalyvol/data/events_LHCO2020_BlackBox1.h5'"
   ]
  },
  {
   "cell_type": "code",
   "execution_count": 4,
   "metadata": {},
   "outputs": [],
   "source": [
    "chunk_size = 20000\n",
    "total_size = 1000000 # 1 mil max\n",
    "\n",
    "def generator(path, chunk_size=10000,total_size=1000000):\n",
    "    i = 0\n",
    "    \n",
    "    while True:\n",
    "        yield pd.read_hdf(path,start=i*chunk_size, stop=(i+1)*chunk_size)\n",
    "        \n",
    "        i+=1\n",
    "        if (i+1)*chunk_size > total_size:\n",
    "            i=0\n",
    "\n",
    "gen = generator(path, chunk_size, total_size)"
   ]
  },
  {
   "cell_type": "code",
   "execution_count": null,
   "metadata": {},
   "outputs": [],
   "source": [
    "data = []\n",
    "\n",
    "for iteration in range(total_size // chunk_size):\n",
    "    \n",
    "    events = np.array(next(gen))\n",
    "    rows = events.shape[0]\n",
    "    cols = events.shape[1]\n",
    "\n",
    "    for i in range(rows):\n",
    "        pseudojets_input = np.zeros(len([x for x in events[i][::3] if x > 0]), dtype=DTYPE_PTEPM)\n",
    "        for j in range(cols // 3):\n",
    "            if (events[i][j*3]>0):\n",
    "                pseudojets_input[j]['pT'] = events[i][j*3]\n",
    "                pseudojets_input[j]['eta'] = events[i][j*3+1]\n",
    "                pseudojets_input[j]['phi'] = events[i][j*3+2]\n",
    "            pass\n",
    "        # cluster jets from the particles in one observation\n",
    "        sequence = cluster(pseudojets_input, R=1.0, p=-1)\n",
    "        jets = sequence.inclusive_jets()\n",
    "        mass = invariant_mass(jets[0], jets[1])\n",
    "        data.append(mass)"
   ]
  },
  {
   "cell_type": "code",
   "execution_count": null,
   "metadata": {},
   "outputs": [],
   "source": [
    "loaded_data = data\n",
    "# data = loaded_data"
   ]
  },
  {
   "cell_type": "code",
   "execution_count": null,
   "metadata": {},
   "outputs": [],
   "source": [
    "df = pd.DataFrame(data)"
   ]
  },
  {
   "cell_type": "code",
   "execution_count": null,
   "metadata": {},
   "outputs": [],
   "source": [
    "df.plot.line()"
   ]
  },
  {
   "cell_type": "code",
   "execution_count": null,
   "metadata": {},
   "outputs": [],
   "source": [
    "outliers = df.loc[df > 8000]"
   ]
  },
  {
   "cell_type": "code",
   "execution_count": null,
   "metadata": {},
   "outputs": [],
   "source": [
    "len(outliers) / len(df)"
   ]
  }
 ],
 "metadata": {
  "kernelspec": {
   "display_name": "Python 3",
   "language": "python",
   "name": "python3"
  },
  "language_info": {
   "codemirror_mode": {
    "name": "ipython",
    "version": 3
   },
   "file_extension": ".py",
   "mimetype": "text/x-python",
   "name": "python",
   "nbconvert_exporter": "python",
   "pygments_lexer": "ipython3",
   "version": "3.7.6"
  }
 },
 "nbformat": 4,
 "nbformat_minor": 4
}
