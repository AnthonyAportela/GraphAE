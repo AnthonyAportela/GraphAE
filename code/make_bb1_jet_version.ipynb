{
 "cells": [
  {
   "cell_type": "code",
   "execution_count": 1,
   "metadata": {},
   "outputs": [],
   "source": [
    "import pandas as pd\n",
    "import numpy as np\n",
    "from pyjet import cluster,DTYPE_PTEPM\n",
    "from sklearn import preprocessing\n",
    "from scipy.stats import iqr\n",
    "import tensorflow as tf\n",
    "import math\n",
    "import h5py"
   ]
  },
  {
   "cell_type": "markdown",
   "metadata": {},
   "source": [
    "# Pre processing"
   ]
  },
  {
   "cell_type": "code",
   "execution_count": 2,
   "metadata": {},
   "outputs": [],
   "source": [
    "path = '/anomalyvol/data/events_LHCO2020_BlackBox1.h5'"
   ]
  },
  {
   "cell_type": "code",
   "execution_count": 3,
   "metadata": {},
   "outputs": [],
   "source": [
    "chunk_size = 10000\n",
    "total_size = 1000000 # 1 mil max\n",
    "\n",
    "def generator(path, chunk_size=10000,total_size=1000000):\n",
    "    i = 0\n",
    "    \n",
    "    while True:\n",
    "        yield pd.read_hdf(path,start=i*chunk_size, stop=(i+1)*chunk_size)\n",
    "        \n",
    "        i+=1\n",
    "        if (i+1)*chunk_size > total_size:\n",
    "            i=0\n",
    "\n",
    "gen = generator(path, chunk_size, total_size)"
   ]
  },
  {
   "cell_type": "code",
   "execution_count": 4,
   "metadata": {},
   "outputs": [],
   "source": [
    "data = []\n",
    "\n",
    "for iteration in range(total_size // chunk_size):\n",
    "    \n",
    "    events = np.array(next(gen))\n",
    "    rows = events.shape[0]\n",
    "    cols = events.shape[1]\n",
    "\n",
    "    for i in range(rows):\n",
    "        pseudojets_input = np.zeros(len([x for x in events[i][::3] if x > 0]), dtype=DTYPE_PTEPM)\n",
    "        for j in range(cols // 3):\n",
    "            if (events[i][j*3]>0):\n",
    "                pseudojets_input[j]['pT'] = events[i][j*3]\n",
    "                pseudojets_input[j]['eta'] = events[i][j*3+1]\n",
    "                pseudojets_input[j]['phi'] = events[i][j*3+2]\n",
    "            pass\n",
    "        # cluster jets from the particles in one observation\n",
    "        sequence = cluster(pseudojets_input, R=1.0, p=-1)\n",
    "        jets = sequence.inclusive_jets()\n",
    "        for k in range(len(jets)): # for each jet get (px, py, pz, e)\n",
    "            jet = []\n",
    "            jet.append(jets[k].px)\n",
    "            jet.append(jets[k].py)\n",
    "            jet.append(jets[k].pz)\n",
    "            jet.append(jets[k].e)\n",
    "            # might be useful later for bump hunt\n",
    "            jet.append(jets[k].pt)\n",
    "            jet.append(jets[k].eta)\n",
    "            jet.append(jets[k].phi)\n",
    "            jet.append(jets[k].mass)\n",
    "            data.append(jet)"
   ]
  },
  {
   "cell_type": "code",
   "execution_count": 5,
   "metadata": {},
   "outputs": [],
   "source": [
    "loaded_data = data\n",
    "# data = loaded_data"
   ]
  },
  {
   "cell_type": "code",
   "execution_count": 6,
   "metadata": {},
   "outputs": [
    {
     "data": {
      "text/plain": [
       "(12854821, 8)"
      ]
     },
     "execution_count": 6,
     "metadata": {},
     "output_type": "execute_result"
    }
   ],
   "source": [
    "data = np.array(data)\n",
    "data.shape"
   ]
  },
  {
   "cell_type": "code",
   "execution_count": 8,
   "metadata": {},
   "outputs": [
    {
     "data": {
      "text/plain": [
       "<HDF5 dataset \"blackbox1_jets\": shape (12854821, 8), type \"<f8\">"
      ]
     },
     "execution_count": 8,
     "metadata": {},
     "output_type": "execute_result"
    }
   ],
   "source": [
    "# save jet_ver dataset\n",
    "\n",
    "new_file = '/anomalyvol/data/jet_ver/blackbox1.h5'\n",
    "f = h5py.File(new_file, 'w')\n",
    "f.create_dataset('blackbox1_jets', data=data)"
   ]
  }
 ],
 "metadata": {
  "kernelspec": {
   "display_name": "Python 3",
   "language": "python",
   "name": "python3"
  },
  "language_info": {
   "codemirror_mode": {
    "name": "ipython",
    "version": 3
   },
   "file_extension": ".py",
   "mimetype": "text/x-python",
   "name": "python",
   "nbconvert_exporter": "python",
   "pygments_lexer": "ipython3",
   "version": "3.7.6"
  }
 },
 "nbformat": 4,
 "nbformat_minor": 4
}
