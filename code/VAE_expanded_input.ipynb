{
 "cells": [
  {
   "cell_type": "code",
   "execution_count": 1,
   "metadata": {},
   "outputs": [],
   "source": [
    "import pandas as pd\n",
    "import numpy as np\n",
    "from pyjet import cluster,DTYPE_PTEPM\n",
    "from sklearn import preprocessing\n",
    "import tensorflow as tf"
   ]
  },
  {
   "cell_type": "markdown",
   "metadata": {},
   "source": [
    "# Pre processing"
   ]
  },
  {
   "cell_type": "code",
   "execution_count": 2,
   "metadata": {},
   "outputs": [],
   "source": [
    "path = '/anomalyvol/data/events_LHCO2020_backgroundMC_Pythia.h5'"
   ]
  },
  {
   "cell_type": "code",
   "execution_count": 3,
   "metadata": {
    "scrolled": true
   },
   "outputs": [
    {
     "data": {
      "text/html": [
       "<div>\n",
       "<style scoped>\n",
       "    .dataframe tbody tr th:only-of-type {\n",
       "        vertical-align: middle;\n",
       "    }\n",
       "\n",
       "    .dataframe tbody tr th {\n",
       "        vertical-align: top;\n",
       "    }\n",
       "\n",
       "    .dataframe thead th {\n",
       "        text-align: right;\n",
       "    }\n",
       "</style>\n",
       "<table border=\"1\" class=\"dataframe\">\n",
       "  <thead>\n",
       "    <tr style=\"text-align: right;\">\n",
       "      <th></th>\n",
       "      <th>0</th>\n",
       "      <th>1</th>\n",
       "      <th>2</th>\n",
       "      <th>3</th>\n",
       "      <th>4</th>\n",
       "      <th>5</th>\n",
       "      <th>6</th>\n",
       "      <th>7</th>\n",
       "      <th>8</th>\n",
       "      <th>9</th>\n",
       "      <th>...</th>\n",
       "      <th>2090</th>\n",
       "      <th>2091</th>\n",
       "      <th>2092</th>\n",
       "      <th>2093</th>\n",
       "      <th>2094</th>\n",
       "      <th>2095</th>\n",
       "      <th>2096</th>\n",
       "      <th>2097</th>\n",
       "      <th>2098</th>\n",
       "      <th>2099</th>\n",
       "    </tr>\n",
       "  </thead>\n",
       "  <tbody>\n",
       "    <tr>\n",
       "      <th>0</th>\n",
       "      <td>3.587869</td>\n",
       "      <td>-2.323472</td>\n",
       "      <td>-2.597121</td>\n",
       "      <td>1.497173</td>\n",
       "      <td>-2.480994</td>\n",
       "      <td>-2.269457</td>\n",
       "      <td>0.848844</td>\n",
       "      <td>-2.465643</td>\n",
       "      <td>-2.096595</td>\n",
       "      <td>0.961511</td>\n",
       "      <td>...</td>\n",
       "      <td>0.0</td>\n",
       "      <td>0.0</td>\n",
       "      <td>0.0</td>\n",
       "      <td>0.0</td>\n",
       "      <td>0.0</td>\n",
       "      <td>0.0</td>\n",
       "      <td>0.0</td>\n",
       "      <td>0.0</td>\n",
       "      <td>0.0</td>\n",
       "      <td>0.0</td>\n",
       "    </tr>\n",
       "    <tr>\n",
       "      <th>1</th>\n",
       "      <td>0.921213</td>\n",
       "      <td>-0.745233</td>\n",
       "      <td>1.018857</td>\n",
       "      <td>0.689363</td>\n",
       "      <td>-0.642245</td>\n",
       "      <td>3.050711</td>\n",
       "      <td>1.999174</td>\n",
       "      <td>-0.343135</td>\n",
       "      <td>-0.322586</td>\n",
       "      <td>1.580572</td>\n",
       "      <td>...</td>\n",
       "      <td>0.0</td>\n",
       "      <td>0.0</td>\n",
       "      <td>0.0</td>\n",
       "      <td>0.0</td>\n",
       "      <td>0.0</td>\n",
       "      <td>0.0</td>\n",
       "      <td>0.0</td>\n",
       "      <td>0.0</td>\n",
       "      <td>0.0</td>\n",
       "      <td>0.0</td>\n",
       "    </tr>\n",
       "    <tr>\n",
       "      <th>2</th>\n",
       "      <td>0.580352</td>\n",
       "      <td>-2.412026</td>\n",
       "      <td>1.680236</td>\n",
       "      <td>0.429869</td>\n",
       "      <td>-0.778697</td>\n",
       "      <td>-1.453413</td>\n",
       "      <td>0.856914</td>\n",
       "      <td>-2.243512</td>\n",
       "      <td>0.217628</td>\n",
       "      <td>0.407344</td>\n",
       "      <td>...</td>\n",
       "      <td>0.0</td>\n",
       "      <td>0.0</td>\n",
       "      <td>0.0</td>\n",
       "      <td>0.0</td>\n",
       "      <td>0.0</td>\n",
       "      <td>0.0</td>\n",
       "      <td>0.0</td>\n",
       "      <td>0.0</td>\n",
       "      <td>0.0</td>\n",
       "      <td>0.0</td>\n",
       "    </tr>\n",
       "    <tr>\n",
       "      <th>3</th>\n",
       "      <td>0.579134</td>\n",
       "      <td>-0.243543</td>\n",
       "      <td>-2.561824</td>\n",
       "      <td>0.312690</td>\n",
       "      <td>-0.283086</td>\n",
       "      <td>-0.281626</td>\n",
       "      <td>0.775053</td>\n",
       "      <td>-2.062494</td>\n",
       "      <td>-1.598718</td>\n",
       "      <td>0.868891</td>\n",
       "      <td>...</td>\n",
       "      <td>0.0</td>\n",
       "      <td>0.0</td>\n",
       "      <td>0.0</td>\n",
       "      <td>0.0</td>\n",
       "      <td>0.0</td>\n",
       "      <td>0.0</td>\n",
       "      <td>0.0</td>\n",
       "      <td>0.0</td>\n",
       "      <td>0.0</td>\n",
       "      <td>0.0</td>\n",
       "    </tr>\n",
       "    <tr>\n",
       "      <th>4</th>\n",
       "      <td>0.644219</td>\n",
       "      <td>-2.457281</td>\n",
       "      <td>-2.670996</td>\n",
       "      <td>0.186128</td>\n",
       "      <td>-1.757650</td>\n",
       "      <td>2.719159</td>\n",
       "      <td>0.346987</td>\n",
       "      <td>-2.318233</td>\n",
       "      <td>-0.155036</td>\n",
       "      <td>0.501437</td>\n",
       "      <td>...</td>\n",
       "      <td>0.0</td>\n",
       "      <td>0.0</td>\n",
       "      <td>0.0</td>\n",
       "      <td>0.0</td>\n",
       "      <td>0.0</td>\n",
       "      <td>0.0</td>\n",
       "      <td>0.0</td>\n",
       "      <td>0.0</td>\n",
       "      <td>0.0</td>\n",
       "      <td>0.0</td>\n",
       "    </tr>\n",
       "    <tr>\n",
       "      <th>...</th>\n",
       "      <td>...</td>\n",
       "      <td>...</td>\n",
       "      <td>...</td>\n",
       "      <td>...</td>\n",
       "      <td>...</td>\n",
       "      <td>...</td>\n",
       "      <td>...</td>\n",
       "      <td>...</td>\n",
       "      <td>...</td>\n",
       "      <td>...</td>\n",
       "      <td>...</td>\n",
       "      <td>...</td>\n",
       "      <td>...</td>\n",
       "      <td>...</td>\n",
       "      <td>...</td>\n",
       "      <td>...</td>\n",
       "      <td>...</td>\n",
       "      <td>...</td>\n",
       "      <td>...</td>\n",
       "      <td>...</td>\n",
       "      <td>...</td>\n",
       "    </tr>\n",
       "    <tr>\n",
       "      <th>9995</th>\n",
       "      <td>0.273899</td>\n",
       "      <td>-0.010251</td>\n",
       "      <td>-1.780153</td>\n",
       "      <td>0.305064</td>\n",
       "      <td>-0.107610</td>\n",
       "      <td>-1.089663</td>\n",
       "      <td>1.755664</td>\n",
       "      <td>-1.770638</td>\n",
       "      <td>-3.117163</td>\n",
       "      <td>0.902534</td>\n",
       "      <td>...</td>\n",
       "      <td>0.0</td>\n",
       "      <td>0.0</td>\n",
       "      <td>0.0</td>\n",
       "      <td>0.0</td>\n",
       "      <td>0.0</td>\n",
       "      <td>0.0</td>\n",
       "      <td>0.0</td>\n",
       "      <td>0.0</td>\n",
       "      <td>0.0</td>\n",
       "      <td>0.0</td>\n",
       "    </tr>\n",
       "    <tr>\n",
       "      <th>9996</th>\n",
       "      <td>0.730841</td>\n",
       "      <td>-2.293759</td>\n",
       "      <td>-1.150644</td>\n",
       "      <td>2.179489</td>\n",
       "      <td>-1.778682</td>\n",
       "      <td>1.374734</td>\n",
       "      <td>0.831901</td>\n",
       "      <td>-0.847175</td>\n",
       "      <td>-1.478671</td>\n",
       "      <td>1.819629</td>\n",
       "      <td>...</td>\n",
       "      <td>0.0</td>\n",
       "      <td>0.0</td>\n",
       "      <td>0.0</td>\n",
       "      <td>0.0</td>\n",
       "      <td>0.0</td>\n",
       "      <td>0.0</td>\n",
       "      <td>0.0</td>\n",
       "      <td>0.0</td>\n",
       "      <td>0.0</td>\n",
       "      <td>0.0</td>\n",
       "    </tr>\n",
       "    <tr>\n",
       "      <th>9997</th>\n",
       "      <td>0.369312</td>\n",
       "      <td>-1.935946</td>\n",
       "      <td>-0.509908</td>\n",
       "      <td>0.396563</td>\n",
       "      <td>-0.114723</td>\n",
       "      <td>-2.044191</td>\n",
       "      <td>3.002075</td>\n",
       "      <td>-0.085780</td>\n",
       "      <td>-1.920424</td>\n",
       "      <td>11.591479</td>\n",
       "      <td>...</td>\n",
       "      <td>0.0</td>\n",
       "      <td>0.0</td>\n",
       "      <td>0.0</td>\n",
       "      <td>0.0</td>\n",
       "      <td>0.0</td>\n",
       "      <td>0.0</td>\n",
       "      <td>0.0</td>\n",
       "      <td>0.0</td>\n",
       "      <td>0.0</td>\n",
       "      <td>0.0</td>\n",
       "    </tr>\n",
       "    <tr>\n",
       "      <th>9998</th>\n",
       "      <td>1.720358</td>\n",
       "      <td>-2.426640</td>\n",
       "      <td>0.815652</td>\n",
       "      <td>0.224197</td>\n",
       "      <td>-0.954293</td>\n",
       "      <td>0.221443</td>\n",
       "      <td>0.229740</td>\n",
       "      <td>-2.043807</td>\n",
       "      <td>-0.719433</td>\n",
       "      <td>0.469830</td>\n",
       "      <td>...</td>\n",
       "      <td>0.0</td>\n",
       "      <td>0.0</td>\n",
       "      <td>0.0</td>\n",
       "      <td>0.0</td>\n",
       "      <td>0.0</td>\n",
       "      <td>0.0</td>\n",
       "      <td>0.0</td>\n",
       "      <td>0.0</td>\n",
       "      <td>0.0</td>\n",
       "      <td>0.0</td>\n",
       "    </tr>\n",
       "    <tr>\n",
       "      <th>9999</th>\n",
       "      <td>0.234680</td>\n",
       "      <td>-0.497254</td>\n",
       "      <td>-0.466812</td>\n",
       "      <td>22.500483</td>\n",
       "      <td>-1.236650</td>\n",
       "      <td>2.304036</td>\n",
       "      <td>2.398535</td>\n",
       "      <td>-1.236605</td>\n",
       "      <td>2.474764</td>\n",
       "      <td>2.816089</td>\n",
       "      <td>...</td>\n",
       "      <td>0.0</td>\n",
       "      <td>0.0</td>\n",
       "      <td>0.0</td>\n",
       "      <td>0.0</td>\n",
       "      <td>0.0</td>\n",
       "      <td>0.0</td>\n",
       "      <td>0.0</td>\n",
       "      <td>0.0</td>\n",
       "      <td>0.0</td>\n",
       "      <td>0.0</td>\n",
       "    </tr>\n",
       "  </tbody>\n",
       "</table>\n",
       "<p>10000 rows × 2100 columns</p>\n",
       "</div>"
      ],
      "text/plain": [
       "          0         1         2          3         4         5         6     \\\n",
       "0     3.587869 -2.323472 -2.597121   1.497173 -2.480994 -2.269457  0.848844   \n",
       "1     0.921213 -0.745233  1.018857   0.689363 -0.642245  3.050711  1.999174   \n",
       "2     0.580352 -2.412026  1.680236   0.429869 -0.778697 -1.453413  0.856914   \n",
       "3     0.579134 -0.243543 -2.561824   0.312690 -0.283086 -0.281626  0.775053   \n",
       "4     0.644219 -2.457281 -2.670996   0.186128 -1.757650  2.719159  0.346987   \n",
       "...        ...       ...       ...        ...       ...       ...       ...   \n",
       "9995  0.273899 -0.010251 -1.780153   0.305064 -0.107610 -1.089663  1.755664   \n",
       "9996  0.730841 -2.293759 -1.150644   2.179489 -1.778682  1.374734  0.831901   \n",
       "9997  0.369312 -1.935946 -0.509908   0.396563 -0.114723 -2.044191  3.002075   \n",
       "9998  1.720358 -2.426640  0.815652   0.224197 -0.954293  0.221443  0.229740   \n",
       "9999  0.234680 -0.497254 -0.466812  22.500483 -1.236650  2.304036  2.398535   \n",
       "\n",
       "          7         8          9     ...  2090  2091  2092  2093  2094  2095  \\\n",
       "0    -2.465643 -2.096595   0.961511  ...   0.0   0.0   0.0   0.0   0.0   0.0   \n",
       "1    -0.343135 -0.322586   1.580572  ...   0.0   0.0   0.0   0.0   0.0   0.0   \n",
       "2    -2.243512  0.217628   0.407344  ...   0.0   0.0   0.0   0.0   0.0   0.0   \n",
       "3    -2.062494 -1.598718   0.868891  ...   0.0   0.0   0.0   0.0   0.0   0.0   \n",
       "4    -2.318233 -0.155036   0.501437  ...   0.0   0.0   0.0   0.0   0.0   0.0   \n",
       "...        ...       ...        ...  ...   ...   ...   ...   ...   ...   ...   \n",
       "9995 -1.770638 -3.117163   0.902534  ...   0.0   0.0   0.0   0.0   0.0   0.0   \n",
       "9996 -0.847175 -1.478671   1.819629  ...   0.0   0.0   0.0   0.0   0.0   0.0   \n",
       "9997 -0.085780 -1.920424  11.591479  ...   0.0   0.0   0.0   0.0   0.0   0.0   \n",
       "9998 -2.043807 -0.719433   0.469830  ...   0.0   0.0   0.0   0.0   0.0   0.0   \n",
       "9999 -1.236605  2.474764   2.816089  ...   0.0   0.0   0.0   0.0   0.0   0.0   \n",
       "\n",
       "      2096  2097  2098  2099  \n",
       "0      0.0   0.0   0.0   0.0  \n",
       "1      0.0   0.0   0.0   0.0  \n",
       "2      0.0   0.0   0.0   0.0  \n",
       "3      0.0   0.0   0.0   0.0  \n",
       "4      0.0   0.0   0.0   0.0  \n",
       "...    ...   ...   ...   ...  \n",
       "9995   0.0   0.0   0.0   0.0  \n",
       "9996   0.0   0.0   0.0   0.0  \n",
       "9997   0.0   0.0   0.0   0.0  \n",
       "9998   0.0   0.0   0.0   0.0  \n",
       "9999   0.0   0.0   0.0   0.0  \n",
       "\n",
       "[10000 rows x 2100 columns]"
      ]
     },
     "execution_count": 3,
     "metadata": {},
     "output_type": "execute_result"
    }
   ],
   "source": [
    "df = pd.read_hdf(path,stop=10000) # just read first 6000 events\n",
    "df"
   ]
  },
  {
   "cell_type": "code",
   "execution_count": 4,
   "metadata": {},
   "outputs": [],
   "source": [
    "all_events = df.values"
   ]
  },
  {
   "cell_type": "code",
   "execution_count": 5,
   "metadata": {},
   "outputs": [],
   "source": [
    "rows = all_events.shape[0]\n",
    "cols = all_events.shape[1]\n",
    "data = []"
   ]
  },
  {
   "cell_type": "code",
   "execution_count": 6,
   "metadata": {},
   "outputs": [],
   "source": [
    "for i in range(rows):\n",
    "    pseudojets_input = np.zeros(len([x for x in all_events[i][::3] if x > 0]), dtype=DTYPE_PTEPM)\n",
    "    for j in range(cols // 3):\n",
    "        if (all_events[i][j*3]>0):\n",
    "            pseudojets_input[j]['pT'] = all_events[i][j*3]\n",
    "            pseudojets_input[j]['eta'] = all_events[i][j*3+1]\n",
    "            pseudojets_input[j]['phi'] = all_events[i][j*3+2]\n",
    "        pass\n",
    "    sequence = cluster(pseudojets_input, R=1.0, p=-1)\n",
    "    jets = sequence.inclusive_jets()\n",
    "    for k in range(len(jets)):\n",
    "        jet_parts = [list(l) for l in jets[k].constituents_array()]\n",
    "        \n",
    "        # pad jets\n",
    "        if (len(jet_parts) < 100):\n",
    "            pads = 100 - len(jet_parts)\n",
    "            for p in range(pads):\n",
    "                jet_parts.append([0,0,0,0])\n",
    "        else:\n",
    "            jet_parts = jet_parts[0:100]  # just get 100 particles for this jet (arbitrary)\n",
    "    \n",
    "        data.append(jet_parts)"
   ]
  },
  {
   "cell_type": "code",
   "execution_count": 7,
   "metadata": {},
   "outputs": [],
   "source": [
    "# transform data into format easier for scaling with sklearn ([n_particles, 4])\n",
    "d = []\n",
    "for i in range(len(data)):\n",
    "    for j in range(100):\n",
    "        d.append(data[i][j])\n",
    "data = d"
   ]
  },
  {
   "cell_type": "code",
   "execution_count": 8,
   "metadata": {},
   "outputs": [
    {
     "data": {
      "text/plain": [
       "(14733100, 4)"
      ]
     },
     "execution_count": 8,
     "metadata": {},
     "output_type": "execute_result"
    }
   ],
   "source": [
    "data = np.array(data)\n",
    "data.shape"
   ]
  },
  {
   "cell_type": "code",
   "execution_count": 9,
   "metadata": {},
   "outputs": [],
   "source": [
    "# splitting data (rounding by 100)\n",
    "x_train = data[0:int(round(len(data) * 0.8, -2))]\n",
    "x_val = data[int(round(len(data) * 0.8, -2)):int(round(len(data) * 0.9, -2))]\n",
    "x_test = data[int(round(len(data) * 0.9, -2)):]"
   ]
  },
  {
   "cell_type": "code",
   "execution_count": 10,
   "metadata": {},
   "outputs": [],
   "source": [
    "# regularize\n",
    "scaler = preprocessing.StandardScaler()\n",
    "x_train = scaler.fit_transform(x_train)\n",
    "x_val = scaler.transform(x_val)\n",
    "x_test = scaler.transform(x_test)"
   ]
  },
  {
   "cell_type": "code",
   "execution_count": 11,
   "metadata": {},
   "outputs": [],
   "source": [
    "x_train = np.reshape(x_train, (-1,100,4))\n",
    "x_val = np.reshape(x_val, (-1,100,4))\n",
    "x_test = np.reshape(x_test, (-1,100,4))"
   ]
  },
  {
   "cell_type": "code",
   "execution_count": 12,
   "metadata": {},
   "outputs": [
    {
     "data": {
      "text/plain": [
       "(14733, 100, 4)"
      ]
     },
     "execution_count": 12,
     "metadata": {},
     "output_type": "execute_result"
    }
   ],
   "source": [
    "x_test.shape"
   ]
  },
  {
   "cell_type": "markdown",
   "metadata": {},
   "source": [
    "# VAE Model"
   ]
  },
  {
   "cell_type": "code",
   "execution_count": 13,
   "metadata": {},
   "outputs": [
    {
     "name": "stderr",
     "output_type": "stream",
     "text": [
      "Using TensorFlow backend.\n"
     ]
    }
   ],
   "source": [
    "import keras\n",
    "from keras.layers import Lambda, Input, Dense, Flatten, Reshape\n",
    "from keras.models import Model, Sequential\n",
    "from keras import metrics, losses\n",
    "from keras import backend as K"
   ]
  },
  {
   "cell_type": "code",
   "execution_count": 14,
   "metadata": {},
   "outputs": [],
   "source": [
    "def sampling(args):\n",
    "    \"\"\"\n",
    "    # Arguments\n",
    "        args (tensor): mean and log of variance of Q(z|X)\n",
    "    # Returns\n",
    "        z (tensor): sampled latent vector\n",
    "    \"\"\"\n",
    "\n",
    "    z_mean, z_log_var = args\n",
    "    batch = K.shape(z_mean)[0]\n",
    "    dim = K.int_shape(z_mean)[1]\n",
    "    # by default, random_normal has mean = 0 and std = 1.0\n",
    "    epsilon = K.random_normal(shape=(batch, dim))\n",
    "    return z_mean + K.exp(0.5 * z_log_var) * epsilon"
   ]
  },
  {
   "cell_type": "code",
   "execution_count": 15,
   "metadata": {},
   "outputs": [],
   "source": [
    "inter_dim_1 = 256\n",
    "inter_dim_2 = 128\n",
    "final_dim = 64\n",
    "latent_dim = 32\n",
    "input_dim = (100,4)"
   ]
  },
  {
   "cell_type": "code",
   "execution_count": 16,
   "metadata": {},
   "outputs": [],
   "source": [
    "# encoder\n",
    "x = Input(shape=input_dim)\n",
    "x_flat = Flatten()(x)\n",
    "h1 = Dense(inter_dim_1, activation='relu')(x_flat)\n",
    "h2 = Dense(inter_dim_2, activation='relu')(h1)\n",
    "h3 = Dense(final_dim, activation='relu')(h2)\n",
    "z_mean = Dense(latent_dim)(h3)\n",
    "z_log_sigma = Dense(latent_dim)(h2)"
   ]
  },
  {
   "cell_type": "code",
   "execution_count": 17,
   "metadata": {},
   "outputs": [
    {
     "data": {
      "text/plain": [
       "TensorShape([None, 100, 4])"
      ]
     },
     "execution_count": 17,
     "metadata": {},
     "output_type": "execute_result"
    }
   ],
   "source": [
    "x.shape"
   ]
  },
  {
   "cell_type": "code",
   "execution_count": 18,
   "metadata": {},
   "outputs": [],
   "source": [
    "# random sampling\n",
    "z = Lambda(sampling, output_shape=(latent_dim,))([z_mean, z_log_sigma])\n",
    "\n",
    "encoder = Model(inputs = x, outputs = z)"
   ]
  },
  {
   "cell_type": "code",
   "execution_count": 19,
   "metadata": {},
   "outputs": [],
   "source": [
    "# decoder\n",
    "decoder_h3 = Dense(final_dim, activation='relu')\n",
    "decoder_h2 = Dense(inter_dim_2, activation='relu')\n",
    "decoder_h1 = Dense(inter_dim_1, activation='relu')\n",
    "decoder_mean = Dense(np.prod(input_dim), activation='linear')\n",
    "\n",
    "h3_decoded = decoder_h3(z)\n",
    "h2_decoded = decoder_h2(h3_decoded)\n",
    "h1_decoded = decoder_h1(h2_decoded)\n",
    "x_decoded_mean = decoder_mean(h1_decoded)\n",
    "x_decoded = Reshape(input_dim)(x_decoded_mean)"
   ]
  },
  {
   "cell_type": "code",
   "execution_count": 20,
   "metadata": {},
   "outputs": [],
   "source": [
    "vae = Model(inputs = x, outputs = x_decoded_mean, name = 'vae')"
   ]
  },
  {
   "cell_type": "code",
   "execution_count": 21,
   "metadata": {},
   "outputs": [],
   "source": [
    "mse = keras.losses.MeanSquaredError()\n",
    "def vae_loss(x, y):\n",
    "    mse_loss = mse(K.flatten(x), K.flatten(y))\n",
    "    kl_loss = - 0.5 * K.mean(1 + z_log_sigma - K.square(z_mean) - K.exp(z_log_sigma), axis=-1)\n",
    "    return mse_loss + kl_loss\n",
    "\n",
    "vae.compile(optimizer='adam', loss=vae_loss)"
   ]
  },
  {
   "cell_type": "code",
   "execution_count": 22,
   "metadata": {},
   "outputs": [
    {
     "name": "stdout",
     "output_type": "stream",
     "text": [
      "Model: \"vae\"\n",
      "__________________________________________________________________________________________________\n",
      "Layer (type)                    Output Shape         Param #     Connected to                     \n",
      "==================================================================================================\n",
      "input_1 (InputLayer)            (None, 100, 4)       0                                            \n",
      "__________________________________________________________________________________________________\n",
      "flatten_1 (Flatten)             (None, 400)          0           input_1[0][0]                    \n",
      "__________________________________________________________________________________________________\n",
      "dense_1 (Dense)                 (None, 256)          102656      flatten_1[0][0]                  \n",
      "__________________________________________________________________________________________________\n",
      "dense_2 (Dense)                 (None, 128)          32896       dense_1[0][0]                    \n",
      "__________________________________________________________________________________________________\n",
      "dense_3 (Dense)                 (None, 64)           8256        dense_2[0][0]                    \n",
      "__________________________________________________________________________________________________\n",
      "dense_4 (Dense)                 (None, 32)           2080        dense_3[0][0]                    \n",
      "__________________________________________________________________________________________________\n",
      "dense_5 (Dense)                 (None, 32)           4128        dense_2[0][0]                    \n",
      "__________________________________________________________________________________________________\n",
      "lambda_1 (Lambda)               (None, 32)           0           dense_4[0][0]                    \n",
      "                                                                 dense_5[0][0]                    \n",
      "__________________________________________________________________________________________________\n",
      "dense_6 (Dense)                 (None, 64)           2112        lambda_1[0][0]                   \n",
      "__________________________________________________________________________________________________\n",
      "dense_7 (Dense)                 (None, 128)          8320        dense_6[0][0]                    \n",
      "__________________________________________________________________________________________________\n",
      "dense_8 (Dense)                 (None, 256)          33024       dense_7[0][0]                    \n",
      "__________________________________________________________________________________________________\n",
      "dense_9 (Dense)                 (None, 400)          102800      dense_8[0][0]                    \n",
      "==================================================================================================\n",
      "Total params: 296,272\n",
      "Trainable params: 296,272\n",
      "Non-trainable params: 0\n",
      "__________________________________________________________________________________________________\n"
     ]
    }
   ],
   "source": [
    "vae.summary()"
   ]
  },
  {
   "cell_type": "markdown",
   "metadata": {},
   "source": [
    "# Train"
   ]
  },
  {
   "cell_type": "code",
   "execution_count": 23,
   "metadata": {},
   "outputs": [],
   "source": [
    "from sklearn.model_selection import train_test_split"
   ]
  },
  {
   "cell_type": "code",
   "execution_count": 24,
   "metadata": {},
   "outputs": [],
   "source": [
    "batch_size = 1000\n",
    "epochs = 100"
   ]
  },
  {
   "cell_type": "code",
   "execution_count": 25,
   "metadata": {},
   "outputs": [
    {
     "data": {
      "text/plain": [
       "(117865, 100, 4)"
      ]
     },
     "execution_count": 25,
     "metadata": {},
     "output_type": "execute_result"
    }
   ],
   "source": [
    "x_train.shape"
   ]
  },
  {
   "cell_type": "code",
   "execution_count": 26,
   "metadata": {},
   "outputs": [],
   "source": [
    "my_callbacks = [\n",
    "    keras.callbacks.EarlyStopping(patience=10)\n",
    "]"
   ]
  },
  {
   "cell_type": "code",
   "execution_count": 27,
   "metadata": {},
   "outputs": [
    {
     "name": "stdout",
     "output_type": "stream",
     "text": [
      "Train on 117865 samples, validate on 14733 samples\n",
      "Epoch 1/100\n",
      "117865/117865 [==============================] - 1s 13us/step - loss: 1.0800 - val_loss: 1.0415\n",
      "Epoch 2/100\n",
      "117865/117865 [==============================] - 1s 8us/step - loss: 1.0078 - val_loss: 1.0334\n",
      "Epoch 3/100\n",
      "117865/117865 [==============================] - 1s 8us/step - loss: 1.0024 - val_loss: 1.0303\n",
      "Epoch 4/100\n",
      "117865/117865 [==============================] - 1s 7us/step - loss: 1.0005 - val_loss: 1.0290\n",
      "Epoch 5/100\n",
      "117865/117865 [==============================] - 1s 8us/step - loss: 0.9998 - val_loss: 1.0286\n",
      "Epoch 6/100\n",
      "117865/117865 [==============================] - 1s 8us/step - loss: 0.9995 - val_loss: 1.0283\n",
      "Epoch 7/100\n",
      "117865/117865 [==============================] - 1s 9us/step - loss: 0.9994 - val_loss: 1.0282\n",
      "Epoch 8/100\n",
      "117865/117865 [==============================] - 1s 8us/step - loss: 0.9993 - val_loss: 1.0282\n",
      "Epoch 9/100\n",
      "117865/117865 [==============================] - 1s 9us/step - loss: 0.9993 - val_loss: 1.0281\n",
      "Epoch 10/100\n",
      "117865/117865 [==============================] - 1s 8us/step - loss: 0.9993 - val_loss: 1.0281\n",
      "Epoch 11/100\n",
      "117865/117865 [==============================] - 1s 8us/step - loss: 0.9993 - val_loss: 1.0281\n",
      "Epoch 12/100\n",
      "117865/117865 [==============================] - 1s 8us/step - loss: 0.9992 - val_loss: 1.0281\n",
      "Epoch 13/100\n",
      "117865/117865 [==============================] - 1s 8us/step - loss: 0.9992 - val_loss: 1.0280\n",
      "Epoch 14/100\n",
      "117865/117865 [==============================] - 1s 8us/step - loss: 0.9992 - val_loss: 1.0280\n",
      "Epoch 15/100\n",
      "117865/117865 [==============================] - 1s 8us/step - loss: 0.9992 - val_loss: 1.0280\n",
      "Epoch 16/100\n",
      "117865/117865 [==============================] - 1s 8us/step - loss: 0.9992 - val_loss: 1.0280\n",
      "Epoch 17/100\n",
      "117865/117865 [==============================] - 1s 8us/step - loss: 0.9992 - val_loss: 1.0280\n",
      "Epoch 18/100\n",
      "117865/117865 [==============================] - 1s 8us/step - loss: 0.9992 - val_loss: 1.0280\n",
      "Epoch 19/100\n",
      "117865/117865 [==============================] - 1s 8us/step - loss: 0.9992 - val_loss: 1.0280\n",
      "Epoch 20/100\n",
      "117865/117865 [==============================] - 1s 8us/step - loss: 0.9992 - val_loss: 1.0280\n",
      "Epoch 21/100\n",
      "117865/117865 [==============================] - 1s 8us/step - loss: 0.9992 - val_loss: 1.0280\n",
      "Epoch 22/100\n",
      "117865/117865 [==============================] - 1s 8us/step - loss: 0.9992 - val_loss: 1.0280\n",
      "Epoch 23/100\n",
      "117865/117865 [==============================] - 1s 8us/step - loss: 0.9992 - val_loss: 1.0280\n",
      "Epoch 24/100\n",
      "117865/117865 [==============================] - 1s 8us/step - loss: 0.9992 - val_loss: 1.0280\n",
      "Epoch 25/100\n",
      "117865/117865 [==============================] - 1s 8us/step - loss: 0.9992 - val_loss: 1.0280\n",
      "Epoch 26/100\n",
      "117865/117865 [==============================] - 1s 8us/step - loss: 0.9992 - val_loss: 1.0280\n",
      "Epoch 27/100\n",
      "117865/117865 [==============================] - 1s 8us/step - loss: 0.9992 - val_loss: 1.0280\n",
      "Epoch 28/100\n",
      "117865/117865 [==============================] - 1s 8us/step - loss: 0.9992 - val_loss: 1.0280\n",
      "Epoch 29/100\n",
      "117865/117865 [==============================] - 1s 8us/step - loss: 0.9992 - val_loss: 1.0280\n",
      "Epoch 30/100\n",
      "117865/117865 [==============================] - 1s 8us/step - loss: 0.9992 - val_loss: 1.0280\n",
      "Epoch 31/100\n",
      "117865/117865 [==============================] - 1s 8us/step - loss: 0.9992 - val_loss: 1.0280\n",
      "Epoch 32/100\n",
      "117865/117865 [==============================] - 1s 8us/step - loss: 0.9992 - val_loss: 1.0280\n",
      "Epoch 33/100\n",
      "117865/117865 [==============================] - 1s 8us/step - loss: 0.9992 - val_loss: 1.0280\n",
      "Epoch 34/100\n",
      "117865/117865 [==============================] - 1s 8us/step - loss: 0.9992 - val_loss: 1.0280\n",
      "Epoch 35/100\n",
      "117865/117865 [==============================] - 1s 8us/step - loss: 0.9992 - val_loss: 1.0280\n",
      "Epoch 36/100\n",
      "117865/117865 [==============================] - 1s 8us/step - loss: 0.9992 - val_loss: 1.0280\n",
      "Epoch 37/100\n",
      "117865/117865 [==============================] - 1s 8us/step - loss: 0.9992 - val_loss: 1.0280\n",
      "Epoch 38/100\n",
      "117865/117865 [==============================] - 1s 8us/step - loss: 0.9992 - val_loss: 1.0280\n",
      "Epoch 39/100\n",
      "117865/117865 [==============================] - 1s 8us/step - loss: 0.9992 - val_loss: 1.0280\n",
      "Epoch 40/100\n",
      "117865/117865 [==============================] - 1s 8us/step - loss: 0.9992 - val_loss: 1.0280\n",
      "Epoch 41/100\n",
      "117865/117865 [==============================] - 1s 8us/step - loss: 0.9992 - val_loss: 1.0280\n",
      "Epoch 42/100\n",
      "117865/117865 [==============================] - 1s 8us/step - loss: 0.9992 - val_loss: 1.0280\n",
      "Epoch 43/100\n",
      "117865/117865 [==============================] - 1s 8us/step - loss: 0.9992 - val_loss: 1.0280\n",
      "Epoch 44/100\n",
      "117865/117865 [==============================] - 1s 8us/step - loss: 0.9992 - val_loss: 1.0280\n",
      "Epoch 45/100\n",
      "117865/117865 [==============================] - 1s 8us/step - loss: 0.9992 - val_loss: 1.0280\n",
      "Epoch 46/100\n",
      "117865/117865 [==============================] - 1s 8us/step - loss: 0.9992 - val_loss: 1.0280\n",
      "Epoch 47/100\n",
      "117865/117865 [==============================] - 1s 8us/step - loss: 0.9992 - val_loss: 1.0280\n",
      "Epoch 48/100\n",
      "117865/117865 [==============================] - 1s 8us/step - loss: 0.9992 - val_loss: 1.0280\n",
      "Epoch 49/100\n",
      "117865/117865 [==============================] - 1s 8us/step - loss: 0.9992 - val_loss: 1.0280\n",
      "Epoch 50/100\n",
      "117865/117865 [==============================] - 1s 8us/step - loss: 0.9992 - val_loss: 1.0280\n"
     ]
    }
   ],
   "source": [
    "hist = vae.fit(x_train, x_train,\n",
    "               shuffle=True,\n",
    "               epochs=epochs,\n",
    "               batch_size=batch_size,\n",
    "               validation_data=(x_val, x_val),\n",
    "               callbacks=my_callbacks)"
   ]
  },
  {
   "cell_type": "markdown",
   "metadata": {},
   "source": [
    "# Visualization"
   ]
  },
  {
   "cell_type": "code",
   "execution_count": 28,
   "metadata": {},
   "outputs": [],
   "source": [
    "import matplotlib.pyplot as plt"
   ]
  },
  {
   "cell_type": "code",
   "execution_count": 29,
   "metadata": {},
   "outputs": [
    {
     "data": {
      "image/png": "[encoded data removed]",
      "text/plain": [
       "<Figure size 432x266.991 with 1 Axes>"
      ]
     },
     "metadata": {
      "needs_background": "light"
     },
     "output_type": "display_data"
    }
   ],
   "source": [
    "golden_size = lambda width: (width, 2. * width / (1 + np.sqrt(5)))\n",
    "\n",
    "fig, ax = plt.subplots(figsize=golden_size(6))\n",
    "\n",
    "hist_df = pd.DataFrame(hist.history)\n",
    "hist_df.plot(ax=ax)\n",
    "\n",
    "ax.set_ylabel('NELBO')\n",
    "ax.set_xlabel('# epochs')\n",
    "\n",
    "ax.set_ylim(.99*hist_df[1:].values.min(), \n",
    "            1.1*hist_df[1:].values.max())\n",
    "plt.show()"
   ]
  },
  {
   "cell_type": "code",
   "execution_count": 30,
   "metadata": {},
   "outputs": [],
   "source": [
    "predictions = K.flatten(vae.predict(x_test))"
   ]
  },
  {
   "cell_type": "code",
   "execution_count": 31,
   "metadata": {},
   "outputs": [
    {
     "data": {
      "text/plain": [
       "TensorShape([5893200])"
      ]
     },
     "execution_count": 31,
     "metadata": {},
     "output_type": "execute_result"
    }
   ],
   "source": [
    "predictions.shape"
   ]
  },
  {
   "cell_type": "code",
   "execution_count": 32,
   "metadata": {},
   "outputs": [],
   "source": [
    "predictions = tf.dtypes.cast(predictions, tf.float64)"
   ]
  },
  {
   "cell_type": "code",
   "execution_count": 33,
   "metadata": {},
   "outputs": [],
   "source": [
    "test = K.flatten(x_test)"
   ]
  },
  {
   "cell_type": "code",
   "execution_count": 34,
   "metadata": {},
   "outputs": [],
   "source": [
    "distr = (test - predictions) / test"
   ]
  },
  {
   "cell_type": "code",
   "execution_count": 35,
   "metadata": {},
   "outputs": [
    {
     "data": {
      "text/plain": [
       "[1, 3, 5, 7, 9]"
      ]
     },
     "execution_count": 35,
     "metadata": {},
     "output_type": "execute_result"
    }
   ],
   "source": [
    "stuff = list(range(10))\n",
    "stuff[1::2]"
   ]
  },
  {
   "cell_type": "code",
   "execution_count": 36,
   "metadata": {},
   "outputs": [],
   "source": [
    "pT_pred = predictions[0::4]\n",
    "eta_pred = predictions[1::4]\n",
    "phi_pred = predictions[2::4]\n",
    "mass_pred = predictions[3::4]"
   ]
  },
  {
   "cell_type": "code",
   "execution_count": 37,
   "metadata": {},
   "outputs": [],
   "source": [
    "pT = test[0::4]\n",
    "eta = test[1::4]\n",
    "phi = test[2::4]\n",
    "mass = test[3::4]"
   ]
  },
  {
   "cell_type": "markdown",
   "metadata": {},
   "source": [
    "## Stacking output (orange) over input (blue) for pT, eta, phi, m"
   ]
  },
  {
   "cell_type": "code",
   "execution_count": 38,
   "metadata": {},
   "outputs": [
    {
     "data": {
      "text/plain": [
       "(array([0.000000e+00, 0.000000e+00, 0.000000e+00, 0.000000e+00,\n",
       "        0.000000e+00, 2.946800e+04, 8.839800e+04, 7.366400e+04,\n",
       "        2.946500e+04, 5.893000e+04, 1.473500e+04, 2.946800e+04,\n",
       "        4.419700e+04, 4.419900e+04, 2.946600e+04, 5.893200e+04,\n",
       "        4.419900e+04, 4.419800e+04, 2.946700e+04, 1.473300e+04,\n",
       "        4.419900e+04, 1.473400e+04, 1.325970e+05, 1.252307e+06,\n",
       "        2.696113e+06, 3.683460e+05, 8.839800e+04, 5.893300e+04,\n",
       "        1.473400e+04, 1.473400e+04, 1.473200e+04, 2.946800e+04,\n",
       "        4.419700e+04, 2.946700e+04, 7.366200e+04, 1.473500e+04,\n",
       "        2.946500e+04, 4.000000e+00, 7.366000e+04, 1.473500e+04,\n",
       "        1.473300e+04, 1.473300e+04, 7.366700e+04, 4.419700e+04,\n",
       "        5.893000e+04, 2.946800e+04, 1.473100e+04, 2.000000e+00,\n",
       "        0.000000e+00]),\n",
       " array([-0.11      , -0.1055102 , -0.10102041, -0.09653061, -0.09204082,\n",
       "        -0.08755102, -0.08306122, -0.07857143, -0.07408163, -0.06959184,\n",
       "        -0.06510204, -0.06061224, -0.05612245, -0.05163265, -0.04714286,\n",
       "        -0.04265306, -0.03816327, -0.03367347, -0.02918367, -0.02469388,\n",
       "        -0.02020408, -0.01571429, -0.01122449, -0.00673469, -0.0022449 ,\n",
       "         0.0022449 ,  0.00673469,  0.01122449,  0.01571429,  0.02020408,\n",
       "         0.02469388,  0.02918367,  0.03367347,  0.03816327,  0.04265306,\n",
       "         0.04714286,  0.05163265,  0.05612245,  0.06061224,  0.06510204,\n",
       "         0.06959184,  0.07408163,  0.07857143,  0.08306122,  0.08755102,\n",
       "         0.09204082,  0.09653061,  0.10102041,  0.1055102 ,  0.11      ]),\n",
       " <a list of 49 Patch objects>)"
      ]
     },
     "execution_count": 38,
     "metadata": {},
     "output_type": "execute_result"
    },
    {
     "data": {
      "image/png": "[encoded data removed]",
      "text/plain": [
       "<Figure size 432x288 with 1 Axes>"
      ]
     },
     "metadata": {
      "needs_background": "light"
     },
     "output_type": "display_data"
    }
   ],
   "source": [
    "# overeall\n",
    "bins = np.linspace(-0.11, 0.11, 50)\n",
    "plt.hist(K.flatten(x_test), bins=bins,alpha=0.5)\n",
    "plt.hist(predictions, bins=bins,alpha=0.5)"
   ]
  },
  {
   "cell_type": "code",
   "execution_count": 39,
   "metadata": {},
   "outputs": [
    {
     "data": {
      "image/png": "[encoded data removed]",
      "text/plain": [
       "<Figure size 432x288 with 1 Axes>"
      ]
     },
     "metadata": {
      "needs_background": "light"
     },
     "output_type": "display_data"
    }
   ],
   "source": [
    "# pT\n",
    "bins = np.linspace(-0.15, 0.1, 50)\n",
    "plt.hist(pT, bins=bins,alpha=0.5)\n",
    "plt.hist(pT_pred, bins=bins,alpha=0.5)\n",
    "bins = np.linspace(-0.45, -0.2, 40)"
   ]
  },
  {
   "cell_type": "code",
   "execution_count": 40,
   "metadata": {},
   "outputs": [
    {
     "data": {
      "text/plain": [
       "(array([0.00000e+00, 0.00000e+00, 0.00000e+00, 0.00000e+00, 0.00000e+00,\n",
       "        0.00000e+00, 0.00000e+00, 1.47320e+04, 1.00000e+00, 0.00000e+00,\n",
       "        0.00000e+00, 0.00000e+00, 0.00000e+00, 2.00000e+00, 1.47310e+04,\n",
       "        3.00000e+00, 1.47300e+04, 1.00000e+00, 1.47360e+04, 2.94730e+04,\n",
       "        1.76787e+05, 1.91527e+05, 1.32620e+05, 5.15618e+05, 3.24121e+05,\n",
       "        2.94790e+04, 4.00000e+00, 2.00000e+00, 0.00000e+00, 0.00000e+00,\n",
       "        0.00000e+00, 0.00000e+00, 0.00000e+00, 0.00000e+00, 0.00000e+00,\n",
       "        0.00000e+00, 1.47320e+04, 1.00000e+00, 0.00000e+00, 0.00000e+00,\n",
       "        0.00000e+00, 0.00000e+00, 0.00000e+00, 0.00000e+00, 0.00000e+00,\n",
       "        0.00000e+00, 0.00000e+00, 0.00000e+00, 0.00000e+00]),\n",
       " array([-0.025     , -0.02397959, -0.02295918, -0.02193878, -0.02091837,\n",
       "        -0.01989796, -0.01887755, -0.01785714, -0.01683673, -0.01581633,\n",
       "        -0.01479592, -0.01377551, -0.0127551 , -0.01173469, -0.01071429,\n",
       "        -0.00969388, -0.00867347, -0.00765306, -0.00663265, -0.00561224,\n",
       "        -0.00459184, -0.00357143, -0.00255102, -0.00153061, -0.0005102 ,\n",
       "         0.0005102 ,  0.00153061,  0.00255102,  0.00357143,  0.00459184,\n",
       "         0.00561224,  0.00663265,  0.00765306,  0.00867347,  0.00969388,\n",
       "         0.01071429,  0.01173469,  0.0127551 ,  0.01377551,  0.01479592,\n",
       "         0.01581633,  0.01683673,  0.01785714,  0.01887755,  0.01989796,\n",
       "         0.02091837,  0.02193878,  0.02295918,  0.02397959,  0.025     ]),\n",
       " <a list of 49 Patch objects>)"
      ]
     },
     "execution_count": 40,
     "metadata": {},
     "output_type": "execute_result"
    },
    {
     "data": {
      "image/png": "[encoded data removed]",
      "text/plain": [
       "<Figure size 432x288 with 1 Axes>"
      ]
     },
     "metadata": {
      "needs_background": "light"
     },
     "output_type": "display_data"
    }
   ],
   "source": [
    "# eta\n",
    "bins = np.linspace(-0.025, 0.025, 50)\n",
    "plt.hist(eta, bins=bins,alpha=0.5)\n",
    "plt.hist(eta_pred, bins=bins,alpha=0.5)"
   ]
  },
  {
   "cell_type": "code",
   "execution_count": 41,
   "metadata": {},
   "outputs": [
    {
     "data": {
      "text/plain": [
       "(array([0.00000e+00, 0.00000e+00, 0.00000e+00, 0.00000e+00, 0.00000e+00,\n",
       "        0.00000e+00, 0.00000e+00, 0.00000e+00, 0.00000e+00, 0.00000e+00,\n",
       "        0.00000e+00, 0.00000e+00, 0.00000e+00, 0.00000e+00, 0.00000e+00,\n",
       "        0.00000e+00, 1.00000e+00, 2.00000e+00, 5.89280e+04, 7.36690e+04,\n",
       "        1.32588e+05, 1.32603e+05, 1.47326e+05, 1.76799e+05, 2.50462e+05,\n",
       "        2.20995e+05, 2.06255e+05, 1.47390e+04, 1.47350e+04, 1.47320e+04,\n",
       "        0.00000e+00, 0.00000e+00, 2.00000e+00, 1.47310e+04, 0.00000e+00,\n",
       "        0.00000e+00, 0.00000e+00, 0.00000e+00, 0.00000e+00, 1.47330e+04,\n",
       "        0.00000e+00, 0.00000e+00, 0.00000e+00, 0.00000e+00, 0.00000e+00,\n",
       "        0.00000e+00, 0.00000e+00, 0.00000e+00, 0.00000e+00]),\n",
       " array([-0.025     , -0.02397959, -0.02295918, -0.02193878, -0.02091837,\n",
       "        -0.01989796, -0.01887755, -0.01785714, -0.01683673, -0.01581633,\n",
       "        -0.01479592, -0.01377551, -0.0127551 , -0.01173469, -0.01071429,\n",
       "        -0.00969388, -0.00867347, -0.00765306, -0.00663265, -0.00561224,\n",
       "        -0.00459184, -0.00357143, -0.00255102, -0.00153061, -0.0005102 ,\n",
       "         0.0005102 ,  0.00153061,  0.00255102,  0.00357143,  0.00459184,\n",
       "         0.00561224,  0.00663265,  0.00765306,  0.00867347,  0.00969388,\n",
       "         0.01071429,  0.01173469,  0.0127551 ,  0.01377551,  0.01479592,\n",
       "         0.01581633,  0.01683673,  0.01785714,  0.01887755,  0.01989796,\n",
       "         0.02091837,  0.02193878,  0.02295918,  0.02397959,  0.025     ]),\n",
       " <a list of 49 Patch objects>)"
      ]
     },
     "execution_count": 41,
     "metadata": {},
     "output_type": "execute_result"
    },
    {
     "data": {
      "image/png": "[encoded data removed]",
      "text/plain": [
       "<Figure size 432x288 with 1 Axes>"
      ]
     },
     "metadata": {
      "needs_background": "light"
     },
     "output_type": "display_data"
    }
   ],
   "source": [
    "# phi\n",
    "bins = np.linspace(-0.025,0.025, 50)\n",
    "plt.hist(phi, bins=bins,alpha=0.5)\n",
    "plt.hist(phi_pred, bins=bins,alpha=0.5)"
   ]
  },
  {
   "cell_type": "code",
   "execution_count": 42,
   "metadata": {},
   "outputs": [
    {
     "data": {
      "text/plain": [
       "(array([0.00000e+00, 0.00000e+00, 0.00000e+00, 0.00000e+00, 0.00000e+00,\n",
       "        0.00000e+00, 0.00000e+00, 0.00000e+00, 0.00000e+00, 0.00000e+00,\n",
       "        0.00000e+00, 0.00000e+00, 0.00000e+00, 3.00000e+00, 1.47310e+04,\n",
       "        2.94640e+04, 2.00000e+00, 2.94650e+04, 2.94690e+04, 5.89330e+04,\n",
       "        4.42050e+04, 1.62049e+05, 5.89370e+04, 1.47329e+05, 1.76800e+05,\n",
       "        2.65183e+05, 1.91517e+05, 8.84050e+04, 4.42080e+04, 5.89330e+04,\n",
       "        2.94650e+04, 2.00000e+00, 1.00000e+00, 0.00000e+00, 1.47340e+04,\n",
       "        2.94620e+04, 3.00000e+00, 0.00000e+00, 0.00000e+00, 0.00000e+00,\n",
       "        0.00000e+00, 0.00000e+00, 0.00000e+00, 0.00000e+00, 0.00000e+00,\n",
       "        0.00000e+00, 0.00000e+00, 0.00000e+00, 0.00000e+00]),\n",
       " array([-0.025     , -0.02397959, -0.02295918, -0.02193878, -0.02091837,\n",
       "        -0.01989796, -0.01887755, -0.01785714, -0.01683673, -0.01581633,\n",
       "        -0.01479592, -0.01377551, -0.0127551 , -0.01173469, -0.01071429,\n",
       "        -0.00969388, -0.00867347, -0.00765306, -0.00663265, -0.00561224,\n",
       "        -0.00459184, -0.00357143, -0.00255102, -0.00153061, -0.0005102 ,\n",
       "         0.0005102 ,  0.00153061,  0.00255102,  0.00357143,  0.00459184,\n",
       "         0.00561224,  0.00663265,  0.00765306,  0.00867347,  0.00969388,\n",
       "         0.01071429,  0.01173469,  0.0127551 ,  0.01377551,  0.01479592,\n",
       "         0.01581633,  0.01683673,  0.01785714,  0.01887755,  0.01989796,\n",
       "         0.02091837,  0.02193878,  0.02295918,  0.02397959,  0.025     ]),\n",
       " <a list of 49 Patch objects>)"
      ]
     },
     "execution_count": 42,
     "metadata": {},
     "output_type": "execute_result"
    },
    {
     "data": {
      "image/png": "[encoded data removed]",
      "text/plain": [
       "<Figure size 432x288 with 1 Axes>"
      ]
     },
     "metadata": {
      "needs_background": "light"
     },
     "output_type": "display_data"
    }
   ],
   "source": [
    "# mass\n",
    "bins = np.linspace(-0.025,0.025, 50)\n",
    "plt.hist(mass, bins=bins,alpha=0.5)\n",
    "plt.hist(mass_pred, bins=bins,alpha=0.5)"
   ]
  },
  {
   "cell_type": "code",
   "execution_count": 43,
   "metadata": {},
   "outputs": [],
   "source": [
    "d_pT = distr[0::4]\n",
    "d_eta = distr[1::4]\n",
    "d_phi = distr[2::4]\n",
    "d_mass = distr[3::4]"
   ]
  },
  {
   "cell_type": "markdown",
   "metadata": {},
   "source": [
    "## Distribution of (input - output) / input"
   ]
  },
  {
   "cell_type": "code",
   "execution_count": 44,
   "metadata": {},
   "outputs": [],
   "source": [
    "bins = np.linspace(-3, 3, 50)"
   ]
  },
  {
   "cell_type": "code",
   "execution_count": 45,
   "metadata": {},
   "outputs": [
    {
     "data": {
      "text/plain": [
       "(array([1.91000e+02, 9.24800e+03, 1.39150e+04, 2.65000e+02, 2.08710e+04,\n",
       "        2.52000e+02, 1.18890e+04, 1.46090e+04, 1.43810e+04, 1.47300e+04,\n",
       "        3.91000e+02, 4.65000e+02, 5.13000e+02, 1.47550e+04, 6.21000e+02,\n",
       "        4.33990e+04, 7.80000e+02, 1.53440e+04, 3.13650e+04, 7.28820e+04,\n",
       "        3.00150e+04, 3.04110e+04, 1.64380e+04, 5.16500e+04, 5.88730e+04,\n",
       "        1.05362e+05, 1.79541e+05, 1.08529e+05, 1.18869e+05, 1.59827e+05,\n",
       "        1.46081e+05, 1.29732e+05, 6.92315e+05, 1.94899e+05, 2.30069e+05,\n",
       "        2.61342e+05, 3.27385e+05, 2.09103e+05, 1.46257e+05, 1.65957e+05,\n",
       "        1.03191e+05, 6.32980e+04, 3.89950e+04, 1.33100e+04, 1.04855e+05,\n",
       "        8.88710e+04, 4.00680e+04, 6.23330e+04, 5.28480e+04]),\n",
       " array([-3.        , -2.87755102, -2.75510204, -2.63265306, -2.51020408,\n",
       "        -2.3877551 , -2.26530612, -2.14285714, -2.02040816, -1.89795918,\n",
       "        -1.7755102 , -1.65306122, -1.53061224, -1.40816327, -1.28571429,\n",
       "        -1.16326531, -1.04081633, -0.91836735, -0.79591837, -0.67346939,\n",
       "        -0.55102041, -0.42857143, -0.30612245, -0.18367347, -0.06122449,\n",
       "         0.06122449,  0.18367347,  0.30612245,  0.42857143,  0.55102041,\n",
       "         0.67346939,  0.79591837,  0.91836735,  1.04081633,  1.16326531,\n",
       "         1.28571429,  1.40816327,  1.53061224,  1.65306122,  1.7755102 ,\n",
       "         1.89795918,  2.02040816,  2.14285714,  2.26530612,  2.3877551 ,\n",
       "         2.51020408,  2.63265306,  2.75510204,  2.87755102,  3.        ]),\n",
       " <a list of 49 Patch objects>)"
      ]
     },
     "execution_count": 45,
     "metadata": {},
     "output_type": "execute_result"
    },
    {
     "data": {
      "image/png": "[encoded data removed]",
      "text/plain": [
       "<Figure size 432x288 with 1 Axes>"
      ]
     },
     "metadata": {
      "needs_background": "light"
     },
     "output_type": "display_data"
    }
   ],
   "source": [
    "plt.hist(distr, bins=bins)"
   ]
  },
  {
   "cell_type": "code",
   "execution_count": 46,
   "metadata": {},
   "outputs": [
    {
     "data": {
      "text/plain": [
       "(array([   188.,    223.,    210.,    261.,    241.,    249.,    325.,\n",
       "           345.,    333.,    392.,    386.,    460.,    510.,    541.,\n",
       "           613.,    714.,    769.,    946.,    991.,   1199.,   1406.,\n",
       "          1707.,   2017.,   2571.,   3267.,  62570., 164983.,  80386.,\n",
       "        118749., 102723.,  88527.,  67094., 142682.,  61275.,  42960.,\n",
       "         81549.,  91559.,  90438.,  40249., 112860.,  74858.,   1464.,\n",
       "          1397.,   1267.,   1274.,   1098.,   1108.,   1036.,    954.]),\n",
       " array([-3.        , -2.87755102, -2.75510204, -2.63265306, -2.51020408,\n",
       "        -2.3877551 , -2.26530612, -2.14285714, -2.02040816, -1.89795918,\n",
       "        -1.7755102 , -1.65306122, -1.53061224, -1.40816327, -1.28571429,\n",
       "        -1.16326531, -1.04081633, -0.91836735, -0.79591837, -0.67346939,\n",
       "        -0.55102041, -0.42857143, -0.30612245, -0.18367347, -0.06122449,\n",
       "         0.06122449,  0.18367347,  0.30612245,  0.42857143,  0.55102041,\n",
       "         0.67346939,  0.79591837,  0.91836735,  1.04081633,  1.16326531,\n",
       "         1.28571429,  1.40816327,  1.53061224,  1.65306122,  1.7755102 ,\n",
       "         1.89795918,  2.02040816,  2.14285714,  2.26530612,  2.3877551 ,\n",
       "         2.51020408,  2.63265306,  2.75510204,  2.87755102,  3.        ]),\n",
       " <a list of 49 Patch objects>)"
      ]
     },
     "execution_count": 46,
     "metadata": {},
     "output_type": "execute_result"
    },
    {
     "data": {
      "image/png": "[encoded data removed]",
      "text/plain": [
       "<Figure size 432x288 with 1 Axes>"
      ]
     },
     "metadata": {
      "needs_background": "light"
     },
     "output_type": "display_data"
    }
   ],
   "source": [
    "plt.hist(d_pT, bins=bins)"
   ]
  },
  {
   "cell_type": "code",
   "execution_count": 47,
   "metadata": {},
   "outputs": [
    {
     "data": {
      "text/plain": [
       "(array([1.00000e+00, 2.00000e+00, 1.00000e+00, 1.00000e+00, 2.00000e+00,\n",
       "        1.00000e+00, 2.00000e+00, 1.00000e+00, 1.00000e+00, 2.00000e+00,\n",
       "        0.00000e+00, 3.00000e+00, 1.00000e+00, 3.00000e+00, 3.00000e+00,\n",
       "        3.00000e+00, 3.00000e+00, 3.00000e+00, 9.00000e+00, 5.00000e+00,\n",
       "        9.00000e+00, 8.00000e+00, 1.00000e+01, 1.90000e+01, 1.40000e+01,\n",
       "        2.20000e+01, 2.80000e+01, 4.70000e+01, 4.50000e+01, 1.39590e+04,\n",
       "        4.28230e+04, 2.98420e+04, 2.18055e+05, 8.56980e+04, 1.46199e+05,\n",
       "        1.27447e+05, 1.68299e+05, 9.46960e+04, 6.69750e+04, 4.08470e+04,\n",
       "        1.43640e+04, 5.06270e+04, 1.29440e+04, 1.20330e+04, 6.20230e+04,\n",
       "        6.35160e+04, 2.50950e+04, 3.63340e+04, 2.34540e+04]),\n",
       " array([-3.        , -2.87755102, -2.75510204, -2.63265306, -2.51020408,\n",
       "        -2.3877551 , -2.26530612, -2.14285714, -2.02040816, -1.89795918,\n",
       "        -1.7755102 , -1.65306122, -1.53061224, -1.40816327, -1.28571429,\n",
       "        -1.16326531, -1.04081633, -0.91836735, -0.79591837, -0.67346939,\n",
       "        -0.55102041, -0.42857143, -0.30612245, -0.18367347, -0.06122449,\n",
       "         0.06122449,  0.18367347,  0.30612245,  0.42857143,  0.55102041,\n",
       "         0.67346939,  0.79591837,  0.91836735,  1.04081633,  1.16326531,\n",
       "         1.28571429,  1.40816327,  1.53061224,  1.65306122,  1.7755102 ,\n",
       "         1.89795918,  2.02040816,  2.14285714,  2.26530612,  2.3877551 ,\n",
       "         2.51020408,  2.63265306,  2.75510204,  2.87755102,  3.        ]),\n",
       " <a list of 49 Patch objects>)"
      ]
     },
     "execution_count": 47,
     "metadata": {},
     "output_type": "execute_result"
    },
    {
     "data": {
      "image/png": "[encoded data removed]",
      "text/plain": [
       "<Figure size 432x288 with 1 Axes>"
      ]
     },
     "metadata": {
      "needs_background": "light"
     },
     "output_type": "display_data"
    }
   ],
   "source": [
    "plt.hist(d_eta, bins=bins)"
   ]
  },
  {
   "cell_type": "code",
   "execution_count": 48,
   "metadata": {},
   "outputs": [
    {
     "data": {
      "text/plain": [
       "(array([1.00000e+00, 3.00000e+00, 1.00000e+00, 1.00000e+00, 8.78600e+03,\n",
       "        1.00000e+00, 1.15620e+04, 2.00000e+00, 1.00000e+00, 4.00000e+00,\n",
       "        4.00000e+00, 1.00000e+00, 2.00000e+00, 2.00000e+00, 5.00000e+00,\n",
       "        4.26770e+04, 7.00000e+00, 1.43940e+04, 2.86590e+04, 7.16760e+04,\n",
       "        2.86000e+04, 2.86960e+04, 1.44100e+04, 3.50580e+04, 5.55850e+04,\n",
       "        4.27700e+04, 1.45180e+04, 2.80780e+04, 2.80000e+01, 4.30540e+04,\n",
       "        1.43970e+04, 2.90250e+04, 2.15296e+05, 3.88890e+04, 1.31350e+04,\n",
       "        3.78720e+04, 5.29260e+04, 2.39630e+04, 2.44860e+04, 1.22490e+04,\n",
       "        1.39670e+04, 1.12060e+04, 2.46540e+04, 1.00000e+01, 2.69860e+04,\n",
       "        2.42550e+04, 1.38630e+04, 2.49620e+04, 1.38890e+04]),\n",
       " array([-3.        , -2.87755102, -2.75510204, -2.63265306, -2.51020408,\n",
       "        -2.3877551 , -2.26530612, -2.14285714, -2.02040816, -1.89795918,\n",
       "        -1.7755102 , -1.65306122, -1.53061224, -1.40816327, -1.28571429,\n",
       "        -1.16326531, -1.04081633, -0.91836735, -0.79591837, -0.67346939,\n",
       "        -0.55102041, -0.42857143, -0.30612245, -0.18367347, -0.06122449,\n",
       "         0.06122449,  0.18367347,  0.30612245,  0.42857143,  0.55102041,\n",
       "         0.67346939,  0.79591837,  0.91836735,  1.04081633,  1.16326531,\n",
       "         1.28571429,  1.40816327,  1.53061224,  1.65306122,  1.7755102 ,\n",
       "         1.89795918,  2.02040816,  2.14285714,  2.26530612,  2.3877551 ,\n",
       "         2.51020408,  2.63265306,  2.75510204,  2.87755102,  3.        ]),\n",
       " <a list of 49 Patch objects>)"
      ]
     },
     "execution_count": 48,
     "metadata": {},
     "output_type": "execute_result"
    },
    {
     "data": {
      "image/png": "[encoded data removed]",
      "text/plain": [
       "<Figure size 432x288 with 1 Axes>"
      ]
     },
     "metadata": {
      "needs_background": "light"
     },
     "output_type": "display_data"
    }
   ],
   "source": [
    "plt.hist(d_phi, bins=bins)"
   ]
  }
 ],
 "metadata": {
  "kernelspec": {
   "display_name": "Python 3",
   "language": "python",
   "name": "python3"
  },
  "language_info": {
   "codemirror_mode": {
    "name": "ipython",
    "version": 3
   },
   "file_extension": ".py",
   "mimetype": "text/x-python",
   "name": "python",
   "nbconvert_exporter": "python",
   "pygments_lexer": "ipython3",
   "version": "3.7.6"
  }
 },
 "nbformat": 4,
 "nbformat_minor": 4
}
