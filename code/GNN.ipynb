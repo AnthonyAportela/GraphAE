{
 "cells": [
  {
   "cell_type": "code",
   "execution_count": 3,
   "metadata": {},
   "outputs": [],
   "source": [
    "import pandas as pd\n",
    "import numpy as np\n",
    "from pyjet import cluster,DTYPE_PTEPM\n",
    "from sklearn import preprocessing\n",
    "from scipy.stats import iqr\n",
    "import tensorflow as tf"
   ]
  },
  {
   "cell_type": "markdown",
   "metadata": {},
   "source": [
    "# Pre processing"
   ]
  },
  {
   "cell_type": "code",
   "execution_count": 1,
   "metadata": {},
   "outputs": [],
   "source": [
    "path = '/anomalyvol/data/events_LHCO2020_backgroundMC_Pythia.h5'"
   ]
  },
  {
   "cell_type": "code",
   "execution_count": 23,
   "metadata": {},
   "outputs": [],
   "source": [
    "df = pd.read_hdf(path,stop=100) # just read first 10000 events"
   ]
  },
  {
   "cell_type": "code",
   "execution_count": 25,
   "metadata": {},
   "outputs": [],
   "source": [
    "all_events = df.values"
   ]
  },
  {
   "cell_type": "code",
   "execution_count": 26,
   "metadata": {},
   "outputs": [
    {
     "name": "stdout",
     "output_type": "stream",
     "text": [
      "100 2100\n"
     ]
    }
   ],
   "source": [
    "rows = all_events.shape[0]\n",
    "cols = all_events.shape[1]\n",
    "data = []\n",
    "# more_data\n",
    "data2 = []\n",
    "print(rows, cols)"
   ]
  },
  {
   "cell_type": "code",
   "execution_count": 51,
   "metadata": {},
   "outputs": [
    {
     "name": "stderr",
     "output_type": "stream",
     "text": [
      "IOPub data rate exceeded.\n",
      "The notebook server will temporarily stop sending output\n",
      "to the client in order to avoid crashing it.\n",
      "To change this limit, set the config variable\n",
      "`--NotebookApp.iopub_data_rate_limit`.\n",
      "\n",
      "Current values:\n",
      "NotebookApp.iopub_data_rate_limit=1000000.0 (bytes/sec)\n",
      "NotebookApp.rate_limit_window=3.0 (secs)\n",
      "\n"
     ]
    }
   ],
   "source": [
    "nparts = []\n",
    "for i in range(rows):\n",
    "    pseudojets_input = np.zeros(len([x for x in all_events[i][::3] if x > 0]), dtype=DTYPE_PTEPM)\n",
    "    for j in range(cols // 3):\n",
    "        if (all_events[i][j*3]>0):\n",
    "            pseudojets_input[j]['pT'] = all_events[i][j*3]\n",
    "            pseudojets_input[j]['eta'] = all_events[i][j*3+1]\n",
    "            pseudojets_input[j]['phi'] = all_events[i][j*3+2]\n",
    "        pass\n",
    "    # cluster jets from the particles in one observation\n",
    "    sequence = cluster(pseudojets_input, R=1.0, p=-1)\n",
    "    jets = sequence.inclusive_jets()\n",
    "    for k in range(len(jets)): # for each jet get (px, py, pz, e)\n",
    "        if jets[k].pt < 200: continue\n",
    "        particles = np.zeros((100,4))\n",
    "        nparts.append(len(jets[k]))\n",
    "        for p, part in enumerate(jets[k]):\n",
    "            if len(jets[k])==1: print(part)\n",
    "            if p >= 100: break\n",
    "            particles[p,:] = np.array([part.px,\n",
    "                                       part.py,\n",
    "                                       part.pz,\n",
    "                                       part.e])\n",
    "        data.append(particles)\n",
    "print(data)\n",
    "print(np.mean(nparts))\n",
    "print(np.max(nparts))\n",
    "print(np.min(nparts))\n",
    "print(np.percentile(nparts, 95))"
   ]
  },
  {
   "cell_type": "code",
   "execution_count": 55,
   "metadata": {},
   "outputs": [
    {
     "name": "stdout",
     "output_type": "stream",
     "text": [
      "(5891, 100, 4)\n",
      "[[[-4.53540316 -1.26489676  6.25380246  7.82814735]\n",
      "  [-1.29560759 -0.02328982  1.41958818  1.92207493]\n",
      "  [-0.68179651 -1.17327202  0.73898564  1.54515808]\n",
      "  ...\n",
      "  [ 0.          0.          0.          0.        ]\n",
      "  [ 0.          0.          0.          0.        ]\n",
      "  [ 0.          0.          0.          0.        ]]\n",
      "\n",
      " [[ 0.15441286  0.31261169  0.13826326  0.3750815 ]\n",
      "  [ 2.21352603  0.95378217  2.51937375  3.48663764]\n",
      "  [ 0.81016925  0.43543171  0.40410066  1.00462547]\n",
      "  ...\n",
      "  [ 0.          0.          0.          0.        ]\n",
      "  [ 0.          0.          0.          0.        ]\n",
      "  [ 0.          0.          0.          0.        ]]\n",
      "\n",
      " [[ 4.95538828 -1.92603623 11.14609147 12.34912319]\n",
      "  [ 0.40725781  0.1808598   2.26965288  2.31298366]\n",
      "  [ 1.68009995  0.60353411  4.741078    5.0660448 ]\n",
      "  ...\n",
      "  [ 0.          0.          0.          0.        ]\n",
      "  [ 0.          0.          0.          0.        ]\n",
      "  [ 0.          0.          0.          0.        ]]\n",
      "\n",
      " ...\n",
      "\n",
      " [[ 1.38188861 -0.19280869  1.03394964  1.73661832]\n",
      "  [ 5.23435231 -0.01275566  2.0981918   5.63923892]\n",
      "  [ 1.96048145  0.05520005  1.88393184  2.71950983]\n",
      "  ...\n",
      "  [ 0.          0.          0.          0.        ]\n",
      "  [ 0.          0.          0.          0.        ]\n",
      "  [ 0.          0.          0.          0.        ]]\n",
      "\n",
      " [[-1.07694379  1.34508803 -0.21705463  1.73671599]\n",
      "  [-3.89395749  8.48914647  1.3527104   9.43707254]\n",
      "  [-1.59722621 -0.3036004   1.90724738  2.50617185]\n",
      "  ...\n",
      "  [ 0.          0.          0.          0.        ]\n",
      "  [ 0.          0.          0.          0.        ]\n",
      "  [ 0.          0.          0.          0.        ]]\n",
      "\n",
      " [[ 0.08505312 -0.30115432  0.1183776   0.33457617]\n",
      "  [ 1.28090996 -1.48377006  1.12166258  2.25841336]\n",
      "  [ 3.81076368 -3.90369565  2.68098737  6.0785239 ]\n",
      "  ...\n",
      "  [ 0.          0.          0.          0.        ]\n",
      "  [ 0.          0.          0.          0.        ]\n",
      "  [ 0.          0.          0.          0.        ]]]\n"
     ]
    }
   ],
   "source": [
    "data = np.stack(data,axis=0)\n",
    "print(data.shape)\n",
    "print(data)"
   ]
  },
  {
   "cell_type": "code",
   "execution_count": 65,
   "metadata": {},
   "outputs": [],
   "source": [
    "# splitting data\n",
    "x_train = data[0:int(len(data) * 0.8)]\n",
    "x_val = data[int(len(data) * 0.8):int(len(data) * 0.9)]\n",
    "x_test = data[int(len(data) * 0.9):]"
   ]
  },
  {
   "cell_type": "code",
   "execution_count": 64,
   "metadata": {},
   "outputs": [
    {
     "name": "stdout",
     "output_type": "stream",
     "text": [
      "[[[-2.72299269e-01 -8.21571044e-02  2.56643247e-01  1.26510648e-01]\n",
      "  [-7.78589666e-02 -1.15153018e-03  5.36558854e-02 -5.43751421e-02]\n",
      "  [-4.10203428e-02 -7.61792750e-02  2.50775672e-02 -6.59190070e-02]\n",
      "  ...\n",
      "  [-1.01489351e-04  3.67956843e-04 -5.95224188e-03 -1.13242697e-01]\n",
      "  [-1.01489351e-04  3.67956843e-04 -5.95224188e-03 -1.13242697e-01]\n",
      "  [-1.01489351e-04  3.67956843e-04 -5.95224188e-03 -1.13242697e-01]]\n",
      "\n",
      " [[ 9.16578765e-03  2.07635337e-02 -1.46604528e-04 -1.01755043e-01]\n",
      "  [ 1.32745988e-01  6.25951163e-02  9.98355867e-02 -6.45714497e-03]\n",
      "  [ 4.85218115e-02  2.87766219e-02  1.10158367e-02 -8.24739459e-02]\n",
      "  ...\n",
      "  [-1.01489351e-04  3.67956843e-04 -5.95224188e-03 -1.13242697e-01]\n",
      "  [-1.01489351e-04  3.67956843e-04 -5.95224188e-03 -1.13242697e-01]\n",
      "  [-1.01489351e-04  3.67956843e-04 -5.95224188e-03 -1.13242697e-01]]\n",
      "\n",
      " [[ 2.97302212e-01 -1.25291514e-01  4.62069151e-01  2.64974965e-01]\n",
      "  [ 2.43405872e-02  1.21677074e-02  8.93498742e-02 -4.24027468e-02]\n",
      "  [ 1.00731768e-01  3.97440474e-02  1.93124352e-01  4.19154944e-02]\n",
      "  ...\n",
      "  [-1.01489351e-04  3.67956843e-04 -5.95224188e-03 -1.13242697e-01]\n",
      "  [-1.01489351e-04  3.67956843e-04 -5.95224188e-03 -1.13242697e-01]\n",
      "  [-1.01489351e-04  3.67956843e-04 -5.95224188e-03 -1.13242697e-01]]\n",
      "\n",
      " ...\n",
      "\n",
      " [[-1.01771120e-02 -4.53144430e-02 -8.89744183e-04 -9.08830094e-02]\n",
      "  [ 7.25687582e-02 -1.47524169e-01  1.05381273e-01 -1.51518006e-04]\n",
      "  [ 9.39139779e-02 -1.24482207e-01  1.05244948e-01 -2.26917074e-03]\n",
      "  ...\n",
      "  [-1.01489351e-04  3.67956843e-04 -5.95224188e-03 -1.13242697e-01]\n",
      "  [-1.01489351e-04  3.67956843e-04 -5.95224188e-03 -1.13242697e-01]\n",
      "  [-1.01489351e-04  3.67956843e-04 -5.95224188e-03 -1.13242697e-01]]\n",
      "\n",
      " [[ 5.52132286e-02 -3.26249174e-04  6.18094560e-03 -8.36582791e-02]\n",
      "  [ 2.25996531e-02  3.51206686e-03  4.94677831e-03 -9.91153762e-02]\n",
      "  [ 1.22881858e-01  5.21007489e-02  3.95349453e-02 -3.82135019e-02]\n",
      "  ...\n",
      "  [-1.01489351e-04  3.67956843e-04 -5.95224188e-03 -1.13242697e-01]\n",
      "  [-1.01489351e-04  3.67956843e-04 -5.95224188e-03 -1.13242697e-01]\n",
      "  [-1.01489351e-04  3.67956843e-04 -5.95224188e-03 -1.13242697e-01]]\n",
      "\n",
      " [[-7.81983129e-02  5.92481881e-03 -1.35704449e-01 -1.05199062e-02]\n",
      "  [-4.29518923e-02 -1.10351583e-02 -1.29700583e-01 -2.02161253e-02]\n",
      "  [-4.03021190e-02 -6.77982005e-03 -7.03630267e-02 -6.18683441e-02]\n",
      "  ...\n",
      "  [-6.24074448e-01 -6.91263068e-01 -1.19172851e+00  8.63924953e-01]\n",
      "  [-7.69077966e-02 -8.89228810e-02 -1.52640909e-01  8.16957187e-03]\n",
      "  [-1.34213605e+00 -1.42442388e+00 -2.43177305e+00  1.89849646e+00]]]\n"
     ]
    }
   ],
   "source": [
    "# regularize (skip for now)\n",
    "scaler = preprocessing.StandardScaler()\n",
    "x_train_reshape = scaler.fit_transform(x_train.reshape((-1,4)))\n",
    "x_val_reshape = scaler.transform(x_val.reshape((-1,4)))\n",
    "x_test_reshape = scaler.transform(x_test.reshape((-1,4)))\n",
    "x_train = x_train_reshape.reshape(-1,100,4)\n",
    "x_val = x_val_reshape.reshape(-1,100,4)\n",
    "x_test = x_test_reshape.reshape(-1,100,4)\n",
    "print(x_train)"
   ]
  },
  {
   "cell_type": "code",
   "execution_count": 75,
   "metadata": {},
   "outputs": [
    {
     "name": "stdout",
     "output_type": "stream",
     "text": [
      "Model: \"model_4\"\n",
      "_________________________________________________________________\n",
      "Layer (type)                 Output Shape              Param #   \n",
      "=================================================================\n",
      "input_conv (InputLayer)      (None, 100, 4)            0         \n",
      "_________________________________________________________________\n",
      "conv_1 (Conv1D)              (None, 100, 64)           320       \n",
      "_________________________________________________________________\n",
      "conv_2 (Conv1D)              (None, 100, 32)           2080      \n",
      "_________________________________________________________________\n",
      "conv_3 (Conv1D)              (None, 100, 32)           1056      \n",
      "_________________________________________________________________\n",
      "lambda_1 (Lambda)            (None, 32)                0         \n",
      "_________________________________________________________________\n",
      "dense_1 (Dense)              (None, 128)               4224      \n",
      "_________________________________________________________________\n",
      "dense_2 (Dense)              (None, 400)               51600     \n",
      "_________________________________________________________________\n",
      "output (Reshape)             (None, 100, 4)            0         \n",
      "=================================================================\n",
      "Total params: 59,280\n",
      "Trainable params: 59,280\n",
      "Non-trainable params: 0\n",
      "_________________________________________________________________\n",
      "None\n"
     ]
    }
   ],
   "source": [
    "# make graph representation\n",
    "\n",
    "import keras\n",
    "from keras.models import Model\n",
    "from keras.layers import Input, Dense, BatchNormalization, Dropout, Lambda, Conv1D, SpatialDropout1D, Concatenate, Flatten, Reshape\n",
    "import keras.backend as K\n",
    "from keras.backend import slice\n",
    "\n",
    "def conv(nconvs, nconvinputs):\n",
    "\n",
    "    inputs_conv = Input(shape=(nconvs, nconvinputs,), name = 'input_conv')\n",
    "\n",
    "    y = Conv1D(filters=64, kernel_size=(1,), strides=(1,), padding='same', \n",
    "               kernel_initializer='he_normal', use_bias=True, name='conv_1',\n",
    "               activation = 'relu')(inputs_conv)\n",
    "    y = Conv1D(filters=32, kernel_size=(1,), strides=(1,), padding='same', \n",
    "               kernel_initializer='he_normal', use_bias=True, name='conv_2',\n",
    "               activation = 'relu')(y)\n",
    "    y = Conv1D(filters=32, kernel_size=(1,), strides=(1,), padding='same', \n",
    "               kernel_initializer='he_normal', use_bias=True, name='conv_3',\n",
    "               activation = 'relu')(y)\n",
    "\n",
    "    y = Lambda(lambda x: K.mean(x, axis=-2), name = 'lambda_1', input_shape=(nconvs,32)) (y) \n",
    "                 \n",
    "    y = Dense(128, name = 'dense_1', activation='relu', kernel_initializer='glorot_uniform')(y)\n",
    "    y = Dense(nconvs*nconvinputs, name = 'dense_2', activation='linear', kernel_initializer='glorot_uniform')(y)\n",
    "    outputs = Reshape((nconvs, nconvinputs), name = 'output')(y)\n",
    "\n",
    "    keras_model = Model(inputs=inputs_conv, outputs=outputs)\n",
    "    \n",
    "    return keras_model\n",
    "    \n",
    "keras_model = conv(100, 4)\n",
    "print(keras_model.summary())"
   ]
  },
  {
   "cell_type": "code",
   "execution_count": null,
   "metadata": {},
   "outputs": [],
   "source": []
  }
 ],
 "metadata": {
  "kernelspec": {
   "display_name": "Python 3",
   "language": "python",
   "name": "python3"
  },
  "language_info": {
   "codemirror_mode": {
    "name": "ipython",
    "version": 3
   },
   "file_extension": ".py",
   "mimetype": "text/x-python",
   "name": "python",
   "nbconvert_exporter": "python",
   "pygments_lexer": "ipython3",
   "version": "3.7.6"
  }
 },
 "nbformat": 4,
 "nbformat_minor": 4
}
