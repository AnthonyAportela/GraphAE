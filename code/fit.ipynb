{
 "cells": [
  {
   "cell_type": "code",
   "execution_count": 1,
   "metadata": {},
   "outputs": [],
   "source": [
    "import random\n",
    "random.seed(42)\n",
    "import numpy as np\n",
    "np.random.seed(seed=42)\n",
    "\n",
    "import pandas as pd\n",
    "\n",
    "\n",
    "box = ['bb1', 'bb2','rnd'][0]\n",
    "df = pd.read_pickle('/anomalyvol/figures2/GNN_AE_EdgeConv_Finished/%s/df.pkl'%box)"
   ]
  },
  {
   "cell_type": "code",
   "execution_count": 2,
   "metadata": {},
   "outputs": [],
   "source": [
    "import numpy as np\n",
    "import matplotlib.pyplot as plt\n",
    "from scipy.optimize import curve_fit\n",
    "import mplhep as hep\n",
    "plt.style.use(hep.style.CMS)\n",
    "\n",
    "signal_mjj = np.array([1, 3, 6, 10, 16, 23, 31, 40, 50, 61, 74, 88, 103, 119, 137, 156, \n",
    "              176, 197, 220, 244, 270, 296, 325, 354, 386, 419, 453, 489, 526, \n",
    "              565, 606, 649, 693, 740, 788, 838, 890, 944, 1000, 1058, 1118, \n",
    "              1181, 1246, 1313, 1383, 1455, 1530, 1607, 1687, 1770, 1856, \n",
    "              1945, 2037, 2132, 2231, 2332, 2438, 2546, 2659, 2775, 2895, \n",
    "              3019, 3147, 3279, 3416, 3558, 3704, 3854, 4010, 4171, 4337, \n",
    "              4509, 4686, 4869, 5058, 5253, 5455, 5663, 5877, 6099, 6328, \n",
    "              6564, 6808, 7060, 7320, 7589, 7866, 8152, 8447, 8752, 9067, \n",
    "              9391, 9726, 10072, 10430, 10798, 11179, 11571, 11977, 12395, \n",
    "              12827, 13272, 13732, 14000])\n",
    "\n",
    "bins = signal_mjj[(signal_mjj >= 2659) * (signal_mjj <= 6099)]\n",
    "\n",
    "xmin = bins[0]\n",
    "xmax = bins[-1]\n",
    "\n",
    "def fit_function(x, p0, p1, p2, p3, p4):\n",
    "    xnorm = (x-xmin)/(xmax-xmin)\n",
    "    return p0 + p1*xnorm + p2*xnorm**2 + p3*xnorm**3 + p4*xnorm**4"
   ]
  },
  {
   "cell_type": "code",
   "execution_count": null,
   "metadata": {},
   "outputs": [
    {
     "name": "stdout",
     "output_type": "stream",
     "text": [
      "(10097,)\n",
      "(989604,)\n"
     ]
    }
   ],
   "source": [
    "all_losses = np.concatenate((df['loss1'],df['loss2']))\n",
    "\n",
    "thresh = np.quantile(all_losses, 0.9) \n",
    "min_loss = np.minimum(df['loss1'],df['loss2'])\n",
    "\n",
    "\n",
    "dijet_mass = df['dijet_mass']\n",
    "outlier = (min_loss > thresh)\n",
    "\n",
    "pass_mass = dijet_mass[outlier]\n",
    "fail_mass = dijet_mass[~outlier]\n",
    "print(pass_mass.shape)\n",
    "print(fail_mass.shape)\n",
    "\n",
    "pass_hist, _ = np.histogram(pass_mass, bins=bins)\n",
    "fail_hist, _ = np.histogram(fail_mass, bins=bins)\n",
    "\n",
    "\n",
    "binscenters = np.array([0.5 * (bins[i] + bins[i+1]) for i in range(len(bins)-1)])\n",
    "popt, pcov = curve_fit(fit_function, xdata=binscenters, ydata=pass_hist/fail_hist, \n",
    "                       p0=[1]*5)\n",
    "\n",
    "f, axs = plt.subplots(1,2, figsize=(16, 6))\n",
    "\n",
    "axs[0].hist(fail_mass,bins=bins,alpha=0.5, label='Nonoutliers')\n",
    "axs[0].hist(pass_mass,bins=bins,alpha=0.5, label='Outliers')\n",
    "axs[0].set_xlim(xmin, xmax)\n",
    "#axs[0].set_ylim(1, 1e4)\n",
    "axs[0].set_xlabel(r'$m_{jj}$ [GeV]')\n",
    "axs[0].set_ylabel(r'Events')\n",
    "axs[0].legend(title='Prefit')\n",
    "axs[0].semilogy()\n",
    "\n",
    "axs[1].hist(fail_mass,bins=bins,weights=fit_function(fail_mass, *popt),alpha=0.5, label='Nonoutliers')\n",
    "axs[1].hist(pass_mass,bins=bins,alpha=0.5, label='Outliers')\n",
    "axs[1].set_xlabel(r'$m_{jj}$ [GeV]')\n",
    "axs[1].set_ylabel(r'Events')\n",
    "axs[1].set_xlim(xmin, xmax)\n",
    "#axs[1].set_ylim(1,1e4)\n",
    "axs[1].legend(title='Postfit')\n",
    "axs[1].semilogy()\n",
    "f.figsave('%s_fit.pdf'%box)"
   ]
  },
  {
   "cell_type": "code",
   "execution_count": null,
   "metadata": {},
   "outputs": [],
   "source": [
    "# Plot the histogram and the fitted function.\n",
    "\n",
    "# Generate enough x values to make the curves look smooth.\n",
    "xspace = np.linspace(xmin, xmax, 100000)\n",
    "\n",
    "fail_hist_weighted, _ = np.histogram(fail_mass, bins=bins, weights=fit_function(fail_mass, *popt))\n",
    "\n",
    "f, axs = plt.subplots(1,2, figsize=(16, 3))\n",
    "axs[0].plot(binscenters, pass_hist/fail_hist, color='navy', label=r'Prefit', marker='o',linestyle='')\n",
    "axs[0].plot(xspace, fit_function(xspace, *popt), color='darkorange', linewidth=2.5, label=r'Fitted function')\n",
    "axs[0].set_xlabel(r'$m_{jj}$ [GeV]')\n",
    "axs[0].set_xlim(xmin, xmax)\n",
    "#axs[0].set_ylim(0, 2)\n",
    "axs[0].set_ylabel(r'Ratio')\n",
    "axs[0].legend()\n",
    "axs[1].plot(binscenters, pass_hist/fail_hist_weighted, color='navy', label=r'Postfit', marker='o',linestyle='')\n",
    "axs[1].plot(xspace, np.ones_like(xspace), color='gray', linewidth=2.5)\n",
    "axs[1].set_xlabel(r'$m_{jj}$ [GeV]')\n",
    "axs[1].set_ylabel(r'Ratio')\n",
    "axs[1].set_xlim(xmin, xmax)\n",
    "#axs[1].set_ylim(0, 2)\n",
    "axs[1].legend(loc='upper right')\n",
    "f.figsave('%s_fit_ratio.pdf'%box)"
   ]
  },
  {
   "cell_type": "code",
   "execution_count": null,
   "metadata": {},
   "outputs": [],
   "source": [
    "import pyBumpHunter as BH\n",
    "import sys\n",
    "import mplhep \n",
    "bh = BH.BumpHunter(rang=[xmin,xmax],\n",
    "                        bins=bins,\n",
    "                        weights=fit_function(fail_mass, *popt),\n",
    "                        width_min=2,\n",
    "                        width_max=5, \n",
    "                        Npe=10000,\n",
    "                        seed=42)\n",
    "bh.BumpScan(pass_mass, fail_mass)\n",
    "bh.PrintBumpTrue(pass_mass, fail_mass)\n",
    "bh.PlotBump(data=pass_mass, bkg=fail_mass,filename='%s_bumphunter.pdf'%box)\n",
    "bh.PlotBHstat(show_Pval=True,filename='%s_bumphunter.pdf'%box)"
   ]
  },
  {
   "cell_type": "code",
   "execution_count": null,
   "metadata": {},
   "outputs": [],
   "source": []
  }
 ],
 "metadata": {
  "kernelspec": {
   "display_name": "Python 3",
   "language": "python",
   "name": "python3"
  },
  "language_info": {
   "codemirror_mode": {
    "name": "ipython",
    "version": 3
   },
   "file_extension": ".py",
   "mimetype": "text/x-python",
   "name": "python",
   "nbconvert_exporter": "python",
   "pygments_lexer": "ipython3",
   "version": "3.7.6"
  }
 },
 "nbformat": 4,
 "nbformat_minor": 4
}
