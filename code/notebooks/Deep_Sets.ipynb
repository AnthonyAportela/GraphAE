{
 "cells": [
  {
   "cell_type": "code",
   "execution_count": 1,
   "metadata": {},
   "outputs": [],
   "source": [
    "import pandas as pd\n",
    "import numpy as np\n",
    "from pyjet import cluster,DTYPE_PTEPM\n",
    "from sklearn import preprocessing\n",
    "from scipy.stats import iqr\n",
    "import tensorflow as tf"
   ]
  },
  {
   "cell_type": "markdown",
   "metadata": {},
   "source": [
    "# Pre processing"
   ]
  },
  {
   "cell_type": "code",
   "execution_count": 2,
   "metadata": {},
   "outputs": [],
   "source": [
    "path = '/anomalyvol/data/events_LHCO2020_backgroundMC_Pythia.h5'"
   ]
  },
  {
   "cell_type": "code",
   "execution_count": 19,
   "metadata": {},
   "outputs": [],
   "source": [
    "df = pd.read_hdf(path,stop=10000) # just read first 10000 events"
   ]
  },
  {
   "cell_type": "code",
   "execution_count": 20,
   "metadata": {},
   "outputs": [],
   "source": [
    "all_events = df.values"
   ]
  },
  {
   "cell_type": "code",
   "execution_count": 21,
   "metadata": {},
   "outputs": [
    {
     "name": "stdout",
     "output_type": "stream",
     "text": [
      "10000 2100\n"
     ]
    }
   ],
   "source": [
    "rows = all_events.shape[0]\n",
    "cols = all_events.shape[1]\n",
    "data = []\n",
    "# more_data\n",
    "data2 = []\n",
    "print(rows, cols)"
   ]
  },
  {
   "cell_type": "code",
   "execution_count": 22,
   "metadata": {},
   "outputs": [
    {
     "name": "stderr",
     "output_type": "stream",
     "text": [
      "IOPub data rate exceeded.\n",
      "The notebook server will temporarily stop sending output\n",
      "to the client in order to avoid crashing it.\n",
      "To change this limit, set the config variable\n",
      "`--NotebookApp.iopub_data_rate_limit`.\n",
      "\n",
      "Current values:\n",
      "NotebookApp.iopub_data_rate_limit=1000000.0 (bytes/sec)\n",
      "NotebookApp.rate_limit_window=3.0 (secs)\n",
      "\n"
     ]
    }
   ],
   "source": [
    "nparts = []\n",
    "for i in range(rows):\n",
    "    pseudojets_input = np.zeros(len([x for x in all_events[i][::3] if x > 0]), dtype=DTYPE_PTEPM)\n",
    "    for j in range(cols // 3):\n",
    "        if (all_events[i][j*3]>0):\n",
    "            pseudojets_input[j]['pT'] = all_events[i][j*3]\n",
    "            pseudojets_input[j]['eta'] = all_events[i][j*3+1]\n",
    "            pseudojets_input[j]['phi'] = all_events[i][j*3+2]\n",
    "        pass\n",
    "    # cluster jets from the particles in one observation\n",
    "    sequence = cluster(pseudojets_input, R=1.0, p=-1)\n",
    "    jets = sequence.inclusive_jets()\n",
    "    for k in range(len(jets)): # for each jet get (px, py, pz, e)\n",
    "        if jets[k].pt < 200: continue\n",
    "        particles = np.zeros((100,4))\n",
    "        nparts.append(len(jets[k]))\n",
    "        for p, part in enumerate(jets[k]):\n",
    "            if p >= 100: break\n",
    "            particles[p,:] = np.array([part.px,\n",
    "                                       part.py,\n",
    "                                       part.pz,\n",
    "                                       part.e])\n",
    "        data.append(particles)\n",
    "print(data)\n",
    "print(np.mean(nparts))\n",
    "print(np.max(nparts))\n",
    "print(np.min(nparts))\n",
    "print(np.percentile(nparts, 95))"
   ]
  },
  {
   "cell_type": "code",
   "execution_count": 23,
   "metadata": {},
   "outputs": [
    {
     "name": "stdout",
     "output_type": "stream",
     "text": [
      "(24043, 100, 4)\n",
      "[[[-4.53540316 -1.26489676  6.25380246  7.82814735]\n",
      "  [-1.29560759 -0.02328982  1.41958818  1.92207493]\n",
      "  [-0.68179651 -1.17327202  0.73898564  1.54515808]\n",
      "  ...\n",
      "  [ 0.          0.          0.          0.        ]\n",
      "  [ 0.          0.          0.          0.        ]\n",
      "  [ 0.          0.          0.          0.        ]]\n",
      "\n",
      " [[ 0.15441286  0.31261169  0.13826326  0.3750815 ]\n",
      "  [ 2.21352603  0.95378217  2.51937375  3.48663764]\n",
      "  [ 0.81016925  0.43543171  0.40410066  1.00462547]\n",
      "  ...\n",
      "  [ 0.          0.          0.          0.        ]\n",
      "  [ 0.          0.          0.          0.        ]\n",
      "  [ 0.          0.          0.          0.        ]]\n",
      "\n",
      " [[ 4.95538828 -1.92603623 11.14609147 12.34912319]\n",
      "  [ 0.40725781  0.1808598   2.26965288  2.31298366]\n",
      "  [ 1.68009995  0.60353411  4.741078    5.0660448 ]\n",
      "  ...\n",
      "  [ 0.          0.          0.          0.        ]\n",
      "  [ 0.          0.          0.          0.        ]\n",
      "  [ 0.          0.          0.          0.        ]]\n",
      "\n",
      " ...\n",
      "\n",
      " [[-0.07010023 -0.91862306  0.08925008  0.9256068 ]\n",
      "  [ 0.69500947 -2.27583932 -1.27290664  2.69866154]\n",
      "  [-1.62437441 -2.80858815 -1.60168191  3.61830686]\n",
      "  ...\n",
      "  [ 0.          0.          0.          0.        ]\n",
      "  [ 0.          0.          0.          0.        ]\n",
      "  [ 0.          0.          0.          0.        ]]\n",
      "\n",
      " [[ 1.31168775 -0.33555933  3.5821926   3.82952068]\n",
      "  [ 0.67151948 -2.31452534  6.45834591  6.89334446]\n",
      "  [ 1.09644977 -2.35909751  7.37440173  7.81980461]\n",
      "  ...\n",
      "  [ 0.          0.          0.          0.        ]\n",
      "  [ 0.          0.          0.          0.        ]\n",
      "  [ 0.          0.          0.          0.        ]]\n",
      "\n",
      " [[-0.69192834  0.22884931 -0.43728078  0.84991254]\n",
      "  [-0.81852193  0.06003807 -0.93826536  1.24656512]\n",
      "  [-1.3814556   0.31407104 -1.41774127  2.00425809]\n",
      "  ...\n",
      "  [ 0.          0.          0.          0.        ]\n",
      "  [ 0.          0.          0.          0.        ]\n",
      "  [ 0.          0.          0.          0.        ]]]\n"
     ]
    }
   ],
   "source": [
    "data = np.stack(data,axis=0)\n",
    "print(data.shape)\n",
    "print(data)"
   ]
  },
  {
   "cell_type": "code",
   "execution_count": 61,
   "metadata": {},
   "outputs": [],
   "source": [
    "# splitting data\n",
    "x_train = data[0:int(len(data) * 0.8)]\n",
    "x_val = data[int(len(data) * 0.8):int(len(data) * 0.9)]\n",
    "x_test = data[int(len(data) * 0.9):]"
   ]
  },
  {
   "cell_type": "code",
   "execution_count": 66,
   "metadata": {},
   "outputs": [
    {
     "name": "stdout",
     "output_type": "stream",
     "text": [
      "[[[-1.36591596e-01 -3.81444476e-02  1.36415940e-01 -1.10782085e-01]\n",
      "  [-3.90044370e-02 -7.93839132e-04  3.20091069e-02 -2.02709628e-01]\n",
      "  [-2.05155919e-02 -3.53881488e-02  1.73098089e-02 -2.08576308e-01]\n",
      "  ...\n",
      "  [ 2.10693726e-05 -9.32235807e-05  1.34958326e-03 -2.32626570e-01]\n",
      "  [ 2.10693726e-05 -9.32235807e-05  1.34958326e-03 -2.32626570e-01]\n",
      "  [ 2.10693726e-05 -9.32235807e-05  1.34958326e-03 -2.32626570e-01]]\n",
      "\n",
      " [[ 4.67219992e-03  9.31090958e-03  4.33572095e-03 -2.26788457e-01]\n",
      "  [ 6.66955586e-02  2.85989040e-02  5.57617009e-02 -1.78357335e-01]\n",
      "  [ 2.44244966e-02  1.30056395e-02  1.00771382e-02 -2.16989655e-01]\n",
      "  ...\n",
      "  [ 2.10693726e-05 -9.32235807e-05  1.34958326e-03 -2.32626570e-01]\n",
      "  [ 2.10693726e-05 -9.32235807e-05  1.34958326e-03 -2.32626570e-01]\n",
      "  [ 2.10693726e-05 -9.32235807e-05  1.34958326e-03 -2.32626570e-01]]\n",
      "\n",
      " [[ 1.49284271e-01 -5.80331586e-02  2.42077041e-01 -4.04134583e-02]\n",
      "  [ 1.22882422e-02  5.34748673e-03  5.03683600e-02 -1.96625165e-01]\n",
      "  [ 5.06280217e-02  1.80625756e-02  1.03744908e-01 -1.53773989e-01]\n",
      "  ...\n",
      "  [ 2.10693726e-05 -9.32235807e-05  1.34958326e-03 -2.32626570e-01]\n",
      "  [ 2.10693726e-05 -9.32235807e-05  1.34958326e-03 -2.32626570e-01]\n",
      "  [ 2.10693726e-05 -9.32235807e-05  1.34958326e-03 -2.32626570e-01]]\n",
      "\n",
      " ...\n",
      "\n",
      " [[-5.48355942e-02 -2.58511724e-03 -1.14325708e-03 -2.04193833e-01]\n",
      "  [-7.18390438e-02 -5.08246675e-03 -4.07998877e-02 -1.84582361e-01]\n",
      "  [-3.71281518e-02  1.32596637e-02 -4.25462857e-02 -1.94983387e-01]\n",
      "  ...\n",
      "  [ 2.10693726e-05 -9.32235807e-05  1.34958326e-03 -2.32626570e-01]\n",
      "  [ 2.10693726e-05 -9.32235807e-05  1.34958326e-03 -2.32626570e-01]\n",
      "  [ 2.10693726e-05 -9.32235807e-05  1.34958326e-03 -2.32626570e-01]]\n",
      "\n",
      " [[ 5.05432298e-02 -4.80276448e-02  1.54081161e-02 -1.95218818e-01]\n",
      "  [ 3.81602856e-02 -2.05678491e-02  9.08610779e-03 -2.09567483e-01]\n",
      "  [ 5.59601227e-02 -1.22940663e-02  1.44188352e-02 -2.01576324e-01]\n",
      "  ...\n",
      "  [ 2.10693726e-05 -9.32235807e-05  1.34958326e-03 -2.32626570e-01]\n",
      "  [ 2.10693726e-05 -9.32235807e-05  1.34958326e-03 -2.32626570e-01]\n",
      "  [ 2.10693726e-05 -9.32235807e-05  1.34958326e-03 -2.32626570e-01]]\n",
      "\n",
      " [[-9.51946993e-02 -2.01151247e-02 -2.39030186e-02 -1.79153769e-01]\n",
      "  [-8.67416213e-02  1.78380508e-01  1.49063084e-01 -8.47414854e-02]\n",
      "  [-6.16635991e-02 -2.64351546e-03 -1.97113354e-02 -1.97297684e-01]\n",
      "  ...\n",
      "  [ 2.10693726e-05 -9.32235807e-05  1.34958326e-03 -2.32626570e-01]\n",
      "  [ 2.10693726e-05 -9.32235807e-05  1.34958326e-03 -2.32626570e-01]\n",
      "  [ 2.10693726e-05 -9.32235807e-05  1.34958326e-03 -2.32626570e-01]]]\n"
     ]
    }
   ],
   "source": [
    "# regularize (skip for now)\n",
    "scaler = preprocessing.StandardScaler()\n",
    "x_train_reshape = scaler.fit_transform(x_train.reshape((-1,4)))\n",
    "x_val_reshape = scaler.transform(x_val.reshape((-1,4)))\n",
    "x_test_reshape = scaler.transform(x_test.reshape((-1,4)))\n",
    "x_train = x_train_reshape.reshape(-1,100,4)\n",
    "x_val = x_val_reshape.reshape(-1,100,4)\n",
    "x_test = x_test_reshape.reshape(-1,100,4)\n",
    "print(x_train)"
   ]
  },
  {
   "cell_type": "code",
   "execution_count": 68,
   "metadata": {},
   "outputs": [
    {
     "name": "stdout",
     "output_type": "stream",
     "text": [
      "Model: \"model_8\"\n",
      "_________________________________________________________________\n",
      "Layer (type)                 Output Shape              Param #   \n",
      "=================================================================\n",
      "input_conv (InputLayer)      (None, 100, 4)            0         \n",
      "_________________________________________________________________\n",
      "conv_1 (Conv1D)              (None, 100, 32)           160       \n",
      "_________________________________________________________________\n",
      "lambda_1 (Lambda)            (None, 32)                0         \n",
      "_________________________________________________________________\n",
      "dense_1 (Dense)              (None, 3200)              105600    \n",
      "_________________________________________________________________\n",
      "reshape_1 (Reshape)          (None, 100, 32)           0         \n",
      "_________________________________________________________________\n",
      "output (Conv1D)              (None, 100, 4)            132       \n",
      "=================================================================\n",
      "Total params: 105,892\n",
      "Trainable params: 105,892\n",
      "Non-trainable params: 0\n",
      "_________________________________________________________________\n",
      "None\n"
     ]
    }
   ],
   "source": [
    "# make graph representation\n",
    "import keras\n",
    "from keras.models import Model\n",
    "from keras.layers import Input, Dense, BatchNormalization, Dropout, Lambda, Conv1D, SpatialDropout1D, Concatenate, Flatten, Reshape\n",
    "import keras.backend as K\n",
    "from keras.backend import slice\n",
    "\n",
    "def conv(nconvs, nconvinputs):\n",
    "\n",
    "    inputs_conv = Input(shape=(nconvs, nconvinputs,), name = 'input_conv')\n",
    "\n",
    "    y = Conv1D(filters=32, kernel_size=(1,), strides=(1,), padding='same', \n",
    "               kernel_initializer='he_normal', use_bias=True, name='conv_1',\n",
    "               activation = 'relu')(inputs_conv)\n",
    "\n",
    "    y = Lambda(lambda x: K.mean(x, axis=-2), name = 'lambda_1', input_shape=(nconvs,32)) (y) \n",
    "                 \n",
    "    y = Dense(nconvs*32, name = 'dense_1', activation='relu', kernel_initializer='glorot_uniform')(y)\n",
    "    y = Reshape((nconvs, 32), name = 'reshape_1')(y)\n",
    "    outputs = Conv1D(filters=4, kernel_size=(1,), strides=(1,), padding='same', \n",
    "               kernel_initializer='he_normal', use_bias=True, name='output',\n",
    "               activation = 'linear')(y)\n",
    "\n",
    "    keras_model = Model(inputs=inputs_conv, outputs=outputs)\n",
    "    \n",
    "    return keras_model\n",
    "    \n",
    "keras_model = conv(100, 4)\n",
    "print(keras_model.summary())"
   ]
  },
  {
   "cell_type": "code",
   "execution_count": 116,
   "metadata": {},
   "outputs": [
    {
     "name": "stderr",
     "output_type": "stream",
     "text": [
      "/opt/conda/lib/python3.7/site-packages/keras/callbacks/callbacks.py:998: UserWarning: `epsilon` argument is deprecated and will be removed, use `min_delta` instead.\n",
      "  warnings.warn('`epsilon` argument is deprecated and '\n"
     ]
    },
    {
     "name": "stdout",
     "output_type": "stream",
     "text": [
      "Train on 19234 samples, validate on 2404 samples\n",
      "Epoch 1/300\n",
      "19234/19234 [==============================] - 0s 15us/step - loss: 0.8615 - val_loss: 0.9247\n",
      "Epoch 2/300\n",
      "19234/19234 [==============================] - 0s 6us/step - loss: 0.8615 - val_loss: 0.9247\n",
      "\n",
      "Epoch 00002: ReduceLROnPlateau reducing learning rate to 4.999999873689376e-05.\n",
      "Epoch 3/300\n",
      "19234/19234 [==============================] - 0s 6us/step - loss: 0.8615 - val_loss: 0.9247\n",
      "Epoch 4/300\n",
      "19234/19234 [==============================] - 0s 6us/step - loss: 0.8615 - val_loss: 0.9247\n",
      "Epoch 5/300\n",
      "19234/19234 [==============================] - 0s 6us/step - loss: 0.8615 - val_loss: 0.9247\n",
      "Epoch 6/300\n",
      "19234/19234 [==============================] - 0s 6us/step - loss: 0.8615 - val_loss: 0.9247\n",
      "\n",
      "Epoch 00006: ReduceLROnPlateau reducing learning rate to 2.499999936844688e-05.\n",
      "Epoch 7/300\n",
      "19234/19234 [==============================] - 0s 6us/step - loss: 0.8615 - val_loss: 0.9247\n",
      "Epoch 8/300\n",
      "19234/19234 [==============================] - 0s 6us/step - loss: 0.8615 - val_loss: 0.9247\n",
      "Epoch 9/300\n",
      "19234/19234 [==============================] - 0s 6us/step - loss: 0.8615 - val_loss: 0.9247\n",
      "Epoch 10/300\n",
      "19234/19234 [==============================] - 0s 6us/step - loss: 0.8615 - val_loss: 0.9247\n",
      "\n",
      "Epoch 00010: ReduceLROnPlateau reducing learning rate to 1.249999968422344e-05.\n",
      "Epoch 11/300\n",
      "19234/19234 [==============================] - 0s 6us/step - loss: 0.8615 - val_loss: 0.9247\n",
      "Epoch 12/300\n",
      "19234/19234 [==============================] - 0s 6us/step - loss: 0.8615 - val_loss: 0.9247\n",
      "Epoch 13/300\n",
      "19234/19234 [==============================] - 0s 6us/step - loss: 0.8615 - val_loss: 0.9247\n",
      "Epoch 14/300\n",
      "19234/19234 [==============================] - 0s 6us/step - loss: 0.8615 - val_loss: 0.9247\n",
      "\n",
      "Epoch 00014: ReduceLROnPlateau reducing learning rate to 1e-05.\n",
      "Epoch 15/300\n",
      "19234/19234 [==============================] - 0s 6us/step - loss: 0.8615 - val_loss: 0.9247\n"
     ]
    }
   ],
   "source": [
    "my_callbacks = [\n",
    "    keras.callbacks.EarlyStopping(patience=10,monitor='val_loss'),\n",
    "    keras.callbacks.ReduceLROnPlateau(monitor='val_loss', factor=0.5, patience=1, \n",
    "                                      mode='min', verbose=1, epsilon=0.001,\n",
    "                                      cooldown=4, min_lr=1e-5)\n",
    "]\n",
    "opt = keras.optimizers.Adadelta(lr=0.0001)\n",
    "keras_model.compile(loss='mse',optimizer=opt)\n",
    "history = keras_model.fit(x_train, x_train,\n",
    "                          epochs=300,\n",
    "                          shuffle=True,\n",
    "                          callbacks=my_callbacks,\n",
    "                          validation_data = (x_val,x_val),\n",
    "                          batch_size = 1024)"
   ]
  },
  {
   "cell_type": "code",
   "execution_count": 150,
   "metadata": {},
   "outputs": [],
   "source": [
    "predict = keras_model.predict(x_test)\n",
    "i = 3 # px\n",
    "dx = ((predict[:,i] - x_test[:,i])/x_test[:,i]).flatten()"
   ]
  },
  {
   "cell_type": "code",
   "execution_count": 151,
   "metadata": {},
   "outputs": [
    {
     "data": {
      "text/plain": [
       "(array([ 10.,  14.,  16.,  14.,  14.,  11.,  14.,  20.,  20.,  12.,  12.,\n",
       "         17.,  18.,  20.,  27.,  19.,  30.,  26.,  35.,  32.,  34.,  39.,\n",
       "         35.,  49.,  72.,  79.,  80.,  77.,  80.,  94.,  94., 101., 102.,\n",
       "         94., 114., 112., 108., 138., 133., 133., 169., 179., 200., 194.,\n",
       "        257., 224., 249., 203., 204., 173., 143., 131.,  97.,  95.,  95.,\n",
       "         77.,  93.,  66.,  71.,  68.,  70.,  48.,  67.,  55.,  53.,  59.,\n",
       "         48.,  39.,  53.,  54.,  46.,  44.,  37.,  35.,  31.,  28.,  33.,\n",
       "         46.,  39.,  45.,  40.,  24.,  44.,  40.,  44.,  42.,  38.,  30.,\n",
       "         31.,  36.,  30.,  31.,  26.,  28.,  36.,  22.,  32.,  26.,  27.,\n",
       "         16.]),\n",
       " array([-2.  , -1.96, -1.92, -1.88, -1.84, -1.8 , -1.76, -1.72, -1.68,\n",
       "        -1.64, -1.6 , -1.56, -1.52, -1.48, -1.44, -1.4 , -1.36, -1.32,\n",
       "        -1.28, -1.24, -1.2 , -1.16, -1.12, -1.08, -1.04, -1.  , -0.96,\n",
       "        -0.92, -0.88, -0.84, -0.8 , -0.76, -0.72, -0.68, -0.64, -0.6 ,\n",
       "        -0.56, -0.52, -0.48, -0.44, -0.4 , -0.36, -0.32, -0.28, -0.24,\n",
       "        -0.2 , -0.16, -0.12, -0.08, -0.04,  0.  ,  0.04,  0.08,  0.12,\n",
       "         0.16,  0.2 ,  0.24,  0.28,  0.32,  0.36,  0.4 ,  0.44,  0.48,\n",
       "         0.52,  0.56,  0.6 ,  0.64,  0.68,  0.72,  0.76,  0.8 ,  0.84,\n",
       "         0.88,  0.92,  0.96,  1.  ,  1.04,  1.08,  1.12,  1.16,  1.2 ,\n",
       "         1.24,  1.28,  1.32,  1.36,  1.4 ,  1.44,  1.48,  1.52,  1.56,\n",
       "         1.6 ,  1.64,  1.68,  1.72,  1.76,  1.8 ,  1.84,  1.88,  1.92,\n",
       "         1.96,  2.  ]),\n",
       " <a list of 100 Patch objects>)"
      ]
     },
     "execution_count": 151,
     "metadata": {},
     "output_type": "execute_result"
    },
    {
     "data": {
      "image/png": "[encoded data removed]",
      "text/plain": [
       "<Figure size 432x288 with 1 Axes>"
      ]
     },
     "metadata": {
      "needs_background": "light"
     },
     "output_type": "display_data"
    },
    {
     "data": {
      "image/png": "[encoded data removed]",
      "text/plain": [
       "<Figure size 432x288 with 1 Axes>"
      ]
     },
     "metadata": {
      "needs_background": "light"
     },
     "output_type": "display_data"
    }
   ],
   "source": [
    "import matplotlib.pyplot as plt\n",
    "plt.figure()\n",
    "plt.hist(x_test[:,i].flatten(),bins=np.linspace(-1,1,101),alpha=0.5,label='px true')\n",
    "plt.hist(predict[:,i].flatten(),bins=np.linspace(-1,1,101),alpha=0.5,label='px predict')\n",
    "plt.legend()\n",
    "plt.figure()\n",
    "plt.hist(dx,bins=np.linspace(-2,2,101))"
   ]
  },
  {
   "cell_type": "code",
   "execution_count": 149,
   "metadata": {},
   "outputs": [
    {
     "data": {
      "text/plain": [
       "Text(0, 0.5, 'px predict')"
      ]
     },
     "execution_count": 149,
     "metadata": {},
     "output_type": "execute_result"
    },
    {
     "data": {
      "image/png": "[encoded data removed]",
      "text/plain": [
       "<Figure size 432x288 with 1 Axes>"
      ]
     },
     "metadata": {
      "needs_background": "light"
     },
     "output_type": "display_data"
    }
   ],
   "source": [
    "plt.hist2d(x_test[:,i].flatten(), predict[:,i].flatten(), bins=(np.linspace(-0.4,0.4,101), np.linspace(-0.4,0.4,101)) )\n",
    "plt.xlabel('px true')\n",
    "plt.ylabel('px predict')"
   ]
  },
  {
   "cell_type": "code",
   "execution_count": null,
   "metadata": {},
   "outputs": [],
   "source": []
  }
 ],
 "metadata": {
  "kernelspec": {
   "display_name": "Python 3",
   "language": "python",
   "name": "python3"
  },
  "language_info": {
   "codemirror_mode": {
    "name": "ipython",
    "version": 3
   },
   "file_extension": ".py",
   "mimetype": "text/x-python",
   "name": "python",
   "nbconvert_exporter": "python",
   "pygments_lexer": "ipython3",
   "version": "3.7.6"
  }
 },
 "nbformat": 4,
 "nbformat_minor": 4
}
