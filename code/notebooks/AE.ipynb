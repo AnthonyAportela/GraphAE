{
 "cells": [
  {
   "cell_type": "code",
   "execution_count": 1,
   "metadata": {},
   "outputs": [],
   "source": [
    "import pandas as pd\n",
    "import numpy as np\n",
    "from pyjet import cluster,DTYPE_PTEPM\n",
    "from sklearn import preprocessing\n",
    "from scipy.stats import iqr\n",
    "import tensorflow as tf\n",
    "import math"
   ]
  },
  {
   "cell_type": "markdown",
   "metadata": {},
   "source": [
    "# Pre processing"
   ]
  },
  {
   "cell_type": "code",
   "execution_count": 2,
   "metadata": {},
   "outputs": [],
   "source": [
    "path = '/anomalyvol/data/jet_ver/bb0_ae_input_leading2.h5'  # just leading 2 tags for each event"
   ]
  },
  {
   "cell_type": "code",
   "execution_count": 3,
   "metadata": {},
   "outputs": [],
   "source": [
    "chunk_size = 100000\n",
    "total_size = 1000000 # 1 mil max\n",
    "\n",
    "def generator(path, chunk_size=10000,total_size=1000000):\n",
    "    i = 0\n",
    "    \n",
    "    while True:\n",
    "        yield pd.read_hdf(path,start=i*chunk_size, stop=(i+1)*chunk_size)\n",
    "        \n",
    "        i+=1\n",
    "        if (i+1)*chunk_size > total_size:\n",
    "            i=0\n",
    "\n",
    "gen = generator(path, chunk_size, total_size)"
   ]
  },
  {
   "cell_type": "code",
   "execution_count": 4,
   "metadata": {},
   "outputs": [],
   "source": [
    "data = next(gen)\n",
    "\n",
    "for i in range(total_size // chunk_size - 1):\n",
    "    data.append(next(gen))"
   ]
  },
  {
   "cell_type": "code",
   "execution_count": 5,
   "metadata": {},
   "outputs": [],
   "source": [
    "loaded_data = data\n",
    "# data = loaded_data"
   ]
  },
  {
   "cell_type": "code",
   "execution_count": 6,
   "metadata": {},
   "outputs": [
    {
     "data": {
      "text/html": [
       "<div>\n",
       "<style scoped>\n",
       "    .dataframe tbody tr th:only-of-type {\n",
       "        vertical-align: middle;\n",
       "    }\n",
       "\n",
       "    .dataframe tbody tr th {\n",
       "        vertical-align: top;\n",
       "    }\n",
       "\n",
       "    .dataframe thead th {\n",
       "        text-align: right;\n",
       "    }\n",
       "</style>\n",
       "<table border=\"1\" class=\"dataframe\">\n",
       "  <thead>\n",
       "    <tr style=\"text-align: right;\">\n",
       "      <th></th>\n",
       "      <th>px</th>\n",
       "      <th>py</th>\n",
       "      <th>pz</th>\n",
       "      <th>e</th>\n",
       "      <th>pt</th>\n",
       "      <th>eta</th>\n",
       "      <th>phi</th>\n",
       "      <th>mass</th>\n",
       "      <th>event</th>\n",
       "    </tr>\n",
       "  </thead>\n",
       "  <tbody>\n",
       "    <tr>\n",
       "      <th>0</th>\n",
       "      <td>-1176.582203</td>\n",
       "      <td>-779.040316</td>\n",
       "      <td>340.962660</td>\n",
       "      <td>1454.919631</td>\n",
       "      <td>1411.116400</td>\n",
       "      <td>0.239335</td>\n",
       "      <td>-2.556743</td>\n",
       "      <td>96.364433</td>\n",
       "      <td>0</td>\n",
       "    </tr>\n",
       "    <tr>\n",
       "      <th>1</th>\n",
       "      <td>611.088616</td>\n",
       "      <td>716.513394</td>\n",
       "      <td>1558.330438</td>\n",
       "      <td>1871.941989</td>\n",
       "      <td>941.711601</td>\n",
       "      <td>1.277667</td>\n",
       "      <td>0.864642</td>\n",
       "      <td>434.686458</td>\n",
       "      <td>0</td>\n",
       "    </tr>\n",
       "    <tr>\n",
       "      <th>2</th>\n",
       "      <td>-1066.643577</td>\n",
       "      <td>590.538505</td>\n",
       "      <td>310.376895</td>\n",
       "      <td>1269.810624</td>\n",
       "      <td>1219.206400</td>\n",
       "      <td>0.251900</td>\n",
       "      <td>2.635958</td>\n",
       "      <td>172.107404</td>\n",
       "      <td>1</td>\n",
       "    </tr>\n",
       "    <tr>\n",
       "      <th>3</th>\n",
       "      <td>1033.836179</td>\n",
       "      <td>-637.488365</td>\n",
       "      <td>635.714060</td>\n",
       "      <td>1392.484342</td>\n",
       "      <td>1214.581681</td>\n",
       "      <td>0.502044</td>\n",
       "      <td>-0.552554</td>\n",
       "      <td>244.277745</td>\n",
       "      <td>1</td>\n",
       "    </tr>\n",
       "    <tr>\n",
       "      <th>4</th>\n",
       "      <td>-1317.691456</td>\n",
       "      <td>389.936193</td>\n",
       "      <td>-1302.594766</td>\n",
       "      <td>1905.577540</td>\n",
       "      <td>1374.176483</td>\n",
       "      <td>-0.844056</td>\n",
       "      <td>2.853880</td>\n",
       "      <td>214.736187</td>\n",
       "      <td>2</td>\n",
       "    </tr>\n",
       "    <tr>\n",
       "      <th>...</th>\n",
       "      <td>...</td>\n",
       "      <td>...</td>\n",
       "      <td>...</td>\n",
       "      <td>...</td>\n",
       "      <td>...</td>\n",
       "      <td>...</td>\n",
       "      <td>...</td>\n",
       "      <td>...</td>\n",
       "      <td>...</td>\n",
       "    </tr>\n",
       "    <tr>\n",
       "      <th>99995</th>\n",
       "      <td>-780.019928</td>\n",
       "      <td>825.303837</td>\n",
       "      <td>-90.129787</td>\n",
       "      <td>1145.955044</td>\n",
       "      <td>1135.586857</td>\n",
       "      <td>-0.079285</td>\n",
       "      <td>2.327993</td>\n",
       "      <td>124.627744</td>\n",
       "      <td>49997</td>\n",
       "    </tr>\n",
       "    <tr>\n",
       "      <th>99996</th>\n",
       "      <td>-254.679708</td>\n",
       "      <td>1316.709674</td>\n",
       "      <td>-973.467223</td>\n",
       "      <td>1708.273493</td>\n",
       "      <td>1341.113760</td>\n",
       "      <td>-0.673727</td>\n",
       "      <td>1.761858</td>\n",
       "      <td>414.697210</td>\n",
       "      <td>49998</td>\n",
       "    </tr>\n",
       "    <tr>\n",
       "      <th>99997</th>\n",
       "      <td>338.857190</td>\n",
       "      <td>-1157.025642</td>\n",
       "      <td>615.106950</td>\n",
       "      <td>1404.808537</td>\n",
       "      <td>1205.625370</td>\n",
       "      <td>0.490314</td>\n",
       "      <td>-1.285894</td>\n",
       "      <td>376.295011</td>\n",
       "      <td>49998</td>\n",
       "    </tr>\n",
       "    <tr>\n",
       "      <th>99998</th>\n",
       "      <td>-182.876023</td>\n",
       "      <td>1207.712594</td>\n",
       "      <td>1329.622409</td>\n",
       "      <td>1806.098342</td>\n",
       "      <td>1221.479984</td>\n",
       "      <td>0.942612</td>\n",
       "      <td>1.721078</td>\n",
       "      <td>45.630242</td>\n",
       "      <td>49999</td>\n",
       "    </tr>\n",
       "    <tr>\n",
       "      <th>99999</th>\n",
       "      <td>257.597176</td>\n",
       "      <td>-1017.070235</td>\n",
       "      <td>-120.432510</td>\n",
       "      <td>1122.675904</td>\n",
       "      <td>1049.184525</td>\n",
       "      <td>-0.114536</td>\n",
       "      <td>-1.322739</td>\n",
       "      <td>380.931787</td>\n",
       "      <td>49999</td>\n",
       "    </tr>\n",
       "  </tbody>\n",
       "</table>\n",
       "<p>100000 rows × 9 columns</p>\n",
       "</div>"
      ],
      "text/plain": [
       "                px           py           pz            e           pt  \\\n",
       "0     -1176.582203  -779.040316   340.962660  1454.919631  1411.116400   \n",
       "1       611.088616   716.513394  1558.330438  1871.941989   941.711601   \n",
       "2     -1066.643577   590.538505   310.376895  1269.810624  1219.206400   \n",
       "3      1033.836179  -637.488365   635.714060  1392.484342  1214.581681   \n",
       "4     -1317.691456   389.936193 -1302.594766  1905.577540  1374.176483   \n",
       "...            ...          ...          ...          ...          ...   \n",
       "99995  -780.019928   825.303837   -90.129787  1145.955044  1135.586857   \n",
       "99996  -254.679708  1316.709674  -973.467223  1708.273493  1341.113760   \n",
       "99997   338.857190 -1157.025642   615.106950  1404.808537  1205.625370   \n",
       "99998  -182.876023  1207.712594  1329.622409  1806.098342  1221.479984   \n",
       "99999   257.597176 -1017.070235  -120.432510  1122.675904  1049.184525   \n",
       "\n",
       "            eta       phi        mass  event  \n",
       "0      0.239335 -2.556743   96.364433      0  \n",
       "1      1.277667  0.864642  434.686458      0  \n",
       "2      0.251900  2.635958  172.107404      1  \n",
       "3      0.502044 -0.552554  244.277745      1  \n",
       "4     -0.844056  2.853880  214.736187      2  \n",
       "...         ...       ...         ...    ...  \n",
       "99995 -0.079285  2.327993  124.627744  49997  \n",
       "99996 -0.673727  1.761858  414.697210  49998  \n",
       "99997  0.490314 -1.285894  376.295011  49998  \n",
       "99998  0.942612  1.721078   45.630242  49999  \n",
       "99999 -0.114536 -1.322739  380.931787  49999  \n",
       "\n",
       "[100000 rows x 9 columns]"
      ]
     },
     "execution_count": 6,
     "metadata": {},
     "output_type": "execute_result"
    }
   ],
   "source": [
    "loaded_data"
   ]
  },
  {
   "cell_type": "code",
   "execution_count": 7,
   "metadata": {},
   "outputs": [
    {
     "data": {
      "text/plain": [
       "(100000, 4)"
      ]
     },
     "execution_count": 7,
     "metadata": {},
     "output_type": "execute_result"
    }
   ],
   "source": [
    "data = np.array(data)\n",
    "data = data[:,:4]  # just keep px, py, pz, e\n",
    "data.shape"
   ]
  },
  {
   "cell_type": "code",
   "execution_count": 8,
   "metadata": {},
   "outputs": [],
   "source": [
    "# splitting data\n",
    "x_train = data[0:int(len(data) * 0.8)]\n",
    "x_val = data[int(len(data) * 0.8):int(len(data) * 0.9)]\n",
    "x_test = data[int(len(data) * 0.9):]"
   ]
  },
  {
   "cell_type": "code",
   "execution_count": 9,
   "metadata": {},
   "outputs": [],
   "source": [
    "# regularize\n",
    "scaler = preprocessing.StandardScaler()\n",
    "x_train = scaler.fit_transform(x_train)\n",
    "x_val = scaler.transform(x_val)\n",
    "x_test = scaler.transform(x_test)"
   ]
  },
  {
   "cell_type": "code",
   "execution_count": 10,
   "metadata": {},
   "outputs": [
    {
     "name": "stdout",
     "output_type": "stream",
     "text": [
      "[0.99424829 1.         0.67516942 0.5802013 ]\n"
     ]
    }
   ],
   "source": [
    "# get the inverse iqr proportion for each feature used to scale their weights in the loss function\n",
    "iqr_prop = iqr(x_train,axis = 0)\n",
    "max_iqr = max(iqr_prop)\n",
    "iqr_prop = np.array(iqr_prop) / max_iqr\n",
    "print(iqr_prop)"
   ]
  },
  {
   "cell_type": "markdown",
   "metadata": {},
   "source": [
    "# AE Model"
   ]
  },
  {
   "cell_type": "code",
   "execution_count": 11,
   "metadata": {},
   "outputs": [
    {
     "name": "stderr",
     "output_type": "stream",
     "text": [
      "Using TensorFlow backend.\n"
     ]
    }
   ],
   "source": [
    "import keras\n",
    "from keras.layers import Lambda, Input, Dense, Flatten, Reshape, LeakyReLU, ELU\n",
    "from keras.models import Model, Sequential\n",
    "from keras import metrics, losses\n",
    "from keras import backend as K"
   ]
  },
  {
   "cell_type": "code",
   "execution_count": 12,
   "metadata": {},
   "outputs": [],
   "source": [
    "def sampling(args):\n",
    "    \"\"\"\n",
    "    # Arguments\n",
    "        args (tensor): mean and log of variance of Q(z|X)\n",
    "    # Returns\n",
    "        z (tensor): sampled latent vector\n",
    "    \"\"\"\n",
    "\n",
    "    z_mean, z_log_var = args\n",
    "    batch = K.shape(z_mean)[0]\n",
    "    dim = K.int_shape(z_mean)[1]\n",
    "    # by default, random_normal has mean = 0 and std = 1.0\n",
    "    epsilon = K.random_normal(shape=(batch, dim))\n",
    "    return z_mean + K.exp(0.5 * z_log_var) * epsilon"
   ]
  },
  {
   "cell_type": "code",
   "execution_count": 13,
   "metadata": {},
   "outputs": [],
   "source": [
    "inter_dim_1 = 32\n",
    "inter_dim_2 = 16\n",
    "final_dim = 8\n",
    "latent_dim = 2\n",
    "input_dim = 4"
   ]
  },
  {
   "cell_type": "code",
   "execution_count": 14,
   "metadata": {},
   "outputs": [],
   "source": [
    "# encoder\n",
    "x = Input(shape=(input_dim,))\n",
    "#x_flat = Flatten()(x)\n",
    "h1 = Dense(inter_dim_1, activation='relu')(x)\n",
    "h2 = Dense(inter_dim_2, activation='relu')(h1)\n",
    "h3 = Dense(final_dim, activation='relu')(h2)\n",
    "encoding = Dense(latent_dim, activation='tanh')(h3)"
   ]
  },
  {
   "cell_type": "code",
   "execution_count": 15,
   "metadata": {},
   "outputs": [],
   "source": [
    "# decoder\n",
    "decoder_h3 = Dense(final_dim, activation='relu')\n",
    "decoder_h2 = Dense(inter_dim_2, activation='relu')\n",
    "decoder_h1 = Dense(inter_dim_1, activation='relu')\n",
    "decoder_mean = Dense(input_dim, activation='linear')\n",
    "\n",
    "h3_decoded = decoder_h3(encoding)\n",
    "h2_decoded = decoder_h2(h3_decoded)\n",
    "h1_decoded = decoder_h1(h2_decoded)\n",
    "x_decoded_mean = decoder_mean(h1_decoded)\n",
    "# x_decoded = Reshape(input_shape)(x_decoded_mean)"
   ]
  },
  {
   "cell_type": "code",
   "execution_count": 16,
   "metadata": {},
   "outputs": [],
   "source": [
    "model = Model(inputs = x, outputs = x_decoded_mean, name = 'ae')"
   ]
  },
  {
   "cell_type": "code",
   "execution_count": 17,
   "metadata": {},
   "outputs": [],
   "source": [
    "mse = keras.losses.MeanSquaredError()\n",
    "def ae_loss(x, y):\n",
    "    mse_loss = 0.25 * (iqr_prop[0]*(x[::,0] - y[::,0])**2 + iqr_prop[1]*(x[::,1] - y[::,1])**2 + iqr_prop[2]*(x[::,2] - y[::,2])**2 + iqr_prop[3]*(x[::,3] - y[::,3])**2)\n",
    "    # mse_loss = mse(x,y)\n",
    "    return mse_loss\n",
    "\n",
    "def earth_mover_loss(y_true, y_pred): # source: https://github.com/titu1994/neural-image-assessment/blob/master/train_mobilenet.py#L49\n",
    "    cdf_ytrue = K.cumsum(y_true, axis=-1)\n",
    "    cdf_ypred = K.cumsum(y_pred, axis=-1)\n",
    "    samplewise_emd = K.sqrt(K.mean(K.square(K.abs(cdf_ytrue - cdf_ypred)), axis=-1))\n",
    "    return K.mean(samplewise_emd)\n",
    "\n",
    "model.compile(optimizer='adam', loss=ae_loss)"
   ]
  },
  {
   "cell_type": "code",
   "execution_count": 18,
   "metadata": {},
   "outputs": [
    {
     "name": "stdout",
     "output_type": "stream",
     "text": [
      "Model: \"ae\"\n",
      "_________________________________________________________________\n",
      "Layer (type)                 Output Shape              Param #   \n",
      "=================================================================\n",
      "input_1 (InputLayer)         (None, 4)                 0         \n",
      "_________________________________________________________________\n",
      "dense_1 (Dense)              (None, 32)                160       \n",
      "_________________________________________________________________\n",
      "dense_2 (Dense)              (None, 16)                528       \n",
      "_________________________________________________________________\n",
      "dense_3 (Dense)              (None, 8)                 136       \n",
      "_________________________________________________________________\n",
      "dense_4 (Dense)              (None, 2)                 18        \n",
      "_________________________________________________________________\n",
      "dense_5 (Dense)              (None, 8)                 24        \n",
      "_________________________________________________________________\n",
      "dense_6 (Dense)              (None, 16)                144       \n",
      "_________________________________________________________________\n",
      "dense_7 (Dense)              (None, 32)                544       \n",
      "_________________________________________________________________\n",
      "dense_8 (Dense)              (None, 4)                 132       \n",
      "=================================================================\n",
      "Total params: 1,686\n",
      "Trainable params: 1,686\n",
      "Non-trainable params: 0\n",
      "_________________________________________________________________\n"
     ]
    }
   ],
   "source": [
    "model.summary()"
   ]
  },
  {
   "cell_type": "markdown",
   "metadata": {},
   "source": [
    "# Train"
   ]
  },
  {
   "cell_type": "code",
   "execution_count": 19,
   "metadata": {},
   "outputs": [],
   "source": [
    "from sklearn.model_selection import train_test_split"
   ]
  },
  {
   "cell_type": "code",
   "execution_count": 20,
   "metadata": {},
   "outputs": [],
   "source": [
    "batch_size = 1000\n",
    "epochs = 400"
   ]
  },
  {
   "cell_type": "code",
   "execution_count": 21,
   "metadata": {},
   "outputs": [
    {
     "data": {
      "text/plain": [
       "(80000, 4)"
      ]
     },
     "execution_count": 21,
     "metadata": {},
     "output_type": "execute_result"
    }
   ],
   "source": [
    "x_train.shape"
   ]
  },
  {
   "cell_type": "code",
   "execution_count": 22,
   "metadata": {},
   "outputs": [],
   "source": [
    "my_callbacks = [\n",
    "    keras.callbacks.EarlyStopping(patience=10)\n",
    "]"
   ]
  },
  {
   "cell_type": "code",
   "execution_count": 23,
   "metadata": {
    "scrolled": false
   },
   "outputs": [
    {
     "name": "stdout",
     "output_type": "stream",
     "text": [
      "Train on 80000 samples, validate on 10000 samples\n",
      "Epoch 1/400\n",
      "80000/80000 [==============================] - 1s 17us/step - loss: 0.6364 - val_loss: 0.3995\n",
      "Epoch 2/400\n",
      "80000/80000 [==============================] - 0s 6us/step - loss: 0.3449 - val_loss: 0.3157\n",
      "Epoch 3/400\n",
      "80000/80000 [==============================] - 0s 6us/step - loss: 0.3029 - val_loss: 0.2639\n",
      "Epoch 4/400\n",
      "80000/80000 [==============================] - 0s 6us/step - loss: 0.2495 - val_loss: 0.2278\n",
      "Epoch 5/400\n",
      "80000/80000 [==============================] - 0s 6us/step - loss: 0.2222 - val_loss: 0.2108\n",
      "Epoch 6/400\n",
      "80000/80000 [==============================] - 0s 6us/step - loss: 0.2095 - val_loss: 0.2008\n",
      "Epoch 7/400\n",
      "80000/80000 [==============================] - 0s 6us/step - loss: 0.1992 - val_loss: 0.1913\n",
      "Epoch 8/400\n",
      "80000/80000 [==============================] - 0s 6us/step - loss: 0.1885 - val_loss: 0.1783\n",
      "Epoch 9/400\n",
      "80000/80000 [==============================] - 0s 6us/step - loss: 0.1737 - val_loss: 0.1618\n",
      "Epoch 10/400\n",
      "80000/80000 [==============================] - 0s 6us/step - loss: 0.1550 - val_loss: 0.1408\n",
      "Epoch 11/400\n",
      "80000/80000 [==============================] - 0s 6us/step - loss: 0.1323 - val_loss: 0.1188\n",
      "Epoch 12/400\n",
      "80000/80000 [==============================] - 0s 6us/step - loss: 0.1117 - val_loss: 0.1024\n",
      "Epoch 13/400\n",
      "80000/80000 [==============================] - 0s 6us/step - loss: 0.0969 - val_loss: 0.0904\n",
      "Epoch 14/400\n",
      "80000/80000 [==============================] - 0s 6us/step - loss: 0.0861 - val_loss: 0.0820\n",
      "Epoch 15/400\n",
      "80000/80000 [==============================] - 0s 6us/step - loss: 0.0785 - val_loss: 0.0755\n",
      "Epoch 16/400\n",
      "80000/80000 [==============================] - 0s 6us/step - loss: 0.0720 - val_loss: 0.0694\n",
      "Epoch 17/400\n",
      "80000/80000 [==============================] - 0s 6us/step - loss: 0.0669 - val_loss: 0.0651\n",
      "Epoch 18/400\n",
      "80000/80000 [==============================] - 0s 6us/step - loss: 0.0626 - val_loss: 0.0613\n",
      "Epoch 19/400\n",
      "80000/80000 [==============================] - 0s 6us/step - loss: 0.0595 - val_loss: 0.0580\n",
      "Epoch 20/400\n",
      "80000/80000 [==============================] - 0s 6us/step - loss: 0.0567 - val_loss: 0.0555\n",
      "Epoch 21/400\n",
      "80000/80000 [==============================] - 0s 6us/step - loss: 0.0544 - val_loss: 0.0537\n",
      "Epoch 22/400\n",
      "80000/80000 [==============================] - 0s 6us/step - loss: 0.0524 - val_loss: 0.0510\n",
      "Epoch 23/400\n",
      "80000/80000 [==============================] - 0s 6us/step - loss: 0.0506 - val_loss: 0.0491\n",
      "Epoch 24/400\n",
      "80000/80000 [==============================] - 0s 6us/step - loss: 0.0493 - val_loss: 0.0475\n",
      "Epoch 25/400\n",
      "80000/80000 [==============================] - 0s 6us/step - loss: 0.0479 - val_loss: 0.0470\n",
      "Epoch 26/400\n",
      "80000/80000 [==============================] - 0s 6us/step - loss: 0.0468 - val_loss: 0.0459\n",
      "Epoch 27/400\n",
      "80000/80000 [==============================] - 0s 6us/step - loss: 0.0458 - val_loss: 0.0449\n",
      "Epoch 28/400\n",
      "80000/80000 [==============================] - 0s 6us/step - loss: 0.0450 - val_loss: 0.0441\n",
      "Epoch 29/400\n",
      "80000/80000 [==============================] - 0s 6us/step - loss: 0.0442 - val_loss: 0.0431\n",
      "Epoch 30/400\n",
      "80000/80000 [==============================] - 0s 6us/step - loss: 0.0434 - val_loss: 0.0430\n",
      "Epoch 31/400\n",
      "80000/80000 [==============================] - 0s 6us/step - loss: 0.0427 - val_loss: 0.0418\n",
      "Epoch 32/400\n",
      "80000/80000 [==============================] - 0s 6us/step - loss: 0.0422 - val_loss: 0.0418\n",
      "Epoch 33/400\n",
      "80000/80000 [==============================] - 0s 6us/step - loss: 0.0414 - val_loss: 0.0407\n",
      "Epoch 34/400\n",
      "80000/80000 [==============================] - 0s 6us/step - loss: 0.0406 - val_loss: 0.0403\n",
      "Epoch 35/400\n",
      "80000/80000 [==============================] - 0s 6us/step - loss: 0.0401 - val_loss: 0.0397\n",
      "Epoch 36/400\n",
      "80000/80000 [==============================] - 0s 6us/step - loss: 0.0398 - val_loss: 0.0395\n",
      "Epoch 37/400\n",
      "80000/80000 [==============================] - 0s 6us/step - loss: 0.0396 - val_loss: 0.0395\n",
      "Epoch 38/400\n",
      "80000/80000 [==============================] - 0s 6us/step - loss: 0.0387 - val_loss: 0.0391\n",
      "Epoch 39/400\n",
      "80000/80000 [==============================] - 0s 6us/step - loss: 0.0385 - val_loss: 0.0386\n",
      "Epoch 40/400\n",
      "80000/80000 [==============================] - 0s 6us/step - loss: 0.0384 - val_loss: 0.0383\n",
      "Epoch 41/400\n",
      "80000/80000 [==============================] - 0s 6us/step - loss: 0.0378 - val_loss: 0.0379\n",
      "Epoch 42/400\n",
      "80000/80000 [==============================] - 0s 6us/step - loss: 0.0372 - val_loss: 0.0373\n",
      "Epoch 43/400\n",
      "80000/80000 [==============================] - 0s 6us/step - loss: 0.0368 - val_loss: 0.0371\n",
      "Epoch 44/400\n",
      "80000/80000 [==============================] - 0s 6us/step - loss: 0.0364 - val_loss: 0.0372\n",
      "Epoch 45/400\n",
      "80000/80000 [==============================] - 0s 6us/step - loss: 0.0366 - val_loss: 0.0371\n",
      "Epoch 46/400\n",
      "80000/80000 [==============================] - 0s 6us/step - loss: 0.0358 - val_loss: 0.0368\n",
      "Epoch 47/400\n",
      "80000/80000 [==============================] - 0s 6us/step - loss: 0.0360 - val_loss: 0.0369\n",
      "Epoch 48/400\n",
      "80000/80000 [==============================] - 0s 6us/step - loss: 0.0353 - val_loss: 0.0353\n",
      "Epoch 49/400\n",
      "80000/80000 [==============================] - 0s 6us/step - loss: 0.0356 - val_loss: 0.0356\n",
      "Epoch 50/400\n",
      "80000/80000 [==============================] - 0s 6us/step - loss: 0.0353 - val_loss: 0.0356\n",
      "Epoch 51/400\n",
      "80000/80000 [==============================] - 0s 6us/step - loss: 0.0347 - val_loss: 0.0356\n",
      "Epoch 52/400\n",
      "80000/80000 [==============================] - 0s 6us/step - loss: 0.0347 - val_loss: 0.0351\n",
      "Epoch 53/400\n",
      "80000/80000 [==============================] - 0s 6us/step - loss: 0.0346 - val_loss: 0.0348\n",
      "Epoch 54/400\n",
      "80000/80000 [==============================] - 0s 6us/step - loss: 0.0344 - val_loss: 0.0344\n",
      "Epoch 55/400\n",
      "80000/80000 [==============================] - 0s 6us/step - loss: 0.0342 - val_loss: 0.0343\n",
      "Epoch 56/400\n",
      "80000/80000 [==============================] - 0s 6us/step - loss: 0.0338 - val_loss: 0.0334\n",
      "Epoch 57/400\n",
      "80000/80000 [==============================] - 0s 6us/step - loss: 0.0333 - val_loss: 0.0343\n",
      "Epoch 58/400\n",
      "80000/80000 [==============================] - 0s 6us/step - loss: 0.0334 - val_loss: 0.0341\n",
      "Epoch 59/400\n",
      "80000/80000 [==============================] - 0s 6us/step - loss: 0.0332 - val_loss: 0.0336\n",
      "Epoch 60/400\n",
      "80000/80000 [==============================] - 0s 6us/step - loss: 0.0331 - val_loss: 0.0335\n",
      "Epoch 61/400\n",
      "80000/80000 [==============================] - 0s 6us/step - loss: 0.0329 - val_loss: 0.0337\n",
      "Epoch 62/400\n",
      "80000/80000 [==============================] - 0s 6us/step - loss: 0.0327 - val_loss: 0.0327\n",
      "Epoch 63/400\n",
      "80000/80000 [==============================] - 0s 6us/step - loss: 0.0326 - val_loss: 0.0324\n",
      "Epoch 64/400\n",
      "80000/80000 [==============================] - 0s 6us/step - loss: 0.0326 - val_loss: 0.0327\n",
      "Epoch 65/400\n",
      "80000/80000 [==============================] - 0s 6us/step - loss: 0.0324 - val_loss: 0.0329\n",
      "Epoch 66/400\n",
      "80000/80000 [==============================] - 0s 6us/step - loss: 0.0320 - val_loss: 0.0333\n",
      "Epoch 67/400\n",
      "80000/80000 [==============================] - 0s 6us/step - loss: 0.0322 - val_loss: 0.0317\n",
      "Epoch 68/400\n",
      "80000/80000 [==============================] - 0s 6us/step - loss: 0.0319 - val_loss: 0.0321\n",
      "Epoch 69/400\n",
      "80000/80000 [==============================] - 0s 6us/step - loss: 0.0319 - val_loss: 0.0328\n",
      "Epoch 70/400\n",
      "80000/80000 [==============================] - 0s 6us/step - loss: 0.0319 - val_loss: 0.0329\n",
      "Epoch 71/400\n",
      "80000/80000 [==============================] - 0s 6us/step - loss: 0.0318 - val_loss: 0.0332\n",
      "Epoch 72/400\n",
      "80000/80000 [==============================] - 0s 6us/step - loss: 0.0317 - val_loss: 0.0317\n",
      "Epoch 73/400\n",
      "80000/80000 [==============================] - 0s 6us/step - loss: 0.0314 - val_loss: 0.0316\n",
      "Epoch 74/400\n",
      "80000/80000 [==============================] - 0s 6us/step - loss: 0.0312 - val_loss: 0.0314\n",
      "Epoch 75/400\n",
      "80000/80000 [==============================] - 0s 6us/step - loss: 0.0311 - val_loss: 0.0321\n",
      "Epoch 76/400\n",
      "80000/80000 [==============================] - 0s 6us/step - loss: 0.0308 - val_loss: 0.0322\n",
      "Epoch 77/400\n",
      "80000/80000 [==============================] - 0s 6us/step - loss: 0.0307 - val_loss: 0.0312\n"
     ]
    },
    {
     "name": "stdout",
     "output_type": "stream",
     "text": [
      "Epoch 78/400\n",
      "80000/80000 [==============================] - 0s 6us/step - loss: 0.0306 - val_loss: 0.0320\n",
      "Epoch 79/400\n",
      "80000/80000 [==============================] - 0s 6us/step - loss: 0.0314 - val_loss: 0.0321\n",
      "Epoch 80/400\n",
      "80000/80000 [==============================] - 0s 6us/step - loss: 0.0310 - val_loss: 0.0313\n",
      "Epoch 81/400\n",
      "80000/80000 [==============================] - 0s 6us/step - loss: 0.0311 - val_loss: 0.0304\n",
      "Epoch 82/400\n",
      "80000/80000 [==============================] - 0s 6us/step - loss: 0.0305 - val_loss: 0.0310\n",
      "Epoch 83/400\n",
      "80000/80000 [==============================] - 0s 6us/step - loss: 0.0301 - val_loss: 0.0300\n",
      "Epoch 84/400\n",
      "80000/80000 [==============================] - 0s 6us/step - loss: 0.0303 - val_loss: 0.0305\n",
      "Epoch 85/400\n",
      "80000/80000 [==============================] - 0s 6us/step - loss: 0.0301 - val_loss: 0.0305\n",
      "Epoch 86/400\n",
      "80000/80000 [==============================] - 0s 6us/step - loss: 0.0311 - val_loss: 0.0319\n",
      "Epoch 87/400\n",
      "80000/80000 [==============================] - 0s 6us/step - loss: 0.0311 - val_loss: 0.0314\n",
      "Epoch 88/400\n",
      "80000/80000 [==============================] - 0s 6us/step - loss: 0.0302 - val_loss: 0.0306\n",
      "Epoch 89/400\n",
      "80000/80000 [==============================] - 0s 6us/step - loss: 0.0298 - val_loss: 0.0305\n",
      "Epoch 90/400\n",
      "80000/80000 [==============================] - 0s 6us/step - loss: 0.0297 - val_loss: 0.0301\n",
      "Epoch 91/400\n",
      "80000/80000 [==============================] - 0s 6us/step - loss: 0.0297 - val_loss: 0.0301\n",
      "Epoch 92/400\n",
      "80000/80000 [==============================] - 0s 6us/step - loss: 0.0298 - val_loss: 0.0302\n",
      "Epoch 93/400\n",
      "80000/80000 [==============================] - 0s 6us/step - loss: 0.0296 - val_loss: 0.0306\n"
     ]
    }
   ],
   "source": [
    "hist = model.fit(x_train, x_train,\n",
    "               shuffle=True,\n",
    "               epochs=epochs,\n",
    "               batch_size=batch_size,\n",
    "               validation_data=(x_val, x_val),\n",
    "               callbacks=my_callbacks)"
   ]
  },
  {
   "cell_type": "code",
   "execution_count": 67,
   "metadata": {},
   "outputs": [],
   "source": [
    "model.save('/anomalyvol/models/simple_ae')"
   ]
  },
  {
   "cell_type": "markdown",
   "metadata": {},
   "source": [
    "# Visualization"
   ]
  },
  {
   "cell_type": "code",
   "execution_count": 24,
   "metadata": {},
   "outputs": [],
   "source": [
    "import matplotlib.pyplot as plt"
   ]
  },
  {
   "cell_type": "code",
   "execution_count": 25,
   "metadata": {},
   "outputs": [
    {
     "data": {
      "image/png": "[encoded data removed]",
      "text/plain": [
       "<Figure size 432x266.991 with 1 Axes>"
      ]
     },
     "metadata": {
      "needs_background": "light"
     },
     "output_type": "display_data"
    }
   ],
   "source": [
    "golden_size = lambda width: (width, 2. * width / (1 + np.sqrt(5)))\n",
    "\n",
    "fig, ax = plt.subplots(figsize=golden_size(6))\n",
    "\n",
    "hist_df = pd.DataFrame(hist.history)\n",
    "hist_df.plot(ax=ax)\n",
    "\n",
    "ax.set_ylabel('NELBO')\n",
    "ax.set_xlabel('# epochs')\n",
    "\n",
    "ax.set_ylim(.99*hist_df[1:].values.min(), \n",
    "            1.1*hist_df[1:].values.max())\n",
    "plt.show()"
   ]
  },
  {
   "cell_type": "code",
   "execution_count": 26,
   "metadata": {},
   "outputs": [],
   "source": [
    "predictions = model.predict(x_test)"
   ]
  },
  {
   "cell_type": "code",
   "execution_count": 27,
   "metadata": {},
   "outputs": [
    {
     "name": "stdout",
     "output_type": "stream",
     "text": [
      "tf.Tensor(0.036935825, shape=(), dtype=float32)\n"
     ]
    }
   ],
   "source": [
    "# mse on test set\n",
    "p = model.predict(x_train)\n",
    "print(mse(p, x_train))"
   ]
  },
  {
   "cell_type": "code",
   "execution_count": 28,
   "metadata": {},
   "outputs": [],
   "source": [
    "distr = (x_test - predictions) / x_test"
   ]
  },
  {
   "cell_type": "code",
   "execution_count": 29,
   "metadata": {},
   "outputs": [],
   "source": [
    "px_pred = [row[0] for row in predictions]\n",
    "py_pred = [row[1] for row in predictions]\n",
    "pz_pred = [row[2] for row in predictions]\n",
    "e_pred = [row[3] for row in predictions]"
   ]
  },
  {
   "cell_type": "code",
   "execution_count": 30,
   "metadata": {},
   "outputs": [],
   "source": [
    "px = [row[0] for row in x_test]\n",
    "py = [row[1] for row in x_test]\n",
    "pz = [row[2] for row in x_test]\n",
    "e = [row[3] for row in x_test]"
   ]
  },
  {
   "cell_type": "markdown",
   "metadata": {},
   "source": [
    "## Stacking output (orange) over input (blue) for px, py, pz, E"
   ]
  },
  {
   "cell_type": "code",
   "execution_count": 31,
   "metadata": {},
   "outputs": [
    {
     "data": {
      "image/png": "[encoded data removed]",
      "text/plain": [
       "<Figure size 432x288 with 1 Axes>"
      ]
     },
     "metadata": {
      "needs_background": "light"
     },
     "output_type": "display_data"
    }
   ],
   "source": [
    "# px\n",
    "bins = np.linspace(-2, 2, 40)\n",
    "plt.hist(px, bins=bins,alpha=0.5)\n",
    "plt.hist(px_pred, bins=bins,alpha=0.5)\n",
    "plt.show()"
   ]
  },
  {
   "cell_type": "code",
   "execution_count": 32,
   "metadata": {},
   "outputs": [
    {
     "name": "stdout",
     "output_type": "stream",
     "text": [
      "tf.Tensor(0.033626482, shape=(), dtype=float32)\n"
     ]
    }
   ],
   "source": [
    "print(mse(px,px_pred))"
   ]
  },
  {
   "cell_type": "code",
   "execution_count": 33,
   "metadata": {},
   "outputs": [
    {
     "data": {
      "image/png": "[encoded data removed]",
      "text/plain": [
       "<Figure size 432x288 with 1 Axes>"
      ]
     },
     "metadata": {
      "needs_background": "light"
     },
     "output_type": "display_data"
    }
   ],
   "source": [
    "# py\n",
    "bins = np.linspace(-2, 2, 40)\n",
    "plt.hist(py, bins=bins,alpha=0.5)\n",
    "plt.hist(py_pred, bins=bins,alpha=0.5)\n",
    "plt.show()"
   ]
  },
  {
   "cell_type": "code",
   "execution_count": 34,
   "metadata": {},
   "outputs": [
    {
     "name": "stdout",
     "output_type": "stream",
     "text": [
      "tf.Tensor(0.03904799, shape=(), dtype=float32)\n"
     ]
    }
   ],
   "source": [
    "print(mse(py,py_pred))"
   ]
  },
  {
   "cell_type": "code",
   "execution_count": 35,
   "metadata": {},
   "outputs": [
    {
     "data": {
      "image/png": "[encoded data removed]",
      "text/plain": [
       "<Figure size 432x288 with 1 Axes>"
      ]
     },
     "metadata": {
      "needs_background": "light"
     },
     "output_type": "display_data"
    }
   ],
   "source": [
    "# pz\n",
    "bins = np.linspace(-3, 3, 40)\n",
    "plt.hist(pz, bins=bins,alpha=0.5)\n",
    "plt.hist(pz_pred, bins=bins,alpha=0.5)\n",
    "plt.show()"
   ]
  },
  {
   "cell_type": "code",
   "execution_count": 36,
   "metadata": {},
   "outputs": [
    {
     "name": "stdout",
     "output_type": "stream",
     "text": [
      "tf.Tensor(0.041634776, shape=(), dtype=float32)\n"
     ]
    }
   ],
   "source": [
    "print(mse(pz,pz_pred))"
   ]
  },
  {
   "cell_type": "code",
   "execution_count": 37,
   "metadata": {},
   "outputs": [
    {
     "data": {
      "image/png": "[encoded data removed]",
      "text/plain": [
       "<Figure size 432x288 with 1 Axes>"
      ]
     },
     "metadata": {
      "needs_background": "light"
     },
     "output_type": "display_data"
    }
   ],
   "source": [
    "# E\n",
    "bins = np.linspace(-2,4, 40)\n",
    "plt.hist(e, bins=bins,alpha=0.5)\n",
    "plt.hist(e_pred, bins=bins,alpha=0.5)\n",
    "plt.show()"
   ]
  },
  {
   "cell_type": "code",
   "execution_count": 38,
   "metadata": {},
   "outputs": [
    {
     "name": "stdout",
     "output_type": "stream",
     "text": [
      "tf.Tensor(0.039906774, shape=(), dtype=float32)\n"
     ]
    }
   ],
   "source": [
    "print(mse(e,e_pred))"
   ]
  },
  {
   "cell_type": "code",
   "execution_count": 39,
   "metadata": {},
   "outputs": [],
   "source": [
    "d_px = [row[0] for row in distr]\n",
    "d_py = [row[1] for row in distr]\n",
    "d_pz = [row[2] for row in distr]\n",
    "d_e = [row[3] for row in distr]"
   ]
  },
  {
   "cell_type": "markdown",
   "metadata": {},
   "source": [
    "## Distribution of (input - output) / input"
   ]
  },
  {
   "cell_type": "code",
   "execution_count": 40,
   "metadata": {},
   "outputs": [],
   "source": [
    "bins = np.linspace(-2, 2, 30)"
   ]
  },
  {
   "cell_type": "code",
   "execution_count": 41,
   "metadata": {},
   "outputs": [
    {
     "data": {
      "image/png": "[encoded data removed]",
      "text/plain": [
       "<Figure size 432x288 with 1 Axes>"
      ]
     },
     "metadata": {
      "needs_background": "light"
     },
     "output_type": "display_data"
    }
   ],
   "source": [
    "_ = plt.hist(d_px, bins=bins)"
   ]
  },
  {
   "cell_type": "code",
   "execution_count": 42,
   "metadata": {},
   "outputs": [
    {
     "data": {
      "image/png": "[encoded data removed]",
      "text/plain": [
       "<Figure size 432x288 with 1 Axes>"
      ]
     },
     "metadata": {
      "needs_background": "light"
     },
     "output_type": "display_data"
    }
   ],
   "source": [
    "_ = plt.hist(d_py, bins=bins)"
   ]
  },
  {
   "cell_type": "code",
   "execution_count": 43,
   "metadata": {},
   "outputs": [
    {
     "data": {
      "image/png": "[encoded data removed]",
      "text/plain": [
       "<Figure size 432x288 with 1 Axes>"
      ]
     },
     "metadata": {
      "needs_background": "light"
     },
     "output_type": "display_data"
    }
   ],
   "source": [
    "_ = plt.hist(d_pz, bins=bins)"
   ]
  },
  {
   "cell_type": "code",
   "execution_count": 44,
   "metadata": {},
   "outputs": [
    {
     "data": {
      "image/png": "[encoded data removed]",
      "text/plain": [
       "<Figure size 432x288 with 1 Axes>"
      ]
     },
     "metadata": {
      "needs_background": "light"
     },
     "output_type": "display_data"
    }
   ],
   "source": [
    "_ = plt.hist(d_e, bins=bins)"
   ]
  },
  {
   "cell_type": "markdown",
   "metadata": {},
   "source": [
    "# Anomaly Detection"
   ]
  },
  {
   "cell_type": "code",
   "execution_count": 45,
   "metadata": {},
   "outputs": [],
   "source": [
    "from sklearn.metrics import mean_squared_error\n",
    "from scipy.stats import wasserstein_distance"
   ]
  },
  {
   "cell_type": "code",
   "execution_count": 46,
   "metadata": {},
   "outputs": [],
   "source": [
    "# m_12 = sqrt ( (E_1 + E_2)^2 - (p_x1 + p_x2)^2 - (p_y1 + p_y2)^2 - (p_z1 + p_z2)^2 )\n",
    "def invariant_mass(jet1, jet2):\n",
    "    return math.sqrt((jet1.e + jet2.e)**2 - (jet1.px + jet2.px)**2 - (jet1.py + jet2.py)**2 - (jet1.pz + jet2.pz)**2)"
   ]
  },
  {
   "cell_type": "code",
   "execution_count": 50,
   "metadata": {},
   "outputs": [],
   "source": [
    "all_data = np.concatenate((x_train, x_val, x_test))\n",
    "all_pred = model.predict(all_data)"
   ]
  },
  {
   "cell_type": "code",
   "execution_count": 54,
   "metadata": {},
   "outputs": [],
   "source": [
    "# get the iqr weighted mse of all predictions\n",
    "errors = (iqr_prop[0] * np.square(all_data[:,0] - all_pred[:,0]) + iqr_prop[1] * np.square(all_data[:,1] - all_pred[:,1]) + iqr_prop[2] * np.square(all_data[:,2] - all_pred[:,2]) + iqr_prop[3] * np.square(all_data[:,3] - all_pred[:,3]))\n",
    "# alternatively get error based on emd\n",
    "# errors = [wasserstein_distance(all_data[i], all_pred[i]) for i in range(len(all_data))]"
   ]
  },
  {
   "cell_type": "code",
   "execution_count": 55,
   "metadata": {},
   "outputs": [],
   "source": [
    "# all the inputs that had high mse\n",
    "data_df = loaded_data.copy()\n",
    "data_df.columns = ['px','py','pz','e','pt','eta','phi','mass','event']\n",
    "data_df[\"mse\"] = errors"
   ]
  },
  {
   "cell_type": "code",
   "execution_count": 56,
   "metadata": {},
   "outputs": [],
   "source": [
    "mass_mu = data_df.mass.mean()\n",
    "mass_sd = data_df.mass.std()"
   ]
  },
  {
   "cell_type": "code",
   "execution_count": 62,
   "metadata": {},
   "outputs": [],
   "source": [
    "cut = 0.97\n",
    "data_df[\"outlier\"] = 0\n",
    "\n",
    "# define the outliers by a cut on mse error\n",
    "mse_thresh = np.quantile(errors, cut)\n",
    "data_df.loc[data_df[\"mse\"] > mse_thresh, \"outlier\"] = 1\n",
    "outliers = data_df.loc[data_df.outlier == 1]"
   ]
  },
  {
   "cell_type": "code",
   "execution_count": 63,
   "metadata": {},
   "outputs": [],
   "source": [
    "# get the leading 2 jets from the original dataset if at least 1 was classified an outlier\n",
    "outlier_events = outliers.event.unique()\n",
    "outliers2 = loaded_data.loc[loaded_data.event.isin(outlier_events)]"
   ]
  },
  {
   "cell_type": "code",
   "execution_count": 64,
   "metadata": {
    "scrolled": true
   },
   "outputs": [],
   "source": [
    "# extract the mass of the outliers\n",
    "mass = []\n",
    "\n",
    "for event, group in outliers2.groupby(['event']):\n",
    "    pseudojets_input = np.zeros(len(group), dtype=DTYPE_PTEPM)\n",
    "\n",
    "    for i in range(len(group.pt.array)):\n",
    "        pseudojets_input[i]['pT'] = group.pt.array[i]\n",
    "        pseudojets_input[i]['eta'] = group.eta.array[i]\n",
    "        pseudojets_input[i]['phi'] = group.phi.array[i]\n",
    "\n",
    "    sequence = cluster(pseudojets_input, R=1.0, p=-1)\n",
    "    jets = sequence.inclusive_jets()\n",
    "\n",
    "    if(len(jets) >= 2):  # just take the invariant mass of the leading 2 jets\n",
    "        mass.append(invariant_mass(jets[0],jets[1]))"
   ]
  },
  {
   "cell_type": "code",
   "execution_count": 65,
   "metadata": {},
   "outputs": [],
   "source": [
    "# load in the precalculated invariant mass of all leading 2 jets for all events\n",
    "path = '/anomalyvol/data/jet_ver/bb1_jet_mass.h5'\n",
    "mgen = generator(path, chunk_size, total_size)\n",
    "all_mass = next(mgen)\n",
    "\n",
    "for i in range(total_size // chunk_size - 1):\n",
    "    all_mass.append(next(mgen))"
   ]
  },
  {
   "cell_type": "code",
   "execution_count": 66,
   "metadata": {},
   "outputs": [
    {
     "data": {
      "image/png": "[encoded data removed]",
      "text/plain": [
       "<Figure size 432x288 with 1 Axes>"
      ]
     },
     "metadata": {
      "needs_background": "light"
     },
     "output_type": "display_data"
    }
   ],
   "source": [
    "# plot invariant mass (orange = all, blue = outliers)\n",
    "weights = np.ones_like(mass) / len(mass)\n",
    "plt.hist(mass, bins=np.linspace(1000,6000, 61), alpha = 0.5, weights=weights)\n",
    "weights = np.ones_like(all_mass) / len(all_mass)\n",
    "plt.hist(all_mass.mass, bins=np.linspace(1000,6000, 61), alpha = 0.5, weights=weights)\n",
    "plt.show()"
   ]
  }
 ],
 "metadata": {
  "kernelspec": {
   "display_name": "Python 3",
   "language": "python",
   "name": "python3"
  },
  "language_info": {
   "codemirror_mode": {
    "name": "ipython",
    "version": 3
   },
   "file_extension": ".py",
   "mimetype": "text/x-python",
   "name": "python",
   "nbconvert_exporter": "python",
   "pygments_lexer": "ipython3",
   "version": "3.7.6"
  }
 },
 "nbformat": 4,
 "nbformat_minor": 4
}
