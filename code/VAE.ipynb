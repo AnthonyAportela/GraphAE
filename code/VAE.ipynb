{
 "cells": [
  {
   "cell_type": "code",
   "execution_count": 1,
   "metadata": {},
   "outputs": [],
   "source": [
    "import pandas as pd\n",
    "import numpy as np\n",
    "from pyjet import cluster,DTYPE_PTEPM\n",
    "from sklearn import preprocessing"
   ]
  },
  {
   "cell_type": "markdown",
   "metadata": {},
   "source": [
    "# Pre processing"
   ]
  },
  {
   "cell_type": "code",
   "execution_count": 2,
   "metadata": {},
   "outputs": [],
   "source": [
    "path = '/anomalyvol/data/events_LHCO2020_backgroundMC_Pythia.h5'"
   ]
  },
  {
   "cell_type": "code",
   "execution_count": 3,
   "metadata": {},
   "outputs": [],
   "source": [
    "df = pd.read_hdf(path,stop=10000) # just read first 100000 events"
   ]
  },
  {
   "cell_type": "code",
   "execution_count": 4,
   "metadata": {},
   "outputs": [],
   "source": [
    "all_events = df.values"
   ]
  },
  {
   "cell_type": "code",
   "execution_count": 5,
   "metadata": {},
   "outputs": [],
   "source": [
    "rows = all_events.shape[0]\n",
    "cols = all_events.shape[1]\n",
    "data = []"
   ]
  },
  {
   "cell_type": "code",
   "execution_count": 6,
   "metadata": {},
   "outputs": [],
   "source": [
    "for i in range(rows):\n",
    "    pseudojets_input = np.zeros(len([x for x in all_events[i][::3] if x > 0]), dtype=DTYPE_PTEPM)\n",
    "    for j in range(cols // 3):\n",
    "        if (all_events[i][j*3]>0):\n",
    "            pseudojets_input[j]['pT'] = all_events[i][j*3]\n",
    "            pseudojets_input[j]['eta'] = all_events[i][j*3+1]\n",
    "            pseudojets_input[j]['phi'] = all_events[i][j*3+2]\n",
    "        pass\n",
    "    sequence = cluster(pseudojets_input, R=1.0, p=-1)\n",
    "    jets = sequence.inclusive_jets()\n",
    "    for k in range(len(jets)):\n",
    "        jet = []\n",
    "        jet.append(jets[k].px)\n",
    "        jet.append(jets[k].py)\n",
    "        jet.append(jets[k].pz)\n",
    "        jet.append(jets[k].e)\n",
    "        data.append(jet)"
   ]
  },
  {
   "cell_type": "code",
   "execution_count": 7,
   "metadata": {},
   "outputs": [
    {
     "data": {
      "text/plain": [
       "(147331, 4)"
      ]
     },
     "execution_count": 7,
     "metadata": {},
     "output_type": "execute_result"
    }
   ],
   "source": [
    "data = np.array(data)\n",
    "data.shape"
   ]
  },
  {
   "cell_type": "code",
   "execution_count": 8,
   "metadata": {},
   "outputs": [],
   "source": [
    "# log transform pT\n",
    "#data[:,3] = np.ma.log(data[:,3]).filled()"
   ]
  },
  {
   "cell_type": "code",
   "execution_count": 9,
   "metadata": {},
   "outputs": [
    {
     "data": {
      "text/plain": [
       "array([[-1.17658220e+03, -7.79040316e+02,  3.40962660e+02,\n",
       "         1.45491963e+03],\n",
       "       [ 6.11088616e+02,  7.16513394e+02,  1.55833044e+03,\n",
       "         1.87194199e+03],\n",
       "       [ 4.96094722e+02, -1.87111748e+01,  1.78940558e+03,\n",
       "         1.85808569e+03],\n",
       "       ...,\n",
       "       [-1.43123397e-01,  7.72218759e-01, -5.37015154e+00,\n",
       "         5.42727682e+00],\n",
       "       [-2.31257017e-01, -6.81425110e-01,  1.42509806e+00,\n",
       "         1.59647251e+00],\n",
       "       [ 2.34250895e-01,  3.07633892e-01,  2.66273882e+01,\n",
       "         2.66301955e+01]])"
      ]
     },
     "execution_count": 9,
     "metadata": {},
     "output_type": "execute_result"
    }
   ],
   "source": [
    "data"
   ]
  },
  {
   "cell_type": "code",
   "execution_count": 10,
   "metadata": {},
   "outputs": [],
   "source": [
    "# splitting data\n",
    "x_train = data[0:int(len(data) * 0.8)]\n",
    "x_val = data[int(len(data) * 0.8):int(len(data) * 0.9)]\n",
    "x_test = data[int(len(data) * 0.9):]"
   ]
  },
  {
   "cell_type": "code",
   "execution_count": 11,
   "metadata": {},
   "outputs": [],
   "source": [
    "# regularize\n",
    "scaler = preprocessing.StandardScaler()\n",
    "x_train = scaler.fit_transform(x_train)\n",
    "x_val = scaler.transform(x_val)\n",
    "x_test = scaler.transform(x_test)"
   ]
  },
  {
   "cell_type": "markdown",
   "metadata": {},
   "source": [
    "# VAE Model"
   ]
  },
  {
   "cell_type": "code",
   "execution_count": 12,
   "metadata": {},
   "outputs": [
    {
     "name": "stderr",
     "output_type": "stream",
     "text": [
      "Using TensorFlow backend.\n"
     ]
    }
   ],
   "source": [
    "import keras\n",
    "from keras.layers import Lambda, Input, Dense, Flatten, Reshape\n",
    "from keras.models import Model, Sequential\n",
    "from keras import metrics, losses\n",
    "from keras import backend as K"
   ]
  },
  {
   "cell_type": "code",
   "execution_count": 13,
   "metadata": {},
   "outputs": [],
   "source": [
    "def sampling(args):\n",
    "    \"\"\"\n",
    "    # Arguments\n",
    "        args (tensor): mean and log of variance of Q(z|X)\n",
    "    # Returns\n",
    "        z (tensor): sampled latent vector\n",
    "    \"\"\"\n",
    "\n",
    "    z_mean, z_log_var = args\n",
    "    batch = K.shape(z_mean)[0]\n",
    "    dim = K.int_shape(z_mean)[1]\n",
    "    # by default, random_normal has mean = 0 and std = 1.0\n",
    "    epsilon = K.random_normal(shape=(batch, dim))\n",
    "    return z_mean + K.exp(0.5 * z_log_var) * epsilon"
   ]
  },
  {
   "cell_type": "code",
   "execution_count": 14,
   "metadata": {},
   "outputs": [],
   "source": [
    "inter_dim_1 = 32\n",
    "inter_dim_2 = 16\n",
    "final_dim = 8\n",
    "latent_dim = 4\n",
    "input_dim = 4"
   ]
  },
  {
   "cell_type": "code",
   "execution_count": 15,
   "metadata": {},
   "outputs": [],
   "source": [
    "# encoder\n",
    "x = Input(shape=(input_dim,))\n",
    "#x_flat = Flatten()(x)\n",
    "h1 = Dense(inter_dim_1, activation='relu')(x)\n",
    "h2 = Dense(inter_dim_2, activation='relu')(h1)\n",
    "h3 = Dense(final_dim, activation='relu')(h2)\n",
    "z_mean = Dense(latent_dim)(h3)\n",
    "z_log_sigma = Dense(latent_dim)(h2)"
   ]
  },
  {
   "cell_type": "code",
   "execution_count": 16,
   "metadata": {},
   "outputs": [],
   "source": [
    "# random sampling\n",
    "z = Lambda(sampling, output_shape=(latent_dim,))([z_mean, z_log_sigma])\n",
    "\n",
    "encoder = Model(inputs = x, outputs = z)"
   ]
  },
  {
   "cell_type": "code",
   "execution_count": 17,
   "metadata": {},
   "outputs": [],
   "source": [
    "# decoder\n",
    "decoder_h3 = Dense(final_dim, activation='relu')\n",
    "decoder_h2 = Dense(inter_dim_2, activation='relu')\n",
    "decoder_h1 = Dense(inter_dim_1, activation='relu')\n",
    "decoder_mean = Dense(input_dim, activation='linear')\n",
    "\n",
    "h3_decoded = decoder_h3(z)\n",
    "h2_decoded = decoder_h2(h3_decoded)\n",
    "h1_decoded = decoder_h1(h2_decoded)\n",
    "x_decoded_mean = decoder_mean(h1_decoded)\n",
    "# x_decoded = Reshape(input_shape)(x_decoded_mean)"
   ]
  },
  {
   "cell_type": "code",
   "execution_count": 18,
   "metadata": {},
   "outputs": [],
   "source": [
    "vae = Model(inputs = x, outputs = x_decoded_mean, name = 'vae')"
   ]
  },
  {
   "cell_type": "code",
   "execution_count": 19,
   "metadata": {},
   "outputs": [],
   "source": [
    "mse = keras.losses.MeanSquaredError()\n",
    "def vae_loss(x, y):\n",
    "    mse_loss = mse(x, y)\n",
    "    kl_loss = - 0.5 * K.mean(1 + z_log_sigma - K.square(z_mean) - K.exp(z_log_sigma), axis=-1)\n",
    "    return mse_loss + kl_loss\n",
    "\n",
    "vae.compile(optimizer='adam', loss=vae_loss)"
   ]
  },
  {
   "cell_type": "code",
   "execution_count": 20,
   "metadata": {},
   "outputs": [
    {
     "name": "stdout",
     "output_type": "stream",
     "text": [
      "Model: \"vae\"\n",
      "__________________________________________________________________________________________________\n",
      "Layer (type)                    Output Shape         Param #     Connected to                     \n",
      "==================================================================================================\n",
      "input_1 (InputLayer)            (None, 4)            0                                            \n",
      "__________________________________________________________________________________________________\n",
      "dense_1 (Dense)                 (None, 32)           160         input_1[0][0]                    \n",
      "__________________________________________________________________________________________________\n",
      "dense_2 (Dense)                 (None, 16)           528         dense_1[0][0]                    \n",
      "__________________________________________________________________________________________________\n",
      "dense_3 (Dense)                 (None, 8)            136         dense_2[0][0]                    \n",
      "__________________________________________________________________________________________________\n",
      "dense_4 (Dense)                 (None, 4)            36          dense_3[0][0]                    \n",
      "__________________________________________________________________________________________________\n",
      "dense_5 (Dense)                 (None, 4)            68          dense_2[0][0]                    \n",
      "__________________________________________________________________________________________________\n",
      "lambda_1 (Lambda)               (None, 4)            0           dense_4[0][0]                    \n",
      "                                                                 dense_5[0][0]                    \n",
      "__________________________________________________________________________________________________\n",
      "dense_6 (Dense)                 (None, 8)            40          lambda_1[0][0]                   \n",
      "__________________________________________________________________________________________________\n",
      "dense_7 (Dense)                 (None, 16)           144         dense_6[0][0]                    \n",
      "__________________________________________________________________________________________________\n",
      "dense_8 (Dense)                 (None, 32)           544         dense_7[0][0]                    \n",
      "__________________________________________________________________________________________________\n",
      "dense_9 (Dense)                 (None, 4)            132         dense_8[0][0]                    \n",
      "==================================================================================================\n",
      "Total params: 1,788\n",
      "Trainable params: 1,788\n",
      "Non-trainable params: 0\n",
      "__________________________________________________________________________________________________\n"
     ]
    }
   ],
   "source": [
    "vae.summary()"
   ]
  },
  {
   "cell_type": "markdown",
   "metadata": {},
   "source": [
    "# Train"
   ]
  },
  {
   "cell_type": "code",
   "execution_count": 21,
   "metadata": {},
   "outputs": [],
   "source": [
    "from sklearn.model_selection import train_test_split"
   ]
  },
  {
   "cell_type": "code",
   "execution_count": 22,
   "metadata": {},
   "outputs": [],
   "source": [
    "batch_size = 1000\n",
    "epochs = 100"
   ]
  },
  {
   "cell_type": "code",
   "execution_count": 23,
   "metadata": {},
   "outputs": [
    {
     "data": {
      "text/plain": [
       "(117864, 4)"
      ]
     },
     "execution_count": 23,
     "metadata": {},
     "output_type": "execute_result"
    }
   ],
   "source": [
    "x_train.shape"
   ]
  },
  {
   "cell_type": "code",
   "execution_count": 24,
   "metadata": {},
   "outputs": [],
   "source": [
    "my_callbacks = [\n",
    "    keras.callbacks.EarlyStopping(patience=10)\n",
    "]"
   ]
  },
  {
   "cell_type": "code",
   "execution_count": 25,
   "metadata": {},
   "outputs": [
    {
     "name": "stdout",
     "output_type": "stream",
     "text": [
      "Train on 117864 samples, validate on 14733 samples\n",
      "Epoch 1/100\n",
      "117864/117864 [==============================] - 1s 10us/step - loss: 1.0110 - val_loss: 0.9693\n",
      "Epoch 2/100\n",
      "117864/117864 [==============================] - 1s 5us/step - loss: 0.9138 - val_loss: 0.8750\n",
      "Epoch 3/100\n",
      "117864/117864 [==============================] - 1s 5us/step - loss: 0.7231 - val_loss: 0.6466\n",
      "Epoch 4/100\n",
      "117864/117864 [==============================] - 1s 5us/step - loss: 0.6369 - val_loss: 0.6129\n",
      "Epoch 5/100\n",
      "117864/117864 [==============================] - 1s 5us/step - loss: 0.5782 - val_loss: 0.5399\n",
      "Epoch 6/100\n",
      "117864/117864 [==============================] - 1s 5us/step - loss: 0.5183 - val_loss: 0.4986\n",
      "Epoch 7/100\n",
      "117864/117864 [==============================] - 1s 5us/step - loss: 0.4841 - val_loss: 0.4721\n",
      "Epoch 8/100\n",
      "117864/117864 [==============================] - 1s 5us/step - loss: 0.4639 - val_loss: 0.4576\n",
      "Epoch 9/100\n",
      "117864/117864 [==============================] - 1s 5us/step - loss: 0.4474 - val_loss: 0.4495\n",
      "Epoch 10/100\n",
      "117864/117864 [==============================] - 1s 5us/step - loss: 0.4394 - val_loss: 0.4412\n",
      "Epoch 11/100\n",
      "117864/117864 [==============================] - 1s 5us/step - loss: 0.4335 - val_loss: 0.4347\n",
      "Epoch 12/100\n",
      "117864/117864 [==============================] - 1s 5us/step - loss: 0.4282 - val_loss: 0.4291\n",
      "Epoch 13/100\n",
      "117864/117864 [==============================] - 1s 5us/step - loss: 0.4255 - val_loss: 0.4280\n",
      "Epoch 14/100\n",
      "117864/117864 [==============================] - 1s 5us/step - loss: 0.4231 - val_loss: 0.4252\n",
      "Epoch 15/100\n",
      "117864/117864 [==============================] - 1s 5us/step - loss: 0.4195 - val_loss: 0.4197\n",
      "Epoch 16/100\n",
      "117864/117864 [==============================] - 1s 5us/step - loss: 0.4169 - val_loss: 0.4190\n",
      "Epoch 17/100\n",
      "117864/117864 [==============================] - 1s 5us/step - loss: 0.4166 - val_loss: 0.4182\n",
      "Epoch 18/100\n",
      "117864/117864 [==============================] - 1s 5us/step - loss: 0.4154 - val_loss: 0.4145\n",
      "Epoch 19/100\n",
      "117864/117864 [==============================] - 1s 5us/step - loss: 0.4134 - val_loss: 0.4237\n",
      "Epoch 20/100\n",
      "117864/117864 [==============================] - 1s 5us/step - loss: 0.4137 - val_loss: 0.4144\n",
      "Epoch 21/100\n",
      "117864/117864 [==============================] - 1s 5us/step - loss: 0.4128 - val_loss: 0.4127\n",
      "Epoch 22/100\n",
      "117864/117864 [==============================] - 1s 5us/step - loss: 0.4113 - val_loss: 0.4168\n",
      "Epoch 23/100\n",
      "117864/117864 [==============================] - 1s 5us/step - loss: 0.4092 - val_loss: 0.4143\n",
      "Epoch 24/100\n",
      "117864/117864 [==============================] - 1s 5us/step - loss: 0.4088 - val_loss: 0.4096\n",
      "Epoch 25/100\n",
      "117864/117864 [==============================] - 1s 5us/step - loss: 0.4092 - val_loss: 0.4139\n",
      "Epoch 26/100\n",
      "117864/117864 [==============================] - 1s 5us/step - loss: 0.4074 - val_loss: 0.4127\n",
      "Epoch 27/100\n",
      "117864/117864 [==============================] - 1s 5us/step - loss: 0.4078 - val_loss: 0.4092\n",
      "Epoch 28/100\n",
      "117864/117864 [==============================] - 1s 5us/step - loss: 0.4083 - val_loss: 0.4101\n",
      "Epoch 29/100\n",
      "117864/117864 [==============================] - 1s 5us/step - loss: 0.4054 - val_loss: 0.4106\n",
      "Epoch 30/100\n",
      "117864/117864 [==============================] - 1s 5us/step - loss: 0.4068 - val_loss: 0.4068\n",
      "Epoch 31/100\n",
      "117864/117864 [==============================] - 1s 5us/step - loss: 0.4057 - val_loss: 0.4072\n",
      "Epoch 32/100\n",
      "117864/117864 [==============================] - 1s 5us/step - loss: 0.4063 - val_loss: 0.4043\n",
      "Epoch 33/100\n",
      "117864/117864 [==============================] - 1s 4us/step - loss: 0.4035 - val_loss: 0.4070\n",
      "Epoch 34/100\n",
      "117864/117864 [==============================] - 1s 5us/step - loss: 0.4060 - val_loss: 0.4057\n",
      "Epoch 35/100\n",
      "117864/117864 [==============================] - 1s 5us/step - loss: 0.4045 - val_loss: 0.4081\n",
      "Epoch 36/100\n",
      "117864/117864 [==============================] - 1s 5us/step - loss: 0.4055 - val_loss: 0.4095\n",
      "Epoch 37/100\n",
      "117864/117864 [==============================] - 1s 5us/step - loss: 0.4048 - val_loss: 0.4067\n",
      "Epoch 38/100\n",
      "117864/117864 [==============================] - 1s 5us/step - loss: 0.4047 - val_loss: 0.4087\n",
      "Epoch 39/100\n",
      "117864/117864 [==============================] - 1s 5us/step - loss: 0.4051 - val_loss: 0.4075\n",
      "Epoch 40/100\n",
      "117864/117864 [==============================] - 1s 5us/step - loss: 0.4036 - val_loss: 0.4069\n",
      "Epoch 41/100\n",
      "117864/117864 [==============================] - 1s 5us/step - loss: 0.4009 - val_loss: 0.4085\n",
      "Epoch 42/100\n",
      "117864/117864 [==============================] - 1s 5us/step - loss: 0.4025 - val_loss: 0.4044\n"
     ]
    }
   ],
   "source": [
    "hist = vae.fit(x_train, x_train,\n",
    "               shuffle=True,\n",
    "               epochs=epochs,\n",
    "               batch_size=batch_size,\n",
    "               validation_data=(x_val, x_val),\n",
    "               callbacks=my_callbacks)"
   ]
  },
  {
   "cell_type": "markdown",
   "metadata": {},
   "source": [
    "# Visualization"
   ]
  },
  {
   "cell_type": "code",
   "execution_count": 26,
   "metadata": {},
   "outputs": [],
   "source": [
    "import matplotlib.pyplot as plt"
   ]
  },
  {
   "cell_type": "code",
   "execution_count": 27,
   "metadata": {},
   "outputs": [
    {
     "data": {
      "image/png": "[encoded data removed]",
      "text/plain": [
       "<Figure size 432x266.991 with 1 Axes>"
      ]
     },
     "metadata": {
      "needs_background": "light"
     },
     "output_type": "display_data"
    }
   ],
   "source": [
    "golden_size = lambda width: (width, 2. * width / (1 + np.sqrt(5)))\n",
    "\n",
    "fig, ax = plt.subplots(figsize=golden_size(6))\n",
    "\n",
    "hist_df = pd.DataFrame(hist.history)\n",
    "hist_df.plot(ax=ax)\n",
    "\n",
    "ax.set_ylabel('NELBO')\n",
    "ax.set_xlabel('# epochs')\n",
    "\n",
    "ax.set_ylim(.99*hist_df[1:].values.min(), \n",
    "            1.1*hist_df[1:].values.max())\n",
    "plt.show()"
   ]
  },
  {
   "cell_type": "code",
   "execution_count": 31,
   "metadata": {},
   "outputs": [],
   "source": [
    "predictions = vae.predict(x_test)"
   ]
  },
  {
   "cell_type": "code",
   "execution_count": 32,
   "metadata": {},
   "outputs": [
    {
     "data": {
      "text/plain": [
       "array([[-1.37734637e-01,  1.26551539e-02,  8.13309327e-02,\n",
       "        -2.64836758e-01],\n",
       "       [-3.01691145e-02, -5.31171262e-03, -2.86649093e-02,\n",
       "        -4.16369706e-01],\n",
       "       [ 2.38518906e+00,  2.15741825e+00,  1.19080074e-01,\n",
       "         1.60433149e+00],\n",
       "       ...,\n",
       "       [ 6.96893036e-03, -9.89799201e-03, -2.50443071e-03,\n",
       "        -3.88776034e-01],\n",
       "       [ 1.20343268e-03, -1.54505223e-02, -4.33181971e-03,\n",
       "        -3.99052709e-01],\n",
       "       [ 5.59486449e-03, -4.39211726e-04, -1.26902685e-02,\n",
       "        -3.87264699e-01]], dtype=float32)"
      ]
     },
     "execution_count": 32,
     "metadata": {},
     "output_type": "execute_result"
    }
   ],
   "source": [
    "predictions"
   ]
  },
  {
   "cell_type": "code",
   "execution_count": 33,
   "metadata": {},
   "outputs": [],
   "source": [
    "distr = (x_test - predictions) / (x_test)"
   ]
  },
  {
   "cell_type": "code",
   "execution_count": 34,
   "metadata": {},
   "outputs": [],
   "source": [
    "px_pred = [row[0] for row in predictions]\n",
    "py_pred = [row[1] for row in predictions]\n",
    "pz_pred = [row[2] for row in predictions]\n",
    "e_pred = [row[3] for row in predictions]"
   ]
  },
  {
   "cell_type": "code",
   "execution_count": 35,
   "metadata": {},
   "outputs": [],
   "source": [
    "px = [row[0] for row in x_test]\n",
    "py = [row[1] for row in x_test]\n",
    "pz = [row[2] for row in x_test]\n",
    "e = [row[3] for row in x_test]"
   ]
  },
  {
   "cell_type": "code",
   "execution_count": 49,
   "metadata": {},
   "outputs": [],
   "source": [
    "all_pred = K.flatten(predictions)\n",
    "all_test = K.flatten(x_test)"
   ]
  },
  {
   "cell_type": "code",
   "execution_count": 51,
   "metadata": {},
   "outputs": [
    {
     "data": {
      "text/plain": [
       "(array([2.1000e+01, 3.5000e+01, 3.9000e+01, 7.8300e+02, 4.4370e+03,\n",
       "        5.1170e+03, 1.2080e+03, 4.1000e+02, 2.0400e+02, 1.5800e+02,\n",
       "        9.2000e+01, 7.0000e+01, 6.3000e+01, 6.2000e+01, 4.9000e+01,\n",
       "        6.6000e+01, 7.4000e+01, 6.0000e+01, 8.1000e+01, 8.6000e+01,\n",
       "        1.4200e+02, 2.1400e+02, 5.6600e+02, 8.0830e+03, 2.3213e+04,\n",
       "        3.8000e+03, 5.3600e+02, 1.9900e+02, 1.0000e+02, 8.2000e+01,\n",
       "        7.2000e+01, 6.2000e+01, 3.6000e+01, 3.7000e+01, 3.2000e+01,\n",
       "        2.6000e+01, 3.3000e+01, 2.6000e+01, 5.2000e+01, 2.0000e+01,\n",
       "        3.5000e+01, 3.3000e+01, 2.2000e+01, 2.8000e+01, 2.8000e+01,\n",
       "        3.9000e+01, 3.3000e+01, 2.2000e+01, 1.7000e+01]),\n",
       " array([-0.5       , -0.47959184, -0.45918367, -0.43877551, -0.41836735,\n",
       "        -0.39795918, -0.37755102, -0.35714286, -0.33673469, -0.31632653,\n",
       "        -0.29591837, -0.2755102 , -0.25510204, -0.23469388, -0.21428571,\n",
       "        -0.19387755, -0.17346939, -0.15306122, -0.13265306, -0.1122449 ,\n",
       "        -0.09183673, -0.07142857, -0.05102041, -0.03061224, -0.01020408,\n",
       "         0.01020408,  0.03061224,  0.05102041,  0.07142857,  0.09183673,\n",
       "         0.1122449 ,  0.13265306,  0.15306122,  0.17346939,  0.19387755,\n",
       "         0.21428571,  0.23469388,  0.25510204,  0.2755102 ,  0.29591837,\n",
       "         0.31632653,  0.33673469,  0.35714286,  0.37755102,  0.39795918,\n",
       "         0.41836735,  0.43877551,  0.45918367,  0.47959184,  0.5       ]),\n",
       " <a list of 49 Patch objects>)"
      ]
     },
     "execution_count": 51,
     "metadata": {},
     "output_type": "execute_result"
    },
    {
     "data": {
      "image/png": "[encoded data removed]",
      "text/plain": [
       "<Figure size 432x288 with 1 Axes>"
      ]
     },
     "metadata": {
      "needs_background": "light"
     },
     "output_type": "display_data"
    }
   ],
   "source": [
    "bins = np.linspace(-0.5, 0.5, 50)\n",
    "plt.hist(all_test, bins=bins,alpha=0.5)\n",
    "plt.hist(all_pred, bins=bins,alpha=0.5)"
   ]
  },
  {
   "cell_type": "markdown",
   "metadata": {},
   "source": [
    "## Stacking output (orange) over input (blue) for pT, eta, phi, m"
   ]
  },
  {
   "cell_type": "code",
   "execution_count": 48,
   "metadata": {},
   "outputs": [
    {
     "data": {
      "image/png": "[encoded data removed]",
      "text/plain": [
       "<Figure size 432x288 with 1 Axes>"
      ]
     },
     "metadata": {
      "needs_background": "light"
     },
     "output_type": "display_data"
    }
   ],
   "source": [
    "bins = np.linspace(-0.1, 0.1, 50)\n",
    "plt.hist(px, bins=bins,alpha=0.5)\n",
    "plt.hist(px_pred, bins=bins,alpha=0.5)\n",
    "bins = np.linspace(-0.45, -0.2, 40)"
   ]
  },
  {
   "cell_type": "code",
   "execution_count": 47,
   "metadata": {},
   "outputs": [
    {
     "data": {
      "text/plain": [
       "(array([5.000e+00, 4.000e+00, 3.000e+00, 1.000e+00, 8.000e+00, 4.000e+00,\n",
       "        9.000e+00, 6.000e+00, 3.000e+00, 7.000e+00, 1.100e+01, 1.400e+01,\n",
       "        9.000e+00, 1.200e+01, 2.400e+01, 3.000e+01, 3.600e+01, 5.300e+01,\n",
       "        9.900e+01, 1.430e+02, 5.700e+02, 3.483e+03, 4.070e+03, 1.506e+03,\n",
       "        6.160e+02, 3.540e+02, 2.740e+02, 2.380e+02, 1.920e+02, 1.380e+02,\n",
       "        9.400e+01, 4.800e+01, 4.700e+01, 5.000e+01, 3.100e+01, 2.600e+01,\n",
       "        2.300e+01, 1.600e+01, 6.000e+00, 1.200e+01, 1.300e+01, 4.000e+00,\n",
       "        5.000e+00, 3.000e+00, 4.000e+00, 6.000e+00, 1.000e+00, 5.000e+00,\n",
       "        5.000e+00]),\n",
       " array([-0.1       , -0.09591837, -0.09183673, -0.0877551 , -0.08367347,\n",
       "        -0.07959184, -0.0755102 , -0.07142857, -0.06734694, -0.06326531,\n",
       "        -0.05918367, -0.05510204, -0.05102041, -0.04693878, -0.04285714,\n",
       "        -0.03877551, -0.03469388, -0.03061224, -0.02653061, -0.02244898,\n",
       "        -0.01836735, -0.01428571, -0.01020408, -0.00612245, -0.00204082,\n",
       "         0.00204082,  0.00612245,  0.01020408,  0.01428571,  0.01836735,\n",
       "         0.02244898,  0.02653061,  0.03061224,  0.03469388,  0.03877551,\n",
       "         0.04285714,  0.04693878,  0.05102041,  0.05510204,  0.05918367,\n",
       "         0.06326531,  0.06734694,  0.07142857,  0.0755102 ,  0.07959184,\n",
       "         0.08367347,  0.0877551 ,  0.09183673,  0.09591837,  0.1       ]),\n",
       " <a list of 49 Patch objects>)"
      ]
     },
     "execution_count": 47,
     "metadata": {},
     "output_type": "execute_result"
    },
    {
     "data": {
      "image/png": "[encoded data removed]",
      "text/plain": [
       "<Figure size 432x288 with 1 Axes>"
      ]
     },
     "metadata": {
      "needs_background": "light"
     },
     "output_type": "display_data"
    }
   ],
   "source": [
    "bins = np.linspace(-0.1, 0.1, 50)\n",
    "plt.hist(py, bins=bins,alpha=0.5)\n",
    "plt.hist(py_pred, bins=bins,alpha=0.5)"
   ]
  },
  {
   "cell_type": "code",
   "execution_count": 46,
   "metadata": {},
   "outputs": [
    {
     "data": {
      "text/plain": [
       "(array([3.000e+00, 1.200e+01, 1.700e+01, 6.000e+00, 1.200e+01, 9.000e+00,\n",
       "        5.000e+00, 1.100e+01, 1.500e+01, 1.200e+01, 2.400e+01, 8.000e+00,\n",
       "        1.900e+01, 3.600e+01, 3.600e+01, 2.200e+01, 4.500e+01, 5.400e+01,\n",
       "        9.100e+01, 1.270e+02, 2.300e+02, 4.270e+02, 1.587e+03, 6.942e+03,\n",
       "        2.003e+03, 1.720e+02, 9.600e+01, 7.100e+01, 5.000e+01, 5.600e+01,\n",
       "        4.200e+01, 4.500e+01, 2.800e+01, 2.300e+01, 2.400e+01, 1.800e+01,\n",
       "        1.600e+01, 1.200e+01, 7.000e+00, 2.000e+01, 1.300e+01, 6.000e+00,\n",
       "        1.000e+01, 2.000e+00, 5.000e+00, 2.000e+00, 6.000e+00, 6.000e+00,\n",
       "        5.000e+00]),\n",
       " array([-0.2       , -0.19183673, -0.18367347, -0.1755102 , -0.16734694,\n",
       "        -0.15918367, -0.15102041, -0.14285714, -0.13469388, -0.12653061,\n",
       "        -0.11836735, -0.11020408, -0.10204082, -0.09387755, -0.08571429,\n",
       "        -0.07755102, -0.06938776, -0.06122449, -0.05306122, -0.04489796,\n",
       "        -0.03673469, -0.02857143, -0.02040816, -0.0122449 , -0.00408163,\n",
       "         0.00408163,  0.0122449 ,  0.02040816,  0.02857143,  0.03673469,\n",
       "         0.04489796,  0.05306122,  0.06122449,  0.06938776,  0.07755102,\n",
       "         0.08571429,  0.09387755,  0.10204082,  0.11020408,  0.11836735,\n",
       "         0.12653061,  0.13469388,  0.14285714,  0.15102041,  0.15918367,\n",
       "         0.16734694,  0.1755102 ,  0.18367347,  0.19183673,  0.2       ]),\n",
       " <a list of 49 Patch objects>)"
      ]
     },
     "execution_count": 46,
     "metadata": {},
     "output_type": "execute_result"
    },
    {
     "data": {
      "image/png": "[encoded data removed]",
      "text/plain": [
       "<Figure size 432x288 with 1 Axes>"
      ]
     },
     "metadata": {
      "needs_background": "light"
     },
     "output_type": "display_data"
    }
   ],
   "source": [
    "bins = np.linspace(-0.2, 0.2, 50)\n",
    "plt.hist(pz, bins=bins,alpha=0.5)\n",
    "plt.hist(pz_pred, bins=bins,alpha=0.5)"
   ]
  },
  {
   "cell_type": "code",
   "execution_count": 45,
   "metadata": {},
   "outputs": [
    {
     "data": {
      "text/plain": [
       "(array([0.000e+00, 0.000e+00, 1.100e+01, 8.005e+03, 3.803e+03, 3.190e+02,\n",
       "        9.900e+01, 3.600e+01, 3.000e+01, 2.200e+01, 1.700e+01, 8.000e+00,\n",
       "        9.000e+00, 8.000e+00, 1.300e+01, 5.000e+00, 8.000e+00, 9.000e+00,\n",
       "        9.000e+00, 1.100e+01, 1.000e+01, 6.000e+00, 1.300e+01, 1.500e+01,\n",
       "        1.200e+01, 1.600e+01, 1.300e+01, 1.600e+01, 1.300e+01, 1.700e+01,\n",
       "        2.100e+01, 2.500e+01, 2.500e+01, 3.700e+01, 4.900e+01, 3.300e+01,\n",
       "        5.600e+01, 6.500e+01, 6.500e+01, 6.300e+01, 6.300e+01, 6.100e+01,\n",
       "        7.600e+01, 9.300e+01, 9.700e+01, 8.700e+01, 7.400e+01, 8.300e+01,\n",
       "        6.000e+01]),\n",
       " array([-0.6       , -0.54693878, -0.49387755, -0.44081633, -0.3877551 ,\n",
       "        -0.33469388, -0.28163265, -0.22857143, -0.1755102 , -0.12244898,\n",
       "        -0.06938776, -0.01632653,  0.03673469,  0.08979592,  0.14285714,\n",
       "         0.19591837,  0.24897959,  0.30204082,  0.35510204,  0.40816327,\n",
       "         0.46122449,  0.51428571,  0.56734694,  0.62040816,  0.67346939,\n",
       "         0.72653061,  0.77959184,  0.83265306,  0.88571429,  0.93877551,\n",
       "         0.99183673,  1.04489796,  1.09795918,  1.15102041,  1.20408163,\n",
       "         1.25714286,  1.31020408,  1.36326531,  1.41632653,  1.46938776,\n",
       "         1.52244898,  1.5755102 ,  1.62857143,  1.68163265,  1.73469388,\n",
       "         1.7877551 ,  1.84081633,  1.89387755,  1.94693878,  2.        ]),\n",
       " <a list of 49 Patch objects>)"
      ]
     },
     "execution_count": 45,
     "metadata": {},
     "output_type": "execute_result"
    },
    {
     "data": {
      "image/png": "[encoded data removed]",
      "text/plain": [
       "<Figure size 432x288 with 1 Axes>"
      ]
     },
     "metadata": {
      "needs_background": "light"
     },
     "output_type": "display_data"
    }
   ],
   "source": [
    "bins = np.linspace(-0.6,2, 50)\n",
    "plt.hist(e, bins=bins,alpha=0.5)\n",
    "plt.hist(e_pred, bins=bins,alpha=0.5)"
   ]
  },
  {
   "cell_type": "code",
   "execution_count": 40,
   "metadata": {},
   "outputs": [],
   "source": [
    "d_px = [row[0] for row in distr]\n",
    "d_py = [row[1] for row in distr]\n",
    "d_pz = [row[2] for row in distr]\n",
    "d_e = [row[3] for row in distr]"
   ]
  },
  {
   "cell_type": "markdown",
   "metadata": {},
   "source": [
    "## Distribution of (input - output) / input"
   ]
  },
  {
   "cell_type": "code",
   "execution_count": 41,
   "metadata": {},
   "outputs": [],
   "source": [
    "bins = np.linspace(-2, 2, 30)"
   ]
  },
  {
   "cell_type": "code",
   "execution_count": 42,
   "metadata": {},
   "outputs": [
    {
     "data": {
      "text/plain": [
       "(array([  61.,   69.,   67.,   75.,   86.,   90.,   96.,   90.,   84.,\n",
       "         104.,  131.,  177.,  183.,  320.,  465.,  517.,  440.,  354.,\n",
       "         326.,  352.,  504., 1055.,  624.,  362.,  250.,  226.,  179.,\n",
       "         155.,  154.]),\n",
       " array([-2.        , -1.86206897, -1.72413793, -1.5862069 , -1.44827586,\n",
       "        -1.31034483, -1.17241379, -1.03448276, -0.89655172, -0.75862069,\n",
       "        -0.62068966, -0.48275862, -0.34482759, -0.20689655, -0.06896552,\n",
       "         0.06896552,  0.20689655,  0.34482759,  0.48275862,  0.62068966,\n",
       "         0.75862069,  0.89655172,  1.03448276,  1.17241379,  1.31034483,\n",
       "         1.44827586,  1.5862069 ,  1.72413793,  1.86206897,  2.        ]),\n",
       " <a list of 29 Patch objects>)"
      ]
     },
     "execution_count": 42,
     "metadata": {},
     "output_type": "execute_result"
    },
    {
     "data": {
      "image/png": "[encoded data removed]",
      "text/plain": [
       "<Figure size 432x288 with 1 Axes>"
      ]
     },
     "metadata": {
      "needs_background": "light"
     },
     "output_type": "display_data"
    }
   ],
   "source": [
    "plt.hist(d_px, bins=bins)"
   ]
  },
  {
   "cell_type": "code",
   "execution_count": 43,
   "metadata": {},
   "outputs": [
    {
     "data": {
      "text/plain": [
       "(array([ 61.,  62.,  67.,  73.,  75.,  74.,  69.,  85., 103.,  91., 133.,\n",
       "        153., 224., 324., 476., 551., 399., 325., 280., 294., 386., 761.,\n",
       "        490., 326., 232., 187., 174., 162., 121.]),\n",
       " array([-2.        , -1.86206897, -1.72413793, -1.5862069 , -1.44827586,\n",
       "        -1.31034483, -1.17241379, -1.03448276, -0.89655172, -0.75862069,\n",
       "        -0.62068966, -0.48275862, -0.34482759, -0.20689655, -0.06896552,\n",
       "         0.06896552,  0.20689655,  0.34482759,  0.48275862,  0.62068966,\n",
       "         0.75862069,  0.89655172,  1.03448276,  1.17241379,  1.31034483,\n",
       "         1.44827586,  1.5862069 ,  1.72413793,  1.86206897,  2.        ]),\n",
       " <a list of 29 Patch objects>)"
      ]
     },
     "execution_count": 43,
     "metadata": {},
     "output_type": "execute_result"
    },
    {
     "data": {
      "image/png": "[encoded data removed]",
      "text/plain": [
       "<Figure size 432x288 with 1 Axes>"
      ]
     },
     "metadata": {
      "needs_background": "light"
     },
     "output_type": "display_data"
    }
   ],
   "source": [
    "plt.hist(d_py, bins=bins)"
   ]
  },
  {
   "cell_type": "code",
   "execution_count": 44,
   "metadata": {},
   "outputs": [
    {
     "data": {
      "text/plain": [
       "(array([  28.,   30.,   40.,   38.,   44.,   29.,   69.,   59.,   61.,\n",
       "          69.,   96.,  121.,  181.,  271.,  440.,  515.,  419.,  368.,\n",
       "         440.,  569.,  998., 3049., 1695.,  797.,  502.,  334.,  281.,\n",
       "         237.,  183.]),\n",
       " array([-2.        , -1.86206897, -1.72413793, -1.5862069 , -1.44827586,\n",
       "        -1.31034483, -1.17241379, -1.03448276, -0.89655172, -0.75862069,\n",
       "        -0.62068966, -0.48275862, -0.34482759, -0.20689655, -0.06896552,\n",
       "         0.06896552,  0.20689655,  0.34482759,  0.48275862,  0.62068966,\n",
       "         0.75862069,  0.89655172,  1.03448276,  1.17241379,  1.31034483,\n",
       "         1.44827586,  1.5862069 ,  1.72413793,  1.86206897,  2.        ]),\n",
       " <a list of 29 Patch objects>)"
      ]
     },
     "execution_count": 44,
     "metadata": {},
     "output_type": "execute_result"
    },
    {
     "data": {
      "image/png": "[encoded data removed]",
      "text/plain": [
       "<Figure size 432x288 with 1 Axes>"
      ]
     },
     "metadata": {
      "needs_background": "light"
     },
     "output_type": "display_data"
    }
   ],
   "source": [
    "plt.hist(d_pz, bins=bins)"
   ]
  }
 ],
 "metadata": {
  "kernelspec": {
   "display_name": "Python 3",
   "language": "python",
   "name": "python3"
  }
 },
 "nbformat": 4,
 "nbformat_minor": 4
}
