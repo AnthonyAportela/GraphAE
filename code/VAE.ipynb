{
 "cells": [
  {
   "cell_type": "code",
   "execution_count": 1,
   "metadata": {},
   "outputs": [],
   "source": [
    "import pandas as pd\n",
    "import numpy as np\n",
    "from pyjet import cluster,DTYPE_PTEPM\n",
    "from sklearn import preprocessing"
   ]
  },
  {
   "cell_type": "markdown",
   "metadata": {},
   "source": [
    "# Pre processing"
   ]
  },
  {
   "cell_type": "code",
   "execution_count": 2,
   "metadata": {},
   "outputs": [],
   "source": [
    "path = '/anomalyvol/data/events_LHCO2020_backgroundMC_Pythia.h5'"
   ]
  },
  {
   "cell_type": "code",
   "execution_count": 3,
   "metadata": {},
   "outputs": [],
   "source": [
    "df = pd.read_hdf(path,stop=100000) # just read first 100000 events"
   ]
  },
  {
   "cell_type": "code",
   "execution_count": 4,
   "metadata": {},
   "outputs": [],
   "source": [
    "all_events = df.values"
   ]
  },
  {
   "cell_type": "code",
   "execution_count": 5,
   "metadata": {},
   "outputs": [],
   "source": [
    "rows = all_events.shape[0]\n",
    "cols = all_events.shape[1]\n",
    "data = []"
   ]
  },
  {
   "cell_type": "code",
   "execution_count": 6,
   "metadata": {},
   "outputs": [],
   "source": [
    "for i in range(rows):\n",
    "    pseudojets_input = np.zeros(len([x for x in all_events[i][::3] if x > 0]), dtype=DTYPE_PTEPM)\n",
    "    for j in range(cols // 3):\n",
    "        if (all_events[i][j*3]>0):\n",
    "            pseudojets_input[j]['pT'] = all_events[i][j*3]\n",
    "            pseudojets_input[j]['eta'] = all_events[i][j*3+1]\n",
    "            pseudojets_input[j]['phi'] = all_events[i][j*3+2]\n",
    "        pass\n",
    "    sequence = cluster(pseudojets_input, R=1.0, p=-1)\n",
    "    jets = sequence.inclusive_jets()\n",
    "    for k in range(len(jets)):\n",
    "        jet = []\n",
    "        jet.append(jets[k].px)\n",
    "        jet.append(jets[k].py)\n",
    "        jet.append(jets[k].pz)\n",
    "        jet.append(jets[k].e)\n",
    "        data.append(jet)"
   ]
  },
  {
   "cell_type": "code",
   "execution_count": 7,
   "metadata": {},
   "outputs": [
    {
     "data": {
      "text/plain": [
       "(1477373, 4)"
      ]
     },
     "execution_count": 7,
     "metadata": {},
     "output_type": "execute_result"
    }
   ],
   "source": [
    "data = np.array(data)\n",
    "data.shape"
   ]
  },
  {
   "cell_type": "code",
   "execution_count": 8,
   "metadata": {},
   "outputs": [],
   "source": [
    "# log transform pT\n",
    "#data[:,3] = np.ma.log(data[:,3]).filled()"
   ]
  },
  {
   "cell_type": "code",
   "execution_count": 9,
   "metadata": {},
   "outputs": [
    {
     "data": {
      "text/plain": [
       "array([[-1.17658220e+03, -7.79040316e+02,  3.40962660e+02,\n",
       "         1.45491963e+03],\n",
       "       [ 6.11088616e+02,  7.16513394e+02,  1.55833044e+03,\n",
       "         1.87194199e+03],\n",
       "       [ 4.96094722e+02, -1.87111748e+01,  1.78940558e+03,\n",
       "         1.85808569e+03],\n",
       "       ...,\n",
       "       [ 4.42306312e-01,  9.70780337e-02,  2.58945478e+01,\n",
       "         2.58985070e+01],\n",
       "       [-2.68772115e-01, -3.44070287e-01, -3.01572220e+01,\n",
       "         3.01603823e+01],\n",
       "       [-2.82745626e-01, -7.48815701e-02, -9.38791569e+00,\n",
       "         9.39247109e+00]])"
      ]
     },
     "execution_count": 9,
     "metadata": {},
     "output_type": "execute_result"
    }
   ],
   "source": [
    "data"
   ]
  },
  {
   "cell_type": "code",
   "execution_count": 10,
   "metadata": {},
   "outputs": [],
   "source": [
    "# splitting data\n",
    "x_train = data[0:int(len(data) * 0.8)]\n",
    "x_val = data[int(len(data) * 0.8):int(len(data) * 0.9)]\n",
    "x_test = data[int(len(data) * 0.9):]"
   ]
  },
  {
   "cell_type": "code",
   "execution_count": 11,
   "metadata": {},
   "outputs": [],
   "source": [
    "# regularize\n",
    "scaler = preprocessing.StandardScaler()\n",
    "x_train = scaler.fit_transform(x_train)\n",
    "x_val = scaler.transform(x_val)\n",
    "x_test = scaler.transform(x_test)"
   ]
  },
  {
   "cell_type": "markdown",
   "metadata": {},
   "source": [
    "# VAE Model"
   ]
  },
  {
   "cell_type": "code",
   "execution_count": 12,
   "metadata": {},
   "outputs": [
    {
     "name": "stderr",
     "output_type": "stream",
     "text": [
      "Using TensorFlow backend.\n"
     ]
    }
   ],
   "source": [
    "import keras\n",
    "from keras.layers import Lambda, Input, Dense, Flatten, Reshape\n",
    "from keras.models import Model, Sequential\n",
    "from keras import metrics, losses\n",
    "from keras import backend as K"
   ]
  },
  {
   "cell_type": "code",
   "execution_count": 13,
   "metadata": {},
   "outputs": [],
   "source": [
    "def sampling(args):\n",
    "    \"\"\"\n",
    "    # Arguments\n",
    "        args (tensor): mean and log of variance of Q(z|X)\n",
    "    # Returns\n",
    "        z (tensor): sampled latent vector\n",
    "    \"\"\"\n",
    "\n",
    "    z_mean, z_log_var = args\n",
    "    batch = K.shape(z_mean)[0]\n",
    "    dim = K.int_shape(z_mean)[1]\n",
    "    # by default, random_normal has mean = 0 and std = 1.0\n",
    "    epsilon = K.random_normal(shape=(batch, dim))\n",
    "    return z_mean + K.exp(0.5 * z_log_var) * epsilon"
   ]
  },
  {
   "cell_type": "code",
   "execution_count": 14,
   "metadata": {},
   "outputs": [],
   "source": [
    "inter_dim_1 = 32\n",
    "inter_dim_2 = 16\n",
    "final_dim = 8\n",
    "latent_dim = 4\n",
    "input_dim = 4"
   ]
  },
  {
   "cell_type": "code",
   "execution_count": 15,
   "metadata": {},
   "outputs": [],
   "source": [
    "# encoder\n",
    "x = Input(shape=(input_dim,))\n",
    "#x_flat = Flatten()(x)\n",
    "h1 = Dense(inter_dim_1, activation='relu')(x)\n",
    "h2 = Dense(inter_dim_2, activation='relu')(h1)\n",
    "h3 = Dense(final_dim, activation='relu')(h2)\n",
    "z_mean = Dense(latent_dim)(h3)\n",
    "z_log_sigma = Dense(latent_dim)(h2)"
   ]
  },
  {
   "cell_type": "code",
   "execution_count": 16,
   "metadata": {},
   "outputs": [],
   "source": [
    "# random sampling\n",
    "z = Lambda(sampling, output_shape=(latent_dim,))([z_mean, z_log_sigma])\n",
    "\n",
    "encoder = Model(inputs = x, outputs = z)"
   ]
  },
  {
   "cell_type": "code",
   "execution_count": 17,
   "metadata": {},
   "outputs": [],
   "source": [
    "# decoder\n",
    "decoder_h3 = Dense(final_dim, activation='relu')\n",
    "decoder_h2 = Dense(inter_dim_2, activation='relu')\n",
    "decoder_h1 = Dense(inter_dim_1, activation='relu')\n",
    "decoder_mean = Dense(input_dim, activation='linear')\n",
    "\n",
    "h3_decoded = decoder_h3(z)\n",
    "h2_decoded = decoder_h2(h3_decoded)\n",
    "h1_decoded = decoder_h1(h2_decoded)\n",
    "x_decoded_mean = decoder_mean(h1_decoded)\n",
    "# x_decoded = Reshape(input_shape)(x_decoded_mean)"
   ]
  },
  {
   "cell_type": "code",
   "execution_count": 18,
   "metadata": {},
   "outputs": [],
   "source": [
    "vae = Model(inputs = x, outputs = x_decoded_mean, name = 'vae')"
   ]
  },
  {
   "cell_type": "code",
   "execution_count": 19,
   "metadata": {},
   "outputs": [],
   "source": [
    "mse = keras.losses.MeanSquaredError()\n",
    "def vae_loss(x, y):\n",
    "    mse_loss = mse(x, y)\n",
    "    kl_loss = - 0.5 * K.mean(1 + z_log_sigma - K.square(z_mean) - K.exp(z_log_sigma), axis=-1)\n",
    "    return mse_loss + kl_loss\n",
    "\n",
    "vae.compile(optimizer='adam', loss=vae_loss)"
   ]
  },
  {
   "cell_type": "code",
   "execution_count": 20,
   "metadata": {},
   "outputs": [
    {
     "name": "stdout",
     "output_type": "stream",
     "text": [
      "Model: \"vae\"\n",
      "__________________________________________________________________________________________________\n",
      "Layer (type)                    Output Shape         Param #     Connected to                     \n",
      "==================================================================================================\n",
      "input_1 (InputLayer)            (None, 4)            0                                            \n",
      "__________________________________________________________________________________________________\n",
      "dense_1 (Dense)                 (None, 32)           160         input_1[0][0]                    \n",
      "__________________________________________________________________________________________________\n",
      "dense_2 (Dense)                 (None, 16)           528         dense_1[0][0]                    \n",
      "__________________________________________________________________________________________________\n",
      "dense_3 (Dense)                 (None, 8)            136         dense_2[0][0]                    \n",
      "__________________________________________________________________________________________________\n",
      "dense_4 (Dense)                 (None, 4)            36          dense_3[0][0]                    \n",
      "__________________________________________________________________________________________________\n",
      "dense_5 (Dense)                 (None, 4)            68          dense_2[0][0]                    \n",
      "__________________________________________________________________________________________________\n",
      "lambda_1 (Lambda)               (None, 4)            0           dense_4[0][0]                    \n",
      "                                                                 dense_5[0][0]                    \n",
      "__________________________________________________________________________________________________\n",
      "dense_6 (Dense)                 (None, 8)            40          lambda_1[0][0]                   \n",
      "__________________________________________________________________________________________________\n",
      "dense_7 (Dense)                 (None, 16)           144         dense_6[0][0]                    \n",
      "__________________________________________________________________________________________________\n",
      "dense_8 (Dense)                 (None, 32)           544         dense_7[0][0]                    \n",
      "__________________________________________________________________________________________________\n",
      "dense_9 (Dense)                 (None, 4)            132         dense_8[0][0]                    \n",
      "==================================================================================================\n",
      "Total params: 1,788\n",
      "Trainable params: 1,788\n",
      "Non-trainable params: 0\n",
      "__________________________________________________________________________________________________\n"
     ]
    }
   ],
   "source": [
    "vae.summary()"
   ]
  },
  {
   "cell_type": "markdown",
   "metadata": {},
   "source": [
    "# Train"
   ]
  },
  {
   "cell_type": "code",
   "execution_count": 21,
   "metadata": {},
   "outputs": [],
   "source": [
    "from sklearn.model_selection import train_test_split"
   ]
  },
  {
   "cell_type": "code",
   "execution_count": 22,
   "metadata": {},
   "outputs": [],
   "source": [
    "batch_size = 1000\n",
    "epochs = 100"
   ]
  },
  {
   "cell_type": "code",
   "execution_count": 23,
   "metadata": {},
   "outputs": [
    {
     "data": {
      "text/plain": [
       "(1181898, 4)"
      ]
     },
     "execution_count": 23,
     "metadata": {},
     "output_type": "execute_result"
    }
   ],
   "source": [
    "x_train.shape"
   ]
  },
  {
   "cell_type": "code",
   "execution_count": 24,
   "metadata": {},
   "outputs": [],
   "source": [
    "my_callbacks = [\n",
    "    keras.callbacks.EarlyStopping(patience=10)\n",
    "]"
   ]
  },
  {
   "cell_type": "code",
   "execution_count": 25,
   "metadata": {},
   "outputs": [
    {
     "name": "stdout",
     "output_type": "stream",
     "text": [
      "Train on 1181898 samples, validate on 147737 samples\n",
      "Epoch 1/100\n",
      "1181898/1181898 [==============================] - 9s 8us/step - loss: 0.6776 - val_loss: 0.5463\n",
      "Epoch 2/100\n",
      "1181898/1181898 [==============================] - 8s 7us/step - loss: 0.4521 - val_loss: 0.4174\n",
      "Epoch 3/100\n",
      "1181898/1181898 [==============================] - 8s 7us/step - loss: 0.4128 - val_loss: 0.4090\n",
      "Epoch 4/100\n",
      "1181898/1181898 [==============================] - 8s 7us/step - loss: 0.4062 - val_loss: 0.4042\n",
      "Epoch 5/100\n",
      "1181898/1181898 [==============================] - 9s 7us/step - loss: 0.4026 - val_loss: 0.4032\n",
      "Epoch 6/100\n",
      "1181898/1181898 [==============================] - 8s 7us/step - loss: 0.4005 - val_loss: 0.4030\n",
      "Epoch 7/100\n",
      "1181898/1181898 [==============================] - 8s 7us/step - loss: 0.3995 - val_loss: 0.3972\n",
      "Epoch 8/100\n",
      "1181898/1181898 [==============================] - 8s 7us/step - loss: 0.3977 - val_loss: 0.4000\n",
      "Epoch 9/100\n",
      "1181898/1181898 [==============================] - 8s 7us/step - loss: 0.3967 - val_loss: 0.3964\n",
      "Epoch 10/100\n",
      "1181898/1181898 [==============================] - 9s 7us/step - loss: 0.3963 - val_loss: 0.3958\n",
      "Epoch 11/100\n",
      "1181898/1181898 [==============================] - 8s 7us/step - loss: 0.3956 - val_loss: 0.3969\n",
      "Epoch 12/100\n",
      "1181898/1181898 [==============================] - 8s 7us/step - loss: 0.3952 - val_loss: 0.3944\n",
      "Epoch 13/100\n",
      "1181898/1181898 [==============================] - 8s 7us/step - loss: 0.3949 - val_loss: 0.3945\n",
      "Epoch 14/100\n",
      "1181898/1181898 [==============================] - 9s 7us/step - loss: 0.3941 - val_loss: 0.3948\n",
      "Epoch 15/100\n",
      "1181898/1181898 [==============================] - 10s 8us/step - loss: 0.3941 - val_loss: 0.3936\n",
      "Epoch 16/100\n",
      "1181898/1181898 [==============================] - 9s 8us/step - loss: 0.3931 - val_loss: 0.3928\n",
      "Epoch 17/100\n",
      "1181898/1181898 [==============================] - 10s 9us/step - loss: 0.3931 - val_loss: 0.3934\n",
      "Epoch 18/100\n",
      "1181898/1181898 [==============================] - 10s 8us/step - loss: 0.3931 - val_loss: 0.3932\n",
      "Epoch 19/100\n",
      "1181898/1181898 [==============================] - 10s 9us/step - loss: 0.3923 - val_loss: 0.3928\n",
      "Epoch 20/100\n",
      "1181898/1181898 [==============================] - 10s 9us/step - loss: 0.3923 - val_loss: 0.3934\n",
      "Epoch 21/100\n",
      "1181898/1181898 [==============================] - 9s 7us/step - loss: 0.3924 - val_loss: 0.3933\n",
      "Epoch 22/100\n",
      "1181898/1181898 [==============================] - 9s 7us/step - loss: 0.3921 - val_loss: 0.3932\n",
      "Epoch 23/100\n",
      "1181898/1181898 [==============================] - 8s 7us/step - loss: 0.3921 - val_loss: 0.3948\n",
      "Epoch 24/100\n",
      "1181898/1181898 [==============================] - 9s 7us/step - loss: 0.3926 - val_loss: 0.3934\n",
      "Epoch 25/100\n",
      "1181898/1181898 [==============================] - 9s 7us/step - loss: 0.3928 - val_loss: 0.3940\n",
      "Epoch 26/100\n",
      "1181898/1181898 [==============================] - 8s 7us/step - loss: 0.3920 - val_loss: 0.3918\n",
      "Epoch 27/100\n",
      "1181898/1181898 [==============================] - 9s 7us/step - loss: 0.3922 - val_loss: 0.3907\n",
      "Epoch 28/100\n",
      "1181898/1181898 [==============================] - 9s 7us/step - loss: 0.3919 - val_loss: 0.3923\n",
      "Epoch 29/100\n",
      "1181898/1181898 [==============================] - 9s 7us/step - loss: 0.3915 - val_loss: 0.3916\n",
      "Epoch 30/100\n",
      "1181898/1181898 [==============================] - 9s 7us/step - loss: 0.3917 - val_loss: 0.3903\n",
      "Epoch 31/100\n",
      "1181898/1181898 [==============================] - 8s 7us/step - loss: 0.3913 - val_loss: 0.3924\n",
      "Epoch 32/100\n",
      "1181898/1181898 [==============================] - 8s 7us/step - loss: 0.3913 - val_loss: 0.3927\n",
      "Epoch 33/100\n",
      "1181898/1181898 [==============================] - 8s 7us/step - loss: 0.3915 - val_loss: 0.3919\n",
      "Epoch 34/100\n",
      "1181898/1181898 [==============================] - 9s 7us/step - loss: 0.3916 - val_loss: 0.3914\n",
      "Epoch 35/100\n",
      "1181898/1181898 [==============================] - 9s 8us/step - loss: 0.3907 - val_loss: 0.3901\n",
      "Epoch 36/100\n",
      "1181898/1181898 [==============================] - 8s 7us/step - loss: 0.3918 - val_loss: 0.3919\n",
      "Epoch 37/100\n",
      "1181898/1181898 [==============================] - 9s 7us/step - loss: 0.3912 - val_loss: 0.3922\n",
      "Epoch 38/100\n",
      "1181898/1181898 [==============================] - 8s 7us/step - loss: 0.3907 - val_loss: 0.3936\n",
      "Epoch 39/100\n",
      "1181898/1181898 [==============================] - 8s 7us/step - loss: 0.3911 - val_loss: 0.3914\n",
      "Epoch 40/100\n",
      "1181898/1181898 [==============================] - 8s 6us/step - loss: 0.3916 - val_loss: 0.3924\n",
      "Epoch 41/100\n",
      "1181898/1181898 [==============================] - 8s 6us/step - loss: 0.3911 - val_loss: 0.3919\n",
      "Epoch 42/100\n",
      "1181898/1181898 [==============================] - 8s 7us/step - loss: 0.3909 - val_loss: 0.3924\n",
      "Epoch 43/100\n",
      "1181898/1181898 [==============================] - 9s 8us/step - loss: 0.3902 - val_loss: 0.3912\n",
      "Epoch 44/100\n",
      "1181898/1181898 [==============================] - 9s 8us/step - loss: 0.3909 - val_loss: 0.3920\n",
      "Epoch 45/100\n",
      "1181898/1181898 [==============================] - 9s 7us/step - loss: 0.3906 - val_loss: 0.3910\n"
     ]
    }
   ],
   "source": [
    "hist = vae.fit(x_train, x_train,\n",
    "               shuffle=True,\n",
    "               epochs=epochs,\n",
    "               batch_size=batch_size,\n",
    "               validation_data=(x_val, x_val),\n",
    "               callbacks=my_callbacks)"
   ]
  },
  {
   "cell_type": "markdown",
   "metadata": {},
   "source": [
    "# Visualization"
   ]
  },
  {
   "cell_type": "code",
   "execution_count": 26,
   "metadata": {},
   "outputs": [],
   "source": [
    "import matplotlib.pyplot as plt"
   ]
  },
  {
   "cell_type": "code",
   "execution_count": 27,
   "metadata": {},
   "outputs": [
    {
     "data": {
      "image/png": "[encoded data removed]",
      "text/plain": [
       "<Figure size 432x266.991 with 1 Axes>"
      ]
     },
     "metadata": {
      "needs_background": "light"
     },
     "output_type": "display_data"
    }
   ],
   "source": [
    "golden_size = lambda width: (width, 2. * width / (1 + np.sqrt(5)))\n",
    "\n",
    "fig, ax = plt.subplots(figsize=golden_size(6))\n",
    "\n",
    "hist_df = pd.DataFrame(hist.history)\n",
    "hist_df.plot(ax=ax)\n",
    "\n",
    "ax.set_ylabel('NELBO')\n",
    "ax.set_xlabel('# epochs')\n",
    "\n",
    "ax.set_ylim(.99*hist_df[1:].values.min(), \n",
    "            1.1*hist_df[1:].values.max())\n",
    "plt.show()"
   ]
  },
  {
   "cell_type": "code",
   "execution_count": 28,
   "metadata": {},
   "outputs": [],
   "source": [
    "predictions = vae.predict(x_test)"
   ]
  },
  {
   "cell_type": "code",
   "execution_count": 29,
   "metadata": {},
   "outputs": [
    {
     "data": {
      "text/plain": [
       "array([[-0.00670008,  0.00755446, -0.00491068, -0.3855221 ],\n",
       "       [-0.01710073,  0.00179731, -0.003254  , -0.39385688],\n",
       "       [-0.00637177,  0.00769444, -0.00524381, -0.3862079 ],\n",
       "       ...,\n",
       "       [-0.00895051,  0.00327899, -0.00509534, -0.3851958 ],\n",
       "       [-0.01019279,  0.01183398, -0.00668299, -0.3861016 ],\n",
       "       [-0.01441649, -0.00214208, -0.01152633, -0.3976469 ]],\n",
       "      dtype=float32)"
      ]
     },
     "execution_count": 29,
     "metadata": {},
     "output_type": "execute_result"
    }
   ],
   "source": [
    "predictions"
   ]
  },
  {
   "cell_type": "code",
   "execution_count": 30,
   "metadata": {},
   "outputs": [],
   "source": [
    "distr = (x_test - predictions) / x_test"
   ]
  },
  {
   "cell_type": "code",
   "execution_count": 31,
   "metadata": {},
   "outputs": [],
   "source": [
    "px_pred = [row[0] for row in predictions]\n",
    "py_pred = [row[1] for row in predictions]\n",
    "pz_pred = [row[2] for row in predictions]\n",
    "e_pred = [row[3] for row in predictions]"
   ]
  },
  {
   "cell_type": "code",
   "execution_count": 32,
   "metadata": {},
   "outputs": [],
   "source": [
    "px = [row[0] for row in x_test]\n",
    "py = [row[1] for row in x_test]\n",
    "pz = [row[2] for row in x_test]\n",
    "e = [row[3] for row in x_test]"
   ]
  },
  {
   "cell_type": "markdown",
   "metadata": {},
   "source": [
    "## Stacking output (orange) over input (blue) for pT, eta, phi, m"
   ]
  },
  {
   "cell_type": "code",
   "execution_count": 33,
   "metadata": {},
   "outputs": [
    {
     "data": {
      "image/png": "[encoded data removed]",
      "text/plain": [
       "<Figure size 432x288 with 1 Axes>"
      ]
     },
     "metadata": {
      "needs_background": "light"
     },
     "output_type": "display_data"
    }
   ],
   "source": [
    "bins = np.linspace(-0.3, 0.3, 50)\n",
    "plt.hist(px, bins=bins,alpha=0.5)\n",
    "plt.hist(px_pred, bins=bins,alpha=0.5)\n",
    "bins = np.linspace(-0.45, -0.2, 40)"
   ]
  },
  {
   "cell_type": "code",
   "execution_count": 34,
   "metadata": {},
   "outputs": [
    {
     "data": {
      "text/plain": [
       "(array([3.7000e+01, 3.8000e+01, 4.4000e+01, 3.7000e+01, 5.0000e+01,\n",
       "        3.8000e+01, 4.4000e+01, 4.8000e+01, 4.5000e+01, 6.4000e+01,\n",
       "        5.8000e+01, 5.5000e+01, 5.3000e+01, 5.4000e+01, 7.7000e+01,\n",
       "        8.4000e+01, 1.2700e+02, 1.4400e+02, 1.9900e+02, 2.0900e+02,\n",
       "        3.3000e+02, 4.9500e+02, 9.2300e+02, 5.7880e+03, 8.3424e+04,\n",
       "        3.2356e+04, 3.7900e+02, 1.8000e+02, 1.3900e+02, 9.0000e+01,\n",
       "        7.9000e+01, 8.1000e+01, 7.5000e+01, 6.8000e+01, 7.8000e+01,\n",
       "        6.5000e+01, 6.9000e+01, 6.5000e+01, 7.1000e+01, 5.8000e+01,\n",
       "        5.7000e+01, 6.8000e+01, 6.3000e+01, 5.1000e+01, 5.3000e+01,\n",
       "        5.8000e+01, 6.0000e+01, 4.4000e+01, 5.3000e+01]),\n",
       " array([-0.3       , -0.2877551 , -0.2755102 , -0.26326531, -0.25102041,\n",
       "        -0.23877551, -0.22653061, -0.21428571, -0.20204082, -0.18979592,\n",
       "        -0.17755102, -0.16530612, -0.15306122, -0.14081633, -0.12857143,\n",
       "        -0.11632653, -0.10408163, -0.09183673, -0.07959184, -0.06734694,\n",
       "        -0.05510204, -0.04285714, -0.03061224, -0.01836735, -0.00612245,\n",
       "         0.00612245,  0.01836735,  0.03061224,  0.04285714,  0.05510204,\n",
       "         0.06734694,  0.07959184,  0.09183673,  0.10408163,  0.11632653,\n",
       "         0.12857143,  0.14081633,  0.15306122,  0.16530612,  0.17755102,\n",
       "         0.18979592,  0.20204082,  0.21428571,  0.22653061,  0.23877551,\n",
       "         0.25102041,  0.26326531,  0.2755102 ,  0.2877551 ,  0.3       ]),\n",
       " <a list of 49 Patch objects>)"
      ]
     },
     "execution_count": 34,
     "metadata": {},
     "output_type": "execute_result"
    },
    {
     "data": {
      "image/png": "[encoded data removed]",
      "text/plain": [
       "<Figure size 432x288 with 1 Axes>"
      ]
     },
     "metadata": {
      "needs_background": "light"
     },
     "output_type": "display_data"
    }
   ],
   "source": [
    "bins = np.linspace(-0.3, 0.3, 50)\n",
    "plt.hist(py, bins=bins,alpha=0.5)\n",
    "plt.hist(py_pred, bins=bins,alpha=0.5)"
   ]
  },
  {
   "cell_type": "code",
   "execution_count": 35,
   "metadata": {},
   "outputs": [
    {
     "data": {
      "text/plain": [
       "(array([6.7000e+01, 4.9000e+01, 5.6000e+01, 5.3000e+01, 4.6000e+01,\n",
       "        5.6000e+01, 6.4000e+01, 5.4000e+01, 6.4000e+01, 7.4000e+01,\n",
       "        6.4000e+01, 7.8000e+01, 8.8000e+01, 9.4000e+01, 1.0300e+02,\n",
       "        1.2000e+02, 1.4700e+02, 1.9300e+02, 2.3100e+02, 2.2900e+02,\n",
       "        3.4800e+02, 6.3000e+02, 1.7300e+03, 6.5411e+04, 5.5099e+04,\n",
       "        5.3800e+02, 3.8500e+02, 2.8700e+02, 1.9800e+02, 1.3000e+02,\n",
       "        1.3700e+02, 1.2600e+02, 1.0100e+02, 8.2000e+01, 8.8000e+01,\n",
       "        7.1000e+01, 8.0000e+01, 7.2000e+01, 8.1000e+01, 7.6000e+01,\n",
       "        6.9000e+01, 6.9000e+01, 6.2000e+01, 7.2000e+01, 6.7000e+01,\n",
       "        5.6000e+01, 6.8000e+01, 6.0000e+01, 6.1000e+01]),\n",
       " array([-0.3       , -0.2877551 , -0.2755102 , -0.26326531, -0.25102041,\n",
       "        -0.23877551, -0.22653061, -0.21428571, -0.20204082, -0.18979592,\n",
       "        -0.17755102, -0.16530612, -0.15306122, -0.14081633, -0.12857143,\n",
       "        -0.11632653, -0.10408163, -0.09183673, -0.07959184, -0.06734694,\n",
       "        -0.05510204, -0.04285714, -0.03061224, -0.01836735, -0.00612245,\n",
       "         0.00612245,  0.01836735,  0.03061224,  0.04285714,  0.05510204,\n",
       "         0.06734694,  0.07959184,  0.09183673,  0.10408163,  0.11632653,\n",
       "         0.12857143,  0.14081633,  0.15306122,  0.16530612,  0.17755102,\n",
       "         0.18979592,  0.20204082,  0.21428571,  0.22653061,  0.23877551,\n",
       "         0.25102041,  0.26326531,  0.2755102 ,  0.2877551 ,  0.3       ]),\n",
       " <a list of 49 Patch objects>)"
      ]
     },
     "execution_count": 35,
     "metadata": {},
     "output_type": "execute_result"
    },
    {
     "data": {
      "image/png": "[encoded data removed]",
      "text/plain": [
       "<Figure size 432x288 with 1 Axes>"
      ]
     },
     "metadata": {
      "needs_background": "light"
     },
     "output_type": "display_data"
    }
   ],
   "source": [
    "bins = np.linspace(-0.3, 0.3, 50)\n",
    "plt.hist(pz, bins=bins,alpha=0.5)\n",
    "plt.hist(pz_pred, bins=bins,alpha=0.5)"
   ]
  },
  {
   "cell_type": "code",
   "execution_count": 36,
   "metadata": {},
   "outputs": [
    {
     "data": {
      "text/plain": [
       "(array([0.00000e+00, 0.00000e+00, 0.00000e+00, 0.00000e+00, 0.00000e+00,\n",
       "        0.00000e+00, 0.00000e+00, 0.00000e+00, 0.00000e+00, 0.00000e+00,\n",
       "        0.00000e+00, 0.00000e+00, 0.00000e+00, 0.00000e+00, 0.00000e+00,\n",
       "        0.00000e+00, 0.00000e+00, 0.00000e+00, 9.00000e+00, 1.22359e+05,\n",
       "        2.23400e+03, 2.14000e+02, 1.72000e+02, 9.90000e+01, 1.10000e+02,\n",
       "        6.90000e+01, 5.90000e+01, 6.20000e+01, 5.70000e+01, 5.50000e+01,\n",
       "        5.00000e+01, 6.80000e+01, 7.90000e+01, 9.80000e+01, 1.33000e+02,\n",
       "        1.41000e+02, 2.13000e+02, 2.98000e+02, 3.85000e+02, 5.36000e+02,\n",
       "        7.28000e+02, 8.53000e+02, 1.08700e+03, 1.35800e+03, 1.45800e+03,\n",
       "        1.44000e+03, 1.41100e+03, 1.32800e+03, 1.14600e+03]),\n",
       " array([-2.        , -1.91836735, -1.83673469, -1.75510204, -1.67346939,\n",
       "        -1.59183673, -1.51020408, -1.42857143, -1.34693878, -1.26530612,\n",
       "        -1.18367347, -1.10204082, -1.02040816, -0.93877551, -0.85714286,\n",
       "        -0.7755102 , -0.69387755, -0.6122449 , -0.53061224, -0.44897959,\n",
       "        -0.36734694, -0.28571429, -0.20408163, -0.12244898, -0.04081633,\n",
       "         0.04081633,  0.12244898,  0.20408163,  0.28571429,  0.36734694,\n",
       "         0.44897959,  0.53061224,  0.6122449 ,  0.69387755,  0.7755102 ,\n",
       "         0.85714286,  0.93877551,  1.02040816,  1.10204082,  1.18367347,\n",
       "         1.26530612,  1.34693878,  1.42857143,  1.51020408,  1.59183673,\n",
       "         1.67346939,  1.75510204,  1.83673469,  1.91836735,  2.        ]),\n",
       " <a list of 49 Patch objects>)"
      ]
     },
     "execution_count": 36,
     "metadata": {},
     "output_type": "execute_result"
    },
    {
     "data": {
      "image/png": "[encoded data removed]",
      "text/plain": [
       "<Figure size 432x288 with 1 Axes>"
      ]
     },
     "metadata": {
      "needs_background": "light"
     },
     "output_type": "display_data"
    }
   ],
   "source": [
    "bins = np.linspace(-2,2, 50)\n",
    "plt.hist(e, bins=bins,alpha=0.5)\n",
    "plt.hist(e_pred, bins=bins,alpha=0.5)"
   ]
  },
  {
   "cell_type": "code",
   "execution_count": 37,
   "metadata": {},
   "outputs": [],
   "source": [
    "d_px = [row[0] for row in distr]\n",
    "d_py = [row[1] for row in distr]\n",
    "d_pz = [row[2] for row in distr]\n",
    "d_e = [row[3] for row in distr]"
   ]
  },
  {
   "cell_type": "markdown",
   "metadata": {},
   "source": [
    "## Distribution of (input - output) / input"
   ]
  },
  {
   "cell_type": "code",
   "execution_count": 38,
   "metadata": {},
   "outputs": [],
   "source": [
    "bins = np.linspace(-2, 2, 30)"
   ]
  },
  {
   "cell_type": "code",
   "execution_count": 39,
   "metadata": {},
   "outputs": [
    {
     "data": {
      "text/plain": [
       "(array([ 734.,  720.,  733.,  757.,  843.,  933.,  949.,  994., 1062.,\n",
       "        1136., 1307., 1562., 2117., 3190., 4843., 5325., 3937., 2905.,\n",
       "        2564., 2761., 3614., 6524., 4362., 2650., 2024., 1637., 1417.,\n",
       "        1306., 1271.]),\n",
       " array([-2.        , -1.86206897, -1.72413793, -1.5862069 , -1.44827586,\n",
       "        -1.31034483, -1.17241379, -1.03448276, -0.89655172, -0.75862069,\n",
       "        -0.62068966, -0.48275862, -0.34482759, -0.20689655, -0.06896552,\n",
       "         0.06896552,  0.20689655,  0.34482759,  0.48275862,  0.62068966,\n",
       "         0.75862069,  0.89655172,  1.03448276,  1.17241379,  1.31034483,\n",
       "         1.44827586,  1.5862069 ,  1.72413793,  1.86206897,  2.        ]),\n",
       " <a list of 29 Patch objects>)"
      ]
     },
     "execution_count": 39,
     "metadata": {},
     "output_type": "execute_result"
    },
    {
     "data": {
      "image/png": "[encoded data removed]",
      "text/plain": [
       "<Figure size 432x288 with 1 Axes>"
      ]
     },
     "metadata": {
      "needs_background": "light"
     },
     "output_type": "display_data"
    }
   ],
   "source": [
    "plt.hist(d_px, bins=bins)"
   ]
  },
  {
   "cell_type": "code",
   "execution_count": 40,
   "metadata": {},
   "outputs": [
    {
     "data": {
      "text/plain": [
       "(array([  655.,   681.,   754.,   773.,   786.,   875.,   924.,  1029.,\n",
       "         1078.,  1370.,  1453.,  1793.,  2466.,  3681.,  5632.,  5457.,\n",
       "         4319.,  3705.,  3569.,  4061.,  5706., 16331.,  7961.,  4374.,\n",
       "         3221.,  2606.,  2184.,  1819.,  1704.]),\n",
       " array([-2.        , -1.86206897, -1.72413793, -1.5862069 , -1.44827586,\n",
       "        -1.31034483, -1.17241379, -1.03448276, -0.89655172, -0.75862069,\n",
       "        -0.62068966, -0.48275862, -0.34482759, -0.20689655, -0.06896552,\n",
       "         0.06896552,  0.20689655,  0.34482759,  0.48275862,  0.62068966,\n",
       "         0.75862069,  0.89655172,  1.03448276,  1.17241379,  1.31034483,\n",
       "         1.44827586,  1.5862069 ,  1.72413793,  1.86206897,  2.        ]),\n",
       " <a list of 29 Patch objects>)"
      ]
     },
     "execution_count": 40,
     "metadata": {},
     "output_type": "execute_result"
    },
    {
     "data": {
      "image/png": "[encoded data removed]",
      "text/plain": [
       "<Figure size 432x288 with 1 Axes>"
      ]
     },
     "metadata": {
      "needs_background": "light"
     },
     "output_type": "display_data"
    }
   ],
   "source": [
    "plt.hist(d_py, bins=bins)"
   ]
  },
  {
   "cell_type": "code",
   "execution_count": 41,
   "metadata": {},
   "outputs": [
    {
     "data": {
      "text/plain": [
       "(array([  254.,   298.,   292.,   372.,   426.,   449.,   532.,   599.,\n",
       "          680.,   811.,  1011.,  1296.,  1858.,  2899.,  4631.,  5205.,\n",
       "         4388.,  4102.,  4316.,  6462., 11335., 31966., 18251.,  8088.,\n",
       "         4683.,  3077.,  2353.,  1908.,  1592.]),\n",
       " array([-2.        , -1.86206897, -1.72413793, -1.5862069 , -1.44827586,\n",
       "        -1.31034483, -1.17241379, -1.03448276, -0.89655172, -0.75862069,\n",
       "        -0.62068966, -0.48275862, -0.34482759, -0.20689655, -0.06896552,\n",
       "         0.06896552,  0.20689655,  0.34482759,  0.48275862,  0.62068966,\n",
       "         0.75862069,  0.89655172,  1.03448276,  1.17241379,  1.31034483,\n",
       "         1.44827586,  1.5862069 ,  1.72413793,  1.86206897,  2.        ]),\n",
       " <a list of 29 Patch objects>)"
      ]
     },
     "execution_count": 41,
     "metadata": {},
     "output_type": "execute_result"
    },
    {
     "data": {
      "image/png": "[encoded data removed]",
      "text/plain": [
       "<Figure size 432x288 with 1 Axes>"
      ]
     },
     "metadata": {
      "needs_background": "light"
     },
     "output_type": "display_data"
    }
   ],
   "source": [
    "plt.hist(d_pz, bins=bins)"
   ]
  }
 ],
 "metadata": {
  "kernelspec": {
   "display_name": "Python 3",
   "language": "python",
   "name": "python3"
  },
  "language_info": {
   "codemirror_mode": {
    "name": "ipython",
    "version": 3
   },
   "file_extension": ".py",
   "mimetype": "text/x-python",
   "name": "python",
   "nbconvert_exporter": "python",
   "pygments_lexer": "ipython3",
   "version": "3.7.6"
  }
 },
 "nbformat": 4,
 "nbformat_minor": 4
}
