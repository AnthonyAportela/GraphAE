{
 "cells": [
  {
   "cell_type": "code",
   "execution_count": 1,
   "metadata": {},
   "outputs": [],
   "source": [
    "import pandas as pd\n",
    "import numpy as np\n",
    "from pyjet import cluster,DTYPE_PTEPM\n",
    "from sklearn import preprocessing\n",
    "from scipy.stats import iqr\n",
    "import tensorflow as tf"
   ]
  },
  {
   "cell_type": "markdown",
   "metadata": {},
   "source": [
    "# Pre processing"
   ]
  },
  {
   "cell_type": "code",
   "execution_count": 2,
   "metadata": {},
   "outputs": [],
   "source": [
    "path = '/anomalyvol/data/events_LHCO2020_backgroundMC_Pythia.h5'"
   ]
  },
  {
   "cell_type": "code",
   "execution_count": 3,
   "metadata": {},
   "outputs": [],
   "source": [
    "df = pd.read_hdf(path,stop=100000) # just read first 100000 events"
   ]
  },
  {
   "cell_type": "code",
   "execution_count": 4,
   "metadata": {},
   "outputs": [],
   "source": [
    "all_events = df.values"
   ]
  },
  {
   "cell_type": "code",
   "execution_count": 5,
   "metadata": {},
   "outputs": [],
   "source": [
    "rows = all_events.shape[0]\n",
    "cols = all_events.shape[1]\n",
    "data = []\n",
    "# more_data\n",
    "data2 = []"
   ]
  },
  {
   "cell_type": "code",
   "execution_count": 6,
   "metadata": {},
   "outputs": [],
   "source": [
    "for i in range(rows):\n",
    "    pseudojets_input = np.zeros(len([x for x in all_events[i][::3] if x > 0]), dtype=DTYPE_PTEPM)\n",
    "    for j in range(cols // 3):\n",
    "        if (all_events[i][j*3]>0):\n",
    "            pseudojets_input[j]['pT'] = all_events[i][j*3]\n",
    "            pseudojets_input[j]['eta'] = all_events[i][j*3+1]\n",
    "            pseudojets_input[j]['phi'] = all_events[i][j*3+2]\n",
    "        pass\n",
    "    # cluster jets from the particles in one observation\n",
    "    sequence = cluster(pseudojets_input, R=1.0, p=-1)\n",
    "    jets = sequence.inclusive_jets()\n",
    "    for k in range(len(jets)): # for each jet get (px, py, pz, e)\n",
    "        jet = []\n",
    "        jet.append(jets[k].px)\n",
    "        jet.append(jets[k].py)\n",
    "        jet.append(jets[k].pz)\n",
    "        jet.append(jets[k].e)\n",
    "        # might be useful later for bump hunt\n",
    "        jet.append(jets[k].pt)\n",
    "        jet.append(jets[k].eta)\n",
    "        jet.append(jets[k].phi)\n",
    "        jet.append(jets[k].mass)\n",
    "        data.append(jet)"
   ]
  },
  {
   "cell_type": "code",
   "execution_count": 7,
   "metadata": {},
   "outputs": [],
   "source": [
    "loaded_data = data\n",
    "# data = loaded_data"
   ]
  },
  {
   "cell_type": "code",
   "execution_count": 8,
   "metadata": {},
   "outputs": [
    {
     "data": {
      "text/plain": [
       "(1477373, 4)"
      ]
     },
     "execution_count": 8,
     "metadata": {},
     "output_type": "execute_result"
    }
   ],
   "source": [
    "data = np.array(data)\n",
    "data = data[:,4:]  # just keep px, py, pz, e\n",
    "data.shape"
   ]
  },
  {
   "cell_type": "code",
   "execution_count": 9,
   "metadata": {},
   "outputs": [],
   "source": [
    "# splitting data\n",
    "x_train = data[0:int(len(data) * 0.8)]\n",
    "x_val = data[int(len(data) * 0.8):int(len(data) * 0.9)]\n",
    "x_test = data[int(len(data) * 0.9):]"
   ]
  },
  {
   "cell_type": "code",
   "execution_count": 10,
   "metadata": {},
   "outputs": [],
   "source": [
    "# regularize\n",
    "scaler = preprocessing.StandardScaler()\n",
    "x_train = scaler.fit_transform(x_train)\n",
    "x_val = scaler.transform(x_val)\n",
    "x_test = scaler.transform(x_test)"
   ]
  },
  {
   "cell_type": "code",
   "execution_count": 11,
   "metadata": {},
   "outputs": [
    {
     "name": "stdout",
     "output_type": "stream",
     "text": [
      "[0.03103692 0.89715134 1.         0.04950277]\n"
     ]
    }
   ],
   "source": [
    "# get the inverse iqr proportion for each feature used to scale their weights in the loss function\n",
    "iqr_prop = iqr(x_train,axis = 0)\n",
    "max_iqr = max(iqr_prop)\n",
    "iqr_prop = np.array(iqr_prop) / max_iqr\n",
    "print(iqr_prop)"
   ]
  },
  {
   "cell_type": "markdown",
   "metadata": {},
   "source": [
    "# VAE Model"
   ]
  },
  {
   "cell_type": "code",
   "execution_count": 12,
   "metadata": {},
   "outputs": [
    {
     "name": "stderr",
     "output_type": "stream",
     "text": [
      "Using TensorFlow backend.\n"
     ]
    }
   ],
   "source": [
    "import keras\n",
    "from keras.layers import Lambda, Input, Dense, Flatten, Reshape, LeakyReLU, ELU\n",
    "from keras.models import Model, Sequential\n",
    "from keras import metrics, losses\n",
    "from keras import backend as K"
   ]
  },
  {
   "cell_type": "code",
   "execution_count": 13,
   "metadata": {},
   "outputs": [],
   "source": [
    "def sampling(args):\n",
    "    \"\"\"\n",
    "    # Arguments\n",
    "        args (tensor): mean and log of variance of Q(z|X)\n",
    "    # Returns\n",
    "        z (tensor): sampled latent vector\n",
    "    \"\"\"\n",
    "\n",
    "    z_mean, z_log_var = args\n",
    "    batch = K.shape(z_mean)[0]\n",
    "    dim = K.int_shape(z_mean)[1]\n",
    "    # by default, random_normal has mean = 0 and std = 1.0\n",
    "    epsilon = K.random_normal(shape=(batch, dim))\n",
    "    return z_mean + K.exp(0.5 * z_log_var) * epsilon"
   ]
  },
  {
   "cell_type": "code",
   "execution_count": 14,
   "metadata": {},
   "outputs": [],
   "source": [
    "inter_dim_1 = 32\n",
    "inter_dim_2 = 16\n",
    "final_dim = 8\n",
    "latent_dim = 2\n",
    "input_dim = 4"
   ]
  },
  {
   "cell_type": "code",
   "execution_count": 15,
   "metadata": {},
   "outputs": [],
   "source": [
    "# encoder\n",
    "x = Input(shape=(input_dim,))\n",
    "#x_flat = Flatten()(x)\n",
    "h1 = Dense(inter_dim_1, activation='relu')(x)\n",
    "h2 = Dense(inter_dim_2, activation='relu')(h1)\n",
    "h3 = Dense(final_dim, activation='relu')(h2)\n",
    "encoding = Dense(latent_dim, activation='tanh')(h3)"
   ]
  },
  {
   "cell_type": "code",
   "execution_count": 16,
   "metadata": {},
   "outputs": [],
   "source": [
    "# decoder\n",
    "decoder_h3 = Dense(final_dim, activation='relu')\n",
    "decoder_h2 = Dense(inter_dim_2, activation='relu')\n",
    "decoder_h1 = Dense(inter_dim_1, activation='relu')\n",
    "decoder_mean = Dense(input_dim, activation='linear')\n",
    "\n",
    "h3_decoded = decoder_h3(encoding)\n",
    "h2_decoded = decoder_h2(h3_decoded)\n",
    "h1_decoded = decoder_h1(h2_decoded)\n",
    "x_decoded_mean = decoder_mean(h1_decoded)\n",
    "# x_decoded = Reshape(input_shape)(x_decoded_mean)"
   ]
  },
  {
   "cell_type": "code",
   "execution_count": 17,
   "metadata": {},
   "outputs": [],
   "source": [
    "vae = Model(inputs = x, outputs = x_decoded_mean, name = 'vae')"
   ]
  },
  {
   "cell_type": "code",
   "execution_count": 18,
   "metadata": {},
   "outputs": [],
   "source": [
    "mse = keras.losses.MeanSquaredError()\n",
    "def ae_loss(x, y):\n",
    "    mse_loss = 0.25 * (iqr_prop[0]*(x[::,0] - y[::,0])**2 + iqr_prop[1]*(x[::,1] - y[::,1])**2 + iqr_prop[2]*(x[::,2] - y[::,2])**2 + iqr_prop[3]*(x[::,3] - y[::,3])**2)\n",
    "    # mse_loss = mse(x,y)\n",
    "    return mse_loss\n",
    "\n",
    "vae.compile(optimizer='adam', loss=ae_loss)"
   ]
  },
  {
   "cell_type": "code",
   "execution_count": 19,
   "metadata": {},
   "outputs": [
    {
     "name": "stdout",
     "output_type": "stream",
     "text": [
      "Model: \"vae\"\n",
      "_________________________________________________________________\n",
      "Layer (type)                 Output Shape              Param #   \n",
      "=================================================================\n",
      "input_1 (InputLayer)         (None, 4)                 0         \n",
      "_________________________________________________________________\n",
      "dense_1 (Dense)              (None, 32)                160       \n",
      "_________________________________________________________________\n",
      "dense_2 (Dense)              (None, 16)                528       \n",
      "_________________________________________________________________\n",
      "dense_3 (Dense)              (None, 8)                 136       \n",
      "_________________________________________________________________\n",
      "dense_4 (Dense)              (None, 2)                 18        \n",
      "_________________________________________________________________\n",
      "dense_5 (Dense)              (None, 8)                 24        \n",
      "_________________________________________________________________\n",
      "dense_6 (Dense)              (None, 16)                144       \n",
      "_________________________________________________________________\n",
      "dense_7 (Dense)              (None, 32)                544       \n",
      "_________________________________________________________________\n",
      "dense_8 (Dense)              (None, 4)                 132       \n",
      "=================================================================\n",
      "Total params: 1,686\n",
      "Trainable params: 1,686\n",
      "Non-trainable params: 0\n",
      "_________________________________________________________________\n"
     ]
    }
   ],
   "source": [
    "vae.summary()"
   ]
  },
  {
   "cell_type": "markdown",
   "metadata": {},
   "source": [
    "# Train"
   ]
  },
  {
   "cell_type": "code",
   "execution_count": 20,
   "metadata": {},
   "outputs": [],
   "source": [
    "from sklearn.model_selection import train_test_split"
   ]
  },
  {
   "cell_type": "code",
   "execution_count": 21,
   "metadata": {},
   "outputs": [],
   "source": [
    "batch_size = 1000\n",
    "epochs = 200"
   ]
  },
  {
   "cell_type": "code",
   "execution_count": 22,
   "metadata": {},
   "outputs": [
    {
     "data": {
      "text/plain": [
       "(1181898, 4)"
      ]
     },
     "execution_count": 22,
     "metadata": {},
     "output_type": "execute_result"
    }
   ],
   "source": [
    "x_train.shape"
   ]
  },
  {
   "cell_type": "code",
   "execution_count": 23,
   "metadata": {},
   "outputs": [],
   "source": [
    "my_callbacks = [\n",
    "    keras.callbacks.EarlyStopping(patience=10)\n",
    "]"
   ]
  },
  {
   "cell_type": "code",
   "execution_count": 24,
   "metadata": {},
   "outputs": [
    {
     "name": "stdout",
     "output_type": "stream",
     "text": [
      "Train on 1181898 samples, validate on 147737 samples\n",
      "Epoch 1/200\n",
      "1181898/1181898 [==============================] - 6s 5us/step - loss: 0.0490 - val_loss: 0.0166\n",
      "Epoch 2/200\n",
      "1181898/1181898 [==============================] - 5s 4us/step - loss: 0.0160 - val_loss: 0.0147\n",
      "Epoch 3/200\n",
      "1181898/1181898 [==============================] - 5s 4us/step - loss: 0.0114 - val_loss: 0.0093\n",
      "Epoch 4/200\n",
      "1181898/1181898 [==============================] - 5s 4us/step - loss: 0.0081 - val_loss: 0.0071\n",
      "Epoch 5/200\n",
      "1181898/1181898 [==============================] - 5s 4us/step - loss: 0.0068 - val_loss: 0.0064\n",
      "Epoch 6/200\n",
      "1181898/1181898 [==============================] - 5s 4us/step - loss: 0.0062 - val_loss: 0.0062\n",
      "Epoch 7/200\n",
      "1181898/1181898 [==============================] - 5s 4us/step - loss: 0.0059 - val_loss: 0.0057\n",
      "Epoch 8/200\n",
      "1181898/1181898 [==============================] - 5s 4us/step - loss: 0.0055 - val_loss: 0.0053\n",
      "Epoch 9/200\n",
      "1181898/1181898 [==============================] - 5s 4us/step - loss: 0.0052 - val_loss: 0.0050\n",
      "Epoch 10/200\n",
      "1181898/1181898 [==============================] - 5s 4us/step - loss: 0.0048 - val_loss: 0.0044\n",
      "Epoch 11/200\n",
      "1181898/1181898 [==============================] - 5s 4us/step - loss: 0.0044 - val_loss: 0.0042\n",
      "Epoch 12/200\n",
      "1181898/1181898 [==============================] - 5s 4us/step - loss: 0.0041 - val_loss: 0.0041\n",
      "Epoch 13/200\n",
      "1181898/1181898 [==============================] - 5s 4us/step - loss: 0.0039 - val_loss: 0.0038\n",
      "Epoch 14/200\n",
      "1181898/1181898 [==============================] - 5s 4us/step - loss: 0.0038 - val_loss: 0.0036\n",
      "Epoch 15/200\n",
      "1181898/1181898 [==============================] - 5s 4us/step - loss: 0.0036 - val_loss: 0.0035\n",
      "Epoch 16/200\n",
      "1181898/1181898 [==============================] - 5s 4us/step - loss: 0.0034 - val_loss: 0.0035\n",
      "Epoch 17/200\n",
      "1181898/1181898 [==============================] - 5s 4us/step - loss: 0.0032 - val_loss: 0.0033\n",
      "Epoch 18/200\n",
      "1181898/1181898 [==============================] - 5s 4us/step - loss: 0.0031 - val_loss: 0.0031\n",
      "Epoch 19/200\n",
      "1181898/1181898 [==============================] - 5s 4us/step - loss: 0.0030 - val_loss: 0.0029\n",
      "Epoch 20/200\n",
      "1181898/1181898 [==============================] - 5s 4us/step - loss: 0.0029 - val_loss: 0.0028\n",
      "Epoch 21/200\n",
      "1181898/1181898 [==============================] - 5s 4us/step - loss: 0.0029 - val_loss: 0.0030\n",
      "Epoch 22/200\n",
      "1181898/1181898 [==============================] - 5s 4us/step - loss: 0.0029 - val_loss: 0.0029\n",
      "Epoch 23/200\n",
      "1181898/1181898 [==============================] - 5s 4us/step - loss: 0.0028 - val_loss: 0.0028\n",
      "Epoch 24/200\n",
      "1181898/1181898 [==============================] - 5s 4us/step - loss: 0.0028 - val_loss: 0.0029\n",
      "Epoch 25/200\n",
      "1181898/1181898 [==============================] - 5s 4us/step - loss: 0.0028 - val_loss: 0.0027\n",
      "Epoch 26/200\n",
      "1181898/1181898 [==============================] - 5s 4us/step - loss: 0.0028 - val_loss: 0.0028\n",
      "Epoch 27/200\n",
      "1181898/1181898 [==============================] - 5s 4us/step - loss: 0.0027 - val_loss: 0.0026\n",
      "Epoch 28/200\n",
      "1181898/1181898 [==============================] - 5s 4us/step - loss: 0.0027 - val_loss: 0.0027\n",
      "Epoch 29/200\n",
      "1181898/1181898 [==============================] - 5s 4us/step - loss: 0.0026 - val_loss: 0.0026\n",
      "Epoch 30/200\n",
      "1181898/1181898 [==============================] - 5s 4us/step - loss: 0.0026 - val_loss: 0.0027\n",
      "Epoch 31/200\n",
      "1181898/1181898 [==============================] - 5s 4us/step - loss: 0.0026 - val_loss: 0.0027\n",
      "Epoch 32/200\n",
      "1181898/1181898 [==============================] - 5s 4us/step - loss: 0.0026 - val_loss: 0.0025\n",
      "Epoch 33/200\n",
      "1181898/1181898 [==============================] - 5s 4us/step - loss: 0.0025 - val_loss: 0.0025\n",
      "Epoch 34/200\n",
      "1181898/1181898 [==============================] - 5s 4us/step - loss: 0.0026 - val_loss: 0.0025\n",
      "Epoch 35/200\n",
      "1181898/1181898 [==============================] - 5s 4us/step - loss: 0.0026 - val_loss: 0.0027\n",
      "Epoch 36/200\n",
      "1181898/1181898 [==============================] - 5s 4us/step - loss: 0.0025 - val_loss: 0.0027\n",
      "Epoch 37/200\n",
      "1181898/1181898 [==============================] - 5s 4us/step - loss: 0.0026 - val_loss: 0.0027\n",
      "Epoch 38/200\n",
      "1181898/1181898 [==============================] - 5s 4us/step - loss: 0.0025 - val_loss: 0.0025\n",
      "Epoch 39/200\n",
      "1181898/1181898 [==============================] - 5s 4us/step - loss: 0.0024 - val_loss: 0.0024\n",
      "Epoch 40/200\n",
      "1181898/1181898 [==============================] - 5s 4us/step - loss: 0.0024 - val_loss: 0.0023\n",
      "Epoch 41/200\n",
      "1181898/1181898 [==============================] - 5s 4us/step - loss: 0.0024 - val_loss: 0.0024\n",
      "Epoch 42/200\n",
      "1181898/1181898 [==============================] - 5s 4us/step - loss: 0.0023 - val_loss: 0.0025\n",
      "Epoch 43/200\n",
      "1181898/1181898 [==============================] - 5s 4us/step - loss: 0.0023 - val_loss: 0.0024\n",
      "Epoch 44/200\n",
      "1181898/1181898 [==============================] - 5s 4us/step - loss: 0.0023 - val_loss: 0.0022\n",
      "Epoch 45/200\n",
      "1181898/1181898 [==============================] - 5s 4us/step - loss: 0.0023 - val_loss: 0.0023\n",
      "Epoch 46/200\n",
      "1181898/1181898 [==============================] - 5s 4us/step - loss: 0.0023 - val_loss: 0.0023\n",
      "Epoch 47/200\n",
      "1181898/1181898 [==============================] - 5s 4us/step - loss: 0.0023 - val_loss: 0.0023\n",
      "Epoch 48/200\n",
      "1181898/1181898 [==============================] - 5s 4us/step - loss: 0.0023 - val_loss: 0.0022\n",
      "Epoch 49/200\n",
      "1181898/1181898 [==============================] - 5s 4us/step - loss: 0.0023 - val_loss: 0.0022\n",
      "Epoch 50/200\n",
      "1181898/1181898 [==============================] - 5s 4us/step - loss: 0.0023 - val_loss: 0.0021\n",
      "Epoch 51/200\n",
      "1181898/1181898 [==============================] - 5s 4us/step - loss: 0.0023 - val_loss: 0.0021\n",
      "Epoch 52/200\n",
      "1181898/1181898 [==============================] - 5s 4us/step - loss: 0.0023 - val_loss: 0.0024\n",
      "Epoch 53/200\n",
      "1181898/1181898 [==============================] - 5s 4us/step - loss: 0.0022 - val_loss: 0.0022\n",
      "Epoch 54/200\n",
      "1181898/1181898 [==============================] - 5s 4us/step - loss: 0.0022 - val_loss: 0.0022\n",
      "Epoch 55/200\n",
      "1181898/1181898 [==============================] - 5s 4us/step - loss: 0.0022 - val_loss: 0.0023\n",
      "Epoch 56/200\n",
      "1181898/1181898 [==============================] - 5s 4us/step - loss: 0.0022 - val_loss: 0.0023\n",
      "Epoch 57/200\n",
      "1181898/1181898 [==============================] - 5s 4us/step - loss: 0.0022 - val_loss: 0.0021\n",
      "Epoch 58/200\n",
      "1181898/1181898 [==============================] - 5s 4us/step - loss: 0.0022 - val_loss: 0.0023\n",
      "Epoch 59/200\n",
      "1181898/1181898 [==============================] - 5s 4us/step - loss: 0.0022 - val_loss: 0.0022\n",
      "Epoch 60/200\n",
      "1181898/1181898 [==============================] - 5s 4us/step - loss: 0.0022 - val_loss: 0.0022\n",
      "Epoch 61/200\n",
      "1181898/1181898 [==============================] - 5s 4us/step - loss: 0.0022 - val_loss: 0.0021\n",
      "Epoch 62/200\n",
      "1181898/1181898 [==============================] - 5s 4us/step - loss: 0.0022 - val_loss: 0.0021\n",
      "Epoch 63/200\n",
      "1181898/1181898 [==============================] - 5s 4us/step - loss: 0.0022 - val_loss: 0.0023\n",
      "Epoch 64/200\n",
      "1181898/1181898 [==============================] - 5s 4us/step - loss: 0.0022 - val_loss: 0.0022\n",
      "Epoch 65/200\n",
      "1181898/1181898 [==============================] - 5s 4us/step - loss: 0.0022 - val_loss: 0.0021\n",
      "Epoch 66/200\n",
      "1181898/1181898 [==============================] - 5s 4us/step - loss: 0.0022 - val_loss: 0.0022\n",
      "Epoch 67/200\n",
      "1181898/1181898 [==============================] - 5s 4us/step - loss: 0.0022 - val_loss: 0.0023\n",
      "Epoch 68/200\n",
      "1181898/1181898 [==============================] - 5s 4us/step - loss: 0.0022 - val_loss: 0.0024\n",
      "Epoch 69/200\n",
      "1181898/1181898 [==============================] - 5s 4us/step - loss: 0.0022 - val_loss: 0.0023\n",
      "Epoch 70/200\n",
      "1181898/1181898 [==============================] - 5s 4us/step - loss: 0.0022 - val_loss: 0.0021\n",
      "Epoch 71/200\n",
      "1181898/1181898 [==============================] - 5s 4us/step - loss: 0.0022 - val_loss: 0.0021\n",
      "Epoch 72/200\n",
      "1181898/1181898 [==============================] - 5s 4us/step - loss: 0.0021 - val_loss: 0.0024\n",
      "Epoch 73/200\n",
      "1181898/1181898 [==============================] - 5s 4us/step - loss: 0.0021 - val_loss: 0.0021\n",
      "Epoch 74/200\n",
      "1181898/1181898 [==============================] - 5s 4us/step - loss: 0.0021 - val_loss: 0.0026\n",
      "Epoch 75/200\n"
     ]
    },
    {
     "name": "stdout",
     "output_type": "stream",
     "text": [
      "1181898/1181898 [==============================] - 5s 4us/step - loss: 0.0021 - val_loss: 0.0021\n",
      "Epoch 76/200\n",
      "1181898/1181898 [==============================] - 5s 4us/step - loss: 0.0021 - val_loss: 0.0021\n",
      "Epoch 77/200\n",
      "1181898/1181898 [==============================] - 5s 4us/step - loss: 0.0021 - val_loss: 0.0023\n",
      "Epoch 78/200\n",
      "1181898/1181898 [==============================] - 5s 4us/step - loss: 0.0021 - val_loss: 0.0020\n",
      "Epoch 79/200\n",
      "1181898/1181898 [==============================] - 5s 4us/step - loss: 0.0021 - val_loss: 0.0021\n",
      "Epoch 80/200\n",
      "1181898/1181898 [==============================] - 5s 4us/step - loss: 0.0021 - val_loss: 0.0021\n",
      "Epoch 81/200\n",
      "1181898/1181898 [==============================] - 5s 4us/step - loss: 0.0021 - val_loss: 0.0021\n",
      "Epoch 82/200\n",
      "1181898/1181898 [==============================] - 5s 4us/step - loss: 0.0021 - val_loss: 0.0022\n",
      "Epoch 83/200\n",
      "1181898/1181898 [==============================] - 5s 4us/step - loss: 0.0021 - val_loss: 0.0021\n",
      "Epoch 84/200\n",
      "1181898/1181898 [==============================] - 5s 4us/step - loss: 0.0021 - val_loss: 0.0020\n",
      "Epoch 85/200\n",
      "1181898/1181898 [==============================] - 5s 4us/step - loss: 0.0021 - val_loss: 0.0020\n",
      "Epoch 86/200\n",
      "1181898/1181898 [==============================] - 5s 4us/step - loss: 0.0021 - val_loss: 0.0021\n",
      "Epoch 87/200\n",
      "1181898/1181898 [==============================] - 5s 4us/step - loss: 0.0021 - val_loss: 0.0021\n",
      "Epoch 88/200\n",
      "1181898/1181898 [==============================] - 5s 4us/step - loss: 0.0021 - val_loss: 0.0021\n",
      "Epoch 89/200\n",
      "1181898/1181898 [==============================] - 5s 4us/step - loss: 0.0021 - val_loss: 0.0020\n",
      "Epoch 90/200\n",
      "1181898/1181898 [==============================] - 5s 4us/step - loss: 0.0021 - val_loss: 0.0020\n",
      "Epoch 91/200\n",
      "1181898/1181898 [==============================] - 5s 4us/step - loss: 0.0020 - val_loss: 0.0019\n",
      "Epoch 92/200\n",
      "1181898/1181898 [==============================] - 5s 4us/step - loss: 0.0021 - val_loss: 0.0021\n",
      "Epoch 93/200\n",
      "1181898/1181898 [==============================] - 5s 4us/step - loss: 0.0021 - val_loss: 0.0020\n",
      "Epoch 94/200\n",
      "1181898/1181898 [==============================] - 5s 4us/step - loss: 0.0021 - val_loss: 0.0020\n",
      "Epoch 95/200\n",
      "1181898/1181898 [==============================] - 5s 4us/step - loss: 0.0021 - val_loss: 0.0020\n",
      "Epoch 96/200\n",
      "1181898/1181898 [==============================] - 5s 4us/step - loss: 0.0020 - val_loss: 0.0020\n",
      "Epoch 97/200\n",
      "1181898/1181898 [==============================] - 5s 4us/step - loss: 0.0020 - val_loss: 0.0020\n",
      "Epoch 98/200\n",
      "1181898/1181898 [==============================] - 5s 4us/step - loss: 0.0020 - val_loss: 0.0021\n",
      "Epoch 99/200\n",
      "1181898/1181898 [==============================] - 5s 4us/step - loss: 0.0020 - val_loss: 0.0027\n",
      "Epoch 100/200\n",
      "1181898/1181898 [==============================] - 5s 4us/step - loss: 0.0021 - val_loss: 0.0021\n",
      "Epoch 101/200\n",
      "1181898/1181898 [==============================] - 5s 4us/step - loss: 0.0020 - val_loss: 0.0019\n",
      "Epoch 102/200\n",
      "1181898/1181898 [==============================] - 5s 4us/step - loss: 0.0020 - val_loss: 0.0020\n",
      "Epoch 103/200\n",
      "1181898/1181898 [==============================] - 5s 4us/step - loss: 0.0020 - val_loss: 0.0020\n",
      "Epoch 104/200\n",
      "1181898/1181898 [==============================] - 5s 4us/step - loss: 0.0021 - val_loss: 0.0020\n",
      "Epoch 105/200\n",
      "1181898/1181898 [==============================] - 5s 4us/step - loss: 0.0020 - val_loss: 0.0020\n",
      "Epoch 106/200\n",
      "1181898/1181898 [==============================] - 5s 4us/step - loss: 0.0021 - val_loss: 0.0023\n",
      "Epoch 107/200\n",
      "1181898/1181898 [==============================] - 5s 4us/step - loss: 0.0021 - val_loss: 0.0021\n",
      "Epoch 108/200\n",
      "1181898/1181898 [==============================] - 5s 4us/step - loss: 0.0020 - val_loss: 0.0020\n",
      "Epoch 109/200\n",
      "1181898/1181898 [==============================] - 5s 4us/step - loss: 0.0021 - val_loss: 0.0020\n",
      "Epoch 110/200\n",
      "1181898/1181898 [==============================] - 5s 4us/step - loss: 0.0021 - val_loss: 0.0021\n",
      "Epoch 111/200\n",
      "1181898/1181898 [==============================] - 5s 4us/step - loss: 0.0021 - val_loss: 0.0019\n"
     ]
    }
   ],
   "source": [
    "hist = vae.fit(x_train, x_train,\n",
    "               shuffle=True,\n",
    "               epochs=epochs,\n",
    "               batch_size=batch_size,\n",
    "               validation_data=(x_val, x_val),\n",
    "               callbacks=my_callbacks)"
   ]
  },
  {
   "cell_type": "markdown",
   "metadata": {},
   "source": [
    "# Visualization"
   ]
  },
  {
   "cell_type": "code",
   "execution_count": 25,
   "metadata": {},
   "outputs": [],
   "source": [
    "import matplotlib.pyplot as plt"
   ]
  },
  {
   "cell_type": "code",
   "execution_count": 26,
   "metadata": {},
   "outputs": [
    {
     "data": {
      "image/png": "[encoded data removed]",
      "text/plain": [
       "<Figure size 432x266.991 with 1 Axes>"
      ]
     },
     "metadata": {
      "needs_background": "light"
     },
     "output_type": "display_data"
    }
   ],
   "source": [
    "golden_size = lambda width: (width, 2. * width / (1 + np.sqrt(5)))\n",
    "\n",
    "fig, ax = plt.subplots(figsize=golden_size(6))\n",
    "\n",
    "hist_df = pd.DataFrame(hist.history)\n",
    "hist_df.plot(ax=ax)\n",
    "\n",
    "ax.set_ylabel('NELBO')\n",
    "ax.set_xlabel('# epochs')\n",
    "\n",
    "ax.set_ylim(.99*hist_df[1:].values.min(), \n",
    "            1.1*hist_df[1:].values.max())\n",
    "plt.show()"
   ]
  },
  {
   "cell_type": "code",
   "execution_count": 27,
   "metadata": {},
   "outputs": [],
   "source": [
    "predictions = vae.predict(x_test)"
   ]
  },
  {
   "cell_type": "code",
   "execution_count": 28,
   "metadata": {},
   "outputs": [
    {
     "name": "stdout",
     "output_type": "stream",
     "text": [
      "tf.Tensor(0.030015439, shape=(), dtype=float32)\n"
     ]
    }
   ],
   "source": [
    "# mse on test set\n",
    "p = vae.predict(x_train)\n",
    "print(mse(p, x_train))"
   ]
  },
  {
   "cell_type": "code",
   "execution_count": 29,
   "metadata": {},
   "outputs": [],
   "source": [
    "distr = (x_test - predictions) / x_test"
   ]
  },
  {
   "cell_type": "code",
   "execution_count": 30,
   "metadata": {},
   "outputs": [],
   "source": [
    "px_pred = [row[0] for row in predictions]\n",
    "py_pred = [row[1] for row in predictions]\n",
    "pz_pred = [row[2] for row in predictions]\n",
    "e_pred = [row[3] for row in predictions]"
   ]
  },
  {
   "cell_type": "code",
   "execution_count": 31,
   "metadata": {},
   "outputs": [],
   "source": [
    "px = [row[0] for row in x_test]\n",
    "py = [row[1] for row in x_test]\n",
    "pz = [row[2] for row in x_test]\n",
    "e = [row[3] for row in x_test]"
   ]
  },
  {
   "cell_type": "code",
   "execution_count": 32,
   "metadata": {},
   "outputs": [],
   "source": [
    "overall_distr = K.flatten(distr)\n",
    "overall_pred = K.flatten(predictions)\n",
    "overall_input = K.flatten(x_test)"
   ]
  },
  {
   "cell_type": "code",
   "execution_count": 33,
   "metadata": {},
   "outputs": [
    {
     "data": {
      "text/plain": [
       "(array([ 3282.,  3295.,  3382.,  3572.,  3657.,  3586.,  3606.,  3561.,\n",
       "         3353.,  3367.,  3067.,  3110.,  3474., 28554., 51007., 87138.,\n",
       "        65404., 26376., 10210.,  7476.,  4804.,  4546.,  4317.,  4392.,\n",
       "         4842.,  4662.,  4215.,  4015.,  3667.,  3758.,  3760.,  3784.,\n",
       "         3826.,  3576.,  3408.,  3497.,  3486.,  3669.,  3683.,  3601.,\n",
       "         3781.,  3857.,  3960.,  4168.,  4246.,  4182.,  4246.,  4308.,\n",
       "         4270.]),\n",
       " array([-1.        , -0.95918367, -0.91836735, -0.87755102, -0.83673469,\n",
       "        -0.79591837, -0.75510204, -0.71428571, -0.67346939, -0.63265306,\n",
       "        -0.59183673, -0.55102041, -0.51020408, -0.46938776, -0.42857143,\n",
       "        -0.3877551 , -0.34693878, -0.30612245, -0.26530612, -0.2244898 ,\n",
       "        -0.18367347, -0.14285714, -0.10204082, -0.06122449, -0.02040816,\n",
       "         0.02040816,  0.06122449,  0.10204082,  0.14285714,  0.18367347,\n",
       "         0.2244898 ,  0.26530612,  0.30612245,  0.34693878,  0.3877551 ,\n",
       "         0.42857143,  0.46938776,  0.51020408,  0.55102041,  0.59183673,\n",
       "         0.63265306,  0.67346939,  0.71428571,  0.75510204,  0.79591837,\n",
       "         0.83673469,  0.87755102,  0.91836735,  0.95918367,  1.        ]),\n",
       " <a list of 49 Patch objects>)"
      ]
     },
     "execution_count": 33,
     "metadata": {},
     "output_type": "execute_result"
    },
    {
     "data": {
      "image/png": "[encoded data removed]",
      "text/plain": [
       "<Figure size 432x288 with 1 Axes>"
      ]
     },
     "metadata": {
      "needs_background": "light"
     },
     "output_type": "display_data"
    }
   ],
   "source": [
    "# overall pred vs input\n",
    "bins = np.linspace(-1, 1, 50)\n",
    "plt.hist(overall_input, bins=bins,alpha=0.5)\n",
    "plt.hist(overall_pred, bins=bins,alpha=0.5)"
   ]
  },
  {
   "cell_type": "code",
   "execution_count": 34,
   "metadata": {},
   "outputs": [
    {
     "data": {
      "text/plain": [
       "(array([   473.,    524.,    582.,    672.,    868.,    996.,   1178.,\n",
       "          1486.,   1915.,   2487.,   3515.,   5386.,  10542.,  32160.,\n",
       "        382095.,  97006.,  21122.,   6704.,   1674.,   1019.,    843.,\n",
       "          1020.,    943.,    813.,    836.,    737.,    612.,    474.,\n",
       "           408.]),\n",
       " array([-2.        , -1.86206897, -1.72413793, -1.5862069 , -1.44827586,\n",
       "        -1.31034483, -1.17241379, -1.03448276, -0.89655172, -0.75862069,\n",
       "        -0.62068966, -0.48275862, -0.34482759, -0.20689655, -0.06896552,\n",
       "         0.06896552,  0.20689655,  0.34482759,  0.48275862,  0.62068966,\n",
       "         0.75862069,  0.89655172,  1.03448276,  1.17241379,  1.31034483,\n",
       "         1.44827586,  1.5862069 ,  1.72413793,  1.86206897,  2.        ]),\n",
       " <a list of 29 Patch objects>)"
      ]
     },
     "execution_count": 34,
     "metadata": {},
     "output_type": "execute_result"
    },
    {
     "data": {
      "image/png": "[encoded data removed]",
      "text/plain": [
       "<Figure size 432x288 with 1 Axes>"
      ]
     },
     "metadata": {
      "needs_background": "light"
     },
     "output_type": "display_data"
    }
   ],
   "source": [
    "# overall distr\n",
    "bins = np.linspace(-2, 2, 30)\n",
    "plt.hist(overall_distr, bins=bins)"
   ]
  },
  {
   "cell_type": "markdown",
   "metadata": {},
   "source": [
    "## Stacking output (orange) over input (blue) for px, py, pz, E"
   ]
  },
  {
   "cell_type": "code",
   "execution_count": 35,
   "metadata": {},
   "outputs": [
    {
     "data": {
      "text/plain": [
       "(array([71., 67., 57., 50., 50., 40., 39., 30., 31., 30., 20., 26., 24.,\n",
       "        20., 18., 27., 19., 17., 17., 10., 13.,  7.,  1.,  2.,  2.,  5.,\n",
       "         4.,  0.,  3.,  0.,  0.,  0.,  2.,  1.,  1.,  5.,  1.,  2.,  2.]),\n",
       " array([-0.2       , -0.18974359, -0.17948718, -0.16923077, -0.15897436,\n",
       "        -0.14871795, -0.13846154, -0.12820513, -0.11794872, -0.10769231,\n",
       "        -0.0974359 , -0.08717949, -0.07692308, -0.06666667, -0.05641026,\n",
       "        -0.04615385, -0.03589744, -0.02564103, -0.01538462, -0.00512821,\n",
       "         0.00512821,  0.01538462,  0.02564103,  0.03589744,  0.04615385,\n",
       "         0.05641026,  0.06666667,  0.07692308,  0.08717949,  0.0974359 ,\n",
       "         0.10769231,  0.11794872,  0.12820513,  0.13846154,  0.14871795,\n",
       "         0.15897436,  0.16923077,  0.17948718,  0.18974359,  0.2       ]),\n",
       " <a list of 39 Patch objects>)"
      ]
     },
     "execution_count": 35,
     "metadata": {},
     "output_type": "execute_result"
    },
    {
     "data": {
      "image/png": "[encoded data removed]",
      "text/plain": [
       "<Figure size 432x288 with 1 Axes>"
      ]
     },
     "metadata": {
      "needs_background": "light"
     },
     "output_type": "display_data"
    }
   ],
   "source": [
    "# px\n",
    "bins = np.linspace(-0.2, 0.2, 40)\n",
    "plt.hist(px, bins=bins,alpha=0.5)\n",
    "plt.hist(px_pred, bins=bins,alpha=0.5)"
   ]
  },
  {
   "cell_type": "code",
   "execution_count": 36,
   "metadata": {},
   "outputs": [
    {
     "name": "stdout",
     "output_type": "stream",
     "text": [
      "tf.Tensor(0.06615099, shape=(), dtype=float32)\n"
     ]
    }
   ],
   "source": [
    "print(mse(px,px_pred))"
   ]
  },
  {
   "cell_type": "code",
   "execution_count": 37,
   "metadata": {},
   "outputs": [
    {
     "data": {
      "text/plain": [
       "(array([541., 606., 566., 588., 595., 625., 613., 564., 606., 615., 615.,\n",
       "        618., 573., 640., 627., 594., 615., 697., 722., 751., 791., 824.,\n",
       "        782., 727., 692., 632., 615., 629., 611., 553., 549., 605., 557.,\n",
       "        495., 493., 475., 485., 539., 475.]),\n",
       " array([-0.2       , -0.18974359, -0.17948718, -0.16923077, -0.15897436,\n",
       "        -0.14871795, -0.13846154, -0.12820513, -0.11794872, -0.10769231,\n",
       "        -0.0974359 , -0.08717949, -0.07692308, -0.06666667, -0.05641026,\n",
       "        -0.04615385, -0.03589744, -0.02564103, -0.01538462, -0.00512821,\n",
       "         0.00512821,  0.01538462,  0.02564103,  0.03589744,  0.04615385,\n",
       "         0.05641026,  0.06666667,  0.07692308,  0.08717949,  0.0974359 ,\n",
       "         0.10769231,  0.11794872,  0.12820513,  0.13846154,  0.14871795,\n",
       "         0.15897436,  0.16923077,  0.17948718,  0.18974359,  0.2       ]),\n",
       " <a list of 39 Patch objects>)"
      ]
     },
     "execution_count": 37,
     "metadata": {},
     "output_type": "execute_result"
    },
    {
     "data": {
      "image/png": "[encoded data removed]",
      "text/plain": [
       "<Figure size 432x288 with 1 Axes>"
      ]
     },
     "metadata": {
      "needs_background": "light"
     },
     "output_type": "display_data"
    }
   ],
   "source": [
    "# py\n",
    "bins = np.linspace(-0.2, 0.2, 40)\n",
    "plt.hist(py, bins=bins,alpha=0.5)\n",
    "plt.hist(py_pred, bins=bins,alpha=0.5)"
   ]
  },
  {
   "cell_type": "code",
   "execution_count": 38,
   "metadata": {},
   "outputs": [
    {
     "name": "stdout",
     "output_type": "stream",
     "text": [
      "tf.Tensor(0.0033391917, shape=(), dtype=float32)\n"
     ]
    }
   ],
   "source": [
    "print(mse(py,py_pred))"
   ]
  },
  {
   "cell_type": "code",
   "execution_count": 39,
   "metadata": {},
   "outputs": [
    {
     "data": {
      "text/plain": [
       "(array([1059., 1155., 1089., 1116., 1042., 1123., 1100., 1151., 1063.,\n",
       "        1076., 1068., 1075., 1104., 1098., 1090., 1050., 1029., 1121.,\n",
       "        1117., 1072., 1086., 1137., 1077., 1108., 1097., 1095., 1120.,\n",
       "        1092., 1137., 1078., 1113., 1080., 1119., 1097., 1122., 1054.,\n",
       "        1124., 1067., 1016.]),\n",
       " array([-0.5       , -0.47435897, -0.44871795, -0.42307692, -0.3974359 ,\n",
       "        -0.37179487, -0.34615385, -0.32051282, -0.29487179, -0.26923077,\n",
       "        -0.24358974, -0.21794872, -0.19230769, -0.16666667, -0.14102564,\n",
       "        -0.11538462, -0.08974359, -0.06410256, -0.03846154, -0.01282051,\n",
       "         0.01282051,  0.03846154,  0.06410256,  0.08974359,  0.11538462,\n",
       "         0.14102564,  0.16666667,  0.19230769,  0.21794872,  0.24358974,\n",
       "         0.26923077,  0.29487179,  0.32051282,  0.34615385,  0.37179487,\n",
       "         0.3974359 ,  0.42307692,  0.44871795,  0.47435897,  0.5       ]),\n",
       " <a list of 39 Patch objects>)"
      ]
     },
     "execution_count": 39,
     "metadata": {},
     "output_type": "execute_result"
    },
    {
     "data": {
      "image/png": "[encoded data removed]",
      "text/plain": [
       "<Figure size 432x288 with 1 Axes>"
      ]
     },
     "metadata": {
      "needs_background": "light"
     },
     "output_type": "display_data"
    }
   ],
   "source": [
    "# pz\n",
    "bins = np.linspace(-0.5, 0.5, 40)\n",
    "plt.hist(pz, bins=bins,alpha=0.5)\n",
    "plt.hist(pz_pred, bins=bins,alpha=0.5)"
   ]
  },
  {
   "cell_type": "code",
   "execution_count": 40,
   "metadata": {},
   "outputs": [
    {
     "name": "stdout",
     "output_type": "stream",
     "text": [
      "tf.Tensor(8.334094e-05, shape=(), dtype=float32)\n"
     ]
    }
   ],
   "source": [
    "print(mse(pz,pz_pred))"
   ]
  },
  {
   "cell_type": "code",
   "execution_count": 41,
   "metadata": {},
   "outputs": [
    {
     "data": {
      "text/plain": [
       "(array([0.0000e+00, 0.0000e+00, 0.0000e+00, 0.0000e+00, 0.0000e+00,\n",
       "        1.2000e+01, 2.3000e+01, 3.2000e+01, 6.1000e+01, 1.6721e+04,\n",
       "        2.9961e+04, 3.2288e+04, 2.5384e+04, 9.9490e+03, 3.6490e+03,\n",
       "        3.2030e+03, 2.3520e+03, 1.4700e+03, 3.7800e+02, 2.3400e+02,\n",
       "        1.9600e+02, 1.1400e+02, 8.8000e+01, 5.1000e+01, 2.1000e+01,\n",
       "        5.0000e+00, 1.0000e+00, 5.0000e+00, 1.0000e+00, 5.0000e+00,\n",
       "        5.0000e+00, 5.0000e+00, 3.0000e+00, 6.0000e+00, 6.0000e+00,\n",
       "        1.0000e+01, 4.0000e+00, 1.9000e+01, 2.0000e+01]),\n",
       " array([-0.6       , -0.57692308, -0.55384615, -0.53076923, -0.50769231,\n",
       "        -0.48461538, -0.46153846, -0.43846154, -0.41538462, -0.39230769,\n",
       "        -0.36923077, -0.34615385, -0.32307692, -0.3       , -0.27692308,\n",
       "        -0.25384615, -0.23076923, -0.20769231, -0.18461538, -0.16153846,\n",
       "        -0.13846154, -0.11538462, -0.09230769, -0.06923077, -0.04615385,\n",
       "        -0.02307692,  0.        ,  0.02307692,  0.04615385,  0.06923077,\n",
       "         0.09230769,  0.11538462,  0.13846154,  0.16153846,  0.18461538,\n",
       "         0.20769231,  0.23076923,  0.25384615,  0.27692308,  0.3       ]),\n",
       " <a list of 39 Patch objects>)"
      ]
     },
     "execution_count": 41,
     "metadata": {},
     "output_type": "execute_result"
    },
    {
     "data": {
      "image/png": "[encoded data removed]",
      "text/plain": [
       "<Figure size 432x288 with 1 Axes>"
      ]
     },
     "metadata": {
      "needs_background": "light"
     },
     "output_type": "display_data"
    }
   ],
   "source": [
    "# E\n",
    "bins = np.linspace(-0.6,0.3, 40)\n",
    "plt.hist(e, bins=bins,alpha=0.5)\n",
    "plt.hist(e_pred, bins=bins,alpha=0.5)"
   ]
  },
  {
   "cell_type": "code",
   "execution_count": 42,
   "metadata": {},
   "outputs": [
    {
     "name": "stdout",
     "output_type": "stream",
     "text": [
      "tf.Tensor(0.054726988, shape=(), dtype=float32)\n"
     ]
    }
   ],
   "source": [
    "print(mse(e,e_pred))"
   ]
  },
  {
   "cell_type": "code",
   "execution_count": 43,
   "metadata": {},
   "outputs": [],
   "source": [
    "d_px = [row[0] for row in distr]\n",
    "d_py = [row[1] for row in distr]\n",
    "d_pz = [row[2] for row in distr]\n",
    "d_e = [row[3] for row in distr]"
   ]
  },
  {
   "cell_type": "markdown",
   "metadata": {},
   "source": [
    "## Distribution of (input - output) / input"
   ]
  },
  {
   "cell_type": "code",
   "execution_count": 44,
   "metadata": {},
   "outputs": [],
   "source": [
    "bins = np.linspace(-2, 2, 30)"
   ]
  },
  {
   "cell_type": "code",
   "execution_count": 45,
   "metadata": {},
   "outputs": [
    {
     "data": {
      "text/plain": [
       "(array([1.2800e+02, 1.5700e+02, 1.7100e+02, 1.9400e+02, 2.9000e+02,\n",
       "        3.2800e+02, 3.7900e+02, 4.9200e+02, 5.9600e+02, 7.6700e+02,\n",
       "        1.0380e+03, 1.5570e+03, 3.0230e+03, 1.1734e+04, 5.8592e+04,\n",
       "        5.2352e+04, 1.0548e+04, 8.5400e+02, 6.2000e+01, 2.3000e+01,\n",
       "        2.0000e+01, 4.5000e+01, 8.7000e+01, 1.4600e+02, 1.9200e+02,\n",
       "        2.5500e+02, 2.0900e+02, 1.6200e+02, 1.2400e+02]),\n",
       " array([-2.        , -1.86206897, -1.72413793, -1.5862069 , -1.44827586,\n",
       "        -1.31034483, -1.17241379, -1.03448276, -0.89655172, -0.75862069,\n",
       "        -0.62068966, -0.48275862, -0.34482759, -0.20689655, -0.06896552,\n",
       "         0.06896552,  0.20689655,  0.34482759,  0.48275862,  0.62068966,\n",
       "         0.75862069,  0.89655172,  1.03448276,  1.17241379,  1.31034483,\n",
       "         1.44827586,  1.5862069 ,  1.72413793,  1.86206897,  2.        ]),\n",
       " <a list of 29 Patch objects>)"
      ]
     },
     "execution_count": 45,
     "metadata": {},
     "output_type": "execute_result"
    },
    {
     "data": {
      "image/png": "[encoded data removed]",
      "text/plain": [
       "<Figure size 432x288 with 1 Axes>"
      ]
     },
     "metadata": {
      "needs_background": "light"
     },
     "output_type": "display_data"
    }
   ],
   "source": [
    "plt.hist(d_px, bins=bins)"
   ]
  },
  {
   "cell_type": "code",
   "execution_count": 46,
   "metadata": {},
   "outputs": [
    {
     "data": {
      "text/plain": [
       "(array([7.40000e+01, 8.80000e+01, 9.10000e+01, 1.14000e+02, 1.38000e+02,\n",
       "        1.69000e+02, 1.94000e+02, 2.57000e+02, 3.78000e+02, 4.86000e+02,\n",
       "        8.00000e+02, 1.14000e+03, 1.89300e+03, 4.99600e+03, 1.19704e+05,\n",
       "        5.20800e+03, 2.53200e+03, 1.70500e+03, 1.03100e+03, 7.61000e+02,\n",
       "        7.26000e+02, 9.39000e+02, 7.37000e+02, 4.31000e+02, 3.24000e+02,\n",
       "        2.09000e+02, 1.61000e+02, 1.30000e+02, 9.80000e+01]),\n",
       " array([-2.        , -1.86206897, -1.72413793, -1.5862069 , -1.44827586,\n",
       "        -1.31034483, -1.17241379, -1.03448276, -0.89655172, -0.75862069,\n",
       "        -0.62068966, -0.48275862, -0.34482759, -0.20689655, -0.06896552,\n",
       "         0.06896552,  0.20689655,  0.34482759,  0.48275862,  0.62068966,\n",
       "         0.75862069,  0.89655172,  1.03448276,  1.17241379,  1.31034483,\n",
       "         1.44827586,  1.5862069 ,  1.72413793,  1.86206897,  2.        ]),\n",
       " <a list of 29 Patch objects>)"
      ]
     },
     "execution_count": 46,
     "metadata": {},
     "output_type": "execute_result"
    },
    {
     "data": {
      "image/png": "[encoded data removed]",
      "text/plain": [
       "<Figure size 432x288 with 1 Axes>"
      ]
     },
     "metadata": {
      "needs_background": "light"
     },
     "output_type": "display_data"
    }
   ],
   "source": [
    "plt.hist(d_py, bins=bins)"
   ]
  },
  {
   "cell_type": "code",
   "execution_count": 47,
   "metadata": {},
   "outputs": [
    {
     "data": {
      "text/plain": [
       "(array([8.00000e+00, 1.00000e+01, 7.00000e+00, 7.00000e+00, 1.70000e+01,\n",
       "        2.30000e+01, 2.70000e+01, 3.20000e+01, 5.50000e+01, 6.90000e+01,\n",
       "        1.21000e+02, 2.09000e+02, 4.91000e+02, 2.57700e+03, 1.40414e+05,\n",
       "        2.37000e+03, 4.88000e+02, 1.88000e+02, 1.37000e+02, 7.50000e+01,\n",
       "        4.30000e+01, 2.80000e+01, 2.60000e+01, 1.90000e+01, 2.90000e+01,\n",
       "        1.50000e+01, 1.00000e+01, 5.00000e+00, 7.00000e+00]),\n",
       " array([-2.        , -1.86206897, -1.72413793, -1.5862069 , -1.44827586,\n",
       "        -1.31034483, -1.17241379, -1.03448276, -0.89655172, -0.75862069,\n",
       "        -0.62068966, -0.48275862, -0.34482759, -0.20689655, -0.06896552,\n",
       "         0.06896552,  0.20689655,  0.34482759,  0.48275862,  0.62068966,\n",
       "         0.75862069,  0.89655172,  1.03448276,  1.17241379,  1.31034483,\n",
       "         1.44827586,  1.5862069 ,  1.72413793,  1.86206897,  2.        ]),\n",
       " <a list of 29 Patch objects>)"
      ]
     },
     "execution_count": 47,
     "metadata": {},
     "output_type": "execute_result"
    },
    {
     "data": {
      "image/png": "[encoded data removed]",
      "text/plain": [
       "<Figure size 432x288 with 1 Axes>"
      ]
     },
     "metadata": {
      "needs_background": "light"
     },
     "output_type": "display_data"
    }
   ],
   "source": [
    "plt.hist(d_pz, bins=bins)"
   ]
  },
  {
   "cell_type": "code",
   "execution_count": 48,
   "metadata": {},
   "outputs": [
    {
     "data": {
      "text/plain": [
       "(array([2.6300e+02, 2.6900e+02, 3.1300e+02, 3.5700e+02, 4.2300e+02,\n",
       "        4.7600e+02, 5.7800e+02, 7.0500e+02, 8.8600e+02, 1.1650e+03,\n",
       "        1.5560e+03, 2.4800e+03, 5.1350e+03, 1.2853e+04, 6.3385e+04,\n",
       "        3.7076e+04, 7.5540e+03, 3.9570e+03, 4.4400e+02, 1.6000e+02,\n",
       "        5.4000e+01, 8.0000e+00, 9.3000e+01, 2.1700e+02, 2.9100e+02,\n",
       "        2.5800e+02, 2.3200e+02, 1.7700e+02, 1.7900e+02]),\n",
       " array([-2.        , -1.86206897, -1.72413793, -1.5862069 , -1.44827586,\n",
       "        -1.31034483, -1.17241379, -1.03448276, -0.89655172, -0.75862069,\n",
       "        -0.62068966, -0.48275862, -0.34482759, -0.20689655, -0.06896552,\n",
       "         0.06896552,  0.20689655,  0.34482759,  0.48275862,  0.62068966,\n",
       "         0.75862069,  0.89655172,  1.03448276,  1.17241379,  1.31034483,\n",
       "         1.44827586,  1.5862069 ,  1.72413793,  1.86206897,  2.        ]),\n",
       " <a list of 29 Patch objects>)"
      ]
     },
     "execution_count": 48,
     "metadata": {},
     "output_type": "execute_result"
    },
    {
     "data": {
      "image/png": "[encoded data removed]",
      "text/plain": [
       "<Figure size 432x288 with 1 Axes>"
      ]
     },
     "metadata": {
      "needs_background": "light"
     },
     "output_type": "display_data"
    }
   ],
   "source": [
    "plt.hist(d_e, bins=bins)"
   ]
  },
  {
   "cell_type": "markdown",
   "metadata": {},
   "source": [
    "# Anomaly Detection"
   ]
  },
  {
   "cell_type": "code",
   "execution_count": 49,
   "metadata": {},
   "outputs": [],
   "source": [
    "from sklearn.metrics import mean_squared_error"
   ]
  },
  {
   "cell_type": "code",
   "execution_count": 50,
   "metadata": {},
   "outputs": [],
   "source": [
    "all_data = np.concatenate((x_train, x_val, x_test))\n",
    "all_pred = vae.predict(all_data)"
   ]
  },
  {
   "cell_type": "code",
   "execution_count": 51,
   "metadata": {},
   "outputs": [],
   "source": [
    "# get the mse of all predictions\n",
    "errors = (np.square(all_data - all_pred)).mean(axis=1)\n",
    "mse_thresh = np.quantile(errors,0.95)"
   ]
  },
  {
   "cell_type": "code",
   "execution_count": 52,
   "metadata": {},
   "outputs": [],
   "source": [
    "# all the inputs that had high mse\n",
    "data_df = pd.DataFrame(loaded_data)\n",
    "data_df.columns = ['px','py','pz','e','pt','eta','phi','mass']\n",
    "data_df[\"mse\"] = errors\n",
    "data_df[\"outlier\"] = 0"
   ]
  },
  {
   "cell_type": "code",
   "execution_count": 53,
   "metadata": {},
   "outputs": [],
   "source": [
    "data_df.loc[data_df[\"mse\"] > mse_thresh, \"outlier\"] = 1"
   ]
  },
  {
   "cell_type": "code",
   "execution_count": 54,
   "metadata": {},
   "outputs": [
    {
     "data": {
      "text/html": [
       "<div>\n",
       "<style scoped>\n",
       "    .dataframe tbody tr th:only-of-type {\n",
       "        vertical-align: middle;\n",
       "    }\n",
       "\n",
       "    .dataframe tbody tr th {\n",
       "        vertical-align: top;\n",
       "    }\n",
       "\n",
       "    .dataframe thead th {\n",
       "        text-align: right;\n",
       "    }\n",
       "</style>\n",
       "<table border=\"1\" class=\"dataframe\">\n",
       "  <thead>\n",
       "    <tr style=\"text-align: right;\">\n",
       "      <th></th>\n",
       "      <th>px</th>\n",
       "      <th>py</th>\n",
       "      <th>pz</th>\n",
       "      <th>e</th>\n",
       "      <th>pt</th>\n",
       "      <th>eta</th>\n",
       "      <th>phi</th>\n",
       "      <th>mass</th>\n",
       "      <th>mse</th>\n",
       "      <th>outlier</th>\n",
       "    </tr>\n",
       "  </thead>\n",
       "  <tbody>\n",
       "    <tr>\n",
       "      <th>1</th>\n",
       "      <td>611.088616</td>\n",
       "      <td>716.513394</td>\n",
       "      <td>1558.330438</td>\n",
       "      <td>1871.941989</td>\n",
       "      <td>941.711601</td>\n",
       "      <td>1.277667</td>\n",
       "      <td>0.864642</td>\n",
       "      <td>434.686458</td>\n",
       "      <td>0.261187</td>\n",
       "      <td>1</td>\n",
       "    </tr>\n",
       "    <tr>\n",
       "      <th>2</th>\n",
       "      <td>496.094722</td>\n",
       "      <td>-18.711175</td>\n",
       "      <td>1789.405584</td>\n",
       "      <td>1858.085692</td>\n",
       "      <td>496.447461</td>\n",
       "      <td>1.994018</td>\n",
       "      <td>-0.037699</td>\n",
       "      <td>63.639718</td>\n",
       "      <td>0.582231</td>\n",
       "      <td>1</td>\n",
       "    </tr>\n",
       "    <tr>\n",
       "      <th>19</th>\n",
       "      <td>1033.836179</td>\n",
       "      <td>-637.488365</td>\n",
       "      <td>635.714060</td>\n",
       "      <td>1392.484342</td>\n",
       "      <td>1214.581681</td>\n",
       "      <td>0.502044</td>\n",
       "      <td>-0.552554</td>\n",
       "      <td>244.277745</td>\n",
       "      <td>0.577113</td>\n",
       "      <td>1</td>\n",
       "    </tr>\n",
       "    <tr>\n",
       "      <th>49</th>\n",
       "      <td>878.307028</td>\n",
       "      <td>1182.994300</td>\n",
       "      <td>1984.545138</td>\n",
       "      <td>2597.609007</td>\n",
       "      <td>1473.397009</td>\n",
       "      <td>1.106737</td>\n",
       "      <td>0.932149</td>\n",
       "      <td>798.908253</td>\n",
       "      <td>0.187622</td>\n",
       "      <td>1</td>\n",
       "    </tr>\n",
       "    <tr>\n",
       "      <th>66</th>\n",
       "      <td>-617.868726</td>\n",
       "      <td>-93.854432</td>\n",
       "      <td>-329.867437</td>\n",
       "      <td>718.349229</td>\n",
       "      <td>624.956332</td>\n",
       "      <td>-0.505960</td>\n",
       "      <td>-2.990845</td>\n",
       "      <td>129.006484</td>\n",
       "      <td>0.521215</td>\n",
       "      <td>1</td>\n",
       "    </tr>\n",
       "    <tr>\n",
       "      <th>...</th>\n",
       "      <td>...</td>\n",
       "      <td>...</td>\n",
       "      <td>...</td>\n",
       "      <td>...</td>\n",
       "      <td>...</td>\n",
       "      <td>...</td>\n",
       "      <td>...</td>\n",
       "      <td>...</td>\n",
       "      <td>...</td>\n",
       "      <td>...</td>\n",
       "    </tr>\n",
       "    <tr>\n",
       "      <th>1477300</th>\n",
       "      <td>444.632974</td>\n",
       "      <td>226.935994</td>\n",
       "      <td>412.811647</td>\n",
       "      <td>693.639838</td>\n",
       "      <td>499.197784</td>\n",
       "      <td>0.753575</td>\n",
       "      <td>0.471925</td>\n",
       "      <td>248.041008</td>\n",
       "      <td>1.519532</td>\n",
       "      <td>1</td>\n",
       "    </tr>\n",
       "    <tr>\n",
       "      <th>1477316</th>\n",
       "      <td>-1183.348263</td>\n",
       "      <td>266.011832</td>\n",
       "      <td>2203.505011</td>\n",
       "      <td>2527.528651</td>\n",
       "      <td>1212.878974</td>\n",
       "      <td>1.358549</td>\n",
       "      <td>2.920472</td>\n",
       "      <td>248.779701</td>\n",
       "      <td>0.276423</td>\n",
       "      <td>1</td>\n",
       "    </tr>\n",
       "    <tr>\n",
       "      <th>1477317</th>\n",
       "      <td>676.606446</td>\n",
       "      <td>-117.854251</td>\n",
       "      <td>-445.422516</td>\n",
       "      <td>820.026832</td>\n",
       "      <td>686.793934</td>\n",
       "      <td>-0.610011</td>\n",
       "      <td>-0.172454</td>\n",
       "      <td>48.547705</td>\n",
       "      <td>0.390803</td>\n",
       "      <td>1</td>\n",
       "    </tr>\n",
       "    <tr>\n",
       "      <th>1477318</th>\n",
       "      <td>479.824070</td>\n",
       "      <td>-174.941974</td>\n",
       "      <td>1241.042099</td>\n",
       "      <td>1343.000728</td>\n",
       "      <td>510.720895</td>\n",
       "      <td>1.620908</td>\n",
       "      <td>-0.349618</td>\n",
       "      <td>51.279938</td>\n",
       "      <td>0.468894</td>\n",
       "      <td>1</td>\n",
       "    </tr>\n",
       "    <tr>\n",
       "      <th>1477332</th>\n",
       "      <td>-242.624936</td>\n",
       "      <td>-1086.241010</td>\n",
       "      <td>967.780053</td>\n",
       "      <td>1501.348413</td>\n",
       "      <td>1113.007813</td>\n",
       "      <td>0.786037</td>\n",
       "      <td>-1.790551</td>\n",
       "      <td>280.468241</td>\n",
       "      <td>0.727715</td>\n",
       "      <td>1</td>\n",
       "    </tr>\n",
       "  </tbody>\n",
       "</table>\n",
       "<p>73869 rows × 10 columns</p>\n",
       "</div>"
      ],
      "text/plain": [
       "                  px           py           pz            e           pt  \\\n",
       "1         611.088616   716.513394  1558.330438  1871.941989   941.711601   \n",
       "2         496.094722   -18.711175  1789.405584  1858.085692   496.447461   \n",
       "19       1033.836179  -637.488365   635.714060  1392.484342  1214.581681   \n",
       "49        878.307028  1182.994300  1984.545138  2597.609007  1473.397009   \n",
       "66       -617.868726   -93.854432  -329.867437   718.349229   624.956332   \n",
       "...              ...          ...          ...          ...          ...   \n",
       "1477300   444.632974   226.935994   412.811647   693.639838   499.197784   \n",
       "1477316 -1183.348263   266.011832  2203.505011  2527.528651  1212.878974   \n",
       "1477317   676.606446  -117.854251  -445.422516   820.026832   686.793934   \n",
       "1477318   479.824070  -174.941974  1241.042099  1343.000728   510.720895   \n",
       "1477332  -242.624936 -1086.241010   967.780053  1501.348413  1113.007813   \n",
       "\n",
       "              eta       phi        mass       mse  outlier  \n",
       "1        1.277667  0.864642  434.686458  0.261187        1  \n",
       "2        1.994018 -0.037699   63.639718  0.582231        1  \n",
       "19       0.502044 -0.552554  244.277745  0.577113        1  \n",
       "49       1.106737  0.932149  798.908253  0.187622        1  \n",
       "66      -0.505960 -2.990845  129.006484  0.521215        1  \n",
       "...           ...       ...         ...       ...      ...  \n",
       "1477300  0.753575  0.471925  248.041008  1.519532        1  \n",
       "1477316  1.358549  2.920472  248.779701  0.276423        1  \n",
       "1477317 -0.610011 -0.172454   48.547705  0.390803        1  \n",
       "1477318  1.620908 -0.349618   51.279938  0.468894        1  \n",
       "1477332  0.786037 -1.790551  280.468241  0.727715        1  \n",
       "\n",
       "[73869 rows x 10 columns]"
      ]
     },
     "execution_count": 54,
     "metadata": {},
     "output_type": "execute_result"
    }
   ],
   "source": [
    "data_df.loc[data_df[\"outlier\"] == 1]"
   ]
  },
  {
   "cell_type": "code",
   "execution_count": 57,
   "metadata": {},
   "outputs": [
    {
     "data": {
      "text/plain": [
       "89.51971763141093"
      ]
     },
     "execution_count": 57,
     "metadata": {},
     "output_type": "execute_result"
    }
   ],
   "source": [
    "mass_mu = data_df.mass.mean()\n",
    "mass_sd = data_df.mass.std()"
   ]
  },
  {
   "cell_type": "code",
   "execution_count": 58,
   "metadata": {},
   "outputs": [
    {
     "data": {
      "text/html": [
       "<div>\n",
       "<style scoped>\n",
       "    .dataframe tbody tr th:only-of-type {\n",
       "        vertical-align: middle;\n",
       "    }\n",
       "\n",
       "    .dataframe tbody tr th {\n",
       "        vertical-align: top;\n",
       "    }\n",
       "\n",
       "    .dataframe thead th {\n",
       "        text-align: right;\n",
       "    }\n",
       "</style>\n",
       "<table border=\"1\" class=\"dataframe\">\n",
       "  <thead>\n",
       "    <tr style=\"text-align: right;\">\n",
       "      <th></th>\n",
       "      <th>px</th>\n",
       "      <th>py</th>\n",
       "      <th>pz</th>\n",
       "      <th>e</th>\n",
       "      <th>pt</th>\n",
       "      <th>eta</th>\n",
       "      <th>phi</th>\n",
       "      <th>mass</th>\n",
       "      <th>mse</th>\n",
       "      <th>outlier</th>\n",
       "    </tr>\n",
       "  </thead>\n",
       "  <tbody>\n",
       "    <tr>\n",
       "      <th>49</th>\n",
       "      <td>878.307028</td>\n",
       "      <td>1182.994300</td>\n",
       "      <td>1984.545138</td>\n",
       "      <td>2597.609007</td>\n",
       "      <td>1473.397009</td>\n",
       "      <td>1.106737</td>\n",
       "      <td>0.932149</td>\n",
       "      <td>798.908253</td>\n",
       "      <td>0.187622</td>\n",
       "      <td>1</td>\n",
       "    </tr>\n",
       "    <tr>\n",
       "      <th>128</th>\n",
       "      <td>-1067.975875</td>\n",
       "      <td>467.865279</td>\n",
       "      <td>-364.864530</td>\n",
       "      <td>1356.013696</td>\n",
       "      <td>1165.963288</td>\n",
       "      <td>-0.308035</td>\n",
       "      <td>2.728690</td>\n",
       "      <td>588.367768</td>\n",
       "      <td>0.046370</td>\n",
       "      <td>0</td>\n",
       "    </tr>\n",
       "    <tr>\n",
       "      <th>236</th>\n",
       "      <td>-93.493208</td>\n",
       "      <td>-1426.434859</td>\n",
       "      <td>-161.979288</td>\n",
       "      <td>1518.931564</td>\n",
       "      <td>1429.495501</td>\n",
       "      <td>-0.113071</td>\n",
       "      <td>-1.636246</td>\n",
       "      <td>487.297053</td>\n",
       "      <td>0.012391</td>\n",
       "      <td>0</td>\n",
       "    </tr>\n",
       "    <tr>\n",
       "      <th>253</th>\n",
       "      <td>1252.130447</td>\n",
       "      <td>-347.873350</td>\n",
       "      <td>-162.329283</td>\n",
       "      <td>1434.715847</td>\n",
       "      <td>1299.556279</td>\n",
       "      <td>-0.124589</td>\n",
       "      <td>-0.270991</td>\n",
       "      <td>585.843189</td>\n",
       "      <td>0.008580</td>\n",
       "      <td>0</td>\n",
       "    </tr>\n",
       "    <tr>\n",
       "      <th>304</th>\n",
       "      <td>-847.244728</td>\n",
       "      <td>-1100.560431</td>\n",
       "      <td>-912.083428</td>\n",
       "      <td>1833.281801</td>\n",
       "      <td>1388.904925</td>\n",
       "      <td>-0.616827</td>\n",
       "      <td>-2.226868</td>\n",
       "      <td>774.576717</td>\n",
       "      <td>0.038996</td>\n",
       "      <td>0</td>\n",
       "    </tr>\n",
       "    <tr>\n",
       "      <th>...</th>\n",
       "      <td>...</td>\n",
       "      <td>...</td>\n",
       "      <td>...</td>\n",
       "      <td>...</td>\n",
       "      <td>...</td>\n",
       "      <td>...</td>\n",
       "      <td>...</td>\n",
       "      <td>...</td>\n",
       "      <td>...</td>\n",
       "      <td>...</td>\n",
       "    </tr>\n",
       "    <tr>\n",
       "      <th>1476746</th>\n",
       "      <td>1143.612124</td>\n",
       "      <td>-868.394361</td>\n",
       "      <td>-876.121810</td>\n",
       "      <td>1776.588488</td>\n",
       "      <td>1435.951760</td>\n",
       "      <td>-0.577495</td>\n",
       "      <td>-0.649454</td>\n",
       "      <td>571.594062</td>\n",
       "      <td>0.027818</td>\n",
       "      <td>0</td>\n",
       "    </tr>\n",
       "    <tr>\n",
       "      <th>1476760</th>\n",
       "      <td>-1233.497964</td>\n",
       "      <td>235.167099</td>\n",
       "      <td>409.361365</td>\n",
       "      <td>1445.194826</td>\n",
       "      <td>1255.715251</td>\n",
       "      <td>0.320484</td>\n",
       "      <td>2.953203</td>\n",
       "      <td>586.677565</td>\n",
       "      <td>0.028730</td>\n",
       "      <td>0</td>\n",
       "    </tr>\n",
       "    <tr>\n",
       "      <th>1477048</th>\n",
       "      <td>-1064.740867</td>\n",
       "      <td>813.933454</td>\n",
       "      <td>-359.135169</td>\n",
       "      <td>1480.445664</td>\n",
       "      <td>1340.209230</td>\n",
       "      <td>-0.264862</td>\n",
       "      <td>2.488912</td>\n",
       "      <td>516.314356</td>\n",
       "      <td>0.009778</td>\n",
       "      <td>0</td>\n",
       "    </tr>\n",
       "    <tr>\n",
       "      <th>1477164</th>\n",
       "      <td>1454.088404</td>\n",
       "      <td>-397.482521</td>\n",
       "      <td>689.726837</td>\n",
       "      <td>1841.289398</td>\n",
       "      <td>1507.436712</td>\n",
       "      <td>0.442924</td>\n",
       "      <td>-0.266836</td>\n",
       "      <td>801.410067</td>\n",
       "      <td>0.144629</td>\n",
       "      <td>0</td>\n",
       "    </tr>\n",
       "    <tr>\n",
       "      <th>1477298</th>\n",
       "      <td>636.872692</td>\n",
       "      <td>-1170.775372</td>\n",
       "      <td>-813.247762</td>\n",
       "      <td>1702.719072</td>\n",
       "      <td>1332.787229</td>\n",
       "      <td>-0.577539</td>\n",
       "      <td>-1.072590</td>\n",
       "      <td>679.380982</td>\n",
       "      <td>0.025569</td>\n",
       "      <td>0</td>\n",
       "    </tr>\n",
       "  </tbody>\n",
       "</table>\n",
       "<p>13275 rows × 10 columns</p>\n",
       "</div>"
      ],
      "text/plain": [
       "                  px           py           pz            e           pt  \\\n",
       "49        878.307028  1182.994300  1984.545138  2597.609007  1473.397009   \n",
       "128     -1067.975875   467.865279  -364.864530  1356.013696  1165.963288   \n",
       "236       -93.493208 -1426.434859  -161.979288  1518.931564  1429.495501   \n",
       "253      1252.130447  -347.873350  -162.329283  1434.715847  1299.556279   \n",
       "304      -847.244728 -1100.560431  -912.083428  1833.281801  1388.904925   \n",
       "...              ...          ...          ...          ...          ...   \n",
       "1476746  1143.612124  -868.394361  -876.121810  1776.588488  1435.951760   \n",
       "1476760 -1233.497964   235.167099   409.361365  1445.194826  1255.715251   \n",
       "1477048 -1064.740867   813.933454  -359.135169  1480.445664  1340.209230   \n",
       "1477164  1454.088404  -397.482521   689.726837  1841.289398  1507.436712   \n",
       "1477298   636.872692 -1170.775372  -813.247762  1702.719072  1332.787229   \n",
       "\n",
       "              eta       phi        mass       mse  outlier  \n",
       "49       1.106737  0.932149  798.908253  0.187622        1  \n",
       "128     -0.308035  2.728690  588.367768  0.046370        0  \n",
       "236     -0.113071 -1.636246  487.297053  0.012391        0  \n",
       "253     -0.124589 -0.270991  585.843189  0.008580        0  \n",
       "304     -0.616827 -2.226868  774.576717  0.038996        0  \n",
       "...           ...       ...         ...       ...      ...  \n",
       "1476746 -0.577495 -0.649454  571.594062  0.027818        0  \n",
       "1476760  0.320484  2.953203  586.677565  0.028730        0  \n",
       "1477048 -0.264862  2.488912  516.314356  0.009778        0  \n",
       "1477164  0.442924 -0.266836  801.410067  0.144629        0  \n",
       "1477298 -0.577539 -1.072590  679.380982  0.025569        0  \n",
       "\n",
       "[13275 rows x 10 columns]"
      ]
     },
     "execution_count": 58,
     "metadata": {},
     "output_type": "execute_result"
    }
   ],
   "source": [
    "data_df.loc[data_df[\"mass\"] >= mass_mu + 5 * mass_sd]"
   ]
  }
 ],
 "metadata": {
  "kernelspec": {
   "display_name": "Python 3",
   "language": "python",
   "name": "python3"
  },
  "language_info": {
   "codemirror_mode": {
    "name": "ipython",
    "version": 3
   },
   "file_extension": ".py",
   "mimetype": "text/x-python",
   "name": "python",
   "nbconvert_exporter": "python",
   "pygments_lexer": "ipython3",
   "version": "3.7.6"
  }
 },
 "nbformat": 4,
 "nbformat_minor": 4
}
