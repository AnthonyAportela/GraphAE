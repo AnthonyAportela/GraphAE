{
 "cells": [
  {
   "cell_type": "code",
   "execution_count": 1,
   "metadata": {},
   "outputs": [],
   "source": [
    "import pandas as pd\n",
    "import numpy as np\n",
    "from pyjet import cluster,DTYPE_PTEPM\n",
    "from sklearn import preprocessing\n",
    "from scipy.stats import iqr\n",
    "import tensorflow as tf"
   ]
  },
  {
   "cell_type": "markdown",
   "metadata": {},
   "source": [
    "# Pre processing"
   ]
  },
  {
   "cell_type": "code",
   "execution_count": 2,
   "metadata": {},
   "outputs": [],
   "source": [
    "path = '/anomalyvol/data/events_LHCO2020_backgroundMC_Pythia.h5'"
   ]
  },
  {
   "cell_type": "code",
   "execution_count": 3,
   "metadata": {},
   "outputs": [],
   "source": [
    "df = pd.read_hdf(path,stop=100000) # just read first 10000 events"
   ]
  },
  {
   "cell_type": "code",
   "execution_count": 4,
   "metadata": {},
   "outputs": [],
   "source": [
    "all_events = df.values"
   ]
  },
  {
   "cell_type": "code",
   "execution_count": 5,
   "metadata": {},
   "outputs": [],
   "source": [
    "rows = all_events.shape[0]\n",
    "cols = all_events.shape[1]\n",
    "data = []"
   ]
  },
  {
   "cell_type": "code",
   "execution_count": 6,
   "metadata": {},
   "outputs": [],
   "source": [
    "for i in range(rows):\n",
    "    pseudojets_input = np.zeros(len([x for x in all_events[i][::3] if x > 0]), dtype=DTYPE_PTEPM)\n",
    "    for j in range(cols // 3):\n",
    "        if (all_events[i][j*3]>0):\n",
    "            pseudojets_input[j]['pT'] = all_events[i][j*3]\n",
    "            pseudojets_input[j]['eta'] = all_events[i][j*3+1]\n",
    "            pseudojets_input[j]['phi'] = all_events[i][j*3+2]\n",
    "        pass\n",
    "    # cluster jets from the particles in one observation\n",
    "    sequence = cluster(pseudojets_input, R=1.0, p=-1)\n",
    "    jets = sequence.inclusive_jets()\n",
    "    for k in range(len(jets)): # for each jet get (px, py, pz, e)\n",
    "        jet = []\n",
    "        jet.append(jets[k].px)\n",
    "        jet.append(jets[k].py)\n",
    "        jet.append(jets[k].pz)\n",
    "        jet.append(jets[k].e)\n",
    "        data.append(jet)"
   ]
  },
  {
   "cell_type": "code",
   "execution_count": 7,
   "metadata": {},
   "outputs": [],
   "source": [
    "loaded_data = data\n",
    "# data = loaded_data"
   ]
  },
  {
   "cell_type": "code",
   "execution_count": 8,
   "metadata": {},
   "outputs": [
    {
     "data": {
      "text/plain": [
       "(1477373, 4)"
      ]
     },
     "execution_count": 8,
     "metadata": {},
     "output_type": "execute_result"
    }
   ],
   "source": [
    "data = np.array(data)\n",
    "data.shape"
   ]
  },
  {
   "cell_type": "code",
   "execution_count": 11,
   "metadata": {},
   "outputs": [],
   "source": [
    "# splitting data\n",
    "x_train = data[0:int(len(data) * 0.8)]\n",
    "x_val = data[int(len(data) * 0.8):int(len(data) * 0.9)]\n",
    "x_test = data[int(len(data) * 0.9):]"
   ]
  },
  {
   "cell_type": "code",
   "execution_count": 12,
   "metadata": {},
   "outputs": [],
   "source": [
    "# regularize\n",
    "scaler = preprocessing.StandardScaler()\n",
    "x_train = scaler.fit_transform(x_train)\n",
    "x_val = scaler.transform(x_val)\n",
    "x_test = scaler.transform(x_test)"
   ]
  },
  {
   "cell_type": "code",
   "execution_count": 13,
   "metadata": {},
   "outputs": [
    {
     "name": "stdout",
     "output_type": "stream",
     "text": [
      "[0.03073949 0.0307984  0.38423165 1.        ]\n"
     ]
    }
   ],
   "source": [
    "# get the inverse iqr proportion for each feature used to scale their weights in the loss function\n",
    "iqr_prop = iqr(x_train,axis = 0)\n",
    "max_iqr = max(iqr_prop)\n",
    "iqr_prop = np.array(iqr_prop) / max_iqr\n",
    "print(iqr_prop)"
   ]
  },
  {
   "cell_type": "markdown",
   "metadata": {},
   "source": [
    "# VAE Model"
   ]
  },
  {
   "cell_type": "code",
   "execution_count": 14,
   "metadata": {},
   "outputs": [
    {
     "name": "stderr",
     "output_type": "stream",
     "text": [
      "Using TensorFlow backend.\n"
     ]
    }
   ],
   "source": [
    "import keras\n",
    "from keras.layers import Lambda, Input, Dense, Flatten, Reshape, LeakyReLU, ELU\n",
    "from keras.models import Model, Sequential\n",
    "from keras import metrics, losses\n",
    "from keras import backend as K"
   ]
  },
  {
   "cell_type": "code",
   "execution_count": 15,
   "metadata": {},
   "outputs": [],
   "source": [
    "def sampling(args):\n",
    "    \"\"\"\n",
    "    # Arguments\n",
    "        args (tensor): mean and log of variance of Q(z|X)\n",
    "    # Returns\n",
    "        z (tensor): sampled latent vector\n",
    "    \"\"\"\n",
    "\n",
    "    z_mean, z_log_var = args\n",
    "    batch = K.shape(z_mean)[0]\n",
    "    dim = K.int_shape(z_mean)[1]\n",
    "    # by default, random_normal has mean = 0 and std = 1.0\n",
    "    epsilon = K.random_normal(shape=(batch, dim))\n",
    "    return z_mean + K.exp(0.5 * z_log_var) * epsilon"
   ]
  },
  {
   "cell_type": "code",
   "execution_count": 16,
   "metadata": {},
   "outputs": [],
   "source": [
    "inter_dim_1 = 32\n",
    "inter_dim_2 = 16\n",
    "final_dim = 8\n",
    "latent_dim = 2\n",
    "input_dim = 4"
   ]
  },
  {
   "cell_type": "code",
   "execution_count": 17,
   "metadata": {},
   "outputs": [],
   "source": [
    "# encoder\n",
    "x = Input(shape=(input_dim,))\n",
    "#x_flat = Flatten()(x)\n",
    "h1 = Dense(inter_dim_1, activation='relu')(x)\n",
    "h2 = Dense(inter_dim_2, activation='relu')(h1)\n",
    "h3 = Dense(final_dim, activation='relu')(h2)\n",
    "encoding = Dense(latent_dim, activation='tanh')(h3)"
   ]
  },
  {
   "cell_type": "code",
   "execution_count": 18,
   "metadata": {},
   "outputs": [],
   "source": [
    "# decoder\n",
    "decoder_h3 = Dense(final_dim, activation='relu')\n",
    "decoder_h2 = Dense(inter_dim_2, activation='relu')\n",
    "decoder_h1 = Dense(inter_dim_1, activation='relu')\n",
    "decoder_mean = Dense(input_dim, activation='linear')\n",
    "\n",
    "h3_decoded = decoder_h3(encoding)\n",
    "h2_decoded = decoder_h2(h3_decoded)\n",
    "h1_decoded = decoder_h1(h2_decoded)\n",
    "x_decoded_mean = decoder_mean(h1_decoded)\n",
    "# x_decoded = Reshape(input_shape)(x_decoded_mean)"
   ]
  },
  {
   "cell_type": "code",
   "execution_count": 19,
   "metadata": {},
   "outputs": [],
   "source": [
    "vae = Model(inputs = x, outputs = x_decoded_mean, name = 'vae')"
   ]
  },
  {
   "cell_type": "code",
   "execution_count": 20,
   "metadata": {},
   "outputs": [],
   "source": [
    "mse = keras.losses.MeanSquaredError()\n",
    "def ae_loss(x, y):\n",
    "    mse_loss = 0.25 * (iqr_prop[0]*(x[::,0] - y[::,0])**2 + iqr_prop[1]*(x[::,1] - y[::,1])**2 + iqr_prop[2]*(x[::,2] - y[::,2])**2 + iqr_prop[3]*(x[::,3] - y[::,3])**2)\n",
    "    # mse_loss = mse(x,y)\n",
    "    return mse_loss\n",
    "\n",
    "vae.compile(optimizer='adam', loss=ae_loss)"
   ]
  },
  {
   "cell_type": "code",
   "execution_count": 21,
   "metadata": {},
   "outputs": [
    {
     "name": "stdout",
     "output_type": "stream",
     "text": [
      "Model: \"vae\"\n",
      "_________________________________________________________________\n",
      "Layer (type)                 Output Shape              Param #   \n",
      "=================================================================\n",
      "input_1 (InputLayer)         (None, 4)                 0         \n",
      "_________________________________________________________________\n",
      "dense_1 (Dense)              (None, 32)                160       \n",
      "_________________________________________________________________\n",
      "dense_2 (Dense)              (None, 16)                528       \n",
      "_________________________________________________________________\n",
      "dense_3 (Dense)              (None, 8)                 136       \n",
      "_________________________________________________________________\n",
      "dense_4 (Dense)              (None, 2)                 18        \n",
      "_________________________________________________________________\n",
      "dense_5 (Dense)              (None, 8)                 24        \n",
      "_________________________________________________________________\n",
      "dense_6 (Dense)              (None, 16)                144       \n",
      "_________________________________________________________________\n",
      "dense_7 (Dense)              (None, 32)                544       \n",
      "_________________________________________________________________\n",
      "dense_8 (Dense)              (None, 4)                 132       \n",
      "=================================================================\n",
      "Total params: 1,686\n",
      "Trainable params: 1,686\n",
      "Non-trainable params: 0\n",
      "_________________________________________________________________\n"
     ]
    }
   ],
   "source": [
    "vae.summary()"
   ]
  },
  {
   "cell_type": "markdown",
   "metadata": {},
   "source": [
    "# Train"
   ]
  },
  {
   "cell_type": "code",
   "execution_count": 22,
   "metadata": {},
   "outputs": [],
   "source": [
    "from sklearn.model_selection import train_test_split"
   ]
  },
  {
   "cell_type": "code",
   "execution_count": 23,
   "metadata": {},
   "outputs": [],
   "source": [
    "batch_size = 1000\n",
    "epochs = 200"
   ]
  },
  {
   "cell_type": "code",
   "execution_count": 24,
   "metadata": {},
   "outputs": [
    {
     "data": {
      "text/plain": [
       "(1181898, 4)"
      ]
     },
     "execution_count": 24,
     "metadata": {},
     "output_type": "execute_result"
    }
   ],
   "source": [
    "x_train.shape"
   ]
  },
  {
   "cell_type": "code",
   "execution_count": 25,
   "metadata": {},
   "outputs": [],
   "source": [
    "my_callbacks = [\n",
    "    keras.callbacks.EarlyStopping(patience=10)\n",
    "]"
   ]
  },
  {
   "cell_type": "code",
   "execution_count": 26,
   "metadata": {},
   "outputs": [
    {
     "name": "stdout",
     "output_type": "stream",
     "text": [
      "Train on 1181898 samples, validate on 147737 samples\n",
      "Epoch 1/200\n",
      "1181898/1181898 [==============================] - 6s 5us/step - loss: 0.0455 - val_loss: 0.0158\n",
      "Epoch 2/200\n",
      "1181898/1181898 [==============================] - 5s 4us/step - loss: 0.0156 - val_loss: 0.0156\n",
      "Epoch 3/200\n",
      "1181898/1181898 [==============================] - 5s 4us/step - loss: 0.0155 - val_loss: 0.0155\n",
      "Epoch 4/200\n",
      "1181898/1181898 [==============================] - 5s 4us/step - loss: 0.0155 - val_loss: 0.0155\n",
      "Epoch 5/200\n",
      "1181898/1181898 [==============================] - 5s 4us/step - loss: 0.0154 - val_loss: 0.0154\n",
      "Epoch 6/200\n",
      "1181898/1181898 [==============================] - 5s 4us/step - loss: 0.0154 - val_loss: 0.0154\n",
      "Epoch 7/200\n",
      "1181898/1181898 [==============================] - 5s 4us/step - loss: 0.0154 - val_loss: 0.0154\n",
      "Epoch 8/200\n",
      "1181898/1181898 [==============================] - 5s 4us/step - loss: 0.0154 - val_loss: 0.0154\n",
      "Epoch 9/200\n",
      "1181898/1181898 [==============================] - 5s 4us/step - loss: 0.0154 - val_loss: 0.0154\n",
      "Epoch 10/200\n",
      "1181898/1181898 [==============================] - 5s 4us/step - loss: 0.0154 - val_loss: 0.0154\n",
      "Epoch 11/200\n",
      "1181898/1181898 [==============================] - 5s 4us/step - loss: 0.0154 - val_loss: 0.0154\n",
      "Epoch 12/200\n",
      "1181898/1181898 [==============================] - 5s 4us/step - loss: 0.0154 - val_loss: 0.0155\n",
      "Epoch 13/200\n",
      "1181898/1181898 [==============================] - 5s 4us/step - loss: 0.0154 - val_loss: 0.0154\n",
      "Epoch 14/200\n",
      "1181898/1181898 [==============================] - 5s 4us/step - loss: 0.0154 - val_loss: 0.0154\n",
      "Epoch 15/200\n",
      "1181898/1181898 [==============================] - 5s 4us/step - loss: 0.0154 - val_loss: 0.0154\n",
      "Epoch 16/200\n",
      "1181898/1181898 [==============================] - 5s 4us/step - loss: 0.0154 - val_loss: 0.0154\n",
      "Epoch 17/200\n",
      "1181898/1181898 [==============================] - 5s 4us/step - loss: 0.0154 - val_loss: 0.0154\n",
      "Epoch 18/200\n",
      "1181898/1181898 [==============================] - 5s 4us/step - loss: 0.0154 - val_loss: 0.0154\n",
      "Epoch 19/200\n",
      "1181898/1181898 [==============================] - 5s 4us/step - loss: 0.0154 - val_loss: 0.0154\n",
      "Epoch 20/200\n",
      "1181898/1181898 [==============================] - 5s 4us/step - loss: 0.0154 - val_loss: 0.0154\n",
      "Epoch 21/200\n",
      "1181898/1181898 [==============================] - 5s 4us/step - loss: 0.0142 - val_loss: 0.0133\n",
      "Epoch 22/200\n",
      "1181898/1181898 [==============================] - 5s 4us/step - loss: 0.0125 - val_loss: 0.0120\n",
      "Epoch 23/200\n",
      "1181898/1181898 [==============================] - 5s 4us/step - loss: 0.0118 - val_loss: 0.0118\n",
      "Epoch 24/200\n",
      "1181898/1181898 [==============================] - 5s 4us/step - loss: 0.0115 - val_loss: 0.0108\n",
      "Epoch 25/200\n",
      "1181898/1181898 [==============================] - 5s 4us/step - loss: 0.0106 - val_loss: 0.0109\n",
      "Epoch 26/200\n",
      "1181898/1181898 [==============================] - 5s 4us/step - loss: 0.0107 - val_loss: 0.0105\n",
      "Epoch 27/200\n",
      "1181898/1181898 [==============================] - 5s 4us/step - loss: 0.0102 - val_loss: 0.0104\n",
      "Epoch 28/200\n",
      "1181898/1181898 [==============================] - 5s 4us/step - loss: 0.0102 - val_loss: 0.0101\n",
      "Epoch 29/200\n",
      "1181898/1181898 [==============================] - 5s 4us/step - loss: 0.0103 - val_loss: 0.0102\n",
      "Epoch 30/200\n",
      "1181898/1181898 [==============================] - 5s 4us/step - loss: 0.0105 - val_loss: 0.0103\n",
      "Epoch 31/200\n",
      "1181898/1181898 [==============================] - 5s 4us/step - loss: 0.0102 - val_loss: 0.0105\n",
      "Epoch 32/200\n",
      "1181898/1181898 [==============================] - 5s 4us/step - loss: 0.0103 - val_loss: 0.0103\n",
      "Epoch 33/200\n",
      "1181898/1181898 [==============================] - 5s 4us/step - loss: 0.0100 - val_loss: 0.0101\n",
      "Epoch 34/200\n",
      "1181898/1181898 [==============================] - 5s 4us/step - loss: 0.0100 - val_loss: 0.0098\n",
      "Epoch 35/200\n",
      "1181898/1181898 [==============================] - 5s 4us/step - loss: 0.0098 - val_loss: 0.0100\n",
      "Epoch 36/200\n",
      "1181898/1181898 [==============================] - 5s 4us/step - loss: 0.0101 - val_loss: 0.0105\n",
      "Epoch 37/200\n",
      "1181898/1181898 [==============================] - 5s 4us/step - loss: 0.0109 - val_loss: 0.0110\n",
      "Epoch 38/200\n",
      "1181898/1181898 [==============================] - 5s 4us/step - loss: 0.0104 - val_loss: 0.0101\n",
      "Epoch 39/200\n",
      "1181898/1181898 [==============================] - 5s 4us/step - loss: 0.0098 - val_loss: 0.0096\n",
      "Epoch 40/200\n",
      "1181898/1181898 [==============================] - 5s 4us/step - loss: 0.0095 - val_loss: 0.0093\n",
      "Epoch 41/200\n",
      "1181898/1181898 [==============================] - 5s 4us/step - loss: 0.0092 - val_loss: 0.0096\n",
      "Epoch 42/200\n",
      "1181898/1181898 [==============================] - 5s 4us/step - loss: 0.0094 - val_loss: 0.0093\n",
      "Epoch 43/200\n",
      "1181898/1181898 [==============================] - 5s 4us/step - loss: 0.0089 - val_loss: 0.0086\n",
      "Epoch 44/200\n",
      "1181898/1181898 [==============================] - 5s 4us/step - loss: 0.0083 - val_loss: 0.0082\n",
      "Epoch 45/200\n",
      "1181898/1181898 [==============================] - 5s 4us/step - loss: 0.0083 - val_loss: 0.0082\n",
      "Epoch 46/200\n",
      "1181898/1181898 [==============================] - 5s 4us/step - loss: 0.0079 - val_loss: 0.0078\n",
      "Epoch 47/200\n",
      "1181898/1181898 [==============================] - 5s 4us/step - loss: 0.0078 - val_loss: 0.0078\n",
      "Epoch 48/200\n",
      "1181898/1181898 [==============================] - 5s 4us/step - loss: 0.0078 - val_loss: 0.0079\n",
      "Epoch 49/200\n",
      "1181898/1181898 [==============================] - 5s 4us/step - loss: 0.0074 - val_loss: 0.0077\n",
      "Epoch 50/200\n",
      "1181898/1181898 [==============================] - 5s 4us/step - loss: 0.0076 - val_loss: 0.0080\n",
      "Epoch 51/200\n",
      "1181898/1181898 [==============================] - 5s 4us/step - loss: 0.0076 - val_loss: 0.0075\n",
      "Epoch 52/200\n",
      "1181898/1181898 [==============================] - 5s 4us/step - loss: 0.0078 - val_loss: 0.0075\n",
      "Epoch 53/200\n",
      "1181898/1181898 [==============================] - 5s 4us/step - loss: 0.0078 - val_loss: 0.0079\n",
      "Epoch 54/200\n",
      "1181898/1181898 [==============================] - 5s 4us/step - loss: 0.0075 - val_loss: 0.0074\n",
      "Epoch 55/200\n",
      "1181898/1181898 [==============================] - 5s 4us/step - loss: 0.0074 - val_loss: 0.0072\n",
      "Epoch 56/200\n",
      "1181898/1181898 [==============================] - 5s 4us/step - loss: 0.0072 - val_loss: 0.0073\n",
      "Epoch 57/200\n",
      "1181898/1181898 [==============================] - 5s 4us/step - loss: 0.0072 - val_loss: 0.0070\n",
      "Epoch 58/200\n",
      "1181898/1181898 [==============================] - 5s 4us/step - loss: 0.0070 - val_loss: 0.0071\n",
      "Epoch 59/200\n",
      "1181898/1181898 [==============================] - 5s 4us/step - loss: 0.0069 - val_loss: 0.0067\n",
      "Epoch 60/200\n",
      "1181898/1181898 [==============================] - 5s 4us/step - loss: 0.0069 - val_loss: 0.0071\n",
      "Epoch 61/200\n",
      "1181898/1181898 [==============================] - 5s 4us/step - loss: 0.0069 - val_loss: 0.0074\n",
      "Epoch 62/200\n",
      "1181898/1181898 [==============================] - 5s 4us/step - loss: 0.0077 - val_loss: 0.0087\n",
      "Epoch 63/200\n",
      "1181898/1181898 [==============================] - 5s 4us/step - loss: 0.0074 - val_loss: 0.0069\n",
      "Epoch 64/200\n",
      "1181898/1181898 [==============================] - 5s 4us/step - loss: 0.0066 - val_loss: 0.0064\n",
      "Epoch 65/200\n",
      "1181898/1181898 [==============================] - 5s 4us/step - loss: 0.0060 - val_loss: 0.0058\n",
      "Epoch 66/200\n",
      "1181898/1181898 [==============================] - 5s 4us/step - loss: 0.0059 - val_loss: 0.0057\n",
      "Epoch 67/200\n",
      "1181898/1181898 [==============================] - 5s 4us/step - loss: 0.0059 - val_loss: 0.0061\n",
      "Epoch 68/200\n",
      "1181898/1181898 [==============================] - 5s 4us/step - loss: 0.0060 - val_loss: 0.0058\n",
      "Epoch 69/200\n",
      "1181898/1181898 [==============================] - 5s 4us/step - loss: 0.0055 - val_loss: 0.0054\n",
      "Epoch 70/200\n",
      "1181898/1181898 [==============================] - 5s 4us/step - loss: 0.0054 - val_loss: 0.0055\n",
      "Epoch 71/200\n",
      "1181898/1181898 [==============================] - 5s 4us/step - loss: 0.0052 - val_loss: 0.0051\n",
      "Epoch 72/200\n",
      "1181898/1181898 [==============================] - 5s 4us/step - loss: 0.0051 - val_loss: 0.0053\n",
      "Epoch 73/200\n",
      "1181898/1181898 [==============================] - 5s 4us/step - loss: 0.0051 - val_loss: 0.0050\n",
      "Epoch 74/200\n",
      "1181898/1181898 [==============================] - 5s 4us/step - loss: 0.0049 - val_loss: 0.0049\n",
      "Epoch 75/200\n"
     ]
    },
    {
     "name": "stdout",
     "output_type": "stream",
     "text": [
      "1181898/1181898 [==============================] - 5s 4us/step - loss: 0.0048 - val_loss: 0.0048\n",
      "Epoch 76/200\n",
      "1181898/1181898 [==============================] - 5s 4us/step - loss: 0.0048 - val_loss: 0.0049\n",
      "Epoch 77/200\n",
      "1181898/1181898 [==============================] - 5s 4us/step - loss: 0.0052 - val_loss: 0.0052\n",
      "Epoch 78/200\n",
      "1181898/1181898 [==============================] - 5s 4us/step - loss: 0.0054 - val_loss: 0.0055\n",
      "Epoch 79/200\n",
      "1181898/1181898 [==============================] - 5s 4us/step - loss: 0.0054 - val_loss: 0.0056\n",
      "Epoch 80/200\n",
      "1181898/1181898 [==============================] - 5s 4us/step - loss: 0.0053 - val_loss: 0.0052\n",
      "Epoch 81/200\n",
      "1181898/1181898 [==============================] - 5s 4us/step - loss: 0.0049 - val_loss: 0.0048\n",
      "Epoch 82/200\n",
      "1181898/1181898 [==============================] - 5s 4us/step - loss: 0.0048 - val_loss: 0.0046\n",
      "Epoch 83/200\n",
      "1181898/1181898 [==============================] - 5s 4us/step - loss: 0.0046 - val_loss: 0.0046\n",
      "Epoch 84/200\n",
      "1181898/1181898 [==============================] - 5s 4us/step - loss: 0.0049 - val_loss: 0.0054\n",
      "Epoch 85/200\n",
      "1181898/1181898 [==============================] - 5s 4us/step - loss: 0.0048 - val_loss: 0.0044\n",
      "Epoch 86/200\n",
      "1181898/1181898 [==============================] - 5s 4us/step - loss: 0.0045 - val_loss: 0.0043\n",
      "Epoch 87/200\n",
      "1181898/1181898 [==============================] - 5s 4us/step - loss: 0.0045 - val_loss: 0.0047\n",
      "Epoch 88/200\n",
      "1181898/1181898 [==============================] - 5s 4us/step - loss: 0.0048 - val_loss: 0.0049\n",
      "Epoch 89/200\n",
      "1181898/1181898 [==============================] - 5s 4us/step - loss: 0.0048 - val_loss: 0.0047\n",
      "Epoch 90/200\n",
      "1181898/1181898 [==============================] - 5s 4us/step - loss: 0.0048 - val_loss: 0.0046\n",
      "Epoch 91/200\n",
      "1181898/1181898 [==============================] - 5s 4us/step - loss: 0.0047 - val_loss: 0.0046\n",
      "Epoch 92/200\n",
      "1181898/1181898 [==============================] - 5s 4us/step - loss: 0.0047 - val_loss: 0.0048\n",
      "Epoch 93/200\n",
      "1181898/1181898 [==============================] - 5s 4us/step - loss: 0.0049 - val_loss: 0.0048\n",
      "Epoch 94/200\n",
      "1181898/1181898 [==============================] - 5s 4us/step - loss: 0.0049 - val_loss: 0.0049\n",
      "Epoch 95/200\n",
      "1181898/1181898 [==============================] - 5s 4us/step - loss: 0.0047 - val_loss: 0.0044\n",
      "Epoch 96/200\n",
      "1181898/1181898 [==============================] - 5s 4us/step - loss: 0.0044 - val_loss: 0.0044\n"
     ]
    }
   ],
   "source": [
    "hist = vae.fit(x_train, x_train,\n",
    "               shuffle=True,\n",
    "               epochs=epochs,\n",
    "               batch_size=batch_size,\n",
    "               validation_data=(x_val, x_val),\n",
    "               callbacks=my_callbacks)"
   ]
  },
  {
   "cell_type": "markdown",
   "metadata": {},
   "source": [
    "# Visualization"
   ]
  },
  {
   "cell_type": "code",
   "execution_count": 27,
   "metadata": {},
   "outputs": [],
   "source": [
    "import matplotlib.pyplot as plt"
   ]
  },
  {
   "cell_type": "code",
   "execution_count": 28,
   "metadata": {},
   "outputs": [
    {
     "data": {
      "image/png": "[encoded data removed]",
      "text/plain": [
       "<Figure size 432x266.991 with 1 Axes>"
      ]
     },
     "metadata": {
      "needs_background": "light"
     },
     "output_type": "display_data"
    }
   ],
   "source": [
    "golden_size = lambda width: (width, 2. * width / (1 + np.sqrt(5)))\n",
    "\n",
    "fig, ax = plt.subplots(figsize=golden_size(6))\n",
    "\n",
    "hist_df = pd.DataFrame(hist.history)\n",
    "hist_df.plot(ax=ax)\n",
    "\n",
    "ax.set_ylabel('NELBO')\n",
    "ax.set_xlabel('# epochs')\n",
    "\n",
    "ax.set_ylim(.99*hist_df[1:].values.min(), \n",
    "            1.1*hist_df[1:].values.max())\n",
    "plt.show()"
   ]
  },
  {
   "cell_type": "code",
   "execution_count": 29,
   "metadata": {},
   "outputs": [],
   "source": [
    "predictions = vae.predict(x_test)"
   ]
  },
  {
   "cell_type": "code",
   "execution_count": 66,
   "metadata": {},
   "outputs": [
    {
     "name": "stdout",
     "output_type": "stream",
     "text": [
      "tf.Tensor(0.08666188, shape=(), dtype=float32)\n"
     ]
    }
   ],
   "source": [
    "# mse on test set\n",
    "p = vae.predict(x_train)\n",
    "print(mse(p, x_train))"
   ]
  },
  {
   "cell_type": "code",
   "execution_count": 31,
   "metadata": {},
   "outputs": [],
   "source": [
    "distr = (x_test - predictions) / x_test"
   ]
  },
  {
   "cell_type": "code",
   "execution_count": 32,
   "metadata": {},
   "outputs": [],
   "source": [
    "px_pred = [row[0] for row in predictions]\n",
    "py_pred = [row[1] for row in predictions]\n",
    "pz_pred = [row[2] for row in predictions]\n",
    "e_pred = [row[3] for row in predictions]"
   ]
  },
  {
   "cell_type": "code",
   "execution_count": 33,
   "metadata": {},
   "outputs": [],
   "source": [
    "px = [row[0] for row in x_test]\n",
    "py = [row[1] for row in x_test]\n",
    "pz = [row[2] for row in x_test]\n",
    "e = [row[3] for row in x_test]"
   ]
  },
  {
   "cell_type": "code",
   "execution_count": 34,
   "metadata": {},
   "outputs": [],
   "source": [
    "overall_distr = K.flatten(distr)\n",
    "overall_pred = K.flatten(predictions)\n",
    "overall_input = K.flatten(x_test)"
   ]
  },
  {
   "cell_type": "code",
   "execution_count": 35,
   "metadata": {},
   "outputs": [
    {
     "data": {
      "text/plain": [
       "(array([   568.,    534.,    518.,    525.,    469.,    590.,    586.,\n",
       "           590.,    630.,    676.,    648.,    743.,  67992.,  21794.,\n",
       "         10046.,   6824.,   5034.,   4363.,   4293.,   4278.,   4534.,\n",
       "          6116.,  13260.,  97845., 203656.,  15557.,   9027.,   5505.,\n",
       "          3956.,   2706.,   2337.,   2190.,   1582.,   1740.,   1573.,\n",
       "          1249.,   1193.,   1040.,   1157.,   1220.,    897.,    863.,\n",
       "           912.,    821.,    745.,    686.,    707.,    664.,    648.]),\n",
       " array([-1.        , -0.95918367, -0.91836735, -0.87755102, -0.83673469,\n",
       "        -0.79591837, -0.75510204, -0.71428571, -0.67346939, -0.63265306,\n",
       "        -0.59183673, -0.55102041, -0.51020408, -0.46938776, -0.42857143,\n",
       "        -0.3877551 , -0.34693878, -0.30612245, -0.26530612, -0.2244898 ,\n",
       "        -0.18367347, -0.14285714, -0.10204082, -0.06122449, -0.02040816,\n",
       "         0.02040816,  0.06122449,  0.10204082,  0.14285714,  0.18367347,\n",
       "         0.2244898 ,  0.26530612,  0.30612245,  0.34693878,  0.3877551 ,\n",
       "         0.42857143,  0.46938776,  0.51020408,  0.55102041,  0.59183673,\n",
       "         0.63265306,  0.67346939,  0.71428571,  0.75510204,  0.79591837,\n",
       "         0.83673469,  0.87755102,  0.91836735,  0.95918367,  1.        ]),\n",
       " <a list of 49 Patch objects>)"
      ]
     },
     "execution_count": 35,
     "metadata": {},
     "output_type": "execute_result"
    },
    {
     "data": {
      "image/png": "[encoded data removed]",
      "text/plain": [
       "<Figure size 432x288 with 1 Axes>"
      ]
     },
     "metadata": {
      "needs_background": "light"
     },
     "output_type": "display_data"
    }
   ],
   "source": [
    "# overall pred vs input\n",
    "bins = np.linspace(-1, 1, 50)\n",
    "plt.hist(overall_input, bins=bins,alpha=0.5)\n",
    "plt.hist(overall_pred, bins=bins,alpha=0.5)"
   ]
  },
  {
   "cell_type": "code",
   "execution_count": 36,
   "metadata": {},
   "outputs": [
    {
     "data": {
      "text/plain": [
       "(array([  1727.,   1814.,   1977.,   2098.,   2254.,   2654.,   3199.,\n",
       "          3809.,   4231.,   4957.,   5957.,   7528.,  14519.,  25505.,\n",
       "        183924.,  31350.,  16932.,  14287.,  11718.,  10372.,  10252.,\n",
       "         10179.,  10776.,   9013.,   7307.,   6143.,   4739.,   4176.,\n",
       "          3708.]),\n",
       " array([-2.        , -1.86206897, -1.72413793, -1.5862069 , -1.44827586,\n",
       "        -1.31034483, -1.17241379, -1.03448276, -0.89655172, -0.75862069,\n",
       "        -0.62068966, -0.48275862, -0.34482759, -0.20689655, -0.06896552,\n",
       "         0.06896552,  0.20689655,  0.34482759,  0.48275862,  0.62068966,\n",
       "         0.75862069,  0.89655172,  1.03448276,  1.17241379,  1.31034483,\n",
       "         1.44827586,  1.5862069 ,  1.72413793,  1.86206897,  2.        ]),\n",
       " <a list of 29 Patch objects>)"
      ]
     },
     "execution_count": 36,
     "metadata": {},
     "output_type": "execute_result"
    },
    {
     "data": {
      "image/png": "[encoded data removed]",
      "text/plain": [
       "<Figure size 432x288 with 1 Axes>"
      ]
     },
     "metadata": {
      "needs_background": "light"
     },
     "output_type": "display_data"
    }
   ],
   "source": [
    "# overall distr\n",
    "bins = np.linspace(-2, 2, 30)\n",
    "plt.hist(overall_distr, bins=bins)"
   ]
  },
  {
   "cell_type": "markdown",
   "metadata": {},
   "source": [
    "## Stacking output (orange) over input (blue) for px, py, pz, E"
   ]
  },
  {
   "cell_type": "code",
   "execution_count": 37,
   "metadata": {},
   "outputs": [
    {
     "data": {
      "text/plain": [
       "(array([  129.,   107.,   123.,   118.,   132.,   107.,   127.,   148.,\n",
       "          156.,   157.,   151.,   316.,   870.,  2274.,  2829.,  3767.,\n",
       "        28034., 41556., 12860., 14588.,  9762.,  1285.,   670.,   582.,\n",
       "          588.,   601.,   459.,   376.,   283.,   224.,   260.,   222.,\n",
       "          171.,   162.,   155.,   123.,   122.,   126.,   107.]),\n",
       " array([-0.2       , -0.18974359, -0.17948718, -0.16923077, -0.15897436,\n",
       "        -0.14871795, -0.13846154, -0.12820513, -0.11794872, -0.10769231,\n",
       "        -0.0974359 , -0.08717949, -0.07692308, -0.06666667, -0.05641026,\n",
       "        -0.04615385, -0.03589744, -0.02564103, -0.01538462, -0.00512821,\n",
       "         0.00512821,  0.01538462,  0.02564103,  0.03589744,  0.04615385,\n",
       "         0.05641026,  0.06666667,  0.07692308,  0.08717949,  0.0974359 ,\n",
       "         0.10769231,  0.11794872,  0.12820513,  0.13846154,  0.14871795,\n",
       "         0.15897436,  0.16923077,  0.17948718,  0.18974359,  0.2       ]),\n",
       " <a list of 39 Patch objects>)"
      ]
     },
     "execution_count": 37,
     "metadata": {},
     "output_type": "execute_result"
    },
    {
     "data": {
      "image/png": "[encoded data removed]",
      "text/plain": [
       "<Figure size 432x288 with 1 Axes>"
      ]
     },
     "metadata": {
      "needs_background": "light"
     },
     "output_type": "display_data"
    }
   ],
   "source": [
    "# px\n",
    "bins = np.linspace(-0.2, 0.2, 40)\n",
    "plt.hist(px, bins=bins,alpha=0.5)\n",
    "plt.hist(px_pred, bins=bins,alpha=0.5)"
   ]
  },
  {
   "cell_type": "code",
   "execution_count": 38,
   "metadata": {},
   "outputs": [
    {
     "name": "stdout",
     "output_type": "stream",
     "text": [
      "tf.Tensor(0.14545695, shape=(), dtype=float32)\n"
     ]
    }
   ],
   "source": [
    "print(mse(px,px_pred))"
   ]
  },
  {
   "cell_type": "code",
   "execution_count": 39,
   "metadata": {},
   "outputs": [
    {
     "data": {
      "text/plain": [
       "(array([   94.,   113.,   110.,   111.,   126.,   157.,   243.,   394.,\n",
       "          304.,   298.,   341.,   429.,   924.,  1572.,  2154.,  4174.,\n",
       "         8363.,  5594.,  8020., 78603.,  5420.,   372.,   372.,   396.,\n",
       "          380.,   393.,   799.,   519.,   411.,   338.,   299.,   308.,\n",
       "          193.,   145.,   134.,   122.,   129.,    87.,   115.]),\n",
       " array([-0.2       , -0.18974359, -0.17948718, -0.16923077, -0.15897436,\n",
       "        -0.14871795, -0.13846154, -0.12820513, -0.11794872, -0.10769231,\n",
       "        -0.0974359 , -0.08717949, -0.07692308, -0.06666667, -0.05641026,\n",
       "        -0.04615385, -0.03589744, -0.02564103, -0.01538462, -0.00512821,\n",
       "         0.00512821,  0.01538462,  0.02564103,  0.03589744,  0.04615385,\n",
       "         0.05641026,  0.06666667,  0.07692308,  0.08717949,  0.0974359 ,\n",
       "         0.10769231,  0.11794872,  0.12820513,  0.13846154,  0.14871795,\n",
       "         0.15897436,  0.16923077,  0.17948718,  0.18974359,  0.2       ]),\n",
       " <a list of 39 Patch objects>)"
      ]
     },
     "execution_count": 39,
     "metadata": {},
     "output_type": "execute_result"
    },
    {
     "data": {
      "image/png": "[encoded data removed]",
      "text/plain": [
       "<Figure size 432x288 with 1 Axes>"
      ]
     },
     "metadata": {
      "needs_background": "light"
     },
     "output_type": "display_data"
    }
   ],
   "source": [
    "# py\n",
    "bins = np.linspace(-0.2, 0.2, 40)\n",
    "plt.hist(py, bins=bins,alpha=0.5)\n",
    "plt.hist(py_pred, bins=bins,alpha=0.5)"
   ]
  },
  {
   "cell_type": "code",
   "execution_count": 40,
   "metadata": {},
   "outputs": [
    {
     "name": "stdout",
     "output_type": "stream",
     "text": [
      "tf.Tensor(0.18967232, shape=(), dtype=float32)\n"
     ]
    }
   ],
   "source": [
    "print(mse(py,py_pred))"
   ]
  },
  {
   "cell_type": "code",
   "execution_count": 41,
   "metadata": {},
   "outputs": [
    {
     "data": {
      "text/plain": [
       "(array([  372.,   380.,   427.,   482.,   512.,   511.,   548.,   621.,\n",
       "          718.,   834.,   889.,  1072.,  1349.,  1534.,  1747.,  3181.,\n",
       "         4793.,  8309., 16084., 44045.,  9854.,  4966.,  3268.,  2387.,\n",
       "         1802.,  1499.,  1388.,   790.,   721.,   843.,   899.,   462.,\n",
       "          499.,   624.,   504.,   529.,   389.,   402.,   386.]),\n",
       " array([-0.5       , -0.47435897, -0.44871795, -0.42307692, -0.3974359 ,\n",
       "        -0.37179487, -0.34615385, -0.32051282, -0.29487179, -0.26923077,\n",
       "        -0.24358974, -0.21794872, -0.19230769, -0.16666667, -0.14102564,\n",
       "        -0.11538462, -0.08974359, -0.06410256, -0.03846154, -0.01282051,\n",
       "         0.01282051,  0.03846154,  0.06410256,  0.08974359,  0.11538462,\n",
       "         0.14102564,  0.16666667,  0.19230769,  0.21794872,  0.24358974,\n",
       "         0.26923077,  0.29487179,  0.32051282,  0.34615385,  0.37179487,\n",
       "         0.3974359 ,  0.42307692,  0.44871795,  0.47435897,  0.5       ]),\n",
       " <a list of 39 Patch objects>)"
      ]
     },
     "execution_count": 41,
     "metadata": {},
     "output_type": "execute_result"
    },
    {
     "data": {
      "image/png": "[encoded data removed]",
      "text/plain": [
       "<Figure size 432x288 with 1 Axes>"
      ]
     },
     "metadata": {
      "needs_background": "light"
     },
     "output_type": "display_data"
    }
   ],
   "source": [
    "# pz\n",
    "bins = np.linspace(-0.5, 0.5, 40)\n",
    "plt.hist(pz, bins=bins,alpha=0.5)\n",
    "plt.hist(pz_pred, bins=bins,alpha=0.5)"
   ]
  },
  {
   "cell_type": "code",
   "execution_count": 42,
   "metadata": {},
   "outputs": [
    {
     "name": "stdout",
     "output_type": "stream",
     "text": [
      "tf.Tensor(0.0073313154, shape=(), dtype=float32)\n"
     ]
    }
   ],
   "source": [
    "print(mse(pz,pz_pred))"
   ]
  },
  {
   "cell_type": "code",
   "execution_count": 43,
   "metadata": {},
   "outputs": [
    {
     "data": {
      "text/plain": [
       "(array([    0.,     0.,     0.,     0., 46347., 27124., 11362.,  7046.,\n",
       "         4618.,  3600.,  2975.,  2292.,  1999.,  1608.,  1531.,  1220.,\n",
       "         1073.,   892.,   723.,   633.,   578.,   579.,   488.,   503.,\n",
       "          504.,   423.,   400.,   374.,   234.,   226.,   334.,   320.,\n",
       "          321.,   350.,   323.,   293.,   295.,   243.,   221.]),\n",
       " array([-0.6       , -0.57692308, -0.55384615, -0.53076923, -0.50769231,\n",
       "        -0.48461538, -0.46153846, -0.43846154, -0.41538462, -0.39230769,\n",
       "        -0.36923077, -0.34615385, -0.32307692, -0.3       , -0.27692308,\n",
       "        -0.25384615, -0.23076923, -0.20769231, -0.18461538, -0.16153846,\n",
       "        -0.13846154, -0.11538462, -0.09230769, -0.06923077, -0.04615385,\n",
       "        -0.02307692,  0.        ,  0.02307692,  0.04615385,  0.06923077,\n",
       "         0.09230769,  0.11538462,  0.13846154,  0.16153846,  0.18461538,\n",
       "         0.20769231,  0.23076923,  0.25384615,  0.27692308,  0.3       ]),\n",
       " <a list of 39 Patch objects>)"
      ]
     },
     "execution_count": 43,
     "metadata": {},
     "output_type": "execute_result"
    },
    {
     "data": {
      "image/png": "[encoded data removed]",
      "text/plain": [
       "<Figure size 432x288 with 1 Axes>"
      ]
     },
     "metadata": {
      "needs_background": "light"
     },
     "output_type": "display_data"
    }
   ],
   "source": [
    "# E\n",
    "bins = np.linspace(-0.6,0.3, 40)\n",
    "plt.hist(e, bins=bins,alpha=0.5)\n",
    "plt.hist(e_pred, bins=bins,alpha=0.5)"
   ]
  },
  {
   "cell_type": "code",
   "execution_count": 44,
   "metadata": {},
   "outputs": [
    {
     "name": "stdout",
     "output_type": "stream",
     "text": [
      "tf.Tensor(0.0044255396, shape=(), dtype=float32)\n"
     ]
    }
   ],
   "source": [
    "print(mse(e,e_pred))"
   ]
  },
  {
   "cell_type": "code",
   "execution_count": 45,
   "metadata": {},
   "outputs": [],
   "source": [
    "d_px = [row[0] for row in distr]\n",
    "d_py = [row[1] for row in distr]\n",
    "d_pz = [row[2] for row in distr]\n",
    "d_e = [row[3] for row in distr]"
   ]
  },
  {
   "cell_type": "markdown",
   "metadata": {},
   "source": [
    "## Distribution of (input - output) / input"
   ]
  },
  {
   "cell_type": "code",
   "execution_count": 46,
   "metadata": {},
   "outputs": [],
   "source": [
    "bins = np.linspace(-2, 2, 30)"
   ]
  },
  {
   "cell_type": "code",
   "execution_count": 47,
   "metadata": {},
   "outputs": [
    {
     "data": {
      "text/plain": [
       "(array([ 530.,  518.,  599.,  597.,  632.,  651.,  660.,  775.,  840.,\n",
       "         953., 1110., 1247., 1778., 2679., 4631., 5548., 3616., 3380.,\n",
       "        2998., 2873., 3414., 3599., 3527., 2544., 1908., 1588., 1324.,\n",
       "        1192., 1063.]),\n",
       " array([-2.        , -1.86206897, -1.72413793, -1.5862069 , -1.44827586,\n",
       "        -1.31034483, -1.17241379, -1.03448276, -0.89655172, -0.75862069,\n",
       "        -0.62068966, -0.48275862, -0.34482759, -0.20689655, -0.06896552,\n",
       "         0.06896552,  0.20689655,  0.34482759,  0.48275862,  0.62068966,\n",
       "         0.75862069,  0.89655172,  1.03448276,  1.17241379,  1.31034483,\n",
       "         1.44827586,  1.5862069 ,  1.72413793,  1.86206897,  2.        ]),\n",
       " <a list of 29 Patch objects>)"
      ]
     },
     "execution_count": 47,
     "metadata": {},
     "output_type": "execute_result"
    },
    {
     "data": {
      "image/png": "[encoded data removed]",
      "text/plain": [
       "<Figure size 432x288 with 1 Axes>"
      ]
     },
     "metadata": {
      "needs_background": "light"
     },
     "output_type": "display_data"
    }
   ],
   "source": [
    "plt.hist(d_px, bins=bins)"
   ]
  },
  {
   "cell_type": "code",
   "execution_count": 48,
   "metadata": {},
   "outputs": [
    {
     "data": {
      "text/plain": [
       "(array([ 816.,  889.,  920.,  981., 1024., 1101., 1199., 1402., 1491.,\n",
       "        1716., 1980., 2222., 2683., 3377., 4480., 5856., 5037., 4605.,\n",
       "        4363., 4330., 4568., 4881., 4544., 4091., 3319., 2765., 2429.,\n",
       "        2178., 1912.]),\n",
       " array([-2.        , -1.86206897, -1.72413793, -1.5862069 , -1.44827586,\n",
       "        -1.31034483, -1.17241379, -1.03448276, -0.89655172, -0.75862069,\n",
       "        -0.62068966, -0.48275862, -0.34482759, -0.20689655, -0.06896552,\n",
       "         0.06896552,  0.20689655,  0.34482759,  0.48275862,  0.62068966,\n",
       "         0.75862069,  0.89655172,  1.03448276,  1.17241379,  1.31034483,\n",
       "         1.44827586,  1.5862069 ,  1.72413793,  1.86206897,  2.        ]),\n",
       " <a list of 29 Patch objects>)"
      ]
     },
     "execution_count": 48,
     "metadata": {},
     "output_type": "execute_result"
    },
    {
     "data": {
      "image/png": "[encoded data removed]",
      "text/plain": [
       "<Figure size 432x288 with 1 Axes>"
      ]
     },
     "metadata": {
      "needs_background": "light"
     },
     "output_type": "display_data"
    }
   ],
   "source": [
    "plt.hist(d_py, bins=bins)"
   ]
  },
  {
   "cell_type": "code",
   "execution_count": 49,
   "metadata": {},
   "outputs": [
    {
     "data": {
      "text/plain": [
       "(array([  368.,   397.,   431.,   499.,   572.,   866.,  1296.,  1578.,\n",
       "         1825.,  2162.,  2628.,  3621.,  9039., 13905., 40507., 15771.,\n",
       "         7579.,  6084.,  4252.,  3097.,  2214.,  1666.,  2685.,  2358.,\n",
       "         2060.,  1779.,   978.,   795.,   725.]),\n",
       " array([-2.        , -1.86206897, -1.72413793, -1.5862069 , -1.44827586,\n",
       "        -1.31034483, -1.17241379, -1.03448276, -0.89655172, -0.75862069,\n",
       "        -0.62068966, -0.48275862, -0.34482759, -0.20689655, -0.06896552,\n",
       "         0.06896552,  0.20689655,  0.34482759,  0.48275862,  0.62068966,\n",
       "         0.75862069,  0.89655172,  1.03448276,  1.17241379,  1.31034483,\n",
       "         1.44827586,  1.5862069 ,  1.72413793,  1.86206897,  2.        ]),\n",
       " <a list of 29 Patch objects>)"
      ]
     },
     "execution_count": 49,
     "metadata": {},
     "output_type": "execute_result"
    },
    {
     "data": {
      "image/png": "[encoded data removed]",
      "text/plain": [
       "<Figure size 432x288 with 1 Axes>"
      ]
     },
     "metadata": {
      "needs_background": "light"
     },
     "output_type": "display_data"
    }
   ],
   "source": [
    "plt.hist(d_pz, bins=bins)"
   ]
  },
  {
   "cell_type": "code",
   "execution_count": 50,
   "metadata": {},
   "outputs": [
    {
     "data": {
      "text/plain": [
       "(array([1.30000e+01, 1.00000e+01, 2.70000e+01, 2.10000e+01, 2.60000e+01,\n",
       "        3.60000e+01, 4.40000e+01, 5.40000e+01, 7.50000e+01, 1.26000e+02,\n",
       "        2.39000e+02, 4.38000e+02, 1.01900e+03, 5.54400e+03, 1.34306e+05,\n",
       "        4.17500e+03, 7.00000e+02, 2.18000e+02, 1.05000e+02, 7.20000e+01,\n",
       "        5.60000e+01, 3.30000e+01, 2.00000e+01, 2.00000e+01, 2.00000e+01,\n",
       "        1.10000e+01, 8.00000e+00, 1.10000e+01, 8.00000e+00]),\n",
       " array([-2.        , -1.86206897, -1.72413793, -1.5862069 , -1.44827586,\n",
       "        -1.31034483, -1.17241379, -1.03448276, -0.89655172, -0.75862069,\n",
       "        -0.62068966, -0.48275862, -0.34482759, -0.20689655, -0.06896552,\n",
       "         0.06896552,  0.20689655,  0.34482759,  0.48275862,  0.62068966,\n",
       "         0.75862069,  0.89655172,  1.03448276,  1.17241379,  1.31034483,\n",
       "         1.44827586,  1.5862069 ,  1.72413793,  1.86206897,  2.        ]),\n",
       " <a list of 29 Patch objects>)"
      ]
     },
     "execution_count": 50,
     "metadata": {},
     "output_type": "execute_result"
    },
    {
     "data": {
      "image/png": "[encoded data removed]",
      "text/plain": [
       "<Figure size 432x288 with 1 Axes>"
      ]
     },
     "metadata": {
      "needs_background": "light"
     },
     "output_type": "display_data"
    }
   ],
   "source": [
    "plt.hist(d_e, bins=bins)"
   ]
  },
  {
   "cell_type": "markdown",
   "metadata": {},
   "source": [
    "# Anomaly Detection"
   ]
  },
  {
   "cell_type": "code",
   "execution_count": 51,
   "metadata": {},
   "outputs": [],
   "source": [
    "from sklearn.metrics import mean_squared_error"
   ]
  },
  {
   "cell_type": "code",
   "execution_count": 72,
   "metadata": {},
   "outputs": [],
   "source": [
    "all_data = np.concatenate((x_train, x_val, x_test))\n",
    "all_pred = vae.predict(all_data)"
   ]
  },
  {
   "cell_type": "code",
   "execution_count": 75,
   "metadata": {},
   "outputs": [],
   "source": [
    "# get the mse of all predictions\n",
    "errors = (np.square(all_data - all_pred)).mean(axis=1)\n",
    "mse_thresh = np.quantile(errors,0.95)"
   ]
  },
  {
   "cell_type": "code",
   "execution_count": 102,
   "metadata": {},
   "outputs": [],
   "source": [
    "# all the inputs that had high mse\n",
    "data_df = pd.DataFrame(data)\n",
    "data_df[\"mse\"] = errors\n",
    "data_df[\"outlier\"] = 0"
   ]
  },
  {
   "cell_type": "code",
   "execution_count": 103,
   "metadata": {},
   "outputs": [],
   "source": [
    "data_df.loc[data_df[\"mse\"] > mse_thresh, \"outlier\"] = 1"
   ]
  },
  {
   "cell_type": "code",
   "execution_count": 104,
   "metadata": {},
   "outputs": [
    {
     "data": {
      "text/html": [
       "<div>\n",
       "<style scoped>\n",
       "    .dataframe tbody tr th:only-of-type {\n",
       "        vertical-align: middle;\n",
       "    }\n",
       "\n",
       "    .dataframe tbody tr th {\n",
       "        vertical-align: top;\n",
       "    }\n",
       "\n",
       "    .dataframe thead th {\n",
       "        text-align: right;\n",
       "    }\n",
       "</style>\n",
       "<table border=\"1\" class=\"dataframe\">\n",
       "  <thead>\n",
       "    <tr style=\"text-align: right;\">\n",
       "      <th></th>\n",
       "      <th>0</th>\n",
       "      <th>1</th>\n",
       "      <th>2</th>\n",
       "      <th>3</th>\n",
       "      <th>mse</th>\n",
       "      <th>outlier</th>\n",
       "    </tr>\n",
       "  </thead>\n",
       "  <tbody>\n",
       "    <tr>\n",
       "      <th>35</th>\n",
       "      <td>-1317.691456</td>\n",
       "      <td>389.936193</td>\n",
       "      <td>-1302.594766</td>\n",
       "      <td>1905.577540</td>\n",
       "      <td>1.038930</td>\n",
       "      <td>1</td>\n",
       "    </tr>\n",
       "    <tr>\n",
       "      <th>36</th>\n",
       "      <td>1225.550883</td>\n",
       "      <td>-382.376007</td>\n",
       "      <td>-1222.392092</td>\n",
       "      <td>1793.310317</td>\n",
       "      <td>1.230168</td>\n",
       "      <td>1</td>\n",
       "    </tr>\n",
       "    <tr>\n",
       "      <th>49</th>\n",
       "      <td>878.307028</td>\n",
       "      <td>1182.994300</td>\n",
       "      <td>1984.545138</td>\n",
       "      <td>2597.609007</td>\n",
       "      <td>0.782682</td>\n",
       "      <td>1</td>\n",
       "    </tr>\n",
       "    <tr>\n",
       "      <th>80</th>\n",
       "      <td>140.122818</td>\n",
       "      <td>1264.068574</td>\n",
       "      <td>1801.851240</td>\n",
       "      <td>2218.464338</td>\n",
       "      <td>0.518260</td>\n",
       "      <td>1</td>\n",
       "    </tr>\n",
       "    <tr>\n",
       "      <th>82</th>\n",
       "      <td>27.228548</td>\n",
       "      <td>-424.471893</td>\n",
       "      <td>848.325220</td>\n",
       "      <td>950.819532</td>\n",
       "      <td>0.530928</td>\n",
       "      <td>1</td>\n",
       "    </tr>\n",
       "    <tr>\n",
       "      <th>...</th>\n",
       "      <td>...</td>\n",
       "      <td>...</td>\n",
       "      <td>...</td>\n",
       "      <td>...</td>\n",
       "      <td>...</td>\n",
       "      <td>...</td>\n",
       "    </tr>\n",
       "    <tr>\n",
       "      <th>1477207</th>\n",
       "      <td>1228.977610</td>\n",
       "      <td>-98.320090</td>\n",
       "      <td>-1476.941705</td>\n",
       "      <td>1947.488851</td>\n",
       "      <td>1.016722</td>\n",
       "      <td>1</td>\n",
       "    </tr>\n",
       "    <tr>\n",
       "      <th>1477241</th>\n",
       "      <td>849.959136</td>\n",
       "      <td>1231.328523</td>\n",
       "      <td>-428.464252</td>\n",
       "      <td>1580.165863</td>\n",
       "      <td>0.964958</td>\n",
       "      <td>1</td>\n",
       "    </tr>\n",
       "    <tr>\n",
       "      <th>1477299</th>\n",
       "      <td>-1035.056312</td>\n",
       "      <td>797.041979</td>\n",
       "      <td>-207.496224</td>\n",
       "      <td>1327.057082</td>\n",
       "      <td>0.840354</td>\n",
       "      <td>1</td>\n",
       "    </tr>\n",
       "    <tr>\n",
       "      <th>1477316</th>\n",
       "      <td>-1183.348263</td>\n",
       "      <td>266.011832</td>\n",
       "      <td>2203.505011</td>\n",
       "      <td>2527.528651</td>\n",
       "      <td>1.261836</td>\n",
       "      <td>1</td>\n",
       "    </tr>\n",
       "    <tr>\n",
       "      <th>1477331</th>\n",
       "      <td>303.201981</td>\n",
       "      <td>1254.147727</td>\n",
       "      <td>-685.001457</td>\n",
       "      <td>1483.064879</td>\n",
       "      <td>1.937530</td>\n",
       "      <td>1</td>\n",
       "    </tr>\n",
       "  </tbody>\n",
       "</table>\n",
       "<p>73869 rows × 6 columns</p>\n",
       "</div>"
      ],
      "text/plain": [
       "                   0            1            2            3       mse  outlier\n",
       "35      -1317.691456   389.936193 -1302.594766  1905.577540  1.038930        1\n",
       "36       1225.550883  -382.376007 -1222.392092  1793.310317  1.230168        1\n",
       "49        878.307028  1182.994300  1984.545138  2597.609007  0.782682        1\n",
       "80        140.122818  1264.068574  1801.851240  2218.464338  0.518260        1\n",
       "82         27.228548  -424.471893   848.325220   950.819532  0.530928        1\n",
       "...              ...          ...          ...          ...       ...      ...\n",
       "1477207  1228.977610   -98.320090 -1476.941705  1947.488851  1.016722        1\n",
       "1477241   849.959136  1231.328523  -428.464252  1580.165863  0.964958        1\n",
       "1477299 -1035.056312   797.041979  -207.496224  1327.057082  0.840354        1\n",
       "1477316 -1183.348263   266.011832  2203.505011  2527.528651  1.261836        1\n",
       "1477331   303.201981  1254.147727  -685.001457  1483.064879  1.937530        1\n",
       "\n",
       "[73869 rows x 6 columns]"
      ]
     },
     "execution_count": 104,
     "metadata": {},
     "output_type": "execute_result"
    }
   ],
   "source": [
    "data_df.loc[data_df[\"outlier\"] == 1]"
   ]
  },
  {
   "cell_type": "code",
   "execution_count": null,
   "metadata": {},
   "outputs": [],
   "source": []
  }
 ],
 "metadata": {
  "kernelspec": {
   "display_name": "Python 3",
   "language": "python",
   "name": "python3"
  },
  "language_info": {
   "codemirror_mode": {
    "name": "ipython",
    "version": 3
   },
   "file_extension": ".py",
   "mimetype": "text/x-python",
   "name": "python",
   "nbconvert_exporter": "python",
   "pygments_lexer": "ipython3",
   "version": "3.7.6"
  }
 },
 "nbformat": 4,
 "nbformat_minor": 4
}
