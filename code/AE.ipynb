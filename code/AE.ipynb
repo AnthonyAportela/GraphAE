{
 "cells": [
  {
   "cell_type": "code",
   "execution_count": 56,
   "metadata": {},
   "outputs": [
    {
     "ename": "ModuleNotFoundError",
     "evalue": "No module named 'energyflow'",
     "output_type": "error",
     "traceback": [
      "\u001b[0;31m---------------------------------------------------------------------------\u001b[0m",
      "\u001b[0;31mModuleNotFoundError\u001b[0m                       Traceback (most recent call last)",
      "\u001b[0;32m<ipython-input-56-0cf885840add>\u001b[0m in \u001b[0;36m<module>\u001b[0;34m\u001b[0m\n\u001b[1;32m      6\u001b[0m \u001b[0;32mimport\u001b[0m \u001b[0mtensorflow\u001b[0m \u001b[0;32mas\u001b[0m \u001b[0mtf\u001b[0m\u001b[0;34m\u001b[0m\u001b[0;34m\u001b[0m\u001b[0m\n\u001b[1;32m      7\u001b[0m \u001b[0;32mimport\u001b[0m \u001b[0mmath\u001b[0m\u001b[0;34m\u001b[0m\u001b[0;34m\u001b[0m\u001b[0m\n\u001b[0;32m----> 8\u001b[0;31m \u001b[0;32mimport\u001b[0m \u001b[0menergyflow\u001b[0m \u001b[0;32mas\u001b[0m \u001b[0mef\u001b[0m\u001b[0;34m\u001b[0m\u001b[0;34m\u001b[0m\u001b[0m\n\u001b[0m",
      "\u001b[0;31mModuleNotFoundError\u001b[0m: No module named 'energyflow'"
     ]
    }
   ],
   "source": [
    "import pandas as pd\n",
    "import numpy as np\n",
    "from pyjet import cluster,DTYPE_PTEPM\n",
    "from sklearn import preprocessing\n",
    "from scipy.stats import iqr\n",
    "import tensorflow as tf\n",
    "import math"
   ]
  },
  {
   "cell_type": "markdown",
   "metadata": {},
   "source": [
    "# Pre processing"
   ]
  },
  {
   "cell_type": "code",
   "execution_count": 2,
   "metadata": {},
   "outputs": [],
   "source": [
    "path = '/anomalyvol/data/jet_ver/bb3_ae_input_leading2.h5'  # just leading 2 tags for each event"
   ]
  },
  {
   "cell_type": "code",
   "execution_count": 3,
   "metadata": {},
   "outputs": [],
   "source": [
    "chunk_size = 100000\n",
    "total_size = 1000000 # 1 mil max\n",
    "\n",
    "def generator(path, chunk_size=10000,total_size=1000000):\n",
    "    i = 0\n",
    "    \n",
    "    while True:\n",
    "        yield pd.read_hdf(path,start=i*chunk_size, stop=(i+1)*chunk_size)\n",
    "        \n",
    "        i+=1\n",
    "        if (i+1)*chunk_size > total_size:\n",
    "            i=0\n",
    "\n",
    "gen = generator(path, chunk_size, total_size)"
   ]
  },
  {
   "cell_type": "code",
   "execution_count": 4,
   "metadata": {},
   "outputs": [],
   "source": [
    "data = next(gen)\n",
    "\n",
    "for i in range(total_size // chunk_size - 1):\n",
    "    data.append(next(gen))"
   ]
  },
  {
   "cell_type": "code",
   "execution_count": 5,
   "metadata": {},
   "outputs": [],
   "source": [
    "loaded_data = data\n",
    "# data = loaded_data"
   ]
  },
  {
   "cell_type": "code",
   "execution_count": 6,
   "metadata": {},
   "outputs": [
    {
     "data": {
      "text/html": [
       "<div>\n",
       "<style scoped>\n",
       "    .dataframe tbody tr th:only-of-type {\n",
       "        vertical-align: middle;\n",
       "    }\n",
       "\n",
       "    .dataframe tbody tr th {\n",
       "        vertical-align: top;\n",
       "    }\n",
       "\n",
       "    .dataframe thead th {\n",
       "        text-align: right;\n",
       "    }\n",
       "</style>\n",
       "<table border=\"1\" class=\"dataframe\">\n",
       "  <thead>\n",
       "    <tr style=\"text-align: right;\">\n",
       "      <th></th>\n",
       "      <th>px</th>\n",
       "      <th>py</th>\n",
       "      <th>pz</th>\n",
       "      <th>e</th>\n",
       "      <th>pt</th>\n",
       "      <th>eta</th>\n",
       "      <th>phi</th>\n",
       "      <th>mass</th>\n",
       "      <th>event</th>\n",
       "    </tr>\n",
       "  </thead>\n",
       "  <tbody>\n",
       "    <tr>\n",
       "      <th>0</th>\n",
       "      <td>-246.611967</td>\n",
       "      <td>-1175.708801</td>\n",
       "      <td>-1883.403633</td>\n",
       "      <td>2243.389820</td>\n",
       "      <td>1201.294571</td>\n",
       "      <td>-1.231799</td>\n",
       "      <td>-1.777555</td>\n",
       "      <td>206.106750</td>\n",
       "      <td>0</td>\n",
       "    </tr>\n",
       "    <tr>\n",
       "      <th>1</th>\n",
       "      <td>225.046695</td>\n",
       "      <td>1100.375754</td>\n",
       "      <td>-28.057311</td>\n",
       "      <td>1198.183978</td>\n",
       "      <td>1123.153068</td>\n",
       "      <td>-0.024978</td>\n",
       "      <td>1.369060</td>\n",
       "      <td>416.395028</td>\n",
       "      <td>0</td>\n",
       "    </tr>\n",
       "    <tr>\n",
       "      <th>2</th>\n",
       "      <td>-1334.635429</td>\n",
       "      <td>-70.470841</td>\n",
       "      <td>-236.450266</td>\n",
       "      <td>1359.133310</td>\n",
       "      <td>1336.494619</td>\n",
       "      <td>-0.176008</td>\n",
       "      <td>-3.088840</td>\n",
       "      <td>71.531523</td>\n",
       "      <td>1</td>\n",
       "    </tr>\n",
       "    <tr>\n",
       "      <th>3</th>\n",
       "      <td>1078.256600</td>\n",
       "      <td>-8.640365</td>\n",
       "      <td>53.734438</td>\n",
       "      <td>1106.628835</td>\n",
       "      <td>1078.291218</td>\n",
       "      <td>0.049812</td>\n",
       "      <td>-0.008013</td>\n",
       "      <td>242.956863</td>\n",
       "      <td>1</td>\n",
       "    </tr>\n",
       "    <tr>\n",
       "      <th>4</th>\n",
       "      <td>-1181.287513</td>\n",
       "      <td>408.154270</td>\n",
       "      <td>-844.470992</td>\n",
       "      <td>1522.847041</td>\n",
       "      <td>1249.812024</td>\n",
       "      <td>-0.632628</td>\n",
       "      <td>2.808918</td>\n",
       "      <td>209.527459</td>\n",
       "      <td>2</td>\n",
       "    </tr>\n",
       "    <tr>\n",
       "      <th>...</th>\n",
       "      <td>...</td>\n",
       "      <td>...</td>\n",
       "      <td>...</td>\n",
       "      <td>...</td>\n",
       "      <td>...</td>\n",
       "      <td>...</td>\n",
       "      <td>...</td>\n",
       "      <td>...</td>\n",
       "      <td>...</td>\n",
       "    </tr>\n",
       "    <tr>\n",
       "      <th>99995</th>\n",
       "      <td>533.376849</td>\n",
       "      <td>1045.464759</td>\n",
       "      <td>-649.226314</td>\n",
       "      <td>1384.321422</td>\n",
       "      <td>1173.664103</td>\n",
       "      <td>-0.528249</td>\n",
       "      <td>1.099037</td>\n",
       "      <td>342.583665</td>\n",
       "      <td>49997</td>\n",
       "    </tr>\n",
       "    <tr>\n",
       "      <th>99996</th>\n",
       "      <td>1668.842257</td>\n",
       "      <td>-59.777430</td>\n",
       "      <td>1061.132453</td>\n",
       "      <td>1992.237394</td>\n",
       "      <td>1669.912519</td>\n",
       "      <td>0.598978</td>\n",
       "      <td>-0.035804</td>\n",
       "      <td>233.237928</td>\n",
       "      <td>49998</td>\n",
       "    </tr>\n",
       "    <tr>\n",
       "      <th>99997</th>\n",
       "      <td>-1292.798663</td>\n",
       "      <td>-590.225210</td>\n",
       "      <td>922.351953</td>\n",
       "      <td>1699.146599</td>\n",
       "      <td>1421.159450</td>\n",
       "      <td>0.610397</td>\n",
       "      <td>-2.713306</td>\n",
       "      <td>129.119548</td>\n",
       "      <td>49998</td>\n",
       "    </tr>\n",
       "    <tr>\n",
       "      <th>99998</th>\n",
       "      <td>-1141.014921</td>\n",
       "      <td>-550.535492</td>\n",
       "      <td>1393.159459</td>\n",
       "      <td>1889.935699</td>\n",
       "      <td>1266.887674</td>\n",
       "      <td>0.950126</td>\n",
       "      <td>-2.692046</td>\n",
       "      <td>161.118872</td>\n",
       "      <td>49999</td>\n",
       "    </tr>\n",
       "    <tr>\n",
       "      <th>99999</th>\n",
       "      <td>950.889135</td>\n",
       "      <td>803.669440</td>\n",
       "      <td>1845.424434</td>\n",
       "      <td>2231.640170</td>\n",
       "      <td>1245.019966</td>\n",
       "      <td>1.184874</td>\n",
       "      <td>0.701687</td>\n",
       "      <td>156.690109</td>\n",
       "      <td>49999</td>\n",
       "    </tr>\n",
       "  </tbody>\n",
       "</table>\n",
       "<p>100000 rows × 9 columns</p>\n",
       "</div>"
      ],
      "text/plain": [
       "                px           py           pz            e           pt  \\\n",
       "0      -246.611967 -1175.708801 -1883.403633  2243.389820  1201.294571   \n",
       "1       225.046695  1100.375754   -28.057311  1198.183978  1123.153068   \n",
       "2     -1334.635429   -70.470841  -236.450266  1359.133310  1336.494619   \n",
       "3      1078.256600    -8.640365    53.734438  1106.628835  1078.291218   \n",
       "4     -1181.287513   408.154270  -844.470992  1522.847041  1249.812024   \n",
       "...            ...          ...          ...          ...          ...   \n",
       "99995   533.376849  1045.464759  -649.226314  1384.321422  1173.664103   \n",
       "99996  1668.842257   -59.777430  1061.132453  1992.237394  1669.912519   \n",
       "99997 -1292.798663  -590.225210   922.351953  1699.146599  1421.159450   \n",
       "99998 -1141.014921  -550.535492  1393.159459  1889.935699  1266.887674   \n",
       "99999   950.889135   803.669440  1845.424434  2231.640170  1245.019966   \n",
       "\n",
       "            eta       phi        mass  event  \n",
       "0     -1.231799 -1.777555  206.106750      0  \n",
       "1     -0.024978  1.369060  416.395028      0  \n",
       "2     -0.176008 -3.088840   71.531523      1  \n",
       "3      0.049812 -0.008013  242.956863      1  \n",
       "4     -0.632628  2.808918  209.527459      2  \n",
       "...         ...       ...         ...    ...  \n",
       "99995 -0.528249  1.099037  342.583665  49997  \n",
       "99996  0.598978 -0.035804  233.237928  49998  \n",
       "99997  0.610397 -2.713306  129.119548  49998  \n",
       "99998  0.950126 -2.692046  161.118872  49999  \n",
       "99999  1.184874  0.701687  156.690109  49999  \n",
       "\n",
       "[100000 rows x 9 columns]"
      ]
     },
     "execution_count": 6,
     "metadata": {},
     "output_type": "execute_result"
    }
   ],
   "source": [
    "loaded_data"
   ]
  },
  {
   "cell_type": "code",
   "execution_count": 7,
   "metadata": {},
   "outputs": [
    {
     "data": {
      "text/plain": [
       "(100000, 4)"
      ]
     },
     "execution_count": 7,
     "metadata": {},
     "output_type": "execute_result"
    }
   ],
   "source": [
    "data = np.array(data)\n",
    "data = data[:,:4]  # just keep px, py, pz, e\n",
    "data.shape"
   ]
  },
  {
   "cell_type": "code",
   "execution_count": 8,
   "metadata": {},
   "outputs": [],
   "source": [
    "# splitting data\n",
    "x_train = data[0:int(len(data) * 0.8)]\n",
    "x_val = data[int(len(data) * 0.8):int(len(data) * 0.9)]\n",
    "x_test = data[int(len(data) * 0.9):]"
   ]
  },
  {
   "cell_type": "code",
   "execution_count": 9,
   "metadata": {},
   "outputs": [],
   "source": [
    "# regularize\n",
    "scaler = preprocessing.StandardScaler()\n",
    "x_train = scaler.fit_transform(x_train)\n",
    "x_val = scaler.transform(x_val)\n",
    "x_test = scaler.transform(x_test)"
   ]
  },
  {
   "cell_type": "code",
   "execution_count": 10,
   "metadata": {},
   "outputs": [
    {
     "name": "stdout",
     "output_type": "stream",
     "text": [
      "[0.9978627  1.         0.67718086 0.58845679]\n"
     ]
    }
   ],
   "source": [
    "# get the inverse iqr proportion for each feature used to scale their weights in the loss function\n",
    "iqr_prop = iqr(x_train,axis = 0)\n",
    "max_iqr = max(iqr_prop)\n",
    "iqr_prop = np.array(iqr_prop) / max_iqr\n",
    "print(iqr_prop)"
   ]
  },
  {
   "cell_type": "markdown",
   "metadata": {},
   "source": [
    "# VAE Model"
   ]
  },
  {
   "cell_type": "code",
   "execution_count": 11,
   "metadata": {},
   "outputs": [
    {
     "name": "stderr",
     "output_type": "stream",
     "text": [
      "Using TensorFlow backend.\n"
     ]
    }
   ],
   "source": [
    "import keras\n",
    "from keras.layers import Lambda, Input, Dense, Flatten, Reshape, LeakyReLU, ELU\n",
    "from keras.models import Model, Sequential\n",
    "from keras import metrics, losses\n",
    "from keras import backend as K"
   ]
  },
  {
   "cell_type": "code",
   "execution_count": 12,
   "metadata": {},
   "outputs": [],
   "source": [
    "def sampling(args):\n",
    "    \"\"\"\n",
    "    # Arguments\n",
    "        args (tensor): mean and log of variance of Q(z|X)\n",
    "    # Returns\n",
    "        z (tensor): sampled latent vector\n",
    "    \"\"\"\n",
    "\n",
    "    z_mean, z_log_var = args\n",
    "    batch = K.shape(z_mean)[0]\n",
    "    dim = K.int_shape(z_mean)[1]\n",
    "    # by default, random_normal has mean = 0 and std = 1.0\n",
    "    epsilon = K.random_normal(shape=(batch, dim))\n",
    "    return z_mean + K.exp(0.5 * z_log_var) * epsilon"
   ]
  },
  {
   "cell_type": "code",
   "execution_count": 13,
   "metadata": {},
   "outputs": [],
   "source": [
    "inter_dim_1 = 32\n",
    "inter_dim_2 = 16\n",
    "final_dim = 8\n",
    "latent_dim = 2\n",
    "input_dim = 4"
   ]
  },
  {
   "cell_type": "code",
   "execution_count": 14,
   "metadata": {},
   "outputs": [],
   "source": [
    "# encoder\n",
    "x = Input(shape=(input_dim,))\n",
    "#x_flat = Flatten()(x)\n",
    "h1 = Dense(inter_dim_1, activation='relu')(x)\n",
    "h2 = Dense(inter_dim_2, activation='relu')(h1)\n",
    "h3 = Dense(final_dim, activation='relu')(h2)\n",
    "encoding = Dense(latent_dim, activation='tanh')(h3)"
   ]
  },
  {
   "cell_type": "code",
   "execution_count": 15,
   "metadata": {},
   "outputs": [],
   "source": [
    "# decoder\n",
    "decoder_h3 = Dense(final_dim, activation='relu')\n",
    "decoder_h2 = Dense(inter_dim_2, activation='relu')\n",
    "decoder_h1 = Dense(inter_dim_1, activation='relu')\n",
    "decoder_mean = Dense(input_dim, activation='linear')\n",
    "\n",
    "h3_decoded = decoder_h3(encoding)\n",
    "h2_decoded = decoder_h2(h3_decoded)\n",
    "h1_decoded = decoder_h1(h2_decoded)\n",
    "x_decoded_mean = decoder_mean(h1_decoded)\n",
    "# x_decoded = Reshape(input_shape)(x_decoded_mean)"
   ]
  },
  {
   "cell_type": "code",
   "execution_count": 16,
   "metadata": {},
   "outputs": [],
   "source": [
    "vae = Model(inputs = x, outputs = x_decoded_mean, name = 'vae')"
   ]
  },
  {
   "cell_type": "code",
   "execution_count": 17,
   "metadata": {},
   "outputs": [],
   "source": [
    "mse = keras.losses.MeanSquaredError()\n",
    "def ae_loss(x, y):\n",
    "    mse_loss = 0.25 * (iqr_prop[0]*(x[::,0] - y[::,0])**2 + iqr_prop[1]*(x[::,1] - y[::,1])**2 + iqr_prop[2]*(x[::,2] - y[::,2])**2 + iqr_prop[3]*(x[::,3] - y[::,3])**2)\n",
    "    # mse_loss = mse(x,y)\n",
    "    return mse_loss\n",
    "\n",
    "vae.compile(optimizer='adam', loss=ae_loss)"
   ]
  },
  {
   "cell_type": "code",
   "execution_count": 18,
   "metadata": {},
   "outputs": [
    {
     "name": "stdout",
     "output_type": "stream",
     "text": [
      "Model: \"vae\"\n",
      "_________________________________________________________________\n",
      "Layer (type)                 Output Shape              Param #   \n",
      "=================================================================\n",
      "input_1 (InputLayer)         (None, 4)                 0         \n",
      "_________________________________________________________________\n",
      "dense_1 (Dense)              (None, 32)                160       \n",
      "_________________________________________________________________\n",
      "dense_2 (Dense)              (None, 16)                528       \n",
      "_________________________________________________________________\n",
      "dense_3 (Dense)              (None, 8)                 136       \n",
      "_________________________________________________________________\n",
      "dense_4 (Dense)              (None, 2)                 18        \n",
      "_________________________________________________________________\n",
      "dense_5 (Dense)              (None, 8)                 24        \n",
      "_________________________________________________________________\n",
      "dense_6 (Dense)              (None, 16)                144       \n",
      "_________________________________________________________________\n",
      "dense_7 (Dense)              (None, 32)                544       \n",
      "_________________________________________________________________\n",
      "dense_8 (Dense)              (None, 4)                 132       \n",
      "=================================================================\n",
      "Total params: 1,686\n",
      "Trainable params: 1,686\n",
      "Non-trainable params: 0\n",
      "_________________________________________________________________\n"
     ]
    }
   ],
   "source": [
    "vae.summary()"
   ]
  },
  {
   "cell_type": "markdown",
   "metadata": {},
   "source": [
    "# Train"
   ]
  },
  {
   "cell_type": "code",
   "execution_count": 19,
   "metadata": {},
   "outputs": [],
   "source": [
    "from sklearn.model_selection import train_test_split"
   ]
  },
  {
   "cell_type": "code",
   "execution_count": 20,
   "metadata": {},
   "outputs": [],
   "source": [
    "batch_size = 1000\n",
    "epochs = 200"
   ]
  },
  {
   "cell_type": "code",
   "execution_count": 21,
   "metadata": {},
   "outputs": [
    {
     "data": {
      "text/plain": [
       "(80000, 4)"
      ]
     },
     "execution_count": 21,
     "metadata": {},
     "output_type": "execute_result"
    }
   ],
   "source": [
    "x_train.shape"
   ]
  },
  {
   "cell_type": "code",
   "execution_count": 22,
   "metadata": {},
   "outputs": [],
   "source": [
    "my_callbacks = [\n",
    "    keras.callbacks.EarlyStopping(patience=10)\n",
    "]"
   ]
  },
  {
   "cell_type": "code",
   "execution_count": 23,
   "metadata": {},
   "outputs": [
    {
     "name": "stdout",
     "output_type": "stream",
     "text": [
      "Train on 80000 samples, validate on 10000 samples\n",
      "Epoch 1/200\n",
      "80000/80000 [==============================] - 1s 16us/step - loss: 0.7106 - val_loss: 0.5132\n",
      "Epoch 2/200\n",
      "80000/80000 [==============================] - 0s 6us/step - loss: 0.4008 - val_loss: 0.3089\n",
      "Epoch 3/200\n",
      "80000/80000 [==============================] - 1s 7us/step - loss: 0.2641 - val_loss: 0.2289\n",
      "Epoch 4/200\n",
      "80000/80000 [==============================] - 0s 6us/step - loss: 0.2155 - val_loss: 0.2053\n",
      "Epoch 5/200\n",
      "80000/80000 [==============================] - 0s 6us/step - loss: 0.1964 - val_loss: 0.1849\n",
      "Epoch 6/200\n",
      "80000/80000 [==============================] - 0s 6us/step - loss: 0.1729 - val_loss: 0.1559\n",
      "Epoch 7/200\n",
      "80000/80000 [==============================] - 0s 6us/step - loss: 0.1473 - val_loss: 0.1326\n",
      "Epoch 8/200\n",
      "80000/80000 [==============================] - 0s 6us/step - loss: 0.1263 - val_loss: 0.1149\n",
      "Epoch 9/200\n",
      "80000/80000 [==============================] - 0s 6us/step - loss: 0.1107 - val_loss: 0.1012\n",
      "Epoch 10/200\n",
      "80000/80000 [==============================] - 0s 6us/step - loss: 0.0997 - val_loss: 0.0923\n",
      "Epoch 11/200\n",
      "80000/80000 [==============================] - 0s 6us/step - loss: 0.0923 - val_loss: 0.0873\n",
      "Epoch 12/200\n",
      "80000/80000 [==============================] - 0s 6us/step - loss: 0.0869 - val_loss: 0.0832\n",
      "Epoch 13/200\n",
      "80000/80000 [==============================] - 0s 6us/step - loss: 0.0823 - val_loss: 0.0781\n",
      "Epoch 14/200\n",
      "80000/80000 [==============================] - 0s 6us/step - loss: 0.0784 - val_loss: 0.0755\n",
      "Epoch 15/200\n",
      "80000/80000 [==============================] - 0s 6us/step - loss: 0.0759 - val_loss: 0.0717\n",
      "Epoch 16/200\n",
      "80000/80000 [==============================] - 0s 5us/step - loss: 0.0733 - val_loss: 0.0699\n",
      "Epoch 17/200\n",
      "80000/80000 [==============================] - 0s 6us/step - loss: 0.0707 - val_loss: 0.0662\n",
      "Epoch 18/200\n",
      "80000/80000 [==============================] - 0s 5us/step - loss: 0.0691 - val_loss: 0.0663\n",
      "Epoch 19/200\n",
      "80000/80000 [==============================] - 0s 5us/step - loss: 0.0669 - val_loss: 0.0636\n",
      "Epoch 20/200\n",
      "80000/80000 [==============================] - 0s 6us/step - loss: 0.0655 - val_loss: 0.0625\n",
      "Epoch 21/200\n",
      "80000/80000 [==============================] - 1s 6us/step - loss: 0.0636 - val_loss: 0.0630\n",
      "Epoch 22/200\n",
      "80000/80000 [==============================] - 0s 6us/step - loss: 0.0626 - val_loss: 0.0603\n",
      "Epoch 23/200\n",
      "80000/80000 [==============================] - 0s 6us/step - loss: 0.0616 - val_loss: 0.0593\n",
      "Epoch 24/200\n",
      "80000/80000 [==============================] - 0s 5us/step - loss: 0.0602 - val_loss: 0.0582\n",
      "Epoch 25/200\n",
      "80000/80000 [==============================] - 0s 6us/step - loss: 0.0597 - val_loss: 0.0588\n",
      "Epoch 26/200\n",
      "80000/80000 [==============================] - 0s 6us/step - loss: 0.0590 - val_loss: 0.0575\n",
      "Epoch 27/200\n",
      "80000/80000 [==============================] - 0s 6us/step - loss: 0.0581 - val_loss: 0.0573\n",
      "Epoch 28/200\n",
      "80000/80000 [==============================] - 0s 6us/step - loss: 0.0571 - val_loss: 0.0559\n",
      "Epoch 29/200\n",
      "80000/80000 [==============================] - 0s 6us/step - loss: 0.0568 - val_loss: 0.0563\n",
      "Epoch 30/200\n",
      "80000/80000 [==============================] - 1s 7us/step - loss: 0.0554 - val_loss: 0.0547\n",
      "Epoch 31/200\n",
      "80000/80000 [==============================] - 0s 6us/step - loss: 0.0550 - val_loss: 0.0547\n",
      "Epoch 32/200\n",
      "80000/80000 [==============================] - 0s 6us/step - loss: 0.0539 - val_loss: 0.0530\n",
      "Epoch 33/200\n",
      "80000/80000 [==============================] - 0s 5us/step - loss: 0.0532 - val_loss: 0.0526\n",
      "Epoch 34/200\n",
      "80000/80000 [==============================] - 0s 6us/step - loss: 0.0527 - val_loss: 0.0520\n",
      "Epoch 35/200\n",
      "80000/80000 [==============================] - 0s 6us/step - loss: 0.0528 - val_loss: 0.0514\n",
      "Epoch 36/200\n",
      "80000/80000 [==============================] - 0s 6us/step - loss: 0.0517 - val_loss: 0.0503\n",
      "Epoch 37/200\n",
      "80000/80000 [==============================] - 0s 6us/step - loss: 0.0507 - val_loss: 0.0479\n",
      "Epoch 38/200\n",
      "80000/80000 [==============================] - 0s 6us/step - loss: 0.0502 - val_loss: 0.0483\n",
      "Epoch 39/200\n",
      "80000/80000 [==============================] - 0s 6us/step - loss: 0.0495 - val_loss: 0.0478\n",
      "Epoch 40/200\n",
      "80000/80000 [==============================] - 0s 6us/step - loss: 0.0490 - val_loss: 0.0463\n",
      "Epoch 41/200\n",
      "80000/80000 [==============================] - 0s 6us/step - loss: 0.0478 - val_loss: 0.0477\n",
      "Epoch 42/200\n",
      "80000/80000 [==============================] - 0s 6us/step - loss: 0.0477 - val_loss: 0.0465\n",
      "Epoch 43/200\n",
      "80000/80000 [==============================] - 0s 6us/step - loss: 0.0473 - val_loss: 0.0457\n",
      "Epoch 44/200\n",
      "80000/80000 [==============================] - 0s 5us/step - loss: 0.0469 - val_loss: 0.0465\n",
      "Epoch 45/200\n",
      "80000/80000 [==============================] - 0s 5us/step - loss: 0.0463 - val_loss: 0.0451\n",
      "Epoch 46/200\n",
      "80000/80000 [==============================] - 0s 6us/step - loss: 0.0458 - val_loss: 0.0455\n",
      "Epoch 47/200\n",
      "80000/80000 [==============================] - 0s 5us/step - loss: 0.0455 - val_loss: 0.0446\n",
      "Epoch 48/200\n",
      "80000/80000 [==============================] - 0s 6us/step - loss: 0.0451 - val_loss: 0.0437\n",
      "Epoch 49/200\n",
      "80000/80000 [==============================] - 0s 6us/step - loss: 0.0449 - val_loss: 0.0445\n",
      "Epoch 50/200\n",
      "80000/80000 [==============================] - 0s 6us/step - loss: 0.0440 - val_loss: 0.0435\n",
      "Epoch 51/200\n",
      "80000/80000 [==============================] - 0s 6us/step - loss: 0.0446 - val_loss: 0.0435\n",
      "Epoch 52/200\n",
      "80000/80000 [==============================] - 0s 6us/step - loss: 0.0436 - val_loss: 0.0430\n",
      "Epoch 53/200\n",
      "80000/80000 [==============================] - 0s 6us/step - loss: 0.0433 - val_loss: 0.0413\n",
      "Epoch 54/200\n",
      "80000/80000 [==============================] - 0s 6us/step - loss: 0.0426 - val_loss: 0.0427\n",
      "Epoch 55/200\n",
      "80000/80000 [==============================] - 0s 6us/step - loss: 0.0430 - val_loss: 0.0412\n",
      "Epoch 56/200\n",
      "80000/80000 [==============================] - 0s 6us/step - loss: 0.0428 - val_loss: 0.0423\n",
      "Epoch 57/200\n",
      "80000/80000 [==============================] - 0s 6us/step - loss: 0.0424 - val_loss: 0.0401\n",
      "Epoch 58/200\n",
      "80000/80000 [==============================] - 0s 6us/step - loss: 0.0417 - val_loss: 0.0405\n",
      "Epoch 59/200\n",
      "80000/80000 [==============================] - 0s 6us/step - loss: 0.0415 - val_loss: 0.0401\n",
      "Epoch 60/200\n",
      "80000/80000 [==============================] - 0s 5us/step - loss: 0.0415 - val_loss: 0.0415\n",
      "Epoch 61/200\n",
      "80000/80000 [==============================] - 0s 5us/step - loss: 0.0417 - val_loss: 0.0403\n",
      "Epoch 62/200\n",
      "80000/80000 [==============================] - 0s 6us/step - loss: 0.0412 - val_loss: 0.0415\n",
      "Epoch 63/200\n",
      "80000/80000 [==============================] - 0s 6us/step - loss: 0.0415 - val_loss: 0.0402\n",
      "Epoch 64/200\n",
      "80000/80000 [==============================] - 0s 6us/step - loss: 0.0408 - val_loss: 0.0389\n",
      "Epoch 65/200\n",
      "80000/80000 [==============================] - 0s 6us/step - loss: 0.0402 - val_loss: 0.0393\n",
      "Epoch 66/200\n",
      "80000/80000 [==============================] - 0s 6us/step - loss: 0.0397 - val_loss: 0.0386\n",
      "Epoch 67/200\n",
      "80000/80000 [==============================] - 0s 6us/step - loss: 0.0397 - val_loss: 0.0389\n",
      "Epoch 68/200\n",
      "80000/80000 [==============================] - 0s 5us/step - loss: 0.0397 - val_loss: 0.0390\n",
      "Epoch 69/200\n",
      "80000/80000 [==============================] - 0s 6us/step - loss: 0.0390 - val_loss: 0.0387\n",
      "Epoch 70/200\n",
      "80000/80000 [==============================] - 0s 6us/step - loss: 0.0386 - val_loss: 0.0385\n",
      "Epoch 71/200\n",
      "80000/80000 [==============================] - 0s 6us/step - loss: 0.0386 - val_loss: 0.0390\n",
      "Epoch 72/200\n",
      "80000/80000 [==============================] - 0s 6us/step - loss: 0.0392 - val_loss: 0.0388\n",
      "Epoch 73/200\n",
      "80000/80000 [==============================] - 0s 6us/step - loss: 0.0379 - val_loss: 0.0375\n",
      "Epoch 74/200\n",
      "80000/80000 [==============================] - 0s 6us/step - loss: 0.0377 - val_loss: 0.0375\n",
      "Epoch 75/200\n",
      "80000/80000 [==============================] - 0s 6us/step - loss: 0.0380 - val_loss: 0.0381\n",
      "Epoch 76/200\n",
      "80000/80000 [==============================] - 0s 6us/step - loss: 0.0377 - val_loss: 0.0370\n",
      "Epoch 77/200\n",
      "80000/80000 [==============================] - 0s 6us/step - loss: 0.0382 - val_loss: 0.0375\n"
     ]
    },
    {
     "name": "stdout",
     "output_type": "stream",
     "text": [
      "Epoch 78/200\n",
      "80000/80000 [==============================] - 0s 6us/step - loss: 0.0379 - val_loss: 0.0393\n",
      "Epoch 79/200\n",
      "80000/80000 [==============================] - 0s 6us/step - loss: 0.0376 - val_loss: 0.0377\n",
      "Epoch 80/200\n",
      "80000/80000 [==============================] - 0s 6us/step - loss: 0.0381 - val_loss: 0.0360\n",
      "Epoch 81/200\n",
      "80000/80000 [==============================] - 0s 6us/step - loss: 0.0372 - val_loss: 0.0361\n",
      "Epoch 82/200\n",
      "80000/80000 [==============================] - 0s 6us/step - loss: 0.0377 - val_loss: 0.0358\n",
      "Epoch 83/200\n",
      "80000/80000 [==============================] - 0s 6us/step - loss: 0.0377 - val_loss: 0.0368\n",
      "Epoch 84/200\n",
      "80000/80000 [==============================] - 0s 6us/step - loss: 0.0372 - val_loss: 0.0356\n",
      "Epoch 85/200\n",
      "80000/80000 [==============================] - 0s 6us/step - loss: 0.0370 - val_loss: 0.0345\n",
      "Epoch 86/200\n",
      "80000/80000 [==============================] - 0s 6us/step - loss: 0.0367 - val_loss: 0.0359\n",
      "Epoch 87/200\n",
      "80000/80000 [==============================] - 0s 6us/step - loss: 0.0361 - val_loss: 0.0355\n",
      "Epoch 88/200\n",
      "80000/80000 [==============================] - 1s 6us/step - loss: 0.0365 - val_loss: 0.0361\n",
      "Epoch 89/200\n",
      "80000/80000 [==============================] - 0s 6us/step - loss: 0.0356 - val_loss: 0.0358\n",
      "Epoch 90/200\n",
      "80000/80000 [==============================] - 0s 6us/step - loss: 0.0359 - val_loss: 0.0354\n",
      "Epoch 91/200\n",
      "80000/80000 [==============================] - 0s 6us/step - loss: 0.0364 - val_loss: 0.0361\n",
      "Epoch 92/200\n",
      "80000/80000 [==============================] - 0s 6us/step - loss: 0.0361 - val_loss: 0.0346\n",
      "Epoch 93/200\n",
      "80000/80000 [==============================] - 1s 7us/step - loss: 0.0359 - val_loss: 0.0344\n",
      "Epoch 94/200\n",
      "80000/80000 [==============================] - 0s 6us/step - loss: 0.0363 - val_loss: 0.0338\n",
      "Epoch 95/200\n",
      "80000/80000 [==============================] - 0s 6us/step - loss: 0.0358 - val_loss: 0.0349\n",
      "Epoch 96/200\n",
      "80000/80000 [==============================] - 0s 6us/step - loss: 0.0361 - val_loss: 0.0341\n",
      "Epoch 97/200\n",
      "80000/80000 [==============================] - 0s 6us/step - loss: 0.0361 - val_loss: 0.0347\n",
      "Epoch 98/200\n",
      "80000/80000 [==============================] - 0s 6us/step - loss: 0.0356 - val_loss: 0.0348\n",
      "Epoch 99/200\n",
      "80000/80000 [==============================] - 0s 6us/step - loss: 0.0355 - val_loss: 0.0342\n",
      "Epoch 100/200\n",
      "80000/80000 [==============================] - 0s 6us/step - loss: 0.0349 - val_loss: 0.0334\n",
      "Epoch 101/200\n",
      "80000/80000 [==============================] - 0s 6us/step - loss: 0.0345 - val_loss: 0.0338\n",
      "Epoch 102/200\n",
      "80000/80000 [==============================] - 0s 6us/step - loss: 0.0349 - val_loss: 0.0342\n",
      "Epoch 103/200\n",
      "80000/80000 [==============================] - 0s 6us/step - loss: 0.0345 - val_loss: 0.0330\n",
      "Epoch 104/200\n",
      "80000/80000 [==============================] - 0s 6us/step - loss: 0.0345 - val_loss: 0.0336\n",
      "Epoch 105/200\n",
      "80000/80000 [==============================] - 0s 6us/step - loss: 0.0348 - val_loss: 0.0330\n",
      "Epoch 106/200\n",
      "80000/80000 [==============================] - 0s 6us/step - loss: 0.0342 - val_loss: 0.0330\n",
      "Epoch 107/200\n",
      "80000/80000 [==============================] - 0s 6us/step - loss: 0.0340 - val_loss: 0.0340\n",
      "Epoch 108/200\n",
      "80000/80000 [==============================] - 0s 6us/step - loss: 0.0338 - val_loss: 0.0331\n",
      "Epoch 109/200\n",
      "80000/80000 [==============================] - 0s 6us/step - loss: 0.0335 - val_loss: 0.0327\n",
      "Epoch 110/200\n",
      "80000/80000 [==============================] - 0s 5us/step - loss: 0.0339 - val_loss: 0.0324\n",
      "Epoch 111/200\n",
      "80000/80000 [==============================] - 0s 6us/step - loss: 0.0332 - val_loss: 0.0326\n",
      "Epoch 112/200\n",
      "80000/80000 [==============================] - 0s 6us/step - loss: 0.0330 - val_loss: 0.0320\n",
      "Epoch 113/200\n",
      "80000/80000 [==============================] - 0s 6us/step - loss: 0.0331 - val_loss: 0.0328\n",
      "Epoch 114/200\n",
      "80000/80000 [==============================] - 0s 6us/step - loss: 0.0329 - val_loss: 0.0312\n",
      "Epoch 115/200\n",
      "80000/80000 [==============================] - 0s 6us/step - loss: 0.0336 - val_loss: 0.0327\n",
      "Epoch 116/200\n",
      "80000/80000 [==============================] - 0s 5us/step - loss: 0.0334 - val_loss: 0.0323\n",
      "Epoch 117/200\n",
      "80000/80000 [==============================] - 0s 6us/step - loss: 0.0334 - val_loss: 0.0340\n",
      "Epoch 118/200\n",
      "80000/80000 [==============================] - 0s 6us/step - loss: 0.0340 - val_loss: 0.0324\n",
      "Epoch 119/200\n",
      "80000/80000 [==============================] - 0s 6us/step - loss: 0.0334 - val_loss: 0.0331\n",
      "Epoch 120/200\n",
      "80000/80000 [==============================] - 0s 6us/step - loss: 0.0336 - val_loss: 0.0320\n",
      "Epoch 121/200\n",
      "80000/80000 [==============================] - 0s 6us/step - loss: 0.0335 - val_loss: 0.0315\n",
      "Epoch 122/200\n",
      "80000/80000 [==============================] - 0s 6us/step - loss: 0.0338 - val_loss: 0.0321\n",
      "Epoch 123/200\n",
      "80000/80000 [==============================] - 0s 6us/step - loss: 0.0332 - val_loss: 0.0324\n",
      "Epoch 124/200\n",
      "80000/80000 [==============================] - 0s 6us/step - loss: 0.0328 - val_loss: 0.0317\n"
     ]
    }
   ],
   "source": [
    "hist = vae.fit(x_train, x_train,\n",
    "               shuffle=True,\n",
    "               epochs=epochs,\n",
    "               batch_size=batch_size,\n",
    "               validation_data=(x_val, x_val),\n",
    "               callbacks=my_callbacks)"
   ]
  },
  {
   "cell_type": "markdown",
   "metadata": {},
   "source": [
    "# Visualization"
   ]
  },
  {
   "cell_type": "code",
   "execution_count": 24,
   "metadata": {},
   "outputs": [],
   "source": [
    "import matplotlib.pyplot as plt"
   ]
  },
  {
   "cell_type": "code",
   "execution_count": 25,
   "metadata": {},
   "outputs": [
    {
     "data": {
      "image/png": "[encoded data removed]",
      "text/plain": [
       "<Figure size 432x266.991 with 1 Axes>"
      ]
     },
     "metadata": {
      "needs_background": "light"
     },
     "output_type": "display_data"
    }
   ],
   "source": [
    "golden_size = lambda width: (width, 2. * width / (1 + np.sqrt(5)))\n",
    "\n",
    "fig, ax = plt.subplots(figsize=golden_size(6))\n",
    "\n",
    "hist_df = pd.DataFrame(hist.history)\n",
    "hist_df.plot(ax=ax)\n",
    "\n",
    "ax.set_ylabel('NELBO')\n",
    "ax.set_xlabel('# epochs')\n",
    "\n",
    "ax.set_ylim(.99*hist_df[1:].values.min(), \n",
    "            1.1*hist_df[1:].values.max())\n",
    "plt.show()"
   ]
  },
  {
   "cell_type": "code",
   "execution_count": 26,
   "metadata": {},
   "outputs": [],
   "source": [
    "predictions = vae.predict(x_test)"
   ]
  },
  {
   "cell_type": "code",
   "execution_count": 27,
   "metadata": {},
   "outputs": [
    {
     "name": "stdout",
     "output_type": "stream",
     "text": [
      "tf.Tensor(0.04091368, shape=(), dtype=float32)\n"
     ]
    }
   ],
   "source": [
    "# mse on test set\n",
    "p = vae.predict(x_train)\n",
    "print(mse(p, x_train))"
   ]
  },
  {
   "cell_type": "code",
   "execution_count": 28,
   "metadata": {},
   "outputs": [],
   "source": [
    "distr = (x_test - predictions) / x_test"
   ]
  },
  {
   "cell_type": "code",
   "execution_count": 29,
   "metadata": {},
   "outputs": [],
   "source": [
    "px_pred = [row[0] for row in predictions]\n",
    "py_pred = [row[1] for row in predictions]\n",
    "pz_pred = [row[2] for row in predictions]\n",
    "e_pred = [row[3] for row in predictions]"
   ]
  },
  {
   "cell_type": "code",
   "execution_count": 30,
   "metadata": {},
   "outputs": [],
   "source": [
    "px = [row[0] for row in x_test]\n",
    "py = [row[1] for row in x_test]\n",
    "pz = [row[2] for row in x_test]\n",
    "e = [row[3] for row in x_test]"
   ]
  },
  {
   "cell_type": "markdown",
   "metadata": {},
   "source": [
    "## Stacking output (orange) over input (blue) for px, py, pz, E"
   ]
  },
  {
   "cell_type": "code",
   "execution_count": 31,
   "metadata": {},
   "outputs": [
    {
     "data": {
      "image/png": "[encoded data removed]",
      "text/plain": [
       "<Figure size 432x288 with 1 Axes>"
      ]
     },
     "metadata": {
      "needs_background": "light"
     },
     "output_type": "display_data"
    }
   ],
   "source": [
    "# px\n",
    "bins = np.linspace(-2, 2, 40)\n",
    "plt.hist(px, bins=bins,alpha=0.5)\n",
    "plt.hist(px_pred, bins=bins,alpha=0.5)\n",
    "plt.show()"
   ]
  },
  {
   "cell_type": "code",
   "execution_count": 32,
   "metadata": {},
   "outputs": [
    {
     "name": "stdout",
     "output_type": "stream",
     "text": [
      "tf.Tensor(0.03731678, shape=(), dtype=float32)\n"
     ]
    }
   ],
   "source": [
    "print(mse(px,px_pred))"
   ]
  },
  {
   "cell_type": "code",
   "execution_count": 33,
   "metadata": {},
   "outputs": [
    {
     "data": {
      "image/png": "[encoded data removed]",
      "text/plain": [
       "<Figure size 432x288 with 1 Axes>"
      ]
     },
     "metadata": {
      "needs_background": "light"
     },
     "output_type": "display_data"
    }
   ],
   "source": [
    "# py\n",
    "bins = np.linspace(-2, 2, 40)\n",
    "plt.hist(py, bins=bins,alpha=0.5)\n",
    "plt.hist(py_pred, bins=bins,alpha=0.5)\n",
    "plt.show()"
   ]
  },
  {
   "cell_type": "code",
   "execution_count": 34,
   "metadata": {},
   "outputs": [
    {
     "name": "stdout",
     "output_type": "stream",
     "text": [
      "tf.Tensor(0.038430396, shape=(), dtype=float32)\n"
     ]
    }
   ],
   "source": [
    "print(mse(py,py_pred))"
   ]
  },
  {
   "cell_type": "code",
   "execution_count": 35,
   "metadata": {},
   "outputs": [
    {
     "data": {
      "image/png": "[encoded data removed]",
      "text/plain": [
       "<Figure size 432x288 with 1 Axes>"
      ]
     },
     "metadata": {
      "needs_background": "light"
     },
     "output_type": "display_data"
    }
   ],
   "source": [
    "# pz\n",
    "bins = np.linspace(-3, 3, 40)\n",
    "plt.hist(pz, bins=bins,alpha=0.5)\n",
    "plt.hist(pz_pred, bins=bins,alpha=0.5)\n",
    "plt.show()"
   ]
  },
  {
   "cell_type": "code",
   "execution_count": 36,
   "metadata": {},
   "outputs": [
    {
     "name": "stdout",
     "output_type": "stream",
     "text": [
      "tf.Tensor(0.040648993, shape=(), dtype=float32)\n"
     ]
    }
   ],
   "source": [
    "print(mse(pz,pz_pred))"
   ]
  },
  {
   "cell_type": "code",
   "execution_count": 37,
   "metadata": {},
   "outputs": [
    {
     "data": {
      "image/png": "[encoded data removed]",
      "text/plain": [
       "<Figure size 432x288 with 1 Axes>"
      ]
     },
     "metadata": {
      "needs_background": "light"
     },
     "output_type": "display_data"
    }
   ],
   "source": [
    "# E\n",
    "bins = np.linspace(-2,4, 40)\n",
    "plt.hist(e, bins=bins,alpha=0.5)\n",
    "plt.hist(e_pred, bins=bins,alpha=0.5)\n",
    "plt.show()"
   ]
  },
  {
   "cell_type": "code",
   "execution_count": 38,
   "metadata": {},
   "outputs": [
    {
     "name": "stdout",
     "output_type": "stream",
     "text": [
      "tf.Tensor(0.049779277, shape=(), dtype=float32)\n"
     ]
    }
   ],
   "source": [
    "print(mse(e,e_pred))"
   ]
  },
  {
   "cell_type": "code",
   "execution_count": 39,
   "metadata": {},
   "outputs": [],
   "source": [
    "d_px = [row[0] for row in distr]\n",
    "d_py = [row[1] for row in distr]\n",
    "d_pz = [row[2] for row in distr]\n",
    "d_e = [row[3] for row in distr]"
   ]
  },
  {
   "cell_type": "markdown",
   "metadata": {},
   "source": [
    "## Distribution of (input - output) / input"
   ]
  },
  {
   "cell_type": "code",
   "execution_count": 40,
   "metadata": {},
   "outputs": [],
   "source": [
    "bins = np.linspace(-2, 2, 30)"
   ]
  },
  {
   "cell_type": "code",
   "execution_count": 41,
   "metadata": {},
   "outputs": [
    {
     "data": {
      "image/png": "[encoded data removed]",
      "text/plain": [
       "<Figure size 432x288 with 1 Axes>"
      ]
     },
     "metadata": {
      "needs_background": "light"
     },
     "output_type": "display_data"
    }
   ],
   "source": [
    "_ = plt.hist(d_px, bins=bins)"
   ]
  },
  {
   "cell_type": "code",
   "execution_count": 42,
   "metadata": {},
   "outputs": [
    {
     "data": {
      "image/png": "[encoded data removed]",
      "text/plain": [
       "<Figure size 432x288 with 1 Axes>"
      ]
     },
     "metadata": {
      "needs_background": "light"
     },
     "output_type": "display_data"
    }
   ],
   "source": [
    "_ = plt.hist(d_py, bins=bins)"
   ]
  },
  {
   "cell_type": "code",
   "execution_count": 43,
   "metadata": {},
   "outputs": [
    {
     "data": {
      "image/png": "[encoded data removed]",
      "text/plain": [
       "<Figure size 432x288 with 1 Axes>"
      ]
     },
     "metadata": {
      "needs_background": "light"
     },
     "output_type": "display_data"
    }
   ],
   "source": [
    "_ = plt.hist(d_pz, bins=bins)"
   ]
  },
  {
   "cell_type": "code",
   "execution_count": 44,
   "metadata": {},
   "outputs": [
    {
     "data": {
      "image/png": "[encoded data removed]",
      "text/plain": [
       "<Figure size 432x288 with 1 Axes>"
      ]
     },
     "metadata": {
      "needs_background": "light"
     },
     "output_type": "display_data"
    }
   ],
   "source": [
    "_ = plt.hist(d_e, bins=bins)"
   ]
  },
  {
   "cell_type": "markdown",
   "metadata": {},
   "source": [
    "# Anomaly Detection"
   ]
  },
  {
   "cell_type": "code",
   "execution_count": 45,
   "metadata": {},
   "outputs": [],
   "source": [
    "from sklearn.metrics import mean_squared_error"
   ]
  },
  {
   "cell_type": "code",
   "execution_count": 46,
   "metadata": {},
   "outputs": [],
   "source": [
    "# m_12 = sqrt ( (E_1 + E_2)^2 - (p_x1 + p_x2)^2 - (p_y1 + p_y2)^2 - (p_z1 + p_z2)^2 )\n",
    "def invariant_mass(jet1, jet2):\n",
    "    return math.sqrt((jet1.e + jet2.e)**2 - (jet1.px + jet2.px)**2 - (jet1.py + jet2.py)**2 - (jet1.pz + jet2.pz)**2)"
   ]
  },
  {
   "cell_type": "code",
   "execution_count": 47,
   "metadata": {},
   "outputs": [],
   "source": [
    "all_data = np.concatenate((x_train, x_val, x_test))\n",
    "all_pred = vae.predict(all_data)"
   ]
  },
  {
   "cell_type": "code",
   "execution_count": 48,
   "metadata": {},
   "outputs": [],
   "source": [
    "# get the iqr weighted mse of all predictions\n",
    "errors = (iqr_prop[0] * np.square(all_data[:,0] - all_pred[:,0]) + iqr_prop[1] * np.square(all_data[:,1] - all_pred[:,1]) + iqr_prop[2] * np.square(all_data[:,2] - all_pred[:,2]) + iqr_prop[3] * np.square(all_data[:,3] - all_pred[:,3]))"
   ]
  },
  {
   "cell_type": "code",
   "execution_count": 49,
   "metadata": {},
   "outputs": [],
   "source": [
    "# all the inputs that had high mse\n",
    "data_df = loaded_data.copy()\n",
    "data_df.columns = ['px','py','pz','e','pt','eta','phi','mass','event']\n",
    "data_df[\"mse\"] = errors"
   ]
  },
  {
   "cell_type": "code",
   "execution_count": 50,
   "metadata": {},
   "outputs": [],
   "source": [
    "mass_mu = data_df.mass.mean()\n",
    "mass_sd = data_df.mass.std()"
   ]
  },
  {
   "cell_type": "code",
   "execution_count": 51,
   "metadata": {},
   "outputs": [],
   "source": [
    "cut = 0.95\n",
    "data_df[\"outlier\"] = 0\n",
    "# define the outliers by a cut on mse error\n",
    "mse_thresh = np.quantile(errors, cut)\n",
    "data_df.loc[data_df[\"mse\"] > mse_thresh, \"outlier\"] = 1\n",
    "outliers = data_df.loc[data_df.outlier == 1]"
   ]
  },
  {
   "cell_type": "code",
   "execution_count": 52,
   "metadata": {},
   "outputs": [],
   "source": [
    "# get the leading 2 jets from the original dataset if at least 1 was classified an outlier\n",
    "outlier_events = outliers.event.unique()\n",
    "outliers2 = loaded_data.loc[loaded_data.event.isin(outlier_events)]"
   ]
  },
  {
   "cell_type": "code",
   "execution_count": 53,
   "metadata": {
    "scrolled": true
   },
   "outputs": [],
   "source": [
    "# extract the mass of the outliers\n",
    "mass = []\n",
    "for event, group in outliers2.groupby(['event']):\n",
    "    pseudojets_input = np.zeros(len(group), dtype=DTYPE_PTEPM)\n",
    "    for i in range(len(group.pt.array)):\n",
    "        pseudojets_input[i]['pT'] = group.pt.array[i]\n",
    "        pseudojets_input[i]['eta'] = group.eta.array[i]\n",
    "        pseudojets_input[i]['phi'] = group.phi.array[i]\n",
    "    sequence = cluster(pseudojets_input, R=1.0, p=-1)\n",
    "    jets = sequence.inclusive_jets()\n",
    "    if(len(jets) >= 2):  # just take the invariant mass of the leading 2 jets\n",
    "        mass.append(invariant_mass(jets[0],jets[1]))"
   ]
  },
  {
   "cell_type": "code",
   "execution_count": 54,
   "metadata": {},
   "outputs": [],
   "source": [
    "# load in the precalculated invariant mass of all leading 2 jets for all events\n",
    "path = '/anomalyvol/data/jet_ver/bb1_jet_mass.h5'\n",
    "mgen = generator(path, chunk_size, total_size)\n",
    "all_mass = next(mgen)\n",
    "\n",
    "for i in range(total_size // chunk_size - 1):\n",
    "    all_mass.append(next(mgen))"
   ]
  },
  {
   "cell_type": "code",
   "execution_count": 55,
   "metadata": {},
   "outputs": [
    {
     "data": {
      "image/png": "[encoded data removed]",
      "text/plain": [
       "<Figure size 432x288 with 1 Axes>"
      ]
     },
     "metadata": {
      "needs_background": "light"
     },
     "output_type": "display_data"
    }
   ],
   "source": [
    "# plot invariant mass (orange = all, blue = outliers)\n",
    "weights = np.ones_like(mass) / len(mass)\n",
    "plt.hist(mass, bins=np.linspace(1000,6000, 61), alpha = 0.5, weights=weights)\n",
    "weights = np.ones_like(all_mass) / len(all_mass)\n",
    "plt.hist(all_mass.mass, bins=np.linspace(1000,6000, 61), alpha = 0.5, weights=weights)\n",
    "plt.show()"
   ]
  }
 ],
 "metadata": {
  "kernelspec": {
   "display_name": "Python 3",
   "language": "python",
   "name": "python3"
  },
  "language_info": {
   "codemirror_mode": {
    "name": "ipython",
    "version": 3
   },
   "file_extension": ".py",
   "mimetype": "text/x-python",
   "name": "python",
   "nbconvert_exporter": "python",
   "pygments_lexer": "ipython3",
   "version": "3.7.6"
  }
 },
 "nbformat": 4,
 "nbformat_minor": 4
}
