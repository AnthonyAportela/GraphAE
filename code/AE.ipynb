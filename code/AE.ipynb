{
 "cells": [
  {
   "cell_type": "code",
   "execution_count": 1,
   "metadata": {},
   "outputs": [],
   "source": [
    "import pandas as pd\n",
    "import numpy as np\n",
    "from pyjet import cluster,DTYPE_PTEPM\n",
    "from sklearn import preprocessing\n",
    "from scipy.stats import iqr\n",
    "import tensorflow as tf"
   ]
  },
  {
   "cell_type": "markdown",
   "metadata": {},
   "source": [
    "# Pre processing"
   ]
  },
  {
   "cell_type": "code",
   "execution_count": 2,
   "metadata": {},
   "outputs": [],
   "source": [
    "path = '/anomalyvol/data/events_LHCO2020_backgroundMC_Pythia.h5'"
   ]
  },
  {
   "cell_type": "code",
   "execution_count": 3,
   "metadata": {},
   "outputs": [],
   "source": [
    "df = pd.read_hdf(path,stop=10000) # just read first 10000 events"
   ]
  },
  {
   "cell_type": "code",
   "execution_count": 4,
   "metadata": {},
   "outputs": [],
   "source": [
    "all_events = df.values"
   ]
  },
  {
   "cell_type": "code",
   "execution_count": 5,
   "metadata": {},
   "outputs": [],
   "source": [
    "rows = all_events.shape[0]\n",
    "cols = all_events.shape[1]\n",
    "data = []"
   ]
  },
  {
   "cell_type": "code",
   "execution_count": 6,
   "metadata": {},
   "outputs": [],
   "source": [
    "for i in range(rows):\n",
    "    pseudojets_input = np.zeros(len([x for x in all_events[i][::3] if x > 0]), dtype=DTYPE_PTEPM)\n",
    "    for j in range(cols // 3):\n",
    "        if (all_events[i][j*3]>0):\n",
    "            pseudojets_input[j]['pT'] = all_events[i][j*3]\n",
    "            pseudojets_input[j]['eta'] = all_events[i][j*3+1]\n",
    "            pseudojets_input[j]['phi'] = all_events[i][j*3+2]\n",
    "        pass\n",
    "    # cluster jets from the particles in one observation\n",
    "    sequence = cluster(pseudojets_input, R=1.0, p=-1)\n",
    "    jets = sequence.inclusive_jets()\n",
    "    for k in range(len(jets)): # for each jet get (px, py, pz, e)\n",
    "        jet = []\n",
    "        jet.append(jets[k].px)\n",
    "        jet.append(jets[k].py)\n",
    "        jet.append(jets[k].pz)\n",
    "        jet.append(jets[k].e)\n",
    "        data.append(jet)"
   ]
  },
  {
   "cell_type": "code",
   "execution_count": 7,
   "metadata": {},
   "outputs": [],
   "source": [
    "loaded_data = data\n",
    "# data = loaded_data"
   ]
  },
  {
   "cell_type": "code",
   "execution_count": 8,
   "metadata": {},
   "outputs": [
    {
     "data": {
      "text/plain": [
       "(147331, 4)"
      ]
     },
     "execution_count": 8,
     "metadata": {},
     "output_type": "execute_result"
    }
   ],
   "source": [
    "data = np.array(data)\n",
    "data.shape"
   ]
  },
  {
   "cell_type": "code",
   "execution_count": 9,
   "metadata": {},
   "outputs": [],
   "source": [
    "# log transform pT\n",
    "#data[:,3] = np.ma.log(data[:,3]).filled()"
   ]
  },
  {
   "cell_type": "code",
   "execution_count": 10,
   "metadata": {},
   "outputs": [
    {
     "data": {
      "text/plain": [
       "array([[-1.17658220e+03, -7.79040316e+02,  3.40962660e+02,\n",
       "         1.45491963e+03],\n",
       "       [ 6.11088616e+02,  7.16513394e+02,  1.55833044e+03,\n",
       "         1.87194199e+03],\n",
       "       [ 4.96094722e+02, -1.87111748e+01,  1.78940558e+03,\n",
       "         1.85808569e+03],\n",
       "       ...,\n",
       "       [-1.43123397e-01,  7.72218759e-01, -5.37015154e+00,\n",
       "         5.42727682e+00],\n",
       "       [-2.31257017e-01, -6.81425110e-01,  1.42509806e+00,\n",
       "         1.59647251e+00],\n",
       "       [ 2.34250895e-01,  3.07633892e-01,  2.66273882e+01,\n",
       "         2.66301955e+01]])"
      ]
     },
     "execution_count": 10,
     "metadata": {},
     "output_type": "execute_result"
    }
   ],
   "source": [
    "data"
   ]
  },
  {
   "cell_type": "code",
   "execution_count": 11,
   "metadata": {},
   "outputs": [],
   "source": [
    "# splitting data\n",
    "x_train = data[0:int(len(data) * 0.8)]\n",
    "x_val = data[int(len(data) * 0.8):int(len(data) * 0.9)]\n",
    "x_test = data[int(len(data) * 0.9):]"
   ]
  },
  {
   "cell_type": "code",
   "execution_count": 12,
   "metadata": {},
   "outputs": [],
   "source": [
    "# regularize\n",
    "scaler = preprocessing.StandardScaler()\n",
    "x_train = scaler.fit_transform(x_train)\n",
    "x_val = scaler.transform(x_val)\n",
    "x_test = scaler.transform(x_test)"
   ]
  },
  {
   "cell_type": "code",
   "execution_count": 13,
   "metadata": {},
   "outputs": [
    {
     "name": "stdout",
     "output_type": "stream",
     "text": [
      "[0.03069996 0.0303821  0.38396447 1.        ]\n"
     ]
    }
   ],
   "source": [
    "iqr_prop = iqr(x_train,axis = 0)\n",
    "max_iqr = max(iqr_prop)\n",
    "iqr_prop = np.array(iqr_prop) / max_iqr\n",
    "print(iqr_prop)"
   ]
  },
  {
   "cell_type": "markdown",
   "metadata": {},
   "source": [
    "# VAE Model"
   ]
  },
  {
   "cell_type": "code",
   "execution_count": 14,
   "metadata": {},
   "outputs": [
    {
     "name": "stderr",
     "output_type": "stream",
     "text": [
      "Using TensorFlow backend.\n"
     ]
    }
   ],
   "source": [
    "import keras\n",
    "from keras.layers import Lambda, Input, Dense, Flatten, Reshape, LeakyReLU, ELU\n",
    "from keras.models import Model, Sequential\n",
    "from keras import metrics, losses\n",
    "from keras import backend as K"
   ]
  },
  {
   "cell_type": "code",
   "execution_count": 15,
   "metadata": {},
   "outputs": [],
   "source": [
    "def sampling(args):\n",
    "    \"\"\"\n",
    "    # Arguments\n",
    "        args (tensor): mean and log of variance of Q(z|X)\n",
    "    # Returns\n",
    "        z (tensor): sampled latent vector\n",
    "    \"\"\"\n",
    "\n",
    "    z_mean, z_log_var = args\n",
    "    batch = K.shape(z_mean)[0]\n",
    "    dim = K.int_shape(z_mean)[1]\n",
    "    # by default, random_normal has mean = 0 and std = 1.0\n",
    "    epsilon = K.random_normal(shape=(batch, dim))\n",
    "    return z_mean + K.exp(0.5 * z_log_var) * epsilon"
   ]
  },
  {
   "cell_type": "code",
   "execution_count": 16,
   "metadata": {},
   "outputs": [],
   "source": [
    "inter_dim_1 = 32\n",
    "inter_dim_2 = 16\n",
    "final_dim = 8\n",
    "latent_dim = 2\n",
    "input_dim = 4"
   ]
  },
  {
   "cell_type": "code",
   "execution_count": 17,
   "metadata": {},
   "outputs": [],
   "source": [
    "# encoder\n",
    "x = Input(shape=(input_dim,))\n",
    "#x_flat = Flatten()(x)\n",
    "h1 = Dense(inter_dim_1, activation='relu')(x)\n",
    "h2 = Dense(inter_dim_2, activation='relu')(h1)\n",
    "h3 = Dense(final_dim, activation='relu')(h2)\n",
    "encoding = Dense(latent_dim, activation='tanh')(h3)"
   ]
  },
  {
   "cell_type": "code",
   "execution_count": 18,
   "metadata": {},
   "outputs": [],
   "source": [
    "# decoder\n",
    "decoder_h3 = Dense(final_dim, activation='relu')\n",
    "decoder_h2 = Dense(inter_dim_2, activation='relu')\n",
    "decoder_h1 = Dense(inter_dim_1, activation='relu')\n",
    "decoder_mean = Dense(input_dim, activation='linear')\n",
    "\n",
    "h3_decoded = decoder_h3(encoding)\n",
    "h2_decoded = decoder_h2(h3_decoded)\n",
    "h1_decoded = decoder_h1(h2_decoded)\n",
    "x_decoded_mean = decoder_mean(h1_decoded)\n",
    "# x_decoded = Reshape(input_shape)(x_decoded_mean)"
   ]
  },
  {
   "cell_type": "code",
   "execution_count": 19,
   "metadata": {},
   "outputs": [],
   "source": [
    "vae = Model(inputs = x, outputs = x_decoded_mean, name = 'vae')"
   ]
  },
  {
   "cell_type": "code",
   "execution_count": 20,
   "metadata": {},
   "outputs": [],
   "source": [
    "mse = keras.losses.MeanSquaredError()\n",
    "def ae_loss(x, y):\n",
    "    mse_loss = 0.25 * (iqr_prop[0]*(x[::,0] - y[::,0])**2 + iqr_prop[1]*(x[::,1] - y[::,1])**2 + iqr_prop[2]*(x[::,2] - y[::,2])**2 + iqr_prop[3]*(x[::,3] - y[::,3])**2)\n",
    "    # mse_loss = mse(x,y)\n",
    "    return mse_loss\n",
    "\n",
    "vae.compile(optimizer='adam', loss=ae_loss)"
   ]
  },
  {
   "cell_type": "code",
   "execution_count": 21,
   "metadata": {},
   "outputs": [
    {
     "name": "stdout",
     "output_type": "stream",
     "text": [
      "Model: \"vae\"\n",
      "_________________________________________________________________\n",
      "Layer (type)                 Output Shape              Param #   \n",
      "=================================================================\n",
      "input_1 (InputLayer)         (None, 4)                 0         \n",
      "_________________________________________________________________\n",
      "dense_1 (Dense)              (None, 32)                160       \n",
      "_________________________________________________________________\n",
      "dense_2 (Dense)              (None, 16)                528       \n",
      "_________________________________________________________________\n",
      "dense_3 (Dense)              (None, 8)                 136       \n",
      "_________________________________________________________________\n",
      "dense_4 (Dense)              (None, 2)                 18        \n",
      "_________________________________________________________________\n",
      "dense_5 (Dense)              (None, 8)                 24        \n",
      "_________________________________________________________________\n",
      "dense_6 (Dense)              (None, 16)                144       \n",
      "_________________________________________________________________\n",
      "dense_7 (Dense)              (None, 32)                544       \n",
      "_________________________________________________________________\n",
      "dense_8 (Dense)              (None, 4)                 132       \n",
      "=================================================================\n",
      "Total params: 1,686\n",
      "Trainable params: 1,686\n",
      "Non-trainable params: 0\n",
      "_________________________________________________________________\n"
     ]
    }
   ],
   "source": [
    "vae.summary()"
   ]
  },
  {
   "cell_type": "markdown",
   "metadata": {},
   "source": [
    "# Train"
   ]
  },
  {
   "cell_type": "code",
   "execution_count": 22,
   "metadata": {},
   "outputs": [],
   "source": [
    "from sklearn.model_selection import train_test_split"
   ]
  },
  {
   "cell_type": "code",
   "execution_count": 23,
   "metadata": {},
   "outputs": [],
   "source": [
    "batch_size = 1000\n",
    "epochs = 200"
   ]
  },
  {
   "cell_type": "code",
   "execution_count": 24,
   "metadata": {},
   "outputs": [
    {
     "data": {
      "text/plain": [
       "(117864, 4)"
      ]
     },
     "execution_count": 24,
     "metadata": {},
     "output_type": "execute_result"
    }
   ],
   "source": [
    "x_train.shape"
   ]
  },
  {
   "cell_type": "code",
   "execution_count": 25,
   "metadata": {},
   "outputs": [],
   "source": [
    "my_callbacks = [\n",
    "    keras.callbacks.EarlyStopping(patience=10)\n",
    "]"
   ]
  },
  {
   "cell_type": "code",
   "execution_count": 26,
   "metadata": {},
   "outputs": [
    {
     "name": "stdout",
     "output_type": "stream",
     "text": [
      "Train on 117864 samples, validate on 14733 samples\n",
      "Epoch 1/200\n",
      "117864/117864 [==============================] - 1s 7us/step - loss: 0.1768 - val_loss: 0.1126\n",
      "Epoch 2/200\n",
      "117864/117864 [==============================] - 0s 3us/step - loss: 0.0683 - val_loss: 0.0312\n",
      "Epoch 3/200\n",
      "117864/117864 [==============================] - 0s 3us/step - loss: 0.0227 - val_loss: 0.0183\n",
      "Epoch 4/200\n",
      "117864/117864 [==============================] - 0s 3us/step - loss: 0.0176 - val_loss: 0.0167\n",
      "Epoch 5/200\n",
      "117864/117864 [==============================] - 0s 3us/step - loss: 0.0166 - val_loss: 0.0161\n",
      "Epoch 6/200\n",
      "117864/117864 [==============================] - 0s 3us/step - loss: 0.0162 - val_loss: 0.0159\n",
      "Epoch 7/200\n",
      "117864/117864 [==============================] - 0s 3us/step - loss: 0.0160 - val_loss: 0.0157\n",
      "Epoch 8/200\n",
      "117864/117864 [==============================] - 0s 3us/step - loss: 0.0158 - val_loss: 0.0157\n",
      "Epoch 9/200\n",
      "117864/117864 [==============================] - 0s 3us/step - loss: 0.0158 - val_loss: 0.0155\n",
      "Epoch 10/200\n",
      "117864/117864 [==============================] - 0s 3us/step - loss: 0.0157 - val_loss: 0.0155\n",
      "Epoch 11/200\n",
      "117864/117864 [==============================] - 0s 3us/step - loss: 0.0156 - val_loss: 0.0154\n",
      "Epoch 12/200\n",
      "117864/117864 [==============================] - 0s 3us/step - loss: 0.0156 - val_loss: 0.0154\n",
      "Epoch 13/200\n",
      "117864/117864 [==============================] - 0s 3us/step - loss: 0.0156 - val_loss: 0.0154\n",
      "Epoch 14/200\n",
      "117864/117864 [==============================] - 0s 3us/step - loss: 0.0155 - val_loss: 0.0154\n",
      "Epoch 15/200\n",
      "117864/117864 [==============================] - 0s 3us/step - loss: 0.0155 - val_loss: 0.0153\n",
      "Epoch 16/200\n",
      "117864/117864 [==============================] - 0s 3us/step - loss: 0.0155 - val_loss: 0.0153\n",
      "Epoch 17/200\n",
      "117864/117864 [==============================] - 0s 3us/step - loss: 0.0155 - val_loss: 0.0153\n",
      "Epoch 18/200\n",
      "117864/117864 [==============================] - 0s 3us/step - loss: 0.0155 - val_loss: 0.0153\n",
      "Epoch 19/200\n",
      "117864/117864 [==============================] - 0s 3us/step - loss: 0.0155 - val_loss: 0.0153\n",
      "Epoch 20/200\n",
      "117864/117864 [==============================] - 0s 3us/step - loss: 0.0155 - val_loss: 0.0153\n",
      "Epoch 21/200\n",
      "117864/117864 [==============================] - 0s 3us/step - loss: 0.0154 - val_loss: 0.0153\n",
      "Epoch 22/200\n",
      "117864/117864 [==============================] - 0s 3us/step - loss: 0.0154 - val_loss: 0.0153\n",
      "Epoch 23/200\n",
      "117864/117864 [==============================] - 0s 3us/step - loss: 0.0154 - val_loss: 0.0153\n",
      "Epoch 24/200\n",
      "117864/117864 [==============================] - 0s 3us/step - loss: 0.0154 - val_loss: 0.0152\n",
      "Epoch 25/200\n",
      "117864/117864 [==============================] - 0s 3us/step - loss: 0.0154 - val_loss: 0.0152\n",
      "Epoch 26/200\n",
      "117864/117864 [==============================] - 0s 3us/step - loss: 0.0154 - val_loss: 0.0152\n",
      "Epoch 27/200\n",
      "117864/117864 [==============================] - 0s 3us/step - loss: 0.0154 - val_loss: 0.0152\n",
      "Epoch 28/200\n",
      "117864/117864 [==============================] - 0s 3us/step - loss: 0.0154 - val_loss: 0.0152\n",
      "Epoch 29/200\n",
      "117864/117864 [==============================] - 0s 3us/step - loss: 0.0154 - val_loss: 0.0152\n",
      "Epoch 30/200\n",
      "117864/117864 [==============================] - 0s 3us/step - loss: 0.0154 - val_loss: 0.0152\n",
      "Epoch 31/200\n",
      "117864/117864 [==============================] - 0s 3us/step - loss: 0.0154 - val_loss: 0.0152\n",
      "Epoch 32/200\n",
      "117864/117864 [==============================] - 0s 3us/step - loss: 0.0154 - val_loss: 0.0152\n",
      "Epoch 33/200\n",
      "117864/117864 [==============================] - 0s 3us/step - loss: 0.0154 - val_loss: 0.0152\n",
      "Epoch 34/200\n",
      "117864/117864 [==============================] - 0s 3us/step - loss: 0.0154 - val_loss: 0.0152\n",
      "Epoch 35/200\n",
      "117864/117864 [==============================] - 0s 3us/step - loss: 0.0154 - val_loss: 0.0152\n",
      "Epoch 36/200\n",
      "117864/117864 [==============================] - 0s 3us/step - loss: 0.0154 - val_loss: 0.0152\n",
      "Epoch 37/200\n",
      "117864/117864 [==============================] - 0s 3us/step - loss: 0.0154 - val_loss: 0.0152\n",
      "Epoch 38/200\n",
      "117864/117864 [==============================] - 0s 3us/step - loss: 0.0154 - val_loss: 0.0152\n",
      "Epoch 39/200\n",
      "117864/117864 [==============================] - 0s 3us/step - loss: 0.0154 - val_loss: 0.0152\n",
      "Epoch 40/200\n",
      "117864/117864 [==============================] - 0s 3us/step - loss: 0.0154 - val_loss: 0.0152\n",
      "Epoch 41/200\n",
      "117864/117864 [==============================] - 0s 3us/step - loss: 0.0154 - val_loss: 0.0152\n",
      "Epoch 42/200\n",
      "117864/117864 [==============================] - 0s 3us/step - loss: 0.0154 - val_loss: 0.0152\n",
      "Epoch 43/200\n",
      "117864/117864 [==============================] - 0s 3us/step - loss: 0.0154 - val_loss: 0.0152\n",
      "Epoch 44/200\n",
      "117864/117864 [==============================] - 0s 3us/step - loss: 0.0153 - val_loss: 0.0152\n",
      "Epoch 45/200\n",
      "117864/117864 [==============================] - 0s 3us/step - loss: 0.0153 - val_loss: 0.0152\n",
      "Epoch 46/200\n",
      "117864/117864 [==============================] - 0s 3us/step - loss: 0.0153 - val_loss: 0.0152\n",
      "Epoch 47/200\n",
      "117864/117864 [==============================] - 0s 3us/step - loss: 0.0153 - val_loss: 0.0152\n",
      "Epoch 48/200\n",
      "117864/117864 [==============================] - 0s 3us/step - loss: 0.0153 - val_loss: 0.0152\n",
      "Epoch 49/200\n",
      "117864/117864 [==============================] - 0s 3us/step - loss: 0.0153 - val_loss: 0.0152\n",
      "Epoch 50/200\n",
      "117864/117864 [==============================] - 0s 3us/step - loss: 0.0153 - val_loss: 0.0152\n",
      "Epoch 51/200\n",
      "117864/117864 [==============================] - 0s 3us/step - loss: 0.0153 - val_loss: 0.0152\n",
      "Epoch 52/200\n",
      "117864/117864 [==============================] - 0s 3us/step - loss: 0.0153 - val_loss: 0.0152\n",
      "Epoch 53/200\n",
      "117864/117864 [==============================] - 0s 3us/step - loss: 0.0153 - val_loss: 0.0152\n",
      "Epoch 54/200\n",
      "117864/117864 [==============================] - 0s 3us/step - loss: 0.0153 - val_loss: 0.0152\n",
      "Epoch 55/200\n",
      "117864/117864 [==============================] - 0s 3us/step - loss: 0.0153 - val_loss: 0.0152\n",
      "Epoch 56/200\n",
      "117864/117864 [==============================] - 0s 3us/step - loss: 0.0153 - val_loss: 0.0152\n",
      "Epoch 57/200\n",
      "117864/117864 [==============================] - 0s 3us/step - loss: 0.0153 - val_loss: 0.0152\n",
      "Epoch 58/200\n",
      "117864/117864 [==============================] - 0s 3us/step - loss: 0.0153 - val_loss: 0.0152\n",
      "Epoch 59/200\n",
      "117864/117864 [==============================] - 0s 3us/step - loss: 0.0153 - val_loss: 0.0152\n",
      "Epoch 60/200\n",
      "117864/117864 [==============================] - 0s 3us/step - loss: 0.0153 - val_loss: 0.0152\n",
      "Epoch 61/200\n",
      "117864/117864 [==============================] - 0s 3us/step - loss: 0.0153 - val_loss: 0.0152\n",
      "Epoch 62/200\n",
      "117864/117864 [==============================] - 0s 3us/step - loss: 0.0153 - val_loss: 0.0152\n",
      "Epoch 63/200\n",
      "117864/117864 [==============================] - 0s 3us/step - loss: 0.0153 - val_loss: 0.0151\n",
      "Epoch 64/200\n",
      "117864/117864 [==============================] - 0s 3us/step - loss: 0.0153 - val_loss: 0.0152\n",
      "Epoch 65/200\n",
      "117864/117864 [==============================] - 0s 3us/step - loss: 0.0153 - val_loss: 0.0152\n",
      "Epoch 66/200\n",
      "117864/117864 [==============================] - 0s 3us/step - loss: 0.0153 - val_loss: 0.0152\n",
      "Epoch 67/200\n",
      "117864/117864 [==============================] - 0s 3us/step - loss: 0.0153 - val_loss: 0.0152\n",
      "Epoch 68/200\n",
      "117864/117864 [==============================] - 0s 3us/step - loss: 0.0153 - val_loss: 0.0152\n",
      "Epoch 69/200\n",
      "117864/117864 [==============================] - 0s 3us/step - loss: 0.0153 - val_loss: 0.0152\n",
      "Epoch 70/200\n",
      "117864/117864 [==============================] - 0s 3us/step - loss: 0.0153 - val_loss: 0.0152\n",
      "Epoch 71/200\n",
      "117864/117864 [==============================] - 0s 3us/step - loss: 0.0153 - val_loss: 0.0152\n",
      "Epoch 72/200\n",
      "117864/117864 [==============================] - 0s 3us/step - loss: 0.0153 - val_loss: 0.0152\n",
      "Epoch 73/200\n",
      "117864/117864 [==============================] - 0s 3us/step - loss: 0.0153 - val_loss: 0.0151\n"
     ]
    }
   ],
   "source": [
    "hist = vae.fit(x_train, x_train,\n",
    "               shuffle=True,\n",
    "               epochs=epochs,\n",
    "               batch_size=batch_size,\n",
    "               validation_data=(x_val, x_val),\n",
    "               callbacks=my_callbacks)"
   ]
  },
  {
   "cell_type": "markdown",
   "metadata": {},
   "source": [
    "# Visualization"
   ]
  },
  {
   "cell_type": "code",
   "execution_count": 27,
   "metadata": {},
   "outputs": [],
   "source": [
    "import matplotlib.pyplot as plt"
   ]
  },
  {
   "cell_type": "code",
   "execution_count": 28,
   "metadata": {},
   "outputs": [
    {
     "data": {
      "image/png": "[encoded data removed]",
      "text/plain": [
       "<Figure size 432x266.991 with 1 Axes>"
      ]
     },
     "metadata": {
      "needs_background": "light"
     },
     "output_type": "display_data"
    }
   ],
   "source": [
    "golden_size = lambda width: (width, 2. * width / (1 + np.sqrt(5)))\n",
    "\n",
    "fig, ax = plt.subplots(figsize=golden_size(6))\n",
    "\n",
    "hist_df = pd.DataFrame(hist.history)\n",
    "hist_df.plot(ax=ax)\n",
    "\n",
    "ax.set_ylabel('NELBO')\n",
    "ax.set_xlabel('# epochs')\n",
    "\n",
    "ax.set_ylim(.99*hist_df[1:].values.min(), \n",
    "            1.1*hist_df[1:].values.max())\n",
    "plt.show()"
   ]
  },
  {
   "cell_type": "code",
   "execution_count": 29,
   "metadata": {},
   "outputs": [],
   "source": [
    "predictions = vae.predict(x_test)"
   ]
  },
  {
   "cell_type": "code",
   "execution_count": 30,
   "metadata": {},
   "outputs": [
    {
     "data": {
      "text/plain": [
       "array([[ 0.00599492,  0.00701819,  0.04701798, -0.45887253],\n",
       "       [ 0.00612069,  0.00638165,  0.02243845, -0.47782344],\n",
       "       [-0.01159926,  0.01925661,  0.07538764,  1.5772469 ],\n",
       "       ...,\n",
       "       [ 0.00565313,  0.00689721, -0.00871535, -0.48582548],\n",
       "       [ 0.00664479,  0.00600265,  0.00392516, -0.49163187],\n",
       "       [ 0.0060753 ,  0.00717351,  0.05772662, -0.45149133]],\n",
       "      dtype=float32)"
      ]
     },
     "execution_count": 30,
     "metadata": {},
     "output_type": "execute_result"
    }
   ],
   "source": [
    "predictions"
   ]
  },
  {
   "cell_type": "code",
   "execution_count": 31,
   "metadata": {},
   "outputs": [],
   "source": [
    "distr = (x_test - predictions) / x_test"
   ]
  },
  {
   "cell_type": "code",
   "execution_count": 32,
   "metadata": {},
   "outputs": [],
   "source": [
    "px_pred = [row[0] for row in predictions]\n",
    "py_pred = [row[1] for row in predictions]\n",
    "pz_pred = [row[2] for row in predictions]\n",
    "e_pred = [row[3] for row in predictions]"
   ]
  },
  {
   "cell_type": "code",
   "execution_count": 33,
   "metadata": {},
   "outputs": [],
   "source": [
    "px = [row[0] for row in x_test]\n",
    "py = [row[1] for row in x_test]\n",
    "pz = [row[2] for row in x_test]\n",
    "e = [row[3] for row in x_test]"
   ]
  },
  {
   "cell_type": "code",
   "execution_count": 34,
   "metadata": {},
   "outputs": [],
   "source": [
    "overall_distr = K.flatten(distr)\n",
    "overall_pred = K.flatten(predictions)\n",
    "overall_input = K.flatten(x_test)"
   ]
  },
  {
   "cell_type": "code",
   "execution_count": 35,
   "metadata": {},
   "outputs": [
    {
     "data": {
      "text/plain": [
       "(array([2.5000e+01, 3.1000e+01, 3.7000e+01, 4.0000e+01, 3.8000e+01,\n",
       "        2.3000e+01, 3.8000e+01, 3.5000e+01, 5.6000e+01, 4.5000e+01,\n",
       "        6.1000e+01, 6.7000e+01, 5.9550e+03, 2.6860e+03, 1.1200e+03,\n",
       "        6.4200e+02, 4.9600e+02, 3.7100e+02, 3.5000e+02, 3.5500e+02,\n",
       "        4.2100e+02, 5.7200e+02, 8.9500e+02, 2.5490e+03, 3.0651e+04,\n",
       "        3.4210e+03, 1.2840e+03, 5.7800e+02, 2.6500e+02, 2.5300e+02,\n",
       "        1.7200e+02, 1.4200e+02, 1.5000e+02, 1.0200e+02, 1.1900e+02,\n",
       "        8.9000e+01, 8.1000e+01, 8.4000e+01, 8.1000e+01, 6.4000e+01,\n",
       "        6.8000e+01, 5.9000e+01, 4.5000e+01, 5.8000e+01, 5.1000e+01,\n",
       "        5.0000e+01, 5.7000e+01, 5.6000e+01, 4.6000e+01]),\n",
       " array([-1.        , -0.95918367, -0.91836735, -0.87755102, -0.83673469,\n",
       "        -0.79591837, -0.75510204, -0.71428571, -0.67346939, -0.63265306,\n",
       "        -0.59183673, -0.55102041, -0.51020408, -0.46938776, -0.42857143,\n",
       "        -0.3877551 , -0.34693878, -0.30612245, -0.26530612, -0.2244898 ,\n",
       "        -0.18367347, -0.14285714, -0.10204082, -0.06122449, -0.02040816,\n",
       "         0.02040816,  0.06122449,  0.10204082,  0.14285714,  0.18367347,\n",
       "         0.2244898 ,  0.26530612,  0.30612245,  0.34693878,  0.3877551 ,\n",
       "         0.42857143,  0.46938776,  0.51020408,  0.55102041,  0.59183673,\n",
       "         0.63265306,  0.67346939,  0.71428571,  0.75510204,  0.79591837,\n",
       "         0.83673469,  0.87755102,  0.91836735,  0.95918367,  1.        ]),\n",
       " <a list of 49 Patch objects>)"
      ]
     },
     "execution_count": 35,
     "metadata": {},
     "output_type": "execute_result"
    },
    {
     "data": {
      "image/png": "[encoded data removed]",
      "text/plain": [
       "<Figure size 432x288 with 1 Axes>"
      ]
     },
     "metadata": {
      "needs_background": "light"
     },
     "output_type": "display_data"
    }
   ],
   "source": [
    "# overall pred vs input\n",
    "bins = np.linspace(-1, 1, 50)\n",
    "plt.hist(overall_input, bins=bins,alpha=0.5)\n",
    "plt.hist(overall_pred, bins=bins,alpha=0.5)"
   ]
  },
  {
   "cell_type": "code",
   "execution_count": 36,
   "metadata": {},
   "outputs": [
    {
     "data": {
      "text/plain": [
       "(array([  148.,   177.,   172.,   212.,   203.,   240.,   246.,   258.,\n",
       "          280.,   325.,   350.,   409.,   467.,  2136., 22285.,  1736.,\n",
       "         1015.,  1561.,   896.,   779.,  1032.,  5299.,  1612.,   695.,\n",
       "          552.,   446.,   363.,   337.,   338.]),\n",
       " array([-2.        , -1.86206897, -1.72413793, -1.5862069 , -1.44827586,\n",
       "        -1.31034483, -1.17241379, -1.03448276, -0.89655172, -0.75862069,\n",
       "        -0.62068966, -0.48275862, -0.34482759, -0.20689655, -0.06896552,\n",
       "         0.06896552,  0.20689655,  0.34482759,  0.48275862,  0.62068966,\n",
       "         0.75862069,  0.89655172,  1.03448276,  1.17241379,  1.31034483,\n",
       "         1.44827586,  1.5862069 ,  1.72413793,  1.86206897,  2.        ]),\n",
       " <a list of 29 Patch objects>)"
      ]
     },
     "execution_count": 36,
     "metadata": {},
     "output_type": "execute_result"
    },
    {
     "data": {
      "image/png": "[encoded data removed]",
      "text/plain": [
       "<Figure size 432x288 with 1 Axes>"
      ]
     },
     "metadata": {
      "needs_background": "light"
     },
     "output_type": "display_data"
    }
   ],
   "source": [
    "# overall distr\n",
    "bins = np.linspace(-2, 2, 30)\n",
    "plt.hist(overall_distr, bins=bins)"
   ]
  },
  {
   "cell_type": "markdown",
   "metadata": {},
   "source": [
    "## Stacking output (orange) over input (blue) for pT, eta, phi, m"
   ]
  },
  {
   "cell_type": "code",
   "execution_count": 37,
   "metadata": {},
   "outputs": [
    {
     "data": {
      "text/plain": [
       "(array([0.000e+00, 0.000e+00, 0.000e+00, 0.000e+00, 0.000e+00, 0.000e+00,\n",
       "        0.000e+00, 0.000e+00, 0.000e+00, 0.000e+00, 0.000e+00, 0.000e+00,\n",
       "        0.000e+00, 0.000e+00, 1.500e+01, 2.020e+02, 3.160e+02, 2.090e+02,\n",
       "        5.630e+02, 3.879e+03, 8.524e+03, 3.370e+02, 2.190e+02, 1.560e+02,\n",
       "        1.020e+02, 7.700e+01, 6.300e+01, 3.800e+01, 2.000e+01, 5.000e+00,\n",
       "        3.000e+00, 2.000e+00, 2.000e+00, 2.000e+00, 0.000e+00, 0.000e+00,\n",
       "        0.000e+00, 0.000e+00, 0.000e+00]),\n",
       " array([-0.2       , -0.18974359, -0.17948718, -0.16923077, -0.15897436,\n",
       "        -0.14871795, -0.13846154, -0.12820513, -0.11794872, -0.10769231,\n",
       "        -0.0974359 , -0.08717949, -0.07692308, -0.06666667, -0.05641026,\n",
       "        -0.04615385, -0.03589744, -0.02564103, -0.01538462, -0.00512821,\n",
       "         0.00512821,  0.01538462,  0.02564103,  0.03589744,  0.04615385,\n",
       "         0.05641026,  0.06666667,  0.07692308,  0.08717949,  0.0974359 ,\n",
       "         0.10769231,  0.11794872,  0.12820513,  0.13846154,  0.14871795,\n",
       "         0.15897436,  0.16923077,  0.17948718,  0.18974359,  0.2       ]),\n",
       " <a list of 39 Patch objects>)"
      ]
     },
     "execution_count": 37,
     "metadata": {},
     "output_type": "execute_result"
    },
    {
     "data": {
      "image/png": "[encoded data removed]",
      "text/plain": [
       "<Figure size 432x288 with 1 Axes>"
      ]
     },
     "metadata": {
      "needs_background": "light"
     },
     "output_type": "display_data"
    }
   ],
   "source": [
    "bins = np.linspace(-0.2, 0.2, 40)\n",
    "plt.hist(px, bins=bins,alpha=0.5)\n",
    "plt.hist(px_pred, bins=bins,alpha=0.5)"
   ]
  },
  {
   "cell_type": "code",
   "execution_count": 38,
   "metadata": {},
   "outputs": [
    {
     "name": "stdout",
     "output_type": "stream",
     "text": [
      "tf.Tensor(0.95611954, shape=(), dtype=float32)\n"
     ]
    }
   ],
   "source": [
    "print(mse(px,px_pred))"
   ]
  },
  {
   "cell_type": "code",
   "execution_count": 39,
   "metadata": {},
   "outputs": [
    {
     "data": {
      "text/plain": [
       "(array([1.0000e+00, 5.0000e+00, 9.0000e+00, 1.0000e+01, 1.3000e+01,\n",
       "        1.7000e+01, 1.8000e+01, 3.0000e+01, 3.4000e+01, 4.2000e+01,\n",
       "        3.2000e+01, 4.8000e+01, 5.3000e+01, 7.5000e+01, 8.0000e+01,\n",
       "        9.3000e+01, 1.0500e+02, 1.1000e+02, 1.2600e+02, 1.6100e+02,\n",
       "        1.1235e+04, 9.9800e+02, 5.0100e+02, 1.6300e+02, 1.4800e+02,\n",
       "        1.2300e+02, 8.8000e+01, 7.2000e+01, 1.1700e+02, 1.1300e+02,\n",
       "        6.1000e+01, 2.5000e+01, 1.2000e+01, 5.0000e+00, 0.0000e+00,\n",
       "        1.0000e+00, 1.0000e+00, 0.0000e+00, 0.0000e+00]),\n",
       " array([-0.2       , -0.18974359, -0.17948718, -0.16923077, -0.15897436,\n",
       "        -0.14871795, -0.13846154, -0.12820513, -0.11794872, -0.10769231,\n",
       "        -0.0974359 , -0.08717949, -0.07692308, -0.06666667, -0.05641026,\n",
       "        -0.04615385, -0.03589744, -0.02564103, -0.01538462, -0.00512821,\n",
       "         0.00512821,  0.01538462,  0.02564103,  0.03589744,  0.04615385,\n",
       "         0.05641026,  0.06666667,  0.07692308,  0.08717949,  0.0974359 ,\n",
       "         0.10769231,  0.11794872,  0.12820513,  0.13846154,  0.14871795,\n",
       "         0.15897436,  0.16923077,  0.17948718,  0.18974359,  0.2       ]),\n",
       " <a list of 39 Patch objects>)"
      ]
     },
     "execution_count": 39,
     "metadata": {},
     "output_type": "execute_result"
    },
    {
     "data": {
      "image/png": "[encoded data removed]",
      "text/plain": [
       "<Figure size 432x288 with 1 Axes>"
      ]
     },
     "metadata": {
      "needs_background": "light"
     },
     "output_type": "display_data"
    }
   ],
   "source": [
    "bins = np.linspace(-0.2, 0.2, 40)\n",
    "plt.hist(py, bins=bins,alpha=0.5)\n",
    "plt.hist(py_pred, bins=bins,alpha=0.5)"
   ]
  },
  {
   "cell_type": "code",
   "execution_count": 40,
   "metadata": {},
   "outputs": [
    {
     "name": "stdout",
     "output_type": "stream",
     "text": [
      "tf.Tensor(1.0330703, shape=(), dtype=float32)\n"
     ]
    }
   ],
   "source": [
    "print(mse(py,py_pred))"
   ]
  },
  {
   "cell_type": "code",
   "execution_count": 41,
   "metadata": {},
   "outputs": [
    {
     "data": {
      "text/plain": [
       "(array([  32.,   29.,   42.,   47.,   51.,   50.,   55.,   69.,   63.,\n",
       "          64.,   93.,   93.,  152.,  172.,  203.,  298.,  368.,  704.,\n",
       "        1313., 4022., 1340.,  707.,  442.,  287.,  204.,  145.,  127.,\n",
       "         132.,   97.,   81.,   49.,   91.,   58.,   46.,   44.,   48.,\n",
       "          35.,   43.,   30.]),\n",
       " array([-0.5       , -0.47435897, -0.44871795, -0.42307692, -0.3974359 ,\n",
       "        -0.37179487, -0.34615385, -0.32051282, -0.29487179, -0.26923077,\n",
       "        -0.24358974, -0.21794872, -0.19230769, -0.16666667, -0.14102564,\n",
       "        -0.11538462, -0.08974359, -0.06410256, -0.03846154, -0.01282051,\n",
       "         0.01282051,  0.03846154,  0.06410256,  0.08974359,  0.11538462,\n",
       "         0.14102564,  0.16666667,  0.19230769,  0.21794872,  0.24358974,\n",
       "         0.26923077,  0.29487179,  0.32051282,  0.34615385,  0.37179487,\n",
       "         0.3974359 ,  0.42307692,  0.44871795,  0.47435897,  0.5       ]),\n",
       " <a list of 39 Patch objects>)"
      ]
     },
     "execution_count": 41,
     "metadata": {},
     "output_type": "execute_result"
    },
    {
     "data": {
      "image/png": "[encoded data removed]",
      "text/plain": [
       "<Figure size 432x288 with 1 Axes>"
      ]
     },
     "metadata": {
      "needs_background": "light"
     },
     "output_type": "display_data"
    }
   ],
   "source": [
    "bins = np.linspace(-0.5, 0.5, 40)\n",
    "plt.hist(pz, bins=bins,alpha=0.5)\n",
    "plt.hist(pz_pred, bins=bins,alpha=0.5)"
   ]
  },
  {
   "cell_type": "code",
   "execution_count": 42,
   "metadata": {},
   "outputs": [
    {
     "name": "stdout",
     "output_type": "stream",
     "text": [
      "tf.Tensor(0.0002295175, shape=(), dtype=float32)\n"
     ]
    }
   ],
   "source": [
    "print(mse(pz,pz_pred))"
   ]
  },
  {
   "cell_type": "code",
   "execution_count": 43,
   "metadata": {},
   "outputs": [
    {
     "data": {
      "text/plain": [
       "(array([   0.,    0.,    0.,    0., 3602., 2988., 1558.,  832.,  517.,\n",
       "         348.,  309.,  235.,  195.,  153.,  125.,  135.,  106.,  103.,\n",
       "          78.,   61.,   70.,   52.,   81.,   45.,   51.,   48.,   57.,\n",
       "          54.,   42.,   39.,   32.,   38.,   26.,   23.,   21.,   35.,\n",
       "          27.,   24.,   13.]),\n",
       " array([-0.6       , -0.57692308, -0.55384615, -0.53076923, -0.50769231,\n",
       "        -0.48461538, -0.46153846, -0.43846154, -0.41538462, -0.39230769,\n",
       "        -0.36923077, -0.34615385, -0.32307692, -0.3       , -0.27692308,\n",
       "        -0.25384615, -0.23076923, -0.20769231, -0.18461538, -0.16153846,\n",
       "        -0.13846154, -0.11538462, -0.09230769, -0.06923077, -0.04615385,\n",
       "        -0.02307692,  0.        ,  0.02307692,  0.04615385,  0.06923077,\n",
       "         0.09230769,  0.11538462,  0.13846154,  0.16153846,  0.18461538,\n",
       "         0.20769231,  0.23076923,  0.25384615,  0.27692308,  0.3       ]),\n",
       " <a list of 39 Patch objects>)"
      ]
     },
     "execution_count": 43,
     "metadata": {},
     "output_type": "execute_result"
    },
    {
     "data": {
      "image/png": "[encoded data removed]",
      "text/plain": [
       "<Figure size 432x288 with 1 Axes>"
      ]
     },
     "metadata": {
      "needs_background": "light"
     },
     "output_type": "display_data"
    }
   ],
   "source": [
    "bins = np.linspace(-0.6,0.3, 40)\n",
    "plt.hist(e, bins=bins,alpha=0.5)\n",
    "plt.hist(e_pred, bins=bins,alpha=0.5)"
   ]
  },
  {
   "cell_type": "code",
   "execution_count": 44,
   "metadata": {},
   "outputs": [
    {
     "name": "stdout",
     "output_type": "stream",
     "text": [
      "tf.Tensor(7.638296e-05, shape=(), dtype=float32)\n"
     ]
    }
   ],
   "source": [
    "print(mse(e,e_pred))"
   ]
  },
  {
   "cell_type": "code",
   "execution_count": 45,
   "metadata": {},
   "outputs": [],
   "source": [
    "d_px = [row[0] for row in distr]\n",
    "d_py = [row[1] for row in distr]\n",
    "d_pz = [row[2] for row in distr]\n",
    "d_e = [row[3] for row in distr]"
   ]
  },
  {
   "cell_type": "markdown",
   "metadata": {},
   "source": [
    "## Distribution of (input - output) / input"
   ]
  },
  {
   "cell_type": "code",
   "execution_count": 46,
   "metadata": {},
   "outputs": [],
   "source": [
    "bins = np.linspace(-2, 2, 30)"
   ]
  },
  {
   "cell_type": "code",
   "execution_count": 47,
   "metadata": {},
   "outputs": [
    {
     "data": {
      "text/plain": [
       "(array([  58.,   74.,   63.,   82.,   70.,   75.,   83.,   85.,  104.,\n",
       "          98.,   89.,  122.,  120.,  127.,  134.,  178.,  166.,  182.,\n",
       "         239.,  316.,  480., 3132.,  826.,  369.,  278.,  207.,  181.,\n",
       "         187.,  163.]),\n",
       " array([-2.        , -1.86206897, -1.72413793, -1.5862069 , -1.44827586,\n",
       "        -1.31034483, -1.17241379, -1.03448276, -0.89655172, -0.75862069,\n",
       "        -0.62068966, -0.48275862, -0.34482759, -0.20689655, -0.06896552,\n",
       "         0.06896552,  0.20689655,  0.34482759,  0.48275862,  0.62068966,\n",
       "         0.75862069,  0.89655172,  1.03448276,  1.17241379,  1.31034483,\n",
       "         1.44827586,  1.5862069 ,  1.72413793,  1.86206897,  2.        ]),\n",
       " <a list of 29 Patch objects>)"
      ]
     },
     "execution_count": 47,
     "metadata": {},
     "output_type": "execute_result"
    },
    {
     "data": {
      "image/png": "[encoded data removed]",
      "text/plain": [
       "<Figure size 432x288 with 1 Axes>"
      ]
     },
     "metadata": {
      "needs_background": "light"
     },
     "output_type": "display_data"
    }
   ],
   "source": [
    "plt.hist(d_px, bins=bins)"
   ]
  },
  {
   "cell_type": "code",
   "execution_count": 48,
   "metadata": {},
   "outputs": [
    {
     "data": {
      "text/plain": [
       "(array([  77.,   93.,   86.,  101.,  102.,  130.,  117.,  112.,  105.,\n",
       "         124.,  140.,  141.,  125.,  122.,  164.,  156.,  174.,  187.,\n",
       "         218.,  277.,  412., 2087.,  729.,  290.,  230.,  205.,  164.,\n",
       "         142.,  159.]),\n",
       " array([-2.        , -1.86206897, -1.72413793, -1.5862069 , -1.44827586,\n",
       "        -1.31034483, -1.17241379, -1.03448276, -0.89655172, -0.75862069,\n",
       "        -0.62068966, -0.48275862, -0.34482759, -0.20689655, -0.06896552,\n",
       "         0.06896552,  0.20689655,  0.34482759,  0.48275862,  0.62068966,\n",
       "         0.75862069,  0.89655172,  1.03448276,  1.17241379,  1.31034483,\n",
       "         1.44827586,  1.5862069 ,  1.72413793,  1.86206897,  2.        ]),\n",
       " <a list of 29 Patch objects>)"
      ]
     },
     "execution_count": 48,
     "metadata": {},
     "output_type": "execute_result"
    },
    {
     "data": {
      "image/png": "[encoded data removed]",
      "text/plain": [
       "<Figure size 432x288 with 1 Axes>"
      ]
     },
     "metadata": {
      "needs_background": "light"
     },
     "output_type": "display_data"
    }
   ],
   "source": [
    "plt.hist(d_py, bins=bins)"
   ]
  },
  {
   "cell_type": "code",
   "execution_count": 49,
   "metadata": {},
   "outputs": [
    {
     "data": {
      "text/plain": [
       "(array([  13.,   10.,   23.,   27.,   29.,   34.,   43.,   57.,   67.,\n",
       "         101.,  120.,  137.,  201., 1804., 7599., 1268.,  645., 1184.,\n",
       "         435.,  178.,  133.,   79.,   54.,   35.,   42.,   33.,   18.,\n",
       "           8.,   15.]),\n",
       " array([-2.        , -1.86206897, -1.72413793, -1.5862069 , -1.44827586,\n",
       "        -1.31034483, -1.17241379, -1.03448276, -0.89655172, -0.75862069,\n",
       "        -0.62068966, -0.48275862, -0.34482759, -0.20689655, -0.06896552,\n",
       "         0.06896552,  0.20689655,  0.34482759,  0.48275862,  0.62068966,\n",
       "         0.75862069,  0.89655172,  1.03448276,  1.17241379,  1.31034483,\n",
       "         1.44827586,  1.5862069 ,  1.72413793,  1.86206897,  2.        ]),\n",
       " <a list of 29 Patch objects>)"
      ]
     },
     "execution_count": 49,
     "metadata": {},
     "output_type": "execute_result"
    },
    {
     "data": {
      "image/png": "[encoded data removed]",
      "text/plain": [
       "<Figure size 432x288 with 1 Axes>"
      ]
     },
     "metadata": {
      "needs_background": "light"
     },
     "output_type": "display_data"
    }
   ],
   "source": [
    "plt.hist(d_pz, bins=bins)"
   ]
  },
  {
   "cell_type": "code",
   "execution_count": 50,
   "metadata": {},
   "outputs": [
    {
     "data": {
      "text/plain": [
       "(array([0.0000e+00, 0.0000e+00, 0.0000e+00, 2.0000e+00, 2.0000e+00,\n",
       "        1.0000e+00, 3.0000e+00, 4.0000e+00, 4.0000e+00, 2.0000e+00,\n",
       "        1.0000e+00, 9.0000e+00, 2.1000e+01, 8.3000e+01, 1.4388e+04,\n",
       "        1.3400e+02, 3.0000e+01, 8.0000e+00, 4.0000e+00, 8.0000e+00,\n",
       "        7.0000e+00, 1.0000e+00, 3.0000e+00, 1.0000e+00, 2.0000e+00,\n",
       "        1.0000e+00, 0.0000e+00, 0.0000e+00, 1.0000e+00]),\n",
       " array([-2.        , -1.86206897, -1.72413793, -1.5862069 , -1.44827586,\n",
       "        -1.31034483, -1.17241379, -1.03448276, -0.89655172, -0.75862069,\n",
       "        -0.62068966, -0.48275862, -0.34482759, -0.20689655, -0.06896552,\n",
       "         0.06896552,  0.20689655,  0.34482759,  0.48275862,  0.62068966,\n",
       "         0.75862069,  0.89655172,  1.03448276,  1.17241379,  1.31034483,\n",
       "         1.44827586,  1.5862069 ,  1.72413793,  1.86206897,  2.        ]),\n",
       " <a list of 29 Patch objects>)"
      ]
     },
     "execution_count": 50,
     "metadata": {},
     "output_type": "execute_result"
    },
    {
     "data": {
      "image/png": "[encoded data removed]",
      "text/plain": [
       "<Figure size 432x288 with 1 Axes>"
      ]
     },
     "metadata": {
      "needs_background": "light"
     },
     "output_type": "display_data"
    }
   ],
   "source": [
    "plt.hist(d_e, bins=bins)"
   ]
  }
 ],
 "metadata": {
  "kernelspec": {
   "display_name": "Python 3",
   "language": "python",
   "name": "python3"
  },
  "language_info": {
   "codemirror_mode": {
    "name": "ipython",
    "version": 3
   },
   "file_extension": ".py",
   "mimetype": "text/x-python",
   "name": "python",
   "nbconvert_exporter": "python",
   "pygments_lexer": "ipython3",
   "version": "3.7.6"
  }
 },
 "nbformat": 4,
 "nbformat_minor": 4
}
