{
 "cells": [
  {
   "cell_type": "code",
   "execution_count": 45,
   "metadata": {},
   "outputs": [],
   "source": [
    "import pandas as pd\n",
    "import numpy as np\n",
    "from pyjet import cluster,DTYPE_PTEPM\n",
    "from sklearn import preprocessing\n",
    "import tensorflow as tf"
   ]
  },
  {
   "cell_type": "markdown",
   "metadata": {},
   "source": [
    "# Pre processing"
   ]
  },
  {
   "cell_type": "code",
   "execution_count": 46,
   "metadata": {},
   "outputs": [],
   "source": [
    "path = '/anomalyvol/data/events_LHCO2020_backgroundMC_Pythia.h5'"
   ]
  },
  {
   "cell_type": "code",
   "execution_count": 47,
   "metadata": {},
   "outputs": [],
   "source": [
    "df = pd.read_hdf(path,stop=6000) # just read first 10000 events"
   ]
  },
  {
   "cell_type": "code",
   "execution_count": 48,
   "metadata": {},
   "outputs": [],
   "source": [
    "all_events = df.values"
   ]
  },
  {
   "cell_type": "code",
   "execution_count": 49,
   "metadata": {},
   "outputs": [],
   "source": [
    "rows = all_events.shape[0]\n",
    "cols = all_events.shape[1]\n",
    "data = []"
   ]
  },
  {
   "cell_type": "code",
   "execution_count": 50,
   "metadata": {},
   "outputs": [],
   "source": [
    "for i in range(rows):\n",
    "    pseudojets_input = np.zeros(len([x for x in all_events[i][::3] if x > 0]), dtype=DTYPE_PTEPM)\n",
    "    for j in range(cols // 3):\n",
    "        if (all_events[i][j*3]>0):\n",
    "            pseudojets_input[j]['pT'] = all_events[i][j*3]\n",
    "            pseudojets_input[j]['eta'] = all_events[i][j*3+1]\n",
    "            pseudojets_input[j]['phi'] = all_events[i][j*3+2]\n",
    "        pass\n",
    "    sequence = cluster(pseudojets_input, R=1.0, p=-1)\n",
    "    jets = sequence.inclusive_jets()\n",
    "    for k in range(len(jets)):\n",
    "        jet = []\n",
    "        jet.append(jets[k].px)\n",
    "        jet.append(jets[k].py)\n",
    "        jet.append(jets[k].pz)\n",
    "        jet.append(jets[k].e)\n",
    "        data.append(jet)"
   ]
  },
  {
   "cell_type": "code",
   "execution_count": 51,
   "metadata": {},
   "outputs": [
    {
     "data": {
      "text/plain": [
       "(88434, 4)"
      ]
     },
     "execution_count": 51,
     "metadata": {},
     "output_type": "execute_result"
    }
   ],
   "source": [
    "data = np.array(data)\n",
    "data.shape"
   ]
  },
  {
   "cell_type": "code",
   "execution_count": 52,
   "metadata": {},
   "outputs": [],
   "source": [
    "# log transform pT\n",
    "#data[:,3] = np.ma.log(data[:,3]).filled()"
   ]
  },
  {
   "cell_type": "code",
   "execution_count": 53,
   "metadata": {},
   "outputs": [
    {
     "data": {
      "text/plain": [
       "array([[-1.17658220e+03, -7.79040316e+02,  3.40962660e+02,\n",
       "         1.45491963e+03],\n",
       "       [ 6.11088616e+02,  7.16513394e+02,  1.55833044e+03,\n",
       "         1.87194199e+03],\n",
       "       [ 4.96094722e+02, -1.87111748e+01,  1.78940558e+03,\n",
       "         1.85808569e+03],\n",
       "       ...,\n",
       "       [ 3.16274379e-01,  3.93550794e-01, -2.93137814e-01,\n",
       "         5.83816314e-01],\n",
       "       [-2.34749353e-01, -2.11788008e-01,  1.76074789e+01,\n",
       "         1.76103172e+01],\n",
       "       [ 2.00884932e-01, -1.71178173e-03,  9.94645744e+00,\n",
       "         9.94848597e+00]])"
      ]
     },
     "execution_count": 53,
     "metadata": {},
     "output_type": "execute_result"
    }
   ],
   "source": [
    "data"
   ]
  },
  {
   "cell_type": "code",
   "execution_count": 54,
   "metadata": {},
   "outputs": [],
   "source": [
    "# splitting data\n",
    "x_train = data[0:int(len(data) * 0.8)]\n",
    "x_val = data[int(len(data) * 0.8):int(len(data) * 0.9)]\n",
    "x_test = data[int(len(data) * 0.9):]"
   ]
  },
  {
   "cell_type": "code",
   "execution_count": 55,
   "metadata": {},
   "outputs": [],
   "source": [
    "# regularize\n",
    "scaler = preprocessing.StandardScaler()\n",
    "x_train = scaler.fit_transform(x_train)\n",
    "x_val = scaler.transform(x_val)\n",
    "x_test = scaler.transform(x_test)"
   ]
  },
  {
   "cell_type": "markdown",
   "metadata": {},
   "source": [
    "# VAE Model"
   ]
  },
  {
   "cell_type": "code",
   "execution_count": 89,
   "metadata": {},
   "outputs": [],
   "source": [
    "import keras\n",
    "from keras.layers import Lambda, Input, Dense, Flatten, Reshape, LeakyReLU\n",
    "from keras.models import Model, Sequential\n",
    "from keras import metrics, losses\n",
    "from keras import backend as K"
   ]
  },
  {
   "cell_type": "code",
   "execution_count": 57,
   "metadata": {},
   "outputs": [],
   "source": [
    "def sampling(args):\n",
    "    \"\"\"\n",
    "    # Arguments\n",
    "        args (tensor): mean and log of variance of Q(z|X)\n",
    "    # Returns\n",
    "        z (tensor): sampled latent vector\n",
    "    \"\"\"\n",
    "\n",
    "    z_mean, z_log_var = args\n",
    "    batch = K.shape(z_mean)[0]\n",
    "    dim = K.int_shape(z_mean)[1]\n",
    "    # by default, random_normal has mean = 0 and std = 1.0\n",
    "    epsilon = K.random_normal(shape=(batch, dim))\n",
    "    return z_mean + K.exp(0.5 * z_log_var) * epsilon"
   ]
  },
  {
   "cell_type": "code",
   "execution_count": 58,
   "metadata": {},
   "outputs": [],
   "source": [
    "inter_dim_1 = 16\n",
    "inter_dim_2 = 16\n",
    "final_dim = 8\n",
    "latent_dim = 2\n",
    "input_dim = 4"
   ]
  },
  {
   "cell_type": "code",
   "execution_count": 59,
   "metadata": {},
   "outputs": [],
   "source": [
    "# encoder\n",
    "x = Input(shape=(input_dim,))\n",
    "#x_flat = Flatten()(x)\n",
    "h1 = Dense(inter_dim_1, activation='relu')(x)\n",
    "\n",
    "h2 = Dense(inter_dim_2, activation='relu')(h1)\n",
    "h3 = Dense(final_dim, activation='relu')(h2)\n",
    "encoding = Dense(latent_dim, activation='tanh')(h3)"
   ]
  },
  {
   "cell_type": "code",
   "execution_count": 60,
   "metadata": {},
   "outputs": [],
   "source": [
    "# decoder\n",
    "decoder_h3 = Dense(final_dim, activation='relu')\n",
    "decoder_h2 = Dense(inter_dim_2, activation='relu')\n",
    "decoder_h1 = Dense(inter_dim_1, activation='relu')\n",
    "decoder_mean = Dense(input_dim, activation='linear')\n",
    "\n",
    "h3_decoded = decoder_h3(encoding)\n",
    "h2_decoded = decoder_h2(h3_decoded)\n",
    "h1_decoded = decoder_h1(h2_decoded)\n",
    "x_decoded_mean = decoder_mean(h1_decoded)\n",
    "# x_decoded = Reshape(input_shape)(x_decoded_mean)"
   ]
  },
  {
   "cell_type": "code",
   "execution_count": 61,
   "metadata": {},
   "outputs": [],
   "source": [
    "vae = Model(inputs = x, outputs = x_decoded_mean, name = 'vae')"
   ]
  },
  {
   "cell_type": "code",
   "execution_count": 62,
   "metadata": {},
   "outputs": [],
   "source": [
    "mse = keras.losses.MeanSquaredError()\n",
    "def ae_loss(x, y):\n",
    "    mse_loss = mse(x, y)\n",
    "    return mse_loss\n",
    "\n",
    "vae.compile(optimizer='adam', loss=ae_loss)"
   ]
  },
  {
   "cell_type": "code",
   "execution_count": 63,
   "metadata": {},
   "outputs": [
    {
     "name": "stdout",
     "output_type": "stream",
     "text": [
      "Model: \"vae\"\n",
      "_________________________________________________________________\n",
      "Layer (type)                 Output Shape              Param #   \n",
      "=================================================================\n",
      "input_2 (InputLayer)         (None, 4)                 0         \n",
      "_________________________________________________________________\n",
      "dense_9 (Dense)              (None, 16)                80        \n",
      "_________________________________________________________________\n",
      "dense_10 (Dense)             (None, 16)                272       \n",
      "_________________________________________________________________\n",
      "dense_11 (Dense)             (None, 8)                 136       \n",
      "_________________________________________________________________\n",
      "dense_12 (Dense)             (None, 2)                 18        \n",
      "_________________________________________________________________\n",
      "dense_13 (Dense)             (None, 8)                 24        \n",
      "_________________________________________________________________\n",
      "dense_14 (Dense)             (None, 16)                144       \n",
      "_________________________________________________________________\n",
      "dense_15 (Dense)             (None, 16)                272       \n",
      "_________________________________________________________________\n",
      "dense_16 (Dense)             (None, 4)                 68        \n",
      "=================================================================\n",
      "Total params: 1,014\n",
      "Trainable params: 1,014\n",
      "Non-trainable params: 0\n",
      "_________________________________________________________________\n"
     ]
    }
   ],
   "source": [
    "vae.summary()"
   ]
  },
  {
   "cell_type": "markdown",
   "metadata": {},
   "source": [
    "# Train"
   ]
  },
  {
   "cell_type": "code",
   "execution_count": 64,
   "metadata": {},
   "outputs": [],
   "source": [
    "from sklearn.model_selection import train_test_split"
   ]
  },
  {
   "cell_type": "code",
   "execution_count": 65,
   "metadata": {},
   "outputs": [],
   "source": [
    "batch_size = 1000\n",
    "epochs = 100"
   ]
  },
  {
   "cell_type": "code",
   "execution_count": 66,
   "metadata": {},
   "outputs": [
    {
     "data": {
      "text/plain": [
       "(70747, 4)"
      ]
     },
     "execution_count": 66,
     "metadata": {},
     "output_type": "execute_result"
    }
   ],
   "source": [
    "x_train.shape"
   ]
  },
  {
   "cell_type": "code",
   "execution_count": 67,
   "metadata": {},
   "outputs": [],
   "source": [
    "my_callbacks = [\n",
    "    keras.callbacks.EarlyStopping(patience=10)\n",
    "]"
   ]
  },
  {
   "cell_type": "code",
   "execution_count": 68,
   "metadata": {},
   "outputs": [
    {
     "name": "stdout",
     "output_type": "stream",
     "text": [
      "Train on 70747 samples, validate on 8843 samples\n",
      "Epoch 1/100\n",
      "70747/70747 [==============================] - 1s 9us/step - loss: 0.9288 - val_loss: 0.7708\n",
      "Epoch 2/100\n",
      "70747/70747 [==============================] - 0s 4us/step - loss: 0.5956 - val_loss: 0.4538\n",
      "Epoch 3/100\n",
      "70747/70747 [==============================] - 0s 4us/step - loss: 0.3448 - val_loss: 0.2664\n",
      "Epoch 4/100\n",
      "70747/70747 [==============================] - 0s 4us/step - loss: 0.2341 - val_loss: 0.2120\n",
      "Epoch 5/100\n",
      "70747/70747 [==============================] - 0s 4us/step - loss: 0.2008 - val_loss: 0.1924\n",
      "Epoch 6/100\n",
      "70747/70747 [==============================] - 0s 4us/step - loss: 0.1857 - val_loss: 0.1803\n",
      "Epoch 7/100\n",
      "70747/70747 [==============================] - 0s 5us/step - loss: 0.1751 - val_loss: 0.1713\n",
      "Epoch 8/100\n",
      "70747/70747 [==============================] - 0s 4us/step - loss: 0.1657 - val_loss: 0.1621\n",
      "Epoch 9/100\n",
      "70747/70747 [==============================] - 0s 4us/step - loss: 0.1554 - val_loss: 0.1518\n",
      "Epoch 10/100\n",
      "70747/70747 [==============================] - 0s 5us/step - loss: 0.1465 - val_loss: 0.1436\n",
      "Epoch 11/100\n",
      "70747/70747 [==============================] - 0s 4us/step - loss: 0.1374 - val_loss: 0.1366\n",
      "Epoch 12/100\n",
      "70747/70747 [==============================] - 0s 4us/step - loss: 0.1307 - val_loss: 0.1303\n",
      "Epoch 13/100\n",
      "70747/70747 [==============================] - 0s 4us/step - loss: 0.1250 - val_loss: 0.1249\n",
      "Epoch 14/100\n",
      "70747/70747 [==============================] - 0s 4us/step - loss: 0.1211 - val_loss: 0.1210\n",
      "Epoch 15/100\n",
      "70747/70747 [==============================] - 0s 4us/step - loss: 0.1161 - val_loss: 0.1207\n",
      "Epoch 16/100\n",
      "70747/70747 [==============================] - 0s 4us/step - loss: 0.1136 - val_loss: 0.1163\n",
      "Epoch 17/100\n",
      "70747/70747 [==============================] - 0s 4us/step - loss: 0.1098 - val_loss: 0.1146\n",
      "Epoch 18/100\n",
      "70747/70747 [==============================] - 0s 4us/step - loss: 0.1076 - val_loss: 0.1119\n",
      "Epoch 19/100\n",
      "70747/70747 [==============================] - 0s 4us/step - loss: 0.1066 - val_loss: 0.1082\n",
      "Epoch 20/100\n",
      "70747/70747 [==============================] - 0s 4us/step - loss: 0.1033 - val_loss: 0.1066\n",
      "Epoch 21/100\n",
      "70747/70747 [==============================] - 0s 4us/step - loss: 0.0995 - val_loss: 0.1046\n",
      "Epoch 22/100\n",
      "70747/70747 [==============================] - 0s 5us/step - loss: 0.0973 - val_loss: 0.1028\n",
      "Epoch 23/100\n",
      "70747/70747 [==============================] - 0s 4us/step - loss: 0.0954 - val_loss: 0.1021\n",
      "Epoch 24/100\n",
      "70747/70747 [==============================] - 0s 4us/step - loss: 0.0944 - val_loss: 0.1004\n",
      "Epoch 25/100\n",
      "70747/70747 [==============================] - 0s 5us/step - loss: 0.0921 - val_loss: 0.0995\n",
      "Epoch 26/100\n",
      "70747/70747 [==============================] - 0s 5us/step - loss: 0.0903 - val_loss: 0.0975\n",
      "Epoch 27/100\n",
      "70747/70747 [==============================] - 0s 4us/step - loss: 0.0892 - val_loss: 0.0947\n",
      "Epoch 28/100\n",
      "70747/70747 [==============================] - 0s 4us/step - loss: 0.0884 - val_loss: 0.0925\n",
      "Epoch 29/100\n",
      "70747/70747 [==============================] - 0s 4us/step - loss: 0.0860 - val_loss: 0.0909\n",
      "Epoch 30/100\n",
      "70747/70747 [==============================] - 0s 4us/step - loss: 0.0851 - val_loss: 0.0889\n",
      "Epoch 31/100\n",
      "70747/70747 [==============================] - 0s 4us/step - loss: 0.0831 - val_loss: 0.0891\n",
      "Epoch 32/100\n",
      "70747/70747 [==============================] - 0s 4us/step - loss: 0.0818 - val_loss: 0.0831\n",
      "Epoch 33/100\n",
      "70747/70747 [==============================] - 0s 4us/step - loss: 0.0796 - val_loss: 0.0835\n",
      "Epoch 34/100\n",
      "70747/70747 [==============================] - 0s 4us/step - loss: 0.0802 - val_loss: 0.0825\n",
      "Epoch 35/100\n",
      "70747/70747 [==============================] - 0s 4us/step - loss: 0.0796 - val_loss: 0.0801\n",
      "Epoch 36/100\n",
      "70747/70747 [==============================] - 0s 4us/step - loss: 0.0778 - val_loss: 0.0784\n",
      "Epoch 37/100\n",
      "70747/70747 [==============================] - 0s 4us/step - loss: 0.0771 - val_loss: 0.0774\n",
      "Epoch 38/100\n",
      "70747/70747 [==============================] - 0s 4us/step - loss: 0.0757 - val_loss: 0.0756\n",
      "Epoch 39/100\n",
      "70747/70747 [==============================] - 0s 4us/step - loss: 0.0746 - val_loss: 0.0738\n",
      "Epoch 40/100\n",
      "70747/70747 [==============================] - 0s 4us/step - loss: 0.0728 - val_loss: 0.0784\n",
      "Epoch 41/100\n",
      "70747/70747 [==============================] - 0s 4us/step - loss: 0.0730 - val_loss: 0.0757\n",
      "Epoch 42/100\n",
      "70747/70747 [==============================] - 0s 4us/step - loss: 0.0721 - val_loss: 0.0758\n",
      "Epoch 43/100\n",
      "70747/70747 [==============================] - 0s 4us/step - loss: 0.0706 - val_loss: 0.0719\n",
      "Epoch 44/100\n",
      "70747/70747 [==============================] - 0s 4us/step - loss: 0.0710 - val_loss: 0.0747\n",
      "Epoch 45/100\n",
      "70747/70747 [==============================] - 0s 4us/step - loss: 0.0695 - val_loss: 0.0709\n",
      "Epoch 46/100\n",
      "70747/70747 [==============================] - 0s 4us/step - loss: 0.0684 - val_loss: 0.0699\n",
      "Epoch 47/100\n",
      "70747/70747 [==============================] - 0s 4us/step - loss: 0.0668 - val_loss: 0.0675\n",
      "Epoch 48/100\n",
      "70747/70747 [==============================] - 0s 4us/step - loss: 0.0677 - val_loss: 0.0707\n",
      "Epoch 49/100\n",
      "70747/70747 [==============================] - 0s 4us/step - loss: 0.0665 - val_loss: 0.0679\n",
      "Epoch 50/100\n",
      "70747/70747 [==============================] - 0s 4us/step - loss: 0.0661 - val_loss: 0.0639\n",
      "Epoch 51/100\n",
      "70747/70747 [==============================] - 0s 4us/step - loss: 0.0649 - val_loss: 0.0647\n",
      "Epoch 52/100\n",
      "70747/70747 [==============================] - 0s 4us/step - loss: 0.0642 - val_loss: 0.0654\n",
      "Epoch 53/100\n",
      "70747/70747 [==============================] - 0s 4us/step - loss: 0.0647 - val_loss: 0.0685\n",
      "Epoch 54/100\n",
      "70747/70747 [==============================] - 0s 4us/step - loss: 0.0652 - val_loss: 0.0642\n",
      "Epoch 55/100\n",
      "70747/70747 [==============================] - 0s 4us/step - loss: 0.0646 - val_loss: 0.0604\n",
      "Epoch 56/100\n",
      "70747/70747 [==============================] - 0s 4us/step - loss: 0.0642 - val_loss: 0.0645\n",
      "Epoch 57/100\n",
      "70747/70747 [==============================] - 0s 4us/step - loss: 0.0638 - val_loss: 0.0604\n",
      "Epoch 58/100\n",
      "70747/70747 [==============================] - 0s 4us/step - loss: 0.0633 - val_loss: 0.0592\n",
      "Epoch 59/100\n",
      "70747/70747 [==============================] - 0s 4us/step - loss: 0.0654 - val_loss: 0.0612\n",
      "Epoch 60/100\n",
      "70747/70747 [==============================] - 0s 4us/step - loss: 0.0659 - val_loss: 0.0595\n",
      "Epoch 61/100\n",
      "70747/70747 [==============================] - 0s 4us/step - loss: 0.0649 - val_loss: 0.0605\n",
      "Epoch 62/100\n",
      "70747/70747 [==============================] - 0s 4us/step - loss: 0.0628 - val_loss: 0.0590\n",
      "Epoch 63/100\n",
      "70747/70747 [==============================] - 0s 5us/step - loss: 0.0616 - val_loss: 0.0576\n",
      "Epoch 64/100\n",
      "70747/70747 [==============================] - 0s 4us/step - loss: 0.0619 - val_loss: 0.0574\n",
      "Epoch 65/100\n",
      "70747/70747 [==============================] - 0s 4us/step - loss: 0.0636 - val_loss: 0.0615\n",
      "Epoch 66/100\n",
      "70747/70747 [==============================] - 0s 4us/step - loss: 0.0615 - val_loss: 0.0574\n",
      "Epoch 67/100\n",
      "70747/70747 [==============================] - 0s 4us/step - loss: 0.0630 - val_loss: 0.0649\n",
      "Epoch 68/100\n",
      "70747/70747 [==============================] - 0s 4us/step - loss: 0.0636 - val_loss: 0.0589\n",
      "Epoch 69/100\n",
      "70747/70747 [==============================] - 0s 4us/step - loss: 0.0614 - val_loss: 0.0637\n",
      "Epoch 70/100\n",
      "70747/70747 [==============================] - 0s 4us/step - loss: 0.0602 - val_loss: 0.0585\n",
      "Epoch 71/100\n",
      "70747/70747 [==============================] - 0s 4us/step - loss: 0.0593 - val_loss: 0.0598\n",
      "Epoch 72/100\n",
      "70747/70747 [==============================] - 0s 4us/step - loss: 0.0578 - val_loss: 0.0547\n",
      "Epoch 73/100\n",
      "70747/70747 [==============================] - 0s 5us/step - loss: 0.0561 - val_loss: 0.0541\n",
      "Epoch 74/100\n",
      "70747/70747 [==============================] - 0s 4us/step - loss: 0.0552 - val_loss: 0.0549\n",
      "Epoch 75/100\n",
      "70747/70747 [==============================] - 0s 4us/step - loss: 0.0561 - val_loss: 0.0568\n",
      "Epoch 76/100\n",
      "70747/70747 [==============================] - 0s 4us/step - loss: 0.0562 - val_loss: 0.0547\n",
      "Epoch 77/100\n",
      "70747/70747 [==============================] - 0s 4us/step - loss: 0.0544 - val_loss: 0.0478\n"
     ]
    },
    {
     "name": "stdout",
     "output_type": "stream",
     "text": [
      "Epoch 78/100\n",
      "70747/70747 [==============================] - 0s 4us/step - loss: 0.0543 - val_loss: 0.0497\n",
      "Epoch 79/100\n",
      "70747/70747 [==============================] - 0s 4us/step - loss: 0.0541 - val_loss: 0.0541\n",
      "Epoch 80/100\n",
      "70747/70747 [==============================] - 0s 4us/step - loss: 0.0537 - val_loss: 0.0539\n",
      "Epoch 81/100\n",
      "70747/70747 [==============================] - 0s 4us/step - loss: 0.0522 - val_loss: 0.0529\n",
      "Epoch 82/100\n",
      "70747/70747 [==============================] - 0s 4us/step - loss: 0.0533 - val_loss: 0.0525\n",
      "Epoch 83/100\n",
      "70747/70747 [==============================] - 0s 4us/step - loss: 0.0518 - val_loss: 0.0518\n",
      "Epoch 84/100\n",
      "70747/70747 [==============================] - 0s 4us/step - loss: 0.0527 - val_loss: 0.0526\n",
      "Epoch 85/100\n",
      "70747/70747 [==============================] - 0s 4us/step - loss: 0.0520 - val_loss: 0.0487\n",
      "Epoch 86/100\n",
      "70747/70747 [==============================] - 0s 4us/step - loss: 0.0514 - val_loss: 0.0485\n",
      "Epoch 87/100\n",
      "70747/70747 [==============================] - 0s 4us/step - loss: 0.0503 - val_loss: 0.0505\n"
     ]
    }
   ],
   "source": [
    "hist = vae.fit(x_train, x_train,\n",
    "               shuffle=True,\n",
    "               epochs=epochs,\n",
    "               batch_size=batch_size,\n",
    "               validation_data=(x_val, x_val),\n",
    "               callbacks=my_callbacks)"
   ]
  },
  {
   "cell_type": "markdown",
   "metadata": {},
   "source": [
    "# Visualization"
   ]
  },
  {
   "cell_type": "code",
   "execution_count": 69,
   "metadata": {},
   "outputs": [],
   "source": [
    "import matplotlib.pyplot as plt"
   ]
  },
  {
   "cell_type": "code",
   "execution_count": 70,
   "metadata": {},
   "outputs": [
    {
     "data": {
      "image/png": "[encoded data removed]",
      "text/plain": [
       "<Figure size 432x266.991 with 1 Axes>"
      ]
     },
     "metadata": {
      "needs_background": "light"
     },
     "output_type": "display_data"
    }
   ],
   "source": [
    "golden_size = lambda width: (width, 2. * width / (1 + np.sqrt(5)))\n",
    "\n",
    "fig, ax = plt.subplots(figsize=golden_size(6))\n",
    "\n",
    "hist_df = pd.DataFrame(hist.history)\n",
    "hist_df.plot(ax=ax)\n",
    "\n",
    "ax.set_ylabel('NELBO')\n",
    "ax.set_xlabel('# epochs')\n",
    "\n",
    "ax.set_ylim(.99*hist_df[1:].values.min(), \n",
    "            1.1*hist_df[1:].values.max())\n",
    "plt.show()"
   ]
  },
  {
   "cell_type": "code",
   "execution_count": 71,
   "metadata": {},
   "outputs": [],
   "source": [
    "predictions = vae.predict(x_test)"
   ]
  },
  {
   "cell_type": "code",
   "execution_count": 72,
   "metadata": {},
   "outputs": [
    {
     "data": {
      "text/plain": [
       "array([[ 0.0192603 , -0.00767519,  0.11008644, -0.4266879 ],\n",
       "       [-0.00735722, -0.00952221,  0.52236104, -0.13384502],\n",
       "       [-0.007497  , -0.01717015,  0.02434671, -0.48309863],\n",
       "       ...,\n",
       "       [ 0.01400454, -0.00970425,  0.00399585, -0.4802019 ],\n",
       "       [ 0.00171684, -0.01375069,  0.03359422, -0.47706252],\n",
       "       [ 0.0069363 , -0.01263751,  0.02093999, -0.47960532]],\n",
       "      dtype=float32)"
      ]
     },
     "execution_count": 72,
     "metadata": {},
     "output_type": "execute_result"
    }
   ],
   "source": [
    "predictions"
   ]
  },
  {
   "cell_type": "code",
   "execution_count": 73,
   "metadata": {},
   "outputs": [],
   "source": [
    "distr = (x_test - predictions) / x_test"
   ]
  },
  {
   "cell_type": "code",
   "execution_count": 74,
   "metadata": {},
   "outputs": [],
   "source": [
    "px_pred = [row[0] for row in predictions]\n",
    "py_pred = [row[1] for row in predictions]\n",
    "pz_pred = [row[2] for row in predictions]\n",
    "e_pred = [row[3] for row in predictions]"
   ]
  },
  {
   "cell_type": "code",
   "execution_count": 75,
   "metadata": {},
   "outputs": [],
   "source": [
    "px = [row[0] for row in x_test]\n",
    "py = [row[1] for row in x_test]\n",
    "pz = [row[2] for row in x_test]\n",
    "e = [row[3] for row in x_test]"
   ]
  },
  {
   "cell_type": "code",
   "execution_count": 76,
   "metadata": {},
   "outputs": [],
   "source": [
    "overall_distr = K.flatten(distr)\n",
    "overall_pred = K.flatten(predictions)\n",
    "overall_input = K.flatten(x_test)"
   ]
  },
  {
   "cell_type": "code",
   "execution_count": 77,
   "metadata": {},
   "outputs": [
    {
     "data": {
      "text/plain": [
       "(array([  54.,   64.,   60.,   56.,   40.,   57.,   51.,   41.,   60.,\n",
       "          85.,   88.,  100.,   98.,  106.,  140.,  142.,  150.,  175.,\n",
       "         283.,  381., 1109., 2667., 2129., 1280., 1083., 1639., 1918.,\n",
       "        2344.,  999.,  569.,  337.,  241.,  187.,  137.,  137.,  107.,\n",
       "          94.,  110.,   99.,   74.,   71.,   63.,   51.,   33.,   51.,\n",
       "          57.,   33.,   44.,   45.]),\n",
       " array([-0.1       , -0.09591837, -0.09183673, -0.0877551 , -0.08367347,\n",
       "        -0.07959184, -0.0755102 , -0.07142857, -0.06734694, -0.06326531,\n",
       "        -0.05918367, -0.05510204, -0.05102041, -0.04693878, -0.04285714,\n",
       "        -0.03877551, -0.03469388, -0.03061224, -0.02653061, -0.02244898,\n",
       "        -0.01836735, -0.01428571, -0.01020408, -0.00612245, -0.00204082,\n",
       "         0.00204082,  0.00612245,  0.01020408,  0.01428571,  0.01836735,\n",
       "         0.02244898,  0.02653061,  0.03061224,  0.03469388,  0.03877551,\n",
       "         0.04285714,  0.04693878,  0.05102041,  0.05510204,  0.05918367,\n",
       "         0.06326531,  0.06734694,  0.07142857,  0.0755102 ,  0.07959184,\n",
       "         0.08367347,  0.0877551 ,  0.09183673,  0.09591837,  0.1       ]),\n",
       " <a list of 49 Patch objects>)"
      ]
     },
     "execution_count": 77,
     "metadata": {},
     "output_type": "execute_result"
    },
    {
     "data": {
      "image/png": "[encoded data removed]",
      "text/plain": [
       "<Figure size 432x288 with 1 Axes>"
      ]
     },
     "metadata": {
      "needs_background": "light"
     },
     "output_type": "display_data"
    }
   ],
   "source": [
    "# overall pred vs input\n",
    "bins = np.linspace(-0.1, 0.1, 50)\n",
    "plt.hist(overall_input, bins=bins,alpha=0.5)\n",
    "plt.hist(overall_pred, bins=bins,alpha=0.5)"
   ]
  },
  {
   "cell_type": "code",
   "execution_count": 78,
   "metadata": {},
   "outputs": [
    {
     "data": {
      "text/plain": [
       "(array([ 118.,  117.,  133.,  142.,  153.,  161.,  213.,  236.,  225.,\n",
       "         271.,  370.,  549., 1090., 2362., 9996., 3483., 1489.,  651.,\n",
       "         519.,  518.,  400.,  340.,  323.,  260.,  230.,  208.,  197.,\n",
       "         180.,  140.]),\n",
       " array([-2.        , -1.86206897, -1.72413793, -1.5862069 , -1.44827586,\n",
       "        -1.31034483, -1.17241379, -1.03448276, -0.89655172, -0.75862069,\n",
       "        -0.62068966, -0.48275862, -0.34482759, -0.20689655, -0.06896552,\n",
       "         0.06896552,  0.20689655,  0.34482759,  0.48275862,  0.62068966,\n",
       "         0.75862069,  0.89655172,  1.03448276,  1.17241379,  1.31034483,\n",
       "         1.44827586,  1.5862069 ,  1.72413793,  1.86206897,  2.        ]),\n",
       " <a list of 29 Patch objects>)"
      ]
     },
     "execution_count": 78,
     "metadata": {},
     "output_type": "execute_result"
    },
    {
     "data": {
      "image/png": "[encoded data removed]",
      "text/plain": [
       "<Figure size 432x288 with 1 Axes>"
      ]
     },
     "metadata": {
      "needs_background": "light"
     },
     "output_type": "display_data"
    }
   ],
   "source": [
    "# overall distr\n",
    "bins = np.linspace(-2, 2, 30)\n",
    "plt.hist(overall_distr, bins=bins)"
   ]
  },
  {
   "cell_type": "markdown",
   "metadata": {},
   "source": [
    "## Stacking output (orange) over input (blue) for pT, eta, phi, m"
   ]
  },
  {
   "cell_type": "code",
   "execution_count": 79,
   "metadata": {},
   "outputs": [
    {
     "data": {
      "text/plain": [
       "(array([   4.,    8.,    8.,   10.,    8.,   17.,   15.,    5.,   12.,\n",
       "          22.,   23.,   20.,   24.,   25.,   31.,   34.,   33.,   40.,\n",
       "          64.,   56.,   75.,   92.,  304.,  435.,  547.,  959., 1243.,\n",
       "        1843.,  597.,  185.,  100.,   66.,   40.,   25.,   29.,   26.,\n",
       "          23.,   23.,   10.,   16.,   13.,   12.,    9.,    5.,    6.,\n",
       "          11.,    6.,    7.,    8.]),\n",
       " array([-0.1       , -0.09591837, -0.09183673, -0.0877551 , -0.08367347,\n",
       "        -0.07959184, -0.0755102 , -0.07142857, -0.06734694, -0.06326531,\n",
       "        -0.05918367, -0.05510204, -0.05102041, -0.04693878, -0.04285714,\n",
       "        -0.03877551, -0.03469388, -0.03061224, -0.02653061, -0.02244898,\n",
       "        -0.01836735, -0.01428571, -0.01020408, -0.00612245, -0.00204082,\n",
       "         0.00204082,  0.00612245,  0.01020408,  0.01428571,  0.01836735,\n",
       "         0.02244898,  0.02653061,  0.03061224,  0.03469388,  0.03877551,\n",
       "         0.04285714,  0.04693878,  0.05102041,  0.05510204,  0.05918367,\n",
       "         0.06326531,  0.06734694,  0.07142857,  0.0755102 ,  0.07959184,\n",
       "         0.08367347,  0.0877551 ,  0.09183673,  0.09591837,  0.1       ]),\n",
       " <a list of 49 Patch objects>)"
      ]
     },
     "execution_count": 79,
     "metadata": {},
     "output_type": "execute_result"
    },
    {
     "data": {
      "image/png": "[encoded data removed]",
      "text/plain": [
       "<Figure size 432x288 with 1 Axes>"
      ]
     },
     "metadata": {
      "needs_background": "light"
     },
     "output_type": "display_data"
    }
   ],
   "source": [
    "bins = np.linspace(-0.1, 0.1, 50)\n",
    "plt.hist(px, bins=bins,alpha=0.5)\n",
    "plt.hist(px_pred, bins=bins,alpha=0.5)"
   ]
  },
  {
   "cell_type": "code",
   "execution_count": 80,
   "metadata": {},
   "outputs": [
    {
     "data": {
      "text/plain": [
       "(array([7.000e+00, 7.000e+00, 7.000e+00, 4.000e+00, 6.000e+00, 1.200e+01,\n",
       "        9.000e+00, 8.000e+00, 1.300e+01, 1.600e+01, 1.500e+01, 1.500e+01,\n",
       "        2.100e+01, 2.100e+01, 2.300e+01, 3.600e+01, 3.400e+01, 4.300e+01,\n",
       "        9.200e+01, 1.640e+02, 8.110e+02, 2.424e+03, 1.598e+03, 5.320e+02,\n",
       "        2.030e+02, 1.510e+02, 1.300e+02, 1.570e+02, 1.600e+02, 1.410e+02,\n",
       "        8.400e+01, 4.600e+01, 3.700e+01, 2.800e+01, 2.900e+01, 1.200e+01,\n",
       "        1.900e+01, 1.600e+01, 2.400e+01, 1.400e+01, 1.400e+01, 1.300e+01,\n",
       "        1.000e+01, 2.000e+00, 5.000e+00, 6.000e+00, 5.000e+00, 1.000e+00,\n",
       "        6.000e+00]),\n",
       " array([-0.1       , -0.09591837, -0.09183673, -0.0877551 , -0.08367347,\n",
       "        -0.07959184, -0.0755102 , -0.07142857, -0.06734694, -0.06326531,\n",
       "        -0.05918367, -0.05510204, -0.05102041, -0.04693878, -0.04285714,\n",
       "        -0.03877551, -0.03469388, -0.03061224, -0.02653061, -0.02244898,\n",
       "        -0.01836735, -0.01428571, -0.01020408, -0.00612245, -0.00204082,\n",
       "         0.00204082,  0.00612245,  0.01020408,  0.01428571,  0.01836735,\n",
       "         0.02244898,  0.02653061,  0.03061224,  0.03469388,  0.03877551,\n",
       "         0.04285714,  0.04693878,  0.05102041,  0.05510204,  0.05918367,\n",
       "         0.06326531,  0.06734694,  0.07142857,  0.0755102 ,  0.07959184,\n",
       "         0.08367347,  0.0877551 ,  0.09183673,  0.09591837,  0.1       ]),\n",
       " <a list of 49 Patch objects>)"
      ]
     },
     "execution_count": 80,
     "metadata": {},
     "output_type": "execute_result"
    },
    {
     "data": {
      "image/png": "[encoded data removed]",
      "text/plain": [
       "<Figure size 432x288 with 1 Axes>"
      ]
     },
     "metadata": {
      "needs_background": "light"
     },
     "output_type": "display_data"
    }
   ],
   "source": [
    "bins = np.linspace(-0.1, 0.1, 50)\n",
    "plt.hist(py, bins=bins,alpha=0.5)\n",
    "plt.hist(py_pred, bins=bins,alpha=0.5)"
   ]
  },
  {
   "cell_type": "code",
   "execution_count": 81,
   "metadata": {},
   "outputs": [
    {
     "data": {
      "text/plain": [
       "(array([  14.,   30.,   24.,   24.,   49.,   28.,   34.,   40.,   29.,\n",
       "          34.,   29.,   45.,   55.,   28.,   28.,   31.,   36.,   53.,\n",
       "         209.,  224.,  145.,  213.,  334.,  742., 1922., 1087.,  378.,\n",
       "         252.,  142.,  127.,   95.,  234.,   54.,   56.,   31.,   33.,\n",
       "          25.,   21.,   34.,   19.,   24.,   27.,   14.,   26.,   23.,\n",
       "          15.,   11.,   18.,   18.]),\n",
       " array([-0.5       , -0.47959184, -0.45918367, -0.43877551, -0.41836735,\n",
       "        -0.39795918, -0.37755102, -0.35714286, -0.33673469, -0.31632653,\n",
       "        -0.29591837, -0.2755102 , -0.25510204, -0.23469388, -0.21428571,\n",
       "        -0.19387755, -0.17346939, -0.15306122, -0.13265306, -0.1122449 ,\n",
       "        -0.09183673, -0.07142857, -0.05102041, -0.03061224, -0.01020408,\n",
       "         0.01020408,  0.03061224,  0.05102041,  0.07142857,  0.09183673,\n",
       "         0.1122449 ,  0.13265306,  0.15306122,  0.17346939,  0.19387755,\n",
       "         0.21428571,  0.23469388,  0.25510204,  0.2755102 ,  0.29591837,\n",
       "         0.31632653,  0.33673469,  0.35714286,  0.37755102,  0.39795918,\n",
       "         0.41836735,  0.43877551,  0.45918367,  0.47959184,  0.5       ]),\n",
       " <a list of 49 Patch objects>)"
      ]
     },
     "execution_count": 81,
     "metadata": {},
     "output_type": "execute_result"
    },
    {
     "data": {
      "image/png": "[encoded data removed]",
      "text/plain": [
       "<Figure size 432x288 with 1 Axes>"
      ]
     },
     "metadata": {
      "needs_background": "light"
     },
     "output_type": "display_data"
    }
   ],
   "source": [
    "bins = np.linspace(-0.5, 0.5, 50)\n",
    "plt.hist(pz, bins=bins,alpha=0.5)\n",
    "plt.hist(pz_pred, bins=bins,alpha=0.5)"
   ]
  },
  {
   "cell_type": "code",
   "execution_count": 82,
   "metadata": {},
   "outputs": [
    {
     "data": {
      "text/plain": [
       "(array([   0.,    0.,    0., 2154., 2322.,  488.,  328.,  308.,  329.,\n",
       "         106.,  116.,   86.,   76.,   96.,   79.,   74.,   66.,   69.,\n",
       "          57.,   57.,   51.,   27.,   39.,   22.,   25.,   21.,   21.,\n",
       "          11.,   12.,   20.,   11.,   18.,   23.,   20.,    7.,   10.,\n",
       "          15.,   19.,   15.,    8.,    9.,   12.,   12.,   19.,    7.,\n",
       "          14.,    7.,   12.,   15.]),\n",
       " array([-0.55      , -0.53265306, -0.51530612, -0.49795918, -0.48061224,\n",
       "        -0.46326531, -0.44591837, -0.42857143, -0.41122449, -0.39387755,\n",
       "        -0.37653061, -0.35918367, -0.34183673, -0.3244898 , -0.30714286,\n",
       "        -0.28979592, -0.27244898, -0.25510204, -0.2377551 , -0.22040816,\n",
       "        -0.20306122, -0.18571429, -0.16836735, -0.15102041, -0.13367347,\n",
       "        -0.11632653, -0.09897959, -0.08163265, -0.06428571, -0.04693878,\n",
       "        -0.02959184, -0.0122449 ,  0.00510204,  0.02244898,  0.03979592,\n",
       "         0.05714286,  0.0744898 ,  0.09183673,  0.10918367,  0.12653061,\n",
       "         0.14387755,  0.16122449,  0.17857143,  0.19591837,  0.21326531,\n",
       "         0.23061224,  0.24795918,  0.26530612,  0.28265306,  0.3       ]),\n",
       " <a list of 49 Patch objects>)"
      ]
     },
     "execution_count": 82,
     "metadata": {},
     "output_type": "execute_result"
    },
    {
     "data": {
      "image/png": "[encoded data removed]",
      "text/plain": [
       "<Figure size 432x288 with 1 Axes>"
      ]
     },
     "metadata": {
      "needs_background": "light"
     },
     "output_type": "display_data"
    }
   ],
   "source": [
    "bins = np.linspace(-0.55,0.3, 50)\n",
    "plt.hist(e, bins=bins,alpha=0.5)\n",
    "plt.hist(e_pred, bins=bins,alpha=0.5)"
   ]
  },
  {
   "cell_type": "code",
   "execution_count": 83,
   "metadata": {},
   "outputs": [],
   "source": [
    "d_px = [row[0] for row in distr]\n",
    "d_py = [row[1] for row in distr]\n",
    "d_pz = [row[2] for row in distr]\n",
    "d_e = [row[3] for row in distr]"
   ]
  },
  {
   "cell_type": "markdown",
   "metadata": {},
   "source": [
    "## Distribution of (input - output) / input"
   ]
  },
  {
   "cell_type": "code",
   "execution_count": 84,
   "metadata": {},
   "outputs": [],
   "source": [
    "bins = np.linspace(-2, 2, 30)"
   ]
  },
  {
   "cell_type": "code",
   "execution_count": 85,
   "metadata": {},
   "outputs": [
    {
     "data": {
      "text/plain": [
       "(array([ 56.,  47.,  49.,  49.,  64.,  63.,  72.,  73.,  73.,  86.,  94.,\n",
       "        118., 168., 265., 422., 446., 304., 242., 215., 210., 188., 148.,\n",
       "        128., 110., 109.,  98.,  93.,  84.,  66.]),\n",
       " array([-2.        , -1.86206897, -1.72413793, -1.5862069 , -1.44827586,\n",
       "        -1.31034483, -1.17241379, -1.03448276, -0.89655172, -0.75862069,\n",
       "        -0.62068966, -0.48275862, -0.34482759, -0.20689655, -0.06896552,\n",
       "         0.06896552,  0.20689655,  0.34482759,  0.48275862,  0.62068966,\n",
       "         0.75862069,  0.89655172,  1.03448276,  1.17241379,  1.31034483,\n",
       "         1.44827586,  1.5862069 ,  1.72413793,  1.86206897,  2.        ]),\n",
       " <a list of 29 Patch objects>)"
      ]
     },
     "execution_count": 85,
     "metadata": {},
     "output_type": "execute_result"
    },
    {
     "data": {
      "image/png": "[encoded data removed]",
      "text/plain": [
       "<Figure size 432x288 with 1 Axes>"
      ]
     },
     "metadata": {
      "needs_background": "light"
     },
     "output_type": "display_data"
    }
   ],
   "source": [
    "plt.hist(d_px, bins=bins)"
   ]
  },
  {
   "cell_type": "code",
   "execution_count": 86,
   "metadata": {},
   "outputs": [
    {
     "data": {
      "text/plain": [
       "(array([ 35.,  39.,  49.,  56.,  54.,  53.,  69.,  60.,  65.,  76.,  86.,\n",
       "        116., 114., 234., 466., 388., 249., 173., 163., 185., 156., 154.,\n",
       "        151., 118.,  93.,  83.,  92.,  81.,  60.]),\n",
       " array([-2.        , -1.86206897, -1.72413793, -1.5862069 , -1.44827586,\n",
       "        -1.31034483, -1.17241379, -1.03448276, -0.89655172, -0.75862069,\n",
       "        -0.62068966, -0.48275862, -0.34482759, -0.20689655, -0.06896552,\n",
       "         0.06896552,  0.20689655,  0.34482759,  0.48275862,  0.62068966,\n",
       "         0.75862069,  0.89655172,  1.03448276,  1.17241379,  1.31034483,\n",
       "         1.44827586,  1.5862069 ,  1.72413793,  1.86206897,  2.        ]),\n",
       " <a list of 29 Patch objects>)"
      ]
     },
     "execution_count": 86,
     "metadata": {},
     "output_type": "execute_result"
    },
    {
     "data": {
      "image/png": "[encoded data removed]",
      "text/plain": [
       "<Figure size 432x288 with 1 Axes>"
      ]
     },
     "metadata": {
      "needs_background": "light"
     },
     "output_type": "display_data"
    }
   ],
   "source": [
    "plt.hist(d_py, bins=bins)"
   ]
  },
  {
   "cell_type": "code",
   "execution_count": 87,
   "metadata": {},
   "outputs": [
    {
     "data": {
      "text/plain": [
       "(array([  20.,   30.,   30.,   31.,   27.,   40.,   56.,   84.,   72.,\n",
       "          91.,  141.,  232.,  617., 1170., 1903., 2337.,  850.,  208.,\n",
       "         128.,  112.,   49.,   35.,   39.,   24.,   23.,   24.,    9.,\n",
       "          13.,   13.]),\n",
       " array([-2.        , -1.86206897, -1.72413793, -1.5862069 , -1.44827586,\n",
       "        -1.31034483, -1.17241379, -1.03448276, -0.89655172, -0.75862069,\n",
       "        -0.62068966, -0.48275862, -0.34482759, -0.20689655, -0.06896552,\n",
       "         0.06896552,  0.20689655,  0.34482759,  0.48275862,  0.62068966,\n",
       "         0.75862069,  0.89655172,  1.03448276,  1.17241379,  1.31034483,\n",
       "         1.44827586,  1.5862069 ,  1.72413793,  1.86206897,  2.        ]),\n",
       " <a list of 29 Patch objects>)"
      ]
     },
     "execution_count": 87,
     "metadata": {},
     "output_type": "execute_result"
    },
    {
     "data": {
      "image/png": "[encoded data removed]",
      "text/plain": [
       "<Figure size 432x288 with 1 Axes>"
      ]
     },
     "metadata": {
      "needs_background": "light"
     },
     "output_type": "display_data"
    }
   ],
   "source": [
    "plt.hist(d_pz, bins=bins)"
   ]
  },
  {
   "cell_type": "code",
   "execution_count": 88,
   "metadata": {},
   "outputs": [
    {
     "data": {
      "text/plain": [
       "(array([7.000e+00, 1.000e+00, 5.000e+00, 6.000e+00, 8.000e+00, 5.000e+00,\n",
       "        1.600e+01, 1.900e+01, 1.500e+01, 1.800e+01, 4.900e+01, 8.300e+01,\n",
       "        1.910e+02, 6.930e+02, 7.205e+03, 3.120e+02, 8.600e+01, 2.800e+01,\n",
       "        1.300e+01, 1.100e+01, 7.000e+00, 3.000e+00, 5.000e+00, 8.000e+00,\n",
       "        5.000e+00, 3.000e+00, 3.000e+00, 2.000e+00, 1.000e+00]),\n",
       " array([-2.        , -1.86206897, -1.72413793, -1.5862069 , -1.44827586,\n",
       "        -1.31034483, -1.17241379, -1.03448276, -0.89655172, -0.75862069,\n",
       "        -0.62068966, -0.48275862, -0.34482759, -0.20689655, -0.06896552,\n",
       "         0.06896552,  0.20689655,  0.34482759,  0.48275862,  0.62068966,\n",
       "         0.75862069,  0.89655172,  1.03448276,  1.17241379,  1.31034483,\n",
       "         1.44827586,  1.5862069 ,  1.72413793,  1.86206897,  2.        ]),\n",
       " <a list of 29 Patch objects>)"
      ]
     },
     "execution_count": 88,
     "metadata": {},
     "output_type": "execute_result"
    },
    {
     "data": {
      "image/png": "[encoded data removed]",
      "text/plain": [
       "<Figure size 432x288 with 1 Axes>"
      ]
     },
     "metadata": {
      "needs_background": "light"
     },
     "output_type": "display_data"
    }
   ],
   "source": [
    "plt.hist(d_e, bins=bins)"
   ]
  }
 ],
 "metadata": {
  "kernelspec": {
   "display_name": "Python 3",
   "language": "python",
   "name": "python3"
  },
  "language_info": {
   "codemirror_mode": {
    "name": "ipython",
    "version": 3
   },
   "file_extension": ".py",
   "mimetype": "text/x-python",
   "name": "python",
   "nbconvert_exporter": "python",
   "pygments_lexer": "ipython3",
   "version": "3.7.6"
  }
 },
 "nbformat": 4,
 "nbformat_minor": 4
}
