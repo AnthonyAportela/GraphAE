{
 "cells": [
  {
   "cell_type": "code",
   "execution_count": 1,
   "metadata": {},
   "outputs": [],
   "source": [
    "import pandas as pd\n",
    "import numpy as np\n",
    "from pyjet import cluster,DTYPE_PTEPM\n",
    "from sklearn import preprocessing\n",
    "from scipy.stats import iqr\n",
    "import tensorflow as tf"
   ]
  },
  {
   "cell_type": "markdown",
   "metadata": {},
   "source": [
    "# Pre processing"
   ]
  },
  {
   "cell_type": "code",
   "execution_count": 2,
   "metadata": {},
   "outputs": [],
   "source": [
    "path = '/anomalyvol/data/events_LHCO2020_backgroundMC_Pythia.h5'"
   ]
  },
  {
   "cell_type": "code",
   "execution_count": 3,
   "metadata": {},
   "outputs": [],
   "source": [
    "df = pd.read_hdf(path,stop=100000) # just read first 10000 events"
   ]
  },
  {
   "cell_type": "code",
   "execution_count": 4,
   "metadata": {},
   "outputs": [],
   "source": [
    "all_events = df.values"
   ]
  },
  {
   "cell_type": "code",
   "execution_count": 5,
   "metadata": {},
   "outputs": [],
   "source": [
    "rows = all_events.shape[0]\n",
    "cols = all_events.shape[1]\n",
    "data = []"
   ]
  },
  {
   "cell_type": "code",
   "execution_count": 6,
   "metadata": {},
   "outputs": [],
   "source": [
    "for i in range(rows):\n",
    "    pseudojets_input = np.zeros(len([x for x in all_events[i][::3] if x > 0]), dtype=DTYPE_PTEPM)\n",
    "    for j in range(cols // 3):\n",
    "        if (all_events[i][j*3]>0):\n",
    "            pseudojets_input[j]['pT'] = all_events[i][j*3]\n",
    "            pseudojets_input[j]['eta'] = all_events[i][j*3+1]\n",
    "            pseudojets_input[j]['phi'] = all_events[i][j*3+2]\n",
    "        pass\n",
    "    # cluster jets from the particles in one observation\n",
    "    sequence = cluster(pseudojets_input, R=1.0, p=-1)\n",
    "    jets = sequence.inclusive_jets()\n",
    "    for k in range(len(jets)): # for each jet get (px, py, pz, e)\n",
    "        jet = []\n",
    "        jet.append(jets[k].px)\n",
    "        jet.append(jets[k].py)\n",
    "        jet.append(jets[k].pz)\n",
    "        jet.append(jets[k].e)\n",
    "        data.append(jet)"
   ]
  },
  {
   "cell_type": "code",
   "execution_count": 7,
   "metadata": {},
   "outputs": [],
   "source": [
    "loaded_data = data\n",
    "# data = loaded_data"
   ]
  },
  {
   "cell_type": "code",
   "execution_count": 8,
   "metadata": {},
   "outputs": [
    {
     "data": {
      "text/plain": [
       "(1477373, 4)"
      ]
     },
     "execution_count": 8,
     "metadata": {},
     "output_type": "execute_result"
    }
   ],
   "source": [
    "data = np.array(data)\n",
    "data.shape"
   ]
  },
  {
   "cell_type": "code",
   "execution_count": 9,
   "metadata": {},
   "outputs": [],
   "source": [
    "# log transform pT\n",
    "#data[:,3] = np.ma.log(data[:,3]).filled()"
   ]
  },
  {
   "cell_type": "code",
   "execution_count": 10,
   "metadata": {},
   "outputs": [
    {
     "data": {
      "text/plain": [
       "array([[-1.17658220e+03, -7.79040316e+02,  3.40962660e+02,\n",
       "         1.45491963e+03],\n",
       "       [ 6.11088616e+02,  7.16513394e+02,  1.55833044e+03,\n",
       "         1.87194199e+03],\n",
       "       [ 4.96094722e+02, -1.87111748e+01,  1.78940558e+03,\n",
       "         1.85808569e+03],\n",
       "       ...,\n",
       "       [ 4.42306312e-01,  9.70780337e-02,  2.58945478e+01,\n",
       "         2.58985070e+01],\n",
       "       [-2.68772115e-01, -3.44070287e-01, -3.01572220e+01,\n",
       "         3.01603823e+01],\n",
       "       [-2.82745626e-01, -7.48815701e-02, -9.38791569e+00,\n",
       "         9.39247109e+00]])"
      ]
     },
     "execution_count": 10,
     "metadata": {},
     "output_type": "execute_result"
    }
   ],
   "source": [
    "data"
   ]
  },
  {
   "cell_type": "code",
   "execution_count": 11,
   "metadata": {},
   "outputs": [],
   "source": [
    "# splitting data\n",
    "x_train = data[0:int(len(data) * 0.8)]\n",
    "x_val = data[int(len(data) * 0.8):int(len(data) * 0.9)]\n",
    "x_test = data[int(len(data) * 0.9):]"
   ]
  },
  {
   "cell_type": "code",
   "execution_count": 12,
   "metadata": {},
   "outputs": [],
   "source": [
    "# regularize\n",
    "scaler = preprocessing.StandardScaler()\n",
    "x_train = scaler.fit_transform(x_train)\n",
    "x_val = scaler.transform(x_val)\n",
    "x_test = scaler.transform(x_test)"
   ]
  },
  {
   "cell_type": "code",
   "execution_count": 13,
   "metadata": {},
   "outputs": [
    {
     "name": "stdout",
     "output_type": "stream",
     "text": [
      "[0.03073949 0.0307984  0.38423165 1.        ]\n"
     ]
    }
   ],
   "source": [
    "iqr_prop = iqr(x_train,axis = 0)\n",
    "max_iqr = max(iqr_prop)\n",
    "iqr_prop = np.array(iqr_prop) / max_iqr\n",
    "print(iqr_prop)"
   ]
  },
  {
   "cell_type": "markdown",
   "metadata": {},
   "source": [
    "# VAE Model"
   ]
  },
  {
   "cell_type": "code",
   "execution_count": 14,
   "metadata": {},
   "outputs": [
    {
     "name": "stderr",
     "output_type": "stream",
     "text": [
      "Using TensorFlow backend.\n"
     ]
    }
   ],
   "source": [
    "import keras\n",
    "from keras.layers import Lambda, Input, Dense, Flatten, Reshape, LeakyReLU, ELU\n",
    "from keras.models import Model, Sequential\n",
    "from keras import metrics, losses\n",
    "from keras import backend as K"
   ]
  },
  {
   "cell_type": "code",
   "execution_count": 15,
   "metadata": {},
   "outputs": [],
   "source": [
    "def sampling(args):\n",
    "    \"\"\"\n",
    "    # Arguments\n",
    "        args (tensor): mean and log of variance of Q(z|X)\n",
    "    # Returns\n",
    "        z (tensor): sampled latent vector\n",
    "    \"\"\"\n",
    "\n",
    "    z_mean, z_log_var = args\n",
    "    batch = K.shape(z_mean)[0]\n",
    "    dim = K.int_shape(z_mean)[1]\n",
    "    # by default, random_normal has mean = 0 and std = 1.0\n",
    "    epsilon = K.random_normal(shape=(batch, dim))\n",
    "    return z_mean + K.exp(0.5 * z_log_var) * epsilon"
   ]
  },
  {
   "cell_type": "code",
   "execution_count": 16,
   "metadata": {},
   "outputs": [],
   "source": [
    "inter_dim_1 = 32\n",
    "inter_dim_2 = 16\n",
    "final_dim = 8\n",
    "latent_dim = 2\n",
    "input_dim = 4"
   ]
  },
  {
   "cell_type": "code",
   "execution_count": 17,
   "metadata": {},
   "outputs": [],
   "source": [
    "# encoder\n",
    "x = Input(shape=(input_dim,))\n",
    "#x_flat = Flatten()(x)\n",
    "h1 = Dense(inter_dim_1, activation='relu')(x)\n",
    "h2 = Dense(inter_dim_2, activation='relu')(h1)\n",
    "h3 = Dense(final_dim, activation='relu')(h2)\n",
    "encoding = Dense(latent_dim, activation='tanh')(h3)"
   ]
  },
  {
   "cell_type": "code",
   "execution_count": 18,
   "metadata": {},
   "outputs": [],
   "source": [
    "# decoder\n",
    "decoder_h3 = Dense(final_dim, activation='relu')\n",
    "decoder_h2 = Dense(inter_dim_2, activation='relu')\n",
    "decoder_h1 = Dense(inter_dim_1, activation='relu')\n",
    "decoder_mean = Dense(input_dim, activation='linear')\n",
    "\n",
    "h3_decoded = decoder_h3(encoding)\n",
    "h2_decoded = decoder_h2(h3_decoded)\n",
    "h1_decoded = decoder_h1(h2_decoded)\n",
    "x_decoded_mean = decoder_mean(h1_decoded)\n",
    "# x_decoded = Reshape(input_shape)(x_decoded_mean)"
   ]
  },
  {
   "cell_type": "code",
   "execution_count": 19,
   "metadata": {},
   "outputs": [],
   "source": [
    "vae = Model(inputs = x, outputs = x_decoded_mean, name = 'vae')"
   ]
  },
  {
   "cell_type": "code",
   "execution_count": 20,
   "metadata": {},
   "outputs": [],
   "source": [
    "mse = keras.losses.MeanSquaredError()\n",
    "def ae_loss(x, y):\n",
    "    mse_loss = 0.25 * (iqr_prop[0]*(x[::,0] - y[::,0])**2 + iqr_prop[1]*(x[::,1] - y[::,1])**2 + iqr_prop[2]*(x[::,2] - y[::,2])**2 + iqr_prop[3]*(x[::,3] - y[::,3])**2)\n",
    "    # mse_loss = mse(x,y)\n",
    "    return mse_loss\n",
    "\n",
    "vae.compile(optimizer='adam', loss=ae_loss)"
   ]
  },
  {
   "cell_type": "code",
   "execution_count": 21,
   "metadata": {},
   "outputs": [
    {
     "name": "stdout",
     "output_type": "stream",
     "text": [
      "Model: \"vae\"\n",
      "_________________________________________________________________\n",
      "Layer (type)                 Output Shape              Param #   \n",
      "=================================================================\n",
      "input_1 (InputLayer)         (None, 4)                 0         \n",
      "_________________________________________________________________\n",
      "dense_1 (Dense)              (None, 32)                160       \n",
      "_________________________________________________________________\n",
      "dense_2 (Dense)              (None, 16)                528       \n",
      "_________________________________________________________________\n",
      "dense_3 (Dense)              (None, 8)                 136       \n",
      "_________________________________________________________________\n",
      "dense_4 (Dense)              (None, 2)                 18        \n",
      "_________________________________________________________________\n",
      "dense_5 (Dense)              (None, 8)                 24        \n",
      "_________________________________________________________________\n",
      "dense_6 (Dense)              (None, 16)                144       \n",
      "_________________________________________________________________\n",
      "dense_7 (Dense)              (None, 32)                544       \n",
      "_________________________________________________________________\n",
      "dense_8 (Dense)              (None, 4)                 132       \n",
      "=================================================================\n",
      "Total params: 1,686\n",
      "Trainable params: 1,686\n",
      "Non-trainable params: 0\n",
      "_________________________________________________________________\n"
     ]
    }
   ],
   "source": [
    "vae.summary()"
   ]
  },
  {
   "cell_type": "markdown",
   "metadata": {},
   "source": [
    "# Train"
   ]
  },
  {
   "cell_type": "code",
   "execution_count": 22,
   "metadata": {},
   "outputs": [],
   "source": [
    "from sklearn.model_selection import train_test_split"
   ]
  },
  {
   "cell_type": "code",
   "execution_count": 23,
   "metadata": {},
   "outputs": [],
   "source": [
    "batch_size = 1000\n",
    "epochs = 200"
   ]
  },
  {
   "cell_type": "code",
   "execution_count": 24,
   "metadata": {},
   "outputs": [
    {
     "data": {
      "text/plain": [
       "(1181898, 4)"
      ]
     },
     "execution_count": 24,
     "metadata": {},
     "output_type": "execute_result"
    }
   ],
   "source": [
    "x_train.shape"
   ]
  },
  {
   "cell_type": "code",
   "execution_count": 25,
   "metadata": {},
   "outputs": [],
   "source": [
    "my_callbacks = [\n",
    "    keras.callbacks.EarlyStopping(patience=10)\n",
    "]"
   ]
  },
  {
   "cell_type": "code",
   "execution_count": 26,
   "metadata": {},
   "outputs": [
    {
     "name": "stdout",
     "output_type": "stream",
     "text": [
      "Train on 1181898 samples, validate on 147737 samples\n",
      "Epoch 1/200\n",
      "1181898/1181898 [==============================] - 8s 7us/step - loss: 0.0392 - val_loss: 0.0158\n",
      "Epoch 2/200\n",
      "1181898/1181898 [==============================] - 7s 6us/step - loss: 0.0157 - val_loss: 0.0156\n",
      "Epoch 3/200\n",
      "1181898/1181898 [==============================] - 6s 5us/step - loss: 0.0155 - val_loss: 0.0155\n",
      "Epoch 4/200\n",
      "1181898/1181898 [==============================] - 7s 6us/step - loss: 0.0155 - val_loss: 0.0155\n",
      "Epoch 5/200\n",
      "1181898/1181898 [==============================] - 7s 6us/step - loss: 0.0155 - val_loss: 0.0155\n",
      "Epoch 6/200\n",
      "1181898/1181898 [==============================] - 7s 6us/step - loss: 0.0154 - val_loss: 0.0155\n",
      "Epoch 7/200\n",
      "1181898/1181898 [==============================] - 7s 6us/step - loss: 0.0154 - val_loss: 0.0154\n",
      "Epoch 8/200\n",
      "1181898/1181898 [==============================] - 7s 6us/step - loss: 0.0154 - val_loss: 0.0154\n",
      "Epoch 9/200\n",
      "1181898/1181898 [==============================] - 7s 6us/step - loss: 0.0154 - val_loss: 0.0154\n",
      "Epoch 10/200\n",
      "1181898/1181898 [==============================] - 7s 6us/step - loss: 0.0154 - val_loss: 0.0154\n",
      "Epoch 11/200\n",
      "1181898/1181898 [==============================] - 7s 6us/step - loss: 0.0154 - val_loss: 0.0154\n",
      "Epoch 12/200\n",
      "1181898/1181898 [==============================] - 7s 6us/step - loss: 0.0154 - val_loss: 0.0154\n",
      "Epoch 13/200\n",
      "1181898/1181898 [==============================] - 7s 6us/step - loss: 0.0154 - val_loss: 0.0154\n",
      "Epoch 14/200\n",
      "1181898/1181898 [==============================] - 7s 6us/step - loss: 0.0154 - val_loss: 0.0154\n",
      "Epoch 15/200\n",
      "1181898/1181898 [==============================] - 7s 6us/step - loss: 0.0154 - val_loss: 0.0154\n",
      "Epoch 16/200\n",
      "1181898/1181898 [==============================] - 7s 6us/step - loss: 0.0154 - val_loss: 0.0154\n",
      "Epoch 17/200\n",
      "1181898/1181898 [==============================] - 7s 6us/step - loss: 0.0154 - val_loss: 0.0154\n",
      "Epoch 18/200\n",
      "1181898/1181898 [==============================] - 7s 6us/step - loss: 0.0154 - val_loss: 0.0154\n",
      "Epoch 19/200\n",
      "1181898/1181898 [==============================] - 7s 6us/step - loss: 0.0154 - val_loss: 0.0154\n",
      "Epoch 20/200\n",
      "1181898/1181898 [==============================] - 7s 6us/step - loss: 0.0154 - val_loss: 0.0154\n",
      "Epoch 21/200\n",
      "1181898/1181898 [==============================] - 7s 6us/step - loss: 0.0154 - val_loss: 0.0154\n",
      "Epoch 22/200\n",
      "1181898/1181898 [==============================] - 7s 6us/step - loss: 0.0154 - val_loss: 0.0154\n",
      "Epoch 23/200\n",
      "1181898/1181898 [==============================] - 7s 6us/step - loss: 0.0154 - val_loss: 0.0154\n",
      "Epoch 24/200\n",
      "1181898/1181898 [==============================] - 7s 6us/step - loss: 0.0145 - val_loss: 0.0122\n",
      "Epoch 25/200\n",
      "1181898/1181898 [==============================] - 7s 6us/step - loss: 0.0113 - val_loss: 0.0108\n",
      "Epoch 26/200\n",
      "1181898/1181898 [==============================] - 7s 6us/step - loss: 0.0106 - val_loss: 0.0102\n",
      "Epoch 27/200\n",
      "1181898/1181898 [==============================] - 7s 6us/step - loss: 0.0102 - val_loss: 0.0104\n",
      "Epoch 28/200\n",
      "1181898/1181898 [==============================] - 7s 6us/step - loss: 0.0099 - val_loss: 0.0099\n",
      "Epoch 29/200\n",
      "1181898/1181898 [==============================] - 7s 6us/step - loss: 0.0099 - val_loss: 0.0100\n",
      "Epoch 30/200\n",
      "1181898/1181898 [==============================] - 7s 6us/step - loss: 0.0099 - val_loss: 0.0098\n",
      "Epoch 31/200\n",
      "1181898/1181898 [==============================] - 7s 6us/step - loss: 0.0098 - val_loss: 0.0097\n",
      "Epoch 32/200\n",
      "1181898/1181898 [==============================] - 7s 6us/step - loss: 0.0098 - val_loss: 0.0098\n",
      "Epoch 33/200\n",
      "1181898/1181898 [==============================] - 7s 6us/step - loss: 0.0097 - val_loss: 0.0095\n",
      "Epoch 34/200\n",
      "1181898/1181898 [==============================] - 7s 6us/step - loss: 0.0096 - val_loss: 0.0097\n",
      "Epoch 35/200\n",
      "1181898/1181898 [==============================] - 7s 6us/step - loss: 0.0091 - val_loss: 0.0080\n",
      "Epoch 36/200\n",
      "1181898/1181898 [==============================] - 7s 6us/step - loss: 0.0075 - val_loss: 0.0072\n",
      "Epoch 37/200\n",
      "1181898/1181898 [==============================] - 7s 6us/step - loss: 0.0064 - val_loss: 0.0055\n",
      "Epoch 38/200\n",
      "1181898/1181898 [==============================] - 7s 6us/step - loss: 0.0052 - val_loss: 0.0048\n",
      "Epoch 39/200\n",
      "1181898/1181898 [==============================] - 7s 6us/step - loss: 0.0046 - val_loss: 0.0045\n",
      "Epoch 40/200\n",
      "1181898/1181898 [==============================] - 6s 5us/step - loss: 0.0046 - val_loss: 0.0041\n",
      "Epoch 41/200\n",
      "1181898/1181898 [==============================] - 7s 6us/step - loss: 0.0040 - val_loss: 0.0038\n",
      "Epoch 42/200\n",
      "1181898/1181898 [==============================] - 7s 6us/step - loss: 0.0040 - val_loss: 0.0037\n",
      "Epoch 43/200\n",
      "1181898/1181898 [==============================] - 7s 6us/step - loss: 0.0040 - val_loss: 0.0038\n",
      "Epoch 44/200\n",
      "1181898/1181898 [==============================] - 7s 6us/step - loss: 0.0039 - val_loss: 0.0037\n",
      "Epoch 45/200\n",
      "1181898/1181898 [==============================] - 7s 6us/step - loss: 0.0037 - val_loss: 0.0038\n",
      "Epoch 46/200\n",
      "1181898/1181898 [==============================] - 7s 6us/step - loss: 0.0039 - val_loss: 0.0036\n",
      "Epoch 47/200\n",
      "1181898/1181898 [==============================] - 7s 6us/step - loss: 0.0037 - val_loss: 0.0036\n",
      "Epoch 48/200\n",
      "1181898/1181898 [==============================] - 7s 6us/step - loss: 0.0040 - val_loss: 0.0043\n",
      "Epoch 49/200\n",
      "1181898/1181898 [==============================] - 7s 6us/step - loss: 0.0037 - val_loss: 0.0034\n",
      "Epoch 50/200\n",
      "1181898/1181898 [==============================] - 7s 6us/step - loss: 0.0035 - val_loss: 0.0033\n",
      "Epoch 51/200\n",
      "1181898/1181898 [==============================] - 7s 6us/step - loss: 0.0036 - val_loss: 0.0035\n",
      "Epoch 52/200\n",
      "1181898/1181898 [==============================] - 6s 5us/step - loss: 0.0035 - val_loss: 0.0037\n",
      "Epoch 53/200\n",
      "1181898/1181898 [==============================] - 6s 5us/step - loss: 0.0038 - val_loss: 0.0038\n",
      "Epoch 54/200\n",
      "1181898/1181898 [==============================] - 7s 6us/step - loss: 0.0037 - val_loss: 0.0037\n",
      "Epoch 55/200\n",
      "1181898/1181898 [==============================] - 6s 5us/step - loss: 0.0038 - val_loss: 0.0036\n",
      "Epoch 56/200\n",
      "1181898/1181898 [==============================] - 7s 6us/step - loss: 0.0036 - val_loss: 0.0036\n",
      "Epoch 57/200\n",
      "1181898/1181898 [==============================] - 7s 6us/step - loss: 0.0036 - val_loss: 0.0035\n",
      "Epoch 58/200\n",
      "1181898/1181898 [==============================] - 7s 6us/step - loss: 0.0036 - val_loss: 0.0041\n",
      "Epoch 59/200\n",
      "1181898/1181898 [==============================] - 7s 6us/step - loss: 0.0036 - val_loss: 0.0034\n",
      "Epoch 60/200\n",
      "1181898/1181898 [==============================] - 7s 6us/step - loss: 0.0036 - val_loss: 0.0037\n"
     ]
    }
   ],
   "source": [
    "hist = vae.fit(x_train, x_train,\n",
    "               shuffle=True,\n",
    "               epochs=epochs,\n",
    "               batch_size=batch_size,\n",
    "               validation_data=(x_val, x_val),\n",
    "               callbacks=my_callbacks)"
   ]
  },
  {
   "cell_type": "markdown",
   "metadata": {},
   "source": [
    "# Visualization"
   ]
  },
  {
   "cell_type": "code",
   "execution_count": 27,
   "metadata": {},
   "outputs": [],
   "source": [
    "import matplotlib.pyplot as plt"
   ]
  },
  {
   "cell_type": "code",
   "execution_count": 28,
   "metadata": {},
   "outputs": [
    {
     "data": {
      "image/png": "[encoded data removed]",
      "text/plain": [
       "<Figure size 432x266.991 with 1 Axes>"
      ]
     },
     "metadata": {
      "needs_background": "light"
     },
     "output_type": "display_data"
    }
   ],
   "source": [
    "golden_size = lambda width: (width, 2. * width / (1 + np.sqrt(5)))\n",
    "\n",
    "fig, ax = plt.subplots(figsize=golden_size(6))\n",
    "\n",
    "hist_df = pd.DataFrame(hist.history)\n",
    "hist_df.plot(ax=ax)\n",
    "\n",
    "ax.set_ylabel('NELBO')\n",
    "ax.set_xlabel('# epochs')\n",
    "\n",
    "ax.set_ylim(.99*hist_df[1:].values.min(), \n",
    "            1.1*hist_df[1:].values.max())\n",
    "plt.show()"
   ]
  },
  {
   "cell_type": "code",
   "execution_count": 29,
   "metadata": {},
   "outputs": [],
   "source": [
    "predictions = vae.predict(x_test)"
   ]
  },
  {
   "cell_type": "code",
   "execution_count": 30,
   "metadata": {},
   "outputs": [
    {
     "data": {
      "text/plain": [
       "array([[ 0.00105369, -0.00898808, -0.00980585, -0.48981845],\n",
       "       [ 0.00122571,  0.01611   , -0.17192908, -0.3706953 ],\n",
       "       [-0.01470208, -0.0127846 ,  0.01493505, -0.4891429 ],\n",
       "       ...,\n",
       "       [-0.01884434, -0.00841296,  0.05769125, -0.46195227],\n",
       "       [ 0.00264382, -0.00192928, -0.0441277 , -0.4650994 ],\n",
       "       [-0.00199312, -0.0064764 , -0.00273394, -0.49347913]],\n",
       "      dtype=float32)"
      ]
     },
     "execution_count": 30,
     "metadata": {},
     "output_type": "execute_result"
    }
   ],
   "source": [
    "predictions"
   ]
  },
  {
   "cell_type": "code",
   "execution_count": 31,
   "metadata": {},
   "outputs": [],
   "source": [
    "distr = (x_test - predictions) / x_test"
   ]
  },
  {
   "cell_type": "code",
   "execution_count": 32,
   "metadata": {},
   "outputs": [],
   "source": [
    "px_pred = [row[0] for row in predictions]\n",
    "py_pred = [row[1] for row in predictions]\n",
    "pz_pred = [row[2] for row in predictions]\n",
    "e_pred = [row[3] for row in predictions]"
   ]
  },
  {
   "cell_type": "code",
   "execution_count": 33,
   "metadata": {},
   "outputs": [],
   "source": [
    "px = [row[0] for row in x_test]\n",
    "py = [row[1] for row in x_test]\n",
    "pz = [row[2] for row in x_test]\n",
    "e = [row[3] for row in x_test]"
   ]
  },
  {
   "cell_type": "code",
   "execution_count": 34,
   "metadata": {},
   "outputs": [],
   "source": [
    "overall_distr = K.flatten(distr)\n",
    "overall_pred = K.flatten(predictions)\n",
    "overall_input = K.flatten(x_test)"
   ]
  },
  {
   "cell_type": "code",
   "execution_count": 35,
   "metadata": {},
   "outputs": [
    {
     "data": {
      "text/plain": [
       "(array([   435.,    390.,    424.,    432.,    422.,    495.,    511.,\n",
       "           562.,    589.,    617.,    603.,    630.,  73189.,  19658.,\n",
       "          9145.,   5889.,   4338.,   3729.,   3455.,   3631.,   5730.,\n",
       "          5520.,   8578.,  24003., 284871.,  21569.,   7965.,   5471.,\n",
       "          3627.,   2654.,   2186.,   1738.,   1527.,   1460.,   1267.,\n",
       "          1170.,   1078.,    972.,    987.,    903.,    855.,    798.,\n",
       "           803.,    838.,    806.,    737.,    699.,    699.,    749.]),\n",
       " array([-1.        , -0.95918367, -0.91836735, -0.87755102, -0.83673469,\n",
       "        -0.79591837, -0.75510204, -0.71428571, -0.67346939, -0.63265306,\n",
       "        -0.59183673, -0.55102041, -0.51020408, -0.46938776, -0.42857143,\n",
       "        -0.3877551 , -0.34693878, -0.30612245, -0.26530612, -0.2244898 ,\n",
       "        -0.18367347, -0.14285714, -0.10204082, -0.06122449, -0.02040816,\n",
       "         0.02040816,  0.06122449,  0.10204082,  0.14285714,  0.18367347,\n",
       "         0.2244898 ,  0.26530612,  0.30612245,  0.34693878,  0.3877551 ,\n",
       "         0.42857143,  0.46938776,  0.51020408,  0.55102041,  0.59183673,\n",
       "         0.63265306,  0.67346939,  0.71428571,  0.75510204,  0.79591837,\n",
       "         0.83673469,  0.87755102,  0.91836735,  0.95918367,  1.        ]),\n",
       " <a list of 49 Patch objects>)"
      ]
     },
     "execution_count": 35,
     "metadata": {},
     "output_type": "execute_result"
    },
    {
     "data": {
      "image/png": "[encoded data removed]",
      "text/plain": [
       "<Figure size 432x288 with 1 Axes>"
      ]
     },
     "metadata": {
      "needs_background": "light"
     },
     "output_type": "display_data"
    }
   ],
   "source": [
    "# overall pred vs input\n",
    "bins = np.linspace(-1, 1, 50)\n",
    "plt.hist(overall_input, bins=bins,alpha=0.5)\n",
    "plt.hist(overall_pred, bins=bins,alpha=0.5)"
   ]
  },
  {
   "cell_type": "code",
   "execution_count": 36,
   "metadata": {},
   "outputs": [
    {
     "data": {
      "text/plain": [
       "(array([  1657.,   1682.,   1817.,   1987.,   2219.,   2374.,   2499.,\n",
       "          2795.,   3356.,   4117.,   5262.,   7292.,  13771.,  39217.,\n",
       "        182484.,  27699.,  14072.,  10216.,   8833.,   9696.,  14826.,\n",
       "         18904.,  15224.,   8993.,   5791.,   4678.,   3870.,   3455.,\n",
       "          3177.]),\n",
       " array([-2.        , -1.86206897, -1.72413793, -1.5862069 , -1.44827586,\n",
       "        -1.31034483, -1.17241379, -1.03448276, -0.89655172, -0.75862069,\n",
       "        -0.62068966, -0.48275862, -0.34482759, -0.20689655, -0.06896552,\n",
       "         0.06896552,  0.20689655,  0.34482759,  0.48275862,  0.62068966,\n",
       "         0.75862069,  0.89655172,  1.03448276,  1.17241379,  1.31034483,\n",
       "         1.44827586,  1.5862069 ,  1.72413793,  1.86206897,  2.        ]),\n",
       " <a list of 29 Patch objects>)"
      ]
     },
     "execution_count": 36,
     "metadata": {},
     "output_type": "execute_result"
    },
    {
     "data": {
      "image/png": "[encoded data removed]",
      "text/plain": [
       "<Figure size 432x288 with 1 Axes>"
      ]
     },
     "metadata": {
      "needs_background": "light"
     },
     "output_type": "display_data"
    }
   ],
   "source": [
    "# overall distr\n",
    "bins = np.linspace(-2, 2, 30)\n",
    "plt.hist(overall_distr, bins=bins)"
   ]
  },
  {
   "cell_type": "markdown",
   "metadata": {},
   "source": [
    "## Stacking output (orange) over input (blue) for px, py, pz, E"
   ]
  },
  {
   "cell_type": "code",
   "execution_count": 37,
   "metadata": {},
   "outputs": [
    {
     "data": {
      "text/plain": [
       "(array([5.8000e+01, 1.7500e+02, 7.0000e+02, 6.6700e+02, 3.0300e+02,\n",
       "        2.4300e+02, 2.6400e+02, 2.8300e+02, 2.7500e+02, 3.0500e+02,\n",
       "        3.0400e+02, 3.3600e+02, 4.7500e+02, 1.5540e+03, 1.7900e+03,\n",
       "        1.5240e+03, 1.6240e+03, 1.9412e+04, 5.9709e+04, 3.4834e+04,\n",
       "        2.5680e+03, 3.1000e+01, 2.8000e+01, 3.1000e+01, 3.4000e+01,\n",
       "        3.1000e+01, 3.5000e+01, 2.2000e+01, 2.4000e+01, 3.1000e+01,\n",
       "        2.7000e+01, 1.9000e+01, 2.9000e+01, 1.8000e+01, 3.6000e+01,\n",
       "        3.3000e+01, 3.9000e+01, 3.1000e+01, 2.3000e+01]),\n",
       " array([-0.2       , -0.18974359, -0.17948718, -0.16923077, -0.15897436,\n",
       "        -0.14871795, -0.13846154, -0.12820513, -0.11794872, -0.10769231,\n",
       "        -0.0974359 , -0.08717949, -0.07692308, -0.06666667, -0.05641026,\n",
       "        -0.04615385, -0.03589744, -0.02564103, -0.01538462, -0.00512821,\n",
       "         0.00512821,  0.01538462,  0.02564103,  0.03589744,  0.04615385,\n",
       "         0.05641026,  0.06666667,  0.07692308,  0.08717949,  0.0974359 ,\n",
       "         0.10769231,  0.11794872,  0.12820513,  0.13846154,  0.14871795,\n",
       "         0.15897436,  0.16923077,  0.17948718,  0.18974359,  0.2       ]),\n",
       " <a list of 39 Patch objects>)"
      ]
     },
     "execution_count": 37,
     "metadata": {},
     "output_type": "execute_result"
    },
    {
     "data": {
      "image/png": "[encoded data removed]",
      "text/plain": [
       "<Figure size 432x288 with 1 Axes>"
      ]
     },
     "metadata": {
      "needs_background": "light"
     },
     "output_type": "display_data"
    }
   ],
   "source": [
    "# px\n",
    "bins = np.linspace(-0.2, 0.2, 40)\n",
    "plt.hist(px, bins=bins,alpha=0.5)\n",
    "plt.hist(px_pred, bins=bins,alpha=0.5)"
   ]
  },
  {
   "cell_type": "code",
   "execution_count": 38,
   "metadata": {},
   "outputs": [
    {
     "name": "stdout",
     "output_type": "stream",
     "text": [
      "tf.Tensor(0.10560149, shape=(), dtype=float32)\n"
     ]
    }
   ],
   "source": [
    "print(mse(px,px_pred))"
   ]
  },
  {
   "cell_type": "code",
   "execution_count": 39,
   "metadata": {},
   "outputs": [
    {
     "data": {
      "text/plain": [
       "(array([5.7000e+01, 6.5000e+01, 6.7000e+01, 6.7000e+01, 1.0500e+02,\n",
       "        1.2600e+02, 1.9200e+02, 2.2600e+02, 1.5900e+02, 1.2200e+02,\n",
       "        1.2000e+02, 1.3900e+02, 3.2400e+02, 8.4800e+02, 1.0610e+03,\n",
       "        1.5590e+03, 2.2270e+03, 2.3790e+03, 8.2314e+04, 1.5295e+04,\n",
       "        6.4270e+03, 8.9270e+03, 9.4300e+02, 6.2400e+02, 4.5100e+02,\n",
       "        4.1800e+02, 3.2500e+02, 2.4000e+02, 2.0000e+02, 1.5200e+02,\n",
       "        1.6200e+02, 1.7600e+02, 1.5100e+02, 1.2500e+02, 1.0400e+02,\n",
       "        9.4000e+01, 6.0000e+01, 5.1000e+01, 5.8000e+01]),\n",
       " array([-0.2       , -0.18974359, -0.17948718, -0.16923077, -0.15897436,\n",
       "        -0.14871795, -0.13846154, -0.12820513, -0.11794872, -0.10769231,\n",
       "        -0.0974359 , -0.08717949, -0.07692308, -0.06666667, -0.05641026,\n",
       "        -0.04615385, -0.03589744, -0.02564103, -0.01538462, -0.00512821,\n",
       "         0.00512821,  0.01538462,  0.02564103,  0.03589744,  0.04615385,\n",
       "         0.05641026,  0.06666667,  0.07692308,  0.08717949,  0.0974359 ,\n",
       "         0.10769231,  0.11794872,  0.12820513,  0.13846154,  0.14871795,\n",
       "         0.15897436,  0.16923077,  0.17948718,  0.18974359,  0.2       ]),\n",
       " <a list of 39 Patch objects>)"
      ]
     },
     "execution_count": 39,
     "metadata": {},
     "output_type": "execute_result"
    },
    {
     "data": {
      "image/png": "[encoded data removed]",
      "text/plain": [
       "<Figure size 432x288 with 1 Axes>"
      ]
     },
     "metadata": {
      "needs_background": "light"
     },
     "output_type": "display_data"
    }
   ],
   "source": [
    "# py\n",
    "bins = np.linspace(-0.2, 0.2, 40)\n",
    "plt.hist(py, bins=bins,alpha=0.5)\n",
    "plt.hist(py_pred, bins=bins,alpha=0.5)"
   ]
  },
  {
   "cell_type": "code",
   "execution_count": 40,
   "metadata": {},
   "outputs": [
    {
     "name": "stdout",
     "output_type": "stream",
     "text": [
      "tf.Tensor(0.15681137, shape=(), dtype=float32)\n"
     ]
    }
   ],
   "source": [
    "print(mse(py,py_pred))"
   ]
  },
  {
   "cell_type": "code",
   "execution_count": 41,
   "metadata": {},
   "outputs": [
    {
     "data": {
      "text/plain": [
       "(array([  333.,   350.,   402.,   435.,   457.,   519.,   532.,   597.,\n",
       "          663.,   766.,   873.,   942.,  1211.,  1476.,  1503.,  2192.,\n",
       "         3107.,  4531.,  7589., 48073., 15936.,  7902.,  3549.,  3341.,\n",
       "         2431.,  1821.,  1463.,  1129.,  1013.,   815.,   704.,   644.,\n",
       "          582.,   565.,   502.,   410.,   435.,   364.,   347.]),\n",
       " array([-0.5       , -0.47435897, -0.44871795, -0.42307692, -0.3974359 ,\n",
       "        -0.37179487, -0.34615385, -0.32051282, -0.29487179, -0.26923077,\n",
       "        -0.24358974, -0.21794872, -0.19230769, -0.16666667, -0.14102564,\n",
       "        -0.11538462, -0.08974359, -0.06410256, -0.03846154, -0.01282051,\n",
       "         0.01282051,  0.03846154,  0.06410256,  0.08974359,  0.11538462,\n",
       "         0.14102564,  0.16666667,  0.19230769,  0.21794872,  0.24358974,\n",
       "         0.26923077,  0.29487179,  0.32051282,  0.34615385,  0.37179487,\n",
       "         0.3974359 ,  0.42307692,  0.44871795,  0.47435897,  0.5       ]),\n",
       " <a list of 39 Patch objects>)"
      ]
     },
     "execution_count": 41,
     "metadata": {},
     "output_type": "execute_result"
    },
    {
     "data": {
      "image/png": "[encoded data removed]",
      "text/plain": [
       "<Figure size 432x288 with 1 Axes>"
      ]
     },
     "metadata": {
      "needs_background": "light"
     },
     "output_type": "display_data"
    }
   ],
   "source": [
    "# pz\n",
    "bins = np.linspace(-0.5, 0.5, 40)\n",
    "plt.hist(pz, bins=bins,alpha=0.5)\n",
    "plt.hist(pz_pred, bins=bins,alpha=0.5)"
   ]
  },
  {
   "cell_type": "code",
   "execution_count": 42,
   "metadata": {},
   "outputs": [
    {
     "name": "stdout",
     "output_type": "stream",
     "text": [
      "tf.Tensor(0.0043610297, shape=(), dtype=float32)\n"
     ]
    }
   ],
   "source": [
    "print(mse(pz,pz_pred))"
   ]
  },
  {
   "cell_type": "code",
   "execution_count": 43,
   "metadata": {},
   "outputs": [
    {
     "data": {
      "text/plain": [
       "(array([    0.,     0.,     0.,     0., 56200., 21858., 10124.,  6595.,\n",
       "         4221.,  3187.,  2470.,  2008.,  1529.,  1393.,  1120.,  1055.,\n",
       "         1005.,   794.,   752.,   660.,   623.,   572.,   502.,   409.,\n",
       "          501.,   438.,   401.,   381.,   339.,   451.,   414.,   366.,\n",
       "          288.,   236.,   273.,   239.,   249.,   233.,   185.]),\n",
       " array([-0.6       , -0.57692308, -0.55384615, -0.53076923, -0.50769231,\n",
       "        -0.48461538, -0.46153846, -0.43846154, -0.41538462, -0.39230769,\n",
       "        -0.36923077, -0.34615385, -0.32307692, -0.3       , -0.27692308,\n",
       "        -0.25384615, -0.23076923, -0.20769231, -0.18461538, -0.16153846,\n",
       "        -0.13846154, -0.11538462, -0.09230769, -0.06923077, -0.04615385,\n",
       "        -0.02307692,  0.        ,  0.02307692,  0.04615385,  0.06923077,\n",
       "         0.09230769,  0.11538462,  0.13846154,  0.16153846,  0.18461538,\n",
       "         0.20769231,  0.23076923,  0.25384615,  0.27692308,  0.3       ]),\n",
       " <a list of 39 Patch objects>)"
      ]
     },
     "execution_count": 43,
     "metadata": {},
     "output_type": "execute_result"
    },
    {
     "data": {
      "image/png": "[encoded data removed]",
      "text/plain": [
       "<Figure size 432x288 with 1 Axes>"
      ]
     },
     "metadata": {
      "needs_background": "light"
     },
     "output_type": "display_data"
    }
   ],
   "source": [
    "# E\n",
    "bins = np.linspace(-0.6,0.3, 40)\n",
    "plt.hist(e, bins=bins,alpha=0.5)\n",
    "plt.hist(e_pred, bins=bins,alpha=0.5)"
   ]
  },
  {
   "cell_type": "code",
   "execution_count": 44,
   "metadata": {},
   "outputs": [
    {
     "name": "stdout",
     "output_type": "stream",
     "text": [
      "tf.Tensor(0.0050632986, shape=(), dtype=float32)\n"
     ]
    }
   ],
   "source": [
    "print(mse(e,e_pred))"
   ]
  },
  {
   "cell_type": "code",
   "execution_count": 45,
   "metadata": {},
   "outputs": [],
   "source": [
    "d_px = [row[0] for row in distr]\n",
    "d_py = [row[1] for row in distr]\n",
    "d_pz = [row[2] for row in distr]\n",
    "d_e = [row[3] for row in distr]"
   ]
  },
  {
   "cell_type": "markdown",
   "metadata": {},
   "source": [
    "## Distribution of (input - output) / input"
   ]
  },
  {
   "cell_type": "code",
   "execution_count": 46,
   "metadata": {},
   "outputs": [],
   "source": [
    "bins = np.linspace(-2, 2, 30)"
   ]
  },
  {
   "cell_type": "code",
   "execution_count": 47,
   "metadata": {},
   "outputs": [
    {
     "data": {
      "text/plain": [
       "(array([ 633.,  642.,  697.,  743.,  872.,  875.,  938.,  984., 1072.,\n",
       "        1115., 1378., 1569., 2048., 3217., 4976., 5938., 3821., 2764.,\n",
       "        2615., 2956., 4467., 8491., 6554., 3389., 2292., 1940., 1606.,\n",
       "        1444., 1306.]),\n",
       " array([-2.        , -1.86206897, -1.72413793, -1.5862069 , -1.44827586,\n",
       "        -1.31034483, -1.17241379, -1.03448276, -0.89655172, -0.75862069,\n",
       "        -0.62068966, -0.48275862, -0.34482759, -0.20689655, -0.06896552,\n",
       "         0.06896552,  0.20689655,  0.34482759,  0.48275862,  0.62068966,\n",
       "         0.75862069,  0.89655172,  1.03448276,  1.17241379,  1.31034483,\n",
       "         1.44827586,  1.5862069 ,  1.72413793,  1.86206897,  2.        ]),\n",
       " <a list of 29 Patch objects>)"
      ]
     },
     "execution_count": 47,
     "metadata": {},
     "output_type": "execute_result"
    },
    {
     "data": {
      "image/png": "[encoded data removed]",
      "text/plain": [
       "<Figure size 432x288 with 1 Axes>"
      ]
     },
     "metadata": {
      "needs_background": "light"
     },
     "output_type": "display_data"
    }
   ],
   "source": [
    "plt.hist(d_px, bins=bins)"
   ]
  },
  {
   "cell_type": "code",
   "execution_count": 48,
   "metadata": {},
   "outputs": [
    {
     "data": {
      "text/plain": [
       "(array([ 734.,  734.,  755.,  819.,  821.,  913.,  942.,  992., 1051.,\n",
       "        1166., 1356., 1498., 2221., 3468., 5182., 4013., 3031., 2807.,\n",
       "        2991., 3174., 4202., 5520., 4974., 3107., 2290., 1832., 1479.,\n",
       "        1423., 1320.]),\n",
       " array([-2.        , -1.86206897, -1.72413793, -1.5862069 , -1.44827586,\n",
       "        -1.31034483, -1.17241379, -1.03448276, -0.89655172, -0.75862069,\n",
       "        -0.62068966, -0.48275862, -0.34482759, -0.20689655, -0.06896552,\n",
       "         0.06896552,  0.20689655,  0.34482759,  0.48275862,  0.62068966,\n",
       "         0.75862069,  0.89655172,  1.03448276,  1.17241379,  1.31034483,\n",
       "         1.44827586,  1.5862069 ,  1.72413793,  1.86206897,  2.        ]),\n",
       " <a list of 29 Patch objects>)"
      ]
     },
     "execution_count": 48,
     "metadata": {},
     "output_type": "execute_result"
    },
    {
     "data": {
      "image/png": "[encoded data removed]",
      "text/plain": [
       "<Figure size 432x288 with 1 Axes>"
      ]
     },
     "metadata": {
      "needs_background": "light"
     },
     "output_type": "display_data"
    }
   ],
   "source": [
    "plt.hist(d_py, bins=bins)"
   ]
  },
  {
   "cell_type": "code",
   "execution_count": 49,
   "metadata": {},
   "outputs": [
    {
     "data": {
      "text/plain": [
       "(array([  288.,   299.,   360.,   415.,   514.,   574.,   602.,   796.,\n",
       "         1192.,  1752.,  2384.,  3890.,  8520., 24872., 40579., 12465.,\n",
       "         6362.,  4440.,  3182.,  3540.,  6138.,  4872.,  3683.,  2483.,\n",
       "         1200.,   896.,   778.,   582.,   550.]),\n",
       " array([-2.        , -1.86206897, -1.72413793, -1.5862069 , -1.44827586,\n",
       "        -1.31034483, -1.17241379, -1.03448276, -0.89655172, -0.75862069,\n",
       "        -0.62068966, -0.48275862, -0.34482759, -0.20689655, -0.06896552,\n",
       "         0.06896552,  0.20689655,  0.34482759,  0.48275862,  0.62068966,\n",
       "         0.75862069,  0.89655172,  1.03448276,  1.17241379,  1.31034483,\n",
       "         1.44827586,  1.5862069 ,  1.72413793,  1.86206897,  2.        ]),\n",
       " <a list of 29 Patch objects>)"
      ]
     },
     "execution_count": 49,
     "metadata": {},
     "output_type": "execute_result"
    },
    {
     "data": {
      "image/png": "[encoded data removed]",
      "text/plain": [
       "<Figure size 432x288 with 1 Axes>"
      ]
     },
     "metadata": {
      "needs_background": "light"
     },
     "output_type": "display_data"
    }
   ],
   "source": [
    "plt.hist(d_pz, bins=bins)"
   ]
  },
  {
   "cell_type": "code",
   "execution_count": 50,
   "metadata": {},
   "outputs": [
    {
     "data": {
      "text/plain": [
       "(array([2.00000e+00, 7.00000e+00, 5.00000e+00, 1.00000e+01, 1.20000e+01,\n",
       "        1.20000e+01, 1.70000e+01, 2.30000e+01, 4.10000e+01, 8.40000e+01,\n",
       "        1.44000e+02, 3.35000e+02, 9.82000e+02, 7.66000e+03, 1.31747e+05,\n",
       "        5.28300e+03, 8.58000e+02, 2.05000e+02, 4.50000e+01, 2.60000e+01,\n",
       "        1.90000e+01, 2.10000e+01, 1.30000e+01, 1.40000e+01, 9.00000e+00,\n",
       "        1.00000e+01, 7.00000e+00, 6.00000e+00, 1.00000e+00]),\n",
       " array([-2.        , -1.86206897, -1.72413793, -1.5862069 , -1.44827586,\n",
       "        -1.31034483, -1.17241379, -1.03448276, -0.89655172, -0.75862069,\n",
       "        -0.62068966, -0.48275862, -0.34482759, -0.20689655, -0.06896552,\n",
       "         0.06896552,  0.20689655,  0.34482759,  0.48275862,  0.62068966,\n",
       "         0.75862069,  0.89655172,  1.03448276,  1.17241379,  1.31034483,\n",
       "         1.44827586,  1.5862069 ,  1.72413793,  1.86206897,  2.        ]),\n",
       " <a list of 29 Patch objects>)"
      ]
     },
     "execution_count": 50,
     "metadata": {},
     "output_type": "execute_result"
    },
    {
     "data": {
      "image/png": "[encoded data removed]",
      "text/plain": [
       "<Figure size 432x288 with 1 Axes>"
      ]
     },
     "metadata": {
      "needs_background": "light"
     },
     "output_type": "display_data"
    }
   ],
   "source": [
    "plt.hist(d_e, bins=bins)"
   ]
  },
  {
   "cell_type": "markdown",
   "metadata": {},
   "source": [
    "# Anomaly Detection"
   ]
  },
  {
   "cell_type": "code",
   "execution_count": 59,
   "metadata": {},
   "outputs": [],
   "source": [
    "from sklearn.metrics import mean_squared_error"
   ]
  },
  {
   "cell_type": "code",
   "execution_count": 51,
   "metadata": {},
   "outputs": [],
   "source": [
    "test_pred = vae.predict(x_test)"
   ]
  },
  {
   "cell_type": "code",
   "execution_count": 56,
   "metadata": {},
   "outputs": [],
   "source": [
    "def mse_list(x,y):\n",
    "    return mean_squared_error(x_test, test_pred)"
   ]
  },
  {
   "cell_type": "code",
   "execution_count": 65,
   "metadata": {},
   "outputs": [],
   "source": [
    "# get the mse of all predictions\n",
    "errors = (np.square(x_test - test_pred)).mean(axis=1)"
   ]
  },
  {
   "cell_type": "code",
   "execution_count": 82,
   "metadata": {},
   "outputs": [
    {
     "data": {
      "text/plain": [
       "7.325605888801482"
      ]
     },
     "execution_count": 82,
     "metadata": {},
     "output_type": "execute_result"
    }
   ],
   "source": [
    "np.quantile(errors,0.9998)"
   ]
  },
  {
   "cell_type": "code",
   "execution_count": 88,
   "metadata": {},
   "outputs": [
    {
     "data": {
      "text/plain": [
       "(array([False,  True]), array([140351,   7387]))"
      ]
     },
     "execution_count": 88,
     "metadata": {},
     "output_type": "execute_result"
    }
   ],
   "source": [
    "np.unique((errors > np.quantile(errors,0.95)), return_counts = True)"
   ]
  }
 ],
 "metadata": {
  "kernelspec": {
   "display_name": "Python 3",
   "language": "python",
   "name": "python3"
  },
  "language_info": {
   "codemirror_mode": {
    "name": "ipython",
    "version": 3
   },
   "file_extension": ".py",
   "mimetype": "text/x-python",
   "name": "python",
   "nbconvert_exporter": "python",
   "pygments_lexer": "ipython3",
   "version": "3.7.6"
  }
 },
 "nbformat": 4,
 "nbformat_minor": 4
}
