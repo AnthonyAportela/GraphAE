{
 "cells": [
  {
   "cell_type": "code",
   "execution_count": 1,
   "metadata": {},
   "outputs": [],
   "source": [
    "import pandas as pd\n",
    "import numpy as np\n",
    "from pyjet import cluster,DTYPE_PTEPM\n",
    "from sklearn import preprocessing\n",
    "from scipy.stats import iqr\n",
    "import tensorflow as tf"
   ]
  },
  {
   "cell_type": "markdown",
   "metadata": {},
   "source": [
    "# Pre processing"
   ]
  },
  {
   "cell_type": "code",
   "execution_count": 2,
   "metadata": {},
   "outputs": [],
   "source": [
    "path = '/anomalyvol/data/events_LHCO2020_backgroundMC_Pythia.h5'"
   ]
  },
  {
   "cell_type": "code",
   "execution_count": 3,
   "metadata": {},
   "outputs": [],
   "source": [
    "df = pd.read_hdf(path,stop=100000) # just read first 10000 events"
   ]
  },
  {
   "cell_type": "code",
   "execution_count": 4,
   "metadata": {},
   "outputs": [],
   "source": [
    "all_events = df.values"
   ]
  },
  {
   "cell_type": "code",
   "execution_count": 5,
   "metadata": {},
   "outputs": [],
   "source": [
    "rows = all_events.shape[0]\n",
    "cols = all_events.shape[1]\n",
    "data = []"
   ]
  },
  {
   "cell_type": "code",
   "execution_count": 6,
   "metadata": {},
   "outputs": [],
   "source": [
    "for i in range(rows):\n",
    "    pseudojets_input = np.zeros(len([x for x in all_events[i][::3] if x > 0]), dtype=DTYPE_PTEPM)\n",
    "    for j in range(cols // 3):\n",
    "        if (all_events[i][j*3]>0):\n",
    "            pseudojets_input[j]['pT'] = all_events[i][j*3]\n",
    "            pseudojets_input[j]['eta'] = all_events[i][j*3+1]\n",
    "            pseudojets_input[j]['phi'] = all_events[i][j*3+2]\n",
    "        pass\n",
    "    sequence = cluster(pseudojets_input, R=1.0, p=-1)\n",
    "    jets = sequence.inclusive_jets()\n",
    "    for k in range(len(jets)):\n",
    "        jet = []\n",
    "        jet.append(jets[k].px)\n",
    "        jet.append(jets[k].py)\n",
    "        jet.append(jets[k].pz)\n",
    "        jet.append(jets[k].e)\n",
    "        data.append(jet)"
   ]
  },
  {
   "cell_type": "code",
   "execution_count": 91,
   "metadata": {},
   "outputs": [],
   "source": [
    "# loaded_data = data\n",
    "data = loaded_data"
   ]
  },
  {
   "cell_type": "code",
   "execution_count": 92,
   "metadata": {},
   "outputs": [
    {
     "data": {
      "text/plain": [
       "(1477373, 4)"
      ]
     },
     "execution_count": 92,
     "metadata": {},
     "output_type": "execute_result"
    }
   ],
   "source": [
    "data = np.array(data)\n",
    "data.shape"
   ]
  },
  {
   "cell_type": "code",
   "execution_count": 93,
   "metadata": {},
   "outputs": [],
   "source": [
    "# log transform pT\n",
    "#data[:,3] = np.ma.log(data[:,3]).filled()"
   ]
  },
  {
   "cell_type": "code",
   "execution_count": 94,
   "metadata": {},
   "outputs": [
    {
     "data": {
      "text/plain": [
       "array([[-1.17658220e+03, -7.79040316e+02,  3.40962660e+02,\n",
       "         1.45491963e+03],\n",
       "       [ 6.11088616e+02,  7.16513394e+02,  1.55833044e+03,\n",
       "         1.87194199e+03],\n",
       "       [ 4.96094722e+02, -1.87111748e+01,  1.78940558e+03,\n",
       "         1.85808569e+03],\n",
       "       ...,\n",
       "       [ 4.42306312e-01,  9.70780337e-02,  2.58945478e+01,\n",
       "         2.58985070e+01],\n",
       "       [-2.68772115e-01, -3.44070287e-01, -3.01572220e+01,\n",
       "         3.01603823e+01],\n",
       "       [-2.82745626e-01, -7.48815701e-02, -9.38791569e+00,\n",
       "         9.39247109e+00]])"
      ]
     },
     "execution_count": 94,
     "metadata": {},
     "output_type": "execute_result"
    }
   ],
   "source": [
    "data"
   ]
  },
  {
   "cell_type": "code",
   "execution_count": 95,
   "metadata": {},
   "outputs": [],
   "source": [
    "# splitting data\n",
    "x_train = data[0:int(len(data) * 0.8)]\n",
    "x_val = data[int(len(data) * 0.8):int(len(data) * 0.9)]\n",
    "x_test = data[int(len(data) * 0.9):]"
   ]
  },
  {
   "cell_type": "code",
   "execution_count": 96,
   "metadata": {},
   "outputs": [],
   "source": [
    "# regularize\n",
    "scaler = preprocessing.StandardScaler()\n",
    "x_train = scaler.fit_transform(x_train)\n",
    "x_val = scaler.transform(x_val)\n",
    "x_test = scaler.transform(x_test)"
   ]
  },
  {
   "cell_type": "code",
   "execution_count": 117,
   "metadata": {},
   "outputs": [
    {
     "name": "stdout",
     "output_type": "stream",
     "text": [
      "[0.03073949 0.0307984  0.38423165 1.        ]\n"
     ]
    }
   ],
   "source": [
    "iqr_prop = iqr(x_train,axis = 0)\n",
    "max_iqr = max(iqr_prop)\n",
    "iqr_prop = np.array(iqr_prop) / max_iqr\n",
    "print(iqr_prop)"
   ]
  },
  {
   "cell_type": "markdown",
   "metadata": {},
   "source": [
    "# VAE Model"
   ]
  },
  {
   "cell_type": "code",
   "execution_count": 98,
   "metadata": {},
   "outputs": [],
   "source": [
    "import keras\n",
    "from keras.layers import Lambda, Input, Dense, Flatten, Reshape, LeakyReLU, ELU\n",
    "from keras.models import Model, Sequential\n",
    "from keras import metrics, losses\n",
    "from keras import backend as K"
   ]
  },
  {
   "cell_type": "code",
   "execution_count": 99,
   "metadata": {},
   "outputs": [],
   "source": [
    "def sampling(args):\n",
    "    \"\"\"\n",
    "    # Arguments\n",
    "        args (tensor): mean and log of variance of Q(z|X)\n",
    "    # Returns\n",
    "        z (tensor): sampled latent vector\n",
    "    \"\"\"\n",
    "\n",
    "    z_mean, z_log_var = args\n",
    "    batch = K.shape(z_mean)[0]\n",
    "    dim = K.int_shape(z_mean)[1]\n",
    "    # by default, random_normal has mean = 0 and std = 1.0\n",
    "    epsilon = K.random_normal(shape=(batch, dim))\n",
    "    return z_mean + K.exp(0.5 * z_log_var) * epsilon"
   ]
  },
  {
   "cell_type": "code",
   "execution_count": 100,
   "metadata": {},
   "outputs": [],
   "source": [
    "inter_dim_1 = 32\n",
    "inter_dim_2 = 16\n",
    "final_dim = 8\n",
    "latent_dim = 2\n",
    "input_dim = 4"
   ]
  },
  {
   "cell_type": "code",
   "execution_count": 101,
   "metadata": {},
   "outputs": [],
   "source": [
    "# encoder\n",
    "x = Input(shape=(input_dim,))\n",
    "#x_flat = Flatten()(x)\n",
    "h1 = Dense(inter_dim_1, activation='relu')(x)\n",
    "h2 = Dense(inter_dim_2, activation='relu')(h1)\n",
    "h3 = Dense(final_dim, activation='relu')(h2)\n",
    "encoding = Dense(latent_dim, activation='tanh')(h3)"
   ]
  },
  {
   "cell_type": "code",
   "execution_count": 102,
   "metadata": {},
   "outputs": [],
   "source": [
    "# decoder\n",
    "decoder_h3 = Dense(final_dim, activation='relu')\n",
    "decoder_h2 = Dense(inter_dim_2, activation='relu')\n",
    "decoder_h1 = Dense(inter_dim_1, activation='relu')\n",
    "decoder_mean = Dense(input_dim, activation='linear')\n",
    "\n",
    "h3_decoded = decoder_h3(encoding)\n",
    "h2_decoded = decoder_h2(h3_decoded)\n",
    "h1_decoded = decoder_h1(h2_decoded)\n",
    "x_decoded_mean = decoder_mean(h1_decoded)\n",
    "# x_decoded = Reshape(input_shape)(x_decoded_mean)"
   ]
  },
  {
   "cell_type": "code",
   "execution_count": 103,
   "metadata": {},
   "outputs": [],
   "source": [
    "vae = Model(inputs = x, outputs = x_decoded_mean, name = 'vae')"
   ]
  },
  {
   "cell_type": "code",
   "execution_count": 118,
   "metadata": {},
   "outputs": [],
   "source": [
    "mse = keras.losses.MeanSquaredError()\n",
    "def ae_loss(x, y):\n",
    "    mse_loss = 0.25 * (iqr_prop[0]*(x[::,0] - y[::,0])**2 + iqr_prop[1]*(x[::,1] - y[::,1])**2 + iqr_prop[2]*(x[::,2] - y[::,2])**2 + iqr_prop[3]*(x[::,3] - y[::,3])**2)\n",
    "    # mse_loss = mse(x,y)\n",
    "    return mse_loss\n",
    "\n",
    "vae.compile(optimizer='adam', loss=ae_loss)"
   ]
  },
  {
   "cell_type": "code",
   "execution_count": 105,
   "metadata": {},
   "outputs": [
    {
     "name": "stdout",
     "output_type": "stream",
     "text": [
      "Model: \"vae\"\n",
      "_________________________________________________________________\n",
      "Layer (type)                 Output Shape              Param #   \n",
      "=================================================================\n",
      "input_3 (InputLayer)         (None, 4)                 0         \n",
      "_________________________________________________________________\n",
      "dense_17 (Dense)             (None, 32)                160       \n",
      "_________________________________________________________________\n",
      "dense_18 (Dense)             (None, 16)                528       \n",
      "_________________________________________________________________\n",
      "dense_19 (Dense)             (None, 8)                 136       \n",
      "_________________________________________________________________\n",
      "dense_20 (Dense)             (None, 2)                 18        \n",
      "_________________________________________________________________\n",
      "dense_21 (Dense)             (None, 8)                 24        \n",
      "_________________________________________________________________\n",
      "dense_22 (Dense)             (None, 16)                144       \n",
      "_________________________________________________________________\n",
      "dense_23 (Dense)             (None, 32)                544       \n",
      "_________________________________________________________________\n",
      "dense_24 (Dense)             (None, 4)                 132       \n",
      "=================================================================\n",
      "Total params: 1,686\n",
      "Trainable params: 1,686\n",
      "Non-trainable params: 0\n",
      "_________________________________________________________________\n"
     ]
    }
   ],
   "source": [
    "vae.summary()"
   ]
  },
  {
   "cell_type": "markdown",
   "metadata": {},
   "source": [
    "# Train"
   ]
  },
  {
   "cell_type": "code",
   "execution_count": 106,
   "metadata": {},
   "outputs": [],
   "source": [
    "from sklearn.model_selection import train_test_split"
   ]
  },
  {
   "cell_type": "code",
   "execution_count": 107,
   "metadata": {},
   "outputs": [],
   "source": [
    "batch_size = 1000\n",
    "epochs = 200"
   ]
  },
  {
   "cell_type": "code",
   "execution_count": 108,
   "metadata": {},
   "outputs": [
    {
     "data": {
      "text/plain": [
       "(1181898, 4)"
      ]
     },
     "execution_count": 108,
     "metadata": {},
     "output_type": "execute_result"
    }
   ],
   "source": [
    "x_train.shape"
   ]
  },
  {
   "cell_type": "code",
   "execution_count": 109,
   "metadata": {},
   "outputs": [],
   "source": [
    "my_callbacks = [\n",
    "    keras.callbacks.EarlyStopping(patience=10)\n",
    "]"
   ]
  },
  {
   "cell_type": "code",
   "execution_count": 119,
   "metadata": {},
   "outputs": [
    {
     "name": "stdout",
     "output_type": "stream",
     "text": [
      "Train on 1181898 samples, validate on 147737 samples\n",
      "Epoch 1/200\n",
      "1181898/1181898 [==============================] - 7s 6us/step - loss: 0.0490 - val_loss: 0.0160\n",
      "Epoch 2/200\n",
      "1181898/1181898 [==============================] - 7s 6us/step - loss: 0.0158 - val_loss: 0.0157\n",
      "Epoch 3/200\n",
      "1181898/1181898 [==============================] - 7s 6us/step - loss: 0.0156 - val_loss: 0.0156\n",
      "Epoch 4/200\n",
      "1181898/1181898 [==============================] - 7s 6us/step - loss: 0.0155 - val_loss: 0.0155\n",
      "Epoch 5/200\n",
      "1181898/1181898 [==============================] - 7s 6us/step - loss: 0.0155 - val_loss: 0.0155\n",
      "Epoch 6/200\n",
      "1181898/1181898 [==============================] - 7s 6us/step - loss: 0.0155 - val_loss: 0.0155\n",
      "Epoch 7/200\n",
      "1181898/1181898 [==============================] - 7s 6us/step - loss: 0.0154 - val_loss: 0.0155\n",
      "Epoch 8/200\n",
      "1181898/1181898 [==============================] - 7s 6us/step - loss: 0.0154 - val_loss: 0.0154\n",
      "Epoch 9/200\n",
      "1181898/1181898 [==============================] - 7s 6us/step - loss: 0.0154 - val_loss: 0.0154\n",
      "Epoch 10/200\n",
      "1181898/1181898 [==============================] - 7s 6us/step - loss: 0.0154 - val_loss: 0.0154\n",
      "Epoch 11/200\n",
      "1181898/1181898 [==============================] - 7s 6us/step - loss: 0.0154 - val_loss: 0.0154\n",
      "Epoch 12/200\n",
      "1181898/1181898 [==============================] - 7s 6us/step - loss: 0.0154 - val_loss: 0.0154\n",
      "Epoch 13/200\n",
      "1181898/1181898 [==============================] - 7s 6us/step - loss: 0.0154 - val_loss: 0.0154\n",
      "Epoch 14/200\n",
      "1181898/1181898 [==============================] - 7s 6us/step - loss: 0.0154 - val_loss: 0.0154\n",
      "Epoch 15/200\n",
      "1181898/1181898 [==============================] - 7s 6us/step - loss: 0.0154 - val_loss: 0.0154\n",
      "Epoch 16/200\n",
      "1181898/1181898 [==============================] - 7s 6us/step - loss: 0.0154 - val_loss: 0.0154\n",
      "Epoch 17/200\n",
      "1181898/1181898 [==============================] - 7s 6us/step - loss: 0.0154 - val_loss: 0.0154\n",
      "Epoch 18/200\n",
      "1181898/1181898 [==============================] - 7s 6us/step - loss: 0.0154 - val_loss: 0.0154\n",
      "Epoch 19/200\n",
      "1181898/1181898 [==============================] - 7s 6us/step - loss: 0.0154 - val_loss: 0.0154\n",
      "Epoch 20/200\n",
      "1181898/1181898 [==============================] - 7s 6us/step - loss: 0.0154 - val_loss: 0.0154\n",
      "Epoch 21/200\n",
      "1181898/1181898 [==============================] - 7s 6us/step - loss: 0.0141 - val_loss: 0.0125\n",
      "Epoch 22/200\n",
      "1181898/1181898 [==============================] - 7s 6us/step - loss: 0.0117 - val_loss: 0.0115\n",
      "Epoch 23/200\n",
      "1181898/1181898 [==============================] - 7s 6us/step - loss: 0.0107 - val_loss: 0.0105\n",
      "Epoch 24/200\n",
      "1181898/1181898 [==============================] - 7s 6us/step - loss: 0.0101 - val_loss: 0.0096\n",
      "Epoch 25/200\n",
      "1181898/1181898 [==============================] - 7s 6us/step - loss: 0.0094 - val_loss: 0.0093\n",
      "Epoch 26/200\n",
      "1181898/1181898 [==============================] - 7s 6us/step - loss: 0.0092 - val_loss: 0.0095\n",
      "Epoch 27/200\n",
      "1181898/1181898 [==============================] - 7s 6us/step - loss: 0.0092 - val_loss: 0.0087\n",
      "Epoch 28/200\n",
      "1181898/1181898 [==============================] - 7s 6us/step - loss: 0.0086 - val_loss: 0.0087\n",
      "Epoch 29/200\n",
      "1181898/1181898 [==============================] - 7s 6us/step - loss: 0.0086 - val_loss: 0.0084\n",
      "Epoch 30/200\n",
      "1181898/1181898 [==============================] - 7s 6us/step - loss: 0.0084 - val_loss: 0.0081\n",
      "Epoch 31/200\n",
      "1181898/1181898 [==============================] - 7s 6us/step - loss: 0.0081 - val_loss: 0.0082\n",
      "Epoch 32/200\n",
      "1181898/1181898 [==============================] - 7s 6us/step - loss: 0.0079 - val_loss: 0.0075\n",
      "Epoch 33/200\n",
      "1181898/1181898 [==============================] - 7s 6us/step - loss: 0.0074 - val_loss: 0.0071\n",
      "Epoch 34/200\n",
      "1181898/1181898 [==============================] - 7s 6us/step - loss: 0.0070 - val_loss: 0.0068\n",
      "Epoch 35/200\n",
      "1181898/1181898 [==============================] - 7s 6us/step - loss: 0.0066 - val_loss: 0.0065\n",
      "Epoch 36/200\n",
      "1181898/1181898 [==============================] - 7s 6us/step - loss: 0.0065 - val_loss: 0.0062\n",
      "Epoch 37/200\n",
      "1181898/1181898 [==============================] - 7s 6us/step - loss: 0.0063 - val_loss: 0.0062\n",
      "Epoch 38/200\n",
      "1181898/1181898 [==============================] - 7s 6us/step - loss: 0.0065 - val_loss: 0.0067\n",
      "Epoch 39/200\n",
      "1181898/1181898 [==============================] - 7s 6us/step - loss: 0.0061 - val_loss: 0.0058\n",
      "Epoch 40/200\n",
      "1181898/1181898 [==============================] - 7s 6us/step - loss: 0.0057 - val_loss: 0.0058\n",
      "Epoch 41/200\n",
      "1181898/1181898 [==============================] - 7s 6us/step - loss: 0.0056 - val_loss: 0.0054\n",
      "Epoch 42/200\n",
      "1181898/1181898 [==============================] - 7s 6us/step - loss: 0.0058 - val_loss: 0.0059\n",
      "Epoch 43/200\n",
      "1181898/1181898 [==============================] - 7s 6us/step - loss: 0.0060 - val_loss: 0.0057\n",
      "Epoch 44/200\n",
      "1181898/1181898 [==============================] - 7s 6us/step - loss: 0.0059 - val_loss: 0.0057\n",
      "Epoch 45/200\n",
      "1181898/1181898 [==============================] - 7s 6us/step - loss: 0.0056 - val_loss: 0.0058\n",
      "Epoch 46/200\n",
      "1181898/1181898 [==============================] - 7s 6us/step - loss: 0.0054 - val_loss: 0.0050\n",
      "Epoch 47/200\n",
      "1181898/1181898 [==============================] - 7s 6us/step - loss: 0.0054 - val_loss: 0.0053\n",
      "Epoch 48/200\n",
      "1181898/1181898 [==============================] - 7s 6us/step - loss: 0.0055 - val_loss: 0.0049\n",
      "Epoch 49/200\n",
      "1181898/1181898 [==============================] - 7s 6us/step - loss: 0.0051 - val_loss: 0.0049\n",
      "Epoch 50/200\n",
      "1181898/1181898 [==============================] - 7s 6us/step - loss: 0.0050 - val_loss: 0.0048\n",
      "Epoch 51/200\n",
      "1181898/1181898 [==============================] - 7s 6us/step - loss: 0.0049 - val_loss: 0.0046\n",
      "Epoch 52/200\n",
      "1181898/1181898 [==============================] - 7s 6us/step - loss: 0.0047 - val_loss: 0.0049\n",
      "Epoch 53/200\n",
      "1181898/1181898 [==============================] - 7s 6us/step - loss: 0.0046 - val_loss: 0.0046\n",
      "Epoch 54/200\n",
      "1181898/1181898 [==============================] - 7s 6us/step - loss: 0.0045 - val_loss: 0.0050\n",
      "Epoch 55/200\n",
      "1181898/1181898 [==============================] - 7s 6us/step - loss: 0.0046 - val_loss: 0.0043\n",
      "Epoch 56/200\n",
      "1181898/1181898 [==============================] - 7s 6us/step - loss: 0.0045 - val_loss: 0.0043\n",
      "Epoch 57/200\n",
      "1181898/1181898 [==============================] - 7s 6us/step - loss: 0.0046 - val_loss: 0.0045\n",
      "Epoch 58/200\n",
      "1181898/1181898 [==============================] - 7s 6us/step - loss: 0.0045 - val_loss: 0.0044\n",
      "Epoch 59/200\n",
      "1181898/1181898 [==============================] - 7s 6us/step - loss: 0.0044 - val_loss: 0.0042\n",
      "Epoch 60/200\n",
      "1181898/1181898 [==============================] - 7s 6us/step - loss: 0.0046 - val_loss: 0.0047\n",
      "Epoch 61/200\n",
      "1181898/1181898 [==============================] - 7s 6us/step - loss: 0.0045 - val_loss: 0.0043\n",
      "Epoch 62/200\n",
      "1181898/1181898 [==============================] - 7s 6us/step - loss: 0.0043 - val_loss: 0.0047\n",
      "Epoch 63/200\n",
      "1181898/1181898 [==============================] - 7s 6us/step - loss: 0.0048 - val_loss: 0.0048\n",
      "Epoch 64/200\n",
      "1181898/1181898 [==============================] - 7s 6us/step - loss: 0.0046 - val_loss: 0.0045\n",
      "Epoch 65/200\n",
      "1181898/1181898 [==============================] - 7s 6us/step - loss: 0.0046 - val_loss: 0.0045\n",
      "Epoch 66/200\n",
      "1181898/1181898 [==============================] - 7s 6us/step - loss: 0.0043 - val_loss: 0.0043\n",
      "Epoch 67/200\n",
      "1181898/1181898 [==============================] - 7s 6us/step - loss: 0.0043 - val_loss: 0.0044\n",
      "Epoch 68/200\n",
      "1181898/1181898 [==============================] - 7s 6us/step - loss: 0.0044 - val_loss: 0.0045\n",
      "Epoch 69/200\n",
      "1181898/1181898 [==============================] - 7s 6us/step - loss: 0.0045 - val_loss: 0.0043\n"
     ]
    }
   ],
   "source": [
    "hist = vae.fit(x_train, x_train,\n",
    "               shuffle=True,\n",
    "               epochs=epochs,\n",
    "               batch_size=batch_size,\n",
    "               validation_data=(x_val, x_val),\n",
    "               callbacks=my_callbacks)"
   ]
  },
  {
   "cell_type": "markdown",
   "metadata": {},
   "source": [
    "# Visualization"
   ]
  },
  {
   "cell_type": "code",
   "execution_count": 120,
   "metadata": {},
   "outputs": [],
   "source": [
    "import matplotlib.pyplot as plt"
   ]
  },
  {
   "cell_type": "code",
   "execution_count": 121,
   "metadata": {},
   "outputs": [
    {
     "data": {
      "image/png": "[encoded data removed]",
      "text/plain": [
       "<Figure size 432x266.991 with 1 Axes>"
      ]
     },
     "metadata": {
      "needs_background": "light"
     },
     "output_type": "display_data"
    }
   ],
   "source": [
    "golden_size = lambda width: (width, 2. * width / (1 + np.sqrt(5)))\n",
    "\n",
    "fig, ax = plt.subplots(figsize=golden_size(6))\n",
    "\n",
    "hist_df = pd.DataFrame(hist.history)\n",
    "hist_df.plot(ax=ax)\n",
    "\n",
    "ax.set_ylabel('NELBO')\n",
    "ax.set_xlabel('# epochs')\n",
    "\n",
    "ax.set_ylim(.99*hist_df[1:].values.min(), \n",
    "            1.1*hist_df[1:].values.max())\n",
    "plt.show()"
   ]
  },
  {
   "cell_type": "code",
   "execution_count": 122,
   "metadata": {},
   "outputs": [],
   "source": [
    "predictions = vae.predict(x_test)"
   ]
  },
  {
   "cell_type": "code",
   "execution_count": 123,
   "metadata": {},
   "outputs": [
    {
     "data": {
      "text/plain": [
       "array([[ 0.00697267, -0.00670844, -0.04757366, -0.4603668 ],\n",
       "       [ 0.0263418 , -0.05277568, -0.1870012 , -0.34287208],\n",
       "       [-0.00118172,  0.00081843, -0.01172737, -0.47980374],\n",
       "       ...,\n",
       "       [ 0.00501764,  0.01193494,  0.03446456, -0.44607556],\n",
       "       [ 0.01090419, -0.01758558, -0.07692847, -0.43528914],\n",
       "       [ 0.00521791, -0.00294572, -0.03629164, -0.46919245]],\n",
       "      dtype=float32)"
      ]
     },
     "execution_count": 123,
     "metadata": {},
     "output_type": "execute_result"
    }
   ],
   "source": [
    "predictions"
   ]
  },
  {
   "cell_type": "code",
   "execution_count": 124,
   "metadata": {},
   "outputs": [],
   "source": [
    "distr = (x_test - predictions) / x_test"
   ]
  },
  {
   "cell_type": "code",
   "execution_count": 125,
   "metadata": {},
   "outputs": [],
   "source": [
    "px_pred = [row[0] for row in predictions]\n",
    "py_pred = [row[1] for row in predictions]\n",
    "pz_pred = [row[2] for row in predictions]\n",
    "e_pred = [row[3] for row in predictions]"
   ]
  },
  {
   "cell_type": "code",
   "execution_count": 126,
   "metadata": {},
   "outputs": [],
   "source": [
    "px = [row[0] for row in x_test]\n",
    "py = [row[1] for row in x_test]\n",
    "pz = [row[2] for row in x_test]\n",
    "e = [row[3] for row in x_test]"
   ]
  },
  {
   "cell_type": "code",
   "execution_count": 127,
   "metadata": {},
   "outputs": [],
   "source": [
    "overall_distr = K.flatten(distr)\n",
    "overall_pred = K.flatten(predictions)\n",
    "overall_input = K.flatten(x_test)"
   ]
  },
  {
   "cell_type": "code",
   "execution_count": 128,
   "metadata": {},
   "outputs": [
    {
     "data": {
      "text/plain": [
       "(array([   501.,    477.,    527.,    528.,    495.,    514.,    533.,\n",
       "           614.,    648.,    786.,    757.,    807.,  51986.,  32808.,\n",
       "         13227.,   7429.,   4710.,   4610.,   4153.,   4090.,   5199.,\n",
       "          6787.,  12153.,  44015., 246818.,  30768.,   7866.,   5060.,\n",
       "          3579.,   2809.,   2171.,   1932.,   1812.,   1699.,   1563.,\n",
       "          1450.,   1255.,   1084.,   1064.,   1047.,    919.,    866.,\n",
       "           830.,    830.,    731.,    751.,    704.,    675.,    652.]),\n",
       " array([-1.        , -0.95918367, -0.91836735, -0.87755102, -0.83673469,\n",
       "        -0.79591837, -0.75510204, -0.71428571, -0.67346939, -0.63265306,\n",
       "        -0.59183673, -0.55102041, -0.51020408, -0.46938776, -0.42857143,\n",
       "        -0.3877551 , -0.34693878, -0.30612245, -0.26530612, -0.2244898 ,\n",
       "        -0.18367347, -0.14285714, -0.10204082, -0.06122449, -0.02040816,\n",
       "         0.02040816,  0.06122449,  0.10204082,  0.14285714,  0.18367347,\n",
       "         0.2244898 ,  0.26530612,  0.30612245,  0.34693878,  0.3877551 ,\n",
       "         0.42857143,  0.46938776,  0.51020408,  0.55102041,  0.59183673,\n",
       "         0.63265306,  0.67346939,  0.71428571,  0.75510204,  0.79591837,\n",
       "         0.83673469,  0.87755102,  0.91836735,  0.95918367,  1.        ]),\n",
       " <a list of 49 Patch objects>)"
      ]
     },
     "execution_count": 128,
     "metadata": {},
     "output_type": "execute_result"
    },
    {
     "data": {
      "image/png": "[encoded data removed]",
      "text/plain": [
       "<Figure size 432x288 with 1 Axes>"
      ]
     },
     "metadata": {
      "needs_background": "light"
     },
     "output_type": "display_data"
    }
   ],
   "source": [
    "# overall pred vs input\n",
    "bins = np.linspace(-1, 1, 50)\n",
    "plt.hist(overall_input, bins=bins,alpha=0.5)\n",
    "plt.hist(overall_pred, bins=bins,alpha=0.5)"
   ]
  },
  {
   "cell_type": "code",
   "execution_count": 129,
   "metadata": {},
   "outputs": [
    {
     "data": {
      "text/plain": [
       "(array([  1920.,   2066.,   2239.,   2396.,   2556.,   2878.,   3763.,\n",
       "          4601.,   5071.,   5750.,   6467.,   8784.,  11952.,  26993.,\n",
       "        167862.,  32504.,  18708.,  14272.,  12284.,  11988.,  13034.,\n",
       "         13422.,  13093.,  10578.,   8498.,   7040.,   5737.,   5159.,\n",
       "          4816.]),\n",
       " array([-2.        , -1.86206897, -1.72413793, -1.5862069 , -1.44827586,\n",
       "        -1.31034483, -1.17241379, -1.03448276, -0.89655172, -0.75862069,\n",
       "        -0.62068966, -0.48275862, -0.34482759, -0.20689655, -0.06896552,\n",
       "         0.06896552,  0.20689655,  0.34482759,  0.48275862,  0.62068966,\n",
       "         0.75862069,  0.89655172,  1.03448276,  1.17241379,  1.31034483,\n",
       "         1.44827586,  1.5862069 ,  1.72413793,  1.86206897,  2.        ]),\n",
       " <a list of 29 Patch objects>)"
      ]
     },
     "execution_count": 129,
     "metadata": {},
     "output_type": "execute_result"
    },
    {
     "data": {
      "image/png": "[encoded data removed]",
      "text/plain": [
       "<Figure size 432x288 with 1 Axes>"
      ]
     },
     "metadata": {
      "needs_background": "light"
     },
     "output_type": "display_data"
    }
   ],
   "source": [
    "# overall distr\n",
    "bins = np.linspace(-2, 2, 30)\n",
    "plt.hist(overall_distr, bins=bins)"
   ]
  },
  {
   "cell_type": "markdown",
   "metadata": {},
   "source": [
    "## Stacking output (orange) over input (blue) for pT, eta, phi, m"
   ]
  },
  {
   "cell_type": "code",
   "execution_count": 155,
   "metadata": {},
   "outputs": [
    {
     "data": {
      "text/plain": [
       "(array([7.8000e+01, 9.5000e+01, 1.1100e+02, 1.1800e+02, 1.4200e+02,\n",
       "        1.6400e+02, 1.7800e+02, 2.0400e+02, 2.2300e+02, 2.5500e+02,\n",
       "        2.7600e+02, 3.3200e+02, 3.6400e+02, 3.9500e+02, 5.1400e+02,\n",
       "        8.7800e+02, 9.0100e+02, 1.0300e+03, 1.1140e+03, 6.4239e+04,\n",
       "        3.2064e+04, 9.9610e+03, 3.6790e+03, 2.1320e+03, 4.6140e+03,\n",
       "        1.1330e+03, 2.7000e+02, 1.1100e+02, 7.8000e+01, 8.8000e+01,\n",
       "        1.3300e+02, 1.1600e+02, 6.8000e+01, 6.5000e+01, 6.2000e+01,\n",
       "        5.8000e+01, 6.1000e+01, 6.1000e+01, 5.1000e+01]),\n",
       " array([-0.2       , -0.18974359, -0.17948718, -0.16923077, -0.15897436,\n",
       "        -0.14871795, -0.13846154, -0.12820513, -0.11794872, -0.10769231,\n",
       "        -0.0974359 , -0.08717949, -0.07692308, -0.06666667, -0.05641026,\n",
       "        -0.04615385, -0.03589744, -0.02564103, -0.01538462, -0.00512821,\n",
       "         0.00512821,  0.01538462,  0.02564103,  0.03589744,  0.04615385,\n",
       "         0.05641026,  0.06666667,  0.07692308,  0.08717949,  0.0974359 ,\n",
       "         0.10769231,  0.11794872,  0.12820513,  0.13846154,  0.14871795,\n",
       "         0.15897436,  0.16923077,  0.17948718,  0.18974359,  0.2       ]),\n",
       " <a list of 39 Patch objects>)"
      ]
     },
     "execution_count": 155,
     "metadata": {},
     "output_type": "execute_result"
    },
    {
     "data": {
      "image/png": "[encoded data removed]",
      "text/plain": [
       "<Figure size 432x288 with 1 Axes>"
      ]
     },
     "metadata": {
      "needs_background": "light"
     },
     "output_type": "display_data"
    }
   ],
   "source": [
    "bins = np.linspace(-0.2, 0.2, 40)\n",
    "plt.hist(px, bins=bins,alpha=0.5)\n",
    "plt.hist(px_pred, bins=bins,alpha=0.5)"
   ]
  },
  {
   "cell_type": "code",
   "execution_count": 131,
   "metadata": {},
   "outputs": [
    {
     "name": "stdout",
     "output_type": "stream",
     "text": [
      "tf.Tensor(0.13111177, shape=(), dtype=float32)\n"
     ]
    }
   ],
   "source": [
    "print(mse(px,px_pred))"
   ]
  },
  {
   "cell_type": "code",
   "execution_count": 152,
   "metadata": {},
   "outputs": [
    {
     "data": {
      "text/plain": [
       "(array([   91.,    91.,    90.,    76.,    80.,   104.,   112.,    92.,\n",
       "          113.,   105.,   129.,   188.,   218.,   284.,  1948.,  3006.,\n",
       "         4478.,  7290., 12601., 53509., 22744.,  8918.,  1380.,   644.,\n",
       "          507.,   408.,   342.,   348.,   316.,   286.,   287.,   268.,\n",
       "          252.,   264.,   209.,   215.,   210.,   183.,   162.]),\n",
       " array([-0.2       , -0.18974359, -0.17948718, -0.16923077, -0.15897436,\n",
       "        -0.14871795, -0.13846154, -0.12820513, -0.11794872, -0.10769231,\n",
       "        -0.0974359 , -0.08717949, -0.07692308, -0.06666667, -0.05641026,\n",
       "        -0.04615385, -0.03589744, -0.02564103, -0.01538462, -0.00512821,\n",
       "         0.00512821,  0.01538462,  0.02564103,  0.03589744,  0.04615385,\n",
       "         0.05641026,  0.06666667,  0.07692308,  0.08717949,  0.0974359 ,\n",
       "         0.10769231,  0.11794872,  0.12820513,  0.13846154,  0.14871795,\n",
       "         0.15897436,  0.16923077,  0.17948718,  0.18974359,  0.2       ]),\n",
       " <a list of 39 Patch objects>)"
      ]
     },
     "execution_count": 152,
     "metadata": {},
     "output_type": "execute_result"
    },
    {
     "data": {
      "image/png": "[encoded data removed]",
      "text/plain": [
       "<Figure size 432x288 with 1 Axes>"
      ]
     },
     "metadata": {
      "needs_background": "light"
     },
     "output_type": "display_data"
    }
   ],
   "source": [
    "bins = np.linspace(-0.2, 0.2, 40)\n",
    "plt.hist(py, bins=bins,alpha=0.5)\n",
    "plt.hist(py_pred, bins=bins,alpha=0.5)"
   ]
  },
  {
   "cell_type": "code",
   "execution_count": 133,
   "metadata": {},
   "outputs": [
    {
     "name": "stdout",
     "output_type": "stream",
     "text": [
      "tf.Tensor(0.16082239, shape=(), dtype=float32)\n"
     ]
    }
   ],
   "source": [
    "print(mse(py,py_pred))"
   ]
  },
  {
   "cell_type": "code",
   "execution_count": 150,
   "metadata": {},
   "outputs": [
    {
     "data": {
      "text/plain": [
       "(array([  389.,   384.,   407.,   418.,   423.,   469.,   485.,   530.,\n",
       "          815.,  1283.,   730.,   891.,  1429.,  1813.,  2457.,  3875.,\n",
       "         6063., 11364., 43908., 12936.,  8122.,  4742.,  3252.,  2278.,\n",
       "         1792.,  1386.,  1056.,   912.,   675.,   620.,   604.,   531.,\n",
       "          579.,   517.,   517.,   413.,   452.,   417.,   402.]),\n",
       " array([-0.5       , -0.47435897, -0.44871795, -0.42307692, -0.3974359 ,\n",
       "        -0.37179487, -0.34615385, -0.32051282, -0.29487179, -0.26923077,\n",
       "        -0.24358974, -0.21794872, -0.19230769, -0.16666667, -0.14102564,\n",
       "        -0.11538462, -0.08974359, -0.06410256, -0.03846154, -0.01282051,\n",
       "         0.01282051,  0.03846154,  0.06410256,  0.08974359,  0.11538462,\n",
       "         0.14102564,  0.16666667,  0.19230769,  0.21794872,  0.24358974,\n",
       "         0.26923077,  0.29487179,  0.32051282,  0.34615385,  0.37179487,\n",
       "         0.3974359 ,  0.42307692,  0.44871795,  0.47435897,  0.5       ]),\n",
       " <a list of 39 Patch objects>)"
      ]
     },
     "execution_count": 150,
     "metadata": {},
     "output_type": "execute_result"
    },
    {
     "data": {
      "image/png": "[encoded data removed]",
      "text/plain": [
       "<Figure size 432x288 with 1 Axes>"
      ]
     },
     "metadata": {
      "needs_background": "light"
     },
     "output_type": "display_data"
    }
   ],
   "source": [
    "bins = np.linspace(-0.5, 0.5, 40)\n",
    "plt.hist(pz, bins=bins,alpha=0.5)\n",
    "plt.hist(pz_pred, bins=bins,alpha=0.5)"
   ]
  },
  {
   "cell_type": "code",
   "execution_count": 135,
   "metadata": {},
   "outputs": [
    {
     "name": "stdout",
     "output_type": "stream",
     "text": [
      "tf.Tensor(0.0072378106, shape=(), dtype=float32)\n"
     ]
    }
   ],
   "source": [
    "print(mse(pz,pz_pred))"
   ]
  },
  {
   "cell_type": "code",
   "execution_count": 149,
   "metadata": {},
   "outputs": [
    {
     "data": {
      "text/plain": [
       "(array([    0.,     0.,     0.,     0.,     0., 60867., 17321.,  9915.,\n",
       "         6282.,  4177.,  3236.,  2335.,  1640.,  1514.,  1583.,  1199.,\n",
       "         1111.,  1132.,   968.,   838.,   699.,   612.,   591.,   510.,\n",
       "          508.,   508.,   478.,   463.,   406.,   340.,   391.,   326.,\n",
       "          293.,   301.,   273.,   247.,   240.,   250.,   226.]),\n",
       " array([-0.6       , -0.57692308, -0.55384615, -0.53076923, -0.50769231,\n",
       "        -0.48461538, -0.46153846, -0.43846154, -0.41538462, -0.39230769,\n",
       "        -0.36923077, -0.34615385, -0.32307692, -0.3       , -0.27692308,\n",
       "        -0.25384615, -0.23076923, -0.20769231, -0.18461538, -0.16153846,\n",
       "        -0.13846154, -0.11538462, -0.09230769, -0.06923077, -0.04615385,\n",
       "        -0.02307692,  0.        ,  0.02307692,  0.04615385,  0.06923077,\n",
       "         0.09230769,  0.11538462,  0.13846154,  0.16153846,  0.18461538,\n",
       "         0.20769231,  0.23076923,  0.25384615,  0.27692308,  0.3       ]),\n",
       " <a list of 39 Patch objects>)"
      ]
     },
     "execution_count": 149,
     "metadata": {},
     "output_type": "execute_result"
    },
    {
     "data": {
      "image/png": "[encoded data removed]",
      "text/plain": [
       "<Figure size 432x288 with 1 Axes>"
      ]
     },
     "metadata": {
      "needs_background": "light"
     },
     "output_type": "display_data"
    }
   ],
   "source": [
    "bins = np.linspace(-0.6,0.3, 40)\n",
    "plt.hist(e, bins=bins,alpha=0.5)\n",
    "plt.hist(e_pred, bins=bins,alpha=0.5)"
   ]
  },
  {
   "cell_type": "code",
   "execution_count": 137,
   "metadata": {},
   "outputs": [
    {
     "name": "stdout",
     "output_type": "stream",
     "text": [
      "tf.Tensor(0.0052039158, shape=(), dtype=float32)\n"
     ]
    }
   ],
   "source": [
    "print(mse(e,e_pred))"
   ]
  },
  {
   "cell_type": "code",
   "execution_count": 138,
   "metadata": {},
   "outputs": [],
   "source": [
    "d_px = [row[0] for row in distr]\n",
    "d_py = [row[1] for row in distr]\n",
    "d_pz = [row[2] for row in distr]\n",
    "d_e = [row[3] for row in distr]"
   ]
  },
  {
   "cell_type": "markdown",
   "metadata": {},
   "source": [
    "## Distribution of (input - output) / input"
   ]
  },
  {
   "cell_type": "code",
   "execution_count": 139,
   "metadata": {},
   "outputs": [],
   "source": [
    "bins = np.linspace(-2, 2, 30)"
   ]
  },
  {
   "cell_type": "code",
   "execution_count": 140,
   "metadata": {},
   "outputs": [
    {
     "data": {
      "text/plain": [
       "(array([ 597.,  690.,  731.,  753.,  772.,  953.,  989., 1150., 1192.,\n",
       "        1323., 1564., 1937., 2277., 3646., 5998., 6488., 4990., 4083.,\n",
       "        4146., 4760., 6258., 7170., 7019., 5091., 4050., 3392., 2752.,\n",
       "        2353., 2068.]),\n",
       " array([-2.        , -1.86206897, -1.72413793, -1.5862069 , -1.44827586,\n",
       "        -1.31034483, -1.17241379, -1.03448276, -0.89655172, -0.75862069,\n",
       "        -0.62068966, -0.48275862, -0.34482759, -0.20689655, -0.06896552,\n",
       "         0.06896552,  0.20689655,  0.34482759,  0.48275862,  0.62068966,\n",
       "         0.75862069,  0.89655172,  1.03448276,  1.17241379,  1.31034483,\n",
       "         1.44827586,  1.5862069 ,  1.72413793,  1.86206897,  2.        ]),\n",
       " <a list of 29 Patch objects>)"
      ]
     },
     "execution_count": 140,
     "metadata": {},
     "output_type": "execute_result"
    },
    {
     "data": {
      "image/png": "[encoded data removed]",
      "text/plain": [
       "<Figure size 432x288 with 1 Axes>"
      ]
     },
     "metadata": {
      "needs_background": "light"
     },
     "output_type": "display_data"
    }
   ],
   "source": [
    "plt.hist(d_px, bins=bins)"
   ]
  },
  {
   "cell_type": "code",
   "execution_count": 141,
   "metadata": {},
   "outputs": [
    {
     "data": {
      "text/plain": [
       "(array([ 654.,  683.,  752.,  749.,  840.,  936.,  960., 1092., 1186.,\n",
       "        1389., 1584., 1924., 2465., 3957., 5802., 5272., 4663., 4327.,\n",
       "        4337., 4358., 4325., 4796., 4791., 4337., 3343., 2791., 2439.,\n",
       "        2118., 1938.]),\n",
       " array([-2.        , -1.86206897, -1.72413793, -1.5862069 , -1.44827586,\n",
       "        -1.31034483, -1.17241379, -1.03448276, -0.89655172, -0.75862069,\n",
       "        -0.62068966, -0.48275862, -0.34482759, -0.20689655, -0.06896552,\n",
       "         0.06896552,  0.20689655,  0.34482759,  0.48275862,  0.62068966,\n",
       "         0.75862069,  0.89655172,  1.03448276,  1.17241379,  1.31034483,\n",
       "         1.44827586,  1.5862069 ,  1.72413793,  1.86206897,  2.        ]),\n",
       " <a list of 29 Patch objects>)"
      ]
     },
     "execution_count": 141,
     "metadata": {},
     "output_type": "execute_result"
    },
    {
     "data": {
      "image/png": "[encoded data removed]",
      "text/plain": [
       "<Figure size 432x288 with 1 Axes>"
      ]
     },
     "metadata": {
      "needs_background": "light"
     },
     "output_type": "display_data"
    }
   ],
   "source": [
    "plt.hist(d_py, bins=bins)"
   ]
  },
  {
   "cell_type": "code",
   "execution_count": 142,
   "metadata": {},
   "outputs": [
    {
     "data": {
      "text/plain": [
       "(array([  653.,   679.,   736.,   869.,   927.,   947.,  1751.,  2299.,\n",
       "         2596.,  2901.,  3126.,  4521.,  6198., 12870., 28844., 12099.,\n",
       "         7671.,  5268.,  3538.,  2744.,  2329.,  1373.,  1207.,  1105.,\n",
       "         1065.,   829.,   528.,   668.,   794.]),\n",
       " array([-2.        , -1.86206897, -1.72413793, -1.5862069 , -1.44827586,\n",
       "        -1.31034483, -1.17241379, -1.03448276, -0.89655172, -0.75862069,\n",
       "        -0.62068966, -0.48275862, -0.34482759, -0.20689655, -0.06896552,\n",
       "         0.06896552,  0.20689655,  0.34482759,  0.48275862,  0.62068966,\n",
       "         0.75862069,  0.89655172,  1.03448276,  1.17241379,  1.31034483,\n",
       "         1.44827586,  1.5862069 ,  1.72413793,  1.86206897,  2.        ]),\n",
       " <a list of 29 Patch objects>)"
      ]
     },
     "execution_count": 142,
     "metadata": {},
     "output_type": "execute_result"
    },
    {
     "data": {
      "image/png": "[encoded data removed]",
      "text/plain": [
       "<Figure size 432x288 with 1 Axes>"
      ]
     },
     "metadata": {
      "needs_background": "light"
     },
     "output_type": "display_data"
    }
   ],
   "source": [
    "plt.hist(d_pz, bins=bins)"
   ]
  },
  {
   "cell_type": "code",
   "execution_count": 143,
   "metadata": {},
   "outputs": [
    {
     "data": {
      "text/plain": [
       "(array([1.60000e+01, 1.40000e+01, 2.00000e+01, 2.50000e+01, 1.70000e+01,\n",
       "        4.20000e+01, 6.30000e+01, 6.00000e+01, 9.70000e+01, 1.37000e+02,\n",
       "        1.93000e+02, 4.02000e+02, 1.01200e+03, 6.52000e+03, 1.27218e+05,\n",
       "        8.64500e+03, 1.38400e+03, 5.94000e+02, 2.63000e+02, 1.26000e+02,\n",
       "        1.22000e+02, 8.30000e+01, 7.60000e+01, 4.50000e+01, 4.00000e+01,\n",
       "        2.80000e+01, 1.80000e+01, 2.00000e+01, 1.60000e+01]),\n",
       " array([-2.        , -1.86206897, -1.72413793, -1.5862069 , -1.44827586,\n",
       "        -1.31034483, -1.17241379, -1.03448276, -0.89655172, -0.75862069,\n",
       "        -0.62068966, -0.48275862, -0.34482759, -0.20689655, -0.06896552,\n",
       "         0.06896552,  0.20689655,  0.34482759,  0.48275862,  0.62068966,\n",
       "         0.75862069,  0.89655172,  1.03448276,  1.17241379,  1.31034483,\n",
       "         1.44827586,  1.5862069 ,  1.72413793,  1.86206897,  2.        ]),\n",
       " <a list of 29 Patch objects>)"
      ]
     },
     "execution_count": 143,
     "metadata": {},
     "output_type": "execute_result"
    },
    {
     "data": {
      "image/png": "[encoded data removed]",
      "text/plain": [
       "<Figure size 432x288 with 1 Axes>"
      ]
     },
     "metadata": {
      "needs_background": "light"
     },
     "output_type": "display_data"
    }
   ],
   "source": [
    "plt.hist(d_e, bins=bins)"
   ]
  }
 ],
 "metadata": {
  "kernelspec": {
   "display_name": "Python 3",
   "language": "python",
   "name": "python3"
  },
  "language_info": {
   "codemirror_mode": {
    "name": "ipython",
    "version": 3
   },
   "file_extension": ".py",
   "mimetype": "text/x-python",
   "name": "python",
   "nbconvert_exporter": "python",
   "pygments_lexer": "ipython3",
   "version": "3.7.6"
  }
 },
 "nbformat": 4,
 "nbformat_minor": 4
}
