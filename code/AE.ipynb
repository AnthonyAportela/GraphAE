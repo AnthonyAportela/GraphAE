{
 "cells": [
  {
   "cell_type": "code",
   "execution_count": 1,
   "metadata": {},
   "outputs": [],
   "source": [
    "import pandas as pd\n",
    "import numpy as np\n",
    "from pyjet import cluster,DTYPE_PTEPM\n",
    "from sklearn import preprocessing\n",
    "from scipy.stats import iqr\n",
    "import tensorflow as tf\n",
    "import math\n",
    "import energyflow as ef"
   ]
  },
  {
   "cell_type": "markdown",
   "metadata": {},
   "source": [
    "# Pre processing"
   ]
  },
  {
   "cell_type": "code",
   "execution_count": 2,
   "metadata": {},
   "outputs": [],
   "source": [
    "path = '/anomalyvol/data/jet_ver/bb2_ae_input_leading2.h5'  # just leading 2 tags for each event"
   ]
  },
  {
   "cell_type": "code",
   "execution_count": 3,
   "metadata": {},
   "outputs": [],
   "source": [
    "chunk_size = 100000\n",
    "total_size = 1000000 # 1 mil max\n",
    "\n",
    "def generator(path, chunk_size=10000,total_size=1000000):\n",
    "    i = 0\n",
    "    \n",
    "    while True:\n",
    "        yield pd.read_hdf(path,start=i*chunk_size, stop=(i+1)*chunk_size)\n",
    "        \n",
    "        i+=1\n",
    "        if (i+1)*chunk_size > total_size:\n",
    "            i=0\n",
    "\n",
    "gen = generator(path, chunk_size, total_size)"
   ]
  },
  {
   "cell_type": "code",
   "execution_count": 4,
   "metadata": {},
   "outputs": [],
   "source": [
    "data = next(gen)\n",
    "\n",
    "for i in range(total_size // chunk_size - 1):\n",
    "    data.append(next(gen))"
   ]
  },
  {
   "cell_type": "code",
   "execution_count": 5,
   "metadata": {},
   "outputs": [],
   "source": [
    "loaded_data = data\n",
    "# data = loaded_data"
   ]
  },
  {
   "cell_type": "code",
   "execution_count": 6,
   "metadata": {},
   "outputs": [
    {
     "data": {
      "text/html": [
       "<div>\n",
       "<style scoped>\n",
       "    .dataframe tbody tr th:only-of-type {\n",
       "        vertical-align: middle;\n",
       "    }\n",
       "\n",
       "    .dataframe tbody tr th {\n",
       "        vertical-align: top;\n",
       "    }\n",
       "\n",
       "    .dataframe thead th {\n",
       "        text-align: right;\n",
       "    }\n",
       "</style>\n",
       "<table border=\"1\" class=\"dataframe\">\n",
       "  <thead>\n",
       "    <tr style=\"text-align: right;\">\n",
       "      <th></th>\n",
       "      <th>px</th>\n",
       "      <th>py</th>\n",
       "      <th>pz</th>\n",
       "      <th>e</th>\n",
       "      <th>pt</th>\n",
       "      <th>eta</th>\n",
       "      <th>phi</th>\n",
       "      <th>mass</th>\n",
       "      <th>event</th>\n",
       "    </tr>\n",
       "  </thead>\n",
       "  <tbody>\n",
       "    <tr>\n",
       "      <th>0</th>\n",
       "      <td>-1062.893129</td>\n",
       "      <td>-628.262735</td>\n",
       "      <td>1.169332</td>\n",
       "      <td>1254.678179</td>\n",
       "      <td>1234.688572</td>\n",
       "      <td>0.000947</td>\n",
       "      <td>-2.607752</td>\n",
       "      <td>223.069712</td>\n",
       "      <td>0</td>\n",
       "    </tr>\n",
       "    <tr>\n",
       "      <th>1</th>\n",
       "      <td>785.324511</td>\n",
       "      <td>370.963072</td>\n",
       "      <td>-111.802349</td>\n",
       "      <td>878.270957</td>\n",
       "      <td>868.532203</td>\n",
       "      <td>-0.128373</td>\n",
       "      <td>0.441300</td>\n",
       "      <td>67.170832</td>\n",
       "      <td>0</td>\n",
       "    </tr>\n",
       "    <tr>\n",
       "      <th>2</th>\n",
       "      <td>-561.768006</td>\n",
       "      <td>-1116.105784</td>\n",
       "      <td>-865.269849</td>\n",
       "      <td>1539.024767</td>\n",
       "      <td>1249.510070</td>\n",
       "      <td>-0.646501</td>\n",
       "      <td>-2.037103</td>\n",
       "      <td>242.136131</td>\n",
       "      <td>1</td>\n",
       "    </tr>\n",
       "    <tr>\n",
       "      <th>3</th>\n",
       "      <td>508.621548</td>\n",
       "      <td>966.378626</td>\n",
       "      <td>-325.014535</td>\n",
       "      <td>1142.028416</td>\n",
       "      <td>1092.054727</td>\n",
       "      <td>-0.293390</td>\n",
       "      <td>1.086317</td>\n",
       "      <td>77.530168</td>\n",
       "      <td>1</td>\n",
       "    </tr>\n",
       "    <tr>\n",
       "      <th>4</th>\n",
       "      <td>-1737.827475</td>\n",
       "      <td>-749.457862</td>\n",
       "      <td>-321.303249</td>\n",
       "      <td>1922.013243</td>\n",
       "      <td>1892.546279</td>\n",
       "      <td>-0.168968</td>\n",
       "      <td>-2.734431</td>\n",
       "      <td>95.748156</td>\n",
       "      <td>2</td>\n",
       "    </tr>\n",
       "    <tr>\n",
       "      <th>...</th>\n",
       "      <td>...</td>\n",
       "      <td>...</td>\n",
       "      <td>...</td>\n",
       "      <td>...</td>\n",
       "      <td>...</td>\n",
       "      <td>...</td>\n",
       "      <td>...</td>\n",
       "      <td>...</td>\n",
       "      <td>...</td>\n",
       "    </tr>\n",
       "    <tr>\n",
       "      <th>99995</th>\n",
       "      <td>1099.473445</td>\n",
       "      <td>-177.901645</td>\n",
       "      <td>-1324.270741</td>\n",
       "      <td>1808.086076</td>\n",
       "      <td>1113.773249</td>\n",
       "      <td>-1.008909</td>\n",
       "      <td>-0.160416</td>\n",
       "      <td>524.396234</td>\n",
       "      <td>49997</td>\n",
       "    </tr>\n",
       "    <tr>\n",
       "      <th>99996</th>\n",
       "      <td>-1434.211755</td>\n",
       "      <td>-434.628519</td>\n",
       "      <td>1188.434405</td>\n",
       "      <td>1914.378453</td>\n",
       "      <td>1498.621136</td>\n",
       "      <td>0.727207</td>\n",
       "      <td>-2.847346</td>\n",
       "      <td>81.260181</td>\n",
       "      <td>49998</td>\n",
       "    </tr>\n",
       "    <tr>\n",
       "      <th>99997</th>\n",
       "      <td>1364.381967</td>\n",
       "      <td>408.457488</td>\n",
       "      <td>-719.219311</td>\n",
       "      <td>1596.868522</td>\n",
       "      <td>1424.210543</td>\n",
       "      <td>-0.485675</td>\n",
       "      <td>0.290880</td>\n",
       "      <td>65.855808</td>\n",
       "      <td>49998</td>\n",
       "    </tr>\n",
       "    <tr>\n",
       "      <th>99998</th>\n",
       "      <td>1458.038114</td>\n",
       "      <td>-675.280836</td>\n",
       "      <td>-1719.696163</td>\n",
       "      <td>2360.220219</td>\n",
       "      <td>1606.822750</td>\n",
       "      <td>-0.930183</td>\n",
       "      <td>-0.433730</td>\n",
       "      <td>177.215239</td>\n",
       "      <td>49999</td>\n",
       "    </tr>\n",
       "    <tr>\n",
       "      <th>99999</th>\n",
       "      <td>-1379.360931</td>\n",
       "      <td>574.205571</td>\n",
       "      <td>923.610603</td>\n",
       "      <td>1765.679798</td>\n",
       "      <td>1494.104620</td>\n",
       "      <td>0.584343</td>\n",
       "      <td>2.747128</td>\n",
       "      <td>179.499268</td>\n",
       "      <td>49999</td>\n",
       "    </tr>\n",
       "  </tbody>\n",
       "</table>\n",
       "<p>100000 rows × 9 columns</p>\n",
       "</div>"
      ],
      "text/plain": [
       "                px           py           pz            e           pt  \\\n",
       "0     -1062.893129  -628.262735     1.169332  1254.678179  1234.688572   \n",
       "1       785.324511   370.963072  -111.802349   878.270957   868.532203   \n",
       "2      -561.768006 -1116.105784  -865.269849  1539.024767  1249.510070   \n",
       "3       508.621548   966.378626  -325.014535  1142.028416  1092.054727   \n",
       "4     -1737.827475  -749.457862  -321.303249  1922.013243  1892.546279   \n",
       "...            ...          ...          ...          ...          ...   \n",
       "99995  1099.473445  -177.901645 -1324.270741  1808.086076  1113.773249   \n",
       "99996 -1434.211755  -434.628519  1188.434405  1914.378453  1498.621136   \n",
       "99997  1364.381967   408.457488  -719.219311  1596.868522  1424.210543   \n",
       "99998  1458.038114  -675.280836 -1719.696163  2360.220219  1606.822750   \n",
       "99999 -1379.360931   574.205571   923.610603  1765.679798  1494.104620   \n",
       "\n",
       "            eta       phi        mass  event  \n",
       "0      0.000947 -2.607752  223.069712      0  \n",
       "1     -0.128373  0.441300   67.170832      0  \n",
       "2     -0.646501 -2.037103  242.136131      1  \n",
       "3     -0.293390  1.086317   77.530168      1  \n",
       "4     -0.168968 -2.734431   95.748156      2  \n",
       "...         ...       ...         ...    ...  \n",
       "99995 -1.008909 -0.160416  524.396234  49997  \n",
       "99996  0.727207 -2.847346   81.260181  49998  \n",
       "99997 -0.485675  0.290880   65.855808  49998  \n",
       "99998 -0.930183 -0.433730  177.215239  49999  \n",
       "99999  0.584343  2.747128  179.499268  49999  \n",
       "\n",
       "[100000 rows x 9 columns]"
      ]
     },
     "execution_count": 6,
     "metadata": {},
     "output_type": "execute_result"
    }
   ],
   "source": [
    "loaded_data"
   ]
  },
  {
   "cell_type": "code",
   "execution_count": 7,
   "metadata": {},
   "outputs": [
    {
     "data": {
      "text/plain": [
       "(100000, 4)"
      ]
     },
     "execution_count": 7,
     "metadata": {},
     "output_type": "execute_result"
    }
   ],
   "source": [
    "data = np.array(data)\n",
    "data = data[:,:4]  # just keep px, py, pz, e\n",
    "data.shape"
   ]
  },
  {
   "cell_type": "code",
   "execution_count": 8,
   "metadata": {},
   "outputs": [],
   "source": [
    "# splitting data\n",
    "x_train = data[0:int(len(data) * 0.8)]\n",
    "x_val = data[int(len(data) * 0.8):int(len(data) * 0.9)]\n",
    "x_test = data[int(len(data) * 0.9):]"
   ]
  },
  {
   "cell_type": "code",
   "execution_count": 9,
   "metadata": {},
   "outputs": [],
   "source": [
    "# regularize\n",
    "scaler = preprocessing.StandardScaler()\n",
    "x_train = scaler.fit_transform(x_train)\n",
    "x_val = scaler.transform(x_val)\n",
    "x_test = scaler.transform(x_test)"
   ]
  },
  {
   "cell_type": "code",
   "execution_count": 10,
   "metadata": {},
   "outputs": [
    {
     "name": "stdout",
     "output_type": "stream",
     "text": [
      "[0.99943434 1.         0.6741775  0.59191225]\n"
     ]
    }
   ],
   "source": [
    "# get the inverse iqr proportion for each feature used to scale their weights in the loss function\n",
    "iqr_prop = iqr(x_train,axis = 0)\n",
    "max_iqr = max(iqr_prop)\n",
    "iqr_prop = np.array(iqr_prop) / max_iqr\n",
    "print(iqr_prop)"
   ]
  },
  {
   "cell_type": "markdown",
   "metadata": {},
   "source": [
    "# VAE Model"
   ]
  },
  {
   "cell_type": "code",
   "execution_count": 11,
   "metadata": {},
   "outputs": [
    {
     "name": "stderr",
     "output_type": "stream",
     "text": [
      "Using TensorFlow backend.\n"
     ]
    }
   ],
   "source": [
    "import keras\n",
    "from keras.layers import Lambda, Input, Dense, Flatten, Reshape, LeakyReLU, ELU\n",
    "from keras.models import Model, Sequential\n",
    "from keras import metrics, losses\n",
    "from keras import backend as K"
   ]
  },
  {
   "cell_type": "code",
   "execution_count": 12,
   "metadata": {},
   "outputs": [],
   "source": [
    "def sampling(args):\n",
    "    \"\"\"\n",
    "    # Arguments\n",
    "        args (tensor): mean and log of variance of Q(z|X)\n",
    "    # Returns\n",
    "        z (tensor): sampled latent vector\n",
    "    \"\"\"\n",
    "\n",
    "    z_mean, z_log_var = args\n",
    "    batch = K.shape(z_mean)[0]\n",
    "    dim = K.int_shape(z_mean)[1]\n",
    "    # by default, random_normal has mean = 0 and std = 1.0\n",
    "    epsilon = K.random_normal(shape=(batch, dim))\n",
    "    return z_mean + K.exp(0.5 * z_log_var) * epsilon"
   ]
  },
  {
   "cell_type": "code",
   "execution_count": 13,
   "metadata": {},
   "outputs": [],
   "source": [
    "inter_dim_1 = 32\n",
    "inter_dim_2 = 16\n",
    "final_dim = 8\n",
    "latent_dim = 2\n",
    "input_dim = 4"
   ]
  },
  {
   "cell_type": "code",
   "execution_count": 14,
   "metadata": {},
   "outputs": [],
   "source": [
    "# encoder\n",
    "x = Input(shape=(input_dim,))\n",
    "#x_flat = Flatten()(x)\n",
    "h1 = Dense(inter_dim_1, activation='relu')(x)\n",
    "h2 = Dense(inter_dim_2, activation='relu')(h1)\n",
    "h3 = Dense(final_dim, activation='relu')(h2)\n",
    "encoding = Dense(latent_dim, activation='tanh')(h3)"
   ]
  },
  {
   "cell_type": "code",
   "execution_count": 15,
   "metadata": {},
   "outputs": [],
   "source": [
    "# decoder\n",
    "decoder_h3 = Dense(final_dim, activation='relu')\n",
    "decoder_h2 = Dense(inter_dim_2, activation='relu')\n",
    "decoder_h1 = Dense(inter_dim_1, activation='relu')\n",
    "decoder_mean = Dense(input_dim, activation='linear')\n",
    "\n",
    "h3_decoded = decoder_h3(encoding)\n",
    "h2_decoded = decoder_h2(h3_decoded)\n",
    "h1_decoded = decoder_h1(h2_decoded)\n",
    "x_decoded_mean = decoder_mean(h1_decoded)\n",
    "# x_decoded = Reshape(input_shape)(x_decoded_mean)"
   ]
  },
  {
   "cell_type": "code",
   "execution_count": 16,
   "metadata": {},
   "outputs": [],
   "source": [
    "vae = Model(inputs = x, outputs = x_decoded_mean, name = 'vae')"
   ]
  },
  {
   "cell_type": "code",
   "execution_count": 17,
   "metadata": {},
   "outputs": [],
   "source": [
    "mse = keras.losses.MeanSquaredError()\n",
    "def ae_loss(x, y):\n",
    "    mse_loss = 0.25 * (iqr_prop[0]*(x[::,0] - y[::,0])**2 + iqr_prop[1]*(x[::,1] - y[::,1])**2 + iqr_prop[2]*(x[::,2] - y[::,2])**2 + iqr_prop[3]*(x[::,3] - y[::,3])**2)\n",
    "    # mse_loss = mse(x,y)\n",
    "    return mse_loss\n",
    "\n",
    "def earth_mover_loss(y_true, y_pred): # source: https://github.com/titu1994/neural-image-assessment/blob/master/train_mobilenet.py#L49\n",
    "    cdf_ytrue = K.cumsum(y_true, axis=-1)\n",
    "    cdf_ypred = K.cumsum(y_pred, axis=-1)\n",
    "    samplewise_emd = K.sqrt(K.mean(K.square(K.abs(cdf_ytrue - cdf_ypred)), axis=-1))\n",
    "    return K.mean(samplewise_emd)\n",
    "\n",
    "vae.compile(optimizer='adam', loss=ae_loss)"
   ]
  },
  {
   "cell_type": "code",
   "execution_count": 18,
   "metadata": {},
   "outputs": [
    {
     "name": "stdout",
     "output_type": "stream",
     "text": [
      "Model: \"vae\"\n",
      "_________________________________________________________________\n",
      "Layer (type)                 Output Shape              Param #   \n",
      "=================================================================\n",
      "input_1 (InputLayer)         (None, 4)                 0         \n",
      "_________________________________________________________________\n",
      "dense_1 (Dense)              (None, 32)                160       \n",
      "_________________________________________________________________\n",
      "dense_2 (Dense)              (None, 16)                528       \n",
      "_________________________________________________________________\n",
      "dense_3 (Dense)              (None, 8)                 136       \n",
      "_________________________________________________________________\n",
      "dense_4 (Dense)              (None, 2)                 18        \n",
      "_________________________________________________________________\n",
      "dense_5 (Dense)              (None, 8)                 24        \n",
      "_________________________________________________________________\n",
      "dense_6 (Dense)              (None, 16)                144       \n",
      "_________________________________________________________________\n",
      "dense_7 (Dense)              (None, 32)                544       \n",
      "_________________________________________________________________\n",
      "dense_8 (Dense)              (None, 4)                 132       \n",
      "=================================================================\n",
      "Total params: 1,686\n",
      "Trainable params: 1,686\n",
      "Non-trainable params: 0\n",
      "_________________________________________________________________\n"
     ]
    }
   ],
   "source": [
    "vae.summary()"
   ]
  },
  {
   "cell_type": "markdown",
   "metadata": {},
   "source": [
    "# Train"
   ]
  },
  {
   "cell_type": "code",
   "execution_count": 19,
   "metadata": {},
   "outputs": [],
   "source": [
    "from sklearn.model_selection import train_test_split"
   ]
  },
  {
   "cell_type": "code",
   "execution_count": 20,
   "metadata": {},
   "outputs": [],
   "source": [
    "batch_size = 1000\n",
    "epochs = 200"
   ]
  },
  {
   "cell_type": "code",
   "execution_count": 21,
   "metadata": {},
   "outputs": [
    {
     "data": {
      "text/plain": [
       "(80000, 4)"
      ]
     },
     "execution_count": 21,
     "metadata": {},
     "output_type": "execute_result"
    }
   ],
   "source": [
    "x_train.shape"
   ]
  },
  {
   "cell_type": "code",
   "execution_count": 22,
   "metadata": {},
   "outputs": [],
   "source": [
    "my_callbacks = [\n",
    "    keras.callbacks.EarlyStopping(patience=10)\n",
    "]"
   ]
  },
  {
   "cell_type": "code",
   "execution_count": 23,
   "metadata": {},
   "outputs": [
    {
     "name": "stdout",
     "output_type": "stream",
     "text": [
      "Train on 80000 samples, validate on 10000 samples\n",
      "Epoch 1/200\n",
      "80000/80000 [==============================] - 2s 19us/step - loss: 0.6606 - val_loss: 0.4941\n",
      "Epoch 2/200\n",
      "80000/80000 [==============================] - 1s 7us/step - loss: 0.3826 - val_loss: 0.3150\n",
      "Epoch 3/200\n",
      "80000/80000 [==============================] - 1s 9us/step - loss: 0.2780 - val_loss: 0.2499\n",
      "Epoch 4/200\n",
      "80000/80000 [==============================] - 1s 8us/step - loss: 0.2304 - val_loss: 0.2189\n",
      "Epoch 5/200\n",
      "80000/80000 [==============================] - 1s 8us/step - loss: 0.2098 - val_loss: 0.2033\n",
      "Epoch 6/200\n",
      "80000/80000 [==============================] - 1s 8us/step - loss: 0.1960 - val_loss: 0.1904\n",
      "Epoch 7/200\n",
      "80000/80000 [==============================] - 1s 7us/step - loss: 0.1804 - val_loss: 0.1707\n",
      "Epoch 8/200\n",
      "80000/80000 [==============================] - 1s 8us/step - loss: 0.1545 - val_loss: 0.1368\n",
      "Epoch 9/200\n",
      "80000/80000 [==============================] - 1s 8us/step - loss: 0.1241 - val_loss: 0.1119\n",
      "Epoch 10/200\n",
      "80000/80000 [==============================] - 1s 7us/step - loss: 0.1068 - val_loss: 0.1005\n",
      "Epoch 11/200\n",
      "80000/80000 [==============================] - 1s 7us/step - loss: 0.0972 - val_loss: 0.0918\n",
      "Epoch 12/200\n",
      "80000/80000 [==============================] - 1s 8us/step - loss: 0.0905 - val_loss: 0.0866\n",
      "Epoch 13/200\n",
      "80000/80000 [==============================] - 1s 8us/step - loss: 0.0860 - val_loss: 0.0832\n",
      "Epoch 14/200\n",
      "80000/80000 [==============================] - 1s 7us/step - loss: 0.0827 - val_loss: 0.0799\n",
      "Epoch 15/200\n",
      "80000/80000 [==============================] - 1s 7us/step - loss: 0.0799 - val_loss: 0.0786\n",
      "Epoch 16/200\n",
      "80000/80000 [==============================] - 1s 7us/step - loss: 0.0777 - val_loss: 0.0750\n",
      "Epoch 17/200\n",
      "80000/80000 [==============================] - 1s 8us/step - loss: 0.0764 - val_loss: 0.0741\n",
      "Epoch 18/200\n",
      "80000/80000 [==============================] - 1s 7us/step - loss: 0.0753 - val_loss: 0.0722\n",
      "Epoch 19/200\n",
      "80000/80000 [==============================] - 1s 8us/step - loss: 0.0730 - val_loss: 0.0714\n",
      "Epoch 20/200\n",
      "80000/80000 [==============================] - 1s 8us/step - loss: 0.0717 - val_loss: 0.0692\n",
      "Epoch 21/200\n",
      "80000/80000 [==============================] - 1s 7us/step - loss: 0.0704 - val_loss: 0.0687\n",
      "Epoch 22/200\n",
      "80000/80000 [==============================] - 1s 7us/step - loss: 0.0697 - val_loss: 0.0686\n",
      "Epoch 23/200\n",
      "80000/80000 [==============================] - 1s 7us/step - loss: 0.0685 - val_loss: 0.0673\n",
      "Epoch 24/200\n",
      "80000/80000 [==============================] - 1s 8us/step - loss: 0.0674 - val_loss: 0.0671\n",
      "Epoch 25/200\n",
      "80000/80000 [==============================] - 1s 7us/step - loss: 0.0662 - val_loss: 0.0646\n",
      "Epoch 26/200\n",
      "80000/80000 [==============================] - 1s 7us/step - loss: 0.0653 - val_loss: 0.0653\n",
      "Epoch 27/200\n",
      "80000/80000 [==============================] - 1s 8us/step - loss: 0.0645 - val_loss: 0.0645\n",
      "Epoch 28/200\n",
      "80000/80000 [==============================] - 1s 7us/step - loss: 0.0640 - val_loss: 0.0640\n",
      "Epoch 29/200\n",
      "80000/80000 [==============================] - 1s 7us/step - loss: 0.0635 - val_loss: 0.0625\n",
      "Epoch 30/200\n",
      "80000/80000 [==============================] - 1s 7us/step - loss: 0.0624 - val_loss: 0.0611\n",
      "Epoch 31/200\n",
      "80000/80000 [==============================] - 1s 7us/step - loss: 0.0617 - val_loss: 0.0609\n",
      "Epoch 32/200\n",
      "80000/80000 [==============================] - 1s 7us/step - loss: 0.0614 - val_loss: 0.0605\n",
      "Epoch 33/200\n",
      "80000/80000 [==============================] - 1s 7us/step - loss: 0.0613 - val_loss: 0.0623\n",
      "Epoch 34/200\n",
      "80000/80000 [==============================] - 1s 8us/step - loss: 0.0605 - val_loss: 0.0594\n",
      "Epoch 35/200\n",
      "80000/80000 [==============================] - 1s 7us/step - loss: 0.0600 - val_loss: 0.0594\n",
      "Epoch 36/200\n",
      "80000/80000 [==============================] - 1s 8us/step - loss: 0.0598 - val_loss: 0.0592\n",
      "Epoch 37/200\n",
      "80000/80000 [==============================] - 1s 7us/step - loss: 0.0590 - val_loss: 0.0583\n",
      "Epoch 38/200\n",
      "80000/80000 [==============================] - 1s 7us/step - loss: 0.0590 - val_loss: 0.0580\n",
      "Epoch 39/200\n",
      "80000/80000 [==============================] - 1s 7us/step - loss: 0.0582 - val_loss: 0.0590\n",
      "Epoch 40/200\n",
      "80000/80000 [==============================] - 1s 8us/step - loss: 0.0580 - val_loss: 0.0573\n",
      "Epoch 41/200\n",
      "80000/80000 [==============================] - 1s 8us/step - loss: 0.0579 - val_loss: 0.0573\n",
      "Epoch 42/200\n",
      "80000/80000 [==============================] - 1s 8us/step - loss: 0.0566 - val_loss: 0.0553\n",
      "Epoch 43/200\n",
      "80000/80000 [==============================] - 1s 7us/step - loss: 0.0565 - val_loss: 0.0568\n",
      "Epoch 44/200\n",
      "80000/80000 [==============================] - 1s 7us/step - loss: 0.0563 - val_loss: 0.0540\n",
      "Epoch 45/200\n",
      "80000/80000 [==============================] - 1s 8us/step - loss: 0.0555 - val_loss: 0.0546\n",
      "Epoch 46/200\n",
      "80000/80000 [==============================] - 1s 8us/step - loss: 0.0548 - val_loss: 0.0530\n",
      "Epoch 47/200\n",
      "80000/80000 [==============================] - 1s 8us/step - loss: 0.0549 - val_loss: 0.0550\n",
      "Epoch 48/200\n",
      "80000/80000 [==============================] - 1s 7us/step - loss: 0.0543 - val_loss: 0.0563\n",
      "Epoch 49/200\n",
      "80000/80000 [==============================] - 1s 7us/step - loss: 0.0544 - val_loss: 0.0545\n",
      "Epoch 50/200\n",
      "80000/80000 [==============================] - 1s 8us/step - loss: 0.0539 - val_loss: 0.0539\n",
      "Epoch 51/200\n",
      "80000/80000 [==============================] - 1s 8us/step - loss: 0.0536 - val_loss: 0.0539\n",
      "Epoch 52/200\n",
      "80000/80000 [==============================] - 1s 8us/step - loss: 0.0528 - val_loss: 0.0529\n",
      "Epoch 53/200\n",
      "80000/80000 [==============================] - 1s 8us/step - loss: 0.0527 - val_loss: 0.0524\n",
      "Epoch 54/200\n",
      "80000/80000 [==============================] - 1s 8us/step - loss: 0.0533 - val_loss: 0.0525\n",
      "Epoch 55/200\n",
      "80000/80000 [==============================] - 1s 8us/step - loss: 0.0523 - val_loss: 0.0524\n",
      "Epoch 56/200\n",
      "80000/80000 [==============================] - 1s 8us/step - loss: 0.0518 - val_loss: 0.0526\n",
      "Epoch 57/200\n",
      "80000/80000 [==============================] - 1s 8us/step - loss: 0.0513 - val_loss: 0.0507\n",
      "Epoch 58/200\n",
      "80000/80000 [==============================] - 1s 7us/step - loss: 0.0511 - val_loss: 0.0518\n",
      "Epoch 59/200\n",
      "80000/80000 [==============================] - 1s 8us/step - loss: 0.0505 - val_loss: 0.0505\n",
      "Epoch 60/200\n",
      "80000/80000 [==============================] - 1s 8us/step - loss: 0.0503 - val_loss: 0.0502\n",
      "Epoch 61/200\n",
      "80000/80000 [==============================] - 1s 7us/step - loss: 0.0503 - val_loss: 0.0523\n",
      "Epoch 62/200\n",
      "80000/80000 [==============================] - 1s 8us/step - loss: 0.0503 - val_loss: 0.0512\n",
      "Epoch 63/200\n",
      "80000/80000 [==============================] - 1s 8us/step - loss: 0.0500 - val_loss: 0.0490\n",
      "Epoch 64/200\n",
      "80000/80000 [==============================] - 1s 8us/step - loss: 0.0497 - val_loss: 0.0490\n",
      "Epoch 65/200\n",
      "80000/80000 [==============================] - 1s 7us/step - loss: 0.0490 - val_loss: 0.0484\n",
      "Epoch 66/200\n",
      "80000/80000 [==============================] - 1s 8us/step - loss: 0.0486 - val_loss: 0.0483\n",
      "Epoch 67/200\n",
      "80000/80000 [==============================] - 1s 8us/step - loss: 0.0487 - val_loss: 0.0487\n",
      "Epoch 68/200\n",
      "80000/80000 [==============================] - 1s 8us/step - loss: 0.0482 - val_loss: 0.0478\n",
      "Epoch 69/200\n",
      "80000/80000 [==============================] - 1s 8us/step - loss: 0.0483 - val_loss: 0.0462\n",
      "Epoch 70/200\n",
      "80000/80000 [==============================] - 1s 8us/step - loss: 0.0477 - val_loss: 0.0471\n",
      "Epoch 71/200\n",
      "80000/80000 [==============================] - 1s 8us/step - loss: 0.0479 - val_loss: 0.0481\n",
      "Epoch 72/200\n",
      "80000/80000 [==============================] - 1s 8us/step - loss: 0.0476 - val_loss: 0.0498\n",
      "Epoch 73/200\n",
      "80000/80000 [==============================] - 1s 8us/step - loss: 0.0475 - val_loss: 0.0483\n",
      "Epoch 74/200\n",
      "80000/80000 [==============================] - 1s 7us/step - loss: 0.0483 - val_loss: 0.0491\n",
      "Epoch 75/200\n",
      "80000/80000 [==============================] - 1s 8us/step - loss: 0.0481 - val_loss: 0.0468\n",
      "Epoch 76/200\n",
      "80000/80000 [==============================] - 1s 8us/step - loss: 0.0480 - val_loss: 0.0467\n",
      "Epoch 77/200\n",
      "80000/80000 [==============================] - 1s 8us/step - loss: 0.0475 - val_loss: 0.0467\n"
     ]
    },
    {
     "name": "stdout",
     "output_type": "stream",
     "text": [
      "Epoch 78/200\n",
      "80000/80000 [==============================] - 1s 8us/step - loss: 0.0465 - val_loss: 0.0469\n",
      "Epoch 79/200\n",
      "80000/80000 [==============================] - 1s 8us/step - loss: 0.0463 - val_loss: 0.0480\n"
     ]
    }
   ],
   "source": [
    "hist = vae.fit(x_train, x_train,\n",
    "               shuffle=True,\n",
    "               epochs=epochs,\n",
    "               batch_size=batch_size,\n",
    "               validation_data=(x_val, x_val),\n",
    "               callbacks=my_callbacks)"
   ]
  },
  {
   "cell_type": "markdown",
   "metadata": {},
   "source": [
    "# Visualization"
   ]
  },
  {
   "cell_type": "code",
   "execution_count": 24,
   "metadata": {},
   "outputs": [],
   "source": [
    "import matplotlib.pyplot as plt"
   ]
  },
  {
   "cell_type": "code",
   "execution_count": 25,
   "metadata": {},
   "outputs": [
    {
     "data": {
      "image/png": "[encoded data removed]",
      "text/plain": [
       "<Figure size 432x266.991 with 1 Axes>"
      ]
     },
     "metadata": {
      "needs_background": "light"
     },
     "output_type": "display_data"
    }
   ],
   "source": [
    "golden_size = lambda width: (width, 2. * width / (1 + np.sqrt(5)))\n",
    "\n",
    "fig, ax = plt.subplots(figsize=golden_size(6))\n",
    "\n",
    "hist_df = pd.DataFrame(hist.history)\n",
    "hist_df.plot(ax=ax)\n",
    "\n",
    "ax.set_ylabel('NELBO')\n",
    "ax.set_xlabel('# epochs')\n",
    "\n",
    "ax.set_ylim(.99*hist_df[1:].values.min(), \n",
    "            1.1*hist_df[1:].values.max())\n",
    "plt.show()"
   ]
  },
  {
   "cell_type": "code",
   "execution_count": 26,
   "metadata": {},
   "outputs": [],
   "source": [
    "predictions = vae.predict(x_test)"
   ]
  },
  {
   "cell_type": "code",
   "execution_count": 27,
   "metadata": {},
   "outputs": [
    {
     "name": "stdout",
     "output_type": "stream",
     "text": [
      "tf.Tensor(0.05954059, shape=(), dtype=float32)\n"
     ]
    }
   ],
   "source": [
    "# mse on test set\n",
    "p = vae.predict(x_train)\n",
    "print(mse(p, x_train))"
   ]
  },
  {
   "cell_type": "code",
   "execution_count": 28,
   "metadata": {},
   "outputs": [],
   "source": [
    "distr = (x_test - predictions) / x_test"
   ]
  },
  {
   "cell_type": "code",
   "execution_count": 29,
   "metadata": {},
   "outputs": [],
   "source": [
    "px_pred = [row[0] for row in predictions]\n",
    "py_pred = [row[1] for row in predictions]\n",
    "pz_pred = [row[2] for row in predictions]\n",
    "e_pred = [row[3] for row in predictions]"
   ]
  },
  {
   "cell_type": "code",
   "execution_count": 30,
   "metadata": {},
   "outputs": [],
   "source": [
    "px = [row[0] for row in x_test]\n",
    "py = [row[1] for row in x_test]\n",
    "pz = [row[2] for row in x_test]\n",
    "e = [row[3] for row in x_test]"
   ]
  },
  {
   "cell_type": "markdown",
   "metadata": {},
   "source": [
    "## Stacking output (orange) over input (blue) for px, py, pz, E"
   ]
  },
  {
   "cell_type": "code",
   "execution_count": 31,
   "metadata": {},
   "outputs": [
    {
     "data": {
      "image/png": "[encoded data removed]",
      "text/plain": [
       "<Figure size 432x288 with 1 Axes>"
      ]
     },
     "metadata": {
      "needs_background": "light"
     },
     "output_type": "display_data"
    }
   ],
   "source": [
    "# px\n",
    "bins = np.linspace(-2, 2, 40)\n",
    "plt.hist(px, bins=bins,alpha=0.5)\n",
    "plt.hist(px_pred, bins=bins,alpha=0.5)\n",
    "plt.show()"
   ]
  },
  {
   "cell_type": "code",
   "execution_count": 32,
   "metadata": {},
   "outputs": [
    {
     "name": "stdout",
     "output_type": "stream",
     "text": [
      "tf.Tensor(0.051179383, shape=(), dtype=float32)\n"
     ]
    }
   ],
   "source": [
    "print(mse(px,px_pred))"
   ]
  },
  {
   "cell_type": "code",
   "execution_count": 33,
   "metadata": {},
   "outputs": [
    {
     "data": {
      "image/png": "[encoded data removed]",
      "text/plain": [
       "<Figure size 432x288 with 1 Axes>"
      ]
     },
     "metadata": {
      "needs_background": "light"
     },
     "output_type": "display_data"
    }
   ],
   "source": [
    "# py\n",
    "bins = np.linspace(-2, 2, 40)\n",
    "plt.hist(py, bins=bins,alpha=0.5)\n",
    "plt.hist(py_pred, bins=bins,alpha=0.5)\n",
    "plt.show()"
   ]
  },
  {
   "cell_type": "code",
   "execution_count": 34,
   "metadata": {},
   "outputs": [
    {
     "name": "stdout",
     "output_type": "stream",
     "text": [
      "tf.Tensor(0.05377113, shape=(), dtype=float32)\n"
     ]
    }
   ],
   "source": [
    "print(mse(py,py_pred))"
   ]
  },
  {
   "cell_type": "code",
   "execution_count": 35,
   "metadata": {},
   "outputs": [
    {
     "data": {
      "image/png": "[encoded data removed]",
      "text/plain": [
       "<Figure size 432x288 with 1 Axes>"
      ]
     },
     "metadata": {
      "needs_background": "light"
     },
     "output_type": "display_data"
    }
   ],
   "source": [
    "# pz\n",
    "bins = np.linspace(-3, 3, 40)\n",
    "plt.hist(pz, bins=bins,alpha=0.5)\n",
    "plt.hist(pz_pred, bins=bins,alpha=0.5)\n",
    "plt.show()"
   ]
  },
  {
   "cell_type": "code",
   "execution_count": 36,
   "metadata": {},
   "outputs": [
    {
     "name": "stdout",
     "output_type": "stream",
     "text": [
      "tf.Tensor(0.061462525, shape=(), dtype=float32)\n"
     ]
    }
   ],
   "source": [
    "print(mse(pz,pz_pred))"
   ]
  },
  {
   "cell_type": "code",
   "execution_count": 37,
   "metadata": {},
   "outputs": [
    {
     "data": {
      "image/png": "[encoded data removed]",
      "text/plain": [
       "<Figure size 432x288 with 1 Axes>"
      ]
     },
     "metadata": {
      "needs_background": "light"
     },
     "output_type": "display_data"
    }
   ],
   "source": [
    "# E\n",
    "bins = np.linspace(-2,4, 40)\n",
    "plt.hist(e, bins=bins,alpha=0.5)\n",
    "plt.hist(e_pred, bins=bins,alpha=0.5)\n",
    "plt.show()"
   ]
  },
  {
   "cell_type": "code",
   "execution_count": 38,
   "metadata": {},
   "outputs": [
    {
     "name": "stdout",
     "output_type": "stream",
     "text": [
      "tf.Tensor(0.07542907, shape=(), dtype=float32)\n"
     ]
    }
   ],
   "source": [
    "print(mse(e,e_pred))"
   ]
  },
  {
   "cell_type": "code",
   "execution_count": 39,
   "metadata": {},
   "outputs": [],
   "source": [
    "d_px = [row[0] for row in distr]\n",
    "d_py = [row[1] for row in distr]\n",
    "d_pz = [row[2] for row in distr]\n",
    "d_e = [row[3] for row in distr]"
   ]
  },
  {
   "cell_type": "markdown",
   "metadata": {},
   "source": [
    "## Distribution of (input - output) / input"
   ]
  },
  {
   "cell_type": "code",
   "execution_count": 40,
   "metadata": {},
   "outputs": [],
   "source": [
    "bins = np.linspace(-2, 2, 30)"
   ]
  },
  {
   "cell_type": "code",
   "execution_count": 41,
   "metadata": {},
   "outputs": [
    {
     "data": {
      "image/png": "[encoded data removed]",
      "text/plain": [
       "<Figure size 432x288 with 1 Axes>"
      ]
     },
     "metadata": {
      "needs_background": "light"
     },
     "output_type": "display_data"
    }
   ],
   "source": [
    "_ = plt.hist(d_px, bins=bins)"
   ]
  },
  {
   "cell_type": "code",
   "execution_count": 42,
   "metadata": {},
   "outputs": [
    {
     "data": {
      "image/png": "[encoded data removed]",
      "text/plain": [
       "<Figure size 432x288 with 1 Axes>"
      ]
     },
     "metadata": {
      "needs_background": "light"
     },
     "output_type": "display_data"
    }
   ],
   "source": [
    "_ = plt.hist(d_py, bins=bins)"
   ]
  },
  {
   "cell_type": "code",
   "execution_count": 43,
   "metadata": {},
   "outputs": [
    {
     "data": {
      "image/png": "[encoded data removed]",
      "text/plain": [
       "<Figure size 432x288 with 1 Axes>"
      ]
     },
     "metadata": {
      "needs_background": "light"
     },
     "output_type": "display_data"
    }
   ],
   "source": [
    "_ = plt.hist(d_pz, bins=bins)"
   ]
  },
  {
   "cell_type": "code",
   "execution_count": 44,
   "metadata": {},
   "outputs": [
    {
     "data": {
      "image/png": "[encoded data removed]",
      "text/plain": [
       "<Figure size 432x288 with 1 Axes>"
      ]
     },
     "metadata": {
      "needs_background": "light"
     },
     "output_type": "display_data"
    }
   ],
   "source": [
    "_ = plt.hist(d_e, bins=bins)"
   ]
  },
  {
   "cell_type": "markdown",
   "metadata": {},
   "source": [
    "# Anomaly Detection"
   ]
  },
  {
   "cell_type": "code",
   "execution_count": 45,
   "metadata": {},
   "outputs": [],
   "source": [
    "from sklearn.metrics import mean_squared_error"
   ]
  },
  {
   "cell_type": "code",
   "execution_count": 46,
   "metadata": {},
   "outputs": [],
   "source": [
    "# m_12 = sqrt ( (E_1 + E_2)^2 - (p_x1 + p_x2)^2 - (p_y1 + p_y2)^2 - (p_z1 + p_z2)^2 )\n",
    "def invariant_mass(jet1, jet2):\n",
    "    return math.sqrt((jet1.e + jet2.e)**2 - (jet1.px + jet2.px)**2 - (jet1.py + jet2.py)**2 - (jet1.pz + jet2.pz)**2)"
   ]
  },
  {
   "cell_type": "code",
   "execution_count": 47,
   "metadata": {},
   "outputs": [],
   "source": [
    "all_data = np.concatenate((x_train, x_val, x_test))\n",
    "all_pred = vae.predict(all_data)"
   ]
  },
  {
   "cell_type": "code",
   "execution_count": 48,
   "metadata": {},
   "outputs": [],
   "source": [
    "# get the iqr weighted mse of all predictions\n",
    "errors = (iqr_prop[0] * np.square(all_data[:,0] - all_pred[:,0]) + iqr_prop[1] * np.square(all_data[:,1] - all_pred[:,1]) + iqr_prop[2] * np.square(all_data[:,2] - all_pred[:,2]) + iqr_prop[3] * np.square(all_data[:,3] - all_pred[:,3]))"
   ]
  },
  {
   "cell_type": "code",
   "execution_count": 49,
   "metadata": {},
   "outputs": [],
   "source": [
    "# all the inputs that had high mse\n",
    "data_df = loaded_data.copy()\n",
    "data_df.columns = ['px','py','pz','e','pt','eta','phi','mass','event']\n",
    "data_df[\"mse\"] = errors"
   ]
  },
  {
   "cell_type": "code",
   "execution_count": 50,
   "metadata": {},
   "outputs": [],
   "source": [
    "mass_mu = data_df.mass.mean()\n",
    "mass_sd = data_df.mass.std()"
   ]
  },
  {
   "cell_type": "code",
   "execution_count": 51,
   "metadata": {},
   "outputs": [],
   "source": [
    "cut = 0.95\n",
    "data_df[\"outlier\"] = 0\n",
    "# define the outliers by a cut on mse error\n",
    "mse_thresh = np.quantile(errors, cut)\n",
    "data_df.loc[data_df[\"mse\"] > mse_thresh, \"outlier\"] = 1\n",
    "outliers = data_df.loc[data_df.outlier == 1]"
   ]
  },
  {
   "cell_type": "code",
   "execution_count": 52,
   "metadata": {},
   "outputs": [],
   "source": [
    "# get the leading 2 jets from the original dataset if at least 1 was classified an outlier\n",
    "outlier_events = outliers.event.unique()\n",
    "outliers2 = loaded_data.loc[loaded_data.event.isin(outlier_events)]"
   ]
  },
  {
   "cell_type": "code",
   "execution_count": 53,
   "metadata": {
    "scrolled": true
   },
   "outputs": [],
   "source": [
    "# extract the mass of the outliers\n",
    "mass = []\n",
    "for event, group in outliers2.groupby(['event']):\n",
    "    pseudojets_input = np.zeros(len(group), dtype=DTYPE_PTEPM)\n",
    "    for i in range(len(group.pt.array)):\n",
    "        pseudojets_input[i]['pT'] = group.pt.array[i]\n",
    "        pseudojets_input[i]['eta'] = group.eta.array[i]\n",
    "        pseudojets_input[i]['phi'] = group.phi.array[i]\n",
    "    sequence = cluster(pseudojets_input, R=1.0, p=-1)\n",
    "    jets = sequence.inclusive_jets()\n",
    "    if(len(jets) >= 2):  # just take the invariant mass of the leading 2 jets\n",
    "        mass.append(invariant_mass(jets[0],jets[1]))"
   ]
  },
  {
   "cell_type": "code",
   "execution_count": 54,
   "metadata": {},
   "outputs": [],
   "source": [
    "# load in the precalculated invariant mass of all leading 2 jets for all events\n",
    "path = '/anomalyvol/data/jet_ver/bb1_jet_mass.h5'\n",
    "mgen = generator(path, chunk_size, total_size)\n",
    "all_mass = next(mgen)\n",
    "\n",
    "for i in range(total_size // chunk_size - 1):\n",
    "    all_mass.append(next(mgen))"
   ]
  },
  {
   "cell_type": "code",
   "execution_count": 55,
   "metadata": {},
   "outputs": [
    {
     "data": {
      "image/png": "[encoded data removed]",
      "text/plain": [
       "<Figure size 432x288 with 1 Axes>"
      ]
     },
     "metadata": {
      "needs_background": "light"
     },
     "output_type": "display_data"
    }
   ],
   "source": [
    "# plot invariant mass (orange = all, blue = outliers)\n",
    "weights = np.ones_like(mass) / len(mass)\n",
    "plt.hist(mass, bins=np.linspace(1000,6000, 61), alpha = 0.5, weights=weights)\n",
    "weights = np.ones_like(all_mass) / len(all_mass)\n",
    "plt.hist(all_mass.mass, bins=np.linspace(1000,6000, 61), alpha = 0.5, weights=weights)\n",
    "plt.show()"
   ]
  }
 ],
 "metadata": {
  "kernelspec": {
   "display_name": "Python 3",
   "language": "python",
   "name": "python3"
  },
  "language_info": {
   "codemirror_mode": {
    "name": "ipython",
    "version": 3
   },
   "file_extension": ".py",
   "mimetype": "text/x-python",
   "name": "python",
   "nbconvert_exporter": "python",
   "pygments_lexer": "ipython3",
   "version": "3.7.6"
  }
 },
 "nbformat": 4,
 "nbformat_minor": 4
}
