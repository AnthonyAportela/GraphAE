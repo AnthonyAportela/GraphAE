{
 "cells": [
  {
   "cell_type": "code",
   "execution_count": 125,
   "metadata": {},
   "outputs": [],
   "source": [
    "import pandas as pd\n",
    "import numpy as np\n",
    "from pyjet import cluster,DTYPE_PTEPM\n",
    "from sklearn import preprocessing\n",
    "from scipy.stats import iqr\n",
    "import tensorflow as tf\n",
    "import math"
   ]
  },
  {
   "cell_type": "markdown",
   "metadata": {},
   "source": [
    "# Pre processing"
   ]
  },
  {
   "cell_type": "code",
   "execution_count": 2,
   "metadata": {},
   "outputs": [],
   "source": [
    "path = '/anomalyvol/data/jet_ver/bb1_ae_input.h5'"
   ]
  },
  {
   "cell_type": "code",
   "execution_count": 3,
   "metadata": {},
   "outputs": [],
   "source": [
    "chunk_size = 100000\n",
    "total_size = 1000000 # 1 mil max\n",
    "\n",
    "def generator(path, chunk_size=10000,total_size=1000000):\n",
    "    i = 0\n",
    "    \n",
    "    while True:\n",
    "        yield pd.read_hdf(path,start=i*chunk_size, stop=(i+1)*chunk_size)\n",
    "        \n",
    "        i+=1\n",
    "        if (i+1)*chunk_size > total_size:\n",
    "            i=0\n",
    "\n",
    "gen = generator(path, chunk_size, total_size)"
   ]
  },
  {
   "cell_type": "code",
   "execution_count": 4,
   "metadata": {},
   "outputs": [],
   "source": [
    "data = next(gen)\n",
    "\n",
    "for i in range(total_size // chunk_size - 1):\n",
    "    data.append(next(gen))"
   ]
  },
  {
   "cell_type": "code",
   "execution_count": 5,
   "metadata": {},
   "outputs": [],
   "source": [
    "loaded_data = data\n",
    "# data = loaded_data"
   ]
  },
  {
   "cell_type": "code",
   "execution_count": 6,
   "metadata": {},
   "outputs": [
    {
     "data": {
      "text/plain": [
       "(100000, 4)"
      ]
     },
     "execution_count": 6,
     "metadata": {},
     "output_type": "execute_result"
    }
   ],
   "source": [
    "data = np.array(data)\n",
    "data = data[:,:4]  # just keep px, py, pz, e\n",
    "data.shape"
   ]
  },
  {
   "cell_type": "code",
   "execution_count": 7,
   "metadata": {},
   "outputs": [],
   "source": [
    "# splitting data\n",
    "x_train = data[0:int(len(data) * 0.8)]\n",
    "x_val = data[int(len(data) * 0.8):int(len(data) * 0.9)]\n",
    "x_test = data[int(len(data) * 0.9):]"
   ]
  },
  {
   "cell_type": "code",
   "execution_count": 8,
   "metadata": {},
   "outputs": [],
   "source": [
    "# regularize\n",
    "scaler = preprocessing.StandardScaler()\n",
    "x_train = scaler.fit_transform(x_train)\n",
    "x_val = scaler.transform(x_val)\n",
    "x_test = scaler.transform(x_test)"
   ]
  },
  {
   "cell_type": "code",
   "execution_count": 9,
   "metadata": {},
   "outputs": [
    {
     "name": "stdout",
     "output_type": "stream",
     "text": [
      "[0.01960501 0.01973707 0.22276554 1.        ]\n"
     ]
    }
   ],
   "source": [
    "# get the inverse iqr proportion for each feature used to scale their weights in the loss function\n",
    "iqr_prop = iqr(x_train,axis = 0)\n",
    "max_iqr = max(iqr_prop)\n",
    "iqr_prop = np.array(iqr_prop) / max_iqr\n",
    "print(iqr_prop)"
   ]
  },
  {
   "cell_type": "markdown",
   "metadata": {},
   "source": [
    "# VAE Model"
   ]
  },
  {
   "cell_type": "code",
   "execution_count": 10,
   "metadata": {},
   "outputs": [
    {
     "name": "stderr",
     "output_type": "stream",
     "text": [
      "Using TensorFlow backend.\n"
     ]
    }
   ],
   "source": [
    "import keras\n",
    "from keras.layers import Lambda, Input, Dense, Flatten, Reshape, LeakyReLU, ELU\n",
    "from keras.models import Model, Sequential\n",
    "from keras import metrics, losses\n",
    "from keras import backend as K"
   ]
  },
  {
   "cell_type": "code",
   "execution_count": 11,
   "metadata": {},
   "outputs": [],
   "source": [
    "def sampling(args):\n",
    "    \"\"\"\n",
    "    # Arguments\n",
    "        args (tensor): mean and log of variance of Q(z|X)\n",
    "    # Returns\n",
    "        z (tensor): sampled latent vector\n",
    "    \"\"\"\n",
    "\n",
    "    z_mean, z_log_var = args\n",
    "    batch = K.shape(z_mean)[0]\n",
    "    dim = K.int_shape(z_mean)[1]\n",
    "    # by default, random_normal has mean = 0 and std = 1.0\n",
    "    epsilon = K.random_normal(shape=(batch, dim))\n",
    "    return z_mean + K.exp(0.5 * z_log_var) * epsilon"
   ]
  },
  {
   "cell_type": "code",
   "execution_count": 12,
   "metadata": {},
   "outputs": [],
   "source": [
    "inter_dim_1 = 32\n",
    "inter_dim_2 = 16\n",
    "final_dim = 8\n",
    "latent_dim = 2\n",
    "input_dim = 4"
   ]
  },
  {
   "cell_type": "code",
   "execution_count": 13,
   "metadata": {},
   "outputs": [],
   "source": [
    "# encoder\n",
    "x = Input(shape=(input_dim,))\n",
    "#x_flat = Flatten()(x)\n",
    "h1 = Dense(inter_dim_1, activation='relu')(x)\n",
    "h2 = Dense(inter_dim_2, activation='relu')(h1)\n",
    "h3 = Dense(final_dim, activation='relu')(h2)\n",
    "encoding = Dense(latent_dim, activation='tanh')(h3)"
   ]
  },
  {
   "cell_type": "code",
   "execution_count": 14,
   "metadata": {},
   "outputs": [],
   "source": [
    "# decoder\n",
    "decoder_h3 = Dense(final_dim, activation='relu')\n",
    "decoder_h2 = Dense(inter_dim_2, activation='relu')\n",
    "decoder_h1 = Dense(inter_dim_1, activation='relu')\n",
    "decoder_mean = Dense(input_dim, activation='linear')\n",
    "\n",
    "h3_decoded = decoder_h3(encoding)\n",
    "h2_decoded = decoder_h2(h3_decoded)\n",
    "h1_decoded = decoder_h1(h2_decoded)\n",
    "x_decoded_mean = decoder_mean(h1_decoded)\n",
    "# x_decoded = Reshape(input_shape)(x_decoded_mean)"
   ]
  },
  {
   "cell_type": "code",
   "execution_count": 15,
   "metadata": {},
   "outputs": [],
   "source": [
    "vae = Model(inputs = x, outputs = x_decoded_mean, name = 'vae')"
   ]
  },
  {
   "cell_type": "code",
   "execution_count": 16,
   "metadata": {},
   "outputs": [],
   "source": [
    "mse = keras.losses.MeanSquaredError()\n",
    "def ae_loss(x, y):\n",
    "    mse_loss = 0.25 * (iqr_prop[0]*(x[::,0] - y[::,0])**2 + iqr_prop[1]*(x[::,1] - y[::,1])**2 + iqr_prop[2]*(x[::,2] - y[::,2])**2 + iqr_prop[3]*(x[::,3] - y[::,3])**2)\n",
    "    # mse_loss = mse(x,y)\n",
    "    return mse_loss\n",
    "\n",
    "vae.compile(optimizer='adam', loss=ae_loss)"
   ]
  },
  {
   "cell_type": "code",
   "execution_count": 17,
   "metadata": {},
   "outputs": [
    {
     "name": "stdout",
     "output_type": "stream",
     "text": [
      "Model: \"vae\"\n",
      "_________________________________________________________________\n",
      "Layer (type)                 Output Shape              Param #   \n",
      "=================================================================\n",
      "input_1 (InputLayer)         (None, 4)                 0         \n",
      "_________________________________________________________________\n",
      "dense_1 (Dense)              (None, 32)                160       \n",
      "_________________________________________________________________\n",
      "dense_2 (Dense)              (None, 16)                528       \n",
      "_________________________________________________________________\n",
      "dense_3 (Dense)              (None, 8)                 136       \n",
      "_________________________________________________________________\n",
      "dense_4 (Dense)              (None, 2)                 18        \n",
      "_________________________________________________________________\n",
      "dense_5 (Dense)              (None, 8)                 24        \n",
      "_________________________________________________________________\n",
      "dense_6 (Dense)              (None, 16)                144       \n",
      "_________________________________________________________________\n",
      "dense_7 (Dense)              (None, 32)                544       \n",
      "_________________________________________________________________\n",
      "dense_8 (Dense)              (None, 4)                 132       \n",
      "=================================================================\n",
      "Total params: 1,686\n",
      "Trainable params: 1,686\n",
      "Non-trainable params: 0\n",
      "_________________________________________________________________\n"
     ]
    }
   ],
   "source": [
    "vae.summary()"
   ]
  },
  {
   "cell_type": "markdown",
   "metadata": {},
   "source": [
    "# Train"
   ]
  },
  {
   "cell_type": "code",
   "execution_count": 18,
   "metadata": {},
   "outputs": [],
   "source": [
    "from sklearn.model_selection import train_test_split"
   ]
  },
  {
   "cell_type": "code",
   "execution_count": 19,
   "metadata": {},
   "outputs": [],
   "source": [
    "batch_size = 1000\n",
    "epochs = 200"
   ]
  },
  {
   "cell_type": "code",
   "execution_count": 20,
   "metadata": {},
   "outputs": [
    {
     "data": {
      "text/plain": [
       "(80000, 4)"
      ]
     },
     "execution_count": 20,
     "metadata": {},
     "output_type": "execute_result"
    }
   ],
   "source": [
    "x_train.shape"
   ]
  },
  {
   "cell_type": "code",
   "execution_count": 21,
   "metadata": {},
   "outputs": [],
   "source": [
    "my_callbacks = [\n",
    "    keras.callbacks.EarlyStopping(patience=10)\n",
    "]"
   ]
  },
  {
   "cell_type": "code",
   "execution_count": 22,
   "metadata": {},
   "outputs": [
    {
     "name": "stdout",
     "output_type": "stream",
     "text": [
      "Train on 80000 samples, validate on 10000 samples\n",
      "Epoch 1/200\n",
      "80000/80000 [==============================] - 1s 14us/step - loss: 0.1731 - val_loss: 0.0889\n",
      "Epoch 2/200\n",
      "80000/80000 [==============================] - 0s 5us/step - loss: 0.0768 - val_loss: 0.0700\n",
      "Epoch 3/200\n",
      "80000/80000 [==============================] - 0s 5us/step - loss: 0.0684 - val_loss: 0.0668\n",
      "Epoch 4/200\n",
      "80000/80000 [==============================] - 0s 5us/step - loss: 0.0667 - val_loss: 0.0662\n",
      "Epoch 5/200\n",
      "80000/80000 [==============================] - 0s 5us/step - loss: 0.0662 - val_loss: 0.0658\n",
      "Epoch 6/200\n",
      "80000/80000 [==============================] - 0s 5us/step - loss: 0.0647 - val_loss: 0.0604\n",
      "Epoch 7/200\n",
      "80000/80000 [==============================] - 0s 5us/step - loss: 0.0387 - val_loss: 0.0185\n",
      "Epoch 8/200\n",
      "80000/80000 [==============================] - 0s 5us/step - loss: 0.0150 - val_loss: 0.0126\n",
      "Epoch 9/200\n",
      "80000/80000 [==============================] - 0s 5us/step - loss: 0.0120 - val_loss: 0.0116\n",
      "Epoch 10/200\n",
      "80000/80000 [==============================] - 0s 6us/step - loss: 0.0112 - val_loss: 0.0112\n",
      "Epoch 11/200\n",
      "80000/80000 [==============================] - 0s 6us/step - loss: 0.0109 - val_loss: 0.0110\n",
      "Epoch 12/200\n",
      "80000/80000 [==============================] - 0s 6us/step - loss: 0.0107 - val_loss: 0.0108\n",
      "Epoch 13/200\n",
      "80000/80000 [==============================] - 0s 6us/step - loss: 0.0106 - val_loss: 0.0108\n",
      "Epoch 14/200\n",
      "80000/80000 [==============================] - 0s 6us/step - loss: 0.0105 - val_loss: 0.0107\n",
      "Epoch 15/200\n",
      "80000/80000 [==============================] - 0s 5us/step - loss: 0.0104 - val_loss: 0.0107\n",
      "Epoch 16/200\n",
      "80000/80000 [==============================] - 0s 5us/step - loss: 0.0103 - val_loss: 0.0106\n",
      "Epoch 17/200\n",
      "80000/80000 [==============================] - 0s 5us/step - loss: 0.0103 - val_loss: 0.0105\n",
      "Epoch 18/200\n",
      "80000/80000 [==============================] - 0s 5us/step - loss: 0.0102 - val_loss: 0.0105\n",
      "Epoch 19/200\n",
      "80000/80000 [==============================] - 0s 5us/step - loss: 0.0102 - val_loss: 0.0105\n",
      "Epoch 20/200\n",
      "80000/80000 [==============================] - 0s 5us/step - loss: 0.0102 - val_loss: 0.0105\n",
      "Epoch 21/200\n",
      "80000/80000 [==============================] - 0s 5us/step - loss: 0.0102 - val_loss: 0.0104\n",
      "Epoch 22/200\n",
      "80000/80000 [==============================] - 0s 5us/step - loss: 0.0101 - val_loss: 0.0104\n",
      "Epoch 23/200\n",
      "80000/80000 [==============================] - 0s 5us/step - loss: 0.0101 - val_loss: 0.0104\n",
      "Epoch 24/200\n",
      "80000/80000 [==============================] - 0s 5us/step - loss: 0.0101 - val_loss: 0.0104\n",
      "Epoch 25/200\n",
      "80000/80000 [==============================] - 0s 5us/step - loss: 0.0101 - val_loss: 0.0104\n",
      "Epoch 26/200\n",
      "80000/80000 [==============================] - 0s 5us/step - loss: 0.0101 - val_loss: 0.0104\n",
      "Epoch 27/200\n",
      "80000/80000 [==============================] - 0s 5us/step - loss: 0.0101 - val_loss: 0.0104\n",
      "Epoch 28/200\n",
      "80000/80000 [==============================] - 0s 5us/step - loss: 0.0100 - val_loss: 0.0103\n",
      "Epoch 29/200\n",
      "80000/80000 [==============================] - 0s 5us/step - loss: 0.0100 - val_loss: 0.0104\n",
      "Epoch 30/200\n",
      "80000/80000 [==============================] - 0s 5us/step - loss: 0.0100 - val_loss: 0.0103\n",
      "Epoch 31/200\n",
      "80000/80000 [==============================] - 0s 5us/step - loss: 0.0100 - val_loss: 0.0103\n",
      "Epoch 32/200\n",
      "80000/80000 [==============================] - 0s 6us/step - loss: 0.0100 - val_loss: 0.0103\n",
      "Epoch 33/200\n",
      "80000/80000 [==============================] - 0s 5us/step - loss: 0.0100 - val_loss: 0.0103\n",
      "Epoch 34/200\n",
      "80000/80000 [==============================] - 0s 6us/step - loss: 0.0100 - val_loss: 0.0103\n",
      "Epoch 35/200\n",
      "80000/80000 [==============================] - 0s 6us/step - loss: 0.0100 - val_loss: 0.0103\n",
      "Epoch 36/200\n",
      "80000/80000 [==============================] - 0s 6us/step - loss: 0.0100 - val_loss: 0.0103\n",
      "Epoch 37/200\n",
      "80000/80000 [==============================] - 0s 6us/step - loss: 0.0100 - val_loss: 0.0103\n",
      "Epoch 38/200\n",
      "80000/80000 [==============================] - 0s 6us/step - loss: 0.0100 - val_loss: 0.0103\n",
      "Epoch 39/200\n",
      "80000/80000 [==============================] - 0s 6us/step - loss: 0.0100 - val_loss: 0.0103\n",
      "Epoch 40/200\n",
      "80000/80000 [==============================] - 0s 6us/step - loss: 0.0100 - val_loss: 0.0103\n",
      "Epoch 41/200\n",
      "80000/80000 [==============================] - 0s 5us/step - loss: 0.0100 - val_loss: 0.0103\n",
      "Epoch 42/200\n",
      "80000/80000 [==============================] - 0s 5us/step - loss: 0.0100 - val_loss: 0.0103\n",
      "Epoch 43/200\n",
      "80000/80000 [==============================] - 0s 6us/step - loss: 0.0100 - val_loss: 0.0103\n",
      "Epoch 44/200\n",
      "80000/80000 [==============================] - 0s 5us/step - loss: 0.0099 - val_loss: 0.0103\n",
      "Epoch 45/200\n",
      "80000/80000 [==============================] - 0s 6us/step - loss: 0.0099 - val_loss: 0.0103\n",
      "Epoch 46/200\n",
      "80000/80000 [==============================] - 0s 6us/step - loss: 0.0099 - val_loss: 0.0103\n",
      "Epoch 47/200\n",
      "80000/80000 [==============================] - 0s 6us/step - loss: 0.0099 - val_loss: 0.0102\n",
      "Epoch 48/200\n",
      "80000/80000 [==============================] - 0s 6us/step - loss: 0.0099 - val_loss: 0.0103\n",
      "Epoch 49/200\n",
      "80000/80000 [==============================] - 0s 6us/step - loss: 0.0099 - val_loss: 0.0102\n",
      "Epoch 50/200\n",
      "80000/80000 [==============================] - 0s 6us/step - loss: 0.0099 - val_loss: 0.0102\n",
      "Epoch 51/200\n",
      "80000/80000 [==============================] - 0s 5us/step - loss: 0.0099 - val_loss: 0.0103\n",
      "Epoch 52/200\n",
      "80000/80000 [==============================] - 0s 6us/step - loss: 0.0099 - val_loss: 0.0102\n",
      "Epoch 53/200\n",
      "80000/80000 [==============================] - 0s 6us/step - loss: 0.0099 - val_loss: 0.0102\n",
      "Epoch 54/200\n",
      "80000/80000 [==============================] - 0s 6us/step - loss: 0.0099 - val_loss: 0.0103\n",
      "Epoch 55/200\n",
      "80000/80000 [==============================] - 0s 6us/step - loss: 0.0099 - val_loss: 0.0102\n",
      "Epoch 56/200\n",
      "80000/80000 [==============================] - 0s 6us/step - loss: 0.0099 - val_loss: 0.0102\n",
      "Epoch 57/200\n",
      "80000/80000 [==============================] - 0s 6us/step - loss: 0.0099 - val_loss: 0.0102\n",
      "Epoch 58/200\n",
      "80000/80000 [==============================] - 0s 6us/step - loss: 0.0099 - val_loss: 0.0102\n",
      "Epoch 59/200\n",
      "80000/80000 [==============================] - 0s 5us/step - loss: 0.0099 - val_loss: 0.0102\n",
      "Epoch 60/200\n",
      "80000/80000 [==============================] - 0s 5us/step - loss: 0.0099 - val_loss: 0.0102\n",
      "Epoch 61/200\n",
      "80000/80000 [==============================] - 0s 5us/step - loss: 0.0099 - val_loss: 0.0102\n",
      "Epoch 62/200\n",
      "80000/80000 [==============================] - 0s 5us/step - loss: 0.0099 - val_loss: 0.0102\n",
      "Epoch 63/200\n",
      "80000/80000 [==============================] - 0s 5us/step - loss: 0.0099 - val_loss: 0.0102\n",
      "Epoch 64/200\n",
      "80000/80000 [==============================] - 0s 5us/step - loss: 0.0099 - val_loss: 0.0102\n",
      "Epoch 65/200\n",
      "80000/80000 [==============================] - 0s 5us/step - loss: 0.0099 - val_loss: 0.0102\n",
      "Epoch 66/200\n",
      "80000/80000 [==============================] - 0s 5us/step - loss: 0.0099 - val_loss: 0.0102\n",
      "Epoch 67/200\n",
      "80000/80000 [==============================] - 0s 5us/step - loss: 0.0099 - val_loss: 0.0102\n",
      "Epoch 68/200\n",
      "80000/80000 [==============================] - 0s 5us/step - loss: 0.0099 - val_loss: 0.0102\n",
      "Epoch 69/200\n",
      "80000/80000 [==============================] - 0s 5us/step - loss: 0.0099 - val_loss: 0.0102\n",
      "Epoch 70/200\n",
      "80000/80000 [==============================] - 0s 5us/step - loss: 0.0099 - val_loss: 0.0103\n",
      "Epoch 71/200\n",
      "80000/80000 [==============================] - 0s 5us/step - loss: 0.0099 - val_loss: 0.0102\n",
      "Epoch 72/200\n",
      "80000/80000 [==============================] - 0s 5us/step - loss: 0.0099 - val_loss: 0.0102\n",
      "Epoch 73/200\n",
      "80000/80000 [==============================] - 0s 6us/step - loss: 0.0099 - val_loss: 0.0102\n",
      "Epoch 74/200\n",
      "80000/80000 [==============================] - 0s 5us/step - loss: 0.0099 - val_loss: 0.0102\n",
      "Epoch 75/200\n",
      "80000/80000 [==============================] - 0s 5us/step - loss: 0.0099 - val_loss: 0.0102\n",
      "Epoch 76/200\n",
      "80000/80000 [==============================] - 0s 5us/step - loss: 0.0099 - val_loss: 0.0102\n",
      "Epoch 77/200\n",
      "80000/80000 [==============================] - 0s 5us/step - loss: 0.0099 - val_loss: 0.0102\n"
     ]
    },
    {
     "name": "stdout",
     "output_type": "stream",
     "text": [
      "Epoch 78/200\n",
      "80000/80000 [==============================] - 0s 5us/step - loss: 0.0099 - val_loss: 0.0102\n",
      "Epoch 79/200\n",
      "80000/80000 [==============================] - 0s 5us/step - loss: 0.0099 - val_loss: 0.0102\n",
      "Epoch 80/200\n",
      "80000/80000 [==============================] - 0s 5us/step - loss: 0.0099 - val_loss: 0.0102\n",
      "Epoch 81/200\n",
      "80000/80000 [==============================] - 0s 5us/step - loss: 0.0099 - val_loss: 0.0102\n",
      "Epoch 82/200\n",
      "80000/80000 [==============================] - 0s 5us/step - loss: 0.0099 - val_loss: 0.0102\n",
      "Epoch 83/200\n",
      "80000/80000 [==============================] - 0s 5us/step - loss: 0.0099 - val_loss: 0.0102\n",
      "Epoch 84/200\n",
      "80000/80000 [==============================] - 0s 6us/step - loss: 0.0099 - val_loss: 0.0102\n",
      "Epoch 85/200\n",
      "80000/80000 [==============================] - 0s 5us/step - loss: 0.0099 - val_loss: 0.0102\n",
      "Epoch 86/200\n",
      "80000/80000 [==============================] - 0s 5us/step - loss: 0.0099 - val_loss: 0.0102\n",
      "Epoch 87/200\n",
      "80000/80000 [==============================] - 0s 5us/step - loss: 0.0099 - val_loss: 0.0102\n",
      "Epoch 88/200\n",
      "80000/80000 [==============================] - 0s 5us/step - loss: 0.0099 - val_loss: 0.0102\n",
      "Epoch 89/200\n",
      "80000/80000 [==============================] - 0s 5us/step - loss: 0.0099 - val_loss: 0.0102\n",
      "Epoch 90/200\n",
      "80000/80000 [==============================] - 0s 5us/step - loss: 0.0099 - val_loss: 0.0102\n",
      "Epoch 91/200\n",
      "80000/80000 [==============================] - 0s 5us/step - loss: 0.0099 - val_loss: 0.0102\n",
      "Epoch 92/200\n",
      "80000/80000 [==============================] - 0s 5us/step - loss: 0.0099 - val_loss: 0.0102\n",
      "Epoch 93/200\n",
      "80000/80000 [==============================] - 0s 5us/step - loss: 0.0099 - val_loss: 0.0102\n",
      "Epoch 94/200\n",
      "80000/80000 [==============================] - 0s 5us/step - loss: 0.0099 - val_loss: 0.0102\n",
      "Epoch 95/200\n",
      "80000/80000 [==============================] - 0s 5us/step - loss: 0.0099 - val_loss: 0.0102\n",
      "Epoch 96/200\n",
      "80000/80000 [==============================] - 0s 5us/step - loss: 0.0099 - val_loss: 0.0102\n",
      "Epoch 97/200\n",
      "80000/80000 [==============================] - 0s 5us/step - loss: 0.0099 - val_loss: 0.0102\n",
      "Epoch 98/200\n",
      "80000/80000 [==============================] - 0s 5us/step - loss: 0.0099 - val_loss: 0.0102\n",
      "Epoch 99/200\n",
      "80000/80000 [==============================] - 0s 5us/step - loss: 0.0099 - val_loss: 0.0102\n",
      "Epoch 100/200\n",
      "80000/80000 [==============================] - 0s 5us/step - loss: 0.0099 - val_loss: 0.0102\n",
      "Epoch 101/200\n",
      "80000/80000 [==============================] - 0s 5us/step - loss: 0.0099 - val_loss: 0.0102\n",
      "Epoch 102/200\n",
      "80000/80000 [==============================] - 0s 5us/step - loss: 0.0099 - val_loss: 0.0102\n",
      "Epoch 103/200\n",
      "80000/80000 [==============================] - 0s 5us/step - loss: 0.0099 - val_loss: 0.0102\n",
      "Epoch 104/200\n",
      "80000/80000 [==============================] - 0s 5us/step - loss: 0.0099 - val_loss: 0.0102\n",
      "Epoch 105/200\n",
      "80000/80000 [==============================] - 0s 5us/step - loss: 0.0099 - val_loss: 0.0102\n",
      "Epoch 106/200\n",
      "80000/80000 [==============================] - 0s 5us/step - loss: 0.0099 - val_loss: 0.0102\n",
      "Epoch 107/200\n",
      "80000/80000 [==============================] - 0s 5us/step - loss: 0.0099 - val_loss: 0.0102\n",
      "Epoch 108/200\n",
      "80000/80000 [==============================] - 0s 5us/step - loss: 0.0099 - val_loss: 0.0102\n",
      "Epoch 109/200\n",
      "80000/80000 [==============================] - 0s 5us/step - loss: 0.0099 - val_loss: 0.0102\n",
      "Epoch 110/200\n",
      "80000/80000 [==============================] - 0s 5us/step - loss: 0.0099 - val_loss: 0.0102\n",
      "Epoch 111/200\n",
      "80000/80000 [==============================] - 0s 5us/step - loss: 0.0099 - val_loss: 0.0102\n",
      "Epoch 112/200\n",
      "80000/80000 [==============================] - 0s 5us/step - loss: 0.0099 - val_loss: 0.0102\n",
      "Epoch 113/200\n",
      "80000/80000 [==============================] - 0s 5us/step - loss: 0.0099 - val_loss: 0.0102\n",
      "Epoch 114/200\n",
      "80000/80000 [==============================] - 0s 5us/step - loss: 0.0099 - val_loss: 0.0102\n",
      "Epoch 115/200\n",
      "80000/80000 [==============================] - 0s 5us/step - loss: 0.0099 - val_loss: 0.0102\n",
      "Epoch 116/200\n",
      "80000/80000 [==============================] - 0s 5us/step - loss: 0.0099 - val_loss: 0.0102\n",
      "Epoch 117/200\n",
      "80000/80000 [==============================] - 0s 5us/step - loss: 0.0099 - val_loss: 0.0102\n",
      "Epoch 118/200\n",
      "80000/80000 [==============================] - 0s 5us/step - loss: 0.0099 - val_loss: 0.0102\n",
      "Epoch 119/200\n",
      "80000/80000 [==============================] - 0s 5us/step - loss: 0.0099 - val_loss: 0.0102\n",
      "Epoch 120/200\n",
      "80000/80000 [==============================] - 0s 5us/step - loss: 0.0099 - val_loss: 0.0102\n",
      "Epoch 121/200\n",
      "80000/80000 [==============================] - 0s 5us/step - loss: 0.0099 - val_loss: 0.0102\n",
      "Epoch 122/200\n",
      "80000/80000 [==============================] - 0s 5us/step - loss: 0.0099 - val_loss: 0.0102\n",
      "Epoch 123/200\n",
      "80000/80000 [==============================] - 0s 5us/step - loss: 0.0099 - val_loss: 0.0102\n",
      "Epoch 124/200\n",
      "80000/80000 [==============================] - 0s 5us/step - loss: 0.0099 - val_loss: 0.0102\n",
      "Epoch 125/200\n",
      "80000/80000 [==============================] - 0s 5us/step - loss: 0.0099 - val_loss: 0.0102\n",
      "Epoch 126/200\n",
      "80000/80000 [==============================] - 0s 5us/step - loss: 0.0099 - val_loss: 0.0102\n",
      "Epoch 127/200\n",
      "80000/80000 [==============================] - 0s 5us/step - loss: 0.0099 - val_loss: 0.0102\n",
      "Epoch 128/200\n",
      "80000/80000 [==============================] - 0s 5us/step - loss: 0.0099 - val_loss: 0.0102\n",
      "Epoch 129/200\n",
      "80000/80000 [==============================] - 0s 5us/step - loss: 0.0099 - val_loss: 0.0102\n",
      "Epoch 130/200\n",
      "80000/80000 [==============================] - 0s 5us/step - loss: 0.0099 - val_loss: 0.0102\n",
      "Epoch 131/200\n",
      "80000/80000 [==============================] - 0s 5us/step - loss: 0.0099 - val_loss: 0.0102\n",
      "Epoch 132/200\n",
      "80000/80000 [==============================] - 0s 5us/step - loss: 0.0099 - val_loss: 0.0102\n",
      "Epoch 133/200\n",
      "80000/80000 [==============================] - 0s 5us/step - loss: 0.0099 - val_loss: 0.0102\n",
      "Epoch 134/200\n",
      "80000/80000 [==============================] - 0s 5us/step - loss: 0.0099 - val_loss: 0.0102\n",
      "Epoch 135/200\n",
      "80000/80000 [==============================] - 0s 5us/step - loss: 0.0099 - val_loss: 0.0102\n",
      "Epoch 136/200\n",
      "80000/80000 [==============================] - 0s 5us/step - loss: 0.0099 - val_loss: 0.0102\n",
      "Epoch 137/200\n",
      "80000/80000 [==============================] - 0s 5us/step - loss: 0.0099 - val_loss: 0.0102\n",
      "Epoch 138/200\n",
      "80000/80000 [==============================] - 0s 5us/step - loss: 0.0099 - val_loss: 0.0102\n",
      "Epoch 139/200\n",
      "80000/80000 [==============================] - 0s 5us/step - loss: 0.0099 - val_loss: 0.0102\n",
      "Epoch 140/200\n",
      "80000/80000 [==============================] - 0s 5us/step - loss: 0.0099 - val_loss: 0.0102\n",
      "Epoch 141/200\n",
      "80000/80000 [==============================] - 0s 5us/step - loss: 0.0099 - val_loss: 0.0102\n",
      "Epoch 142/200\n",
      "80000/80000 [==============================] - 0s 5us/step - loss: 0.0099 - val_loss: 0.0102\n",
      "Epoch 143/200\n",
      "80000/80000 [==============================] - 0s 5us/step - loss: 0.0099 - val_loss: 0.0102\n",
      "Epoch 144/200\n",
      "80000/80000 [==============================] - 0s 5us/step - loss: 0.0099 - val_loss: 0.0102\n",
      "Epoch 145/200\n",
      "80000/80000 [==============================] - 0s 5us/step - loss: 0.0099 - val_loss: 0.0102\n",
      "Epoch 146/200\n",
      "80000/80000 [==============================] - 0s 5us/step - loss: 0.0099 - val_loss: 0.0102\n",
      "Epoch 147/200\n",
      "80000/80000 [==============================] - 0s 5us/step - loss: 0.0099 - val_loss: 0.0102\n",
      "Epoch 148/200\n",
      "80000/80000 [==============================] - 0s 5us/step - loss: 0.0099 - val_loss: 0.0102\n",
      "Epoch 149/200\n",
      "80000/80000 [==============================] - 0s 5us/step - loss: 0.0099 - val_loss: 0.0102\n",
      "Epoch 150/200\n",
      "80000/80000 [==============================] - 0s 5us/step - loss: 0.0099 - val_loss: 0.0102\n",
      "Epoch 151/200\n",
      "80000/80000 [==============================] - 0s 5us/step - loss: 0.0099 - val_loss: 0.0102\n",
      "Epoch 152/200\n",
      "80000/80000 [==============================] - 0s 5us/step - loss: 0.0099 - val_loss: 0.0102\n",
      "Epoch 153/200\n",
      "80000/80000 [==============================] - 0s 5us/step - loss: 0.0099 - val_loss: 0.0102\n",
      "Epoch 154/200\n"
     ]
    },
    {
     "name": "stdout",
     "output_type": "stream",
     "text": [
      "80000/80000 [==============================] - 0s 5us/step - loss: 0.0099 - val_loss: 0.0102\n",
      "Epoch 155/200\n",
      "80000/80000 [==============================] - 0s 5us/step - loss: 0.0099 - val_loss: 0.0102\n",
      "Epoch 156/200\n",
      "80000/80000 [==============================] - 0s 5us/step - loss: 0.0099 - val_loss: 0.0102\n",
      "Epoch 157/200\n",
      "80000/80000 [==============================] - 0s 5us/step - loss: 0.0099 - val_loss: 0.0102\n",
      "Epoch 158/200\n",
      "80000/80000 [==============================] - 0s 5us/step - loss: 0.0099 - val_loss: 0.0102\n",
      "Epoch 159/200\n",
      "80000/80000 [==============================] - 0s 5us/step - loss: 0.0099 - val_loss: 0.0102\n",
      "Epoch 160/200\n",
      "80000/80000 [==============================] - 0s 5us/step - loss: 0.0099 - val_loss: 0.0102\n",
      "Epoch 161/200\n",
      "80000/80000 [==============================] - 0s 5us/step - loss: 0.0099 - val_loss: 0.0102\n",
      "Epoch 162/200\n",
      "80000/80000 [==============================] - 0s 5us/step - loss: 0.0099 - val_loss: 0.0102\n",
      "Epoch 163/200\n",
      "80000/80000 [==============================] - 0s 5us/step - loss: 0.0099 - val_loss: 0.0102\n",
      "Epoch 164/200\n",
      "80000/80000 [==============================] - 0s 5us/step - loss: 0.0098 - val_loss: 0.0102\n",
      "Epoch 165/200\n",
      "80000/80000 [==============================] - 0s 5us/step - loss: 0.0099 - val_loss: 0.0102\n",
      "Epoch 166/200\n",
      "80000/80000 [==============================] - 0s 5us/step - loss: 0.0099 - val_loss: 0.0102\n",
      "Epoch 167/200\n",
      "80000/80000 [==============================] - 0s 5us/step - loss: 0.0099 - val_loss: 0.0102\n"
     ]
    }
   ],
   "source": [
    "hist = vae.fit(x_train, x_train,\n",
    "               shuffle=True,\n",
    "               epochs=epochs,\n",
    "               batch_size=batch_size,\n",
    "               validation_data=(x_val, x_val),\n",
    "               callbacks=my_callbacks)"
   ]
  },
  {
   "cell_type": "markdown",
   "metadata": {},
   "source": [
    "# Visualization"
   ]
  },
  {
   "cell_type": "code",
   "execution_count": 23,
   "metadata": {},
   "outputs": [],
   "source": [
    "import matplotlib.pyplot as plt"
   ]
  },
  {
   "cell_type": "code",
   "execution_count": 24,
   "metadata": {},
   "outputs": [
    {
     "data": {
      "image/png": "[encoded data removed]",
      "text/plain": [
       "<Figure size 432x266.991 with 1 Axes>"
      ]
     },
     "metadata": {
      "needs_background": "light"
     },
     "output_type": "display_data"
    }
   ],
   "source": [
    "golden_size = lambda width: (width, 2. * width / (1 + np.sqrt(5)))\n",
    "\n",
    "fig, ax = plt.subplots(figsize=golden_size(6))\n",
    "\n",
    "hist_df = pd.DataFrame(hist.history)\n",
    "hist_df.plot(ax=ax)\n",
    "\n",
    "ax.set_ylabel('NELBO')\n",
    "ax.set_xlabel('# epochs')\n",
    "\n",
    "ax.set_ylim(.99*hist_df[1:].values.min(), \n",
    "            1.1*hist_df[1:].values.max())\n",
    "plt.show()"
   ]
  },
  {
   "cell_type": "code",
   "execution_count": 25,
   "metadata": {},
   "outputs": [],
   "source": [
    "predictions = vae.predict(x_test)"
   ]
  },
  {
   "cell_type": "code",
   "execution_count": 26,
   "metadata": {},
   "outputs": [
    {
     "name": "stdout",
     "output_type": "stream",
     "text": [
      "tf.Tensor(0.50000995, shape=(), dtype=float32)\n"
     ]
    }
   ],
   "source": [
    "# mse on test set\n",
    "p = vae.predict(x_train)\n",
    "print(mse(p, x_train))"
   ]
  },
  {
   "cell_type": "code",
   "execution_count": 27,
   "metadata": {},
   "outputs": [],
   "source": [
    "distr = (x_test - predictions) / x_test"
   ]
  },
  {
   "cell_type": "code",
   "execution_count": 28,
   "metadata": {},
   "outputs": [],
   "source": [
    "px_pred = [row[0] for row in predictions]\n",
    "py_pred = [row[1] for row in predictions]\n",
    "pz_pred = [row[2] for row in predictions]\n",
    "e_pred = [row[3] for row in predictions]"
   ]
  },
  {
   "cell_type": "code",
   "execution_count": 29,
   "metadata": {},
   "outputs": [],
   "source": [
    "px = [row[0] for row in x_test]\n",
    "py = [row[1] for row in x_test]\n",
    "pz = [row[2] for row in x_test]\n",
    "e = [row[3] for row in x_test]"
   ]
  },
  {
   "cell_type": "code",
   "execution_count": 30,
   "metadata": {},
   "outputs": [],
   "source": [
    "overall_distr = K.flatten(distr)\n",
    "overall_pred = K.flatten(predictions)\n",
    "overall_input = K.flatten(x_test)"
   ]
  },
  {
   "cell_type": "code",
   "execution_count": 31,
   "metadata": {},
   "outputs": [
    {
     "data": {
      "text/plain": [
       "(array([2.1000e+01, 2.5000e+01, 2.2000e+01, 2.5000e+01, 2.5000e+01,\n",
       "        2.1000e+01, 2.5000e+01, 2.3000e+01, 3.5000e+01, 3.0000e+01,\n",
       "        3.1000e+01, 4.7950e+03, 1.2830e+03, 5.3600e+02, 2.9400e+02,\n",
       "        2.5400e+02, 1.9500e+02, 1.9200e+02, 1.8800e+02, 1.6700e+02,\n",
       "        1.9700e+02, 2.7200e+02, 5.1100e+02, 1.6360e+03, 2.1254e+04,\n",
       "        2.6750e+03, 3.8600e+02, 2.7300e+02, 1.7400e+02, 1.4200e+02,\n",
       "        1.2700e+02, 1.0800e+02, 7.5000e+01, 7.0000e+01, 8.7000e+01,\n",
       "        5.9000e+01, 6.1000e+01, 6.0000e+01, 6.3000e+01, 5.3000e+01,\n",
       "        4.4000e+01, 5.7000e+01, 4.5000e+01, 5.1000e+01, 5.2000e+01,\n",
       "        5.2000e+01, 3.9000e+01, 4.8000e+01, 4.5000e+01]),\n",
       " array([-1.        , -0.95918367, -0.91836735, -0.87755102, -0.83673469,\n",
       "        -0.79591837, -0.75510204, -0.71428571, -0.67346939, -0.63265306,\n",
       "        -0.59183673, -0.55102041, -0.51020408, -0.46938776, -0.42857143,\n",
       "        -0.3877551 , -0.34693878, -0.30612245, -0.26530612, -0.2244898 ,\n",
       "        -0.18367347, -0.14285714, -0.10204082, -0.06122449, -0.02040816,\n",
       "         0.02040816,  0.06122449,  0.10204082,  0.14285714,  0.18367347,\n",
       "         0.2244898 ,  0.26530612,  0.30612245,  0.34693878,  0.3877551 ,\n",
       "         0.42857143,  0.46938776,  0.51020408,  0.55102041,  0.59183673,\n",
       "         0.63265306,  0.67346939,  0.71428571,  0.75510204,  0.79591837,\n",
       "         0.83673469,  0.87755102,  0.91836735,  0.95918367,  1.        ]),\n",
       " <a list of 49 Patch objects>)"
      ]
     },
     "execution_count": 31,
     "metadata": {},
     "output_type": "execute_result"
    },
    {
     "data": {
      "image/png": "[encoded data removed]",
      "text/plain": [
       "<Figure size 432x288 with 1 Axes>"
      ]
     },
     "metadata": {
      "needs_background": "light"
     },
     "output_type": "display_data"
    }
   ],
   "source": [
    "# overall pred vs input\n",
    "bins = np.linspace(-1, 1, 50)\n",
    "plt.hist(overall_input, bins=bins,alpha=0.5)\n",
    "plt.hist(overall_pred, bins=bins,alpha=0.5)"
   ]
  },
  {
   "cell_type": "code",
   "execution_count": 32,
   "metadata": {},
   "outputs": [
    {
     "data": {
      "text/plain": [
       "(array([   97.,   103.,   109.,   102.,   113.,   106.,   133.,   125.,\n",
       "          122.,   131.,   140.,   206.,   271.,   643., 16090.,  1187.,\n",
       "          384.,   357.,   472.,   527.,   600.,  4564.,  1058.,   631.,\n",
       "          395.,   278.,   216.,   226.,   173.]),\n",
       " array([-2.        , -1.86206897, -1.72413793, -1.5862069 , -1.44827586,\n",
       "        -1.31034483, -1.17241379, -1.03448276, -0.89655172, -0.75862069,\n",
       "        -0.62068966, -0.48275862, -0.34482759, -0.20689655, -0.06896552,\n",
       "         0.06896552,  0.20689655,  0.34482759,  0.48275862,  0.62068966,\n",
       "         0.75862069,  0.89655172,  1.03448276,  1.17241379,  1.31034483,\n",
       "         1.44827586,  1.5862069 ,  1.72413793,  1.86206897,  2.        ]),\n",
       " <a list of 29 Patch objects>)"
      ]
     },
     "execution_count": 32,
     "metadata": {},
     "output_type": "execute_result"
    },
    {
     "data": {
      "image/png": "[encoded data removed]",
      "text/plain": [
       "<Figure size 432x288 with 1 Axes>"
      ]
     },
     "metadata": {
      "needs_background": "light"
     },
     "output_type": "display_data"
    }
   ],
   "source": [
    "# overall distr\n",
    "bins = np.linspace(-2, 2, 30)\n",
    "plt.hist(overall_distr, bins=bins)"
   ]
  },
  {
   "cell_type": "markdown",
   "metadata": {},
   "source": [
    "## Stacking output (orange) over input (blue) for px, py, pz, E"
   ]
  },
  {
   "cell_type": "code",
   "execution_count": 33,
   "metadata": {},
   "outputs": [
    {
     "data": {
      "text/plain": [
       "(array([0.000e+00, 0.000e+00, 0.000e+00, 0.000e+00, 0.000e+00, 0.000e+00,\n",
       "        0.000e+00, 0.000e+00, 2.000e+00, 4.000e+00, 4.000e+00, 8.000e+00,\n",
       "        1.000e+01, 1.800e+01, 2.200e+01, 2.700e+01, 3.600e+01, 5.100e+01,\n",
       "        5.800e+01, 2.865e+03, 5.058e+03, 4.880e+02, 4.900e+02, 8.350e+02,\n",
       "        2.400e+01, 0.000e+00, 0.000e+00, 0.000e+00, 0.000e+00, 0.000e+00,\n",
       "        0.000e+00, 0.000e+00, 0.000e+00, 0.000e+00, 0.000e+00, 0.000e+00,\n",
       "        0.000e+00, 0.000e+00, 0.000e+00]),\n",
       " array([-0.2       , -0.18974359, -0.17948718, -0.16923077, -0.15897436,\n",
       "        -0.14871795, -0.13846154, -0.12820513, -0.11794872, -0.10769231,\n",
       "        -0.0974359 , -0.08717949, -0.07692308, -0.06666667, -0.05641026,\n",
       "        -0.04615385, -0.03589744, -0.02564103, -0.01538462, -0.00512821,\n",
       "         0.00512821,  0.01538462,  0.02564103,  0.03589744,  0.04615385,\n",
       "         0.05641026,  0.06666667,  0.07692308,  0.08717949,  0.0974359 ,\n",
       "         0.10769231,  0.11794872,  0.12820513,  0.13846154,  0.14871795,\n",
       "         0.15897436,  0.16923077,  0.17948718,  0.18974359,  0.2       ]),\n",
       " <a list of 39 Patch objects>)"
      ]
     },
     "execution_count": 33,
     "metadata": {},
     "output_type": "execute_result"
    },
    {
     "data": {
      "image/png": "[encoded data removed]",
      "text/plain": [
       "<Figure size 432x288 with 1 Axes>"
      ]
     },
     "metadata": {
      "needs_background": "light"
     },
     "output_type": "display_data"
    }
   ],
   "source": [
    "# px\n",
    "bins = np.linspace(-0.2, 0.2, 40)\n",
    "plt.hist(px, bins=bins,alpha=0.5)\n",
    "plt.hist(px_pred, bins=bins,alpha=0.5)"
   ]
  },
  {
   "cell_type": "code",
   "execution_count": 34,
   "metadata": {},
   "outputs": [
    {
     "name": "stdout",
     "output_type": "stream",
     "text": [
      "tf.Tensor(0.9859153, shape=(), dtype=float32)\n"
     ]
    }
   ],
   "source": [
    "print(mse(px,px_pred))"
   ]
  },
  {
   "cell_type": "code",
   "execution_count": 35,
   "metadata": {},
   "outputs": [
    {
     "data": {
      "text/plain": [
       "(array([0.000e+00, 0.000e+00, 0.000e+00, 0.000e+00, 0.000e+00, 0.000e+00,\n",
       "        0.000e+00, 0.000e+00, 0.000e+00, 1.000e+00, 0.000e+00, 2.000e+00,\n",
       "        1.200e+01, 1.000e+01, 3.500e+01, 1.100e+02, 2.300e+02, 4.190e+02,\n",
       "        8.471e+03, 5.920e+02, 1.180e+02, 0.000e+00, 0.000e+00, 0.000e+00,\n",
       "        0.000e+00, 0.000e+00, 0.000e+00, 0.000e+00, 0.000e+00, 0.000e+00,\n",
       "        0.000e+00, 0.000e+00, 0.000e+00, 0.000e+00, 0.000e+00, 0.000e+00,\n",
       "        0.000e+00, 0.000e+00, 0.000e+00]),\n",
       " array([-0.2       , -0.18974359, -0.17948718, -0.16923077, -0.15897436,\n",
       "        -0.14871795, -0.13846154, -0.12820513, -0.11794872, -0.10769231,\n",
       "        -0.0974359 , -0.08717949, -0.07692308, -0.06666667, -0.05641026,\n",
       "        -0.04615385, -0.03589744, -0.02564103, -0.01538462, -0.00512821,\n",
       "         0.00512821,  0.01538462,  0.02564103,  0.03589744,  0.04615385,\n",
       "         0.05641026,  0.06666667,  0.07692308,  0.08717949,  0.0974359 ,\n",
       "         0.10769231,  0.11794872,  0.12820513,  0.13846154,  0.14871795,\n",
       "         0.15897436,  0.16923077,  0.17948718,  0.18974359,  0.2       ]),\n",
       " <a list of 39 Patch objects>)"
      ]
     },
     "execution_count": 35,
     "metadata": {},
     "output_type": "execute_result"
    },
    {
     "data": {
      "image/png": "[encoded data removed]",
      "text/plain": [
       "<Figure size 432x288 with 1 Axes>"
      ]
     },
     "metadata": {
      "needs_background": "light"
     },
     "output_type": "display_data"
    }
   ],
   "source": [
    "# py\n",
    "bins = np.linspace(-0.2, 0.2, 40)\n",
    "plt.hist(py, bins=bins,alpha=0.5)\n",
    "plt.hist(py_pred, bins=bins,alpha=0.5)"
   ]
  },
  {
   "cell_type": "code",
   "execution_count": 36,
   "metadata": {},
   "outputs": [
    {
     "name": "stdout",
     "output_type": "stream",
     "text": [
      "tf.Tensor(1.0404875, shape=(), dtype=float32)\n"
     ]
    }
   ],
   "source": [
    "print(mse(py,py_pred))"
   ]
  },
  {
   "cell_type": "code",
   "execution_count": 37,
   "metadata": {},
   "outputs": [
    {
     "data": {
      "text/plain": [
       "(array([  29.,   27.,   25.,   17.,   21.,   44.,   29.,   36.,   54.,\n",
       "          53.,   56.,   61.,   72.,   89.,  129.,  155.,  264.,  441.,\n",
       "         888., 2858.,  909.,  498.,  211.,  164.,  142.,  104.,   68.,\n",
       "          74.,   58.,   52.,   48.,   34.,   31.,   25.,   22.,   36.,\n",
       "          25.,   28.,   30.]),\n",
       " array([-0.5       , -0.47435897, -0.44871795, -0.42307692, -0.3974359 ,\n",
       "        -0.37179487, -0.34615385, -0.32051282, -0.29487179, -0.26923077,\n",
       "        -0.24358974, -0.21794872, -0.19230769, -0.16666667, -0.14102564,\n",
       "        -0.11538462, -0.08974359, -0.06410256, -0.03846154, -0.01282051,\n",
       "         0.01282051,  0.03846154,  0.06410256,  0.08974359,  0.11538462,\n",
       "         0.14102564,  0.16666667,  0.19230769,  0.21794872,  0.24358974,\n",
       "         0.26923077,  0.29487179,  0.32051282,  0.34615385,  0.37179487,\n",
       "         0.3974359 ,  0.42307692,  0.44871795,  0.47435897,  0.5       ]),\n",
       " <a list of 39 Patch objects>)"
      ]
     },
     "execution_count": 37,
     "metadata": {},
     "output_type": "execute_result"
    },
    {
     "data": {
      "image/png": "[encoded data removed]",
      "text/plain": [
       "<Figure size 432x288 with 1 Axes>"
      ]
     },
     "metadata": {
      "needs_background": "light"
     },
     "output_type": "display_data"
    }
   ],
   "source": [
    "# pz\n",
    "bins = np.linspace(-0.5, 0.5, 40)\n",
    "plt.hist(pz, bins=bins,alpha=0.5)\n",
    "plt.hist(pz_pred, bins=bins,alpha=0.5)"
   ]
  },
  {
   "cell_type": "code",
   "execution_count": 38,
   "metadata": {},
   "outputs": [
    {
     "name": "stdout",
     "output_type": "stream",
     "text": [
      "tf.Tensor(0.00012674562, shape=(), dtype=float32)\n"
     ]
    }
   ],
   "source": [
    "print(mse(pz,pz_pred))"
   ]
  },
  {
   "cell_type": "code",
   "execution_count": 39,
   "metadata": {},
   "outputs": [
    {
     "data": {
      "text/plain": [
       "(array([   0.,    0., 3459., 1427.,  813.,  408.,  290.,  207.,  134.,\n",
       "         118.,  108.,   88.,   73.,   58.,   73.,   39.,   53.,   34.,\n",
       "          43.,   37.,   36.,   36.,   36.,   32.,   18.,   16.,   35.,\n",
       "          25.,   22.,   22.,   19.,   24.,   17.,   15.,   19.,   20.,\n",
       "          21.,   28.,   21.]),\n",
       " array([-0.6       , -0.57692308, -0.55384615, -0.53076923, -0.50769231,\n",
       "        -0.48461538, -0.46153846, -0.43846154, -0.41538462, -0.39230769,\n",
       "        -0.36923077, -0.34615385, -0.32307692, -0.3       , -0.27692308,\n",
       "        -0.25384615, -0.23076923, -0.20769231, -0.18461538, -0.16153846,\n",
       "        -0.13846154, -0.11538462, -0.09230769, -0.06923077, -0.04615385,\n",
       "        -0.02307692,  0.        ,  0.02307692,  0.04615385,  0.06923077,\n",
       "         0.09230769,  0.11538462,  0.13846154,  0.16153846,  0.18461538,\n",
       "         0.20769231,  0.23076923,  0.25384615,  0.27692308,  0.3       ]),\n",
       " <a list of 39 Patch objects>)"
      ]
     },
     "execution_count": 39,
     "metadata": {},
     "output_type": "execute_result"
    },
    {
     "data": {
      "image/png": "[encoded data removed]",
      "text/plain": [
       "<Figure size 432x288 with 1 Axes>"
      ]
     },
     "metadata": {
      "needs_background": "light"
     },
     "output_type": "display_data"
    }
   ],
   "source": [
    "# E\n",
    "bins = np.linspace(-0.6,0.3, 40)\n",
    "plt.hist(e, bins=bins,alpha=0.5)\n",
    "plt.hist(e_pred, bins=bins,alpha=0.5)"
   ]
  },
  {
   "cell_type": "code",
   "execution_count": 40,
   "metadata": {},
   "outputs": [
    {
     "name": "stdout",
     "output_type": "stream",
     "text": [
      "tf.Tensor(3.4164823e-05, shape=(), dtype=float32)\n"
     ]
    }
   ],
   "source": [
    "print(mse(e,e_pred))"
   ]
  },
  {
   "cell_type": "code",
   "execution_count": 41,
   "metadata": {},
   "outputs": [],
   "source": [
    "d_px = [row[0] for row in distr]\n",
    "d_py = [row[1] for row in distr]\n",
    "d_pz = [row[2] for row in distr]\n",
    "d_e = [row[3] for row in distr]"
   ]
  },
  {
   "cell_type": "markdown",
   "metadata": {},
   "source": [
    "## Distribution of (input - output) / input"
   ]
  },
  {
   "cell_type": "code",
   "execution_count": 42,
   "metadata": {},
   "outputs": [],
   "source": [
    "bins = np.linspace(-2, 2, 30)"
   ]
  },
  {
   "cell_type": "code",
   "execution_count": 43,
   "metadata": {},
   "outputs": [
    {
     "data": {
      "text/plain": [
       "(array([  43.,   56.,   54.,   58.,   65.,   60.,   60.,   54.,   60.,\n",
       "          52.,   61.,   86.,   63.,   83.,   73.,   94.,  102.,  115.,\n",
       "         163.,  207.,  298., 2239.,  594.,  222.,  145.,  131.,  110.,\n",
       "         116.,   71.]),\n",
       " array([-2.        , -1.86206897, -1.72413793, -1.5862069 , -1.44827586,\n",
       "        -1.31034483, -1.17241379, -1.03448276, -0.89655172, -0.75862069,\n",
       "        -0.62068966, -0.48275862, -0.34482759, -0.20689655, -0.06896552,\n",
       "         0.06896552,  0.20689655,  0.34482759,  0.48275862,  0.62068966,\n",
       "         0.75862069,  0.89655172,  1.03448276,  1.17241379,  1.31034483,\n",
       "         1.44827586,  1.5862069 ,  1.72413793,  1.86206897,  2.        ]),\n",
       " <a list of 29 Patch objects>)"
      ]
     },
     "execution_count": 43,
     "metadata": {},
     "output_type": "execute_result"
    },
    {
     "data": {
      "image/png": "[encoded data removed]",
      "text/plain": [
       "<Figure size 432x288 with 1 Axes>"
      ]
     },
     "metadata": {
      "needs_background": "light"
     },
     "output_type": "display_data"
    }
   ],
   "source": [
    "plt.hist(d_px, bins=bins)"
   ]
  },
  {
   "cell_type": "code",
   "execution_count": 44,
   "metadata": {},
   "outputs": [
    {
     "data": {
      "text/plain": [
       "(array([  36.,   37.,   44.,   39.,   37.,   34.,   46.,   41.,   40.,\n",
       "          40.,   38.,   40.,   56.,   55.,   59.,   55.,   67.,   57.,\n",
       "         105.,  162.,  197., 2243.,  385.,  180.,  107.,   77.,   62.,\n",
       "          72.,   65.]),\n",
       " array([-2.        , -1.86206897, -1.72413793, -1.5862069 , -1.44827586,\n",
       "        -1.31034483, -1.17241379, -1.03448276, -0.89655172, -0.75862069,\n",
       "        -0.62068966, -0.48275862, -0.34482759, -0.20689655, -0.06896552,\n",
       "         0.06896552,  0.20689655,  0.34482759,  0.48275862,  0.62068966,\n",
       "         0.75862069,  0.89655172,  1.03448276,  1.17241379,  1.31034483,\n",
       "         1.44827586,  1.5862069 ,  1.72413793,  1.86206897,  2.        ]),\n",
       " <a list of 29 Patch objects>)"
      ]
     },
     "execution_count": 44,
     "metadata": {},
     "output_type": "execute_result"
    },
    {
     "data": {
      "image/png": "[encoded data removed]",
      "text/plain": [
       "<Figure size 432x288 with 1 Axes>"
      ]
     },
     "metadata": {
      "needs_background": "light"
     },
     "output_type": "display_data"
    }
   ],
   "source": [
    "plt.hist(d_py, bins=bins)"
   ]
  },
  {
   "cell_type": "code",
   "execution_count": 45,
   "metadata": {},
   "outputs": [
    {
     "data": {
      "text/plain": [
       "(array([1.800e+01, 1.000e+01, 1.100e+01, 5.000e+00, 1.100e+01, 1.200e+01,\n",
       "        2.700e+01, 2.800e+01, 2.200e+01, 3.600e+01, 4.100e+01, 7.600e+01,\n",
       "        1.500e+02, 4.800e+02, 6.053e+03, 9.960e+02, 2.080e+02, 1.830e+02,\n",
       "        2.030e+02, 1.570e+02, 1.040e+02, 8.000e+01, 7.800e+01, 2.290e+02,\n",
       "        1.430e+02, 6.900e+01, 4.400e+01, 3.800e+01, 3.700e+01]),\n",
       " array([-2.        , -1.86206897, -1.72413793, -1.5862069 , -1.44827586,\n",
       "        -1.31034483, -1.17241379, -1.03448276, -0.89655172, -0.75862069,\n",
       "        -0.62068966, -0.48275862, -0.34482759, -0.20689655, -0.06896552,\n",
       "         0.06896552,  0.20689655,  0.34482759,  0.48275862,  0.62068966,\n",
       "         0.75862069,  0.89655172,  1.03448276,  1.17241379,  1.31034483,\n",
       "         1.44827586,  1.5862069 ,  1.72413793,  1.86206897,  2.        ]),\n",
       " <a list of 29 Patch objects>)"
      ]
     },
     "execution_count": 45,
     "metadata": {},
     "output_type": "execute_result"
    },
    {
     "data": {
      "image/png": "[encoded data removed]",
      "text/plain": [
       "<Figure size 432x288 with 1 Axes>"
      ]
     },
     "metadata": {
      "needs_background": "light"
     },
     "output_type": "display_data"
    }
   ],
   "source": [
    "plt.hist(d_pz, bins=bins)"
   ]
  },
  {
   "cell_type": "code",
   "execution_count": 46,
   "metadata": {},
   "outputs": [
    {
     "data": {
      "text/plain": [
       "(array([0.000e+00, 0.000e+00, 0.000e+00, 0.000e+00, 0.000e+00, 0.000e+00,\n",
       "        0.000e+00, 2.000e+00, 0.000e+00, 3.000e+00, 0.000e+00, 4.000e+00,\n",
       "        2.000e+00, 2.500e+01, 9.905e+03, 4.200e+01, 7.000e+00, 2.000e+00,\n",
       "        1.000e+00, 1.000e+00, 1.000e+00, 2.000e+00, 1.000e+00, 0.000e+00,\n",
       "        0.000e+00, 1.000e+00, 0.000e+00, 0.000e+00, 0.000e+00]),\n",
       " array([-2.        , -1.86206897, -1.72413793, -1.5862069 , -1.44827586,\n",
       "        -1.31034483, -1.17241379, -1.03448276, -0.89655172, -0.75862069,\n",
       "        -0.62068966, -0.48275862, -0.34482759, -0.20689655, -0.06896552,\n",
       "         0.06896552,  0.20689655,  0.34482759,  0.48275862,  0.62068966,\n",
       "         0.75862069,  0.89655172,  1.03448276,  1.17241379,  1.31034483,\n",
       "         1.44827586,  1.5862069 ,  1.72413793,  1.86206897,  2.        ]),\n",
       " <a list of 29 Patch objects>)"
      ]
     },
     "execution_count": 46,
     "metadata": {},
     "output_type": "execute_result"
    },
    {
     "data": {
      "image/png": "[encoded data removed]",
      "text/plain": [
       "<Figure size 432x288 with 1 Axes>"
      ]
     },
     "metadata": {
      "needs_background": "light"
     },
     "output_type": "display_data"
    }
   ],
   "source": [
    "plt.hist(d_e, bins=bins)"
   ]
  },
  {
   "cell_type": "markdown",
   "metadata": {},
   "source": [
    "# Anomaly Detection"
   ]
  },
  {
   "cell_type": "code",
   "execution_count": 47,
   "metadata": {},
   "outputs": [],
   "source": [
    "from sklearn.metrics import mean_squared_error"
   ]
  },
  {
   "cell_type": "code",
   "execution_count": 48,
   "metadata": {},
   "outputs": [],
   "source": [
    "all_data = np.concatenate((x_train, x_val, x_test))\n",
    "all_pred = vae.predict(all_data)"
   ]
  },
  {
   "cell_type": "code",
   "execution_count": 82,
   "metadata": {},
   "outputs": [],
   "source": [
    "# get the iqr weighted mse of all predictions\n",
    "errors = (iqr_prop[0] * np.square(all_data[:,0] - all_pred[:,0]) + iqr_prop[1] * np.square(all_data[:,1] - all_pred[:,1]) + iqr_prop[2] * np.square(all_data[:,2] - all_pred[:,2]) + iqr_prop[3] * np.square(all_data[:,3] - all_pred[:,3]))"
   ]
  },
  {
   "cell_type": "code",
   "execution_count": 83,
   "metadata": {},
   "outputs": [],
   "source": [
    "# all the inputs that had high mse\n",
    "data_df = loaded_data.copy()\n",
    "data_df.columns = ['px','py','pz','e','pt','eta','phi','mass','event']\n",
    "data_df[\"mse\"] = errors"
   ]
  },
  {
   "cell_type": "code",
   "execution_count": 84,
   "metadata": {},
   "outputs": [],
   "source": [
    "mass_mu = data_df.mass.mean()\n",
    "mass_sd = data_df.mass.std()"
   ]
  },
  {
   "cell_type": "code",
   "execution_count": 85,
   "metadata": {},
   "outputs": [],
   "source": [
    "cut = 0.95\n",
    "data_df[\"outlier\"] = 0\n",
    "# define the outliers by a cut on mse error\n",
    "mse_thresh = np.quantile(errors, cut)\n",
    "data_df.loc[data_df[\"mse\"] > mse_thresh, \"outlier\"] = 1\n",
    "outliers = data_df.loc[data_df.outlier == 1]"
   ]
  },
  {
   "cell_type": "code",
   "execution_count": 112,
   "metadata": {},
   "outputs": [],
   "source": [
    "# m_12 = sqrt ( (E_1 + E_2)^2 - (p_x1 + p_x2)^2 - (p_y1 + p_y2)^2 - (p_z1 + p_z2)^2 )\n",
    "def invariant_mass(jet1, jet2):\n",
    "    return math.sqrt((jet1.e + jet2.e)**2 - (jet1.px + jet2.px)**2 - (jet1.py + jet2.py)**2 - (jet1.pz + jet2.pz)**2)"
   ]
  },
  {
   "cell_type": "code",
   "execution_count": 126,
   "metadata": {
    "scrolled": true
   },
   "outputs": [],
   "source": [
    "mass = []\n",
    "for event, group in outliers.groupby(['event']):\n",
    "    pseudojets_input = np.zeros(len(group), dtype=DTYPE_PTEPM)\n",
    "    for i in range(len(group.pt.array)):\n",
    "        pseudojets_input[i]['pT'] = group.pt.array[i]\n",
    "        pseudojets_input[i]['eta'] = group.eta.array[i]\n",
    "        pseudojets_input[i]['phi'] = group.phi.array[i]\n",
    "    sequence = cluster(pseudojets_input, R=1.0, p=-1)\n",
    "    jets = sequence.inclusive_jets()\n",
    "    if(len(jets) >= 2):\n",
    "        mass.append(invariant_mass(jets[0],jets[1]))"
   ]
  },
  {
   "cell_type": "code",
   "execution_count": 133,
   "metadata": {},
   "outputs": [
    {
     "data": {
      "image/png": "[encoded data removed]",
      "text/plain": [
       "<Figure size 432x288 with 1 Axes>"
      ]
     },
     "metadata": {
      "needs_background": "light"
     },
     "output_type": "display_data"
    }
   ],
   "source": [
    "_ = plt.hist(mass, bins=np.linspace(2500,4500, 50))\n",
    "_ = plt.hist()"
   ]
  }
 ],
 "metadata": {
  "kernelspec": {
   "display_name": "Python 3",
   "language": "python",
   "name": "python3"
  },
  "language_info": {
   "codemirror_mode": {
    "name": "ipython",
    "version": 3
   },
   "file_extension": ".py",
   "mimetype": "text/x-python",
   "name": "python",
   "nbconvert_exporter": "python",
   "pygments_lexer": "ipython3",
   "version": "3.7.6"
  }
 },
 "nbformat": 4,
 "nbformat_minor": 4
}
