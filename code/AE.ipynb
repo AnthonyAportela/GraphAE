{
 "cells": [
  {
   "cell_type": "code",
   "execution_count": 153,
   "metadata": {},
   "outputs": [],
   "source": [
    "import pandas as pd\n",
    "import numpy as np\n",
    "from pyjet import cluster,DTYPE_PTEPM\n",
    "from sklearn import preprocessing\n",
    "import tensorflow as tf"
   ]
  },
  {
   "cell_type": "markdown",
   "metadata": {},
   "source": [
    "# Pre processing"
   ]
  },
  {
   "cell_type": "code",
   "execution_count": 154,
   "metadata": {},
   "outputs": [],
   "source": [
    "path = '/anomalyvol/data/events_LHCO2020_backgroundMC_Pythia.h5'"
   ]
  },
  {
   "cell_type": "code",
   "execution_count": 155,
   "metadata": {},
   "outputs": [],
   "source": [
    "df = pd.read_hdf(path,stop=100000) # just read first 10000 events"
   ]
  },
  {
   "cell_type": "code",
   "execution_count": 156,
   "metadata": {},
   "outputs": [],
   "source": [
    "all_events = df.values"
   ]
  },
  {
   "cell_type": "code",
   "execution_count": 157,
   "metadata": {},
   "outputs": [],
   "source": [
    "rows = all_events.shape[0]\n",
    "cols = all_events.shape[1]\n",
    "data = []"
   ]
  },
  {
   "cell_type": "code",
   "execution_count": 158,
   "metadata": {},
   "outputs": [],
   "source": [
    "for i in range(rows):\n",
    "    pseudojets_input = np.zeros(len([x for x in all_events[i][::3] if x > 0]), dtype=DTYPE_PTEPM)\n",
    "    for j in range(cols // 3):\n",
    "        if (all_events[i][j*3]>0):\n",
    "            pseudojets_input[j]['pT'] = all_events[i][j*3]\n",
    "            pseudojets_input[j]['eta'] = all_events[i][j*3+1]\n",
    "            pseudojets_input[j]['phi'] = all_events[i][j*3+2]\n",
    "        pass\n",
    "    sequence = cluster(pseudojets_input, R=1.0, p=-1)\n",
    "    jets = sequence.inclusive_jets()\n",
    "    for k in range(len(jets)):\n",
    "        jet = []\n",
    "        jet.append(jets[k].px)\n",
    "        jet.append(jets[k].py)\n",
    "        jet.append(jets[k].pz)\n",
    "        jet.append(jets[k].e)\n",
    "        data.append(jet)"
   ]
  },
  {
   "cell_type": "code",
   "execution_count": 159,
   "metadata": {},
   "outputs": [],
   "source": [
    "loaded_data = data\n",
    "# data = loaded_data"
   ]
  },
  {
   "cell_type": "code",
   "execution_count": 160,
   "metadata": {},
   "outputs": [
    {
     "data": {
      "text/plain": [
       "(1477373, 4)"
      ]
     },
     "execution_count": 160,
     "metadata": {},
     "output_type": "execute_result"
    }
   ],
   "source": [
    "data = np.array(data)\n",
    "data.shape"
   ]
  },
  {
   "cell_type": "code",
   "execution_count": 161,
   "metadata": {},
   "outputs": [],
   "source": [
    "# log transform pT\n",
    "#data[:,3] = np.ma.log(data[:,3]).filled()"
   ]
  },
  {
   "cell_type": "code",
   "execution_count": 162,
   "metadata": {},
   "outputs": [
    {
     "data": {
      "text/plain": [
       "array([[-1.17658220e+03, -7.79040316e+02,  3.40962660e+02,\n",
       "         1.45491963e+03],\n",
       "       [ 6.11088616e+02,  7.16513394e+02,  1.55833044e+03,\n",
       "         1.87194199e+03],\n",
       "       [ 4.96094722e+02, -1.87111748e+01,  1.78940558e+03,\n",
       "         1.85808569e+03],\n",
       "       ...,\n",
       "       [ 4.42306312e-01,  9.70780337e-02,  2.58945478e+01,\n",
       "         2.58985070e+01],\n",
       "       [-2.68772115e-01, -3.44070287e-01, -3.01572220e+01,\n",
       "         3.01603823e+01],\n",
       "       [-2.82745626e-01, -7.48815701e-02, -9.38791569e+00,\n",
       "         9.39247109e+00]])"
      ]
     },
     "execution_count": 162,
     "metadata": {},
     "output_type": "execute_result"
    }
   ],
   "source": [
    "data"
   ]
  },
  {
   "cell_type": "code",
   "execution_count": 163,
   "metadata": {},
   "outputs": [],
   "source": [
    "# splitting data\n",
    "x_train = data[0:int(len(data) * 0.8)]\n",
    "x_val = data[int(len(data) * 0.8):int(len(data) * 0.9)]\n",
    "x_test = data[int(len(data) * 0.9):]"
   ]
  },
  {
   "cell_type": "code",
   "execution_count": 164,
   "metadata": {},
   "outputs": [],
   "source": [
    "# regularize\n",
    "scaler = preprocessing.StandardScaler()\n",
    "x_train = scaler.fit_transform(x_train)\n",
    "x_val = scaler.transform(x_val)\n",
    "x_test = scaler.transform(x_test)"
   ]
  },
  {
   "cell_type": "markdown",
   "metadata": {},
   "source": [
    "# VAE Model"
   ]
  },
  {
   "cell_type": "code",
   "execution_count": 165,
   "metadata": {},
   "outputs": [],
   "source": [
    "import keras\n",
    "from keras.layers import Lambda, Input, Dense, Flatten, Reshape, LeakyReLU, ELU\n",
    "from keras.models import Model, Sequential\n",
    "from keras import metrics, losses\n",
    "from keras import backend as K"
   ]
  },
  {
   "cell_type": "code",
   "execution_count": 166,
   "metadata": {},
   "outputs": [],
   "source": [
    "def sampling(args):\n",
    "    \"\"\"\n",
    "    # Arguments\n",
    "        args (tensor): mean and log of variance of Q(z|X)\n",
    "    # Returns\n",
    "        z (tensor): sampled latent vector\n",
    "    \"\"\"\n",
    "\n",
    "    z_mean, z_log_var = args\n",
    "    batch = K.shape(z_mean)[0]\n",
    "    dim = K.int_shape(z_mean)[1]\n",
    "    # by default, random_normal has mean = 0 and std = 1.0\n",
    "    epsilon = K.random_normal(shape=(batch, dim))\n",
    "    return z_mean + K.exp(0.5 * z_log_var) * epsilon"
   ]
  },
  {
   "cell_type": "code",
   "execution_count": 167,
   "metadata": {},
   "outputs": [],
   "source": [
    "inter_dim_1 = 32\n",
    "inter_dim_2 = 16\n",
    "final_dim = 8\n",
    "latent_dim = 2\n",
    "input_dim = 4"
   ]
  },
  {
   "cell_type": "code",
   "execution_count": 168,
   "metadata": {},
   "outputs": [],
   "source": [
    "# encoder\n",
    "x = Input(shape=(input_dim,))\n",
    "#x_flat = Flatten()(x)\n",
    "h1 = Dense(inter_dim_1, activation='relu')(x)\n",
    "h2 = Dense(inter_dim_2, activation='relu')(h1)\n",
    "h3 = Dense(final_dim, activation='relu')(h2)\n",
    "encoding = Dense(latent_dim, activation='tanh')(h3)"
   ]
  },
  {
   "cell_type": "code",
   "execution_count": 169,
   "metadata": {},
   "outputs": [],
   "source": [
    "# decoder\n",
    "decoder_h3 = Dense(final_dim, activation='relu')\n",
    "decoder_h2 = Dense(inter_dim_2, activation='relu')\n",
    "decoder_h1 = Dense(inter_dim_1, activation='relu')\n",
    "decoder_mean = Dense(input_dim, activation='linear')\n",
    "\n",
    "h3_decoded = decoder_h3(encoding)\n",
    "h2_decoded = decoder_h2(h3_decoded)\n",
    "h1_decoded = decoder_h1(h2_decoded)\n",
    "x_decoded_mean = decoder_mean(h1_decoded)\n",
    "# x_decoded = Reshape(input_shape)(x_decoded_mean)"
   ]
  },
  {
   "cell_type": "code",
   "execution_count": 170,
   "metadata": {},
   "outputs": [],
   "source": [
    "vae = Model(inputs = x, outputs = x_decoded_mean, name = 'vae')"
   ]
  },
  {
   "cell_type": "code",
   "execution_count": 171,
   "metadata": {},
   "outputs": [],
   "source": [
    "mse = keras.losses.MeanSquaredError()\n",
    "def ae_loss(x, y):\n",
    "    mse_loss = 0.25 * (16*(x[::,0] - y[::,0])**2 + 8*(x[::,1] - y[::,1])**2 + 1*(x[::,2] - y[::,2])**2 + 1*(x[::,3] - y[::,3])**2)\n",
    "    # mse_loss = mse(x,y)\n",
    "    return mse_loss\n",
    "\n",
    "vae.compile(optimizer='adam', loss=ae_loss)"
   ]
  },
  {
   "cell_type": "code",
   "execution_count": 172,
   "metadata": {},
   "outputs": [
    {
     "name": "stdout",
     "output_type": "stream",
     "text": [
      "Model: \"vae\"\n",
      "_________________________________________________________________\n",
      "Layer (type)                 Output Shape              Param #   \n",
      "=================================================================\n",
      "input_5 (InputLayer)         (None, 4)                 0         \n",
      "_________________________________________________________________\n",
      "dense_33 (Dense)             (None, 32)                160       \n",
      "_________________________________________________________________\n",
      "dense_34 (Dense)             (None, 16)                528       \n",
      "_________________________________________________________________\n",
      "dense_35 (Dense)             (None, 8)                 136       \n",
      "_________________________________________________________________\n",
      "dense_36 (Dense)             (None, 2)                 18        \n",
      "_________________________________________________________________\n",
      "dense_37 (Dense)             (None, 8)                 24        \n",
      "_________________________________________________________________\n",
      "dense_38 (Dense)             (None, 16)                144       \n",
      "_________________________________________________________________\n",
      "dense_39 (Dense)             (None, 32)                544       \n",
      "_________________________________________________________________\n",
      "dense_40 (Dense)             (None, 4)                 132       \n",
      "=================================================================\n",
      "Total params: 1,686\n",
      "Trainable params: 1,686\n",
      "Non-trainable params: 0\n",
      "_________________________________________________________________\n"
     ]
    }
   ],
   "source": [
    "vae.summary()"
   ]
  },
  {
   "cell_type": "markdown",
   "metadata": {},
   "source": [
    "# Train"
   ]
  },
  {
   "cell_type": "code",
   "execution_count": 173,
   "metadata": {},
   "outputs": [],
   "source": [
    "from sklearn.model_selection import train_test_split"
   ]
  },
  {
   "cell_type": "code",
   "execution_count": 174,
   "metadata": {},
   "outputs": [],
   "source": [
    "batch_size = 1000\n",
    "epochs = 200"
   ]
  },
  {
   "cell_type": "code",
   "execution_count": 175,
   "metadata": {},
   "outputs": [
    {
     "data": {
      "text/plain": [
       "(1181898, 4)"
      ]
     },
     "execution_count": 175,
     "metadata": {},
     "output_type": "execute_result"
    }
   ],
   "source": [
    "x_train.shape"
   ]
  },
  {
   "cell_type": "code",
   "execution_count": 176,
   "metadata": {},
   "outputs": [],
   "source": [
    "my_callbacks = [\n",
    "    keras.callbacks.EarlyStopping(patience=10)\n",
    "]"
   ]
  },
  {
   "cell_type": "code",
   "execution_count": 177,
   "metadata": {},
   "outputs": [
    {
     "name": "stdout",
     "output_type": "stream",
     "text": [
      "Train on 1181898 samples, validate on 147737 samples\n",
      "Epoch 1/200\n",
      "1181898/1181898 [==============================] - 7s 6us/step - loss: 0.7372 - val_loss: 0.3059\n",
      "Epoch 2/200\n",
      "1181898/1181898 [==============================] - 7s 6us/step - loss: 0.2984 - val_loss: 0.2963\n",
      "Epoch 3/200\n",
      "1181898/1181898 [==============================] - 7s 6us/step - loss: 0.2920 - val_loss: 0.2910\n",
      "Epoch 4/200\n",
      "1181898/1181898 [==============================] - 7s 6us/step - loss: 0.2881 - val_loss: 0.2882\n",
      "Epoch 5/200\n",
      "1181898/1181898 [==============================] - 7s 6us/step - loss: 0.2853 - val_loss: 0.2852\n",
      "Epoch 6/200\n",
      "1181898/1181898 [==============================] - 7s 6us/step - loss: 0.2840 - val_loss: 0.2843\n",
      "Epoch 7/200\n",
      "1181898/1181898 [==============================] - 7s 6us/step - loss: 0.2833 - val_loss: 0.2847\n",
      "Epoch 8/200\n",
      "1181898/1181898 [==============================] - 7s 6us/step - loss: 0.2828 - val_loss: 0.2834\n",
      "Epoch 9/200\n",
      "1181898/1181898 [==============================] - 7s 6us/step - loss: 0.2825 - val_loss: 0.2835\n",
      "Epoch 10/200\n",
      "1181898/1181898 [==============================] - 7s 6us/step - loss: 0.2822 - val_loss: 0.2828\n",
      "Epoch 11/200\n",
      "1181898/1181898 [==============================] - 7s 6us/step - loss: 0.2819 - val_loss: 0.2837\n",
      "Epoch 12/200\n",
      "1181898/1181898 [==============================] - 7s 6us/step - loss: 0.2817 - val_loss: 0.2826\n",
      "Epoch 13/200\n",
      "1181898/1181898 [==============================] - 7s 6us/step - loss: 0.2815 - val_loss: 0.2823\n",
      "Epoch 14/200\n",
      "1181898/1181898 [==============================] - 7s 6us/step - loss: 0.2814 - val_loss: 0.2821\n",
      "Epoch 15/200\n",
      "1181898/1181898 [==============================] - 7s 6us/step - loss: 0.2812 - val_loss: 0.2821\n",
      "Epoch 16/200\n",
      "1181898/1181898 [==============================] - 7s 6us/step - loss: 0.2811 - val_loss: 0.2819\n",
      "Epoch 17/200\n",
      "1181898/1181898 [==============================] - 7s 6us/step - loss: 0.2810 - val_loss: 0.2819\n",
      "Epoch 18/200\n",
      "1181898/1181898 [==============================] - 7s 6us/step - loss: 0.2810 - val_loss: 0.2823\n",
      "Epoch 19/200\n",
      "1181898/1181898 [==============================] - 7s 6us/step - loss: 0.2809 - val_loss: 0.2816\n",
      "Epoch 20/200\n",
      "1181898/1181898 [==============================] - 7s 6us/step - loss: 0.2808 - val_loss: 0.2821\n",
      "Epoch 21/200\n",
      "1181898/1181898 [==============================] - 7s 6us/step - loss: 0.2807 - val_loss: 0.2814\n",
      "Epoch 22/200\n",
      "1181898/1181898 [==============================] - 7s 6us/step - loss: 0.2806 - val_loss: 0.2819\n",
      "Epoch 23/200\n",
      "1181898/1181898 [==============================] - 7s 6us/step - loss: 0.2806 - val_loss: 0.2815\n",
      "Epoch 24/200\n",
      "1181898/1181898 [==============================] - 7s 6us/step - loss: 0.2805 - val_loss: 0.2814\n",
      "Epoch 25/200\n",
      "1181898/1181898 [==============================] - 7s 6us/step - loss: 0.2804 - val_loss: 0.2814\n",
      "Epoch 26/200\n",
      "1181898/1181898 [==============================] - 7s 6us/step - loss: 0.2803 - val_loss: 0.2815\n",
      "Epoch 27/200\n",
      "1181898/1181898 [==============================] - 7s 6us/step - loss: 0.2802 - val_loss: 0.2816\n",
      "Epoch 28/200\n",
      "1181898/1181898 [==============================] - 7s 6us/step - loss: 0.2802 - val_loss: 0.2812\n",
      "Epoch 29/200\n",
      "1181898/1181898 [==============================] - 7s 6us/step - loss: 0.2801 - val_loss: 0.2814\n",
      "Epoch 30/200\n",
      "1181898/1181898 [==============================] - 7s 6us/step - loss: 0.2800 - val_loss: 0.2815\n",
      "Epoch 31/200\n",
      "1181898/1181898 [==============================] - 7s 6us/step - loss: 0.2799 - val_loss: 0.2811\n",
      "Epoch 32/200\n",
      "1181898/1181898 [==============================] - 7s 6us/step - loss: 0.2798 - val_loss: 0.2806\n",
      "Epoch 33/200\n",
      "1181898/1181898 [==============================] - 7s 6us/step - loss: 0.2797 - val_loss: 0.2811\n",
      "Epoch 34/200\n",
      "1181898/1181898 [==============================] - 7s 6us/step - loss: 0.2795 - val_loss: 0.2810\n",
      "Epoch 35/200\n",
      "1181898/1181898 [==============================] - 7s 6us/step - loss: 0.2794 - val_loss: 0.2805\n",
      "Epoch 36/200\n",
      "1181898/1181898 [==============================] - 7s 6us/step - loss: 0.2791 - val_loss: 0.2800\n",
      "Epoch 37/200\n",
      "1181898/1181898 [==============================] - 7s 6us/step - loss: 0.2759 - val_loss: 0.2695\n",
      "Epoch 38/200\n",
      "1181898/1181898 [==============================] - 7s 6us/step - loss: 0.2634 - val_loss: 0.2580\n",
      "Epoch 39/200\n",
      "1181898/1181898 [==============================] - 7s 6us/step - loss: 0.2550 - val_loss: 0.2521\n",
      "Epoch 40/200\n",
      "1181898/1181898 [==============================] - 7s 6us/step - loss: 0.2477 - val_loss: 0.2446\n",
      "Epoch 41/200\n",
      "1181898/1181898 [==============================] - 7s 6us/step - loss: 0.2431 - val_loss: 0.2441\n",
      "Epoch 42/200\n",
      "1181898/1181898 [==============================] - 7s 6us/step - loss: 0.2433 - val_loss: 0.2368\n",
      "Epoch 43/200\n",
      "1181898/1181898 [==============================] - 7s 6us/step - loss: 0.2300 - val_loss: 0.2326\n",
      "Epoch 44/200\n",
      "1181898/1181898 [==============================] - 7s 6us/step - loss: 0.2235 - val_loss: 0.2247\n",
      "Epoch 45/200\n",
      "1181898/1181898 [==============================] - 6s 5us/step - loss: 0.2259 - val_loss: 0.2254\n",
      "Epoch 46/200\n",
      "1181898/1181898 [==============================] - 7s 6us/step - loss: 0.2205 - val_loss: 0.2364\n",
      "Epoch 47/200\n",
      "1181898/1181898 [==============================] - 7s 6us/step - loss: 0.2224 - val_loss: 0.2287\n",
      "Epoch 48/200\n",
      "1181898/1181898 [==============================] - 7s 6us/step - loss: 0.2149 - val_loss: 0.2128\n",
      "Epoch 49/200\n",
      "1181898/1181898 [==============================] - 7s 6us/step - loss: 0.2094 - val_loss: 0.2092\n",
      "Epoch 50/200\n",
      "1181898/1181898 [==============================] - 7s 6us/step - loss: 0.2054 - val_loss: 0.2018\n",
      "Epoch 51/200\n",
      "1181898/1181898 [==============================] - 7s 6us/step - loss: 0.2095 - val_loss: 0.2082\n",
      "Epoch 52/200\n",
      "1181898/1181898 [==============================] - 7s 6us/step - loss: 0.2073 - val_loss: 0.1966\n",
      "Epoch 53/200\n",
      "1181898/1181898 [==============================] - 6s 5us/step - loss: 0.2034 - val_loss: 0.2132\n",
      "Epoch 54/200\n",
      "1181898/1181898 [==============================] - 6s 5us/step - loss: 0.1961 - val_loss: 0.1882\n",
      "Epoch 55/200\n",
      "1181898/1181898 [==============================] - 6s 5us/step - loss: 0.1894 - val_loss: 0.1904\n",
      "Epoch 56/200\n",
      "1181898/1181898 [==============================] - 6s 5us/step - loss: 0.1970 - val_loss: 0.2041\n",
      "Epoch 57/200\n",
      "1181898/1181898 [==============================] - 6s 5us/step - loss: 0.1951 - val_loss: 0.2018\n",
      "Epoch 58/200\n",
      "1181898/1181898 [==============================] - 6s 5us/step - loss: 0.2099 - val_loss: 0.2165\n",
      "Epoch 59/200\n",
      "1181898/1181898 [==============================] - 6s 5us/step - loss: 0.2127 - val_loss: 0.2159\n",
      "Epoch 60/200\n",
      "1181898/1181898 [==============================] - 7s 6us/step - loss: 0.2082 - val_loss: 0.2117\n",
      "Epoch 61/200\n",
      "1181898/1181898 [==============================] - 6s 5us/step - loss: 0.2115 - val_loss: 0.2149\n",
      "Epoch 62/200\n",
      "1181898/1181898 [==============================] - 6s 5us/step - loss: 0.2055 - val_loss: 0.2005\n",
      "Epoch 63/200\n",
      "1181898/1181898 [==============================] - 6s 5us/step - loss: 0.1980 - val_loss: 0.1887\n",
      "Epoch 64/200\n",
      "1181898/1181898 [==============================] - 6s 5us/step - loss: 0.1976 - val_loss: 0.2033\n"
     ]
    }
   ],
   "source": [
    "hist = vae.fit(x_train, x_train,\n",
    "               shuffle=True,\n",
    "               epochs=epochs,\n",
    "               batch_size=batch_size,\n",
    "               validation_data=(x_val, x_val),\n",
    "               callbacks=my_callbacks)"
   ]
  },
  {
   "cell_type": "markdown",
   "metadata": {},
   "source": [
    "# Visualization"
   ]
  },
  {
   "cell_type": "code",
   "execution_count": 178,
   "metadata": {},
   "outputs": [],
   "source": [
    "import matplotlib.pyplot as plt"
   ]
  },
  {
   "cell_type": "code",
   "execution_count": 179,
   "metadata": {},
   "outputs": [
    {
     "data": {
      "image/png": "[encoded data removed]",
      "text/plain": [
       "<Figure size 432x266.991 with 1 Axes>"
      ]
     },
     "metadata": {
      "needs_background": "light"
     },
     "output_type": "display_data"
    }
   ],
   "source": [
    "golden_size = lambda width: (width, 2. * width / (1 + np.sqrt(5)))\n",
    "\n",
    "fig, ax = plt.subplots(figsize=golden_size(6))\n",
    "\n",
    "hist_df = pd.DataFrame(hist.history)\n",
    "hist_df.plot(ax=ax)\n",
    "\n",
    "ax.set_ylabel('NELBO')\n",
    "ax.set_xlabel('# epochs')\n",
    "\n",
    "ax.set_ylim(.99*hist_df[1:].values.min(), \n",
    "            1.1*hist_df[1:].values.max())\n",
    "plt.show()"
   ]
  },
  {
   "cell_type": "code",
   "execution_count": 180,
   "metadata": {},
   "outputs": [],
   "source": [
    "predictions = vae.predict(x_test)"
   ]
  },
  {
   "cell_type": "code",
   "execution_count": 181,
   "metadata": {},
   "outputs": [
    {
     "data": {
      "text/plain": [
       "array([[ 0.00748137, -0.00655702,  0.01202089, -0.48182136],\n",
       "       [ 0.01788619, -0.01825598, -0.10138243, -0.43115848],\n",
       "       [ 0.01205901, -0.01584509,  0.04092413, -0.49369055],\n",
       "       ...,\n",
       "       [ 0.01431965, -0.01047161,  0.08204848, -0.47053677],\n",
       "       [ 0.01422238, -0.00090364, -0.01117903, -0.4693628 ],\n",
       "       [ 0.01242121, -0.00854281,  0.01778024, -0.4840873 ]],\n",
       "      dtype=float32)"
      ]
     },
     "execution_count": 181,
     "metadata": {},
     "output_type": "execute_result"
    }
   ],
   "source": [
    "predictions"
   ]
  },
  {
   "cell_type": "code",
   "execution_count": 182,
   "metadata": {},
   "outputs": [],
   "source": [
    "distr = (x_test - predictions) / x_test"
   ]
  },
  {
   "cell_type": "code",
   "execution_count": 183,
   "metadata": {},
   "outputs": [],
   "source": [
    "px_pred = [row[0] for row in predictions]\n",
    "py_pred = [row[1] for row in predictions]\n",
    "pz_pred = [row[2] for row in predictions]\n",
    "e_pred = [row[3] for row in predictions]"
   ]
  },
  {
   "cell_type": "code",
   "execution_count": 184,
   "metadata": {},
   "outputs": [],
   "source": [
    "px = [row[0] for row in x_test]\n",
    "py = [row[1] for row in x_test]\n",
    "pz = [row[2] for row in x_test]\n",
    "e = [row[3] for row in x_test]"
   ]
  },
  {
   "cell_type": "code",
   "execution_count": 185,
   "metadata": {},
   "outputs": [],
   "source": [
    "overall_distr = K.flatten(distr)\n",
    "overall_pred = K.flatten(predictions)\n",
    "overall_input = K.flatten(x_test)"
   ]
  },
  {
   "cell_type": "code",
   "execution_count": 186,
   "metadata": {},
   "outputs": [
    {
     "data": {
      "text/plain": [
       "(array([  666.,   666.,   747.,   821.,   795.,   841.,   894.,   927.,\n",
       "          988.,  1079.,  1171.,  1233.,  1294.,  1503.,  1659.,  1789.,\n",
       "         1866.,  2105.,  2407.,  2847., 25776., 38774., 20914., 15580.,\n",
       "         9403.,  7320., 13614., 55351., 26509., 12288., 10052., 13247.,\n",
       "        10927.,  7941.,  5637.,  4071.,  4787.,  4269.,  3279.,  2757.,\n",
       "         2412.,  2351.,  2129.,  1942.,  1807.,  1639.,  1538.,  1426.,\n",
       "         1316.]),\n",
       " array([-0.1       , -0.09591837, -0.09183673, -0.0877551 , -0.08367347,\n",
       "        -0.07959184, -0.0755102 , -0.07142857, -0.06734694, -0.06326531,\n",
       "        -0.05918367, -0.05510204, -0.05102041, -0.04693878, -0.04285714,\n",
       "        -0.03877551, -0.03469388, -0.03061224, -0.02653061, -0.02244898,\n",
       "        -0.01836735, -0.01428571, -0.01020408, -0.00612245, -0.00204082,\n",
       "         0.00204082,  0.00612245,  0.01020408,  0.01428571,  0.01836735,\n",
       "         0.02244898,  0.02653061,  0.03061224,  0.03469388,  0.03877551,\n",
       "         0.04285714,  0.04693878,  0.05102041,  0.05510204,  0.05918367,\n",
       "         0.06326531,  0.06734694,  0.07142857,  0.0755102 ,  0.07959184,\n",
       "         0.08367347,  0.0877551 ,  0.09183673,  0.09591837,  0.1       ]),\n",
       " <a list of 49 Patch objects>)"
      ]
     },
     "execution_count": 186,
     "metadata": {},
     "output_type": "execute_result"
    },
    {
     "data": {
      "image/png": "[encoded data removed]",
      "text/plain": [
       "<Figure size 432x288 with 1 Axes>"
      ]
     },
     "metadata": {
      "needs_background": "light"
     },
     "output_type": "display_data"
    }
   ],
   "source": [
    "# overall pred vs input\n",
    "bins = np.linspace(-0.1, 0.1, 50)\n",
    "plt.hist(overall_input, bins=bins,alpha=0.5)\n",
    "plt.hist(overall_pred, bins=bins,alpha=0.5)"
   ]
  },
  {
   "cell_type": "code",
   "execution_count": 187,
   "metadata": {},
   "outputs": [
    {
     "data": {
      "text/plain": [
       "(array([  2527.,   2844.,   3077.,   3162.,   3515.,   3773.,   4292.,\n",
       "          4649.,   5376.,   7018.,   8658.,  10863.,  17118.,  33208.,\n",
       "        135039.,  19902.,  14360.,  11557.,  10710.,   9232.,   9297.,\n",
       "          9516.,   7481.,   5921.,   4928.,   4422.,   4223.,   3601.,\n",
       "          3466.]),\n",
       " array([-2.        , -1.86206897, -1.72413793, -1.5862069 , -1.44827586,\n",
       "        -1.31034483, -1.17241379, -1.03448276, -0.89655172, -0.75862069,\n",
       "        -0.62068966, -0.48275862, -0.34482759, -0.20689655, -0.06896552,\n",
       "         0.06896552,  0.20689655,  0.34482759,  0.48275862,  0.62068966,\n",
       "         0.75862069,  0.89655172,  1.03448276,  1.17241379,  1.31034483,\n",
       "         1.44827586,  1.5862069 ,  1.72413793,  1.86206897,  2.        ]),\n",
       " <a list of 29 Patch objects>)"
      ]
     },
     "execution_count": 187,
     "metadata": {},
     "output_type": "execute_result"
    },
    {
     "data": {
      "image/png": "[encoded data removed]",
      "text/plain": [
       "<Figure size 432x288 with 1 Axes>"
      ]
     },
     "metadata": {
      "needs_background": "light"
     },
     "output_type": "display_data"
    }
   ],
   "source": [
    "# overall distr\n",
    "bins = np.linspace(-2, 2, 30)\n",
    "plt.hist(overall_distr, bins=bins)"
   ]
  },
  {
   "cell_type": "markdown",
   "metadata": {},
   "source": [
    "## Stacking output (orange) over input (blue) for pT, eta, phi, m"
   ]
  },
  {
   "cell_type": "code",
   "execution_count": 188,
   "metadata": {},
   "outputs": [
    {
     "data": {
      "text/plain": [
       "(array([   94.,   115.,   101.,   109.,    99.,   120.,   134.,   150.,\n",
       "          174.,   212.,   219.,   230.,   248.,   297.,   300.,   329.,\n",
       "          409.,   491.,   481.,   671.,   715.,   895.,  1316.,  1986.,\n",
       "         4125., 32447., 56517.,  7455.,  2463.,  1720.,  1187.,   896.,\n",
       "          714.,   672.,   540.,   487.,   364.,   347.,   305.,   274.,\n",
       "          263.,   242.,   194.,   215.,   159.,   177.,   159.,   152.,\n",
       "          133.]),\n",
       " array([-0.2       , -0.19183673, -0.18367347, -0.1755102 , -0.16734694,\n",
       "        -0.15918367, -0.15102041, -0.14285714, -0.13469388, -0.12653061,\n",
       "        -0.11836735, -0.11020408, -0.10204082, -0.09387755, -0.08571429,\n",
       "        -0.07755102, -0.06938776, -0.06122449, -0.05306122, -0.04489796,\n",
       "        -0.03673469, -0.02857143, -0.02040816, -0.0122449 , -0.00408163,\n",
       "         0.00408163,  0.0122449 ,  0.02040816,  0.02857143,  0.03673469,\n",
       "         0.04489796,  0.05306122,  0.06122449,  0.06938776,  0.07755102,\n",
       "         0.08571429,  0.09387755,  0.10204082,  0.11020408,  0.11836735,\n",
       "         0.12653061,  0.13469388,  0.14285714,  0.15102041,  0.15918367,\n",
       "         0.16734694,  0.1755102 ,  0.18367347,  0.19183673,  0.2       ]),\n",
       " <a list of 49 Patch objects>)"
      ]
     },
     "execution_count": 188,
     "metadata": {},
     "output_type": "execute_result"
    },
    {
     "data": {
      "image/png": "[encoded data removed]",
      "text/plain": [
       "<Figure size 432x288 with 1 Axes>"
      ]
     },
     "metadata": {
      "needs_background": "light"
     },
     "output_type": "display_data"
    }
   ],
   "source": [
    "bins = np.linspace(-0.2, 0.2, 50)\n",
    "plt.hist(px, bins=bins,alpha=0.5)\n",
    "plt.hist(px_pred, bins=bins,alpha=0.5)"
   ]
  },
  {
   "cell_type": "code",
   "execution_count": 189,
   "metadata": {},
   "outputs": [
    {
     "name": "stdout",
     "output_type": "stream",
     "text": [
      "tf.Tensor(0.0013007484, shape=(), dtype=float32)\n"
     ]
    }
   ],
   "source": [
    "print(mse(px,px_pred))"
   ]
  },
  {
   "cell_type": "code",
   "execution_count": 190,
   "metadata": {},
   "outputs": [
    {
     "data": {
      "text/plain": [
       "(array([   85.,    96.,   130.,   132.,   153.,   160.,   173.,   159.,\n",
       "          199.,   238.,   245.,   321.,   356.,   422.,   515.,   622.,\n",
       "          675.,   803.,   972.,  1313.,  1512.,  2171., 44683., 41993.,\n",
       "        12749.,  2705.,  1862.,  1311.,  1036.,   860.,   675.,   455.,\n",
       "          416.,   385.,   431.,   429.,   414.,   304.,   233.,   161.,\n",
       "          150.,   125.,   113.,   103.,   114.,    99.,    79.,    90.,\n",
       "           79.]),\n",
       " array([-0.2       , -0.19183673, -0.18367347, -0.1755102 , -0.16734694,\n",
       "        -0.15918367, -0.15102041, -0.14285714, -0.13469388, -0.12653061,\n",
       "        -0.11836735, -0.11020408, -0.10204082, -0.09387755, -0.08571429,\n",
       "        -0.07755102, -0.06938776, -0.06122449, -0.05306122, -0.04489796,\n",
       "        -0.03673469, -0.02857143, -0.02040816, -0.0122449 , -0.00408163,\n",
       "         0.00408163,  0.0122449 ,  0.02040816,  0.02857143,  0.03673469,\n",
       "         0.04489796,  0.05306122,  0.06122449,  0.06938776,  0.07755102,\n",
       "         0.08571429,  0.09387755,  0.10204082,  0.11020408,  0.11836735,\n",
       "         0.12653061,  0.13469388,  0.14285714,  0.15102041,  0.15918367,\n",
       "         0.16734694,  0.1755102 ,  0.18367347,  0.19183673,  0.2       ]),\n",
       " <a list of 49 Patch objects>)"
      ]
     },
     "execution_count": 190,
     "metadata": {},
     "output_type": "execute_result"
    },
    {
     "data": {
      "image/png": "[encoded data removed]",
      "text/plain": [
       "<Figure size 432x288 with 1 Axes>"
      ]
     },
     "metadata": {
      "needs_background": "light"
     },
     "output_type": "display_data"
    }
   ],
   "source": [
    "bins = np.linspace(-0.2, 0.2, 50)\n",
    "plt.hist(py, bins=bins,alpha=0.5)\n",
    "plt.hist(py_pred, bins=bins,alpha=0.5)"
   ]
  },
  {
   "cell_type": "code",
   "execution_count": 191,
   "metadata": {},
   "outputs": [
    {
     "name": "stdout",
     "output_type": "stream",
     "text": [
      "tf.Tensor(0.012774699, shape=(), dtype=float32)\n"
     ]
    }
   ],
   "source": [
    "print(mse(py,py_pred))"
   ]
  },
  {
   "cell_type": "code",
   "execution_count": 192,
   "metadata": {},
   "outputs": [
    {
     "data": {
      "text/plain": [
       "(array([  292.,   327.,   343.,   363.,   376.,   426.,   459.,   479.,\n",
       "          488.,   545.,   577.,   620.,   666.,   683.,   771.,   793.,\n",
       "          959.,  1000.,  1195.,  1342.,  1710.,  2162.,  3237.,  4806.,\n",
       "         9202., 27858., 26811., 11828.,  6505.,  4216.,  3018.,  2162.,\n",
       "         1698.,  1298.,  1120.,   972.,   824.,   711.,   615.,   570.,\n",
       "          573.,   473.,   449.,   425.,   393.,   343.,   327.,   366.,\n",
       "          345.]),\n",
       " array([-0.5       , -0.47959184, -0.45918367, -0.43877551, -0.41836735,\n",
       "        -0.39795918, -0.37755102, -0.35714286, -0.33673469, -0.31632653,\n",
       "        -0.29591837, -0.2755102 , -0.25510204, -0.23469388, -0.21428571,\n",
       "        -0.19387755, -0.17346939, -0.15306122, -0.13265306, -0.1122449 ,\n",
       "        -0.09183673, -0.07142857, -0.05102041, -0.03061224, -0.01020408,\n",
       "         0.01020408,  0.03061224,  0.05102041,  0.07142857,  0.09183673,\n",
       "         0.1122449 ,  0.13265306,  0.15306122,  0.17346939,  0.19387755,\n",
       "         0.21428571,  0.23469388,  0.25510204,  0.2755102 ,  0.29591837,\n",
       "         0.31632653,  0.33673469,  0.35714286,  0.37755102,  0.39795918,\n",
       "         0.41836735,  0.43877551,  0.45918367,  0.47959184,  0.5       ]),\n",
       " <a list of 49 Patch objects>)"
      ]
     },
     "execution_count": 192,
     "metadata": {},
     "output_type": "execute_result"
    },
    {
     "data": {
      "image/png": "[encoded data removed]",
      "text/plain": [
       "<Figure size 432x288 with 1 Axes>"
      ]
     },
     "metadata": {
      "needs_background": "light"
     },
     "output_type": "display_data"
    }
   ],
   "source": [
    "bins = np.linspace(-0.5, 0.5, 50)\n",
    "plt.hist(pz, bins=bins,alpha=0.5)\n",
    "plt.hist(pz_pred, bins=bins,alpha=0.5)"
   ]
  },
  {
   "cell_type": "code",
   "execution_count": 193,
   "metadata": {},
   "outputs": [
    {
     "name": "stdout",
     "output_type": "stream",
     "text": [
      "tf.Tensor(0.5867234, shape=(), dtype=float32)\n"
     ]
    }
   ],
   "source": [
    "print(mse(pz,pz_pred))"
   ]
  },
  {
   "cell_type": "code",
   "execution_count": 194,
   "metadata": {},
   "outputs": [
    {
     "data": {
      "text/plain": [
       "(array([0.0000e+00, 3.0000e+01, 2.1100e+02, 6.4199e+04, 2.0297e+04,\n",
       "        1.0065e+04, 5.1490e+03, 3.4760e+03, 2.4800e+03, 1.9650e+03,\n",
       "        1.6270e+03, 1.3140e+03, 1.1210e+03, 1.0090e+03, 8.9800e+02,\n",
       "        7.6500e+02, 7.2100e+02, 6.5200e+02, 4.9300e+02, 4.9600e+02,\n",
       "        4.6800e+02, 4.3400e+02, 4.4000e+02, 4.5200e+02, 4.4100e+02,\n",
       "        3.6100e+02, 3.1100e+02, 2.4200e+02, 1.9100e+02, 1.4500e+02,\n",
       "        1.3300e+02, 1.2300e+02, 1.0300e+02, 9.4000e+01, 7.6000e+01,\n",
       "        6.3000e+01, 8.4000e+01, 7.4000e+01, 5.3000e+01, 6.0000e+01,\n",
       "        4.9000e+01, 4.9000e+01, 4.8000e+01, 4.0000e+01, 4.5000e+01,\n",
       "        3.3000e+01, 2.8000e+01, 3.6000e+01, 2.5000e+01]),\n",
       " array([-0.55      , -0.53265306, -0.51530612, -0.49795918, -0.48061224,\n",
       "        -0.46326531, -0.44591837, -0.42857143, -0.41122449, -0.39387755,\n",
       "        -0.37653061, -0.35918367, -0.34183673, -0.3244898 , -0.30714286,\n",
       "        -0.28979592, -0.27244898, -0.25510204, -0.2377551 , -0.22040816,\n",
       "        -0.20306122, -0.18571429, -0.16836735, -0.15102041, -0.13367347,\n",
       "        -0.11632653, -0.09897959, -0.08163265, -0.06428571, -0.04693878,\n",
       "        -0.02959184, -0.0122449 ,  0.00510204,  0.02244898,  0.03979592,\n",
       "         0.05714286,  0.0744898 ,  0.09183673,  0.10918367,  0.12653061,\n",
       "         0.14387755,  0.16122449,  0.17857143,  0.19591837,  0.21326531,\n",
       "         0.23061224,  0.24795918,  0.26530612,  0.28265306,  0.3       ]),\n",
       " <a list of 49 Patch objects>)"
      ]
     },
     "execution_count": 194,
     "metadata": {},
     "output_type": "execute_result"
    },
    {
     "data": {
      "image/png": "[encoded data removed]",
      "text/plain": [
       "<Figure size 432x288 with 1 Axes>"
      ]
     },
     "metadata": {
      "needs_background": "light"
     },
     "output_type": "display_data"
    }
   ],
   "source": [
    "bins = np.linspace(-0.55,0.3, 50)\n",
    "plt.hist(e, bins=bins,alpha=0.5)\n",
    "plt.hist(e_pred, bins=bins,alpha=0.5)"
   ]
  },
  {
   "cell_type": "code",
   "execution_count": 195,
   "metadata": {},
   "outputs": [
    {
     "name": "stdout",
     "output_type": "stream",
     "text": [
      "tf.Tensor(0.092389844, shape=(), dtype=float32)\n"
     ]
    }
   ],
   "source": [
    "print(mse(e,e_pred))"
   ]
  },
  {
   "cell_type": "code",
   "execution_count": 196,
   "metadata": {},
   "outputs": [],
   "source": [
    "d_px = [row[0] for row in distr]\n",
    "d_py = [row[1] for row in distr]\n",
    "d_pz = [row[2] for row in distr]\n",
    "d_e = [row[3] for row in distr]"
   ]
  },
  {
   "cell_type": "markdown",
   "metadata": {},
   "source": [
    "## Distribution of (input - output) / input"
   ]
  },
  {
   "cell_type": "code",
   "execution_count": 197,
   "metadata": {},
   "outputs": [],
   "source": [
    "bins = np.linspace(-2, 2, 30)"
   ]
  },
  {
   "cell_type": "code",
   "execution_count": 198,
   "metadata": {},
   "outputs": [
    {
     "data": {
      "text/plain": [
       "(array([  671.,   667.,   749.,   728.,   802.,   854.,  1021.,  1161.,\n",
       "         1350.,  1636.,  2015.,  1817.,  1899.,  3586., 21075.,  3993.,\n",
       "         2502.,  1742.,  1529.,  1249.,  1155.,  1046.,  1022.,   974.,\n",
       "          886.,   808.,   790.,   698.,   716.]),\n",
       " array([-2.        , -1.86206897, -1.72413793, -1.5862069 , -1.44827586,\n",
       "        -1.31034483, -1.17241379, -1.03448276, -0.89655172, -0.75862069,\n",
       "        -0.62068966, -0.48275862, -0.34482759, -0.20689655, -0.06896552,\n",
       "         0.06896552,  0.20689655,  0.34482759,  0.48275862,  0.62068966,\n",
       "         0.75862069,  0.89655172,  1.03448276,  1.17241379,  1.31034483,\n",
       "         1.44827586,  1.5862069 ,  1.72413793,  1.86206897,  2.        ]),\n",
       " <a list of 29 Patch objects>)"
      ]
     },
     "execution_count": 198,
     "metadata": {},
     "output_type": "execute_result"
    },
    {
     "data": {
      "image/png": "[encoded data removed]",
      "text/plain": [
       "<Figure size 432x288 with 1 Axes>"
      ]
     },
     "metadata": {
      "needs_background": "light"
     },
     "output_type": "display_data"
    }
   ],
   "source": [
    "plt.hist(d_px, bins=bins)"
   ]
  },
  {
   "cell_type": "code",
   "execution_count": 199,
   "metadata": {},
   "outputs": [
    {
     "data": {
      "text/plain": [
       "(array([  652.,   719.,   733.,   743.,   804.,   830.,   920.,   874.,\n",
       "          975.,  1079.,  1172.,  1394.,  1760.,  2997., 14616.,  6816.,\n",
       "         3246.,  2729.,  2614.,  2426.,  2502.,  2255.,  1935.,  1764.,\n",
       "         1532.,  1443.,  1393.,  1225.,  1167.]),\n",
       " array([-2.        , -1.86206897, -1.72413793, -1.5862069 , -1.44827586,\n",
       "        -1.31034483, -1.17241379, -1.03448276, -0.89655172, -0.75862069,\n",
       "        -0.62068966, -0.48275862, -0.34482759, -0.20689655, -0.06896552,\n",
       "         0.06896552,  0.20689655,  0.34482759,  0.48275862,  0.62068966,\n",
       "         0.75862069,  0.89655172,  1.03448276,  1.17241379,  1.31034483,\n",
       "         1.44827586,  1.5862069 ,  1.72413793,  1.86206897,  2.        ]),\n",
       " <a list of 29 Patch objects>)"
      ]
     },
     "execution_count": 199,
     "metadata": {},
     "output_type": "execute_result"
    },
    {
     "data": {
      "image/png": "[encoded data removed]",
      "text/plain": [
       "<Figure size 432x288 with 1 Axes>"
      ]
     },
     "metadata": {
      "needs_background": "light"
     },
     "output_type": "display_data"
    }
   ],
   "source": [
    "plt.hist(d_py, bins=bins)"
   ]
  },
  {
   "cell_type": "code",
   "execution_count": 200,
   "metadata": {},
   "outputs": [
    {
     "data": {
      "text/plain": [
       "(array([1010., 1249., 1338., 1387., 1501., 1607., 1814., 1955., 2217.,\n",
       "        3049., 3574., 4068., 4657., 5554., 6279., 5972., 6321., 5539.,\n",
       "        5618., 5123., 5455., 6035., 4294., 2951., 2281., 1985., 1852.,\n",
       "        1520., 1449.]),\n",
       " array([-2.        , -1.86206897, -1.72413793, -1.5862069 , -1.44827586,\n",
       "        -1.31034483, -1.17241379, -1.03448276, -0.89655172, -0.75862069,\n",
       "        -0.62068966, -0.48275862, -0.34482759, -0.20689655, -0.06896552,\n",
       "         0.06896552,  0.20689655,  0.34482759,  0.48275862,  0.62068966,\n",
       "         0.75862069,  0.89655172,  1.03448276,  1.17241379,  1.31034483,\n",
       "         1.44827586,  1.5862069 ,  1.72413793,  1.86206897,  2.        ]),\n",
       " <a list of 29 Patch objects>)"
      ]
     },
     "execution_count": 200,
     "metadata": {},
     "output_type": "execute_result"
    },
    {
     "data": {
      "image/png": "[encoded data removed]",
      "text/plain": [
       "<Figure size 432x288 with 1 Axes>"
      ]
     },
     "metadata": {
      "needs_background": "light"
     },
     "output_type": "display_data"
    }
   ],
   "source": [
    "plt.hist(d_pz, bins=bins)"
   ]
  },
  {
   "cell_type": "code",
   "execution_count": 201,
   "metadata": {},
   "outputs": [
    {
     "data": {
      "text/plain": [
       "(array([  194.,   209.,   257.,   304.,   408.,   482.,   537.,   659.,\n",
       "          834.,  1254.,  1897.,  3584.,  8802., 21071., 93069.,  3121.,\n",
       "         2291.,  1547.,   949.,   434.,   185.,   180.,   230.,   232.,\n",
       "          229.,   186.,   188.,   158.,   134.]),\n",
       " array([-2.        , -1.86206897, -1.72413793, -1.5862069 , -1.44827586,\n",
       "        -1.31034483, -1.17241379, -1.03448276, -0.89655172, -0.75862069,\n",
       "        -0.62068966, -0.48275862, -0.34482759, -0.20689655, -0.06896552,\n",
       "         0.06896552,  0.20689655,  0.34482759,  0.48275862,  0.62068966,\n",
       "         0.75862069,  0.89655172,  1.03448276,  1.17241379,  1.31034483,\n",
       "         1.44827586,  1.5862069 ,  1.72413793,  1.86206897,  2.        ]),\n",
       " <a list of 29 Patch objects>)"
      ]
     },
     "execution_count": 201,
     "metadata": {},
     "output_type": "execute_result"
    },
    {
     "data": {
      "image/png": "[encoded data removed]",
      "text/plain": [
       "<Figure size 432x288 with 1 Axes>"
      ]
     },
     "metadata": {
      "needs_background": "light"
     },
     "output_type": "display_data"
    }
   ],
   "source": [
    "plt.hist(d_e, bins=bins)"
   ]
  }
 ],
 "metadata": {
  "kernelspec": {
   "display_name": "Python 3",
   "language": "python",
   "name": "python3"
  },
  "language_info": {
   "codemirror_mode": {
    "name": "ipython",
    "version": 3
   },
   "file_extension": ".py",
   "mimetype": "text/x-python",
   "name": "python",
   "nbconvert_exporter": "python",
   "pygments_lexer": "ipython3",
   "version": "3.7.6"
  }
 },
 "nbformat": 4,
 "nbformat_minor": 4
}
