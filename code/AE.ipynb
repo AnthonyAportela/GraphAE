{
 "cells": [
  {
   "cell_type": "code",
   "execution_count": 1,
   "metadata": {},
   "outputs": [],
   "source": [
    "import pandas as pd\n",
    "import numpy as np\n",
    "from pyjet import cluster,DTYPE_PTEPM\n",
    "from sklearn import preprocessing\n",
    "from scipy.stats import iqr\n",
    "import tensorflow as tf"
   ]
  },
  {
   "cell_type": "markdown",
   "metadata": {},
   "source": [
    "# Pre processing"
   ]
  },
  {
   "cell_type": "code",
   "execution_count": 2,
   "metadata": {},
   "outputs": [],
   "source": [
    "path = '/anomalyvol/data/jet_ver/blackbox1_jet.h5'"
   ]
  },
  {
   "cell_type": "code",
   "execution_count": 3,
   "metadata": {},
   "outputs": [],
   "source": [
    "chunk_size = 100000\n",
    "total_size = 1000000 # 1 mil max\n",
    "\n",
    "def generator(path, chunk_size=10000,total_size=1000000):\n",
    "    i = 0\n",
    "    \n",
    "    while True:\n",
    "        yield pd.read_hdf(path,start=i*chunk_size, stop=(i+1)*chunk_size)\n",
    "        \n",
    "        i+=1\n",
    "        if (i+1)*chunk_size > total_size:\n",
    "            i=0\n",
    "\n",
    "gen = generator(path, chunk_size, total_size)"
   ]
  },
  {
   "cell_type": "code",
   "execution_count": 4,
   "metadata": {},
   "outputs": [],
   "source": [
    "data = next(gen)\n",
    "\n",
    "for i in range(total_size // chunk_size - 1):\n",
    "    data.append(next(gen))"
   ]
  },
  {
   "cell_type": "code",
   "execution_count": 5,
   "metadata": {},
   "outputs": [],
   "source": [
    "loaded_data = data\n",
    "# data = loaded_data"
   ]
  },
  {
   "cell_type": "code",
   "execution_count": 6,
   "metadata": {},
   "outputs": [
    {
     "data": {
      "text/plain": [
       "(100000, 4)"
      ]
     },
     "execution_count": 6,
     "metadata": {},
     "output_type": "execute_result"
    }
   ],
   "source": [
    "data = np.array(data)\n",
    "data = data[:,:4]  # just keep px, py, pz, e\n",
    "data.shape"
   ]
  },
  {
   "cell_type": "code",
   "execution_count": 7,
   "metadata": {},
   "outputs": [],
   "source": [
    "# splitting data\n",
    "x_train = data[0:int(len(data) * 0.8)]\n",
    "x_val = data[int(len(data) * 0.8):int(len(data) * 0.9)]\n",
    "x_test = data[int(len(data) * 0.9):]"
   ]
  },
  {
   "cell_type": "code",
   "execution_count": 8,
   "metadata": {},
   "outputs": [],
   "source": [
    "# regularize\n",
    "scaler = preprocessing.StandardScaler()\n",
    "x_train = scaler.fit_transform(x_train)\n",
    "x_val = scaler.transform(x_val)\n",
    "x_test = scaler.transform(x_test)"
   ]
  },
  {
   "cell_type": "code",
   "execution_count": 9,
   "metadata": {},
   "outputs": [
    {
     "name": "stdout",
     "output_type": "stream",
     "text": [
      "[0.01960501 0.01973707 0.22276554 1.        ]\n"
     ]
    }
   ],
   "source": [
    "# get the inverse iqr proportion for each feature used to scale their weights in the loss function\n",
    "iqr_prop = iqr(x_train,axis = 0)\n",
    "max_iqr = max(iqr_prop)\n",
    "iqr_prop = np.array(iqr_prop) / max_iqr\n",
    "print(iqr_prop)"
   ]
  },
  {
   "cell_type": "markdown",
   "metadata": {},
   "source": [
    "# VAE Model"
   ]
  },
  {
   "cell_type": "code",
   "execution_count": 10,
   "metadata": {},
   "outputs": [
    {
     "name": "stderr",
     "output_type": "stream",
     "text": [
      "Using TensorFlow backend.\n"
     ]
    }
   ],
   "source": [
    "import keras\n",
    "from keras.layers import Lambda, Input, Dense, Flatten, Reshape, LeakyReLU, ELU\n",
    "from keras.models import Model, Sequential\n",
    "from keras import metrics, losses\n",
    "from keras import backend as K"
   ]
  },
  {
   "cell_type": "code",
   "execution_count": 11,
   "metadata": {},
   "outputs": [],
   "source": [
    "def sampling(args):\n",
    "    \"\"\"\n",
    "    # Arguments\n",
    "        args (tensor): mean and log of variance of Q(z|X)\n",
    "    # Returns\n",
    "        z (tensor): sampled latent vector\n",
    "    \"\"\"\n",
    "\n",
    "    z_mean, z_log_var = args\n",
    "    batch = K.shape(z_mean)[0]\n",
    "    dim = K.int_shape(z_mean)[1]\n",
    "    # by default, random_normal has mean = 0 and std = 1.0\n",
    "    epsilon = K.random_normal(shape=(batch, dim))\n",
    "    return z_mean + K.exp(0.5 * z_log_var) * epsilon"
   ]
  },
  {
   "cell_type": "code",
   "execution_count": 12,
   "metadata": {},
   "outputs": [],
   "source": [
    "inter_dim_1 = 32\n",
    "inter_dim_2 = 16\n",
    "final_dim = 8\n",
    "latent_dim = 2\n",
    "input_dim = 4"
   ]
  },
  {
   "cell_type": "code",
   "execution_count": 13,
   "metadata": {},
   "outputs": [],
   "source": [
    "# encoder\n",
    "x = Input(shape=(input_dim,))\n",
    "#x_flat = Flatten()(x)\n",
    "h1 = Dense(inter_dim_1, activation='relu')(x)\n",
    "h2 = Dense(inter_dim_2, activation='relu')(h1)\n",
    "h3 = Dense(final_dim, activation='relu')(h2)\n",
    "encoding = Dense(latent_dim, activation='tanh')(h3)"
   ]
  },
  {
   "cell_type": "code",
   "execution_count": 14,
   "metadata": {},
   "outputs": [],
   "source": [
    "# decoder\n",
    "decoder_h3 = Dense(final_dim, activation='relu')\n",
    "decoder_h2 = Dense(inter_dim_2, activation='relu')\n",
    "decoder_h1 = Dense(inter_dim_1, activation='relu')\n",
    "decoder_mean = Dense(input_dim, activation='linear')\n",
    "\n",
    "h3_decoded = decoder_h3(encoding)\n",
    "h2_decoded = decoder_h2(h3_decoded)\n",
    "h1_decoded = decoder_h1(h2_decoded)\n",
    "x_decoded_mean = decoder_mean(h1_decoded)\n",
    "# x_decoded = Reshape(input_shape)(x_decoded_mean)"
   ]
  },
  {
   "cell_type": "code",
   "execution_count": 15,
   "metadata": {},
   "outputs": [],
   "source": [
    "vae = Model(inputs = x, outputs = x_decoded_mean, name = 'vae')"
   ]
  },
  {
   "cell_type": "code",
   "execution_count": 16,
   "metadata": {},
   "outputs": [],
   "source": [
    "mse = keras.losses.MeanSquaredError()\n",
    "def ae_loss(x, y):\n",
    "    mse_loss = 0.25 * (iqr_prop[0]*(x[::,0] - y[::,0])**2 + iqr_prop[1]*(x[::,1] - y[::,1])**2 + iqr_prop[2]*(x[::,2] - y[::,2])**2 + iqr_prop[3]*(x[::,3] - y[::,3])**2)\n",
    "    # mse_loss = mse(x,y)\n",
    "    return mse_loss\n",
    "\n",
    "vae.compile(optimizer='adam', loss=ae_loss)"
   ]
  },
  {
   "cell_type": "code",
   "execution_count": 17,
   "metadata": {},
   "outputs": [
    {
     "name": "stdout",
     "output_type": "stream",
     "text": [
      "Model: \"vae\"\n",
      "_________________________________________________________________\n",
      "Layer (type)                 Output Shape              Param #   \n",
      "=================================================================\n",
      "input_1 (InputLayer)         (None, 4)                 0         \n",
      "_________________________________________________________________\n",
      "dense_1 (Dense)              (None, 32)                160       \n",
      "_________________________________________________________________\n",
      "dense_2 (Dense)              (None, 16)                528       \n",
      "_________________________________________________________________\n",
      "dense_3 (Dense)              (None, 8)                 136       \n",
      "_________________________________________________________________\n",
      "dense_4 (Dense)              (None, 2)                 18        \n",
      "_________________________________________________________________\n",
      "dense_5 (Dense)              (None, 8)                 24        \n",
      "_________________________________________________________________\n",
      "dense_6 (Dense)              (None, 16)                144       \n",
      "_________________________________________________________________\n",
      "dense_7 (Dense)              (None, 32)                544       \n",
      "_________________________________________________________________\n",
      "dense_8 (Dense)              (None, 4)                 132       \n",
      "=================================================================\n",
      "Total params: 1,686\n",
      "Trainable params: 1,686\n",
      "Non-trainable params: 0\n",
      "_________________________________________________________________\n"
     ]
    }
   ],
   "source": [
    "vae.summary()"
   ]
  },
  {
   "cell_type": "markdown",
   "metadata": {},
   "source": [
    "# Train"
   ]
  },
  {
   "cell_type": "code",
   "execution_count": 18,
   "metadata": {},
   "outputs": [],
   "source": [
    "from sklearn.model_selection import train_test_split"
   ]
  },
  {
   "cell_type": "code",
   "execution_count": 19,
   "metadata": {},
   "outputs": [],
   "source": [
    "batch_size = 1000\n",
    "epochs = 200"
   ]
  },
  {
   "cell_type": "code",
   "execution_count": 20,
   "metadata": {},
   "outputs": [
    {
     "data": {
      "text/plain": [
       "(80000, 4)"
      ]
     },
     "execution_count": 20,
     "metadata": {},
     "output_type": "execute_result"
    }
   ],
   "source": [
    "x_train.shape"
   ]
  },
  {
   "cell_type": "code",
   "execution_count": 21,
   "metadata": {},
   "outputs": [],
   "source": [
    "my_callbacks = [\n",
    "    keras.callbacks.EarlyStopping(patience=10)\n",
    "]"
   ]
  },
  {
   "cell_type": "code",
   "execution_count": 22,
   "metadata": {},
   "outputs": [
    {
     "name": "stdout",
     "output_type": "stream",
     "text": [
      "Train on 80000 samples, validate on 10000 samples\n",
      "Epoch 1/200\n",
      "80000/80000 [==============================] - 1s 18us/step - loss: 0.2032 - val_loss: 0.0887\n",
      "Epoch 2/200\n",
      "80000/80000 [==============================] - 0s 6us/step - loss: 0.0745 - val_loss: 0.0669\n",
      "Epoch 3/200\n",
      "80000/80000 [==============================] - 0s 6us/step - loss: 0.0559 - val_loss: 0.0335\n",
      "Epoch 4/200\n",
      "80000/80000 [==============================] - 0s 6us/step - loss: 0.0209 - val_loss: 0.0147\n",
      "Epoch 5/200\n",
      "80000/80000 [==============================] - 0s 6us/step - loss: 0.0135 - val_loss: 0.0124\n",
      "Epoch 6/200\n",
      "80000/80000 [==============================] - 0s 6us/step - loss: 0.0120 - val_loss: 0.0116\n",
      "Epoch 7/200\n",
      "80000/80000 [==============================] - 0s 6us/step - loss: 0.0113 - val_loss: 0.0112\n",
      "Epoch 8/200\n",
      "80000/80000 [==============================] - 0s 6us/step - loss: 0.0110 - val_loss: 0.0110\n",
      "Epoch 9/200\n",
      "80000/80000 [==============================] - 0s 6us/step - loss: 0.0108 - val_loss: 0.0109\n",
      "Epoch 10/200\n",
      "80000/80000 [==============================] - 0s 6us/step - loss: 0.0106 - val_loss: 0.0108\n",
      "Epoch 11/200\n",
      "80000/80000 [==============================] - 0s 6us/step - loss: 0.0105 - val_loss: 0.0107\n",
      "Epoch 12/200\n",
      "80000/80000 [==============================] - 0s 6us/step - loss: 0.0104 - val_loss: 0.0107\n",
      "Epoch 13/200\n",
      "80000/80000 [==============================] - 0s 6us/step - loss: 0.0104 - val_loss: 0.0106\n",
      "Epoch 14/200\n",
      "80000/80000 [==============================] - 0s 6us/step - loss: 0.0103 - val_loss: 0.0105\n",
      "Epoch 15/200\n",
      "80000/80000 [==============================] - 0s 6us/step - loss: 0.0103 - val_loss: 0.0105\n",
      "Epoch 16/200\n",
      "80000/80000 [==============================] - 0s 6us/step - loss: 0.0102 - val_loss: 0.0105\n",
      "Epoch 17/200\n",
      "80000/80000 [==============================] - 0s 6us/step - loss: 0.0102 - val_loss: 0.0105\n",
      "Epoch 18/200\n",
      "80000/80000 [==============================] - 0s 6us/step - loss: 0.0102 - val_loss: 0.0104\n",
      "Epoch 19/200\n",
      "80000/80000 [==============================] - 0s 6us/step - loss: 0.0101 - val_loss: 0.0104\n",
      "Epoch 20/200\n",
      "80000/80000 [==============================] - 0s 6us/step - loss: 0.0101 - val_loss: 0.0104\n",
      "Epoch 21/200\n",
      "80000/80000 [==============================] - 0s 6us/step - loss: 0.0101 - val_loss: 0.0104\n",
      "Epoch 22/200\n",
      "80000/80000 [==============================] - 0s 6us/step - loss: 0.0101 - val_loss: 0.0104\n",
      "Epoch 23/200\n",
      "80000/80000 [==============================] - 0s 6us/step - loss: 0.0101 - val_loss: 0.0104\n",
      "Epoch 24/200\n",
      "80000/80000 [==============================] - 0s 6us/step - loss: 0.0100 - val_loss: 0.0104\n",
      "Epoch 25/200\n",
      "80000/80000 [==============================] - 0s 6us/step - loss: 0.0100 - val_loss: 0.0103\n",
      "Epoch 26/200\n",
      "80000/80000 [==============================] - 0s 6us/step - loss: 0.0100 - val_loss: 0.0103\n",
      "Epoch 27/200\n",
      "80000/80000 [==============================] - 0s 6us/step - loss: 0.0100 - val_loss: 0.0103\n",
      "Epoch 28/200\n",
      "80000/80000 [==============================] - 0s 6us/step - loss: 0.0100 - val_loss: 0.0103\n",
      "Epoch 29/200\n",
      "80000/80000 [==============================] - 1s 6us/step - loss: 0.0100 - val_loss: 0.0103\n",
      "Epoch 30/200\n",
      "80000/80000 [==============================] - 1s 6us/step - loss: 0.0100 - val_loss: 0.0103\n",
      "Epoch 31/200\n",
      "80000/80000 [==============================] - 1s 6us/step - loss: 0.0100 - val_loss: 0.0103\n",
      "Epoch 32/200\n",
      "80000/80000 [==============================] - 1s 6us/step - loss: 0.0100 - val_loss: 0.0103\n",
      "Epoch 33/200\n",
      "80000/80000 [==============================] - 1s 6us/step - loss: 0.0100 - val_loss: 0.0103\n",
      "Epoch 34/200\n",
      "80000/80000 [==============================] - 1s 6us/step - loss: 0.0100 - val_loss: 0.0103\n",
      "Epoch 35/200\n",
      "80000/80000 [==============================] - 1s 6us/step - loss: 0.0100 - val_loss: 0.0103\n",
      "Epoch 36/200\n",
      "80000/80000 [==============================] - 1s 6us/step - loss: 0.0100 - val_loss: 0.0103\n",
      "Epoch 37/200\n",
      "80000/80000 [==============================] - 0s 6us/step - loss: 0.0099 - val_loss: 0.0103\n",
      "Epoch 38/200\n",
      "80000/80000 [==============================] - 0s 6us/step - loss: 0.0099 - val_loss: 0.0103\n",
      "Epoch 39/200\n",
      "80000/80000 [==============================] - 0s 6us/step - loss: 0.0100 - val_loss: 0.0103\n",
      "Epoch 40/200\n",
      "80000/80000 [==============================] - 0s 6us/step - loss: 0.0099 - val_loss: 0.0102\n",
      "Epoch 41/200\n",
      "80000/80000 [==============================] - 0s 6us/step - loss: 0.0099 - val_loss: 0.0103\n",
      "Epoch 42/200\n",
      "80000/80000 [==============================] - 0s 6us/step - loss: 0.0099 - val_loss: 0.0102\n",
      "Epoch 43/200\n",
      "80000/80000 [==============================] - 0s 6us/step - loss: 0.0099 - val_loss: 0.0102\n",
      "Epoch 44/200\n",
      "80000/80000 [==============================] - 0s 6us/step - loss: 0.0099 - val_loss: 0.0102\n",
      "Epoch 45/200\n",
      "80000/80000 [==============================] - 0s 6us/step - loss: 0.0099 - val_loss: 0.0102\n",
      "Epoch 46/200\n",
      "80000/80000 [==============================] - 0s 6us/step - loss: 0.0099 - val_loss: 0.0102\n",
      "Epoch 47/200\n",
      "80000/80000 [==============================] - 0s 6us/step - loss: 0.0099 - val_loss: 0.0102\n",
      "Epoch 48/200\n",
      "80000/80000 [==============================] - 0s 6us/step - loss: 0.0099 - val_loss: 0.0102\n",
      "Epoch 49/200\n",
      "80000/80000 [==============================] - 0s 6us/step - loss: 0.0099 - val_loss: 0.0102\n",
      "Epoch 50/200\n",
      "80000/80000 [==============================] - 0s 6us/step - loss: 0.0099 - val_loss: 0.0102\n",
      "Epoch 51/200\n",
      "80000/80000 [==============================] - 0s 6us/step - loss: 0.0099 - val_loss: 0.0102\n",
      "Epoch 52/200\n",
      "80000/80000 [==============================] - 0s 6us/step - loss: 0.0099 - val_loss: 0.0102\n",
      "Epoch 53/200\n",
      "80000/80000 [==============================] - 0s 6us/step - loss: 0.0099 - val_loss: 0.0102\n",
      "Epoch 54/200\n",
      "80000/80000 [==============================] - 0s 6us/step - loss: 0.0099 - val_loss: 0.0103\n",
      "Epoch 55/200\n",
      "80000/80000 [==============================] - 0s 6us/step - loss: 0.0099 - val_loss: 0.0102\n",
      "Epoch 56/200\n",
      "80000/80000 [==============================] - 0s 6us/step - loss: 0.0099 - val_loss: 0.0102\n",
      "Epoch 57/200\n",
      "80000/80000 [==============================] - 0s 6us/step - loss: 0.0099 - val_loss: 0.0102\n",
      "Epoch 58/200\n",
      "80000/80000 [==============================] - 0s 6us/step - loss: 0.0099 - val_loss: 0.0102\n",
      "Epoch 59/200\n",
      "80000/80000 [==============================] - 0s 6us/step - loss: 0.0099 - val_loss: 0.0102\n",
      "Epoch 60/200\n",
      "80000/80000 [==============================] - 0s 6us/step - loss: 0.0099 - val_loss: 0.0102\n",
      "Epoch 61/200\n",
      "80000/80000 [==============================] - 0s 6us/step - loss: 0.0099 - val_loss: 0.0102\n",
      "Epoch 62/200\n",
      "80000/80000 [==============================] - 0s 6us/step - loss: 0.0099 - val_loss: 0.0102\n",
      "Epoch 63/200\n",
      "80000/80000 [==============================] - 0s 6us/step - loss: 0.0099 - val_loss: 0.0102\n",
      "Epoch 64/200\n",
      "80000/80000 [==============================] - 0s 6us/step - loss: 0.0099 - val_loss: 0.0102\n",
      "Epoch 65/200\n",
      "80000/80000 [==============================] - 0s 6us/step - loss: 0.0099 - val_loss: 0.0102\n",
      "Epoch 66/200\n",
      "80000/80000 [==============================] - 0s 6us/step - loss: 0.0099 - val_loss: 0.0102\n",
      "Epoch 67/200\n",
      "80000/80000 [==============================] - 0s 6us/step - loss: 0.0099 - val_loss: 0.0102\n",
      "Epoch 68/200\n",
      "80000/80000 [==============================] - 0s 6us/step - loss: 0.0099 - val_loss: 0.0102\n",
      "Epoch 69/200\n",
      "80000/80000 [==============================] - 0s 6us/step - loss: 0.0099 - val_loss: 0.0102\n",
      "Epoch 70/200\n",
      "80000/80000 [==============================] - 0s 6us/step - loss: 0.0099 - val_loss: 0.0102\n",
      "Epoch 71/200\n",
      "80000/80000 [==============================] - 0s 6us/step - loss: 0.0099 - val_loss: 0.0102\n",
      "Epoch 72/200\n",
      "80000/80000 [==============================] - 0s 6us/step - loss: 0.0099 - val_loss: 0.0102\n",
      "Epoch 73/200\n",
      "80000/80000 [==============================] - 0s 6us/step - loss: 0.0099 - val_loss: 0.0102\n",
      "Epoch 74/200\n",
      "80000/80000 [==============================] - 0s 6us/step - loss: 0.0099 - val_loss: 0.0102\n",
      "Epoch 75/200\n",
      "80000/80000 [==============================] - 0s 6us/step - loss: 0.0099 - val_loss: 0.0102\n",
      "Epoch 76/200\n",
      "80000/80000 [==============================] - 0s 6us/step - loss: 0.0099 - val_loss: 0.0102\n",
      "Epoch 77/200\n",
      "80000/80000 [==============================] - 0s 6us/step - loss: 0.0099 - val_loss: 0.0102\n"
     ]
    },
    {
     "name": "stdout",
     "output_type": "stream",
     "text": [
      "Epoch 78/200\n",
      "80000/80000 [==============================] - 0s 6us/step - loss: 0.0099 - val_loss: 0.0102\n",
      "Epoch 79/200\n",
      "80000/80000 [==============================] - 0s 6us/step - loss: 0.0099 - val_loss: 0.0102\n",
      "Epoch 80/200\n",
      "80000/80000 [==============================] - 0s 6us/step - loss: 0.0099 - val_loss: 0.0102\n",
      "Epoch 81/200\n",
      "80000/80000 [==============================] - 0s 6us/step - loss: 0.0099 - val_loss: 0.0102\n",
      "Epoch 82/200\n",
      "80000/80000 [==============================] - 0s 6us/step - loss: 0.0099 - val_loss: 0.0102\n",
      "Epoch 83/200\n",
      "80000/80000 [==============================] - 0s 6us/step - loss: 0.0099 - val_loss: 0.0102\n",
      "Epoch 84/200\n",
      "80000/80000 [==============================] - 0s 6us/step - loss: 0.0099 - val_loss: 0.0102\n",
      "Epoch 85/200\n",
      "80000/80000 [==============================] - 0s 6us/step - loss: 0.0099 - val_loss: 0.0102\n",
      "Epoch 86/200\n",
      "80000/80000 [==============================] - 0s 6us/step - loss: 0.0099 - val_loss: 0.0102\n",
      "Epoch 87/200\n",
      "80000/80000 [==============================] - 0s 6us/step - loss: 0.0099 - val_loss: 0.0102\n",
      "Epoch 88/200\n",
      "80000/80000 [==============================] - 0s 6us/step - loss: 0.0099 - val_loss: 0.0102\n",
      "Epoch 89/200\n",
      "80000/80000 [==============================] - 0s 6us/step - loss: 0.0099 - val_loss: 0.0102\n",
      "Epoch 90/200\n",
      "80000/80000 [==============================] - 0s 6us/step - loss: 0.0099 - val_loss: 0.0102\n",
      "Epoch 91/200\n",
      "80000/80000 [==============================] - 1s 6us/step - loss: 0.0099 - val_loss: 0.0102\n",
      "Epoch 92/200\n",
      "80000/80000 [==============================] - 1s 6us/step - loss: 0.0099 - val_loss: 0.0102\n",
      "Epoch 93/200\n",
      "80000/80000 [==============================] - 1s 6us/step - loss: 0.0099 - val_loss: 0.0102\n"
     ]
    }
   ],
   "source": [
    "hist = vae.fit(x_train, x_train,\n",
    "               shuffle=True,\n",
    "               epochs=epochs,\n",
    "               batch_size=batch_size,\n",
    "               validation_data=(x_val, x_val),\n",
    "               callbacks=my_callbacks)"
   ]
  },
  {
   "cell_type": "markdown",
   "metadata": {},
   "source": [
    "# Visualization"
   ]
  },
  {
   "cell_type": "code",
   "execution_count": 23,
   "metadata": {},
   "outputs": [],
   "source": [
    "import matplotlib.pyplot as plt"
   ]
  },
  {
   "cell_type": "code",
   "execution_count": 24,
   "metadata": {},
   "outputs": [
    {
     "data": {
      "image/png": "[encoded data removed]",
      "text/plain": [
       "<Figure size 432x266.991 with 1 Axes>"
      ]
     },
     "metadata": {
      "needs_background": "light"
     },
     "output_type": "display_data"
    }
   ],
   "source": [
    "golden_size = lambda width: (width, 2. * width / (1 + np.sqrt(5)))\n",
    "\n",
    "fig, ax = plt.subplots(figsize=golden_size(6))\n",
    "\n",
    "hist_df = pd.DataFrame(hist.history)\n",
    "hist_df.plot(ax=ax)\n",
    "\n",
    "ax.set_ylabel('NELBO')\n",
    "ax.set_xlabel('# epochs')\n",
    "\n",
    "ax.set_ylim(.99*hist_df[1:].values.min(), \n",
    "            1.1*hist_df[1:].values.max())\n",
    "plt.show()"
   ]
  },
  {
   "cell_type": "code",
   "execution_count": 25,
   "metadata": {},
   "outputs": [],
   "source": [
    "predictions = vae.predict(x_test)"
   ]
  },
  {
   "cell_type": "code",
   "execution_count": 26,
   "metadata": {},
   "outputs": [
    {
     "name": "stdout",
     "output_type": "stream",
     "text": [
      "tf.Tensor(0.5001795, shape=(), dtype=float32)\n"
     ]
    }
   ],
   "source": [
    "# mse on test set\n",
    "p = vae.predict(x_train)\n",
    "print(mse(p, x_train))"
   ]
  },
  {
   "cell_type": "code",
   "execution_count": 27,
   "metadata": {},
   "outputs": [],
   "source": [
    "distr = (x_test - predictions) / x_test"
   ]
  },
  {
   "cell_type": "code",
   "execution_count": 28,
   "metadata": {},
   "outputs": [],
   "source": [
    "px_pred = [row[0] for row in predictions]\n",
    "py_pred = [row[1] for row in predictions]\n",
    "pz_pred = [row[2] for row in predictions]\n",
    "e_pred = [row[3] for row in predictions]"
   ]
  },
  {
   "cell_type": "code",
   "execution_count": 29,
   "metadata": {},
   "outputs": [],
   "source": [
    "px = [row[0] for row in x_test]\n",
    "py = [row[1] for row in x_test]\n",
    "pz = [row[2] for row in x_test]\n",
    "e = [row[3] for row in x_test]"
   ]
  },
  {
   "cell_type": "code",
   "execution_count": 30,
   "metadata": {},
   "outputs": [],
   "source": [
    "overall_distr = K.flatten(distr)\n",
    "overall_pred = K.flatten(predictions)\n",
    "overall_input = K.flatten(x_test)"
   ]
  },
  {
   "cell_type": "code",
   "execution_count": 31,
   "metadata": {},
   "outputs": [
    {
     "data": {
      "text/plain": [
       "(array([1.7000e+01, 2.9000e+01, 2.1000e+01, 2.5000e+01, 2.8000e+01,\n",
       "        2.1000e+01, 2.5000e+01, 3.2000e+01, 2.4000e+01, 3.6000e+01,\n",
       "        3.1000e+01, 4.8410e+03, 1.1920e+03, 5.5200e+02, 3.1700e+02,\n",
       "        2.5000e+02, 2.0700e+02, 1.9000e+02, 1.7200e+02, 1.6400e+02,\n",
       "        2.0400e+02, 2.6200e+02, 4.3600e+02, 1.0070e+03, 2.1054e+04,\n",
       "        3.1910e+03, 7.7900e+02, 2.6300e+02, 1.7100e+02, 1.2700e+02,\n",
       "        1.4800e+02, 1.1700e+02, 9.0000e+01, 6.9000e+01, 7.7000e+01,\n",
       "        6.3000e+01, 6.3000e+01, 5.9000e+01, 6.3000e+01, 5.6000e+01,\n",
       "        4.5000e+01, 4.9000e+01, 5.2000e+01, 4.6000e+01, 5.4000e+01,\n",
       "        5.3000e+01, 4.4000e+01, 5.2000e+01, 3.2000e+01]),\n",
       " array([-1.        , -0.95918367, -0.91836735, -0.87755102, -0.83673469,\n",
       "        -0.79591837, -0.75510204, -0.71428571, -0.67346939, -0.63265306,\n",
       "        -0.59183673, -0.55102041, -0.51020408, -0.46938776, -0.42857143,\n",
       "        -0.3877551 , -0.34693878, -0.30612245, -0.26530612, -0.2244898 ,\n",
       "        -0.18367347, -0.14285714, -0.10204082, -0.06122449, -0.02040816,\n",
       "         0.02040816,  0.06122449,  0.10204082,  0.14285714,  0.18367347,\n",
       "         0.2244898 ,  0.26530612,  0.30612245,  0.34693878,  0.3877551 ,\n",
       "         0.42857143,  0.46938776,  0.51020408,  0.55102041,  0.59183673,\n",
       "         0.63265306,  0.67346939,  0.71428571,  0.75510204,  0.79591837,\n",
       "         0.83673469,  0.87755102,  0.91836735,  0.95918367,  1.        ]),\n",
       " <a list of 49 Patch objects>)"
      ]
     },
     "execution_count": 31,
     "metadata": {},
     "output_type": "execute_result"
    },
    {
     "data": {
      "image/png": "[encoded data removed]",
      "text/plain": [
       "<Figure size 432x288 with 1 Axes>"
      ]
     },
     "metadata": {
      "needs_background": "light"
     },
     "output_type": "display_data"
    }
   ],
   "source": [
    "# overall pred vs input\n",
    "bins = np.linspace(-1, 1, 50)\n",
    "plt.hist(overall_input, bins=bins,alpha=0.5)\n",
    "plt.hist(overall_pred, bins=bins,alpha=0.5)"
   ]
  },
  {
   "cell_type": "code",
   "execution_count": 32,
   "metadata": {},
   "outputs": [
    {
     "data": {
      "text/plain": [
       "(array([   89.,   102.,   123.,   117.,   130.,   152.,   169.,   207.,\n",
       "          215.,   206.,   291.,   363.,   591.,  1197., 15006.,  1102.,\n",
       "          693.,   466.,   451.,   544.,   661.,  4503.,  1097.,   492.,\n",
       "          344.,   300.,   251.,   229.,   198.]),\n",
       " array([-2.        , -1.86206897, -1.72413793, -1.5862069 , -1.44827586,\n",
       "        -1.31034483, -1.17241379, -1.03448276, -0.89655172, -0.75862069,\n",
       "        -0.62068966, -0.48275862, -0.34482759, -0.20689655, -0.06896552,\n",
       "         0.06896552,  0.20689655,  0.34482759,  0.48275862,  0.62068966,\n",
       "         0.75862069,  0.89655172,  1.03448276,  1.17241379,  1.31034483,\n",
       "         1.44827586,  1.5862069 ,  1.72413793,  1.86206897,  2.        ]),\n",
       " <a list of 29 Patch objects>)"
      ]
     },
     "execution_count": 32,
     "metadata": {},
     "output_type": "execute_result"
    },
    {
     "data": {
      "image/png": "[encoded data removed]",
      "text/plain": [
       "<Figure size 432x288 with 1 Axes>"
      ]
     },
     "metadata": {
      "needs_background": "light"
     },
     "output_type": "display_data"
    }
   ],
   "source": [
    "# overall distr\n",
    "bins = np.linspace(-2, 2, 30)\n",
    "plt.hist(overall_distr, bins=bins)"
   ]
  },
  {
   "cell_type": "markdown",
   "metadata": {},
   "source": [
    "## Stacking output (orange) over input (blue) for px, py, pz, E"
   ]
  },
  {
   "cell_type": "code",
   "execution_count": 33,
   "metadata": {},
   "outputs": [
    {
     "data": {
      "text/plain": [
       "(array([0.000e+00, 0.000e+00, 0.000e+00, 0.000e+00, 0.000e+00, 0.000e+00,\n",
       "        0.000e+00, 0.000e+00, 0.000e+00, 0.000e+00, 0.000e+00, 0.000e+00,\n",
       "        0.000e+00, 4.000e+00, 5.000e+00, 1.100e+01, 2.000e+01, 2.900e+01,\n",
       "        3.400e+01, 7.200e+01, 7.451e+03, 6.320e+02, 3.170e+02, 2.820e+02,\n",
       "        3.930e+02, 7.500e+02, 0.000e+00, 0.000e+00, 0.000e+00, 0.000e+00,\n",
       "        0.000e+00, 0.000e+00, 0.000e+00, 0.000e+00, 0.000e+00, 0.000e+00,\n",
       "        0.000e+00, 0.000e+00, 0.000e+00]),\n",
       " array([-0.2       , -0.18974359, -0.17948718, -0.16923077, -0.15897436,\n",
       "        -0.14871795, -0.13846154, -0.12820513, -0.11794872, -0.10769231,\n",
       "        -0.0974359 , -0.08717949, -0.07692308, -0.06666667, -0.05641026,\n",
       "        -0.04615385, -0.03589744, -0.02564103, -0.01538462, -0.00512821,\n",
       "         0.00512821,  0.01538462,  0.02564103,  0.03589744,  0.04615385,\n",
       "         0.05641026,  0.06666667,  0.07692308,  0.08717949,  0.0974359 ,\n",
       "         0.10769231,  0.11794872,  0.12820513,  0.13846154,  0.14871795,\n",
       "         0.15897436,  0.16923077,  0.17948718,  0.18974359,  0.2       ]),\n",
       " <a list of 39 Patch objects>)"
      ]
     },
     "execution_count": 33,
     "metadata": {},
     "output_type": "execute_result"
    },
    {
     "data": {
      "image/png": "[encoded data removed]",
      "text/plain": [
       "<Figure size 432x288 with 1 Axes>"
      ]
     },
     "metadata": {
      "needs_background": "light"
     },
     "output_type": "display_data"
    }
   ],
   "source": [
    "# px\n",
    "bins = np.linspace(-0.2, 0.2, 40)\n",
    "plt.hist(px, bins=bins,alpha=0.5)\n",
    "plt.hist(px_pred, bins=bins,alpha=0.5)"
   ]
  },
  {
   "cell_type": "code",
   "execution_count": 34,
   "metadata": {},
   "outputs": [
    {
     "name": "stdout",
     "output_type": "stream",
     "text": [
      "tf.Tensor(0.9862711, shape=(), dtype=float32)\n"
     ]
    }
   ],
   "source": [
    "print(mse(px,px_pred))"
   ]
  },
  {
   "cell_type": "code",
   "execution_count": 35,
   "metadata": {},
   "outputs": [
    {
     "data": {
      "text/plain": [
       "(array([0.000e+00, 0.000e+00, 0.000e+00, 0.000e+00, 0.000e+00, 0.000e+00,\n",
       "        0.000e+00, 0.000e+00, 0.000e+00, 0.000e+00, 0.000e+00, 0.000e+00,\n",
       "        0.000e+00, 1.000e+00, 3.000e+00, 1.400e+01, 5.300e+01, 1.130e+02,\n",
       "        1.980e+02, 7.630e+03, 1.366e+03, 4.880e+02, 1.140e+02, 2.000e+01,\n",
       "        0.000e+00, 0.000e+00, 0.000e+00, 0.000e+00, 0.000e+00, 0.000e+00,\n",
       "        0.000e+00, 0.000e+00, 0.000e+00, 0.000e+00, 0.000e+00, 0.000e+00,\n",
       "        0.000e+00, 0.000e+00, 0.000e+00]),\n",
       " array([-0.2       , -0.18974359, -0.17948718, -0.16923077, -0.15897436,\n",
       "        -0.14871795, -0.13846154, -0.12820513, -0.11794872, -0.10769231,\n",
       "        -0.0974359 , -0.08717949, -0.07692308, -0.06666667, -0.05641026,\n",
       "        -0.04615385, -0.03589744, -0.02564103, -0.01538462, -0.00512821,\n",
       "         0.00512821,  0.01538462,  0.02564103,  0.03589744,  0.04615385,\n",
       "         0.05641026,  0.06666667,  0.07692308,  0.08717949,  0.0974359 ,\n",
       "         0.10769231,  0.11794872,  0.12820513,  0.13846154,  0.14871795,\n",
       "         0.15897436,  0.16923077,  0.17948718,  0.18974359,  0.2       ]),\n",
       " <a list of 39 Patch objects>)"
      ]
     },
     "execution_count": 35,
     "metadata": {},
     "output_type": "execute_result"
    },
    {
     "data": {
      "image/png": "[encoded data removed]",
      "text/plain": [
       "<Figure size 432x288 with 1 Axes>"
      ]
     },
     "metadata": {
      "needs_background": "light"
     },
     "output_type": "display_data"
    }
   ],
   "source": [
    "# py\n",
    "bins = np.linspace(-0.2, 0.2, 40)\n",
    "plt.hist(py, bins=bins,alpha=0.5)\n",
    "plt.hist(py_pred, bins=bins,alpha=0.5)"
   ]
  },
  {
   "cell_type": "code",
   "execution_count": 36,
   "metadata": {},
   "outputs": [
    {
     "name": "stdout",
     "output_type": "stream",
     "text": [
      "tf.Tensor(1.0404869, shape=(), dtype=float32)\n"
     ]
    }
   ],
   "source": [
    "print(mse(py,py_pred))"
   ]
  },
  {
   "cell_type": "code",
   "execution_count": 37,
   "metadata": {},
   "outputs": [
    {
     "data": {
      "text/plain": [
       "(array([  18.,   27.,   24.,   20.,   24.,   40.,   35.,   35.,   54.,\n",
       "          55.,   60.,   49.,   76.,   79.,  117.,  148.,  260.,  381.,\n",
       "         730., 2811., 1074.,  546.,  278.,  170.,  135.,   88.,   89.,\n",
       "          52.,   82.,   58.,   48.,   36.,   43.,   24.,   25.,   25.,\n",
       "          34.,   20.,   32.]),\n",
       " array([-0.5       , -0.47435897, -0.44871795, -0.42307692, -0.3974359 ,\n",
       "        -0.37179487, -0.34615385, -0.32051282, -0.29487179, -0.26923077,\n",
       "        -0.24358974, -0.21794872, -0.19230769, -0.16666667, -0.14102564,\n",
       "        -0.11538462, -0.08974359, -0.06410256, -0.03846154, -0.01282051,\n",
       "         0.01282051,  0.03846154,  0.06410256,  0.08974359,  0.11538462,\n",
       "         0.14102564,  0.16666667,  0.19230769,  0.21794872,  0.24358974,\n",
       "         0.26923077,  0.29487179,  0.32051282,  0.34615385,  0.37179487,\n",
       "         0.3974359 ,  0.42307692,  0.44871795,  0.47435897,  0.5       ]),\n",
       " <a list of 39 Patch objects>)"
      ]
     },
     "execution_count": 37,
     "metadata": {},
     "output_type": "execute_result"
    },
    {
     "data": {
      "image/png": "[encoded data removed]",
      "text/plain": [
       "<Figure size 432x288 with 1 Axes>"
      ]
     },
     "metadata": {
      "needs_background": "light"
     },
     "output_type": "display_data"
    }
   ],
   "source": [
    "# pz\n",
    "bins = np.linspace(-0.5, 0.5, 40)\n",
    "plt.hist(pz, bins=bins,alpha=0.5)\n",
    "plt.hist(pz_pred, bins=bins,alpha=0.5)"
   ]
  },
  {
   "cell_type": "code",
   "execution_count": 38,
   "metadata": {},
   "outputs": [
    {
     "name": "stdout",
     "output_type": "stream",
     "text": [
      "tf.Tensor(0.0002751133, shape=(), dtype=float32)\n"
     ]
    }
   ],
   "source": [
    "print(mse(pz,pz_pred))"
   ]
  },
  {
   "cell_type": "code",
   "execution_count": 39,
   "metadata": {},
   "outputs": [
    {
     "data": {
      "text/plain": [
       "(array([   0.,    0., 3479., 1442.,  745.,  411.,  290.,  213.,  156.,\n",
       "         112.,  113.,   94.,   77.,   53.,   69.,   29.,   51.,   41.,\n",
       "          46.,   42.,   45.,   29.,   38.,   30.,   17.,   18.,   21.,\n",
       "          28.,   24.,   21.,   22.,   22.,   17.,   17.,   18.,   18.,\n",
       "          19.,   26.,   22.]),\n",
       " array([-0.6       , -0.57692308, -0.55384615, -0.53076923, -0.50769231,\n",
       "        -0.48461538, -0.46153846, -0.43846154, -0.41538462, -0.39230769,\n",
       "        -0.36923077, -0.34615385, -0.32307692, -0.3       , -0.27692308,\n",
       "        -0.25384615, -0.23076923, -0.20769231, -0.18461538, -0.16153846,\n",
       "        -0.13846154, -0.11538462, -0.09230769, -0.06923077, -0.04615385,\n",
       "        -0.02307692,  0.        ,  0.02307692,  0.04615385,  0.06923077,\n",
       "         0.09230769,  0.11538462,  0.13846154,  0.16153846,  0.18461538,\n",
       "         0.20769231,  0.23076923,  0.25384615,  0.27692308,  0.3       ]),\n",
       " <a list of 39 Patch objects>)"
      ]
     },
     "execution_count": 39,
     "metadata": {},
     "output_type": "execute_result"
    },
    {
     "data": {
      "image/png": "[encoded data removed]",
      "text/plain": [
       "<Figure size 432x288 with 1 Axes>"
      ]
     },
     "metadata": {
      "needs_background": "light"
     },
     "output_type": "display_data"
    }
   ],
   "source": [
    "# E\n",
    "bins = np.linspace(-0.6,0.3, 40)\n",
    "plt.hist(e, bins=bins,alpha=0.5)\n",
    "plt.hist(e_pred, bins=bins,alpha=0.5)"
   ]
  },
  {
   "cell_type": "code",
   "execution_count": 40,
   "metadata": {},
   "outputs": [
    {
     "name": "stdout",
     "output_type": "stream",
     "text": [
      "tf.Tensor(7.797056e-05, shape=(), dtype=float32)\n"
     ]
    }
   ],
   "source": [
    "print(mse(e,e_pred))"
   ]
  },
  {
   "cell_type": "code",
   "execution_count": 41,
   "metadata": {},
   "outputs": [],
   "source": [
    "d_px = [row[0] for row in distr]\n",
    "d_py = [row[1] for row in distr]\n",
    "d_pz = [row[2] for row in distr]\n",
    "d_e = [row[3] for row in distr]"
   ]
  },
  {
   "cell_type": "markdown",
   "metadata": {},
   "source": [
    "## Distribution of (input - output) / input"
   ]
  },
  {
   "cell_type": "code",
   "execution_count": 42,
   "metadata": {},
   "outputs": [],
   "source": [
    "bins = np.linspace(-2, 2, 30)"
   ]
  },
  {
   "cell_type": "code",
   "execution_count": 43,
   "metadata": {},
   "outputs": [
    {
     "data": {
      "text/plain": [
       "(array([  28.,   32.,   36.,   41.,   45.,   36.,   41.,   53.,   41.,\n",
       "          42.,   50.,   77.,   51.,   58.,   65.,   61.,   80.,   90.,\n",
       "         122.,  179.,  246., 1723.,  510.,  190.,  125.,   99.,  104.,\n",
       "          84.,   68.]),\n",
       " array([-2.        , -1.86206897, -1.72413793, -1.5862069 , -1.44827586,\n",
       "        -1.31034483, -1.17241379, -1.03448276, -0.89655172, -0.75862069,\n",
       "        -0.62068966, -0.48275862, -0.34482759, -0.20689655, -0.06896552,\n",
       "         0.06896552,  0.20689655,  0.34482759,  0.48275862,  0.62068966,\n",
       "         0.75862069,  0.89655172,  1.03448276,  1.17241379,  1.31034483,\n",
       "         1.44827586,  1.5862069 ,  1.72413793,  1.86206897,  2.        ]),\n",
       " <a list of 29 Patch objects>)"
      ]
     },
     "execution_count": 43,
     "metadata": {},
     "output_type": "execute_result"
    },
    {
     "data": {
      "image/png": "[encoded data removed]",
      "text/plain": [
       "<Figure size 432x288 with 1 Axes>"
      ]
     },
     "metadata": {
      "needs_background": "light"
     },
     "output_type": "display_data"
    }
   ],
   "source": [
    "plt.hist(d_px, bins=bins)"
   ]
  },
  {
   "cell_type": "code",
   "execution_count": 44,
   "metadata": {},
   "outputs": [
    {
     "data": {
      "text/plain": [
       "(array([  40.,   37.,   50.,   49.,   50.,   65.,   69.,   68.,   81.,\n",
       "          86.,   87.,   79.,  100.,  117.,  103.,  137.,  164.,  160.,\n",
       "         181.,  226.,  329., 2698.,  545.,  272.,  190.,  178.,  129.,\n",
       "         128.,  116.]),\n",
       " array([-2.        , -1.86206897, -1.72413793, -1.5862069 , -1.44827586,\n",
       "        -1.31034483, -1.17241379, -1.03448276, -0.89655172, -0.75862069,\n",
       "        -0.62068966, -0.48275862, -0.34482759, -0.20689655, -0.06896552,\n",
       "         0.06896552,  0.20689655,  0.34482759,  0.48275862,  0.62068966,\n",
       "         0.75862069,  0.89655172,  1.03448276,  1.17241379,  1.31034483,\n",
       "         1.44827586,  1.5862069 ,  1.72413793,  1.86206897,  2.        ]),\n",
       " <a list of 29 Patch objects>)"
      ]
     },
     "execution_count": 44,
     "metadata": {},
     "output_type": "execute_result"
    },
    {
     "data": {
      "image/png": "[encoded data removed]",
      "text/plain": [
       "<Figure size 432x288 with 1 Axes>"
      ]
     },
     "metadata": {
      "needs_background": "light"
     },
     "output_type": "display_data"
    }
   ],
   "source": [
    "plt.hist(d_py, bins=bins)"
   ]
  },
  {
   "cell_type": "code",
   "execution_count": 45,
   "metadata": {},
   "outputs": [
    {
     "data": {
      "text/plain": [
       "(array([  21.,   33.,   36.,   27.,   35.,   51.,   57.,   84.,   92.,\n",
       "          73.,  153.,  197.,  424.,  925., 5046.,  862.,  439.,  215.,\n",
       "         145.,  137.,   85.,   81.,   42.,   30.,   26.,   23.,   18.,\n",
       "          16.,   13.]),\n",
       " array([-2.        , -1.86206897, -1.72413793, -1.5862069 , -1.44827586,\n",
       "        -1.31034483, -1.17241379, -1.03448276, -0.89655172, -0.75862069,\n",
       "        -0.62068966, -0.48275862, -0.34482759, -0.20689655, -0.06896552,\n",
       "         0.06896552,  0.20689655,  0.34482759,  0.48275862,  0.62068966,\n",
       "         0.75862069,  0.89655172,  1.03448276,  1.17241379,  1.31034483,\n",
       "         1.44827586,  1.5862069 ,  1.72413793,  1.86206897,  2.        ]),\n",
       " <a list of 29 Patch objects>)"
      ]
     },
     "execution_count": 45,
     "metadata": {},
     "output_type": "execute_result"
    },
    {
     "data": {
      "image/png": "[encoded data removed]",
      "text/plain": [
       "<Figure size 432x288 with 1 Axes>"
      ]
     },
     "metadata": {
      "needs_background": "light"
     },
     "output_type": "display_data"
    }
   ],
   "source": [
    "plt.hist(d_pz, bins=bins)"
   ]
  },
  {
   "cell_type": "code",
   "execution_count": 46,
   "metadata": {},
   "outputs": [
    {
     "data": {
      "text/plain": [
       "(array([0.000e+00, 0.000e+00, 1.000e+00, 0.000e+00, 0.000e+00, 0.000e+00,\n",
       "        2.000e+00, 2.000e+00, 1.000e+00, 5.000e+00, 1.000e+00, 1.000e+01,\n",
       "        1.600e+01, 9.700e+01, 9.792e+03, 4.200e+01, 1.000e+01, 1.000e+00,\n",
       "        3.000e+00, 2.000e+00, 1.000e+00, 1.000e+00, 0.000e+00, 0.000e+00,\n",
       "        3.000e+00, 0.000e+00, 0.000e+00, 1.000e+00, 1.000e+00]),\n",
       " array([-2.        , -1.86206897, -1.72413793, -1.5862069 , -1.44827586,\n",
       "        -1.31034483, -1.17241379, -1.03448276, -0.89655172, -0.75862069,\n",
       "        -0.62068966, -0.48275862, -0.34482759, -0.20689655, -0.06896552,\n",
       "         0.06896552,  0.20689655,  0.34482759,  0.48275862,  0.62068966,\n",
       "         0.75862069,  0.89655172,  1.03448276,  1.17241379,  1.31034483,\n",
       "         1.44827586,  1.5862069 ,  1.72413793,  1.86206897,  2.        ]),\n",
       " <a list of 29 Patch objects>)"
      ]
     },
     "execution_count": 46,
     "metadata": {},
     "output_type": "execute_result"
    },
    {
     "data": {
      "image/png": "[encoded data removed]",
      "text/plain": [
       "<Figure size 432x288 with 1 Axes>"
      ]
     },
     "metadata": {
      "needs_background": "light"
     },
     "output_type": "display_data"
    }
   ],
   "source": [
    "plt.hist(d_e, bins=bins)"
   ]
  },
  {
   "cell_type": "markdown",
   "metadata": {},
   "source": [
    "# Anomaly Detection"
   ]
  },
  {
   "cell_type": "code",
   "execution_count": 47,
   "metadata": {},
   "outputs": [],
   "source": [
    "from sklearn.metrics import mean_squared_error"
   ]
  },
  {
   "cell_type": "code",
   "execution_count": 48,
   "metadata": {},
   "outputs": [],
   "source": [
    "all_data = np.concatenate((x_train, x_val, x_test))\n",
    "all_pred = vae.predict(all_data)"
   ]
  },
  {
   "cell_type": "code",
   "execution_count": 49,
   "metadata": {},
   "outputs": [],
   "source": [
    "# get the mse of all predictions\n",
    "errors = (np.square(all_data - all_pred)).mean(axis=1)"
   ]
  },
  {
   "cell_type": "code",
   "execution_count": 50,
   "metadata": {},
   "outputs": [],
   "source": [
    "# all the inputs that had high mse\n",
    "data_df = loaded_data.copy()\n",
    "data_df.columns = ['px','py','pz','e','pt','eta','phi','mass']\n",
    "data_df[\"mse\"] = errors"
   ]
  },
  {
   "cell_type": "code",
   "execution_count": 51,
   "metadata": {},
   "outputs": [],
   "source": [
    "mass_mu = data_df.mass.mean()\n",
    "mass_sd = data_df.mass.std()"
   ]
  },
  {
   "cell_type": "code",
   "execution_count": 52,
   "metadata": {},
   "outputs": [
    {
     "data": {
      "text/html": [
       "<div>\n",
       "<style scoped>\n",
       "    .dataframe tbody tr th:only-of-type {\n",
       "        vertical-align: middle;\n",
       "    }\n",
       "\n",
       "    .dataframe tbody tr th {\n",
       "        vertical-align: top;\n",
       "    }\n",
       "\n",
       "    .dataframe thead th {\n",
       "        text-align: right;\n",
       "    }\n",
       "</style>\n",
       "<table border=\"1\" class=\"dataframe\">\n",
       "  <thead>\n",
       "    <tr style=\"text-align: right;\">\n",
       "      <th></th>\n",
       "      <th>px</th>\n",
       "      <th>py</th>\n",
       "      <th>pz</th>\n",
       "      <th>e</th>\n",
       "      <th>pt</th>\n",
       "      <th>eta</th>\n",
       "      <th>phi</th>\n",
       "      <th>mass</th>\n",
       "      <th>mse</th>\n",
       "      <th>outlier</th>\n",
       "    </tr>\n",
       "  </thead>\n",
       "  <tbody>\n",
       "    <tr>\n",
       "      <th>37</th>\n",
       "      <td>-1227.757625</td>\n",
       "      <td>701.476682</td>\n",
       "      <td>-624.614204</td>\n",
       "      <td>1559.858883</td>\n",
       "      <td>1414.022037</td>\n",
       "      <td>-0.428495</td>\n",
       "      <td>2.622507</td>\n",
       "      <td>208.706758</td>\n",
       "      <td>3.391894</td>\n",
       "      <td>1</td>\n",
       "    </tr>\n",
       "    <tr>\n",
       "      <th>80</th>\n",
       "      <td>1513.371307</td>\n",
       "      <td>69.967174</td>\n",
       "      <td>511.399425</td>\n",
       "      <td>1608.827403</td>\n",
       "      <td>1514.987828</td>\n",
       "      <td>0.331457</td>\n",
       "      <td>0.046200</td>\n",
       "      <td>177.786727</td>\n",
       "      <td>3.681877</td>\n",
       "      <td>1</td>\n",
       "    </tr>\n",
       "    <tr>\n",
       "      <th>108</th>\n",
       "      <td>-1554.624191</td>\n",
       "      <td>670.370261</td>\n",
       "      <td>2177.878633</td>\n",
       "      <td>2758.813680</td>\n",
       "      <td>1693.001082</td>\n",
       "      <td>1.070132</td>\n",
       "      <td>2.734473</td>\n",
       "      <td>40.557583</td>\n",
       "      <td>4.651740</td>\n",
       "      <td>1</td>\n",
       "    </tr>\n",
       "    <tr>\n",
       "      <th>109</th>\n",
       "      <td>1480.205882</td>\n",
       "      <td>-604.194504</td>\n",
       "      <td>-102.914403</td>\n",
       "      <td>1602.931990</td>\n",
       "      <td>1598.768417</td>\n",
       "      <td>-0.064327</td>\n",
       "      <td>-0.387541</td>\n",
       "      <td>52.336773</td>\n",
       "      <td>4.107152</td>\n",
       "      <td>1</td>\n",
       "    </tr>\n",
       "    <tr>\n",
       "      <th>137</th>\n",
       "      <td>-1404.731034</td>\n",
       "      <td>-45.989185</td>\n",
       "      <td>-2550.450834</td>\n",
       "      <td>2913.494307</td>\n",
       "      <td>1405.483647</td>\n",
       "      <td>-1.357530</td>\n",
       "      <td>-3.108866</td>\n",
       "      <td>90.913915</td>\n",
       "      <td>3.344746</td>\n",
       "      <td>1</td>\n",
       "    </tr>\n",
       "    <tr>\n",
       "      <th>...</th>\n",
       "      <td>...</td>\n",
       "      <td>...</td>\n",
       "      <td>...</td>\n",
       "      <td>...</td>\n",
       "      <td>...</td>\n",
       "      <td>...</td>\n",
       "      <td>...</td>\n",
       "      <td>...</td>\n",
       "      <td>...</td>\n",
       "      <td>...</td>\n",
       "    </tr>\n",
       "    <tr>\n",
       "      <th>99855</th>\n",
       "      <td>-777.169107</td>\n",
       "      <td>1418.463285</td>\n",
       "      <td>356.547666</td>\n",
       "      <td>1664.181498</td>\n",
       "      <td>1617.414576</td>\n",
       "      <td>0.218696</td>\n",
       "      <td>2.072022</td>\n",
       "      <td>162.308066</td>\n",
       "      <td>4.370640</td>\n",
       "      <td>1</td>\n",
       "    </tr>\n",
       "    <tr>\n",
       "      <th>99856</th>\n",
       "      <td>302.010112</td>\n",
       "      <td>-1534.409373</td>\n",
       "      <td>-617.903648</td>\n",
       "      <td>1694.839141</td>\n",
       "      <td>1563.848532</td>\n",
       "      <td>-0.385498</td>\n",
       "      <td>-1.376456</td>\n",
       "      <td>212.255889</td>\n",
       "      <td>4.064598</td>\n",
       "      <td>1</td>\n",
       "    </tr>\n",
       "    <tr>\n",
       "      <th>99925</th>\n",
       "      <td>1404.956813</td>\n",
       "      <td>53.956063</td>\n",
       "      <td>1673.722563</td>\n",
       "      <td>2235.011888</td>\n",
       "      <td>1405.992497</td>\n",
       "      <td>1.009826</td>\n",
       "      <td>0.038385</td>\n",
       "      <td>465.957100</td>\n",
       "      <td>3.238386</td>\n",
       "      <td>1</td>\n",
       "    </tr>\n",
       "    <tr>\n",
       "      <th>99972</th>\n",
       "      <td>-420.107887</td>\n",
       "      <td>-1994.622523</td>\n",
       "      <td>2007.840049</td>\n",
       "      <td>2863.571885</td>\n",
       "      <td>2038.384077</td>\n",
       "      <td>0.870738</td>\n",
       "      <td>-1.778382</td>\n",
       "      <td>116.673192</td>\n",
       "      <td>7.013024</td>\n",
       "      <td>1</td>\n",
       "    </tr>\n",
       "    <tr>\n",
       "      <th>99996</th>\n",
       "      <td>-872.915359</td>\n",
       "      <td>2163.768770</td>\n",
       "      <td>1624.944659</td>\n",
       "      <td>2844.911643</td>\n",
       "      <td>2333.211630</td>\n",
       "      <td>0.649749</td>\n",
       "      <td>1.954251</td>\n",
       "      <td>95.919753</td>\n",
       "      <td>8.986458</td>\n",
       "      <td>1</td>\n",
       "    </tr>\n",
       "  </tbody>\n",
       "</table>\n",
       "<p>5000 rows × 10 columns</p>\n",
       "</div>"
      ],
      "text/plain": [
       "                px           py           pz            e           pt  \\\n",
       "37    -1227.757625   701.476682  -624.614204  1559.858883  1414.022037   \n",
       "80     1513.371307    69.967174   511.399425  1608.827403  1514.987828   \n",
       "108   -1554.624191   670.370261  2177.878633  2758.813680  1693.001082   \n",
       "109    1480.205882  -604.194504  -102.914403  1602.931990  1598.768417   \n",
       "137   -1404.731034   -45.989185 -2550.450834  2913.494307  1405.483647   \n",
       "...            ...          ...          ...          ...          ...   \n",
       "99855  -777.169107  1418.463285   356.547666  1664.181498  1617.414576   \n",
       "99856   302.010112 -1534.409373  -617.903648  1694.839141  1563.848532   \n",
       "99925  1404.956813    53.956063  1673.722563  2235.011888  1405.992497   \n",
       "99972  -420.107887 -1994.622523  2007.840049  2863.571885  2038.384077   \n",
       "99996  -872.915359  2163.768770  1624.944659  2844.911643  2333.211630   \n",
       "\n",
       "            eta       phi        mass       mse  outlier  \n",
       "37    -0.428495  2.622507  208.706758  3.391894        1  \n",
       "80     0.331457  0.046200  177.786727  3.681877        1  \n",
       "108    1.070132  2.734473   40.557583  4.651740        1  \n",
       "109   -0.064327 -0.387541   52.336773  4.107152        1  \n",
       "137   -1.357530 -3.108866   90.913915  3.344746        1  \n",
       "...         ...       ...         ...       ...      ...  \n",
       "99855  0.218696  2.072022  162.308066  4.370640        1  \n",
       "99856 -0.385498 -1.376456  212.255889  4.064598        1  \n",
       "99925  1.009826  0.038385  465.957100  3.238386        1  \n",
       "99972  0.870738 -1.778382  116.673192  7.013024        1  \n",
       "99996  0.649749  1.954251   95.919753  8.986458        1  \n",
       "\n",
       "[5000 rows x 10 columns]"
      ]
     },
     "execution_count": 52,
     "metadata": {},
     "output_type": "execute_result"
    }
   ],
   "source": [
    "cut = 0.95\n",
    "data_df[\"outlier\"] = 0\n",
    "# define the outliers by a cut on mse error\n",
    "mse_thresh = np.quantile(errors, cut)\n",
    "data_df.loc[data_df[\"mse\"] > mse_thresh, \"outlier\"] = 1\n",
    "data_df.loc[data_df.outlier == 1]"
   ]
  },
  {
   "cell_type": "code",
   "execution_count": 54,
   "metadata": {},
   "outputs": [
    {
     "data": {
      "text/plain": [
       "array([[[0., 0., 0., 0.],\n",
       "        [0., 0., 0., 0.],\n",
       "        [0., 0., 0., 0.],\n",
       "        ...,\n",
       "        [0., 0., 0., 0.],\n",
       "        [0., 0., 0., 0.],\n",
       "        [0., 0., 0., 0.]],\n",
       "\n",
       "       [[0., 0., 0., 0.],\n",
       "        [0., 0., 0., 0.],\n",
       "        [0., 0., 0., 0.],\n",
       "        ...,\n",
       "        [0., 0., 0., 0.],\n",
       "        [0., 0., 0., 0.],\n",
       "        [0., 0., 0., 0.]],\n",
       "\n",
       "       [[0., 0., 0., 0.],\n",
       "        [0., 0., 0., 0.],\n",
       "        [0., 0., 0., 0.],\n",
       "        ...,\n",
       "        [0., 0., 0., 0.],\n",
       "        [0., 0., 0., 0.],\n",
       "        [0., 0., 0., 0.]],\n",
       "\n",
       "       ...,\n",
       "\n",
       "       [[0., 0., 0., 0.],\n",
       "        [0., 0., 0., 0.],\n",
       "        [0., 0., 0., 0.],\n",
       "        ...,\n",
       "        [0., 0., 0., 0.],\n",
       "        [0., 0., 0., 0.],\n",
       "        [0., 0., 0., 0.]],\n",
       "\n",
       "       [[0., 0., 0., 0.],\n",
       "        [0., 0., 0., 0.],\n",
       "        [0., 0., 0., 0.],\n",
       "        ...,\n",
       "        [0., 0., 0., 0.],\n",
       "        [0., 0., 0., 0.],\n",
       "        [0., 0., 0., 0.]],\n",
       "\n",
       "       [[0., 0., 0., 0.],\n",
       "        [0., 0., 0., 0.],\n",
       "        [0., 0., 0., 0.],\n",
       "        ...,\n",
       "        [0., 0., 0., 0.],\n",
       "        [0., 0., 0., 0.],\n",
       "        [0., 0., 0., 0.]]])"
      ]
     },
     "execution_count": 54,
     "metadata": {},
     "output_type": "execute_result"
    }
   ],
   "source": [
    "np.zeros((total_size,100,4))"
   ]
  }
 ],
 "metadata": {
  "kernelspec": {
   "display_name": "Python 3",
   "language": "python",
   "name": "python3"
  },
  "language_info": {
   "codemirror_mode": {
    "name": "ipython",
    "version": 3
   },
   "file_extension": ".py",
   "mimetype": "text/x-python",
   "name": "python",
   "nbconvert_exporter": "python",
   "pygments_lexer": "ipython3",
   "version": "3.7.6"
  }
 },
 "nbformat": 4,
 "nbformat_minor": 4
}
