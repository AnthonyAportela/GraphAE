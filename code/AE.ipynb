{
 "cells": [
  {
   "cell_type": "code",
   "execution_count": 1,
   "metadata": {},
   "outputs": [],
   "source": [
    "import pandas as pd\n",
    "import numpy as np\n",
    "from pyjet import cluster,DTYPE_PTEPM\n",
    "from sklearn import preprocessing\n",
    "from scipy.stats import iqr\n",
    "import tensorflow as tf\n",
    "import math"
   ]
  },
  {
   "cell_type": "markdown",
   "metadata": {},
   "source": [
    "# Pre processing"
   ]
  },
  {
   "cell_type": "code",
   "execution_count": 2,
   "metadata": {},
   "outputs": [],
   "source": [
    "path = '/anomalyvol/data/jet_ver/bb1_ae_input.h5'"
   ]
  },
  {
   "cell_type": "code",
   "execution_count": 3,
   "metadata": {},
   "outputs": [],
   "source": [
    "chunk_size = 100000\n",
    "total_size = 1000000 # 1 mil max\n",
    "\n",
    "def generator(path, chunk_size=10000,total_size=1000000):\n",
    "    i = 0\n",
    "    \n",
    "    while True:\n",
    "        yield pd.read_hdf(path,start=i*chunk_size, stop=(i+1)*chunk_size)\n",
    "        \n",
    "        i+=1\n",
    "        if (i+1)*chunk_size > total_size:\n",
    "            i=0\n",
    "\n",
    "gen = generator(path, chunk_size, total_size)"
   ]
  },
  {
   "cell_type": "code",
   "execution_count": 4,
   "metadata": {},
   "outputs": [],
   "source": [
    "data = next(gen)\n",
    "\n",
    "for i in range(total_size // chunk_size - 1):\n",
    "    data.append(next(gen))"
   ]
  },
  {
   "cell_type": "code",
   "execution_count": 67,
   "metadata": {},
   "outputs": [],
   "source": [
    "# loaded_data = data\n",
    "data = loaded_data"
   ]
  },
  {
   "cell_type": "code",
   "execution_count": 68,
   "metadata": {},
   "outputs": [
    {
     "data": {
      "text/html": [
       "<div>\n",
       "<style scoped>\n",
       "    .dataframe tbody tr th:only-of-type {\n",
       "        vertical-align: middle;\n",
       "    }\n",
       "\n",
       "    .dataframe tbody tr th {\n",
       "        vertical-align: top;\n",
       "    }\n",
       "\n",
       "    .dataframe thead th {\n",
       "        text-align: right;\n",
       "    }\n",
       "</style>\n",
       "<table border=\"1\" class=\"dataframe\">\n",
       "  <thead>\n",
       "    <tr style=\"text-align: right;\">\n",
       "      <th></th>\n",
       "      <th>px</th>\n",
       "      <th>py</th>\n",
       "      <th>pz</th>\n",
       "      <th>e</th>\n",
       "      <th>pt</th>\n",
       "      <th>eta</th>\n",
       "      <th>phi</th>\n",
       "      <th>mass</th>\n",
       "      <th>event</th>\n",
       "    </tr>\n",
       "  </thead>\n",
       "  <tbody>\n",
       "    <tr>\n",
       "      <th>0</th>\n",
       "      <td>1200.201700</td>\n",
       "      <td>714.940197</td>\n",
       "      <td>-1176.756007</td>\n",
       "      <td>1834.490410</td>\n",
       "      <td>1397.005228</td>\n",
       "      <td>-0.765391</td>\n",
       "      <td>0.537239</td>\n",
       "      <td>1.702256e+02</td>\n",
       "      <td>0</td>\n",
       "    </tr>\n",
       "    <tr>\n",
       "      <th>1</th>\n",
       "      <td>-1240.890636</td>\n",
       "      <td>-526.559303</td>\n",
       "      <td>306.056940</td>\n",
       "      <td>1446.853969</td>\n",
       "      <td>1347.988973</td>\n",
       "      <td>0.225140</td>\n",
       "      <td>-2.740281</td>\n",
       "      <td>4.273655e+02</td>\n",
       "      <td>0</td>\n",
       "    </tr>\n",
       "    <tr>\n",
       "      <th>2</th>\n",
       "      <td>20.740248</td>\n",
       "      <td>-187.983284</td>\n",
       "      <td>54.143463</td>\n",
       "      <td>212.832236</td>\n",
       "      <td>189.123962</td>\n",
       "      <td>0.282513</td>\n",
       "      <td>-1.460910</td>\n",
       "      <td>8.122914e+01</td>\n",
       "      <td>0</td>\n",
       "    </tr>\n",
       "    <tr>\n",
       "      <th>3</th>\n",
       "      <td>-52.327745</td>\n",
       "      <td>5.439510</td>\n",
       "      <td>-379.791004</td>\n",
       "      <td>383.564394</td>\n",
       "      <td>52.609706</td>\n",
       "      <td>-2.674631</td>\n",
       "      <td>3.038014</td>\n",
       "      <td>1.061396e+01</td>\n",
       "      <td>0</td>\n",
       "    </tr>\n",
       "    <tr>\n",
       "      <th>4</th>\n",
       "      <td>11.816352</td>\n",
       "      <td>-4.110155</td>\n",
       "      <td>3.456675</td>\n",
       "      <td>13.912894</td>\n",
       "      <td>12.510777</td>\n",
       "      <td>0.272896</td>\n",
       "      <td>-0.334746</td>\n",
       "      <td>5.010037e+00</td>\n",
       "      <td>0</td>\n",
       "    </tr>\n",
       "    <tr>\n",
       "      <th>...</th>\n",
       "      <td>...</td>\n",
       "      <td>...</td>\n",
       "      <td>...</td>\n",
       "      <td>...</td>\n",
       "      <td>...</td>\n",
       "      <td>...</td>\n",
       "      <td>...</td>\n",
       "      <td>...</td>\n",
       "      <td>...</td>\n",
       "    </tr>\n",
       "    <tr>\n",
       "      <th>99995</th>\n",
       "      <td>0.459043</td>\n",
       "      <td>0.283232</td>\n",
       "      <td>-4.613422</td>\n",
       "      <td>4.644847</td>\n",
       "      <td>0.539389</td>\n",
       "      <td>-2.842835</td>\n",
       "      <td>0.552829</td>\n",
       "      <td>4.280033e-08</td>\n",
       "      <td>7762</td>\n",
       "    </tr>\n",
       "    <tr>\n",
       "      <th>99996</th>\n",
       "      <td>-872.915359</td>\n",
       "      <td>2163.768770</td>\n",
       "      <td>1624.944659</td>\n",
       "      <td>2844.911643</td>\n",
       "      <td>2333.211630</td>\n",
       "      <td>0.649749</td>\n",
       "      <td>1.954251</td>\n",
       "      <td>9.591975e+01</td>\n",
       "      <td>7763</td>\n",
       "    </tr>\n",
       "    <tr>\n",
       "      <th>99997</th>\n",
       "      <td>224.008143</td>\n",
       "      <td>-1080.661553</td>\n",
       "      <td>277.581281</td>\n",
       "      <td>1153.309031</td>\n",
       "      <td>1103.634468</td>\n",
       "      <td>0.248937</td>\n",
       "      <td>-1.366403</td>\n",
       "      <td>1.872467e+02</td>\n",
       "      <td>7763</td>\n",
       "    </tr>\n",
       "    <tr>\n",
       "      <th>99998</th>\n",
       "      <td>818.611150</td>\n",
       "      <td>-567.764479</td>\n",
       "      <td>1043.302421</td>\n",
       "      <td>1455.156678</td>\n",
       "      <td>996.233265</td>\n",
       "      <td>0.914391</td>\n",
       "      <td>-0.606398</td>\n",
       "      <td>1.911028e+02</td>\n",
       "      <td>7763</td>\n",
       "    </tr>\n",
       "    <tr>\n",
       "      <th>99999</th>\n",
       "      <td>-250.953200</td>\n",
       "      <td>-390.138842</td>\n",
       "      <td>-529.471525</td>\n",
       "      <td>726.916969</td>\n",
       "      <td>463.881261</td>\n",
       "      <td>-0.977907</td>\n",
       "      <td>-2.142405</td>\n",
       "      <td>1.813349e+02</td>\n",
       "      <td>7763</td>\n",
       "    </tr>\n",
       "  </tbody>\n",
       "</table>\n",
       "<p>100000 rows × 9 columns</p>\n",
       "</div>"
      ],
      "text/plain": [
       "                px           py           pz            e           pt  \\\n",
       "0      1200.201700   714.940197 -1176.756007  1834.490410  1397.005228   \n",
       "1     -1240.890636  -526.559303   306.056940  1446.853969  1347.988973   \n",
       "2        20.740248  -187.983284    54.143463   212.832236   189.123962   \n",
       "3       -52.327745     5.439510  -379.791004   383.564394    52.609706   \n",
       "4        11.816352    -4.110155     3.456675    13.912894    12.510777   \n",
       "...            ...          ...          ...          ...          ...   \n",
       "99995     0.459043     0.283232    -4.613422     4.644847     0.539389   \n",
       "99996  -872.915359  2163.768770  1624.944659  2844.911643  2333.211630   \n",
       "99997   224.008143 -1080.661553   277.581281  1153.309031  1103.634468   \n",
       "99998   818.611150  -567.764479  1043.302421  1455.156678   996.233265   \n",
       "99999  -250.953200  -390.138842  -529.471525   726.916969   463.881261   \n",
       "\n",
       "            eta       phi          mass  event  \n",
       "0     -0.765391  0.537239  1.702256e+02      0  \n",
       "1      0.225140 -2.740281  4.273655e+02      0  \n",
       "2      0.282513 -1.460910  8.122914e+01      0  \n",
       "3     -2.674631  3.038014  1.061396e+01      0  \n",
       "4      0.272896 -0.334746  5.010037e+00      0  \n",
       "...         ...       ...           ...    ...  \n",
       "99995 -2.842835  0.552829  4.280033e-08   7762  \n",
       "99996  0.649749  1.954251  9.591975e+01   7763  \n",
       "99997  0.248937 -1.366403  1.872467e+02   7763  \n",
       "99998  0.914391 -0.606398  1.911028e+02   7763  \n",
       "99999 -0.977907 -2.142405  1.813349e+02   7763  \n",
       "\n",
       "[100000 rows x 9 columns]"
      ]
     },
     "execution_count": 68,
     "metadata": {},
     "output_type": "execute_result"
    }
   ],
   "source": [
    "loaded_data"
   ]
  },
  {
   "cell_type": "code",
   "execution_count": 69,
   "metadata": {},
   "outputs": [
    {
     "data": {
      "text/plain": [
       "(100000, 4)"
      ]
     },
     "execution_count": 69,
     "metadata": {},
     "output_type": "execute_result"
    }
   ],
   "source": [
    "data = np.array(data)\n",
    "data = data[:,:4]  # just keep px, py, pz, e\n",
    "data.shape"
   ]
  },
  {
   "cell_type": "code",
   "execution_count": 7,
   "metadata": {},
   "outputs": [],
   "source": [
    "# splitting data\n",
    "x_train = data[0:int(len(data) * 0.8)]\n",
    "x_val = data[int(len(data) * 0.8):int(len(data) * 0.9)]\n",
    "x_test = data[int(len(data) * 0.9):]"
   ]
  },
  {
   "cell_type": "code",
   "execution_count": 8,
   "metadata": {},
   "outputs": [],
   "source": [
    "# regularize\n",
    "scaler = preprocessing.StandardScaler()\n",
    "x_train = scaler.fit_transform(x_train)\n",
    "x_val = scaler.transform(x_val)\n",
    "x_test = scaler.transform(x_test)"
   ]
  },
  {
   "cell_type": "code",
   "execution_count": 9,
   "metadata": {},
   "outputs": [
    {
     "name": "stdout",
     "output_type": "stream",
     "text": [
      "[0.01960501 0.01973707 0.22276554 1.        ]\n"
     ]
    }
   ],
   "source": [
    "# get the inverse iqr proportion for each feature used to scale their weights in the loss function\n",
    "iqr_prop = iqr(x_train,axis = 0)\n",
    "max_iqr = max(iqr_prop)\n",
    "iqr_prop = np.array(iqr_prop) / max_iqr\n",
    "print(iqr_prop)"
   ]
  },
  {
   "cell_type": "markdown",
   "metadata": {},
   "source": [
    "# VAE Model"
   ]
  },
  {
   "cell_type": "code",
   "execution_count": 10,
   "metadata": {},
   "outputs": [
    {
     "name": "stderr",
     "output_type": "stream",
     "text": [
      "Using TensorFlow backend.\n"
     ]
    }
   ],
   "source": [
    "import keras\n",
    "from keras.layers import Lambda, Input, Dense, Flatten, Reshape, LeakyReLU, ELU\n",
    "from keras.models import Model, Sequential\n",
    "from keras import metrics, losses\n",
    "from keras import backend as K"
   ]
  },
  {
   "cell_type": "code",
   "execution_count": 11,
   "metadata": {},
   "outputs": [],
   "source": [
    "def sampling(args):\n",
    "    \"\"\"\n",
    "    # Arguments\n",
    "        args (tensor): mean and log of variance of Q(z|X)\n",
    "    # Returns\n",
    "        z (tensor): sampled latent vector\n",
    "    \"\"\"\n",
    "\n",
    "    z_mean, z_log_var = args\n",
    "    batch = K.shape(z_mean)[0]\n",
    "    dim = K.int_shape(z_mean)[1]\n",
    "    # by default, random_normal has mean = 0 and std = 1.0\n",
    "    epsilon = K.random_normal(shape=(batch, dim))\n",
    "    return z_mean + K.exp(0.5 * z_log_var) * epsilon"
   ]
  },
  {
   "cell_type": "code",
   "execution_count": 12,
   "metadata": {},
   "outputs": [],
   "source": [
    "inter_dim_1 = 32\n",
    "inter_dim_2 = 16\n",
    "final_dim = 8\n",
    "latent_dim = 2\n",
    "input_dim = 4"
   ]
  },
  {
   "cell_type": "code",
   "execution_count": 13,
   "metadata": {},
   "outputs": [],
   "source": [
    "# encoder\n",
    "x = Input(shape=(input_dim,))\n",
    "#x_flat = Flatten()(x)\n",
    "h1 = Dense(inter_dim_1, activation='relu')(x)\n",
    "h2 = Dense(inter_dim_2, activation='relu')(h1)\n",
    "h3 = Dense(final_dim, activation='relu')(h2)\n",
    "encoding = Dense(latent_dim, activation='tanh')(h3)"
   ]
  },
  {
   "cell_type": "code",
   "execution_count": 14,
   "metadata": {},
   "outputs": [],
   "source": [
    "# decoder\n",
    "decoder_h3 = Dense(final_dim, activation='relu')\n",
    "decoder_h2 = Dense(inter_dim_2, activation='relu')\n",
    "decoder_h1 = Dense(inter_dim_1, activation='relu')\n",
    "decoder_mean = Dense(input_dim, activation='linear')\n",
    "\n",
    "h3_decoded = decoder_h3(encoding)\n",
    "h2_decoded = decoder_h2(h3_decoded)\n",
    "h1_decoded = decoder_h1(h2_decoded)\n",
    "x_decoded_mean = decoder_mean(h1_decoded)\n",
    "# x_decoded = Reshape(input_shape)(x_decoded_mean)"
   ]
  },
  {
   "cell_type": "code",
   "execution_count": 15,
   "metadata": {},
   "outputs": [],
   "source": [
    "vae = Model(inputs = x, outputs = x_decoded_mean, name = 'vae')"
   ]
  },
  {
   "cell_type": "code",
   "execution_count": 16,
   "metadata": {},
   "outputs": [],
   "source": [
    "mse = keras.losses.MeanSquaredError()\n",
    "def ae_loss(x, y):\n",
    "    mse_loss = 0.25 * (iqr_prop[0]*(x[::,0] - y[::,0])**2 + iqr_prop[1]*(x[::,1] - y[::,1])**2 + iqr_prop[2]*(x[::,2] - y[::,2])**2 + iqr_prop[3]*(x[::,3] - y[::,3])**2)\n",
    "    # mse_loss = mse(x,y)\n",
    "    return mse_loss\n",
    "\n",
    "vae.compile(optimizer='adam', loss=ae_loss)"
   ]
  },
  {
   "cell_type": "code",
   "execution_count": 17,
   "metadata": {},
   "outputs": [
    {
     "name": "stdout",
     "output_type": "stream",
     "text": [
      "Model: \"vae\"\n",
      "_________________________________________________________________\n",
      "Layer (type)                 Output Shape              Param #   \n",
      "=================================================================\n",
      "input_1 (InputLayer)         (None, 4)                 0         \n",
      "_________________________________________________________________\n",
      "dense_1 (Dense)              (None, 32)                160       \n",
      "_________________________________________________________________\n",
      "dense_2 (Dense)              (None, 16)                528       \n",
      "_________________________________________________________________\n",
      "dense_3 (Dense)              (None, 8)                 136       \n",
      "_________________________________________________________________\n",
      "dense_4 (Dense)              (None, 2)                 18        \n",
      "_________________________________________________________________\n",
      "dense_5 (Dense)              (None, 8)                 24        \n",
      "_________________________________________________________________\n",
      "dense_6 (Dense)              (None, 16)                144       \n",
      "_________________________________________________________________\n",
      "dense_7 (Dense)              (None, 32)                544       \n",
      "_________________________________________________________________\n",
      "dense_8 (Dense)              (None, 4)                 132       \n",
      "=================================================================\n",
      "Total params: 1,686\n",
      "Trainable params: 1,686\n",
      "Non-trainable params: 0\n",
      "_________________________________________________________________\n"
     ]
    }
   ],
   "source": [
    "vae.summary()"
   ]
  },
  {
   "cell_type": "markdown",
   "metadata": {},
   "source": [
    "# Train"
   ]
  },
  {
   "cell_type": "code",
   "execution_count": 18,
   "metadata": {},
   "outputs": [],
   "source": [
    "from sklearn.model_selection import train_test_split"
   ]
  },
  {
   "cell_type": "code",
   "execution_count": 19,
   "metadata": {},
   "outputs": [],
   "source": [
    "batch_size = 1000\n",
    "epochs = 200"
   ]
  },
  {
   "cell_type": "code",
   "execution_count": 20,
   "metadata": {},
   "outputs": [
    {
     "data": {
      "text/plain": [
       "(80000, 4)"
      ]
     },
     "execution_count": 20,
     "metadata": {},
     "output_type": "execute_result"
    }
   ],
   "source": [
    "x_train.shape"
   ]
  },
  {
   "cell_type": "code",
   "execution_count": 21,
   "metadata": {},
   "outputs": [],
   "source": [
    "my_callbacks = [\n",
    "    keras.callbacks.EarlyStopping(patience=10)\n",
    "]"
   ]
  },
  {
   "cell_type": "code",
   "execution_count": 22,
   "metadata": {},
   "outputs": [
    {
     "name": "stdout",
     "output_type": "stream",
     "text": [
      "Train on 80000 samples, validate on 10000 samples\n",
      "Epoch 1/200\n",
      "80000/80000 [==============================] - 1s 14us/step - loss: 0.2247 - val_loss: 0.1091\n",
      "Epoch 2/200\n",
      "80000/80000 [==============================] - 0s 6us/step - loss: 0.0674 - val_loss: 0.0370\n",
      "Epoch 3/200\n",
      "80000/80000 [==============================] - 0s 6us/step - loss: 0.0253 - val_loss: 0.0167\n",
      "Epoch 4/200\n",
      "80000/80000 [==============================] - 0s 6us/step - loss: 0.0149 - val_loss: 0.0131\n",
      "Epoch 5/200\n",
      "80000/80000 [==============================] - 0s 6us/step - loss: 0.0126 - val_loss: 0.0120\n",
      "Epoch 6/200\n",
      "80000/80000 [==============================] - 0s 6us/step - loss: 0.0117 - val_loss: 0.0115\n",
      "Epoch 7/200\n",
      "80000/80000 [==============================] - 0s 6us/step - loss: 0.0113 - val_loss: 0.0113\n",
      "Epoch 8/200\n",
      "80000/80000 [==============================] - 0s 6us/step - loss: 0.0110 - val_loss: 0.0110\n",
      "Epoch 9/200\n",
      "80000/80000 [==============================] - 0s 5us/step - loss: 0.0108 - val_loss: 0.0110\n",
      "Epoch 10/200\n",
      "80000/80000 [==============================] - 0s 6us/step - loss: 0.0107 - val_loss: 0.0108\n",
      "Epoch 11/200\n",
      "80000/80000 [==============================] - 0s 5us/step - loss: 0.0106 - val_loss: 0.0108\n",
      "Epoch 12/200\n",
      "80000/80000 [==============================] - 0s 5us/step - loss: 0.0105 - val_loss: 0.0107\n",
      "Epoch 13/200\n",
      "80000/80000 [==============================] - 0s 6us/step - loss: 0.0104 - val_loss: 0.0107\n",
      "Epoch 14/200\n",
      "80000/80000 [==============================] - 0s 6us/step - loss: 0.0104 - val_loss: 0.0106\n",
      "Epoch 15/200\n",
      "80000/80000 [==============================] - 0s 5us/step - loss: 0.0103 - val_loss: 0.0106\n",
      "Epoch 16/200\n",
      "80000/80000 [==============================] - 0s 5us/step - loss: 0.0103 - val_loss: 0.0105\n",
      "Epoch 17/200\n",
      "80000/80000 [==============================] - 0s 5us/step - loss: 0.0103 - val_loss: 0.0105\n",
      "Epoch 18/200\n",
      "80000/80000 [==============================] - 0s 5us/step - loss: 0.0102 - val_loss: 0.0105\n",
      "Epoch 19/200\n",
      "80000/80000 [==============================] - 0s 5us/step - loss: 0.0102 - val_loss: 0.0105\n",
      "Epoch 20/200\n",
      "80000/80000 [==============================] - 0s 5us/step - loss: 0.0102 - val_loss: 0.0105\n",
      "Epoch 21/200\n",
      "80000/80000 [==============================] - 0s 5us/step - loss: 0.0102 - val_loss: 0.0105\n",
      "Epoch 22/200\n",
      "80000/80000 [==============================] - 0s 5us/step - loss: 0.0101 - val_loss: 0.0104\n",
      "Epoch 23/200\n",
      "80000/80000 [==============================] - 0s 5us/step - loss: 0.0101 - val_loss: 0.0104\n",
      "Epoch 24/200\n",
      "80000/80000 [==============================] - 0s 5us/step - loss: 0.0101 - val_loss: 0.0104\n",
      "Epoch 25/200\n",
      "80000/80000 [==============================] - 0s 5us/step - loss: 0.0101 - val_loss: 0.0104\n",
      "Epoch 26/200\n",
      "80000/80000 [==============================] - 0s 5us/step - loss: 0.0101 - val_loss: 0.0104\n",
      "Epoch 27/200\n",
      "80000/80000 [==============================] - 0s 5us/step - loss: 0.0101 - val_loss: 0.0104\n",
      "Epoch 28/200\n",
      "80000/80000 [==============================] - 0s 6us/step - loss: 0.0101 - val_loss: 0.0104\n",
      "Epoch 29/200\n",
      "80000/80000 [==============================] - 0s 6us/step - loss: 0.0101 - val_loss: 0.0104\n",
      "Epoch 30/200\n",
      "80000/80000 [==============================] - 0s 6us/step - loss: 0.0100 - val_loss: 0.0103\n",
      "Epoch 31/200\n",
      "80000/80000 [==============================] - 0s 6us/step - loss: 0.0100 - val_loss: 0.0103\n",
      "Epoch 32/200\n",
      "80000/80000 [==============================] - 0s 6us/step - loss: 0.0100 - val_loss: 0.0103\n",
      "Epoch 33/200\n",
      "80000/80000 [==============================] - 0s 5us/step - loss: 0.0100 - val_loss: 0.0103\n",
      "Epoch 34/200\n",
      "80000/80000 [==============================] - 0s 5us/step - loss: 0.0100 - val_loss: 0.0103\n",
      "Epoch 35/200\n",
      "80000/80000 [==============================] - 0s 5us/step - loss: 0.0100 - val_loss: 0.0103\n",
      "Epoch 36/200\n",
      "80000/80000 [==============================] - 0s 5us/step - loss: 0.0100 - val_loss: 0.0103\n",
      "Epoch 37/200\n",
      "80000/80000 [==============================] - 0s 5us/step - loss: 0.0100 - val_loss: 0.0103\n",
      "Epoch 38/200\n",
      "80000/80000 [==============================] - 0s 5us/step - loss: 0.0100 - val_loss: 0.0103\n",
      "Epoch 39/200\n",
      "80000/80000 [==============================] - 0s 5us/step - loss: 0.0100 - val_loss: 0.0103\n",
      "Epoch 40/200\n",
      "80000/80000 [==============================] - 0s 5us/step - loss: 0.0100 - val_loss: 0.0103\n",
      "Epoch 41/200\n",
      "80000/80000 [==============================] - 0s 5us/step - loss: 0.0100 - val_loss: 0.0103\n",
      "Epoch 42/200\n",
      "80000/80000 [==============================] - 0s 5us/step - loss: 0.0100 - val_loss: 0.0103\n",
      "Epoch 43/200\n",
      "80000/80000 [==============================] - 0s 6us/step - loss: 0.0100 - val_loss: 0.0103\n",
      "Epoch 44/200\n",
      "80000/80000 [==============================] - 0s 6us/step - loss: 0.0100 - val_loss: 0.0103\n",
      "Epoch 45/200\n",
      "80000/80000 [==============================] - 0s 5us/step - loss: 0.0100 - val_loss: 0.0103\n",
      "Epoch 46/200\n",
      "80000/80000 [==============================] - 0s 5us/step - loss: 0.0100 - val_loss: 0.0103\n",
      "Epoch 47/200\n",
      "80000/80000 [==============================] - 0s 6us/step - loss: 0.0100 - val_loss: 0.0103\n",
      "Epoch 48/200\n",
      "80000/80000 [==============================] - 0s 6us/step - loss: 0.0100 - val_loss: 0.0103\n",
      "Epoch 49/200\n",
      "80000/80000 [==============================] - 0s 6us/step - loss: 0.0099 - val_loss: 0.0103\n",
      "Epoch 50/200\n",
      "80000/80000 [==============================] - 0s 6us/step - loss: 0.0099 - val_loss: 0.0103\n",
      "Epoch 51/200\n",
      "80000/80000 [==============================] - 0s 6us/step - loss: 0.0100 - val_loss: 0.0103\n",
      "Epoch 52/200\n",
      "80000/80000 [==============================] - 0s 6us/step - loss: 0.0099 - val_loss: 0.0103\n",
      "Epoch 53/200\n",
      "80000/80000 [==============================] - 0s 6us/step - loss: 0.0099 - val_loss: 0.0103\n",
      "Epoch 54/200\n",
      "80000/80000 [==============================] - 0s 5us/step - loss: 0.0099 - val_loss: 0.0103\n",
      "Epoch 55/200\n",
      "80000/80000 [==============================] - 0s 5us/step - loss: 0.0099 - val_loss: 0.0103\n",
      "Epoch 56/200\n",
      "80000/80000 [==============================] - 0s 5us/step - loss: 0.0099 - val_loss: 0.0102\n",
      "Epoch 57/200\n",
      "80000/80000 [==============================] - 0s 5us/step - loss: 0.0099 - val_loss: 0.0103\n",
      "Epoch 58/200\n",
      "80000/80000 [==============================] - 0s 5us/step - loss: 0.0099 - val_loss: 0.0103\n",
      "Epoch 59/200\n",
      "80000/80000 [==============================] - 0s 5us/step - loss: 0.0099 - val_loss: 0.0103\n",
      "Epoch 60/200\n",
      "80000/80000 [==============================] - 0s 5us/step - loss: 0.0099 - val_loss: 0.0102\n",
      "Epoch 61/200\n",
      "80000/80000 [==============================] - 0s 5us/step - loss: 0.0099 - val_loss: 0.0102\n",
      "Epoch 62/200\n",
      "80000/80000 [==============================] - 0s 5us/step - loss: 0.0099 - val_loss: 0.0102\n",
      "Epoch 63/200\n",
      "80000/80000 [==============================] - 0s 5us/step - loss: 0.0099 - val_loss: 0.0102\n",
      "Epoch 64/200\n",
      "80000/80000 [==============================] - 0s 5us/step - loss: 0.0099 - val_loss: 0.0102\n",
      "Epoch 65/200\n",
      "80000/80000 [==============================] - 0s 5us/step - loss: 0.0099 - val_loss: 0.0102\n",
      "Epoch 66/200\n",
      "80000/80000 [==============================] - 0s 6us/step - loss: 0.0099 - val_loss: 0.0102\n",
      "Epoch 67/200\n",
      "80000/80000 [==============================] - 0s 6us/step - loss: 0.0099 - val_loss: 0.0102\n",
      "Epoch 68/200\n",
      "80000/80000 [==============================] - 0s 6us/step - loss: 0.0099 - val_loss: 0.0102\n",
      "Epoch 69/200\n",
      "80000/80000 [==============================] - 0s 5us/step - loss: 0.0099 - val_loss: 0.0102\n",
      "Epoch 70/200\n",
      "80000/80000 [==============================] - 0s 5us/step - loss: 0.0099 - val_loss: 0.0102\n",
      "Epoch 71/200\n",
      "80000/80000 [==============================] - 0s 5us/step - loss: 0.0099 - val_loss: 0.0102\n",
      "Epoch 72/200\n",
      "80000/80000 [==============================] - 0s 5us/step - loss: 0.0099 - val_loss: 0.0102\n",
      "Epoch 73/200\n",
      "80000/80000 [==============================] - 0s 5us/step - loss: 0.0099 - val_loss: 0.0102\n",
      "Epoch 74/200\n",
      "80000/80000 [==============================] - 0s 5us/step - loss: 0.0099 - val_loss: 0.0102\n",
      "Epoch 75/200\n",
      "80000/80000 [==============================] - 0s 5us/step - loss: 0.0099 - val_loss: 0.0102\n",
      "Epoch 76/200\n",
      "80000/80000 [==============================] - 0s 5us/step - loss: 0.0099 - val_loss: 0.0102\n",
      "Epoch 77/200\n",
      "80000/80000 [==============================] - 0s 5us/step - loss: 0.0099 - val_loss: 0.0102\n"
     ]
    },
    {
     "name": "stdout",
     "output_type": "stream",
     "text": [
      "Epoch 78/200\n",
      "80000/80000 [==============================] - 0s 5us/step - loss: 0.0099 - val_loss: 0.0102\n",
      "Epoch 79/200\n",
      "80000/80000 [==============================] - 0s 5us/step - loss: 0.0099 - val_loss: 0.0102\n",
      "Epoch 80/200\n",
      "80000/80000 [==============================] - 0s 6us/step - loss: 0.0099 - val_loss: 0.0102\n",
      "Epoch 81/200\n",
      "80000/80000 [==============================] - 0s 6us/step - loss: 0.0099 - val_loss: 0.0102\n",
      "Epoch 82/200\n",
      "80000/80000 [==============================] - 0s 5us/step - loss: 0.0099 - val_loss: 0.0102\n",
      "Epoch 83/200\n",
      "80000/80000 [==============================] - 0s 5us/step - loss: 0.0099 - val_loss: 0.0102\n",
      "Epoch 84/200\n",
      "80000/80000 [==============================] - 0s 5us/step - loss: 0.0099 - val_loss: 0.0102\n",
      "Epoch 85/200\n",
      "80000/80000 [==============================] - 0s 5us/step - loss: 0.0099 - val_loss: 0.0102\n",
      "Epoch 86/200\n",
      "80000/80000 [==============================] - 0s 5us/step - loss: 0.0099 - val_loss: 0.0102\n",
      "Epoch 87/200\n",
      "80000/80000 [==============================] - 0s 5us/step - loss: 0.0099 - val_loss: 0.0102\n",
      "Epoch 88/200\n",
      "80000/80000 [==============================] - 0s 5us/step - loss: 0.0099 - val_loss: 0.0102\n",
      "Epoch 89/200\n",
      "80000/80000 [==============================] - 0s 5us/step - loss: 0.0099 - val_loss: 0.0102\n",
      "Epoch 90/200\n",
      "80000/80000 [==============================] - 0s 5us/step - loss: 0.0099 - val_loss: 0.0102\n",
      "Epoch 91/200\n",
      "80000/80000 [==============================] - 0s 5us/step - loss: 0.0099 - val_loss: 0.0102\n",
      "Epoch 92/200\n",
      "80000/80000 [==============================] - 0s 5us/step - loss: 0.0099 - val_loss: 0.0102\n",
      "Epoch 93/200\n",
      "80000/80000 [==============================] - 0s 5us/step - loss: 0.0099 - val_loss: 0.0102\n",
      "Epoch 94/200\n",
      "80000/80000 [==============================] - 0s 6us/step - loss: 0.0099 - val_loss: 0.0102\n",
      "Epoch 95/200\n",
      "80000/80000 [==============================] - 0s 6us/step - loss: 0.0099 - val_loss: 0.0102\n",
      "Epoch 96/200\n",
      "80000/80000 [==============================] - 0s 5us/step - loss: 0.0099 - val_loss: 0.0102\n",
      "Epoch 97/200\n",
      "80000/80000 [==============================] - 0s 5us/step - loss: 0.0099 - val_loss: 0.0102\n",
      "Epoch 98/200\n",
      "80000/80000 [==============================] - 0s 5us/step - loss: 0.0099 - val_loss: 0.0102\n",
      "Epoch 99/200\n",
      "80000/80000 [==============================] - 0s 5us/step - loss: 0.0099 - val_loss: 0.0102\n",
      "Epoch 100/200\n",
      "80000/80000 [==============================] - 0s 5us/step - loss: 0.0099 - val_loss: 0.0102\n",
      "Epoch 101/200\n",
      "80000/80000 [==============================] - 0s 5us/step - loss: 0.0099 - val_loss: 0.0102\n",
      "Epoch 102/200\n",
      "80000/80000 [==============================] - 0s 5us/step - loss: 0.0099 - val_loss: 0.0102\n",
      "Epoch 103/200\n",
      "80000/80000 [==============================] - 0s 5us/step - loss: 0.0099 - val_loss: 0.0102\n",
      "Epoch 104/200\n",
      "80000/80000 [==============================] - 0s 5us/step - loss: 0.0099 - val_loss: 0.0102\n",
      "Epoch 105/200\n",
      "80000/80000 [==============================] - 0s 6us/step - loss: 0.0099 - val_loss: 0.0102\n",
      "Epoch 106/200\n",
      "80000/80000 [==============================] - 0s 6us/step - loss: 0.0099 - val_loss: 0.0102\n",
      "Epoch 107/200\n",
      "80000/80000 [==============================] - 0s 6us/step - loss: 0.0099 - val_loss: 0.0102\n",
      "Epoch 108/200\n",
      "80000/80000 [==============================] - 0s 5us/step - loss: 0.0099 - val_loss: 0.0102\n",
      "Epoch 109/200\n",
      "80000/80000 [==============================] - 0s 5us/step - loss: 0.0099 - val_loss: 0.0102\n",
      "Epoch 110/200\n",
      "80000/80000 [==============================] - 0s 5us/step - loss: 0.0099 - val_loss: 0.0102\n",
      "Epoch 111/200\n",
      "80000/80000 [==============================] - 0s 5us/step - loss: 0.0099 - val_loss: 0.0102\n",
      "Epoch 112/200\n",
      "80000/80000 [==============================] - 0s 5us/step - loss: 0.0099 - val_loss: 0.0102\n",
      "Epoch 113/200\n",
      "80000/80000 [==============================] - 0s 5us/step - loss: 0.0099 - val_loss: 0.0102\n",
      "Epoch 114/200\n",
      "80000/80000 [==============================] - 0s 5us/step - loss: 0.0099 - val_loss: 0.0102\n",
      "Epoch 115/200\n",
      "80000/80000 [==============================] - 0s 6us/step - loss: 0.0099 - val_loss: 0.0102\n",
      "Epoch 116/200\n",
      "80000/80000 [==============================] - 0s 5us/step - loss: 0.0099 - val_loss: 0.0102\n",
      "Epoch 117/200\n",
      "80000/80000 [==============================] - 0s 6us/step - loss: 0.0099 - val_loss: 0.0102\n",
      "Epoch 118/200\n",
      "80000/80000 [==============================] - 0s 6us/step - loss: 0.0099 - val_loss: 0.0102\n",
      "Epoch 119/200\n",
      "80000/80000 [==============================] - 0s 5us/step - loss: 0.0099 - val_loss: 0.0102\n",
      "Epoch 120/200\n",
      "80000/80000 [==============================] - 0s 6us/step - loss: 0.0099 - val_loss: 0.0102\n",
      "Epoch 121/200\n",
      "80000/80000 [==============================] - 0s 5us/step - loss: 0.0099 - val_loss: 0.0102\n",
      "Epoch 122/200\n",
      "80000/80000 [==============================] - 0s 5us/step - loss: 0.0099 - val_loss: 0.0102\n",
      "Epoch 123/200\n",
      "80000/80000 [==============================] - 0s 5us/step - loss: 0.0099 - val_loss: 0.0102\n",
      "Epoch 124/200\n",
      "80000/80000 [==============================] - 0s 5us/step - loss: 0.0099 - val_loss: 0.0102\n",
      "Epoch 125/200\n",
      "80000/80000 [==============================] - 0s 5us/step - loss: 0.0099 - val_loss: 0.0102\n",
      "Epoch 126/200\n",
      "80000/80000 [==============================] - 0s 6us/step - loss: 0.0099 - val_loss: 0.0102\n",
      "Epoch 127/200\n",
      "80000/80000 [==============================] - 0s 6us/step - loss: 0.0099 - val_loss: 0.0102\n",
      "Epoch 128/200\n",
      "80000/80000 [==============================] - 0s 6us/step - loss: 0.0099 - val_loss: 0.0102\n",
      "Epoch 129/200\n",
      "80000/80000 [==============================] - 0s 6us/step - loss: 0.0099 - val_loss: 0.0102\n",
      "Epoch 130/200\n",
      "80000/80000 [==============================] - 0s 5us/step - loss: 0.0099 - val_loss: 0.0102\n",
      "Epoch 131/200\n",
      "80000/80000 [==============================] - 0s 5us/step - loss: 0.0099 - val_loss: 0.0102\n",
      "Epoch 132/200\n",
      "80000/80000 [==============================] - 0s 5us/step - loss: 0.0099 - val_loss: 0.0102\n",
      "Epoch 133/200\n",
      "80000/80000 [==============================] - 0s 5us/step - loss: 0.0099 - val_loss: 0.0102\n",
      "Epoch 134/200\n",
      "80000/80000 [==============================] - 0s 5us/step - loss: 0.0099 - val_loss: 0.0102\n",
      "Epoch 135/200\n",
      "80000/80000 [==============================] - 0s 5us/step - loss: 0.0099 - val_loss: 0.0102\n",
      "Epoch 136/200\n",
      "80000/80000 [==============================] - 0s 5us/step - loss: 0.0099 - val_loss: 0.0102\n",
      "Epoch 137/200\n",
      "80000/80000 [==============================] - 0s 5us/step - loss: 0.0099 - val_loss: 0.0102\n",
      "Epoch 138/200\n",
      "80000/80000 [==============================] - 0s 5us/step - loss: 0.0099 - val_loss: 0.0102\n",
      "Epoch 139/200\n",
      "80000/80000 [==============================] - 0s 5us/step - loss: 0.0099 - val_loss: 0.0102\n",
      "Epoch 140/200\n",
      "80000/80000 [==============================] - 0s 5us/step - loss: 0.0099 - val_loss: 0.0102\n",
      "Epoch 141/200\n",
      "80000/80000 [==============================] - 0s 5us/step - loss: 0.0099 - val_loss: 0.0102\n",
      "Epoch 142/200\n",
      "80000/80000 [==============================] - 0s 5us/step - loss: 0.0099 - val_loss: 0.0102\n",
      "Epoch 143/200\n",
      "80000/80000 [==============================] - 0s 5us/step - loss: 0.0099 - val_loss: 0.0102\n",
      "Epoch 144/200\n",
      "80000/80000 [==============================] - 0s 5us/step - loss: 0.0099 - val_loss: 0.0102\n",
      "Epoch 145/200\n",
      "80000/80000 [==============================] - 0s 5us/step - loss: 0.0099 - val_loss: 0.0102\n",
      "Epoch 146/200\n",
      "80000/80000 [==============================] - 0s 5us/step - loss: 0.0099 - val_loss: 0.0102\n",
      "Epoch 147/200\n",
      "80000/80000 [==============================] - 0s 5us/step - loss: 0.0099 - val_loss: 0.0102\n",
      "Epoch 148/200\n",
      "80000/80000 [==============================] - 0s 5us/step - loss: 0.0099 - val_loss: 0.0102\n",
      "Epoch 149/200\n",
      "80000/80000 [==============================] - 0s 5us/step - loss: 0.0099 - val_loss: 0.0102\n",
      "Epoch 150/200\n",
      "80000/80000 [==============================] - 0s 5us/step - loss: 0.0099 - val_loss: 0.0102\n",
      "Epoch 151/200\n",
      "80000/80000 [==============================] - 0s 5us/step - loss: 0.0099 - val_loss: 0.0102\n",
      "Epoch 152/200\n",
      "80000/80000 [==============================] - 0s 5us/step - loss: 0.0099 - val_loss: 0.0102\n",
      "Epoch 153/200\n",
      "80000/80000 [==============================] - 0s 5us/step - loss: 0.0099 - val_loss: 0.0102\n",
      "Epoch 154/200\n"
     ]
    },
    {
     "name": "stdout",
     "output_type": "stream",
     "text": [
      "80000/80000 [==============================] - 0s 5us/step - loss: 0.0099 - val_loss: 0.0102\n",
      "Epoch 155/200\n",
      "80000/80000 [==============================] - 0s 6us/step - loss: 0.0099 - val_loss: 0.0102\n",
      "Epoch 156/200\n",
      "80000/80000 [==============================] - 0s 5us/step - loss: 0.0099 - val_loss: 0.0102\n",
      "Epoch 157/200\n",
      "80000/80000 [==============================] - 0s 6us/step - loss: 0.0099 - val_loss: 0.0102\n",
      "Epoch 158/200\n",
      "80000/80000 [==============================] - 0s 6us/step - loss: 0.0099 - val_loss: 0.0102\n"
     ]
    }
   ],
   "source": [
    "hist = vae.fit(x_train, x_train,\n",
    "               shuffle=True,\n",
    "               epochs=epochs,\n",
    "               batch_size=batch_size,\n",
    "               validation_data=(x_val, x_val),\n",
    "               callbacks=my_callbacks)"
   ]
  },
  {
   "cell_type": "markdown",
   "metadata": {},
   "source": [
    "# Visualization"
   ]
  },
  {
   "cell_type": "code",
   "execution_count": 23,
   "metadata": {},
   "outputs": [],
   "source": [
    "import matplotlib.pyplot as plt"
   ]
  },
  {
   "cell_type": "code",
   "execution_count": 24,
   "metadata": {},
   "outputs": [
    {
     "data": {
      "image/png": "[encoded data removed]",
      "text/plain": [
       "<Figure size 432x266.991 with 1 Axes>"
      ]
     },
     "metadata": {
      "needs_background": "light"
     },
     "output_type": "display_data"
    }
   ],
   "source": [
    "golden_size = lambda width: (width, 2. * width / (1 + np.sqrt(5)))\n",
    "\n",
    "fig, ax = plt.subplots(figsize=golden_size(6))\n",
    "\n",
    "hist_df = pd.DataFrame(hist.history)\n",
    "hist_df.plot(ax=ax)\n",
    "\n",
    "ax.set_ylabel('NELBO')\n",
    "ax.set_xlabel('# epochs')\n",
    "\n",
    "ax.set_ylim(.99*hist_df[1:].values.min(), \n",
    "            1.1*hist_df[1:].values.max())\n",
    "plt.show()"
   ]
  },
  {
   "cell_type": "code",
   "execution_count": 25,
   "metadata": {},
   "outputs": [],
   "source": [
    "predictions = vae.predict(x_test)"
   ]
  },
  {
   "cell_type": "code",
   "execution_count": 26,
   "metadata": {},
   "outputs": [
    {
     "name": "stdout",
     "output_type": "stream",
     "text": [
      "tf.Tensor(0.49919707, shape=(), dtype=float32)\n"
     ]
    }
   ],
   "source": [
    "# mse on test set\n",
    "p = vae.predict(x_train)\n",
    "print(mse(p, x_train))"
   ]
  },
  {
   "cell_type": "code",
   "execution_count": 27,
   "metadata": {},
   "outputs": [],
   "source": [
    "distr = (x_test - predictions) / x_test"
   ]
  },
  {
   "cell_type": "code",
   "execution_count": 28,
   "metadata": {},
   "outputs": [],
   "source": [
    "px_pred = [row[0] for row in predictions]\n",
    "py_pred = [row[1] for row in predictions]\n",
    "pz_pred = [row[2] for row in predictions]\n",
    "e_pred = [row[3] for row in predictions]"
   ]
  },
  {
   "cell_type": "code",
   "execution_count": 29,
   "metadata": {},
   "outputs": [],
   "source": [
    "px = [row[0] for row in x_test]\n",
    "py = [row[1] for row in x_test]\n",
    "pz = [row[2] for row in x_test]\n",
    "e = [row[3] for row in x_test]"
   ]
  },
  {
   "cell_type": "code",
   "execution_count": 30,
   "metadata": {},
   "outputs": [],
   "source": [
    "overall_distr = K.flatten(distr)\n",
    "overall_pred = K.flatten(predictions)\n",
    "overall_input = K.flatten(x_test)"
   ]
  },
  {
   "cell_type": "code",
   "execution_count": 31,
   "metadata": {},
   "outputs": [
    {
     "data": {
      "image/png": "[encoded data removed]",
      "text/plain": [
       "<Figure size 432x288 with 1 Axes>"
      ]
     },
     "metadata": {
      "needs_background": "light"
     },
     "output_type": "display_data"
    }
   ],
   "source": [
    "# overall pred vs input\n",
    "bins = np.linspace(-1, 1, 50)\n",
    "plt.hist(overall_input, bins=bins,alpha=0.5)\n",
    "plt.hist(overall_pred, bins=bins,alpha=0.5)\n",
    "plt.show()"
   ]
  },
  {
   "cell_type": "code",
   "execution_count": 32,
   "metadata": {},
   "outputs": [
    {
     "data": {
      "image/png": "[encoded data removed]",
      "text/plain": [
       "<Figure size 432x288 with 1 Axes>"
      ]
     },
     "metadata": {
      "needs_background": "light"
     },
     "output_type": "display_data"
    }
   ],
   "source": [
    "# overall distr\n",
    "bins = np.linspace(-2, 2, 30)\n",
    "plt.hist(overall_distr, bins=bins)\n",
    "plt.show()"
   ]
  },
  {
   "cell_type": "markdown",
   "metadata": {},
   "source": [
    "## Stacking output (orange) over input (blue) for px, py, pz, E"
   ]
  },
  {
   "cell_type": "code",
   "execution_count": 33,
   "metadata": {},
   "outputs": [
    {
     "data": {
      "image/png": "[encoded data removed]",
      "text/plain": [
       "<Figure size 432x288 with 1 Axes>"
      ]
     },
     "metadata": {
      "needs_background": "light"
     },
     "output_type": "display_data"
    }
   ],
   "source": [
    "# px\n",
    "bins = np.linspace(-0.2, 0.2, 40)\n",
    "plt.hist(px, bins=bins,alpha=0.5)\n",
    "plt.hist(px_pred, bins=bins,alpha=0.5)\n",
    "plt.show()"
   ]
  },
  {
   "cell_type": "code",
   "execution_count": 34,
   "metadata": {},
   "outputs": [
    {
     "name": "stdout",
     "output_type": "stream",
     "text": [
      "tf.Tensor(0.98558974, shape=(), dtype=float32)\n"
     ]
    }
   ],
   "source": [
    "print(mse(px,px_pred))"
   ]
  },
  {
   "cell_type": "code",
   "execution_count": 35,
   "metadata": {},
   "outputs": [
    {
     "data": {
      "image/png": "[encoded data removed]",
      "text/plain": [
       "<Figure size 432x288 with 1 Axes>"
      ]
     },
     "metadata": {
      "needs_background": "light"
     },
     "output_type": "display_data"
    }
   ],
   "source": [
    "# py\n",
    "bins = np.linspace(-0.2, 0.2, 40)\n",
    "plt.hist(py, bins=bins,alpha=0.5)\n",
    "plt.hist(py_pred, bins=bins,alpha=0.5)\n",
    "plt.show()"
   ]
  },
  {
   "cell_type": "code",
   "execution_count": 36,
   "metadata": {},
   "outputs": [
    {
     "name": "stdout",
     "output_type": "stream",
     "text": [
      "tf.Tensor(1.0381765, shape=(), dtype=float32)\n"
     ]
    }
   ],
   "source": [
    "print(mse(py,py_pred))"
   ]
  },
  {
   "cell_type": "code",
   "execution_count": 37,
   "metadata": {},
   "outputs": [
    {
     "data": {
      "image/png": "[encoded data removed]",
      "text/plain": [
       "<Figure size 432x288 with 1 Axes>"
      ]
     },
     "metadata": {
      "needs_background": "light"
     },
     "output_type": "display_data"
    }
   ],
   "source": [
    "# pz\n",
    "bins = np.linspace(-0.5, 0.5, 40)\n",
    "plt.hist(pz, bins=bins,alpha=0.5)\n",
    "plt.hist(pz_pred, bins=bins,alpha=0.5)\n",
    "plt.show()"
   ]
  },
  {
   "cell_type": "code",
   "execution_count": 38,
   "metadata": {},
   "outputs": [
    {
     "name": "stdout",
     "output_type": "stream",
     "text": [
      "tf.Tensor(0.00033471655, shape=(), dtype=float32)\n"
     ]
    }
   ],
   "source": [
    "print(mse(pz,pz_pred))"
   ]
  },
  {
   "cell_type": "code",
   "execution_count": 39,
   "metadata": {},
   "outputs": [
    {
     "data": {
      "image/png": "[encoded data removed]",
      "text/plain": [
       "<Figure size 432x288 with 1 Axes>"
      ]
     },
     "metadata": {
      "needs_background": "light"
     },
     "output_type": "display_data"
    }
   ],
   "source": [
    "# E\n",
    "bins = np.linspace(-0.6,0.3, 40)\n",
    "plt.hist(e, bins=bins,alpha=0.5)\n",
    "plt.hist(e_pred, bins=bins,alpha=0.5)\n",
    "plt.show()"
   ]
  },
  {
   "cell_type": "code",
   "execution_count": 40,
   "metadata": {},
   "outputs": [
    {
     "name": "stdout",
     "output_type": "stream",
     "text": [
      "tf.Tensor(7.875856e-05, shape=(), dtype=float32)\n"
     ]
    }
   ],
   "source": [
    "print(mse(e,e_pred))"
   ]
  },
  {
   "cell_type": "code",
   "execution_count": 41,
   "metadata": {},
   "outputs": [],
   "source": [
    "d_px = [row[0] for row in distr]\n",
    "d_py = [row[1] for row in distr]\n",
    "d_pz = [row[2] for row in distr]\n",
    "d_e = [row[3] for row in distr]"
   ]
  },
  {
   "cell_type": "markdown",
   "metadata": {},
   "source": [
    "## Distribution of (input - output) / input"
   ]
  },
  {
   "cell_type": "code",
   "execution_count": 42,
   "metadata": {},
   "outputs": [],
   "source": [
    "bins = np.linspace(-2, 2, 30)"
   ]
  },
  {
   "cell_type": "code",
   "execution_count": 43,
   "metadata": {},
   "outputs": [
    {
     "data": {
      "image/png": "[encoded data removed]",
      "text/plain": [
       "<Figure size 432x288 with 1 Axes>"
      ]
     },
     "metadata": {
      "needs_background": "light"
     },
     "output_type": "display_data"
    }
   ],
   "source": [
    "_ = plt.hist(d_px, bins=bins)"
   ]
  },
  {
   "cell_type": "code",
   "execution_count": 44,
   "metadata": {},
   "outputs": [
    {
     "data": {
      "image/png": "[encoded data removed]",
      "text/plain": [
       "<Figure size 432x288 with 1 Axes>"
      ]
     },
     "metadata": {
      "needs_background": "light"
     },
     "output_type": "display_data"
    }
   ],
   "source": [
    "_ = plt.hist(d_py, bins=bins)"
   ]
  },
  {
   "cell_type": "code",
   "execution_count": 45,
   "metadata": {},
   "outputs": [
    {
     "data": {
      "image/png": "[encoded data removed]",
      "text/plain": [
       "<Figure size 432x288 with 1 Axes>"
      ]
     },
     "metadata": {
      "needs_background": "light"
     },
     "output_type": "display_data"
    }
   ],
   "source": [
    "_ = plt.hist(d_pz, bins=bins)"
   ]
  },
  {
   "cell_type": "code",
   "execution_count": 46,
   "metadata": {},
   "outputs": [
    {
     "data": {
      "image/png": "[encoded data removed]",
      "text/plain": [
       "<Figure size 432x288 with 1 Axes>"
      ]
     },
     "metadata": {
      "needs_background": "light"
     },
     "output_type": "display_data"
    }
   ],
   "source": [
    "_ = plt.hist(d_e, bins=bins)"
   ]
  },
  {
   "cell_type": "markdown",
   "metadata": {},
   "source": [
    "# Anomaly Detection"
   ]
  },
  {
   "cell_type": "code",
   "execution_count": 47,
   "metadata": {},
   "outputs": [],
   "source": [
    "from sklearn.metrics import mean_squared_error"
   ]
  },
  {
   "cell_type": "code",
   "execution_count": 48,
   "metadata": {},
   "outputs": [],
   "source": [
    "# m_12 = sqrt ( (E_1 + E_2)^2 - (p_x1 + p_x2)^2 - (p_y1 + p_y2)^2 - (p_z1 + p_z2)^2 )\n",
    "def invariant_mass(jet1, jet2):\n",
    "    return math.sqrt((jet1.e + jet2.e)**2 - (jet1.px + jet2.px)**2 - (jet1.py + jet2.py)**2 - (jet1.pz + jet2.pz)**2)"
   ]
  },
  {
   "cell_type": "code",
   "execution_count": 49,
   "metadata": {},
   "outputs": [],
   "source": [
    "all_data = np.concatenate((x_train, x_val, x_test))\n",
    "all_pred = vae.predict(all_data)"
   ]
  },
  {
   "cell_type": "code",
   "execution_count": 50,
   "metadata": {},
   "outputs": [],
   "source": [
    "# get the iqr weighted mse of all predictions\n",
    "errors = (iqr_prop[0] * np.square(all_data[:,0] - all_pred[:,0]) + iqr_prop[1] * np.square(all_data[:,1] - all_pred[:,1]) + iqr_prop[2] * np.square(all_data[:,2] - all_pred[:,2]) + iqr_prop[3] * np.square(all_data[:,3] - all_pred[:,3]))"
   ]
  },
  {
   "cell_type": "code",
   "execution_count": 51,
   "metadata": {},
   "outputs": [],
   "source": [
    "# all the inputs that had high mse\n",
    "data_df = loaded_data.copy()\n",
    "data_df.columns = ['px','py','pz','e','pt','eta','phi','mass','event']\n",
    "data_df[\"mse\"] = errors"
   ]
  },
  {
   "cell_type": "code",
   "execution_count": 52,
   "metadata": {},
   "outputs": [],
   "source": [
    "mass_mu = data_df.mass.mean()\n",
    "mass_sd = data_df.mass.std()"
   ]
  },
  {
   "cell_type": "code",
   "execution_count": 53,
   "metadata": {},
   "outputs": [],
   "source": [
    "cut = 0.95\n",
    "data_df[\"outlier\"] = 0\n",
    "# define the outliers by a cut on mse error\n",
    "mse_thresh = np.quantile(errors, cut)\n",
    "data_df.loc[data_df[\"mse\"] > mse_thresh, \"outlier\"] = 1\n",
    "outliers = data_df.loc[data_df.outlier == 1]"
   ]
  },
  {
   "cell_type": "code",
   "execution_count": 54,
   "metadata": {
    "scrolled": true
   },
   "outputs": [],
   "source": [
    "mass = []\n",
    "for event, group in outliers.groupby(['event']):\n",
    "    pseudojets_input = np.zeros(len(group), dtype=DTYPE_PTEPM)\n",
    "    for i in range(len(group.pt.array)):\n",
    "        pseudojets_input[i]['pT'] = group.pt.array[i]\n",
    "        pseudojets_input[i]['eta'] = group.eta.array[i]\n",
    "        pseudojets_input[i]['phi'] = group.phi.array[i]\n",
    "    sequence = cluster(pseudojets_input, R=1.0, p=-1)\n",
    "    jets = sequence.inclusive_jets()\n",
    "    if(len(jets) >= 2):\n",
    "        mass.append(invariant_mass(jets[0],jets[1]))"
   ]
  },
  {
   "cell_type": "code",
   "execution_count": 55,
   "metadata": {},
   "outputs": [],
   "source": [
    "path = '/anomalyvol/data/jet_ver/bb1_jet_mass.h5'\n",
    "mgen = generator(path, chunk_size, total_size)\n",
    "all_mass = next(mgen)\n",
    "\n",
    "for i in range(total_size // chunk_size - 1):\n",
    "    all_mass.append(next(mgen))"
   ]
  },
  {
   "cell_type": "code",
   "execution_count": 72,
   "metadata": {},
   "outputs": [
    {
     "data": {
      "image/png": "[encoded data removed]",
      "text/plain": [
       "<Figure size 432x288 with 1 Axes>"
      ]
     },
     "metadata": {
      "needs_background": "light"
     },
     "output_type": "display_data"
    }
   ],
   "source": [
    "weights = np.ones_like(mass) / len(mass)\n",
    "plt.hist(mass, bins=np.linspace(2000,6000, 61), alpha = 0.5, weights=weights)\n",
    "weights = np.ones_like(all_mass) / len(all_mass)\n",
    "plt.hist(all_mass.mass, bins=np.linspace(2000,6000, 61), alpha = 0.5, weights=weights)\n",
    "plt.show()"
   ]
  }
 ],
 "metadata": {
  "kernelspec": {
   "display_name": "Python 3",
   "language": "python",
   "name": "python3"
  },
  "language_info": {
   "codemirror_mode": {
    "name": "ipython",
    "version": 3
   },
   "file_extension": ".py",
   "mimetype": "text/x-python",
   "name": "python",
   "nbconvert_exporter": "python",
   "pygments_lexer": "ipython3",
   "version": "3.7.6"
  }
 },
 "nbformat": 4,
 "nbformat_minor": 4
}
