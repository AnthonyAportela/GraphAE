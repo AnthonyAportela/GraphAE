{
 "cells": [
  {
   "cell_type": "code",
   "execution_count": 1,
   "metadata": {},
   "outputs": [],
   "source": [
    "import pandas as pd\n",
    "import numpy as np\n",
    "from pyjet import cluster,DTYPE_PTEPM\n",
    "from sklearn import preprocessing\n",
    "from scipy.stats import iqr\n",
    "import tensorflow as tf"
   ]
  },
  {
   "cell_type": "markdown",
   "metadata": {},
   "source": [
    "# Pre processing"
   ]
  },
  {
   "cell_type": "code",
   "execution_count": 2,
   "metadata": {},
   "outputs": [],
   "source": [
    "path = '/anomalyvol/data/events_LHCO2020_BlackBox1.h5'"
   ]
  },
  {
   "cell_type": "code",
   "execution_count": 3,
   "metadata": {},
   "outputs": [],
   "source": [
    "df = pd.read_hdf(path,stop=100000) # just read first 100000 events"
   ]
  },
  {
   "cell_type": "code",
   "execution_count": 4,
   "metadata": {},
   "outputs": [],
   "source": [
    "all_events = df.values"
   ]
  },
  {
   "cell_type": "code",
   "execution_count": 5,
   "metadata": {},
   "outputs": [],
   "source": [
    "rows = all_events.shape[0]\n",
    "cols = all_events.shape[1]\n",
    "data = []"
   ]
  },
  {
   "cell_type": "code",
   "execution_count": 6,
   "metadata": {},
   "outputs": [],
   "source": [
    "for i in range(rows):\n",
    "    pseudojets_input = np.zeros(len([x for x in all_events[i][::3] if x > 0]), dtype=DTYPE_PTEPM)\n",
    "    for j in range(cols // 3):\n",
    "        if (all_events[i][j*3]>0):\n",
    "            pseudojets_input[j]['pT'] = all_events[i][j*3]\n",
    "            pseudojets_input[j]['eta'] = all_events[i][j*3+1]\n",
    "            pseudojets_input[j]['phi'] = all_events[i][j*3+2]\n",
    "        pass\n",
    "    # cluster jets from the particles in one observation\n",
    "    sequence = cluster(pseudojets_input, R=1.0, p=-1)\n",
    "    jets = sequence.inclusive_jets()\n",
    "    for k in range(len(jets)): # for each jet get (px, py, pz, e)\n",
    "        jet = []\n",
    "        jet.append(jets[k].px)\n",
    "        jet.append(jets[k].py)\n",
    "        jet.append(jets[k].pz)\n",
    "        jet.append(jets[k].e)\n",
    "        # might be useful later for bump hunt\n",
    "        jet.append(jets[k].pt)\n",
    "        jet.append(jets[k].eta)\n",
    "        jet.append(jets[k].phi)\n",
    "        jet.append(jets[k].mass)\n",
    "        data.append(jet)"
   ]
  },
  {
   "cell_type": "code",
   "execution_count": 7,
   "metadata": {},
   "outputs": [],
   "source": [
    "loaded_data = data\n",
    "# data = loaded_data"
   ]
  },
  {
   "cell_type": "code",
   "execution_count": 8,
   "metadata": {},
   "outputs": [
    {
     "data": {
      "text/plain": [
       "(1285984, 4)"
      ]
     },
     "execution_count": 8,
     "metadata": {},
     "output_type": "execute_result"
    }
   ],
   "source": [
    "data = np.array(data)\n",
    "data = data[:,:4]  # just keep px, py, pz, e\n",
    "data.shape"
   ]
  },
  {
   "cell_type": "code",
   "execution_count": 9,
   "metadata": {},
   "outputs": [],
   "source": [
    "# splitting data\n",
    "x_train = data[0:int(len(data) * 0.8)]\n",
    "x_val = data[int(len(data) * 0.8):int(len(data) * 0.9)]\n",
    "x_test = data[int(len(data) * 0.9):]"
   ]
  },
  {
   "cell_type": "code",
   "execution_count": 10,
   "metadata": {},
   "outputs": [],
   "source": [
    "# regularize\n",
    "scaler = preprocessing.StandardScaler()\n",
    "x_train = scaler.fit_transform(x_train)\n",
    "x_val = scaler.transform(x_val)\n",
    "x_test = scaler.transform(x_test)"
   ]
  },
  {
   "cell_type": "code",
   "execution_count": 11,
   "metadata": {},
   "outputs": [
    {
     "name": "stdout",
     "output_type": "stream",
     "text": [
      "[0.01968182 0.0197486  0.2271176  1.        ]\n"
     ]
    }
   ],
   "source": [
    "# get the inverse iqr proportion for each feature used to scale their weights in the loss function\n",
    "iqr_prop = iqr(x_train,axis = 0)\n",
    "max_iqr = max(iqr_prop)\n",
    "iqr_prop = np.array(iqr_prop) / max_iqr\n",
    "print(iqr_prop)"
   ]
  },
  {
   "cell_type": "markdown",
   "metadata": {},
   "source": [
    "# VAE Model"
   ]
  },
  {
   "cell_type": "code",
   "execution_count": 12,
   "metadata": {},
   "outputs": [
    {
     "name": "stderr",
     "output_type": "stream",
     "text": [
      "Using TensorFlow backend.\n"
     ]
    }
   ],
   "source": [
    "import keras\n",
    "from keras.layers import Lambda, Input, Dense, Flatten, Reshape, LeakyReLU, ELU\n",
    "from keras.models import Model, Sequential\n",
    "from keras import metrics, losses\n",
    "from keras import backend as K"
   ]
  },
  {
   "cell_type": "code",
   "execution_count": 13,
   "metadata": {},
   "outputs": [],
   "source": [
    "def sampling(args):\n",
    "    \"\"\"\n",
    "    # Arguments\n",
    "        args (tensor): mean and log of variance of Q(z|X)\n",
    "    # Returns\n",
    "        z (tensor): sampled latent vector\n",
    "    \"\"\"\n",
    "\n",
    "    z_mean, z_log_var = args\n",
    "    batch = K.shape(z_mean)[0]\n",
    "    dim = K.int_shape(z_mean)[1]\n",
    "    # by default, random_normal has mean = 0 and std = 1.0\n",
    "    epsilon = K.random_normal(shape=(batch, dim))\n",
    "    return z_mean + K.exp(0.5 * z_log_var) * epsilon"
   ]
  },
  {
   "cell_type": "code",
   "execution_count": 14,
   "metadata": {},
   "outputs": [],
   "source": [
    "inter_dim_1 = 32\n",
    "inter_dim_2 = 16\n",
    "final_dim = 8\n",
    "latent_dim = 2\n",
    "input_dim = 4"
   ]
  },
  {
   "cell_type": "code",
   "execution_count": 15,
   "metadata": {},
   "outputs": [],
   "source": [
    "# encoder\n",
    "x = Input(shape=(input_dim,))\n",
    "#x_flat = Flatten()(x)\n",
    "h1 = Dense(inter_dim_1, activation='relu')(x)\n",
    "h2 = Dense(inter_dim_2, activation='relu')(h1)\n",
    "h3 = Dense(final_dim, activation='relu')(h2)\n",
    "encoding = Dense(latent_dim, activation='tanh')(h3)"
   ]
  },
  {
   "cell_type": "code",
   "execution_count": 16,
   "metadata": {},
   "outputs": [],
   "source": [
    "# decoder\n",
    "decoder_h3 = Dense(final_dim, activation='relu')\n",
    "decoder_h2 = Dense(inter_dim_2, activation='relu')\n",
    "decoder_h1 = Dense(inter_dim_1, activation='relu')\n",
    "decoder_mean = Dense(input_dim, activation='linear')\n",
    "\n",
    "h3_decoded = decoder_h3(encoding)\n",
    "h2_decoded = decoder_h2(h3_decoded)\n",
    "h1_decoded = decoder_h1(h2_decoded)\n",
    "x_decoded_mean = decoder_mean(h1_decoded)\n",
    "# x_decoded = Reshape(input_shape)(x_decoded_mean)"
   ]
  },
  {
   "cell_type": "code",
   "execution_count": 17,
   "metadata": {},
   "outputs": [],
   "source": [
    "vae = Model(inputs = x, outputs = x_decoded_mean, name = 'vae')"
   ]
  },
  {
   "cell_type": "code",
   "execution_count": 18,
   "metadata": {},
   "outputs": [],
   "source": [
    "mse = keras.losses.MeanSquaredError()\n",
    "def ae_loss(x, y):\n",
    "    mse_loss = 0.25 * (iqr_prop[0]*(x[::,0] - y[::,0])**2 + iqr_prop[1]*(x[::,1] - y[::,1])**2 + iqr_prop[2]*(x[::,2] - y[::,2])**2 + iqr_prop[3]*(x[::,3] - y[::,3])**2)\n",
    "    # mse_loss = mse(x,y)\n",
    "    return mse_loss\n",
    "\n",
    "vae.compile(optimizer='adam', loss=ae_loss)"
   ]
  },
  {
   "cell_type": "code",
   "execution_count": 19,
   "metadata": {},
   "outputs": [
    {
     "name": "stdout",
     "output_type": "stream",
     "text": [
      "Model: \"vae\"\n",
      "_________________________________________________________________\n",
      "Layer (type)                 Output Shape              Param #   \n",
      "=================================================================\n",
      "input_1 (InputLayer)         (None, 4)                 0         \n",
      "_________________________________________________________________\n",
      "dense_1 (Dense)              (None, 32)                160       \n",
      "_________________________________________________________________\n",
      "dense_2 (Dense)              (None, 16)                528       \n",
      "_________________________________________________________________\n",
      "dense_3 (Dense)              (None, 8)                 136       \n",
      "_________________________________________________________________\n",
      "dense_4 (Dense)              (None, 2)                 18        \n",
      "_________________________________________________________________\n",
      "dense_5 (Dense)              (None, 8)                 24        \n",
      "_________________________________________________________________\n",
      "dense_6 (Dense)              (None, 16)                144       \n",
      "_________________________________________________________________\n",
      "dense_7 (Dense)              (None, 32)                544       \n",
      "_________________________________________________________________\n",
      "dense_8 (Dense)              (None, 4)                 132       \n",
      "=================================================================\n",
      "Total params: 1,686\n",
      "Trainable params: 1,686\n",
      "Non-trainable params: 0\n",
      "_________________________________________________________________\n"
     ]
    }
   ],
   "source": [
    "vae.summary()"
   ]
  },
  {
   "cell_type": "markdown",
   "metadata": {},
   "source": [
    "# Train"
   ]
  },
  {
   "cell_type": "code",
   "execution_count": 20,
   "metadata": {},
   "outputs": [],
   "source": [
    "from sklearn.model_selection import train_test_split"
   ]
  },
  {
   "cell_type": "code",
   "execution_count": 21,
   "metadata": {},
   "outputs": [],
   "source": [
    "batch_size = 1000\n",
    "epochs = 200"
   ]
  },
  {
   "cell_type": "code",
   "execution_count": 22,
   "metadata": {},
   "outputs": [
    {
     "data": {
      "text/plain": [
       "(1028787, 4)"
      ]
     },
     "execution_count": 22,
     "metadata": {},
     "output_type": "execute_result"
    }
   ],
   "source": [
    "x_train.shape"
   ]
  },
  {
   "cell_type": "code",
   "execution_count": 23,
   "metadata": {},
   "outputs": [],
   "source": [
    "my_callbacks = [\n",
    "    keras.callbacks.EarlyStopping(patience=10)\n",
    "]"
   ]
  },
  {
   "cell_type": "code",
   "execution_count": 24,
   "metadata": {},
   "outputs": [
    {
     "name": "stdout",
     "output_type": "stream",
     "text": [
      "Train on 1028787 samples, validate on 128598 samples\n",
      "Epoch 1/200\n",
      "1028787/1028787 [==============================] - 5s 5us/step - loss: 0.0421 - val_loss: 0.0103\n",
      "Epoch 2/200\n",
      "1028787/1028787 [==============================] - 5s 5us/step - loss: 0.0102 - val_loss: 0.0101\n",
      "Epoch 3/200\n",
      "1028787/1028787 [==============================] - 5s 5us/step - loss: 0.0100 - val_loss: 0.0100\n",
      "Epoch 4/200\n",
      "1028787/1028787 [==============================] - 5s 5us/step - loss: 0.0100 - val_loss: 0.0099\n",
      "Epoch 5/200\n",
      "1028787/1028787 [==============================] - 5s 5us/step - loss: 0.0099 - val_loss: 0.0099\n",
      "Epoch 6/200\n",
      "1028787/1028787 [==============================] - 5s 5us/step - loss: 0.0099 - val_loss: 0.0099\n",
      "Epoch 7/200\n",
      "1028787/1028787 [==============================] - 5s 5us/step - loss: 0.0099 - val_loss: 0.0099\n",
      "Epoch 8/200\n",
      "1028787/1028787 [==============================] - 5s 5us/step - loss: 0.0099 - val_loss: 0.0099\n",
      "Epoch 9/200\n",
      "1028787/1028787 [==============================] - 5s 5us/step - loss: 0.0099 - val_loss: 0.0099\n",
      "Epoch 10/200\n",
      "1028787/1028787 [==============================] - 5s 5us/step - loss: 0.0099 - val_loss: 0.0099\n",
      "Epoch 11/200\n",
      "1028787/1028787 [==============================] - 5s 5us/step - loss: 0.0099 - val_loss: 0.0099\n",
      "Epoch 12/200\n",
      "1028787/1028787 [==============================] - 5s 5us/step - loss: 0.0099 - val_loss: 0.0099\n",
      "Epoch 13/200\n",
      "1028787/1028787 [==============================] - 5s 5us/step - loss: 0.0099 - val_loss: 0.0099\n",
      "Epoch 14/200\n",
      "1028787/1028787 [==============================] - 5s 5us/step - loss: 0.0099 - val_loss: 0.0099\n",
      "Epoch 15/200\n",
      "1028787/1028787 [==============================] - 5s 5us/step - loss: 0.0099 - val_loss: 0.0099\n",
      "Epoch 16/200\n",
      "1028787/1028787 [==============================] - 5s 5us/step - loss: 0.0099 - val_loss: 0.0099\n",
      "Epoch 17/200\n",
      "1028787/1028787 [==============================] - 5s 5us/step - loss: 0.0099 - val_loss: 0.0099\n",
      "Epoch 18/200\n",
      "1028787/1028787 [==============================] - 5s 5us/step - loss: 0.0099 - val_loss: 0.0098\n",
      "Epoch 19/200\n",
      "1028787/1028787 [==============================] - 5s 5us/step - loss: 0.0099 - val_loss: 0.0099\n",
      "Epoch 20/200\n",
      "1028787/1028787 [==============================] - 5s 5us/step - loss: 0.0099 - val_loss: 0.0098\n",
      "Epoch 21/200\n",
      "1028787/1028787 [==============================] - 5s 5us/step - loss: 0.0099 - val_loss: 0.0098\n",
      "Epoch 22/200\n",
      "1028787/1028787 [==============================] - 5s 5us/step - loss: 0.0099 - val_loss: 0.0098\n",
      "Epoch 23/200\n",
      "1028787/1028787 [==============================] - 5s 5us/step - loss: 0.0099 - val_loss: 0.0099\n",
      "Epoch 24/200\n",
      "1028787/1028787 [==============================] - 5s 5us/step - loss: 0.0099 - val_loss: 0.0098\n",
      "Epoch 25/200\n",
      "1028787/1028787 [==============================] - 5s 5us/step - loss: 0.0099 - val_loss: 0.0098\n",
      "Epoch 26/200\n",
      "1028787/1028787 [==============================] - 5s 5us/step - loss: 0.0099 - val_loss: 0.0099\n",
      "Epoch 27/200\n",
      "1028787/1028787 [==============================] - 5s 5us/step - loss: 0.0099 - val_loss: 0.0099\n",
      "Epoch 28/200\n",
      "1028787/1028787 [==============================] - 5s 5us/step - loss: 0.0099 - val_loss: 0.0099\n"
     ]
    }
   ],
   "source": [
    "hist = vae.fit(x_train, x_train,\n",
    "               shuffle=True,\n",
    "               epochs=epochs,\n",
    "               batch_size=batch_size,\n",
    "               validation_data=(x_val, x_val),\n",
    "               callbacks=my_callbacks)"
   ]
  },
  {
   "cell_type": "markdown",
   "metadata": {},
   "source": [
    "# Visualization"
   ]
  },
  {
   "cell_type": "code",
   "execution_count": 25,
   "metadata": {},
   "outputs": [],
   "source": [
    "import matplotlib.pyplot as plt"
   ]
  },
  {
   "cell_type": "code",
   "execution_count": 26,
   "metadata": {},
   "outputs": [
    {
     "data": {
      "image/png": "[encoded data removed]",
      "text/plain": [
       "<Figure size 432x266.991 with 1 Axes>"
      ]
     },
     "metadata": {
      "needs_background": "light"
     },
     "output_type": "display_data"
    }
   ],
   "source": [
    "golden_size = lambda width: (width, 2. * width / (1 + np.sqrt(5)))\n",
    "\n",
    "fig, ax = plt.subplots(figsize=golden_size(6))\n",
    "\n",
    "hist_df = pd.DataFrame(hist.history)\n",
    "hist_df.plot(ax=ax)\n",
    "\n",
    "ax.set_ylabel('NELBO')\n",
    "ax.set_xlabel('# epochs')\n",
    "\n",
    "ax.set_ylim(.99*hist_df[1:].values.min(), \n",
    "            1.1*hist_df[1:].values.max())\n",
    "plt.show()"
   ]
  },
  {
   "cell_type": "code",
   "execution_count": 27,
   "metadata": {},
   "outputs": [],
   "source": [
    "predictions = vae.predict(x_test)"
   ]
  },
  {
   "cell_type": "code",
   "execution_count": 28,
   "metadata": {},
   "outputs": [
    {
     "name": "stdout",
     "output_type": "stream",
     "text": [
      "tf.Tensor(0.5007271, shape=(), dtype=float32)\n"
     ]
    }
   ],
   "source": [
    "# mse on test set\n",
    "p = vae.predict(x_train)\n",
    "print(mse(p, x_train))"
   ]
  },
  {
   "cell_type": "code",
   "execution_count": 29,
   "metadata": {},
   "outputs": [],
   "source": [
    "distr = (x_test - predictions) / x_test"
   ]
  },
  {
   "cell_type": "code",
   "execution_count": 30,
   "metadata": {},
   "outputs": [],
   "source": [
    "px_pred = [row[0] for row in predictions]\n",
    "py_pred = [row[1] for row in predictions]\n",
    "pz_pred = [row[2] for row in predictions]\n",
    "e_pred = [row[3] for row in predictions]"
   ]
  },
  {
   "cell_type": "code",
   "execution_count": 31,
   "metadata": {},
   "outputs": [],
   "source": [
    "px = [row[0] for row in x_test]\n",
    "py = [row[1] for row in x_test]\n",
    "pz = [row[2] for row in x_test]\n",
    "e = [row[3] for row in x_test]"
   ]
  },
  {
   "cell_type": "code",
   "execution_count": 32,
   "metadata": {},
   "outputs": [],
   "source": [
    "overall_distr = K.flatten(distr)\n",
    "overall_pred = K.flatten(predictions)\n",
    "overall_input = K.flatten(x_test)"
   ]
  },
  {
   "cell_type": "code",
   "execution_count": 33,
   "metadata": {},
   "outputs": [
    {
     "data": {
      "text/plain": [
       "(array([   286.,    307.,    314.,    284.,    348.,    335.,    400.,\n",
       "           387.,    399.,    475.,    468.,  63307.,  14670.,   6731.,\n",
       "          4186.,   3061.,   2694.,   2423.,   2304.,   2383.,   2707.,\n",
       "          4008.,   7197.,  33719., 152709., 116782.,  22329.,   9450.,\n",
       "          2519.,   1770.,   1474.,   1346.,   1200.,   1027.,    930.,\n",
       "           875.,    804.,    822.,    722.,    730.,    690.,    722.,\n",
       "           643.,    602.,    671.,    633.,    580.,    597.,    563.]),\n",
       " array([-1.        , -0.95918367, -0.91836735, -0.87755102, -0.83673469,\n",
       "        -0.79591837, -0.75510204, -0.71428571, -0.67346939, -0.63265306,\n",
       "        -0.59183673, -0.55102041, -0.51020408, -0.46938776, -0.42857143,\n",
       "        -0.3877551 , -0.34693878, -0.30612245, -0.26530612, -0.2244898 ,\n",
       "        -0.18367347, -0.14285714, -0.10204082, -0.06122449, -0.02040816,\n",
       "         0.02040816,  0.06122449,  0.10204082,  0.14285714,  0.18367347,\n",
       "         0.2244898 ,  0.26530612,  0.30612245,  0.34693878,  0.3877551 ,\n",
       "         0.42857143,  0.46938776,  0.51020408,  0.55102041,  0.59183673,\n",
       "         0.63265306,  0.67346939,  0.71428571,  0.75510204,  0.79591837,\n",
       "         0.83673469,  0.87755102,  0.91836735,  0.95918367,  1.        ]),\n",
       " <a list of 49 Patch objects>)"
      ]
     },
     "execution_count": 33,
     "metadata": {},
     "output_type": "execute_result"
    },
    {
     "data": {
      "image/png": "[encoded data removed]",
      "text/plain": [
       "<Figure size 432x288 with 1 Axes>"
      ]
     },
     "metadata": {
      "needs_background": "light"
     },
     "output_type": "display_data"
    }
   ],
   "source": [
    "# overall pred vs input\n",
    "bins = np.linspace(-1, 1, 50)\n",
    "plt.hist(overall_input, bins=bins,alpha=0.5)\n",
    "plt.hist(overall_pred, bins=bins,alpha=0.5)"
   ]
  },
  {
   "cell_type": "code",
   "execution_count": 34,
   "metadata": {},
   "outputs": [
    {
     "data": {
      "text/plain": [
       "(array([  1210.,   1330.,   1300.,   1406.,   1521.,   1596.,   1868.,\n",
       "          1972.,   2592.,   3238.,   3631.,   4204.,   7625.,  16437.,\n",
       "        178248.,  17560.,   7595.,   6169.,   5048.,   6054.,   9400.,\n",
       "         56786.,  20314.,   6984.,   4900.,   4078.,   3187.,   2757.,\n",
       "          2587.]),\n",
       " array([-2.        , -1.86206897, -1.72413793, -1.5862069 , -1.44827586,\n",
       "        -1.31034483, -1.17241379, -1.03448276, -0.89655172, -0.75862069,\n",
       "        -0.62068966, -0.48275862, -0.34482759, -0.20689655, -0.06896552,\n",
       "         0.06896552,  0.20689655,  0.34482759,  0.48275862,  0.62068966,\n",
       "         0.75862069,  0.89655172,  1.03448276,  1.17241379,  1.31034483,\n",
       "         1.44827586,  1.5862069 ,  1.72413793,  1.86206897,  2.        ]),\n",
       " <a list of 29 Patch objects>)"
      ]
     },
     "execution_count": 34,
     "metadata": {},
     "output_type": "execute_result"
    },
    {
     "data": {
      "image/png": "[encoded data removed]",
      "text/plain": [
       "<Figure size 432x288 with 1 Axes>"
      ]
     },
     "metadata": {
      "needs_background": "light"
     },
     "output_type": "display_data"
    }
   ],
   "source": [
    "# overall distr\n",
    "bins = np.linspace(-2, 2, 30)\n",
    "plt.hist(overall_distr, bins=bins)"
   ]
  },
  {
   "cell_type": "markdown",
   "metadata": {},
   "source": [
    "## Stacking output (orange) over input (blue) for px, py, pz, E"
   ]
  },
  {
   "cell_type": "code",
   "execution_count": 35,
   "metadata": {},
   "outputs": [
    {
     "data": {
      "text/plain": [
       "(array([0.0000e+00, 0.0000e+00, 0.0000e+00, 0.0000e+00, 0.0000e+00,\n",
       "        0.0000e+00, 0.0000e+00, 0.0000e+00, 0.0000e+00, 0.0000e+00,\n",
       "        0.0000e+00, 0.0000e+00, 0.0000e+00, 0.0000e+00, 0.0000e+00,\n",
       "        0.0000e+00, 0.0000e+00, 0.0000e+00, 0.0000e+00, 0.0000e+00,\n",
       "        0.0000e+00, 3.3000e+01, 7.9525e+04, 1.8809e+04, 4.4550e+03,\n",
       "        3.1680e+03, 3.1930e+03, 5.7360e+03, 4.7760e+03, 3.7370e+03,\n",
       "        2.6170e+03, 1.3090e+03, 6.3900e+02, 2.9700e+02, 1.4900e+02,\n",
       "        8.3000e+01, 4.1000e+01, 1.8000e+01, 1.1000e+01]),\n",
       " array([-0.2       , -0.18974359, -0.17948718, -0.16923077, -0.15897436,\n",
       "        -0.14871795, -0.13846154, -0.12820513, -0.11794872, -0.10769231,\n",
       "        -0.0974359 , -0.08717949, -0.07692308, -0.06666667, -0.05641026,\n",
       "        -0.04615385, -0.03589744, -0.02564103, -0.01538462, -0.00512821,\n",
       "         0.00512821,  0.01538462,  0.02564103,  0.03589744,  0.04615385,\n",
       "         0.05641026,  0.06666667,  0.07692308,  0.08717949,  0.0974359 ,\n",
       "         0.10769231,  0.11794872,  0.12820513,  0.13846154,  0.14871795,\n",
       "         0.15897436,  0.16923077,  0.17948718,  0.18974359,  0.2       ]),\n",
       " <a list of 39 Patch objects>)"
      ]
     },
     "execution_count": 35,
     "metadata": {},
     "output_type": "execute_result"
    },
    {
     "data": {
      "image/png": "[encoded data removed]",
      "text/plain": [
       "<Figure size 432x288 with 1 Axes>"
      ]
     },
     "metadata": {
      "needs_background": "light"
     },
     "output_type": "display_data"
    }
   ],
   "source": [
    "# px\n",
    "bins = np.linspace(-0.2, 0.2, 40)\n",
    "plt.hist(px, bins=bins,alpha=0.5)\n",
    "plt.hist(px_pred, bins=bins,alpha=0.5)"
   ]
  },
  {
   "cell_type": "code",
   "execution_count": 36,
   "metadata": {},
   "outputs": [
    {
     "name": "stdout",
     "output_type": "stream",
     "text": [
      "tf.Tensor(0.9941386, shape=(), dtype=float32)\n"
     ]
    }
   ],
   "source": [
    "print(mse(px,px_pred))"
   ]
  },
  {
   "cell_type": "code",
   "execution_count": 37,
   "metadata": {},
   "outputs": [
    {
     "data": {
      "text/plain": [
       "(array([0.00000e+00, 0.00000e+00, 0.00000e+00, 0.00000e+00, 0.00000e+00,\n",
       "        0.00000e+00, 0.00000e+00, 0.00000e+00, 1.00000e+00, 1.50000e+01,\n",
       "        3.60000e+01, 1.03000e+02, 3.60000e+02, 1.31300e+03, 4.41200e+03,\n",
       "        7.33200e+03, 3.69300e+03, 3.04500e+03, 3.40700e+03, 1.00866e+05,\n",
       "        2.24700e+03, 7.93000e+02, 3.80000e+02, 2.94000e+02, 1.93000e+02,\n",
       "        7.40000e+01, 3.50000e+01, 0.00000e+00, 0.00000e+00, 0.00000e+00,\n",
       "        0.00000e+00, 0.00000e+00, 0.00000e+00, 0.00000e+00, 0.00000e+00,\n",
       "        0.00000e+00, 0.00000e+00, 0.00000e+00, 0.00000e+00]),\n",
       " array([-0.2       , -0.18974359, -0.17948718, -0.16923077, -0.15897436,\n",
       "        -0.14871795, -0.13846154, -0.12820513, -0.11794872, -0.10769231,\n",
       "        -0.0974359 , -0.08717949, -0.07692308, -0.06666667, -0.05641026,\n",
       "        -0.04615385, -0.03589744, -0.02564103, -0.01538462, -0.00512821,\n",
       "         0.00512821,  0.01538462,  0.02564103,  0.03589744,  0.04615385,\n",
       "         0.05641026,  0.06666667,  0.07692308,  0.08717949,  0.0974359 ,\n",
       "         0.10769231,  0.11794872,  0.12820513,  0.13846154,  0.14871795,\n",
       "         0.15897436,  0.16923077,  0.17948718,  0.18974359,  0.2       ]),\n",
       " <a list of 39 Patch objects>)"
      ]
     },
     "execution_count": 37,
     "metadata": {},
     "output_type": "execute_result"
    },
    {
     "data": {
      "image/png": "[encoded data removed]",
      "text/plain": [
       "<Figure size 432x288 with 1 Axes>"
      ]
     },
     "metadata": {
      "needs_background": "light"
     },
     "output_type": "display_data"
    }
   ],
   "source": [
    "# py\n",
    "bins = np.linspace(-0.2, 0.2, 40)\n",
    "plt.hist(py, bins=bins,alpha=0.5)\n",
    "plt.hist(py_pred, bins=bins,alpha=0.5)"
   ]
  },
  {
   "cell_type": "code",
   "execution_count": 38,
   "metadata": {},
   "outputs": [
    {
     "name": "stdout",
     "output_type": "stream",
     "text": [
      "tf.Tensor(1.0158565, shape=(), dtype=float32)\n"
     ]
    }
   ],
   "source": [
    "print(mse(py,py_pred))"
   ]
  },
  {
   "cell_type": "code",
   "execution_count": 39,
   "metadata": {},
   "outputs": [
    {
     "data": {
      "text/plain": [
       "(array([  354.,   314.,   403.,   409.,   409.,   411.,   459.,   581.,\n",
       "          630.,   668.,   707.,   824.,   983.,  1278.,  1825.,  2519.,\n",
       "         3689.,  7114., 14107., 34603.,  9455.,  5132.,  3368.,  1702.,\n",
       "         1404.,  1053.,   962.,   816.,   709.,   604.,   596.,   564.,\n",
       "          484.,   437.,   387.,   356.,   375.,   346.,   316.]),\n",
       " array([-0.5       , -0.47435897, -0.44871795, -0.42307692, -0.3974359 ,\n",
       "        -0.37179487, -0.34615385, -0.32051282, -0.29487179, -0.26923077,\n",
       "        -0.24358974, -0.21794872, -0.19230769, -0.16666667, -0.14102564,\n",
       "        -0.11538462, -0.08974359, -0.06410256, -0.03846154, -0.01282051,\n",
       "         0.01282051,  0.03846154,  0.06410256,  0.08974359,  0.11538462,\n",
       "         0.14102564,  0.16666667,  0.19230769,  0.21794872,  0.24358974,\n",
       "         0.26923077,  0.29487179,  0.32051282,  0.34615385,  0.37179487,\n",
       "         0.3974359 ,  0.42307692,  0.44871795,  0.47435897,  0.5       ]),\n",
       " <a list of 39 Patch objects>)"
      ]
     },
     "execution_count": 39,
     "metadata": {},
     "output_type": "execute_result"
    },
    {
     "data": {
      "image/png": "[encoded data removed]",
      "text/plain": [
       "<Figure size 432x288 with 1 Axes>"
      ]
     },
     "metadata": {
      "needs_background": "light"
     },
     "output_type": "display_data"
    }
   ],
   "source": [
    "# pz\n",
    "bins = np.linspace(-0.5, 0.5, 40)\n",
    "plt.hist(pz, bins=bins,alpha=0.5)\n",
    "plt.hist(pz_pred, bins=bins,alpha=0.5)"
   ]
  },
  {
   "cell_type": "code",
   "execution_count": 40,
   "metadata": {},
   "outputs": [
    {
     "name": "stdout",
     "output_type": "stream",
     "text": [
      "tf.Tensor(0.00012300322, shape=(), dtype=float32)\n"
     ]
    }
   ],
   "source": [
    "print(mse(pz,pz_pred))"
   ]
  },
  {
   "cell_type": "code",
   "execution_count": 41,
   "metadata": {},
   "outputs": [
    {
     "data": {
      "text/plain": [
       "(array([    0.,     0., 45281., 18884.,  8992.,  5330.,  3510.,  2481.,\n",
       "         1881.,  1477.,  1297.,  1124.,   982.,   800.,   717.,   691.,\n",
       "          634.,   575.,   515.,   490.,   486.,   411.,   415.,   379.,\n",
       "          346.,   318.,   352.,   326.,   321.,   276.,   295.,   276.,\n",
       "          253.,   237.,   258.,   270.,   246.,   219.,   243.]),\n",
       " array([-0.6       , -0.57692308, -0.55384615, -0.53076923, -0.50769231,\n",
       "        -0.48461538, -0.46153846, -0.43846154, -0.41538462, -0.39230769,\n",
       "        -0.36923077, -0.34615385, -0.32307692, -0.3       , -0.27692308,\n",
       "        -0.25384615, -0.23076923, -0.20769231, -0.18461538, -0.16153846,\n",
       "        -0.13846154, -0.11538462, -0.09230769, -0.06923077, -0.04615385,\n",
       "        -0.02307692,  0.        ,  0.02307692,  0.04615385,  0.06923077,\n",
       "         0.09230769,  0.11538462,  0.13846154,  0.16153846,  0.18461538,\n",
       "         0.20769231,  0.23076923,  0.25384615,  0.27692308,  0.3       ]),\n",
       " <a list of 39 Patch objects>)"
      ]
     },
     "execution_count": 41,
     "metadata": {},
     "output_type": "execute_result"
    },
    {
     "data": {
      "image/png": "[encoded data removed]",
      "text/plain": [
       "<Figure size 432x288 with 1 Axes>"
      ]
     },
     "metadata": {
      "needs_background": "light"
     },
     "output_type": "display_data"
    }
   ],
   "source": [
    "# E\n",
    "bins = np.linspace(-0.6,0.3, 40)\n",
    "plt.hist(e, bins=bins,alpha=0.5)\n",
    "plt.hist(e_pred, bins=bins,alpha=0.5)"
   ]
  },
  {
   "cell_type": "code",
   "execution_count": 42,
   "metadata": {},
   "outputs": [
    {
     "name": "stdout",
     "output_type": "stream",
     "text": [
      "tf.Tensor(1.3767582e-05, shape=(), dtype=float32)\n"
     ]
    }
   ],
   "source": [
    "print(mse(e,e_pred))"
   ]
  },
  {
   "cell_type": "code",
   "execution_count": 43,
   "metadata": {},
   "outputs": [],
   "source": [
    "d_px = [row[0] for row in distr]\n",
    "d_py = [row[1] for row in distr]\n",
    "d_pz = [row[2] for row in distr]\n",
    "d_e = [row[3] for row in distr]"
   ]
  },
  {
   "cell_type": "markdown",
   "metadata": {},
   "source": [
    "## Distribution of (input - output) / input"
   ]
  },
  {
   "cell_type": "code",
   "execution_count": 44,
   "metadata": {},
   "outputs": [],
   "source": [
    "bins = np.linspace(-2, 2, 30)"
   ]
  },
  {
   "cell_type": "code",
   "execution_count": 45,
   "metadata": {},
   "outputs": [
    {
     "data": {
      "text/plain": [
       "(array([  292.,   309.,   297.,   332.,   336.,   362.,   394.,   426.,\n",
       "          413.,   454.,   482.,   483.,   534.,   575.,   624.,   688.,\n",
       "          756.,   931.,  1124.,  1585.,  2971., 14125.,  9023.,  1932.,\n",
       "         1252.,  1075.,   860.,   749.,   664.]),\n",
       " array([-2.        , -1.86206897, -1.72413793, -1.5862069 , -1.44827586,\n",
       "        -1.31034483, -1.17241379, -1.03448276, -0.89655172, -0.75862069,\n",
       "        -0.62068966, -0.48275862, -0.34482759, -0.20689655, -0.06896552,\n",
       "         0.06896552,  0.20689655,  0.34482759,  0.48275862,  0.62068966,\n",
       "         0.75862069,  0.89655172,  1.03448276,  1.17241379,  1.31034483,\n",
       "         1.44827586,  1.5862069 ,  1.72413793,  1.86206897,  2.        ]),\n",
       " <a list of 29 Patch objects>)"
      ]
     },
     "execution_count": 45,
     "metadata": {},
     "output_type": "execute_result"
    },
    {
     "data": {
      "image/png": "[encoded data removed]",
      "text/plain": [
       "<Figure size 432x288 with 1 Axes>"
      ]
     },
     "metadata": {
      "needs_background": "light"
     },
     "output_type": "display_data"
    }
   ],
   "source": [
    "plt.hist(d_px, bins=bins)"
   ]
  },
  {
   "cell_type": "code",
   "execution_count": 46,
   "metadata": {},
   "outputs": [
    {
     "data": {
      "text/plain": [
       "(array([  438.,   550.,   512.,   540.,   592.,   661.,   759.,   785.,\n",
       "          846.,   922.,  1020.,  1149.,  1241.,  1356.,  1484.,  1636.,\n",
       "         1800.,  2047.,  2493.,  3284.,  5352., 41564., 10077.,  4013.,\n",
       "         2735.,  2248.,  1918.,  1651.,  1567.]),\n",
       " array([-2.        , -1.86206897, -1.72413793, -1.5862069 , -1.44827586,\n",
       "        -1.31034483, -1.17241379, -1.03448276, -0.89655172, -0.75862069,\n",
       "        -0.62068966, -0.48275862, -0.34482759, -0.20689655, -0.06896552,\n",
       "         0.06896552,  0.20689655,  0.34482759,  0.48275862,  0.62068966,\n",
       "         0.75862069,  0.89655172,  1.03448276,  1.17241379,  1.31034483,\n",
       "         1.44827586,  1.5862069 ,  1.72413793,  1.86206897,  2.        ]),\n",
       " <a list of 29 Patch objects>)"
      ]
     },
     "execution_count": 46,
     "metadata": {},
     "output_type": "execute_result"
    },
    {
     "data": {
      "image/png": "[encoded data removed]",
      "text/plain": [
       "<Figure size 432x288 with 1 Axes>"
      ]
     },
     "metadata": {
      "needs_background": "light"
     },
     "output_type": "display_data"
    }
   ],
   "source": [
    "plt.hist(d_py, bins=bins)"
   ]
  },
  {
   "cell_type": "code",
   "execution_count": 47,
   "metadata": {},
   "outputs": [
    {
     "data": {
      "text/plain": [
       "(array([  479.,   471.,   489.,   532.,   588.,   570.,   709.,   755.,\n",
       "         1329.,  1856.,  2115.,  2543.,  5789., 14203., 48518., 14866.,\n",
       "         4984.,  3159.,  1416.,  1178.,  1071.,  1092.,  1209.,  1036.,\n",
       "          913.,   753.,   408.,   357.,   355.]),\n",
       " array([-2.        , -1.86206897, -1.72413793, -1.5862069 , -1.44827586,\n",
       "        -1.31034483, -1.17241379, -1.03448276, -0.89655172, -0.75862069,\n",
       "        -0.62068966, -0.48275862, -0.34482759, -0.20689655, -0.06896552,\n",
       "         0.06896552,  0.20689655,  0.34482759,  0.48275862,  0.62068966,\n",
       "         0.75862069,  0.89655172,  1.03448276,  1.17241379,  1.31034483,\n",
       "         1.44827586,  1.5862069 ,  1.72413793,  1.86206897,  2.        ]),\n",
       " <a list of 29 Patch objects>)"
      ]
     },
     "execution_count": 47,
     "metadata": {},
     "output_type": "execute_result"
    },
    {
     "data": {
      "image/png": "[encoded data removed]",
      "text/plain": [
       "<Figure size 432x288 with 1 Axes>"
      ]
     },
     "metadata": {
      "needs_background": "light"
     },
     "output_type": "display_data"
    }
   ],
   "source": [
    "plt.hist(d_pz, bins=bins)"
   ]
  },
  {
   "cell_type": "code",
   "execution_count": 48,
   "metadata": {},
   "outputs": [
    {
     "data": {
      "text/plain": [
       "(array([1.00000e+00, 0.00000e+00, 2.00000e+00, 2.00000e+00, 5.00000e+00,\n",
       "        3.00000e+00, 6.00000e+00, 6.00000e+00, 4.00000e+00, 6.00000e+00,\n",
       "        1.40000e+01, 2.90000e+01, 6.10000e+01, 3.03000e+02, 1.27622e+05,\n",
       "        3.70000e+02, 5.50000e+01, 3.20000e+01, 1.50000e+01, 7.00000e+00,\n",
       "        6.00000e+00, 5.00000e+00, 5.00000e+00, 3.00000e+00, 0.00000e+00,\n",
       "        2.00000e+00, 1.00000e+00, 0.00000e+00, 1.00000e+00]),\n",
       " array([-2.        , -1.86206897, -1.72413793, -1.5862069 , -1.44827586,\n",
       "        -1.31034483, -1.17241379, -1.03448276, -0.89655172, -0.75862069,\n",
       "        -0.62068966, -0.48275862, -0.34482759, -0.20689655, -0.06896552,\n",
       "         0.06896552,  0.20689655,  0.34482759,  0.48275862,  0.62068966,\n",
       "         0.75862069,  0.89655172,  1.03448276,  1.17241379,  1.31034483,\n",
       "         1.44827586,  1.5862069 ,  1.72413793,  1.86206897,  2.        ]),\n",
       " <a list of 29 Patch objects>)"
      ]
     },
     "execution_count": 48,
     "metadata": {},
     "output_type": "execute_result"
    },
    {
     "data": {
      "image/png": "[encoded data removed]",
      "text/plain": [
       "<Figure size 432x288 with 1 Axes>"
      ]
     },
     "metadata": {
      "needs_background": "light"
     },
     "output_type": "display_data"
    }
   ],
   "source": [
    "plt.hist(d_e, bins=bins)"
   ]
  },
  {
   "cell_type": "markdown",
   "metadata": {},
   "source": [
    "# Anomaly Detection"
   ]
  },
  {
   "cell_type": "code",
   "execution_count": 49,
   "metadata": {},
   "outputs": [],
   "source": [
    "from sklearn.metrics import mean_squared_error"
   ]
  },
  {
   "cell_type": "code",
   "execution_count": 50,
   "metadata": {},
   "outputs": [],
   "source": [
    "all_data = np.concatenate((x_train, x_val, x_test))\n",
    "all_pred = vae.predict(all_data)"
   ]
  },
  {
   "cell_type": "code",
   "execution_count": 51,
   "metadata": {},
   "outputs": [],
   "source": [
    "# get the mse of all predictions\n",
    "errors = (np.square(all_data - all_pred)).mean(axis=1)"
   ]
  },
  {
   "cell_type": "code",
   "execution_count": 52,
   "metadata": {},
   "outputs": [],
   "source": [
    "# all the inputs that had high mse\n",
    "data_df = pd.DataFrame(loaded_data)\n",
    "data_df.columns = ['px','py','pz','e','pt','eta','phi','mass']\n",
    "data_df[\"mse\"] = errors"
   ]
  },
  {
   "cell_type": "code",
   "execution_count": 53,
   "metadata": {},
   "outputs": [],
   "source": [
    "mass_mu = data_df.mass.mean()\n",
    "mass_sd = data_df.mass.std()"
   ]
  },
  {
   "cell_type": "code",
   "execution_count": 54,
   "metadata": {},
   "outputs": [
    {
     "name": "stdout",
     "output_type": "stream",
     "text": [
      "MSE cut: 0.95\n",
      "Proportion of jets with abnormally large mass: 0.008127628337522085\n",
      "Proportion of jets with abnormally large mass in the jets flagged as outliers: 0.650497512437811\n"
     ]
    }
   ],
   "source": [
    "cut = 0.95\n",
    "data_df[\"outlier\"] = 0\n",
    "# define the outliers by a cut on mse error\n",
    "mse_thresh = np.quantile(errors, cut)\n",
    "data_df.loc[data_df[\"mse\"] > mse_thresh, \"outlier\"] = 1\n",
    "\n",
    "# mass outliers from the whole dataset\n",
    "big_set = data_df.loc[data_df[\"mass\"] >= mass_mu + 5 * mass_sd]\n",
    "\n",
    "# mass outliers from the outlier dataset\n",
    "outlier_set = data_df.loc[data_df[\"outlier\"] == 1].loc[data_df[\"mass\"] >= mass_mu + 5 * mass_sd]\n",
    "\n",
    "print(\"MSE cut: \" + str(cut))\n",
    "print(\"Proportion of jets with abnormally large mass: \" + str(len(big_set) / len(data_df)))\n",
    "print(\"Proportion of jets with abnormally large mass in the jets flagged as outliers: \" + str(len(outlier_set) / len(big_set)))"
   ]
  },
  {
   "cell_type": "code",
   "execution_count": 55,
   "metadata": {},
   "outputs": [
    {
     "name": "stdout",
     "output_type": "stream",
     "text": [
      "MSE cut: 0.9\n",
      "Proportion of jets with abnormally large mass: 0.008127628337522085\n",
      "Proportion of jets with abnormally large mass in the jets flagged as outliers: 0.9073861461921163\n"
     ]
    }
   ],
   "source": [
    "cut = 0.90\n",
    "data_df[\"outlier\"] = 0\n",
    "# define the outliers by a cut on mse error\n",
    "mse_thresh = np.quantile(errors, cut)\n",
    "data_df.loc[data_df[\"mse\"] > mse_thresh, \"outlier\"] = 1\n",
    "\n",
    "# mass outliers from the whole dataset\n",
    "big_set = data_df.loc[data_df[\"mass\"] >= mass_mu + 5 * mass_sd]\n",
    "\n",
    "# mass outliers from the outlier dataset\n",
    "outlier_set = data_df.loc[data_df[\"outlier\"] == 1].loc[data_df[\"mass\"] >= mass_mu + 5 * mass_sd]\n",
    "\n",
    "print(\"MSE cut: \" + str(cut))\n",
    "print(\"Proportion of jets with abnormally large mass: \" + str(len(big_set) / len(data_df)))\n",
    "print(\"Proportion of jets with abnormally large mass in the jets flagged as outliers: \" + str(len(outlier_set) / len(big_set)))"
   ]
  },
  {
   "cell_type": "code",
   "execution_count": 56,
   "metadata": {},
   "outputs": [
    {
     "name": "stdout",
     "output_type": "stream",
     "text": [
      "MSE cut: 0.86\n",
      "Proportion of jets with abnormally large mass: 0.008127628337522085\n",
      "Proportion of jets with abnormally large mass in the jets flagged as outliers: 0.9998086490623804\n"
     ]
    }
   ],
   "source": [
    "cut = 0.86\n",
    "data_df[\"outlier\"] = 0\n",
    "# define the outliers by a cut on mse error\n",
    "mse_thresh = np.quantile(errors, cut)\n",
    "data_df.loc[data_df[\"mse\"] > mse_thresh, \"outlier\"] = 1\n",
    "\n",
    "# mass outliers from the whole dataset\n",
    "big_set = data_df.loc[data_df[\"mass\"] >= mass_mu + 5 * mass_sd]\n",
    "\n",
    "# mass outliers from the outlier dataset\n",
    "outlier_set = data_df.loc[data_df[\"outlier\"] == 1].loc[data_df[\"mass\"] >= mass_mu + 5 * mass_sd]\n",
    "\n",
    "print(\"MSE cut: \" + str(cut))\n",
    "print(\"Proportion of jets with abnormally large mass: \" + str(len(big_set) / len(data_df)))\n",
    "print(\"Proportion of jets with abnormally large mass in the jets flagged as outliers: \" + str(len(outlier_set) / len(big_set)))"
   ]
  }
 ],
 "metadata": {
  "kernelspec": {
   "display_name": "Python 3",
   "language": "python",
   "name": "python3"
  },
  "language_info": {
   "codemirror_mode": {
    "name": "ipython",
    "version": 3
   },
   "file_extension": ".py",
   "mimetype": "text/x-python",
   "name": "python",
   "nbconvert_exporter": "python",
   "pygments_lexer": "ipython3",
   "version": "3.7.6"
  }
 },
 "nbformat": 4,
 "nbformat_minor": 4
}
