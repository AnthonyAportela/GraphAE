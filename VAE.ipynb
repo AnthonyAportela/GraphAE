{
 "cells": [
  {
   "cell_type": "code",
   "execution_count": 1,
   "metadata": {},
   "outputs": [],
   "source": [
    "import pandas as pd\n",
    "import numpy as np\n",
    "from pyjet import cluster,DTYPE_PTEPM\n",
    "from sklearn import preprocessing"
   ]
  },
  {
   "cell_type": "markdown",
   "metadata": {},
   "source": [
    "# Pre processing"
   ]
  },
  {
   "cell_type": "code",
   "execution_count": 2,
   "metadata": {},
   "outputs": [],
   "source": [
    "path = path = '/anomalyvol/data/events_LHCO2020_backgroundMC_Pythia.h5'"
   ]
  },
  {
   "cell_type": "code",
   "execution_count": 3,
   "metadata": {},
   "outputs": [],
   "source": [
    "df = pd.read_hdf(path,stop=50000) # just read first 50000 events"
   ]
  },
  {
   "cell_type": "code",
   "execution_count": 4,
   "metadata": {},
   "outputs": [],
   "source": [
    "all_events = df.values"
   ]
  },
  {
   "cell_type": "code",
   "execution_count": 5,
   "metadata": {},
   "outputs": [],
   "source": [
    "rows = all_events.shape[0]\n",
    "cols = all_events.shape[1]\n",
    "data = []"
   ]
  },
  {
   "cell_type": "code",
   "execution_count": 6,
   "metadata": {},
   "outputs": [],
   "source": [
    "for i in range(rows):\n",
    "    pseudojets_input = np.zeros(len([x for x in all_events[i][::3] if x > 0]), dtype=DTYPE_PTEPM)\n",
    "    for j in range(cols // 3):\n",
    "        if (all_events[i][j*3]>0):\n",
    "            pseudojets_input[j]['pT'] = all_events[i][j*3]\n",
    "            pseudojets_input[j]['eta'] = all_events[i][j*3+1]\n",
    "            pseudojets_input[j]['phi'] = all_events[i][j*3+2]\n",
    "        pass\n",
    "    sequence = cluster(pseudojets_input, R=1.0, p=-1)\n",
    "    jets = sequence.inclusive_jets()\n",
    "    for k in range(len(jets)):\n",
    "        jet = []\n",
    "        jet.append(jets[k].pt)\n",
    "        jet.append(jets[k].eta)\n",
    "        jet.append(jets[k].phi)\n",
    "        jet.append(jets[k].mass)\n",
    "        data.append(jet)"
   ]
  },
  {
   "cell_type": "code",
   "execution_count": 7,
   "metadata": {},
   "outputs": [
    {
     "data": {
      "text/plain": [
       "(738745, 4)"
      ]
     },
     "execution_count": 7,
     "metadata": {},
     "output_type": "execute_result"
    }
   ],
   "source": [
    "data = np.array(data)\n",
    "data.shape"
   ]
  },
  {
   "cell_type": "code",
   "execution_count": 8,
   "metadata": {},
   "outputs": [],
   "source": [
    "# splitting data\n",
    "x_train = data[0:int(len(data) * 0.8)]\n",
    "x_val = data[int(len(data) * 0.8):int(len(data) * 0.9)]\n",
    "x_test = data[int(len(data) * 0.9):]"
   ]
  },
  {
   "cell_type": "code",
   "execution_count": 9,
   "metadata": {},
   "outputs": [],
   "source": [
    "# regularize\n",
    "scaler = preprocessing.StandardScaler()\n",
    "x_train = scaler.fit_transform(x_train)\n",
    "x_val = scaler.transform(x_val)\n",
    "x_test = scaler.transform(x_test)"
   ]
  },
  {
   "cell_type": "markdown",
   "metadata": {},
   "source": [
    "# VAE Model"
   ]
  },
  {
   "cell_type": "code",
   "execution_count": 10,
   "metadata": {},
   "outputs": [
    {
     "name": "stderr",
     "output_type": "stream",
     "text": [
      "Using TensorFlow backend.\n"
     ]
    }
   ],
   "source": [
    "import keras\n",
    "from keras.layers import Lambda, Input, Dense, Flatten, Reshape\n",
    "from keras.models import Model, Sequential\n",
    "from keras import metrics, losses\n",
    "from keras import backend as K"
   ]
  },
  {
   "cell_type": "code",
   "execution_count": 11,
   "metadata": {},
   "outputs": [],
   "source": [
    "def sampling(args):\n",
    "    \"\"\"\n",
    "    # Arguments\n",
    "        args (tensor): mean and log of variance of Q(z|X)\n",
    "    # Returns\n",
    "        z (tensor): sampled latent vector\n",
    "    \"\"\"\n",
    "\n",
    "    z_mean, z_log_var = args\n",
    "    batch = K.shape(z_mean)[0]\n",
    "    dim = K.int_shape(z_mean)[1]\n",
    "    # by default, random_normal has mean = 0 and std = 1.0\n",
    "    epsilon = K.random_normal(shape=(batch, dim))\n",
    "    return z_mean + K.exp(0.5 * z_log_var) * epsilon"
   ]
  },
  {
   "cell_type": "code",
   "execution_count": 12,
   "metadata": {},
   "outputs": [],
   "source": [
    "inter_dim_1 = 32\n",
    "inter_dim_2 = 16\n",
    "final_dim = 8\n",
    "latent_dim = 4\n",
    "input_dim = 4"
   ]
  },
  {
   "cell_type": "code",
   "execution_count": 13,
   "metadata": {},
   "outputs": [],
   "source": [
    "# encoder\n",
    "x = Input(shape=(input_dim,))\n",
    "#x_flat = Flatten()(x)\n",
    "h1 = Dense(inter_dim_1, activation='relu')(x)\n",
    "h2 = Dense(inter_dim_2, activation='relu')(h1)\n",
    "h3 = Dense(final_dim, activation='relu')(h2)\n",
    "z_mean = Dense(latent_dim)(h3)\n",
    "z_log_sigma = Dense(latent_dim)(h2)"
   ]
  },
  {
   "cell_type": "code",
   "execution_count": 14,
   "metadata": {},
   "outputs": [],
   "source": [
    "# random sampling\n",
    "z = Lambda(sampling, output_shape=(latent_dim,))([z_mean, z_log_sigma])\n",
    "\n",
    "encoder = Model(inputs = x, outputs = z)"
   ]
  },
  {
   "cell_type": "code",
   "execution_count": 15,
   "metadata": {},
   "outputs": [],
   "source": [
    "# decoder\n",
    "decoder_h3 = Dense(final_dim, activation='relu')\n",
    "decoder_h2 = Dense(inter_dim_2, activation='relu')\n",
    "decoder_h1 = Dense(inter_dim_1, activation='relu')\n",
    "decoder_mean = Dense(input_dim, activation='linear')\n",
    "\n",
    "h3_decoded = decoder_h3(z)\n",
    "h2_decoded = decoder_h2(h3_decoded)\n",
    "h1_decoded = decoder_h1(h2_decoded)\n",
    "x_decoded_mean = decoder_mean(h1_decoded)\n",
    "# x_decoded = Reshape(input_shape)(x_decoded_mean)"
   ]
  },
  {
   "cell_type": "code",
   "execution_count": 16,
   "metadata": {},
   "outputs": [],
   "source": [
    "vae = Model(inputs = x, outputs = x_decoded_mean, name = 'vae')"
   ]
  },
  {
   "cell_type": "code",
   "execution_count": 17,
   "metadata": {},
   "outputs": [],
   "source": [
    "mse = keras.losses.MeanSquaredError()\n",
    "def vae_loss(x, y):\n",
    "    mse_loss = mse(x, y)\n",
    "    kl_loss = - 0.5 * K.mean(1 + z_log_sigma - K.square(z_mean) - K.exp(z_log_sigma), axis=-1)\n",
    "    return mse_loss + kl_loss\n",
    "\n",
    "vae.compile(optimizer='adam', loss=vae_loss)"
   ]
  },
  {
   "cell_type": "code",
   "execution_count": 18,
   "metadata": {},
   "outputs": [
    {
     "name": "stdout",
     "output_type": "stream",
     "text": [
      "Model: \"vae\"\n",
      "__________________________________________________________________________________________________\n",
      "Layer (type)                    Output Shape         Param #     Connected to                     \n",
      "==================================================================================================\n",
      "input_1 (InputLayer)            (None, 4)            0                                            \n",
      "__________________________________________________________________________________________________\n",
      "dense_1 (Dense)                 (None, 256)          1280        input_1[0][0]                    \n",
      "__________________________________________________________________________________________________\n",
      "dense_2 (Dense)                 (None, 128)          32896       dense_1[0][0]                    \n",
      "__________________________________________________________________________________________________\n",
      "dense_3 (Dense)                 (None, 64)           8256        dense_2[0][0]                    \n",
      "__________________________________________________________________________________________________\n",
      "dense_4 (Dense)                 (None, 4)            260         dense_3[0][0]                    \n",
      "__________________________________________________________________________________________________\n",
      "dense_5 (Dense)                 (None, 4)            516         dense_2[0][0]                    \n",
      "__________________________________________________________________________________________________\n",
      "lambda_1 (Lambda)               (None, 4)            0           dense_4[0][0]                    \n",
      "                                                                 dense_5[0][0]                    \n",
      "__________________________________________________________________________________________________\n",
      "dense_6 (Dense)                 (None, 64)           320         lambda_1[0][0]                   \n",
      "__________________________________________________________________________________________________\n",
      "dense_7 (Dense)                 (None, 128)          8320        dense_6[0][0]                    \n",
      "__________________________________________________________________________________________________\n",
      "dense_8 (Dense)                 (None, 256)          33024       dense_7[0][0]                    \n",
      "__________________________________________________________________________________________________\n",
      "dense_9 (Dense)                 (None, 4)            1028        dense_8[0][0]                    \n",
      "==================================================================================================\n",
      "Total params: 85,900\n",
      "Trainable params: 85,900\n",
      "Non-trainable params: 0\n",
      "__________________________________________________________________________________________________\n"
     ]
    }
   ],
   "source": [
    "vae.summary()"
   ]
  },
  {
   "cell_type": "markdown",
   "metadata": {},
   "source": [
    "# Train"
   ]
  },
  {
   "cell_type": "code",
   "execution_count": 19,
   "metadata": {},
   "outputs": [],
   "source": [
    "from sklearn.model_selection import train_test_split"
   ]
  },
  {
   "cell_type": "code",
   "execution_count": 20,
   "metadata": {},
   "outputs": [],
   "source": [
    "batch_size = 500\n",
    "epochs = 100"
   ]
  },
  {
   "cell_type": "code",
   "execution_count": 21,
   "metadata": {},
   "outputs": [
    {
     "data": {
      "text/plain": [
       "(590996, 4)"
      ]
     },
     "execution_count": 21,
     "metadata": {},
     "output_type": "execute_result"
    }
   ],
   "source": [
    "x_train.shape"
   ]
  },
  {
   "cell_type": "code",
   "execution_count": 22,
   "metadata": {},
   "outputs": [],
   "source": [
    "my_callbacks = [\n",
    "    keras.callbacks.EarlyStopping(patience=10)\n",
    "]"
   ]
  },
  {
   "cell_type": "code",
   "execution_count": 23,
   "metadata": {},
   "outputs": [
    {
     "name": "stdout",
     "output_type": "stream",
     "text": [
      "Train on 590996 samples, validate on 73874 samples\n",
      "Epoch 1/100\n",
      "590996/590996 [==============================] - 9s 15us/step - loss: 0.6280 - val_loss: 0.6088\n",
      "Epoch 2/100\n",
      "590996/590996 [==============================] - 8s 13us/step - loss: 0.6074 - val_loss: 0.6031\n",
      "Epoch 3/100\n",
      "590996/590996 [==============================] - 8s 14us/step - loss: 0.6058 - val_loss: 0.6053\n",
      "Epoch 4/100\n",
      "590996/590996 [==============================] - 8s 14us/step - loss: 0.6060 - val_loss: 0.6064\n",
      "Epoch 5/100\n",
      "590996/590996 [==============================] - 9s 15us/step - loss: 0.6055 - val_loss: 0.6058\n",
      "Epoch 6/100\n",
      "590996/590996 [==============================] - 9s 15us/step - loss: 0.6045 - val_loss: 0.6059\n",
      "Epoch 7/100\n",
      "590996/590996 [==============================] - 9s 15us/step - loss: 0.6056 - val_loss: 0.6033\n",
      "Epoch 8/100\n",
      "590996/590996 [==============================] - 9s 15us/step - loss: 0.6042 - val_loss: 0.6067\n",
      "Epoch 9/100\n",
      "590996/590996 [==============================] - 9s 15us/step - loss: 0.6039 - val_loss: 0.6023\n",
      "Epoch 10/100\n",
      "590996/590996 [==============================] - 8s 14us/step - loss: 0.6041 - val_loss: 0.6025\n",
      "Epoch 11/100\n",
      "590996/590996 [==============================] - 8s 13us/step - loss: 0.6035 - val_loss: 0.6037\n",
      "Epoch 12/100\n",
      "590996/590996 [==============================] - 8s 14us/step - loss: 0.6048 - val_loss: 0.6038\n",
      "Epoch 13/100\n",
      "590996/590996 [==============================] - 8s 13us/step - loss: 0.6040 - val_loss: 0.6036\n",
      "Epoch 14/100\n",
      "590996/590996 [==============================] - 8s 14us/step - loss: 0.6027 - val_loss: 0.6046\n",
      "Epoch 15/100\n",
      "590996/590996 [==============================] - 8s 13us/step - loss: 0.6038 - val_loss: 0.6022\n",
      "Epoch 16/100\n",
      "590996/590996 [==============================] - 8s 14us/step - loss: 0.6033 - val_loss: 0.6020\n",
      "Epoch 17/100\n",
      "590996/590996 [==============================] - 8s 14us/step - loss: 0.6035 - val_loss: 0.6032\n",
      "Epoch 18/100\n",
      "590996/590996 [==============================] - 8s 14us/step - loss: 0.6034 - val_loss: 0.6022\n",
      "Epoch 19/100\n",
      "590996/590996 [==============================] - 8s 14us/step - loss: 0.6041 - val_loss: 0.6046\n",
      "Epoch 20/100\n",
      "590996/590996 [==============================] - 8s 14us/step - loss: 0.6033 - val_loss: 0.6022\n",
      "Epoch 21/100\n",
      "590996/590996 [==============================] - 8s 13us/step - loss: 0.6036 - val_loss: 0.6025\n",
      "Epoch 22/100\n",
      "590996/590996 [==============================] - 8s 13us/step - loss: 0.6030 - val_loss: 0.6018\n",
      "Epoch 23/100\n",
      "590996/590996 [==============================] - 8s 13us/step - loss: 0.6027 - val_loss: 0.6017\n",
      "Epoch 24/100\n",
      "590996/590996 [==============================] - 8s 13us/step - loss: 0.6033 - val_loss: 0.6046\n",
      "Epoch 25/100\n",
      "590996/590996 [==============================] - 8s 13us/step - loss: 0.6034 - val_loss: 0.6015\n",
      "Epoch 26/100\n",
      "590996/590996 [==============================] - 8s 13us/step - loss: 0.6033 - val_loss: 0.6064\n",
      "Epoch 27/100\n",
      "590996/590996 [==============================] - 8s 13us/step - loss: 0.6030 - val_loss: 0.6040\n",
      "Epoch 28/100\n",
      "590996/590996 [==============================] - 7s 12us/step - loss: 0.6023 - val_loss: 0.6026\n",
      "Epoch 29/100\n",
      "590996/590996 [==============================] - 8s 14us/step - loss: 0.6027 - val_loss: 0.6046\n",
      "Epoch 30/100\n",
      "590996/590996 [==============================] - 8s 13us/step - loss: 0.6030 - val_loss: 0.6035\n",
      "Epoch 31/100\n",
      "590996/590996 [==============================] - 9s 15us/step - loss: 0.6026 - val_loss: 0.6051\n",
      "Epoch 32/100\n",
      "590996/590996 [==============================] - 8s 14us/step - loss: 0.6024 - val_loss: 0.6024\n",
      "Epoch 33/100\n",
      "590996/590996 [==============================] - 8s 13us/step - loss: 0.6031 - val_loss: 0.6047\n",
      "Epoch 34/100\n",
      "590996/590996 [==============================] - 8s 13us/step - loss: 0.6021 - val_loss: 0.6039\n",
      "Epoch 35/100\n",
      "590996/590996 [==============================] - 8s 13us/step - loss: 0.6031 - val_loss: 0.6037\n"
     ]
    }
   ],
   "source": [
    "hist = vae.fit(x_train, x_train,\n",
    "               shuffle=True,\n",
    "               epochs=epochs,\n",
    "               batch_size=batch_size,\n",
    "               validation_data=(x_val, x_val),\n",
    "               callbacks=my_callbacks)"
   ]
  },
  {
   "cell_type": "markdown",
   "metadata": {},
   "source": [
    "# Visualization"
   ]
  },
  {
   "cell_type": "code",
   "execution_count": 24,
   "metadata": {},
   "outputs": [],
   "source": [
    "import matplotlib.pyplot as plt"
   ]
  },
  {
   "cell_type": "code",
   "execution_count": 40,
   "metadata": {},
   "outputs": [
    {
     "data": {
      "image/png": "[encoded data removed]",
      "text/plain": [
       "<Figure size 432x266.991 with 1 Axes>"
      ]
     },
     "metadata": {
      "needs_background": "light"
     },
     "output_type": "display_data"
    }
   ],
   "source": [
    "golden_size = lambda width: (width, 2. * width / (1 + np.sqrt(5)))\n",
    "\n",
    "fig, ax = plt.subplots(figsize=golden_size(6))\n",
    "\n",
    "hist_df = pd.DataFrame(hist.history)\n",
    "hist_df.plot(ax=ax)\n",
    "\n",
    "ax.set_ylabel('NELBO')\n",
    "ax.set_xlabel('# epochs')\n",
    "\n",
    "ax.set_ylim(.99*hist_df[1:].values.min(), \n",
    "            1.1*hist_df[1:].values.max())\n",
    "plt.show()"
   ]
  },
  {
   "cell_type": "code",
   "execution_count": 56,
   "metadata": {},
   "outputs": [],
   "source": [
    "predictions = vae.predict(x_test)"
   ]
  },
  {
   "cell_type": "code",
   "execution_count": 57,
   "metadata": {},
   "outputs": [
    {
     "data": {
      "text/plain": [
       "array([[-0.42531464,  1.2027376 ,  0.44998312, -0.3291189 ],\n",
       "       [-0.39020225, -0.7126987 ,  0.57134986, -0.30732858],\n",
       "       [ 2.1891022 , -0.02447707,  0.5832078 ,  0.7632716 ],\n",
       "       ...,\n",
       "       [-0.41169366, -1.2293227 ,  1.0225103 , -0.3247236 ],\n",
       "       [-0.41287628,  1.1133944 , -0.74467665, -0.31705886],\n",
       "       [-0.42888555,  1.2784923 ,  0.37913418, -0.33292723]],\n",
       "      dtype=float32)"
      ]
     },
     "execution_count": 57,
     "metadata": {},
     "output_type": "execute_result"
    }
   ],
   "source": [
    "predictions"
   ]
  },
  {
   "cell_type": "code",
   "execution_count": 58,
   "metadata": {},
   "outputs": [],
   "source": [
    "distr = (x_test - predictions) / x_test"
   ]
  },
  {
   "cell_type": "code",
   "execution_count": 59,
   "metadata": {},
   "outputs": [],
   "source": [
    "pT_pred = [row[0] for row in predictions]\n",
    "eta_pred = [row[1] for row in predictions]\n",
    "phi_pred = [row[2] for row in predictions]\n",
    "mass_pred = [row[3] for row in predictions]"
   ]
  },
  {
   "cell_type": "code",
   "execution_count": 60,
   "metadata": {},
   "outputs": [],
   "source": [
    "pT = [row[0] for row in x_test]\n",
    "eta = [row[1] for row in x_test]\n",
    "phi = [row[2] for row in x_test]\n",
    "mass = [row[3] for row in x_test]"
   ]
  },
  {
   "cell_type": "markdown",
   "metadata": {},
   "source": [
    "## Stacking output (orange) over input (blue) for pT, eta, phi, m"
   ]
  },
  {
   "cell_type": "code",
   "execution_count": 61,
   "metadata": {},
   "outputs": [
    {
     "data": {
      "image/png": "[encoded data removed]",
      "text/plain": [
       "<Figure size 432x288 with 1 Axes>"
      ]
     },
     "metadata": {
      "needs_background": "light"
     },
     "output_type": "display_data"
    }
   ],
   "source": [
    "bins = np.linspace(-0.45, -0.2, 40)\n",
    "plt.hist(pT, bins=bins,alpha=0.5)\n",
    "plt.hist(pT_pred, bins=bins,alpha=0.5)\n",
    "bins = np.linspace(-0.45, -0.2, 40)"
   ]
  },
  {
   "cell_type": "code",
   "execution_count": 62,
   "metadata": {},
   "outputs": [
    {
     "data": {
      "text/plain": [
       "(array([0.000e+00, 0.000e+00, 0.000e+00, 0.000e+00, 0.000e+00, 0.000e+00,\n",
       "        0.000e+00, 0.000e+00, 0.000e+00, 0.000e+00, 9.000e+00, 5.000e+01,\n",
       "        2.520e+02, 6.410e+02, 1.142e+03, 1.346e+03, 1.516e+03, 1.640e+03,\n",
       "        1.646e+03, 1.643e+03, 1.724e+03, 1.721e+03, 1.568e+03, 1.416e+03,\n",
       "        1.234e+03, 1.278e+03, 1.219e+03, 1.233e+03, 1.206e+03, 1.091e+03,\n",
       "        1.080e+03, 9.920e+02, 9.630e+02, 9.790e+02, 1.039e+03, 1.026e+03,\n",
       "        1.041e+03, 1.411e+03, 3.419e+03, 6.521e+03, 1.959e+03, 1.191e+03,\n",
       "        9.410e+02, 9.580e+02, 9.710e+02, 1.026e+03, 1.004e+03, 9.970e+02,\n",
       "        1.016e+03, 9.760e+02, 9.900e+02, 1.063e+03, 1.232e+03, 1.217e+03,\n",
       "        1.312e+03, 1.382e+03, 1.509e+03, 1.644e+03, 1.605e+03, 1.654e+03,\n",
       "        1.674e+03, 1.524e+03, 1.257e+03, 1.154e+03, 8.390e+02, 4.730e+02,\n",
       "        2.170e+02, 4.000e+01, 4.000e+00, 0.000e+00, 0.000e+00, 0.000e+00,\n",
       "        0.000e+00, 0.000e+00, 0.000e+00, 0.000e+00, 0.000e+00, 0.000e+00,\n",
       "        0.000e+00]),\n",
       " array([-2.        , -1.94936709, -1.89873418, -1.84810127, -1.79746835,\n",
       "        -1.74683544, -1.69620253, -1.64556962, -1.59493671, -1.5443038 ,\n",
       "        -1.49367089, -1.44303797, -1.39240506, -1.34177215, -1.29113924,\n",
       "        -1.24050633, -1.18987342, -1.13924051, -1.08860759, -1.03797468,\n",
       "        -0.98734177, -0.93670886, -0.88607595, -0.83544304, -0.78481013,\n",
       "        -0.73417722, -0.6835443 , -0.63291139, -0.58227848, -0.53164557,\n",
       "        -0.48101266, -0.43037975, -0.37974684, -0.32911392, -0.27848101,\n",
       "        -0.2278481 , -0.17721519, -0.12658228, -0.07594937, -0.02531646,\n",
       "         0.02531646,  0.07594937,  0.12658228,  0.17721519,  0.2278481 ,\n",
       "         0.27848101,  0.32911392,  0.37974684,  0.43037975,  0.48101266,\n",
       "         0.53164557,  0.58227848,  0.63291139,  0.6835443 ,  0.73417722,\n",
       "         0.78481013,  0.83544304,  0.88607595,  0.93670886,  0.98734177,\n",
       "         1.03797468,  1.08860759,  1.13924051,  1.18987342,  1.24050633,\n",
       "         1.29113924,  1.34177215,  1.39240506,  1.44303797,  1.49367089,\n",
       "         1.5443038 ,  1.59493671,  1.64556962,  1.69620253,  1.74683544,\n",
       "         1.79746835,  1.84810127,  1.89873418,  1.94936709,  2.        ]),\n",
       " <a list of 79 Patch objects>)"
      ]
     },
     "execution_count": 62,
     "metadata": {},
     "output_type": "execute_result"
    },
    {
     "data": {
      "image/png": "[encoded data removed]",
      "text/plain": [
       "<Figure size 432x288 with 1 Axes>"
      ]
     },
     "metadata": {
      "needs_background": "light"
     },
     "output_type": "display_data"
    }
   ],
   "source": [
    "bins = np.linspace(-2, 2, 80)\n",
    "plt.hist(eta, bins=bins,alpha=0.5)\n",
    "plt.hist(eta_pred, bins=bins,alpha=0.5)"
   ]
  },
  {
   "cell_type": "code",
   "execution_count": 63,
   "metadata": {},
   "outputs": [
    {
     "data": {
      "text/plain": [
       "(array([0.000e+00, 0.000e+00, 0.000e+00, 0.000e+00, 0.000e+00, 0.000e+00,\n",
       "        0.000e+00, 0.000e+00, 0.000e+00, 0.000e+00, 1.000e+00, 1.000e+00,\n",
       "        1.000e+00, 0.000e+00, 2.000e+00, 9.000e+00, 1.500e+01, 4.000e+01,\n",
       "        8.400e+01, 3.590e+02, 8.560e+02, 1.036e+03, 1.319e+03, 1.461e+03,\n",
       "        1.740e+03, 1.802e+03, 1.859e+03, 1.652e+03, 1.604e+03, 1.572e+03,\n",
       "        1.450e+03, 1.395e+03, 1.348e+03, 1.256e+03, 1.285e+03, 1.179e+03,\n",
       "        1.108e+03, 1.141e+03, 1.152e+03, 1.095e+03, 9.550e+02, 9.530e+02,\n",
       "        1.017e+03, 9.510e+02, 9.930e+02, 9.490e+02, 1.026e+03, 9.780e+02,\n",
       "        9.690e+02, 1.020e+03, 9.500e+02, 1.001e+03, 1.052e+03, 9.810e+02,\n",
       "        9.870e+02, 1.033e+03, 1.027e+03, 9.350e+02, 9.670e+02, 1.086e+03,\n",
       "        1.186e+03, 1.183e+03, 1.194e+03, 1.201e+03, 1.214e+03, 1.350e+03,\n",
       "        1.338e+03, 1.477e+03, 1.510e+03, 1.522e+03, 1.477e+03, 1.530e+03,\n",
       "        1.484e+03, 1.466e+03, 1.719e+03, 1.567e+03, 1.392e+03, 9.730e+02,\n",
       "        7.320e+02, 4.640e+02, 1.910e+02, 4.800e+01, 5.000e+00, 0.000e+00,\n",
       "        0.000e+00, 0.000e+00, 0.000e+00, 0.000e+00, 0.000e+00, 0.000e+00,\n",
       "        0.000e+00, 0.000e+00, 0.000e+00, 0.000e+00, 0.000e+00, 0.000e+00,\n",
       "        0.000e+00, 0.000e+00, 0.000e+00]),\n",
       " array([-2.        , -1.95959596, -1.91919192, -1.87878788, -1.83838384,\n",
       "        -1.7979798 , -1.75757576, -1.71717172, -1.67676768, -1.63636364,\n",
       "        -1.5959596 , -1.55555556, -1.51515152, -1.47474747, -1.43434343,\n",
       "        -1.39393939, -1.35353535, -1.31313131, -1.27272727, -1.23232323,\n",
       "        -1.19191919, -1.15151515, -1.11111111, -1.07070707, -1.03030303,\n",
       "        -0.98989899, -0.94949495, -0.90909091, -0.86868687, -0.82828283,\n",
       "        -0.78787879, -0.74747475, -0.70707071, -0.66666667, -0.62626263,\n",
       "        -0.58585859, -0.54545455, -0.50505051, -0.46464646, -0.42424242,\n",
       "        -0.38383838, -0.34343434, -0.3030303 , -0.26262626, -0.22222222,\n",
       "        -0.18181818, -0.14141414, -0.1010101 , -0.06060606, -0.02020202,\n",
       "         0.02020202,  0.06060606,  0.1010101 ,  0.14141414,  0.18181818,\n",
       "         0.22222222,  0.26262626,  0.3030303 ,  0.34343434,  0.38383838,\n",
       "         0.42424242,  0.46464646,  0.50505051,  0.54545455,  0.58585859,\n",
       "         0.62626263,  0.66666667,  0.70707071,  0.74747475,  0.78787879,\n",
       "         0.82828283,  0.86868687,  0.90909091,  0.94949495,  0.98989899,\n",
       "         1.03030303,  1.07070707,  1.11111111,  1.15151515,  1.19191919,\n",
       "         1.23232323,  1.27272727,  1.31313131,  1.35353535,  1.39393939,\n",
       "         1.43434343,  1.47474747,  1.51515152,  1.55555556,  1.5959596 ,\n",
       "         1.63636364,  1.67676768,  1.71717172,  1.75757576,  1.7979798 ,\n",
       "         1.83838384,  1.87878788,  1.91919192,  1.95959596,  2.        ]),\n",
       " <a list of 99 Patch objects>)"
      ]
     },
     "execution_count": 63,
     "metadata": {},
     "output_type": "execute_result"
    },
    {
     "data": {
      "image/png": "[encoded data removed]",
      "text/plain": [
       "<Figure size 432x288 with 1 Axes>"
      ]
     },
     "metadata": {
      "needs_background": "light"
     },
     "output_type": "display_data"
    }
   ],
   "source": [
    "bins = np.linspace(-2,2, 100)\n",
    "plt.hist(phi, bins=bins,alpha=0.5)\n",
    "plt.hist(phi_pred, bins=bins,alpha=0.5)"
   ]
  },
  {
   "cell_type": "code",
   "execution_count": 64,
   "metadata": {},
   "outputs": [
    {
     "data": {
      "text/plain": [
       "(array([0.0000e+00, 2.0000e+00, 3.6680e+03, 2.7442e+04, 2.6195e+04,\n",
       "        3.8040e+03, 6.8100e+02, 3.2800e+02, 1.7400e+02, 1.1400e+02,\n",
       "        7.7000e+01, 6.8000e+01, 4.6000e+01, 4.5000e+01, 3.4000e+01,\n",
       "        3.1000e+01, 3.7000e+01, 3.0000e+01, 3.8000e+01, 4.0000e+01,\n",
       "        3.9000e+01, 4.2000e+01, 3.0000e+01, 3.4000e+01, 2.7000e+01,\n",
       "        4.0000e+01, 3.8000e+01, 3.8000e+01, 5.5000e+01, 4.9000e+01,\n",
       "        5.2000e+01, 5.4000e+01, 4.9000e+01, 5.8000e+01, 6.8000e+01,\n",
       "        8.5000e+01, 8.0000e+01, 9.5000e+01, 9.9000e+01, 1.2000e+02,\n",
       "        1.2800e+02, 1.3400e+02, 1.7200e+02, 1.9000e+02, 1.9200e+02,\n",
       "        2.0800e+02, 2.2300e+02, 2.2300e+02, 2.1500e+02, 2.1000e+02,\n",
       "        1.9100e+02, 1.9200e+02, 1.8700e+02, 1.5600e+02, 1.4100e+02,\n",
       "        1.6600e+02, 1.3700e+02, 1.3100e+02, 1.2300e+02]),\n",
       " array([-0.4       , -0.37627119, -0.35254237, -0.32881356, -0.30508475,\n",
       "        -0.28135593, -0.25762712, -0.23389831, -0.21016949, -0.18644068,\n",
       "        -0.16271186, -0.13898305, -0.11525424, -0.09152542, -0.06779661,\n",
       "        -0.0440678 , -0.02033898,  0.00338983,  0.02711864,  0.05084746,\n",
       "         0.07457627,  0.09830508,  0.1220339 ,  0.14576271,  0.16949153,\n",
       "         0.19322034,  0.21694915,  0.24067797,  0.26440678,  0.28813559,\n",
       "         0.31186441,  0.33559322,  0.35932203,  0.38305085,  0.40677966,\n",
       "         0.43050847,  0.45423729,  0.4779661 ,  0.50169492,  0.52542373,\n",
       "         0.54915254,  0.57288136,  0.59661017,  0.62033898,  0.6440678 ,\n",
       "         0.66779661,  0.69152542,  0.71525424,  0.73898305,  0.76271186,\n",
       "         0.78644068,  0.81016949,  0.83389831,  0.85762712,  0.88135593,\n",
       "         0.90508475,  0.92881356,  0.95254237,  0.97627119,  1.        ]),\n",
       " <a list of 59 Patch objects>)"
      ]
     },
     "execution_count": 64,
     "metadata": {},
     "output_type": "execute_result"
    },
    {
     "data": {
      "image/png": "[encoded data removed]",
      "text/plain": [
       "<Figure size 432x288 with 1 Axes>"
      ]
     },
     "metadata": {
      "needs_background": "light"
     },
     "output_type": "display_data"
    }
   ],
   "source": [
    "bins = np.linspace(-.4,1, 60)\n",
    "plt.hist(mass, bins=bins,alpha=0.5)\n",
    "plt.hist(mass_pred, bins=bins,alpha=0.5)"
   ]
  },
  {
   "cell_type": "code",
   "execution_count": 65,
   "metadata": {},
   "outputs": [],
   "source": [
    "d_pT = [row[0] for row in distr]\n",
    "d_eta = [row[1] for row in distr]\n",
    "d_phi = [row[2] for row in distr]\n",
    "d_mass = [row[3] for row in distr]"
   ]
  },
  {
   "cell_type": "markdown",
   "metadata": {},
   "source": [
    "## Distribution of (input - output) / input"
   ]
  },
  {
   "cell_type": "code",
   "execution_count": 66,
   "metadata": {},
   "outputs": [],
   "source": [
    "bins = np.linspace(-2, 2, 30)"
   ]
  },
  {
   "cell_type": "code",
   "execution_count": 67,
   "metadata": {},
   "outputs": [
    {
     "data": {
      "text/plain": [
       "(array([   64.,    61.,    81.,    68.,   119.,   109.,   154.,   199.,\n",
       "          293.,   389.,   486.,   744.,  1363.,  3468., 27120., 32350.,\n",
       "         2024.,   595.,   212.,   112.,    72.,    41.,    57.,    78.,\n",
       "          289.,   239.,   199.,   131.,   114.]),\n",
       " array([-2.        , -1.86206897, -1.72413793, -1.5862069 , -1.44827586,\n",
       "        -1.31034483, -1.17241379, -1.03448276, -0.89655172, -0.75862069,\n",
       "        -0.62068966, -0.48275862, -0.34482759, -0.20689655, -0.06896552,\n",
       "         0.06896552,  0.20689655,  0.34482759,  0.48275862,  0.62068966,\n",
       "         0.75862069,  0.89655172,  1.03448276,  1.17241379,  1.31034483,\n",
       "         1.44827586,  1.5862069 ,  1.72413793,  1.86206897,  2.        ]),\n",
       " <a list of 29 Patch objects>)"
      ]
     },
     "execution_count": 67,
     "metadata": {},
     "output_type": "execute_result"
    },
    {
     "data": {
      "image/png": "[encoded data removed]",
      "text/plain": [
       "<Figure size 432x288 with 1 Axes>"
      ]
     },
     "metadata": {
      "needs_background": "light"
     },
     "output_type": "display_data"
    }
   ],
   "source": [
    "plt.hist(d_pT, bins=bins)"
   ]
  },
  {
   "cell_type": "code",
   "execution_count": 68,
   "metadata": {},
   "outputs": [
    {
     "data": {
      "text/plain": [
       "(array([ 251.,  253.,  297.,  275.,  356.,  411.,  490.,  583.,  750.,\n",
       "         971., 1310., 1714., 2210., 2664., 3570., 5292., 8226., 7368.,\n",
       "        5077., 3837., 3572., 5871., 3203., 1799., 1242., 1035.,  786.,\n",
       "         651.,  579.]),\n",
       " array([-2.        , -1.86206897, -1.72413793, -1.5862069 , -1.44827586,\n",
       "        -1.31034483, -1.17241379, -1.03448276, -0.89655172, -0.75862069,\n",
       "        -0.62068966, -0.48275862, -0.34482759, -0.20689655, -0.06896552,\n",
       "         0.06896552,  0.20689655,  0.34482759,  0.48275862,  0.62068966,\n",
       "         0.75862069,  0.89655172,  1.03448276,  1.17241379,  1.31034483,\n",
       "         1.44827586,  1.5862069 ,  1.72413793,  1.86206897,  2.        ]),\n",
       " <a list of 29 Patch objects>)"
      ]
     },
     "execution_count": 68,
     "metadata": {},
     "output_type": "execute_result"
    },
    {
     "data": {
      "image/png": "[encoded data removed]",
      "text/plain": [
       "<Figure size 432x288 with 1 Axes>"
      ]
     },
     "metadata": {
      "needs_background": "light"
     },
     "output_type": "display_data"
    }
   ],
   "source": [
    "plt.hist(d_eta, bins=bins)"
   ]
  },
  {
   "cell_type": "code",
   "execution_count": 69,
   "metadata": {},
   "outputs": [
    {
     "data": {
      "text/plain": [
       "(array([ 251.,  301.,  300.,  349.,  436.,  472.,  560.,  695.,  762.,\n",
       "         970., 1160., 1547., 2007., 2675., 3756., 5692., 8705., 8720.,\n",
       "        5913., 4005., 3089., 2465., 1935., 1578., 1232., 1004.,  884.,\n",
       "         675.,  583.]),\n",
       " array([-2.        , -1.86206897, -1.72413793, -1.5862069 , -1.44827586,\n",
       "        -1.31034483, -1.17241379, -1.03448276, -0.89655172, -0.75862069,\n",
       "        -0.62068966, -0.48275862, -0.34482759, -0.20689655, -0.06896552,\n",
       "         0.06896552,  0.20689655,  0.34482759,  0.48275862,  0.62068966,\n",
       "         0.75862069,  0.89655172,  1.03448276,  1.17241379,  1.31034483,\n",
       "         1.44827586,  1.5862069 ,  1.72413793,  1.86206897,  2.        ]),\n",
       " <a list of 29 Patch objects>)"
      ]
     },
     "execution_count": 69,
     "metadata": {},
     "output_type": "execute_result"
    },
    {
     "data": {
      "image/png": "[encoded data removed]",
      "text/plain": [
       "<Figure size 432x288 with 1 Axes>"
      ]
     },
     "metadata": {
      "needs_background": "light"
     },
     "output_type": "display_data"
    }
   ],
   "source": [
    "plt.hist(d_phi, bins=bins)"
   ]
  }
 ],
 "metadata": {
  "kernelspec": {
   "display_name": "Python 3",
   "language": "python",
   "name": "python3"
  },
  "language_info": {
   "codemirror_mode": {
    "name": "ipython",
    "version": 3
   },
   "file_extension": ".py",
   "mimetype": "text/x-python",
   "name": "python",
   "nbconvert_exporter": "python",
   "pygments_lexer": "ipython3",
   "version": "3.7.6"
  }
 },
 "nbformat": 4,
 "nbformat_minor": 4
}
