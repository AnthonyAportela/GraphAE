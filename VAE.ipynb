{
 "cells": [
  {
   "cell_type": "code",
   "execution_count": 1,
   "metadata": {},
   "outputs": [],
   "source": [
    "import pandas as pd\n",
    "import numpy as np\n",
    "from pyjet import cluster,DTYPE_PTEPM\n",
    "from sklearn import preprocessing"
   ]
  },
  {
   "cell_type": "markdown",
   "metadata": {},
   "source": [
    "# Pre processing"
   ]
  },
  {
   "cell_type": "code",
   "execution_count": 2,
   "metadata": {},
   "outputs": [],
   "source": [
    "path = path = '/anomalyvol/data/events_LHCO2020_backgroundMC_Pythia.h5'"
   ]
  },
  {
   "cell_type": "code",
   "execution_count": 3,
   "metadata": {},
   "outputs": [],
   "source": [
    "df = pd.read_hdf(path,stop=1000) # just read first 1000 events"
   ]
  },
  {
   "cell_type": "code",
   "execution_count": 4,
   "metadata": {},
   "outputs": [],
   "source": [
    "all_events = df.values"
   ]
  },
  {
   "cell_type": "code",
   "execution_count": 5,
   "metadata": {},
   "outputs": [],
   "source": [
    "rows = all_events.shape[0]\n",
    "cols = all_events.shape[1]\n",
    "data = []"
   ]
  },
  {
   "cell_type": "code",
   "execution_count": 6,
   "metadata": {},
   "outputs": [],
   "source": [
    "for i in range(rows):\n",
    "    pseudojets_input = np.zeros(len([x for x in all_events[i][::3] if x > 0]), dtype=DTYPE_PTEPM)\n",
    "    for j in range(cols // 3):\n",
    "        if (all_events[i][j*3]>0):\n",
    "            pseudojets_input[j]['pT'] = all_events[i][j*3]\n",
    "            pseudojets_input[j]['eta'] = all_events[i][j*3+1]\n",
    "            pseudojets_input[j]['phi'] = all_events[i][j*3+2]\n",
    "        pass\n",
    "    sequence = cluster(pseudojets_input, R=1.0, p=-1)\n",
    "    jets = sequence.inclusive_jets()\n",
    "    for k in range(len(jets)):\n",
    "        jet = []\n",
    "        jet.append(jets[k].pt)\n",
    "        jet.append(jets[k].eta)\n",
    "        jet.append(jets[k].phi)\n",
    "        jet.append(jets[k].mass)\n",
    "        data.append(jet)"
   ]
  },
  {
   "cell_type": "code",
   "execution_count": 7,
   "metadata": {},
   "outputs": [
    {
     "data": {
      "text/plain": [
       "(14795, 4)"
      ]
     },
     "execution_count": 7,
     "metadata": {},
     "output_type": "execute_result"
    }
   ],
   "source": [
    "data = np.array(data)\n",
    "data.shape"
   ]
  },
  {
   "cell_type": "code",
   "execution_count": 8,
   "metadata": {
    "scrolled": false
   },
   "outputs": [],
   "source": [
    "# looking for bad data\n",
    "bad_data = 0\n",
    "for i in range(len(data)):\n",
    "    if(0.0 in data[i]):\n",
    "        bad_data += 1"
   ]
  },
  {
   "cell_type": "code",
   "execution_count": 9,
   "metadata": {},
   "outputs": [
    {
     "data": {
      "text/plain": [
       "(439, 14795)"
      ]
     },
     "execution_count": 9,
     "metadata": {},
     "output_type": "execute_result"
    }
   ],
   "source": [
    "(bad_data, len(data))"
   ]
  },
  {
   "cell_type": "code",
   "execution_count": 10,
   "metadata": {},
   "outputs": [
    {
     "data": {
      "text/plain": [
       "(344.6350920188037, 387.5184029169282)"
      ]
     },
     "execution_count": 10,
     "metadata": {},
     "output_type": "execute_result"
    }
   ],
   "source": [
    "# checking distribution of data\n",
    "(data[:][1].mean(), data[:][1].std()) # eta"
   ]
  },
  {
   "cell_type": "code",
   "execution_count": 11,
   "metadata": {},
   "outputs": [],
   "source": [
    "# regularize\n",
    "min_max_scaler = preprocessing.MinMaxScaler()\n",
    "data = min_max_scaler.fit_transform(data)"
   ]
  },
  {
   "cell_type": "markdown",
   "metadata": {},
   "source": [
    "# VAE Model"
   ]
  },
  {
   "cell_type": "code",
   "execution_count": 12,
   "metadata": {},
   "outputs": [
    {
     "name": "stderr",
     "output_type": "stream",
     "text": [
      "Using TensorFlow backend.\n"
     ]
    }
   ],
   "source": [
    "import keras\n",
    "from keras.layers import Lambda, Input, Dense, Flatten, Reshape\n",
    "from keras.models import Model, Sequential\n",
    "from keras import metrics\n",
    "from keras import backend as K"
   ]
  },
  {
   "cell_type": "code",
   "execution_count": 13,
   "metadata": {},
   "outputs": [],
   "source": [
    "def sampling(args):\n",
    "    \"\"\"\n",
    "    # Arguments\n",
    "        args (tensor): mean and log of variance of Q(z|X)\n",
    "    # Returns\n",
    "        z (tensor): sampled latent vector\n",
    "    \"\"\"\n",
    "\n",
    "    z_mean, z_log_var = args\n",
    "    batch = K.shape(z_mean)[0]\n",
    "    dim = K.int_shape(z_mean)[1]\n",
    "    # by default, random_normal has mean = 0 and std = 1.0\n",
    "    epsilon = K.random_normal(shape=(batch, dim))\n",
    "    return z_mean + K.exp(0.5 * z_log_var) * epsilon"
   ]
  },
  {
   "cell_type": "code",
   "execution_count": 14,
   "metadata": {},
   "outputs": [],
   "source": [
    "inter_dim = 12\n",
    "final_dim = 4\n",
    "latent_dim = 2\n",
    "input_dim = 4"
   ]
  },
  {
   "cell_type": "code",
   "execution_count": 15,
   "metadata": {},
   "outputs": [],
   "source": [
    "# encoder\n",
    "x = Input(shape=(input_dim,))\n",
    "#x_flat = Flatten()(x)\n",
    "h1 = Dense(inter_dim, activation='relu')(x)\n",
    "h2 = Dense(final_dim, activation='relu')(h1)\n",
    "z_mean = Dense(latent_dim)(h2)\n",
    "z_log_sigma = Dense(latent_dim)(h2)"
   ]
  },
  {
   "cell_type": "code",
   "execution_count": 16,
   "metadata": {},
   "outputs": [],
   "source": [
    "# random sampling\n",
    "z = Lambda(sampling, output_shape=(latent_dim,))([z_mean, z_log_sigma])\n",
    "\n",
    "encoder = Model(inputs = x, outputs = z)"
   ]
  },
  {
   "cell_type": "code",
   "execution_count": 17,
   "metadata": {},
   "outputs": [],
   "source": [
    "# decoder\n",
    "decoder_h2 = Dense(final_dim, activation='relu')\n",
    "decoder_h1 = Dense(inter_dim, activation='relu')\n",
    "decoder_mean = Dense(input_dim, activation='sigmoid')\n",
    "\n",
    "h2_decoded = decoder_h2(z)\n",
    "h1_decoded = decoder_h1(h2_decoded)\n",
    "x_decoded_mean = decoder_mean(h1_decoded)\n",
    "# x_decoded = Reshape(input_shape)(x_decoded_mean)"
   ]
  },
  {
   "cell_type": "code",
   "execution_count": 18,
   "metadata": {},
   "outputs": [],
   "source": [
    "vae = Model(inputs = x, outputs = x_decoded_mean, name = 'vae')"
   ]
  },
  {
   "cell_type": "code",
   "execution_count": 19,
   "metadata": {},
   "outputs": [],
   "source": [
    "def vae_loss(x, y):\n",
    "    xent_loss = metrics.mse(x, y)\n",
    "    kl_loss = - 0.5 * K.mean(1 + z_log_sigma - K.square(z_mean) - K.exp(z_log_sigma), axis=-1)\n",
    "    return xent_loss + kl_loss\n",
    "\n",
    "vae.compile(optimizer='adam', loss=vae_loss)"
   ]
  },
  {
   "cell_type": "code",
   "execution_count": 20,
   "metadata": {},
   "outputs": [
    {
     "name": "stdout",
     "output_type": "stream",
     "text": [
      "Model: \"vae\"\n",
      "__________________________________________________________________________________________________\n",
      "Layer (type)                    Output Shape         Param #     Connected to                     \n",
      "==================================================================================================\n",
      "input_1 (InputLayer)            (None, 4)            0                                            \n",
      "__________________________________________________________________________________________________\n",
      "dense_1 (Dense)                 (None, 12)           60          input_1[0][0]                    \n",
      "__________________________________________________________________________________________________\n",
      "dense_2 (Dense)                 (None, 4)            52          dense_1[0][0]                    \n",
      "__________________________________________________________________________________________________\n",
      "dense_3 (Dense)                 (None, 2)            10          dense_2[0][0]                    \n",
      "__________________________________________________________________________________________________\n",
      "dense_4 (Dense)                 (None, 2)            10          dense_2[0][0]                    \n",
      "__________________________________________________________________________________________________\n",
      "lambda_1 (Lambda)               (None, 2)            0           dense_3[0][0]                    \n",
      "                                                                 dense_4[0][0]                    \n",
      "__________________________________________________________________________________________________\n",
      "dense_5 (Dense)                 (None, 4)            12          lambda_1[0][0]                   \n",
      "__________________________________________________________________________________________________\n",
      "dense_6 (Dense)                 (None, 12)           60          dense_5[0][0]                    \n",
      "__________________________________________________________________________________________________\n",
      "dense_7 (Dense)                 (None, 4)            52          dense_6[0][0]                    \n",
      "==================================================================================================\n",
      "Total params: 256\n",
      "Trainable params: 256\n",
      "Non-trainable params: 0\n",
      "__________________________________________________________________________________________________\n"
     ]
    }
   ],
   "source": [
    "vae.summary()"
   ]
  },
  {
   "cell_type": "markdown",
   "metadata": {},
   "source": [
    "# Train"
   ]
  },
  {
   "cell_type": "code",
   "execution_count": 21,
   "metadata": {},
   "outputs": [],
   "source": [
    "from sklearn.model_selection import train_test_split"
   ]
  },
  {
   "cell_type": "code",
   "execution_count": 22,
   "metadata": {},
   "outputs": [],
   "source": [
    "x_train = data[0:int(len(data) * 0.8)]\n",
    "x_val = data[int(len(data) * 0.8):]\n",
    "batch_size = 100\n",
    "epochs = 100"
   ]
  },
  {
   "cell_type": "code",
   "execution_count": 23,
   "metadata": {},
   "outputs": [
    {
     "data": {
      "text/plain": [
       "(11836, 4)"
      ]
     },
     "execution_count": 23,
     "metadata": {},
     "output_type": "execute_result"
    }
   ],
   "source": [
    "x_train.shape"
   ]
  },
  {
   "cell_type": "code",
   "execution_count": 24,
   "metadata": {},
   "outputs": [
    {
     "name": "stdout",
     "output_type": "stream",
     "text": [
      "Train on 11836 samples, validate on 2959 samples\n",
      "Epoch 1/100\n",
      "11836/11836 [==============================] - 1s 109us/step - loss: 0.1318 - val_loss: 0.0948\n",
      "Epoch 2/100\n",
      "11836/11836 [==============================] - 1s 52us/step - loss: 0.0767 - val_loss: 0.0652\n",
      "Epoch 3/100\n",
      "11836/11836 [==============================] - 1s 51us/step - loss: 0.0587 - val_loss: 0.0551\n",
      "Epoch 4/100\n",
      "11836/11836 [==============================] - 1s 49us/step - loss: 0.0527 - val_loss: 0.0514\n",
      "Epoch 5/100\n",
      "11836/11836 [==============================] - 1s 52us/step - loss: 0.0505 - val_loss: 0.0503\n",
      "Epoch 6/100\n",
      "11836/11836 [==============================] - 1s 51us/step - loss: 0.0498 - val_loss: 0.0499\n",
      "Epoch 7/100\n",
      "11836/11836 [==============================] - 1s 50us/step - loss: 0.0496 - val_loss: 0.0497\n",
      "Epoch 8/100\n",
      "11836/11836 [==============================] - 1s 50us/step - loss: 0.0494 - val_loss: 0.0496\n",
      "Epoch 9/100\n",
      "11836/11836 [==============================] - 1s 50us/step - loss: 0.0493 - val_loss: 0.0495\n",
      "Epoch 10/100\n",
      "11836/11836 [==============================] - 1s 50us/step - loss: 0.0492 - val_loss: 0.0493\n",
      "Epoch 11/100\n",
      "11836/11836 [==============================] - 1s 51us/step - loss: 0.0491 - val_loss: 0.0494\n",
      "Epoch 12/100\n",
      "11836/11836 [==============================] - 1s 51us/step - loss: 0.0491 - val_loss: 0.0494\n",
      "Epoch 13/100\n",
      "11836/11836 [==============================] - 1s 51us/step - loss: 0.0492 - val_loss: 0.0493\n",
      "Epoch 14/100\n",
      "11836/11836 [==============================] - 1s 49us/step - loss: 0.0491 - val_loss: 0.0492\n",
      "Epoch 15/100\n",
      "11836/11836 [==============================] - 1s 49us/step - loss: 0.0491 - val_loss: 0.0492\n",
      "Epoch 16/100\n",
      "11836/11836 [==============================] - 1s 52us/step - loss: 0.0491 - val_loss: 0.0492\n",
      "Epoch 17/100\n",
      "11836/11836 [==============================] - 1s 51us/step - loss: 0.0490 - val_loss: 0.0492\n",
      "Epoch 18/100\n",
      "11836/11836 [==============================] - 1s 48us/step - loss: 0.0490 - val_loss: 0.0492\n",
      "Epoch 19/100\n",
      "11836/11836 [==============================] - 1s 49us/step - loss: 0.0490 - val_loss: 0.0492\n",
      "Epoch 20/100\n",
      "11836/11836 [==============================] - 1s 49us/step - loss: 0.0490 - val_loss: 0.0492\n",
      "Epoch 21/100\n",
      "11836/11836 [==============================] - 1s 53us/step - loss: 0.0490 - val_loss: 0.0492\n",
      "Epoch 22/100\n",
      "11836/11836 [==============================] - 1s 49us/step - loss: 0.0490 - val_loss: 0.0492\n",
      "Epoch 23/100\n",
      "11836/11836 [==============================] - 1s 49us/step - loss: 0.0490 - val_loss: 0.0492\n",
      "Epoch 24/100\n",
      "11836/11836 [==============================] - 1s 52us/step - loss: 0.0490 - val_loss: 0.0492\n",
      "Epoch 25/100\n",
      "11836/11836 [==============================] - 1s 50us/step - loss: 0.0490 - val_loss: 0.0492\n",
      "Epoch 26/100\n",
      "11836/11836 [==============================] - 1s 51us/step - loss: 0.0490 - val_loss: 0.0492\n",
      "Epoch 27/100\n",
      "11836/11836 [==============================] - 1s 48us/step - loss: 0.0490 - val_loss: 0.0492\n",
      "Epoch 28/100\n",
      "11836/11836 [==============================] - 1s 51us/step - loss: 0.0490 - val_loss: 0.0492\n",
      "Epoch 29/100\n",
      "11836/11836 [==============================] - 1s 51us/step - loss: 0.0490 - val_loss: 0.0491\n",
      "Epoch 30/100\n",
      "11836/11836 [==============================] - 1s 54us/step - loss: 0.0490 - val_loss: 0.0492\n",
      "Epoch 31/100\n",
      "11836/11836 [==============================] - 1s 55us/step - loss: 0.0490 - val_loss: 0.0492\n",
      "Epoch 32/100\n",
      "11836/11836 [==============================] - 1s 53us/step - loss: 0.0490 - val_loss: 0.0491\n",
      "Epoch 33/100\n",
      "11836/11836 [==============================] - 1s 50us/step - loss: 0.0490 - val_loss: 0.0491\n",
      "Epoch 34/100\n",
      "11836/11836 [==============================] - 1s 51us/step - loss: 0.0490 - val_loss: 0.0492\n",
      "Epoch 35/100\n",
      "11836/11836 [==============================] - 1s 51us/step - loss: 0.0489 - val_loss: 0.0492\n",
      "Epoch 36/100\n",
      "11836/11836 [==============================] - 1s 52us/step - loss: 0.0490 - val_loss: 0.0491\n",
      "Epoch 37/100\n",
      "11836/11836 [==============================] - 1s 52us/step - loss: 0.0489 - val_loss: 0.0492\n",
      "Epoch 38/100\n",
      "11836/11836 [==============================] - 1s 52us/step - loss: 0.0489 - val_loss: 0.0491\n",
      "Epoch 39/100\n",
      "11836/11836 [==============================] - 1s 51us/step - loss: 0.0490 - val_loss: 0.0492\n",
      "Epoch 40/100\n",
      "11836/11836 [==============================] - 1s 50us/step - loss: 0.0490 - val_loss: 0.0491\n",
      "Epoch 41/100\n",
      "11836/11836 [==============================] - 1s 51us/step - loss: 0.0490 - val_loss: 0.0491\n",
      "Epoch 42/100\n",
      "11836/11836 [==============================] - 1s 54us/step - loss: 0.0490 - val_loss: 0.0491\n",
      "Epoch 43/100\n",
      "11836/11836 [==============================] - 1s 53us/step - loss: 0.0489 - val_loss: 0.0491\n",
      "Epoch 44/100\n",
      "11836/11836 [==============================] - 1s 55us/step - loss: 0.0489 - val_loss: 0.0491\n",
      "Epoch 45/100\n",
      "11836/11836 [==============================] - 1s 52us/step - loss: 0.0489 - val_loss: 0.0491\n",
      "Epoch 46/100\n",
      "11836/11836 [==============================] - 1s 51us/step - loss: 0.0489 - val_loss: 0.0492\n",
      "Epoch 47/100\n",
      "11836/11836 [==============================] - 1s 51us/step - loss: 0.0489 - val_loss: 0.0492\n",
      "Epoch 48/100\n",
      "11836/11836 [==============================] - 1s 53us/step - loss: 0.0490 - val_loss: 0.0491\n",
      "Epoch 49/100\n",
      "11836/11836 [==============================] - 1s 50us/step - loss: 0.0489 - val_loss: 0.0492\n",
      "Epoch 50/100\n",
      "11836/11836 [==============================] - 1s 52us/step - loss: 0.0489 - val_loss: 0.0491\n",
      "Epoch 51/100\n",
      "11836/11836 [==============================] - 1s 50us/step - loss: 0.0489 - val_loss: 0.0491\n",
      "Epoch 52/100\n",
      "11836/11836 [==============================] - 1s 52us/step - loss: 0.0489 - val_loss: 0.0491\n",
      "Epoch 53/100\n",
      "11836/11836 [==============================] - 1s 54us/step - loss: 0.0489 - val_loss: 0.0491\n",
      "Epoch 54/100\n",
      "11836/11836 [==============================] - 1s 55us/step - loss: 0.0489 - val_loss: 0.0491\n",
      "Epoch 55/100\n",
      "11836/11836 [==============================] - 1s 54us/step - loss: 0.0489 - val_loss: 0.0491\n",
      "Epoch 56/100\n",
      "11836/11836 [==============================] - 1s 50us/step - loss: 0.0489 - val_loss: 0.0491\n",
      "Epoch 57/100\n",
      "11836/11836 [==============================] - 1s 48us/step - loss: 0.0489 - val_loss: 0.0491\n",
      "Epoch 58/100\n",
      "11836/11836 [==============================] - 1s 48us/step - loss: 0.0489 - val_loss: 0.0491\n",
      "Epoch 59/100\n",
      "11836/11836 [==============================] - 1s 50us/step - loss: 0.0489 - val_loss: 0.0491\n",
      "Epoch 60/100\n",
      "11836/11836 [==============================] - 1s 50us/step - loss: 0.0489 - val_loss: 0.0491\n",
      "Epoch 61/100\n",
      "11836/11836 [==============================] - 1s 51us/step - loss: 0.0489 - val_loss: 0.0491\n",
      "Epoch 62/100\n",
      "11836/11836 [==============================] - 1s 50us/step - loss: 0.0489 - val_loss: 0.0491\n",
      "Epoch 63/100\n",
      "11836/11836 [==============================] - 1s 50us/step - loss: 0.0489 - val_loss: 0.0491\n",
      "Epoch 64/100\n",
      "11836/11836 [==============================] - 1s 50us/step - loss: 0.0489 - val_loss: 0.0491\n",
      "Epoch 65/100\n",
      "11836/11836 [==============================] - 1s 51us/step - loss: 0.0489 - val_loss: 0.0491\n",
      "Epoch 66/100\n",
      "11836/11836 [==============================] - 1s 51us/step - loss: 0.0489 - val_loss: 0.0491\n",
      "Epoch 67/100\n",
      "11836/11836 [==============================] - 1s 52us/step - loss: 0.0489 - val_loss: 0.0491\n",
      "Epoch 68/100\n",
      "11836/11836 [==============================] - 1s 50us/step - loss: 0.0489 - val_loss: 0.0491\n",
      "Epoch 69/100\n",
      "11836/11836 [==============================] - 1s 54us/step - loss: 0.0489 - val_loss: 0.0491\n",
      "Epoch 70/100\n",
      "11836/11836 [==============================] - 1s 51us/step - loss: 0.0489 - val_loss: 0.0491\n",
      "Epoch 71/100\n",
      "11836/11836 [==============================] - 1s 50us/step - loss: 0.0489 - val_loss: 0.0491\n",
      "Epoch 72/100\n",
      "11836/11836 [==============================] - 1s 49us/step - loss: 0.0489 - val_loss: 0.0491\n",
      "Epoch 73/100\n",
      "11836/11836 [==============================] - 1s 51us/step - loss: 0.0489 - val_loss: 0.0491\n",
      "Epoch 74/100\n",
      "11836/11836 [==============================] - 1s 50us/step - loss: 0.0489 - val_loss: 0.0491\n",
      "Epoch 75/100\n",
      "11836/11836 [==============================] - 1s 51us/step - loss: 0.0489 - val_loss: 0.0492\n",
      "Epoch 76/100\n",
      "11836/11836 [==============================] - 1s 49us/step - loss: 0.0489 - val_loss: 0.0491\n",
      "Epoch 77/100\n"
     ]
    },
    {
     "name": "stdout",
     "output_type": "stream",
     "text": [
      "11836/11836 [==============================] - 1s 51us/step - loss: 0.0489 - val_loss: 0.0491\n",
      "Epoch 78/100\n",
      "11836/11836 [==============================] - 1s 51us/step - loss: 0.0489 - val_loss: 0.0491\n",
      "Epoch 79/100\n",
      "11836/11836 [==============================] - 1s 50us/step - loss: 0.0489 - val_loss: 0.0491\n",
      "Epoch 80/100\n",
      "11836/11836 [==============================] - 1s 54us/step - loss: 0.0489 - val_loss: 0.0491\n",
      "Epoch 81/100\n",
      "11836/11836 [==============================] - 1s 53us/step - loss: 0.0489 - val_loss: 0.0491\n",
      "Epoch 82/100\n",
      "11836/11836 [==============================] - 1s 54us/step - loss: 0.0489 - val_loss: 0.0491\n",
      "Epoch 83/100\n",
      "11836/11836 [==============================] - 1s 52us/step - loss: 0.0489 - val_loss: 0.0491\n",
      "Epoch 84/100\n",
      "11836/11836 [==============================] - 1s 51us/step - loss: 0.0489 - val_loss: 0.0491\n",
      "Epoch 85/100\n",
      "11836/11836 [==============================] - 1s 55us/step - loss: 0.0489 - val_loss: 0.0491\n",
      "Epoch 86/100\n",
      "11836/11836 [==============================] - 1s 56us/step - loss: 0.0489 - val_loss: 0.0491\n",
      "Epoch 87/100\n",
      "11836/11836 [==============================] - 1s 57us/step - loss: 0.0489 - val_loss: 0.0491\n",
      "Epoch 88/100\n",
      "11836/11836 [==============================] - 1s 53us/step - loss: 0.0489 - val_loss: 0.0491\n",
      "Epoch 89/100\n",
      "11836/11836 [==============================] - 1s 50us/step - loss: 0.0489 - val_loss: 0.0491\n",
      "Epoch 90/100\n",
      "11836/11836 [==============================] - 1s 49us/step - loss: 0.0489 - val_loss: 0.0491\n",
      "Epoch 91/100\n",
      "11836/11836 [==============================] - 1s 48us/step - loss: 0.0489 - val_loss: 0.0491\n",
      "Epoch 92/100\n",
      "11836/11836 [==============================] - 1s 48us/step - loss: 0.0489 - val_loss: 0.0491\n",
      "Epoch 93/100\n",
      "11836/11836 [==============================] - 1s 48us/step - loss: 0.0489 - val_loss: 0.0491\n",
      "Epoch 94/100\n",
      "11836/11836 [==============================] - 1s 49us/step - loss: 0.0489 - val_loss: 0.0491\n",
      "Epoch 95/100\n",
      "11836/11836 [==============================] - 1s 52us/step - loss: 0.0489 - val_loss: 0.0491\n",
      "Epoch 96/100\n",
      "11836/11836 [==============================] - 1s 53us/step - loss: 0.0489 - val_loss: 0.0491\n",
      "Epoch 97/100\n",
      "11836/11836 [==============================] - 1s 49us/step - loss: 0.0489 - val_loss: 0.0491\n",
      "Epoch 98/100\n",
      "11836/11836 [==============================] - 1s 52us/step - loss: 0.0489 - val_loss: 0.0491\n",
      "Epoch 99/100\n",
      "11836/11836 [==============================] - 1s 52us/step - loss: 0.0489 - val_loss: 0.0491\n",
      "Epoch 100/100\n",
      "11836/11836 [==============================] - 1s 52us/step - loss: 0.0489 - val_loss: 0.0491\n"
     ]
    }
   ],
   "source": [
    "hist = vae.fit(x_train, x_train,\n",
    "               shuffle=True,\n",
    "               epochs=epochs,\n",
    "               batch_size=batch_size,\n",
    "               validation_data=(x_val, x_val))"
   ]
  },
  {
   "cell_type": "markdown",
   "metadata": {},
   "source": [
    "# Visualization"
   ]
  },
  {
   "cell_type": "code",
   "execution_count": 25,
   "metadata": {},
   "outputs": [],
   "source": [
    "import matplotlib.pyplot as plt"
   ]
  },
  {
   "cell_type": "code",
   "execution_count": 26,
   "metadata": {},
   "outputs": [],
   "source": [
    "predictions = vae.predict(x_val)"
   ]
  },
  {
   "cell_type": "code",
   "execution_count": 27,
   "metadata": {},
   "outputs": [
    {
     "data": {
      "text/plain": [
       "array([[0.06814661, 0.50394183, 0.49720648, 0.03695662],\n",
       "       [0.0646138 , 0.50798   , 0.4972315 , 0.03530638],\n",
       "       [0.06618094, 0.5036666 , 0.4970234 , 0.03426499],\n",
       "       ...,\n",
       "       [0.0666014 , 0.50398874, 0.49478635, 0.03412097],\n",
       "       [0.06977252, 0.50345194, 0.49686578, 0.04055461],\n",
       "       [0.06767675, 0.5021176 , 0.49312213, 0.03601076]], dtype=float32)"
      ]
     },
     "execution_count": 27,
     "metadata": {},
     "output_type": "execute_result"
    }
   ],
   "source": [
    "predictions"
   ]
  },
  {
   "cell_type": "code",
   "execution_count": 28,
   "metadata": {},
   "outputs": [
    {
     "name": "stderr",
     "output_type": "stream",
     "text": [
      "/opt/conda/lib/python3.7/site-packages/ipykernel_launcher.py:1: RuntimeWarning: divide by zero encountered in true_divide\n",
      "  \"\"\"Entry point for launching an IPython kernel.\n"
     ]
    }
   ],
   "source": [
    "distr = (x_val - predictions) / x_val"
   ]
  },
  {
   "cell_type": "code",
   "execution_count": 29,
   "metadata": {},
   "outputs": [],
   "source": [
    "pT_pred = [row[0] for row in predictions]\n",
    "eta_pred = [row[1] for row in predictions]\n",
    "phi_pred = [row[2] for row in predictions]\n",
    "mass_pred = [row[3] for row in predictions]"
   ]
  },
  {
   "cell_type": "code",
   "execution_count": 30,
   "metadata": {},
   "outputs": [],
   "source": [
    "pT = [row[0] for row in x_val]\n",
    "eta = [row[1] for row in x_val]\n",
    "phi = [row[2] for row in x_val]\n",
    "mass = [row[3] for row in x_val]"
   ]
  },
  {
   "cell_type": "markdown",
   "metadata": {},
   "source": [
    "## Stacking output (orange) over input (blue) for pT, eta, phi, m"
   ]
  },
  {
   "cell_type": "code",
   "execution_count": 81,
   "metadata": {},
   "outputs": [
    {
     "data": {
      "text/plain": [
       "(array([   0., 2558.,  401.,    0.,    0.,    0.,    0.,    0.,    0.,\n",
       "           0.,    0.,    0.,    0.,    0.,    0.,    0.,    0.,    0.,\n",
       "           0.,    0.,    0.,    0.,    0.,    0.,    0.,    0.,    0.,\n",
       "           0.,    0.]),\n",
       " array([0.        , 0.03448276, 0.06896552, 0.10344828, 0.13793103,\n",
       "        0.17241379, 0.20689655, 0.24137931, 0.27586207, 0.31034483,\n",
       "        0.34482759, 0.37931034, 0.4137931 , 0.44827586, 0.48275862,\n",
       "        0.51724138, 0.55172414, 0.5862069 , 0.62068966, 0.65517241,\n",
       "        0.68965517, 0.72413793, 0.75862069, 0.79310345, 0.82758621,\n",
       "        0.86206897, 0.89655172, 0.93103448, 0.96551724, 1.        ]),\n",
       " <a list of 29 Patch objects>)"
      ]
     },
     "execution_count": 81,
     "metadata": {},
     "output_type": "execute_result"
    },
    {
     "data": {
      "image/png": "[encoded data removed]",
      "text/plain": [
       "<Figure size 432x288 with 1 Axes>"
      ]
     },
     "metadata": {
      "needs_background": "light"
     },
     "output_type": "display_data"
    }
   ],
   "source": [
    "bins = np.linspace(0, 1, 30)\n",
    "plt.hist(pT, bins=bins,alpha=0.5)\n",
    "plt.hist(pT_pred, bins=bins,alpha=0.5)"
   ]
  },
  {
   "cell_type": "code",
   "execution_count": 68,
   "metadata": {},
   "outputs": [
    {
     "data": {
      "text/plain": [
       "(array([   0.,    0.,    0.,    0.,    0.,    0.,    0.,    0.,    0.,\n",
       "           0.,    0.,    0.,    0.,    0., 2959.,    0.,    0.,    0.,\n",
       "           0.,    0.,    0.,    0.,    0.,    0.,    0.,    0.,    0.,\n",
       "           0.,    0.]),\n",
       " array([0.        , 0.03448276, 0.06896552, 0.10344828, 0.13793103,\n",
       "        0.17241379, 0.20689655, 0.24137931, 0.27586207, 0.31034483,\n",
       "        0.34482759, 0.37931034, 0.4137931 , 0.44827586, 0.48275862,\n",
       "        0.51724138, 0.55172414, 0.5862069 , 0.62068966, 0.65517241,\n",
       "        0.68965517, 0.72413793, 0.75862069, 0.79310345, 0.82758621,\n",
       "        0.86206897, 0.89655172, 0.93103448, 0.96551724, 1.        ]),\n",
       " <a list of 29 Patch objects>)"
      ]
     },
     "execution_count": 68,
     "metadata": {},
     "output_type": "execute_result"
    },
    {
     "data": {
      "image/png": "[encoded data removed]",
      "text/plain": [
       "<Figure size 432x288 with 1 Axes>"
      ]
     },
     "metadata": {
      "needs_background": "light"
     },
     "output_type": "display_data"
    }
   ],
   "source": [
    "plt.hist(eta, bins=bins,alpha=0.5)\n",
    "plt.hist(eta_pred, bins=bins,alpha=0.5)"
   ]
  },
  {
   "cell_type": "code",
   "execution_count": 69,
   "metadata": {},
   "outputs": [
    {
     "data": {
      "text/plain": [
       "(array([   0.,    0.,    0.,    0.,    0.,    0.,    0.,    0.,    0.,\n",
       "           0.,    0.,    0.,    0.,    0., 2959.,    0.,    0.,    0.,\n",
       "           0.,    0.,    0.,    0.,    0.,    0.,    0.,    0.,    0.,\n",
       "           0.,    0.]),\n",
       " array([0.        , 0.03448276, 0.06896552, 0.10344828, 0.13793103,\n",
       "        0.17241379, 0.20689655, 0.24137931, 0.27586207, 0.31034483,\n",
       "        0.34482759, 0.37931034, 0.4137931 , 0.44827586, 0.48275862,\n",
       "        0.51724138, 0.55172414, 0.5862069 , 0.62068966, 0.65517241,\n",
       "        0.68965517, 0.72413793, 0.75862069, 0.79310345, 0.82758621,\n",
       "        0.86206897, 0.89655172, 0.93103448, 0.96551724, 1.        ]),\n",
       " <a list of 29 Patch objects>)"
      ]
     },
     "execution_count": 69,
     "metadata": {},
     "output_type": "execute_result"
    },
    {
     "data": {
      "image/png": "[encoded data removed]",
      "text/plain": [
       "<Figure size 432x288 with 1 Axes>"
      ]
     },
     "metadata": {
      "needs_background": "light"
     },
     "output_type": "display_data"
    }
   ],
   "source": [
    "plt.hist(phi, bins=bins,alpha=0.5)\n",
    "plt.hist(phi_pred, bins=bins,alpha=0.5)"
   ]
  },
  {
   "cell_type": "code",
   "execution_count": 70,
   "metadata": {},
   "outputs": [
    {
     "data": {
      "text/plain": [
       "(array([1058., 1901.,    0.,    0.,    0.,    0.,    0.,    0.,    0.,\n",
       "           0.,    0.,    0.,    0.,    0.,    0.,    0.,    0.,    0.,\n",
       "           0.,    0.,    0.,    0.,    0.,    0.,    0.,    0.,    0.,\n",
       "           0.,    0.]),\n",
       " array([0.        , 0.03448276, 0.06896552, 0.10344828, 0.13793103,\n",
       "        0.17241379, 0.20689655, 0.24137931, 0.27586207, 0.31034483,\n",
       "        0.34482759, 0.37931034, 0.4137931 , 0.44827586, 0.48275862,\n",
       "        0.51724138, 0.55172414, 0.5862069 , 0.62068966, 0.65517241,\n",
       "        0.68965517, 0.72413793, 0.75862069, 0.79310345, 0.82758621,\n",
       "        0.86206897, 0.89655172, 0.93103448, 0.96551724, 1.        ]),\n",
       " <a list of 29 Patch objects>)"
      ]
     },
     "execution_count": 70,
     "metadata": {},
     "output_type": "execute_result"
    },
    {
     "data": {
      "image/png": "[encoded data removed]",
      "text/plain": [
       "<Figure size 432x288 with 1 Axes>"
      ]
     },
     "metadata": {
      "needs_background": "light"
     },
     "output_type": "display_data"
    }
   ],
   "source": [
    "plt.hist(mass, bins=bins,alpha=0.5)\n",
    "plt.hist(mass_pred, bins=bins,alpha=0.5)"
   ]
  },
  {
   "cell_type": "code",
   "execution_count": 71,
   "metadata": {},
   "outputs": [],
   "source": [
    "d_pT = [row[0] for row in distr]\n",
    "d_eta = [row[1] for row in distr]\n",
    "d_phi = [row[2] for row in distr]\n",
    "d_mass = [row[3] for row in distr]"
   ]
  },
  {
   "cell_type": "markdown",
   "metadata": {},
   "source": [
    "## Distribution of (input - output) / input"
   ]
  },
  {
   "cell_type": "code",
   "execution_count": 76,
   "metadata": {},
   "outputs": [],
   "source": [
    "bins = np.linspace(-1, 1, 30)"
   ]
  },
  {
   "cell_type": "code",
   "execution_count": 77,
   "metadata": {},
   "outputs": [
    {
     "data": {
      "text/plain": [
       "(array([  3.,   3.,   4.,   4.,   2.,   3.,   3.,   6.,   1.,   3.,   8.,\n",
       "          8.,   5.,   6.,   3.,   6.,   6.,   2.,   3.,   6.,   5.,   7.,\n",
       "         13.,  18.,   8.,  29., 249., 132.,   0.]),\n",
       " array([-1.        , -0.93103448, -0.86206897, -0.79310345, -0.72413793,\n",
       "        -0.65517241, -0.5862069 , -0.51724138, -0.44827586, -0.37931034,\n",
       "        -0.31034483, -0.24137931, -0.17241379, -0.10344828, -0.03448276,\n",
       "         0.03448276,  0.10344828,  0.17241379,  0.24137931,  0.31034483,\n",
       "         0.37931034,  0.44827586,  0.51724138,  0.5862069 ,  0.65517241,\n",
       "         0.72413793,  0.79310345,  0.86206897,  0.93103448,  1.        ]),\n",
       " <a list of 29 Patch objects>)"
      ]
     },
     "execution_count": 77,
     "metadata": {},
     "output_type": "execute_result"
    },
    {
     "data": {
      "image/png": "[encoded data removed]",
      "text/plain": [
       "<Figure size 432x288 with 1 Axes>"
      ]
     },
     "metadata": {
      "needs_background": "light"
     },
     "output_type": "display_data"
    }
   ],
   "source": [
    "plt.hist(d_pT, bins=bins)"
   ]
  },
  {
   "cell_type": "code",
   "execution_count": 78,
   "metadata": {},
   "outputs": [
    {
     "data": {
      "text/plain": [
       "(array([ 11.,  30.,  29.,  40.,  38.,  54.,  49.,  42.,  57.,  58.,  91.,\n",
       "         95.,  94., 111., 143., 168., 155., 154., 205., 213., 205., 300.,\n",
       "          0.,   0.,   0.,   0.,   0.,   0.,   0.]),\n",
       " array([-1.        , -0.93103448, -0.86206897, -0.79310345, -0.72413793,\n",
       "        -0.65517241, -0.5862069 , -0.51724138, -0.44827586, -0.37931034,\n",
       "        -0.31034483, -0.24137931, -0.17241379, -0.10344828, -0.03448276,\n",
       "         0.03448276,  0.10344828,  0.17241379,  0.24137931,  0.31034483,\n",
       "         0.37931034,  0.44827586,  0.51724138,  0.5862069 ,  0.65517241,\n",
       "         0.72413793,  0.79310345,  0.86206897,  0.93103448,  1.        ]),\n",
       " <a list of 29 Patch objects>)"
      ]
     },
     "execution_count": 78,
     "metadata": {},
     "output_type": "execute_result"
    },
    {
     "data": {
      "image/png": "[encoded data removed]",
      "text/plain": [
       "<Figure size 432x288 with 1 Axes>"
      ]
     },
     "metadata": {
      "needs_background": "light"
     },
     "output_type": "display_data"
    }
   ],
   "source": [
    "plt.hist(d_eta, bins=bins)"
   ]
  },
  {
   "cell_type": "code",
   "execution_count": 79,
   "metadata": {},
   "outputs": [
    {
     "data": {
      "text/plain": [
       "(array([ 18.,  34.,  26.,  33.,  42.,  35.,  40.,  44.,  58.,  50.,  57.,\n",
       "         73.,  85.,  63., 100., 113., 118., 161., 203., 267., 290., 295.,\n",
       "          0.,   0.,   0.,   0.,   0.,   0.,   0.]),\n",
       " array([-1.        , -0.93103448, -0.86206897, -0.79310345, -0.72413793,\n",
       "        -0.65517241, -0.5862069 , -0.51724138, -0.44827586, -0.37931034,\n",
       "        -0.31034483, -0.24137931, -0.17241379, -0.10344828, -0.03448276,\n",
       "         0.03448276,  0.10344828,  0.17241379,  0.24137931,  0.31034483,\n",
       "         0.37931034,  0.44827586,  0.51724138,  0.5862069 ,  0.65517241,\n",
       "         0.72413793,  0.79310345,  0.86206897,  0.93103448,  1.        ]),\n",
       " <a list of 29 Patch objects>)"
      ]
     },
     "execution_count": 79,
     "metadata": {},
     "output_type": "execute_result"
    },
    {
     "data": {
      "image/png": "[encoded data removed]",
      "text/plain": [
       "<Figure size 432x288 with 1 Axes>"
      ]
     },
     "metadata": {
      "needs_background": "light"
     },
     "output_type": "display_data"
    }
   ],
   "source": [
    "plt.hist(d_phi, bins=bins)"
   ]
  }
 ],
 "metadata": {
  "kernelspec": {
   "display_name": "Python 3",
   "language": "python",
   "name": "python3"
  },
  "language_info": {
   "codemirror_mode": {
    "name": "ipython",
    "version": 3
   },
   "file_extension": ".py",
   "mimetype": "text/x-python",
   "name": "python",
   "nbconvert_exporter": "python",
   "pygments_lexer": "ipython3",
   "version": "3.7.6"
  }
 },
 "nbformat": 4,
 "nbformat_minor": 4
}
