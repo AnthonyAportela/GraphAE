{
 "cells": [
  {
   "cell_type": "code",
   "execution_count": 1,
   "metadata": {},
   "outputs": [],
   "source": [
    "import pandas as pd\n",
    "import numpy as np\n",
    "from pyjet import cluster,DTYPE_PTEPM\n",
    "from sklearn import preprocessing"
   ]
  },
  {
   "cell_type": "markdown",
   "metadata": {},
   "source": [
    "# Pre processing"
   ]
  },
  {
   "cell_type": "code",
   "execution_count": 2,
   "metadata": {},
   "outputs": [],
   "source": [
    "path = path = '/anomalyvol/data/events_LHCO2020_backgroundMC_Pythia.h5'"
   ]
  },
  {
   "cell_type": "code",
   "execution_count": 3,
   "metadata": {},
   "outputs": [],
   "source": [
    "df = pd.read_hdf(path,stop=10000) # just read first 10000 events"
   ]
  },
  {
   "cell_type": "code",
   "execution_count": 4,
   "metadata": {},
   "outputs": [],
   "source": [
    "all_events = df.values"
   ]
  },
  {
   "cell_type": "code",
   "execution_count": 5,
   "metadata": {},
   "outputs": [],
   "source": [
    "rows = all_events.shape[0]\n",
    "cols = all_events.shape[1]\n",
    "data = []"
   ]
  },
  {
   "cell_type": "code",
   "execution_count": 6,
   "metadata": {},
   "outputs": [],
   "source": [
    "for i in range(rows):\n",
    "    pseudojets_input = np.zeros(len([x for x in all_events[i][::3] if x > 0]), dtype=DTYPE_PTEPM)\n",
    "    for j in range(cols // 3):\n",
    "        if (all_events[i][j*3]>0):\n",
    "            pseudojets_input[j]['pT'] = all_events[i][j*3]\n",
    "            pseudojets_input[j]['eta'] = all_events[i][j*3+1]\n",
    "            pseudojets_input[j]['phi'] = all_events[i][j*3+2]\n",
    "        pass\n",
    "    sequence = cluster(pseudojets_input, R=1.0, p=-1)\n",
    "    jets = sequence.inclusive_jets()\n",
    "    for k in range(len(jets)):\n",
    "        jet = []\n",
    "        jet.append(jets[k].pt)\n",
    "        jet.append(jets[k].eta)\n",
    "        jet.append(jets[k].phi)\n",
    "        jet.append(jets[k].mass)\n",
    "        data.append(jet)"
   ]
  },
  {
   "cell_type": "code",
   "execution_count": 7,
   "metadata": {},
   "outputs": [
    {
     "data": {
      "text/plain": [
       "(147331, 4)"
      ]
     },
     "execution_count": 7,
     "metadata": {},
     "output_type": "execute_result"
    }
   ],
   "source": [
    "data = np.array(data)\n",
    "data.shape"
   ]
  },
  {
   "cell_type": "code",
   "execution_count": 8,
   "metadata": {},
   "outputs": [],
   "source": [
    "# splitting data\n",
    "x_train = data[0:int(len(data) * 0.8)]\n",
    "x_val = data[int(len(data) * 0.8):int(len(data) * 0.9)]\n",
    "x_test = data[int(len(data) * 0.9):]"
   ]
  },
  {
   "cell_type": "code",
   "execution_count": 9,
   "metadata": {},
   "outputs": [],
   "source": [
    "# regularize\n",
    "scaler = preprocessing.StandardScaler()\n",
    "x_train = scaler.fit_transform(x_train)\n",
    "x_val = scaler.transform(x_val)\n",
    "x_test = scaler.transform(x_test)"
   ]
  },
  {
   "cell_type": "markdown",
   "metadata": {},
   "source": [
    "# VAE Model"
   ]
  },
  {
   "cell_type": "code",
   "execution_count": 10,
   "metadata": {},
   "outputs": [
    {
     "name": "stderr",
     "output_type": "stream",
     "text": [
      "Using TensorFlow backend.\n"
     ]
    }
   ],
   "source": [
    "import keras\n",
    "from keras.layers import Lambda, Input, Dense, Flatten, Reshape\n",
    "from keras.models import Model, Sequential\n",
    "from keras import metrics, losses\n",
    "from keras import backend as K"
   ]
  },
  {
   "cell_type": "code",
   "execution_count": 11,
   "metadata": {},
   "outputs": [],
   "source": [
    "def sampling(args):\n",
    "    \"\"\"\n",
    "    # Arguments\n",
    "        args (tensor): mean and log of variance of Q(z|X)\n",
    "    # Returns\n",
    "        z (tensor): sampled latent vector\n",
    "    \"\"\"\n",
    "\n",
    "    z_mean, z_log_var = args\n",
    "    batch = K.shape(z_mean)[0]\n",
    "    dim = K.int_shape(z_mean)[1]\n",
    "    # by default, random_normal has mean = 0 and std = 1.0\n",
    "    epsilon = K.random_normal(shape=(batch, dim))\n",
    "    return z_mean + K.exp(0.5 * z_log_var) * epsilon"
   ]
  },
  {
   "cell_type": "code",
   "execution_count": 12,
   "metadata": {},
   "outputs": [],
   "source": [
    "inter_dim = 32\n",
    "final_dim = 16\n",
    "latent_dim = 4\n",
    "input_dim = 4"
   ]
  },
  {
   "cell_type": "code",
   "execution_count": 13,
   "metadata": {},
   "outputs": [],
   "source": [
    "# encoder\n",
    "x = Input(shape=(input_dim,))\n",
    "#x_flat = Flatten()(x)\n",
    "h1 = Dense(inter_dim, activation='relu')(x)\n",
    "h2 = Dense(final_dim, activation='relu')(h1)\n",
    "z_mean = Dense(latent_dim)(h2)\n",
    "z_log_sigma = Dense(latent_dim)(h2)"
   ]
  },
  {
   "cell_type": "code",
   "execution_count": 14,
   "metadata": {},
   "outputs": [],
   "source": [
    "# random sampling\n",
    "z = Lambda(sampling, output_shape=(latent_dim,))([z_mean, z_log_sigma])\n",
    "\n",
    "encoder = Model(inputs = x, outputs = z)"
   ]
  },
  {
   "cell_type": "code",
   "execution_count": 15,
   "metadata": {},
   "outputs": [],
   "source": [
    "# decoder\n",
    "decoder_h2 = Dense(final_dim, activation='relu')\n",
    "decoder_h1 = Dense(inter_dim, activation='relu')\n",
    "decoder_mean = Dense(input_dim, activation='linear')\n",
    "\n",
    "h2_decoded = decoder_h2(z)\n",
    "h1_decoded = decoder_h1(h2_decoded)\n",
    "x_decoded_mean = decoder_mean(h1_decoded)\n",
    "# x_decoded = Reshape(input_shape)(x_decoded_mean)"
   ]
  },
  {
   "cell_type": "code",
   "execution_count": 16,
   "metadata": {},
   "outputs": [],
   "source": [
    "vae = Model(inputs = x, outputs = x_decoded_mean, name = 'vae')"
   ]
  },
  {
   "cell_type": "code",
   "execution_count": 17,
   "metadata": {},
   "outputs": [],
   "source": [
    "mse = keras.losses.MeanSquaredError()\n",
    "def vae_loss(x, y):\n",
    "    mse_loss = mse(x, y)\n",
    "    kl_loss = - 0.5 * K.mean(1 + z_log_sigma - K.square(z_mean) - K.exp(z_log_sigma), axis=-1)\n",
    "    return mse_loss + kl_loss\n",
    "\n",
    "vae.compile(optimizer='adam', loss=vae_loss)"
   ]
  },
  {
   "cell_type": "code",
   "execution_count": 18,
   "metadata": {},
   "outputs": [
    {
     "name": "stdout",
     "output_type": "stream",
     "text": [
      "Model: \"vae\"\n",
      "__________________________________________________________________________________________________\n",
      "Layer (type)                    Output Shape         Param #     Connected to                     \n",
      "==================================================================================================\n",
      "input_1 (InputLayer)            (None, 4)            0                                            \n",
      "__________________________________________________________________________________________________\n",
      "dense_1 (Dense)                 (None, 32)           160         input_1[0][0]                    \n",
      "__________________________________________________________________________________________________\n",
      "dense_2 (Dense)                 (None, 16)           528         dense_1[0][0]                    \n",
      "__________________________________________________________________________________________________\n",
      "dense_3 (Dense)                 (None, 4)            68          dense_2[0][0]                    \n",
      "__________________________________________________________________________________________________\n",
      "dense_4 (Dense)                 (None, 4)            68          dense_2[0][0]                    \n",
      "__________________________________________________________________________________________________\n",
      "lambda_1 (Lambda)               (None, 4)            0           dense_3[0][0]                    \n",
      "                                                                 dense_4[0][0]                    \n",
      "__________________________________________________________________________________________________\n",
      "dense_5 (Dense)                 (None, 16)           80          lambda_1[0][0]                   \n",
      "__________________________________________________________________________________________________\n",
      "dense_6 (Dense)                 (None, 32)           544         dense_5[0][0]                    \n",
      "__________________________________________________________________________________________________\n",
      "dense_7 (Dense)                 (None, 4)            132         dense_6[0][0]                    \n",
      "==================================================================================================\n",
      "Total params: 1,580\n",
      "Trainable params: 1,580\n",
      "Non-trainable params: 0\n",
      "__________________________________________________________________________________________________\n"
     ]
    }
   ],
   "source": [
    "vae.summary()"
   ]
  },
  {
   "cell_type": "markdown",
   "metadata": {},
   "source": [
    "# Train"
   ]
  },
  {
   "cell_type": "code",
   "execution_count": 19,
   "metadata": {},
   "outputs": [],
   "source": [
    "from sklearn.model_selection import train_test_split"
   ]
  },
  {
   "cell_type": "code",
   "execution_count": 20,
   "metadata": {},
   "outputs": [],
   "source": [
    "batch_size = 400\n",
    "epochs = 100"
   ]
  },
  {
   "cell_type": "code",
   "execution_count": 21,
   "metadata": {},
   "outputs": [
    {
     "data": {
      "text/plain": [
       "(117864, 4)"
      ]
     },
     "execution_count": 21,
     "metadata": {},
     "output_type": "execute_result"
    }
   ],
   "source": [
    "x_train.shape"
   ]
  },
  {
   "cell_type": "code",
   "execution_count": 22,
   "metadata": {},
   "outputs": [
    {
     "name": "stdout",
     "output_type": "stream",
     "text": [
      "Train on 117864 samples, validate on 14733 samples\n",
      "Epoch 1/100\n",
      "117864/117864 [==============================] - 2s 19us/step - loss: 0.8392 - val_loss: 0.7218\n",
      "Epoch 2/100\n",
      "117864/117864 [==============================] - 2s 14us/step - loss: 0.6826 - val_loss: 0.6462\n",
      "Epoch 3/100\n",
      "117864/117864 [==============================] - 2s 13us/step - loss: 0.6402 - val_loss: 0.6350\n",
      "Epoch 4/100\n",
      "117864/117864 [==============================] - 2s 13us/step - loss: 0.6301 - val_loss: 0.6308\n",
      "Epoch 5/100\n",
      "117864/117864 [==============================] - 1s 13us/step - loss: 0.6273 - val_loss: 0.6205\n",
      "Epoch 6/100\n",
      "117864/117864 [==============================] - 1s 12us/step - loss: 0.6229 - val_loss: 0.6258\n",
      "Epoch 7/100\n",
      "117864/117864 [==============================] - 2s 14us/step - loss: 0.6219 - val_loss: 0.6195\n",
      "Epoch 8/100\n",
      "117864/117864 [==============================] - 2s 13us/step - loss: 0.6188 - val_loss: 0.6171\n",
      "Epoch 9/100\n",
      "117864/117864 [==============================] - 2s 13us/step - loss: 0.6150 - val_loss: 0.6171\n",
      "Epoch 10/100\n",
      "117864/117864 [==============================] - 2s 13us/step - loss: 0.6147 - val_loss: 0.6148\n",
      "Epoch 11/100\n",
      "117864/117864 [==============================] - 2s 13us/step - loss: 0.6141 - val_loss: 0.6099\n",
      "Epoch 12/100\n",
      "117864/117864 [==============================] - 1s 13us/step - loss: 0.6113 - val_loss: 0.6099\n",
      "Epoch 13/100\n",
      "117864/117864 [==============================] - 2s 13us/step - loss: 0.6111 - val_loss: 0.6080\n",
      "Epoch 14/100\n",
      "117864/117864 [==============================] - 2s 14us/step - loss: 0.6088 - val_loss: 0.6132\n",
      "Epoch 15/100\n",
      "117864/117864 [==============================] - 2s 14us/step - loss: 0.6093 - val_loss: 0.6085\n",
      "Epoch 16/100\n",
      "117864/117864 [==============================] - 2s 13us/step - loss: 0.6067 - val_loss: 0.6070\n",
      "Epoch 17/100\n",
      "117864/117864 [==============================] - 1s 13us/step - loss: 0.6096 - val_loss: 0.6054\n",
      "Epoch 18/100\n",
      "117864/117864 [==============================] - 2s 13us/step - loss: 0.6069 - val_loss: 0.6098\n",
      "Epoch 19/100\n",
      "117864/117864 [==============================] - 2s 13us/step - loss: 0.6084 - val_loss: 0.6087\n",
      "Epoch 20/100\n",
      "117864/117864 [==============================] - 2s 13us/step - loss: 0.6069 - val_loss: 0.6102\n",
      "Epoch 21/100\n",
      "117864/117864 [==============================] - 2s 13us/step - loss: 0.6078 - val_loss: 0.6087\n",
      "Epoch 22/100\n",
      "117864/117864 [==============================] - 2s 13us/step - loss: 0.6069 - val_loss: 0.6098\n",
      "Epoch 23/100\n",
      "117864/117864 [==============================] - 2s 13us/step - loss: 0.6065 - val_loss: 0.6010\n",
      "Epoch 24/100\n",
      "117864/117864 [==============================] - 2s 13us/step - loss: 0.6065 - val_loss: 0.6104\n",
      "Epoch 25/100\n",
      "117864/117864 [==============================] - 2s 14us/step - loss: 0.6067 - val_loss: 0.6072\n",
      "Epoch 26/100\n",
      "117864/117864 [==============================] - 2s 13us/step - loss: 0.6061 - val_loss: 0.6071\n",
      "Epoch 27/100\n",
      "117864/117864 [==============================] - 1s 13us/step - loss: 0.6054 - val_loss: 0.6067\n",
      "Epoch 28/100\n",
      "117864/117864 [==============================] - 2s 13us/step - loss: 0.6053 - val_loss: 0.6040\n",
      "Epoch 29/100\n",
      "117864/117864 [==============================] - 1s 12us/step - loss: 0.6033 - val_loss: 0.6018\n",
      "Epoch 30/100\n",
      "117864/117864 [==============================] - 1s 13us/step - loss: 0.6043 - val_loss: 0.6047\n",
      "Epoch 31/100\n",
      "117864/117864 [==============================] - 1s 12us/step - loss: 0.6053 - val_loss: 0.6049\n",
      "Epoch 32/100\n",
      "117864/117864 [==============================] - 1s 12us/step - loss: 0.6047 - val_loss: 0.6072\n",
      "Epoch 33/100\n",
      "117864/117864 [==============================] - 1s 12us/step - loss: 0.6041 - val_loss: 0.6034\n",
      "Epoch 34/100\n",
      "117864/117864 [==============================] - 1s 12us/step - loss: 0.6055 - val_loss: 0.6014\n",
      "Epoch 35/100\n",
      "117864/117864 [==============================] - 1s 12us/step - loss: 0.6051 - val_loss: 0.6070\n",
      "Epoch 36/100\n",
      "117864/117864 [==============================] - 1s 12us/step - loss: 0.6049 - val_loss: 0.6057\n",
      "Epoch 37/100\n",
      "117864/117864 [==============================] - 1s 12us/step - loss: 0.6048 - val_loss: 0.6003\n",
      "Epoch 38/100\n",
      "117864/117864 [==============================] - 1s 12us/step - loss: 0.6032 - val_loss: 0.6020\n",
      "Epoch 39/100\n",
      "117864/117864 [==============================] - 1s 12us/step - loss: 0.6053 - val_loss: 0.6029\n",
      "Epoch 40/100\n",
      "117864/117864 [==============================] - 1s 12us/step - loss: 0.6036 - val_loss: 0.6028\n",
      "Epoch 41/100\n",
      "117864/117864 [==============================] - 1s 12us/step - loss: 0.6052 - val_loss: 0.6054\n",
      "Epoch 42/100\n",
      "117864/117864 [==============================] - 1s 12us/step - loss: 0.6035 - val_loss: 0.5992\n",
      "Epoch 43/100\n",
      "117864/117864 [==============================] - 1s 12us/step - loss: 0.6026 - val_loss: 0.6063\n",
      "Epoch 44/100\n",
      "117864/117864 [==============================] - 1s 12us/step - loss: 0.6042 - val_loss: 0.6056\n",
      "Epoch 45/100\n",
      "117864/117864 [==============================] - 1s 13us/step - loss: 0.6032 - val_loss: 0.6024\n",
      "Epoch 46/100\n",
      "117864/117864 [==============================] - 2s 13us/step - loss: 0.6039 - val_loss: 0.6005\n",
      "Epoch 47/100\n",
      "117864/117864 [==============================] - 2s 14us/step - loss: 0.6034 - val_loss: 0.6003\n",
      "Epoch 48/100\n",
      "117864/117864 [==============================] - 2s 13us/step - loss: 0.6038 - val_loss: 0.6047\n",
      "Epoch 49/100\n",
      "117864/117864 [==============================] - 2s 14us/step - loss: 0.6035 - val_loss: 0.6052\n",
      "Epoch 50/100\n",
      "117864/117864 [==============================] - 1s 13us/step - loss: 0.6041 - val_loss: 0.6053\n",
      "Epoch 51/100\n",
      "117864/117864 [==============================] - 1s 13us/step - loss: 0.6051 - val_loss: 0.6032\n",
      "Epoch 52/100\n",
      "117864/117864 [==============================] - 2s 13us/step - loss: 0.6054 - val_loss: 0.6001\n",
      "Epoch 53/100\n",
      "117864/117864 [==============================] - 1s 13us/step - loss: 0.6049 - val_loss: 0.6099\n",
      "Epoch 54/100\n",
      "117864/117864 [==============================] - 1s 12us/step - loss: 0.6019 - val_loss: 0.6019\n",
      "Epoch 55/100\n",
      "117864/117864 [==============================] - 1s 12us/step - loss: 0.6029 - val_loss: 0.6001\n",
      "Epoch 56/100\n",
      "117864/117864 [==============================] - 1s 13us/step - loss: 0.6027 - val_loss: 0.6028\n",
      "Epoch 57/100\n",
      "117864/117864 [==============================] - 1s 12us/step - loss: 0.6040 - val_loss: 0.6022\n",
      "Epoch 58/100\n",
      "117864/117864 [==============================] - 2s 13us/step - loss: 0.6043 - val_loss: 0.6022\n",
      "Epoch 59/100\n",
      "117864/117864 [==============================] - 1s 12us/step - loss: 0.6036 - val_loss: 0.6069\n",
      "Epoch 60/100\n",
      "117864/117864 [==============================] - 1s 12us/step - loss: 0.6029 - val_loss: 0.6027\n",
      "Epoch 61/100\n",
      "117864/117864 [==============================] - 1s 12us/step - loss: 0.6052 - val_loss: 0.6032\n",
      "Epoch 62/100\n",
      "117864/117864 [==============================] - 1s 13us/step - loss: 0.6031 - val_loss: 0.6058\n",
      "Epoch 63/100\n",
      "117864/117864 [==============================] - 2s 13us/step - loss: 0.6048 - val_loss: 0.6017\n",
      "Epoch 64/100\n",
      "117864/117864 [==============================] - 2s 13us/step - loss: 0.6041 - val_loss: 0.6065\n",
      "Epoch 65/100\n",
      "117864/117864 [==============================] - 1s 12us/step - loss: 0.6043 - val_loss: 0.6034\n",
      "Epoch 66/100\n",
      "117864/117864 [==============================] - 1s 12us/step - loss: 0.6032 - val_loss: 0.6065\n",
      "Epoch 67/100\n",
      "117864/117864 [==============================] - 2s 13us/step - loss: 0.6042 - val_loss: 0.6050\n",
      "Epoch 68/100\n",
      "117864/117864 [==============================] - 1s 12us/step - loss: 0.6026 - val_loss: 0.6061\n",
      "Epoch 69/100\n",
      "117864/117864 [==============================] - 2s 13us/step - loss: 0.6047 - val_loss: 0.6065\n",
      "Epoch 70/100\n",
      "117864/117864 [==============================] - 2s 13us/step - loss: 0.6047 - val_loss: 0.6041\n",
      "Epoch 71/100\n",
      "117864/117864 [==============================] - 2s 13us/step - loss: 0.6044 - val_loss: 0.6000\n",
      "Epoch 72/100\n",
      "117864/117864 [==============================] - 2s 13us/step - loss: 0.6047 - val_loss: 0.6037\n",
      "Epoch 73/100\n",
      "117864/117864 [==============================] - 1s 13us/step - loss: 0.6049 - val_loss: 0.6009\n",
      "Epoch 74/100\n",
      "117864/117864 [==============================] - 1s 13us/step - loss: 0.6046 - val_loss: 0.6055\n",
      "Epoch 75/100\n",
      "117864/117864 [==============================] - 1s 13us/step - loss: 0.6037 - val_loss: 0.6033\n"
     ]
    },
    {
     "name": "stdout",
     "output_type": "stream",
     "text": [
      "Epoch 76/100\n",
      "117864/117864 [==============================] - 2s 13us/step - loss: 0.6028 - val_loss: 0.6038\n",
      "Epoch 77/100\n",
      "117864/117864 [==============================] - 1s 13us/step - loss: 0.6052 - val_loss: 0.6035\n",
      "Epoch 78/100\n",
      "117864/117864 [==============================] - 1s 12us/step - loss: 0.6037 - val_loss: 0.6046\n",
      "Epoch 79/100\n",
      "117864/117864 [==============================] - 1s 13us/step - loss: 0.6041 - val_loss: 0.6048\n",
      "Epoch 80/100\n",
      "117864/117864 [==============================] - 1s 13us/step - loss: 0.6032 - val_loss: 0.5988\n",
      "Epoch 81/100\n",
      "117864/117864 [==============================] - 1s 12us/step - loss: 0.6034 - val_loss: 0.6007\n",
      "Epoch 82/100\n",
      "117864/117864 [==============================] - 1s 13us/step - loss: 0.6022 - val_loss: 0.6028\n",
      "Epoch 83/100\n",
      "117864/117864 [==============================] - 1s 13us/step - loss: 0.6032 - val_loss: 0.6082\n",
      "Epoch 84/100\n",
      "117864/117864 [==============================] - 1s 13us/step - loss: 0.6040 - val_loss: 0.6038\n",
      "Epoch 85/100\n",
      "117864/117864 [==============================] - 1s 13us/step - loss: 0.6036 - val_loss: 0.6033\n",
      "Epoch 86/100\n",
      "117864/117864 [==============================] - 1s 13us/step - loss: 0.6041 - val_loss: 0.6017\n",
      "Epoch 87/100\n",
      "117864/117864 [==============================] - 1s 12us/step - loss: 0.6032 - val_loss: 0.6036\n",
      "Epoch 88/100\n",
      "117864/117864 [==============================] - 1s 12us/step - loss: 0.6041 - val_loss: 0.6043\n",
      "Epoch 89/100\n",
      "117864/117864 [==============================] - 1s 13us/step - loss: 0.6042 - val_loss: 0.6035\n",
      "Epoch 90/100\n",
      "117864/117864 [==============================] - 1s 12us/step - loss: 0.6032 - val_loss: 0.6071\n",
      "Epoch 91/100\n",
      "117864/117864 [==============================] - 1s 13us/step - loss: 0.6031 - val_loss: 0.6076\n",
      "Epoch 92/100\n",
      "117864/117864 [==============================] - 1s 13us/step - loss: 0.6050 - val_loss: 0.6054\n",
      "Epoch 93/100\n",
      "117864/117864 [==============================] - 2s 13us/step - loss: 0.6042 - val_loss: 0.6029\n",
      "Epoch 94/100\n",
      "117864/117864 [==============================] - 2s 13us/step - loss: 0.6034 - val_loss: 0.6083\n",
      "Epoch 95/100\n",
      "117864/117864 [==============================] - 1s 13us/step - loss: 0.6040 - val_loss: 0.6044\n",
      "Epoch 96/100\n",
      "117864/117864 [==============================] - 2s 13us/step - loss: 0.6033 - val_loss: 0.6042\n",
      "Epoch 97/100\n",
      "117864/117864 [==============================] - 1s 12us/step - loss: 0.6026 - val_loss: 0.6020\n",
      "Epoch 98/100\n",
      "117864/117864 [==============================] - 1s 12us/step - loss: 0.6053 - val_loss: 0.6047\n",
      "Epoch 99/100\n",
      "117864/117864 [==============================] - 1s 13us/step - loss: 0.6037 - val_loss: 0.6042\n",
      "Epoch 100/100\n",
      "117864/117864 [==============================] - 1s 12us/step - loss: 0.6042 - val_loss: 0.6026\n"
     ]
    }
   ],
   "source": [
    "hist = vae.fit(x_train, x_train,\n",
    "               shuffle=True,\n",
    "               epochs=epochs,\n",
    "               batch_size=batch_size,\n",
    "               validation_data=(x_val, x_val))"
   ]
  },
  {
   "cell_type": "markdown",
   "metadata": {},
   "source": [
    "# Visualization"
   ]
  },
  {
   "cell_type": "code",
   "execution_count": 23,
   "metadata": {},
   "outputs": [],
   "source": [
    "import matplotlib.pyplot as plt"
   ]
  },
  {
   "cell_type": "code",
   "execution_count": 24,
   "metadata": {},
   "outputs": [
    {
     "data": {
      "image/png": "[encoded data removed]",
      "text/plain": [
       "<Figure size 432x266.991 with 1 Axes>"
      ]
     },
     "metadata": {
      "needs_background": "light"
     },
     "output_type": "display_data"
    }
   ],
   "source": [
    "golden_size = lambda width: (width, 2. * width / (1 + np.sqrt(5)))\n",
    "\n",
    "fig, ax = plt.subplots(figsize=golden_size(6))\n",
    "\n",
    "hist_df = pd.DataFrame(hist.history)\n",
    "hist_df.plot(ax=ax)\n",
    "\n",
    "ax.set_ylabel('NELBO')\n",
    "ax.set_xlabel('# epochs')\n",
    "\n",
    "ax.set_ylim(.99*hist_df[1:].values.min(), \n",
    "            1.1*hist_df[1:].values.max())\n",
    "plt.show()"
   ]
  },
  {
   "cell_type": "code",
   "execution_count": 25,
   "metadata": {},
   "outputs": [],
   "source": [
    "predictions = vae.predict(x_test)"
   ]
  },
  {
   "cell_type": "code",
   "execution_count": 26,
   "metadata": {},
   "outputs": [
    {
     "data": {
      "text/plain": [
       "array([[-0.37891942,  0.08580951,  0.79146504, -0.3143422 ],\n",
       "       [-0.43712667,  1.2223823 ,  0.895479  , -0.3679811 ],\n",
       "       [ 2.2418325 ,  0.01471937, -0.62820506,  0.88030183],\n",
       "       ...,\n",
       "       [-0.37510985, -0.25676107,  0.8434301 , -0.3079686 ],\n",
       "       [-0.4386793 ,  1.1532992 , -0.91081923, -0.3496287 ],\n",
       "       [-0.37992996,  0.8270169 ,  0.52565366, -0.2980941 ]],\n",
       "      dtype=float32)"
      ]
     },
     "execution_count": 26,
     "metadata": {},
     "output_type": "execute_result"
    }
   ],
   "source": [
    "predictions"
   ]
  },
  {
   "cell_type": "code",
   "execution_count": 27,
   "metadata": {},
   "outputs": [],
   "source": [
    "distr = (x_test - predictions) / x_test"
   ]
  },
  {
   "cell_type": "code",
   "execution_count": 28,
   "metadata": {},
   "outputs": [],
   "source": [
    "pT_pred = [row[0] for row in predictions]\n",
    "eta_pred = [row[1] for row in predictions]\n",
    "phi_pred = [row[2] for row in predictions]\n",
    "mass_pred = [row[3] for row in predictions]"
   ]
  },
  {
   "cell_type": "code",
   "execution_count": 29,
   "metadata": {},
   "outputs": [],
   "source": [
    "pT = [row[0] for row in x_test]\n",
    "eta = [row[1] for row in x_test]\n",
    "phi = [row[2] for row in x_test]\n",
    "mass = [row[3] for row in x_test]"
   ]
  },
  {
   "cell_type": "markdown",
   "metadata": {},
   "source": [
    "## Stacking output (orange) over input (blue) for pT, eta, phi, m"
   ]
  },
  {
   "cell_type": "code",
   "execution_count": 49,
   "metadata": {},
   "outputs": [
    {
     "data": {
      "text/plain": [
       "(array([0.000e+00, 1.000e+00, 0.000e+00, 0.000e+00, 1.000e+00, 3.000e+00,\n",
       "        1.300e+01, 1.000e+01, 5.300e+01, 3.810e+02, 5.480e+02, 5.080e+02,\n",
       "        4.300e+02, 5.110e+02, 8.630e+02, 1.251e+03, 1.419e+03, 1.454e+03,\n",
       "        1.366e+03, 1.385e+03, 8.770e+02, 3.780e+02, 1.750e+02, 1.250e+02,\n",
       "        9.100e+01, 7.700e+01, 7.200e+01, 6.000e+01, 3.200e+01, 3.900e+01,\n",
       "        3.000e+01, 2.800e+01, 2.500e+01, 1.500e+01, 2.400e+01, 2.000e+01,\n",
       "        1.800e+01, 1.000e+01, 1.300e+01, 9.000e+00, 1.300e+01, 6.000e+00,\n",
       "        4.000e+00, 3.000e+00, 4.000e+00, 6.000e+00, 6.000e+00, 4.000e+00,\n",
       "        2.000e+00]),\n",
       " array([-0.5       , -0.49387755, -0.4877551 , -0.48163265, -0.4755102 ,\n",
       "        -0.46938776, -0.46326531, -0.45714286, -0.45102041, -0.44489796,\n",
       "        -0.43877551, -0.43265306, -0.42653061, -0.42040816, -0.41428571,\n",
       "        -0.40816327, -0.40204082, -0.39591837, -0.38979592, -0.38367347,\n",
       "        -0.37755102, -0.37142857, -0.36530612, -0.35918367, -0.35306122,\n",
       "        -0.34693878, -0.34081633, -0.33469388, -0.32857143, -0.32244898,\n",
       "        -0.31632653, -0.31020408, -0.30408163, -0.29795918, -0.29183673,\n",
       "        -0.28571429, -0.27959184, -0.27346939, -0.26734694, -0.26122449,\n",
       "        -0.25510204, -0.24897959, -0.24285714, -0.23673469, -0.23061224,\n",
       "        -0.2244898 , -0.21836735, -0.2122449 , -0.20612245, -0.2       ]),\n",
       " <a list of 49 Patch objects>)"
      ]
     },
     "execution_count": 49,
     "metadata": {},
     "output_type": "execute_result"
    },
    {
     "data": {
      "image/png": "[encoded data removed]",
      "text/plain": [
       "<Figure size 432x288 with 1 Axes>"
      ]
     },
     "metadata": {
      "needs_background": "light"
     },
     "output_type": "display_data"
    }
   ],
   "source": [
    "bins = np.linspace(-0.5, -0.2, 50)\n",
    "plt.hist(pT, bins=bins,alpha=0.5)\n",
    "plt.hist(pT_pred, bins=bins,alpha=0.5)"
   ]
  },
  {
   "cell_type": "code",
   "execution_count": 42,
   "metadata": {},
   "outputs": [
    {
     "data": {
      "text/plain": [
       "(array([  0.,   0.,   0.,   0.,   0.,   0.,   0.,   0.,   2.,  11.,  18.,\n",
       "         40.,  65., 102., 163., 256., 299., 314., 280., 289., 302., 308.,\n",
       "        302., 328., 276., 207., 206., 217., 220., 234., 196., 225., 195.,\n",
       "        214., 202., 200., 241., 372., 580., 983., 721., 273., 184., 220.,\n",
       "        202., 194., 188., 210., 182., 196., 216., 192., 199., 221., 242.,\n",
       "        306., 313., 347., 301., 268., 282., 289., 332., 279., 222., 168.,\n",
       "         82.,  38.,  17.,   0.,   2.,   0.,   0.,   1.,   0.,   0.,   0.,\n",
       "          0.,   0.]),\n",
       " array([-2.        , -1.94936709, -1.89873418, -1.84810127, -1.79746835,\n",
       "        -1.74683544, -1.69620253, -1.64556962, -1.59493671, -1.5443038 ,\n",
       "        -1.49367089, -1.44303797, -1.39240506, -1.34177215, -1.29113924,\n",
       "        -1.24050633, -1.18987342, -1.13924051, -1.08860759, -1.03797468,\n",
       "        -0.98734177, -0.93670886, -0.88607595, -0.83544304, -0.78481013,\n",
       "        -0.73417722, -0.6835443 , -0.63291139, -0.58227848, -0.53164557,\n",
       "        -0.48101266, -0.43037975, -0.37974684, -0.32911392, -0.27848101,\n",
       "        -0.2278481 , -0.17721519, -0.12658228, -0.07594937, -0.02531646,\n",
       "         0.02531646,  0.07594937,  0.12658228,  0.17721519,  0.2278481 ,\n",
       "         0.27848101,  0.32911392,  0.37974684,  0.43037975,  0.48101266,\n",
       "         0.53164557,  0.58227848,  0.63291139,  0.6835443 ,  0.73417722,\n",
       "         0.78481013,  0.83544304,  0.88607595,  0.93670886,  0.98734177,\n",
       "         1.03797468,  1.08860759,  1.13924051,  1.18987342,  1.24050633,\n",
       "         1.29113924,  1.34177215,  1.39240506,  1.44303797,  1.49367089,\n",
       "         1.5443038 ,  1.59493671,  1.64556962,  1.69620253,  1.74683544,\n",
       "         1.79746835,  1.84810127,  1.89873418,  1.94936709,  2.        ]),\n",
       " <a list of 79 Patch objects>)"
      ]
     },
     "execution_count": 42,
     "metadata": {},
     "output_type": "execute_result"
    },
    {
     "data": {
      "image/png": "[encoded data removed]",
      "text/plain": [
       "<Figure size 432x288 with 1 Axes>"
      ]
     },
     "metadata": {
      "needs_background": "light"
     },
     "output_type": "display_data"
    }
   ],
   "source": [
    "bins = np.linspace(-2, 2, 80)\n",
    "plt.hist(eta, bins=bins,alpha=0.5)\n",
    "plt.hist(eta_pred, bins=bins,alpha=0.5)"
   ]
  },
  {
   "cell_type": "code",
   "execution_count": 41,
   "metadata": {},
   "outputs": [
    {
     "data": {
      "text/plain": [
       "(array([  0.,   0.,   0.,   0.,   0.,   0.,   1.,   0.,   0.,   1.,   0.,\n",
       "          2.,   2.,   2.,   3.,  19.,  14.,  34.,  47.,  64., 115., 177.,\n",
       "        241., 302., 365., 396., 308., 251., 266., 270., 294., 309., 284.,\n",
       "        269., 260., 214., 201., 202., 191., 195., 207., 212., 210., 222.,\n",
       "        208., 190., 217., 247., 221., 223., 219., 222., 227., 218., 223.,\n",
       "        202., 221., 198., 202., 216., 204., 212., 201., 198., 206., 212.,\n",
       "        222., 196., 303., 406., 455., 431., 372., 348., 283., 259., 210.,\n",
       "        141., 102.,  72.,  47.,  28.,  13.,   7.,   1.,   0.,   0.,   1.,\n",
       "          0.,   0.,   0.,   0.,   0.,   0.,   0.,   0.,   0.,   0.,   0.]),\n",
       " array([-2.        , -1.95959596, -1.91919192, -1.87878788, -1.83838384,\n",
       "        -1.7979798 , -1.75757576, -1.71717172, -1.67676768, -1.63636364,\n",
       "        -1.5959596 , -1.55555556, -1.51515152, -1.47474747, -1.43434343,\n",
       "        -1.39393939, -1.35353535, -1.31313131, -1.27272727, -1.23232323,\n",
       "        -1.19191919, -1.15151515, -1.11111111, -1.07070707, -1.03030303,\n",
       "        -0.98989899, -0.94949495, -0.90909091, -0.86868687, -0.82828283,\n",
       "        -0.78787879, -0.74747475, -0.70707071, -0.66666667, -0.62626263,\n",
       "        -0.58585859, -0.54545455, -0.50505051, -0.46464646, -0.42424242,\n",
       "        -0.38383838, -0.34343434, -0.3030303 , -0.26262626, -0.22222222,\n",
       "        -0.18181818, -0.14141414, -0.1010101 , -0.06060606, -0.02020202,\n",
       "         0.02020202,  0.06060606,  0.1010101 ,  0.14141414,  0.18181818,\n",
       "         0.22222222,  0.26262626,  0.3030303 ,  0.34343434,  0.38383838,\n",
       "         0.42424242,  0.46464646,  0.50505051,  0.54545455,  0.58585859,\n",
       "         0.62626263,  0.66666667,  0.70707071,  0.74747475,  0.78787879,\n",
       "         0.82828283,  0.86868687,  0.90909091,  0.94949495,  0.98989899,\n",
       "         1.03030303,  1.07070707,  1.11111111,  1.15151515,  1.19191919,\n",
       "         1.23232323,  1.27272727,  1.31313131,  1.35353535,  1.39393939,\n",
       "         1.43434343,  1.47474747,  1.51515152,  1.55555556,  1.5959596 ,\n",
       "         1.63636364,  1.67676768,  1.71717172,  1.75757576,  1.7979798 ,\n",
       "         1.83838384,  1.87878788,  1.91919192,  1.95959596,  2.        ]),\n",
       " <a list of 99 Patch objects>)"
      ]
     },
     "execution_count": 41,
     "metadata": {},
     "output_type": "execute_result"
    },
    {
     "data": {
      "image/png": "[encoded data removed]",
      "text/plain": [
       "<Figure size 432x288 with 1 Axes>"
      ]
     },
     "metadata": {
      "needs_background": "light"
     },
     "output_type": "display_data"
    }
   ],
   "source": [
    "bins = np.linspace(-2,2, 100)\n",
    "plt.hist(phi, bins=bins,alpha=0.5)\n",
    "plt.hist(phi_pred, bins=bins,alpha=0.5)"
   ]
  },
  {
   "cell_type": "code",
   "execution_count": 33,
   "metadata": {},
   "outputs": [
    {
     "data": {
      "text/plain": [
       "(array([3.600e+01, 1.161e+03, 4.176e+03, 5.540e+03, 1.045e+03, 2.400e+02,\n",
       "        1.130e+02, 4.300e+01, 1.900e+01, 1.300e+01, 2.300e+01, 2.600e+01,\n",
       "        1.400e+01, 1.100e+01, 1.000e+01, 1.300e+01, 1.300e+01, 8.000e+00,\n",
       "        1.300e+01, 1.300e+01, 5.000e+00, 1.100e+01, 9.000e+00, 5.000e+00,\n",
       "        9.000e+00, 1.300e+01, 6.000e+00, 9.000e+00, 1.000e+01, 1.400e+01,\n",
       "        1.500e+01, 1.600e+01, 1.600e+01, 1.300e+01, 1.900e+01, 2.200e+01,\n",
       "        2.900e+01, 3.700e+01, 3.000e+01, 3.000e+01, 2.300e+01, 2.600e+01,\n",
       "        3.100e+01, 2.800e+01, 3.500e+01, 2.700e+01, 3.200e+01, 4.200e+01,\n",
       "        2.800e+01, 2.300e+01, 4.100e+01, 2.300e+01, 3.000e+01, 3.500e+01,\n",
       "        4.100e+01, 3.600e+01, 2.900e+01, 2.100e+01, 3.000e+01]),\n",
       " array([-0.4       , -0.37627119, -0.35254237, -0.32881356, -0.30508475,\n",
       "        -0.28135593, -0.25762712, -0.23389831, -0.21016949, -0.18644068,\n",
       "        -0.16271186, -0.13898305, -0.11525424, -0.09152542, -0.06779661,\n",
       "        -0.0440678 , -0.02033898,  0.00338983,  0.02711864,  0.05084746,\n",
       "         0.07457627,  0.09830508,  0.1220339 ,  0.14576271,  0.16949153,\n",
       "         0.19322034,  0.21694915,  0.24067797,  0.26440678,  0.28813559,\n",
       "         0.31186441,  0.33559322,  0.35932203,  0.38305085,  0.40677966,\n",
       "         0.43050847,  0.45423729,  0.4779661 ,  0.50169492,  0.52542373,\n",
       "         0.54915254,  0.57288136,  0.59661017,  0.62033898,  0.6440678 ,\n",
       "         0.66779661,  0.69152542,  0.71525424,  0.73898305,  0.76271186,\n",
       "         0.78644068,  0.81016949,  0.83389831,  0.85762712,  0.88135593,\n",
       "         0.90508475,  0.92881356,  0.95254237,  0.97627119,  1.        ]),\n",
       " <a list of 59 Patch objects>)"
      ]
     },
     "execution_count": 33,
     "metadata": {},
     "output_type": "execute_result"
    },
    {
     "data": {
      "image/png": "[encoded data removed]",
      "text/plain": [
       "<Figure size 432x288 with 1 Axes>"
      ]
     },
     "metadata": {
      "needs_background": "light"
     },
     "output_type": "display_data"
    }
   ],
   "source": [
    "bins = np.linspace(-.4,1, 60)\n",
    "plt.hist(mass, bins=bins,alpha=0.5)\n",
    "plt.hist(mass_pred, bins=bins,alpha=0.5)"
   ]
  },
  {
   "cell_type": "code",
   "execution_count": 34,
   "metadata": {},
   "outputs": [],
   "source": [
    "d_pT = [row[0] for row in distr]\n",
    "d_eta = [row[1] for row in distr]\n",
    "d_phi = [row[2] for row in distr]\n",
    "d_mass = [row[3] for row in distr]"
   ]
  },
  {
   "cell_type": "markdown",
   "metadata": {},
   "source": [
    "## Distribution of (input - output) / input"
   ]
  },
  {
   "cell_type": "code",
   "execution_count": 50,
   "metadata": {},
   "outputs": [],
   "source": [
    "bins = np.linspace(-2, 2, 30)"
   ]
  },
  {
   "cell_type": "code",
   "execution_count": 51,
   "metadata": {},
   "outputs": [
    {
     "data": {
      "text/plain": [
       "(array([  15.,   10.,   17.,   20.,   21.,   21.,   29.,   47.,   61.,\n",
       "          60.,  103.,  173.,  274.,  706., 5645., 6005.,  523.,  169.,\n",
       "          39.,   42.,   29.,   16.,   21.,   21.,   43.,   40.,   35.,\n",
       "          31.,   19.]),\n",
       " array([-2.        , -1.86206897, -1.72413793, -1.5862069 , -1.44827586,\n",
       "        -1.31034483, -1.17241379, -1.03448276, -0.89655172, -0.75862069,\n",
       "        -0.62068966, -0.48275862, -0.34482759, -0.20689655, -0.06896552,\n",
       "         0.06896552,  0.20689655,  0.34482759,  0.48275862,  0.62068966,\n",
       "         0.75862069,  0.89655172,  1.03448276,  1.17241379,  1.31034483,\n",
       "         1.44827586,  1.5862069 ,  1.72413793,  1.86206897,  2.        ]),\n",
       " <a list of 29 Patch objects>)"
      ]
     },
     "execution_count": 51,
     "metadata": {},
     "output_type": "execute_result"
    },
    {
     "data": {
      "image/png": "[encoded data removed]",
      "text/plain": [
       "<Figure size 432x288 with 1 Axes>"
      ]
     },
     "metadata": {
      "needs_background": "light"
     },
     "output_type": "display_data"
    }
   ],
   "source": [
    "plt.hist(d_pT, bins=bins)"
   ]
  },
  {
   "cell_type": "code",
   "execution_count": 52,
   "metadata": {},
   "outputs": [
    {
     "data": {
      "text/plain": [
       "(array([  53.,   51.,   47.,   46.,   78.,  100.,  113.,  143.,  169.,\n",
       "         202.,  260.,  327.,  460.,  519.,  685., 1165., 1684., 1416.,\n",
       "        1000.,  774.,  783.,  897.,  663.,  423.,  240.,  182.,  161.,\n",
       "         120.,  104.]),\n",
       " array([-2.        , -1.86206897, -1.72413793, -1.5862069 , -1.44827586,\n",
       "        -1.31034483, -1.17241379, -1.03448276, -0.89655172, -0.75862069,\n",
       "        -0.62068966, -0.48275862, -0.34482759, -0.20689655, -0.06896552,\n",
       "         0.06896552,  0.20689655,  0.34482759,  0.48275862,  0.62068966,\n",
       "         0.75862069,  0.89655172,  1.03448276,  1.17241379,  1.31034483,\n",
       "         1.44827586,  1.5862069 ,  1.72413793,  1.86206897,  2.        ]),\n",
       " <a list of 29 Patch objects>)"
      ]
     },
     "execution_count": 52,
     "metadata": {},
     "output_type": "execute_result"
    },
    {
     "data": {
      "image/png": "[encoded data removed]",
      "text/plain": [
       "<Figure size 432x288 with 1 Axes>"
      ]
     },
     "metadata": {
      "needs_background": "light"
     },
     "output_type": "display_data"
    }
   ],
   "source": [
    "plt.hist(d_eta, bins=bins)"
   ]
  },
  {
   "cell_type": "code",
   "execution_count": 53,
   "metadata": {},
   "outputs": [
    {
     "data": {
      "text/plain": [
       "(array([  42.,   51.,   64.,   79.,   68.,   97.,  105.,  136.,  157.,\n",
       "         222.,  254.,  341.,  415.,  522.,  789., 1085., 1656., 1747.,\n",
       "        1126.,  830.,  696.,  561.,  400.,  279.,  246.,  168.,  145.,\n",
       "         136.,  115.]),\n",
       " array([-2.        , -1.86206897, -1.72413793, -1.5862069 , -1.44827586,\n",
       "        -1.31034483, -1.17241379, -1.03448276, -0.89655172, -0.75862069,\n",
       "        -0.62068966, -0.48275862, -0.34482759, -0.20689655, -0.06896552,\n",
       "         0.06896552,  0.20689655,  0.34482759,  0.48275862,  0.62068966,\n",
       "         0.75862069,  0.89655172,  1.03448276,  1.17241379,  1.31034483,\n",
       "         1.44827586,  1.5862069 ,  1.72413793,  1.86206897,  2.        ]),\n",
       " <a list of 29 Patch objects>)"
      ]
     },
     "execution_count": 53,
     "metadata": {},
     "output_type": "execute_result"
    },
    {
     "data": {
      "image/png": "[encoded data removed]",
      "text/plain": [
       "<Figure size 432x288 with 1 Axes>"
      ]
     },
     "metadata": {
      "needs_background": "light"
     },
     "output_type": "display_data"
    }
   ],
   "source": [
    "plt.hist(d_phi, bins=bins)"
   ]
  }
 ],
 "metadata": {
  "kernelspec": {
   "display_name": "Python 3",
   "language": "python",
   "name": "python3"
  },
  "language_info": {
   "codemirror_mode": {
    "name": "ipython",
    "version": 3
   },
   "file_extension": ".py",
   "mimetype": "text/x-python",
   "name": "python",
   "nbconvert_exporter": "python",
   "pygments_lexer": "ipython3",
   "version": "3.7.6"
  }
 },
 "nbformat": 4,
 "nbformat_minor": 4
}
