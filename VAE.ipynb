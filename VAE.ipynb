{
 "cells": [
  {
   "cell_type": "code",
   "execution_count": 1,
   "metadata": {},
   "outputs": [],
   "source": [
    "import pandas as pd\n",
    "import numpy as np\n",
    "from pyjet import cluster,DTYPE_PTEPM\n",
    "from sklearn import preprocessing"
   ]
  },
  {
   "cell_type": "markdown",
   "metadata": {},
   "source": [
    "# Pre processing"
   ]
  },
  {
   "cell_type": "code",
   "execution_count": 2,
   "metadata": {},
   "outputs": [],
   "source": [
    "path = path = '/anomalyvol/data/events_LHCO2020_backgroundMC_Pythia.h5'"
   ]
  },
  {
   "cell_type": "code",
   "execution_count": 3,
   "metadata": {},
   "outputs": [],
   "source": [
    "df = pd.read_hdf(path,stop=1000) # just read first 1000 events"
   ]
  },
  {
   "cell_type": "code",
   "execution_count": 4,
   "metadata": {},
   "outputs": [],
   "source": [
    "all_events = df.values"
   ]
  },
  {
   "cell_type": "code",
   "execution_count": 5,
   "metadata": {},
   "outputs": [],
   "source": [
    "rows = all_events.shape[0]\n",
    "cols = all_events.shape[1]\n",
    "data = []"
   ]
  },
  {
   "cell_type": "code",
   "execution_count": 6,
   "metadata": {},
   "outputs": [],
   "source": [
    "for i in range(rows):\n",
    "    pseudojets_input = np.zeros(len([x for x in all_events[i][::3] if x > 0]), dtype=DTYPE_PTEPM)\n",
    "    for j in range(cols // 3):\n",
    "        if (all_events[i][j*3]>0):\n",
    "            pseudojets_input[j]['pT'] = all_events[i][j*3]\n",
    "            pseudojets_input[j]['eta'] = all_events[i][j*3+1]\n",
    "            pseudojets_input[j]['phi'] = all_events[i][j*3+2]\n",
    "        pass\n",
    "    sequence = cluster(pseudojets_input, R=1.0, p=-1)\n",
    "    jets = sequence.inclusive_jets()\n",
    "    for k in range(len(jets)):\n",
    "        jet = []\n",
    "        jet.append(jets[k].pt)\n",
    "        jet.append(jets[k].eta)\n",
    "        jet.append(jets[k].phi)\n",
    "        jet.append(jets[k].mass)\n",
    "        data.append(jet)"
   ]
  },
  {
   "cell_type": "code",
   "execution_count": 7,
   "metadata": {},
   "outputs": [
    {
     "data": {
      "text/plain": [
       "(14795, 4)"
      ]
     },
     "execution_count": 7,
     "metadata": {},
     "output_type": "execute_result"
    }
   ],
   "source": [
    "data = np.array(data)\n",
    "data.shape"
   ]
  },
  {
   "cell_type": "code",
   "execution_count": 8,
   "metadata": {
    "scrolled": false
   },
   "outputs": [],
   "source": [
    "# looking for bad data\n",
    "bad_data = 0\n",
    "for i in range(len(data)):\n",
    "    if(0.0 in data[i]):\n",
    "        bad_data += 1"
   ]
  },
  {
   "cell_type": "code",
   "execution_count": 9,
   "metadata": {},
   "outputs": [
    {
     "data": {
      "text/plain": [
       "(439, 14795)"
      ]
     },
     "execution_count": 9,
     "metadata": {},
     "output_type": "execute_result"
    }
   ],
   "source": [
    "(bad_data, len(data))"
   ]
  },
  {
   "cell_type": "code",
   "execution_count": 10,
   "metadata": {},
   "outputs": [
    {
     "data": {
      "text/plain": [
       "(344.6350920188037, 387.5184029169282)"
      ]
     },
     "execution_count": 10,
     "metadata": {},
     "output_type": "execute_result"
    }
   ],
   "source": [
    "# checking distribution of data\n",
    "(data[:][1].mean(), data[:][1].std()) # eta"
   ]
  },
  {
   "cell_type": "code",
   "execution_count": 11,
   "metadata": {},
   "outputs": [],
   "source": [
    "# regularize\n",
    "min_max_scaler = preprocessing.MinMaxScaler()\n",
    "data = min_max_scaler.fit_transform(data)"
   ]
  },
  {
   "cell_type": "markdown",
   "metadata": {},
   "source": [
    "# VAE Model"
   ]
  },
  {
   "cell_type": "code",
   "execution_count": 12,
   "metadata": {},
   "outputs": [
    {
     "name": "stderr",
     "output_type": "stream",
     "text": [
      "Using TensorFlow backend.\n"
     ]
    }
   ],
   "source": [
    "import keras\n",
    "from keras.layers import Lambda, Input, Dense, Flatten, Reshape\n",
    "from keras.models import Model, Sequential\n",
    "from keras import metrics\n",
    "from keras import backend as K"
   ]
  },
  {
   "cell_type": "code",
   "execution_count": 13,
   "metadata": {},
   "outputs": [],
   "source": [
    "def sampling(args):\n",
    "    \"\"\"\n",
    "    # Arguments\n",
    "        args (tensor): mean and log of variance of Q(z|X)\n",
    "    # Returns\n",
    "        z (tensor): sampled latent vector\n",
    "    \"\"\"\n",
    "\n",
    "    z_mean, z_log_var = args\n",
    "    batch = K.shape(z_mean)[0]\n",
    "    dim = K.int_shape(z_mean)[1]\n",
    "    # by default, random_normal has mean = 0 and std = 1.0\n",
    "    epsilon = K.random_normal(shape=(batch, dim))\n",
    "    return z_mean + K.exp(0.5 * z_log_var) * epsilon"
   ]
  },
  {
   "cell_type": "code",
   "execution_count": 14,
   "metadata": {},
   "outputs": [],
   "source": [
    "inter_dim = 12\n",
    "final_dim = 4\n",
    "latent_dim = 2\n",
    "input_dim = 4"
   ]
  },
  {
   "cell_type": "code",
   "execution_count": 15,
   "metadata": {},
   "outputs": [],
   "source": [
    "# encoder\n",
    "x = Input(shape=(input_dim,))\n",
    "#x_flat = Flatten()(x)\n",
    "h1 = Dense(inter_dim, activation='relu')(x)\n",
    "h2 = Dense(final_dim, activation='relu')(h1)\n",
    "z_mean = Dense(latent_dim)(h2)\n",
    "z_log_sigma = Dense(latent_dim)(h2)"
   ]
  },
  {
   "cell_type": "code",
   "execution_count": 16,
   "metadata": {},
   "outputs": [],
   "source": [
    "# random sampling\n",
    "z = Lambda(sampling, output_shape=(latent_dim,))([z_mean, z_log_sigma])\n",
    "\n",
    "encoder = Model(inputs = x, outputs = z)"
   ]
  },
  {
   "cell_type": "code",
   "execution_count": 17,
   "metadata": {},
   "outputs": [],
   "source": [
    "# decoder\n",
    "decoder_h2 = Dense(final_dim, activation='relu')\n",
    "decoder_h1 = Dense(inter_dim, activation='relu')\n",
    "decoder_mean = Dense(input_dim, activation='sigmoid')\n",
    "\n",
    "h2_decoded = decoder_h2(z)\n",
    "h1_decoded = decoder_h1(h2_decoded)\n",
    "x_decoded_mean = decoder_mean(h1_decoded)\n",
    "# x_decoded = Reshape(input_shape)(x_decoded_mean)"
   ]
  },
  {
   "cell_type": "code",
   "execution_count": 18,
   "metadata": {},
   "outputs": [],
   "source": [
    "vae = Model(inputs = x, outputs = x_decoded_mean, name = 'vae')"
   ]
  },
  {
   "cell_type": "code",
   "execution_count": 19,
   "metadata": {},
   "outputs": [],
   "source": [
    "def vae_loss(x, y):\n",
    "    xent_loss = metrics.binary_crossentropy(x, y)\n",
    "    kl_loss = - 0.5 * K.mean(1 + z_log_sigma - K.square(z_mean) - K.exp(z_log_sigma), axis=-1)\n",
    "    return xent_loss + kl_loss\n",
    "\n",
    "vae.compile(optimizer='adam', loss=vae_loss)"
   ]
  },
  {
   "cell_type": "code",
   "execution_count": 20,
   "metadata": {},
   "outputs": [
    {
     "name": "stdout",
     "output_type": "stream",
     "text": [
      "Model: \"vae\"\n",
      "__________________________________________________________________________________________________\n",
      "Layer (type)                    Output Shape         Param #     Connected to                     \n",
      "==================================================================================================\n",
      "input_1 (InputLayer)            (None, 4)            0                                            \n",
      "__________________________________________________________________________________________________\n",
      "dense_1 (Dense)                 (None, 12)           60          input_1[0][0]                    \n",
      "__________________________________________________________________________________________________\n",
      "dense_2 (Dense)                 (None, 4)            52          dense_1[0][0]                    \n",
      "__________________________________________________________________________________________________\n",
      "dense_3 (Dense)                 (None, 2)            10          dense_2[0][0]                    \n",
      "__________________________________________________________________________________________________\n",
      "dense_4 (Dense)                 (None, 2)            10          dense_2[0][0]                    \n",
      "__________________________________________________________________________________________________\n",
      "lambda_1 (Lambda)               (None, 2)            0           dense_3[0][0]                    \n",
      "                                                                 dense_4[0][0]                    \n",
      "__________________________________________________________________________________________________\n",
      "dense_5 (Dense)                 (None, 4)            12          lambda_1[0][0]                   \n",
      "__________________________________________________________________________________________________\n",
      "dense_6 (Dense)                 (None, 12)           60          dense_5[0][0]                    \n",
      "__________________________________________________________________________________________________\n",
      "dense_7 (Dense)                 (None, 4)            52          dense_6[0][0]                    \n",
      "==================================================================================================\n",
      "Total params: 256\n",
      "Trainable params: 256\n",
      "Non-trainable params: 0\n",
      "__________________________________________________________________________________________________\n"
     ]
    }
   ],
   "source": [
    "vae.summary()"
   ]
  },
  {
   "cell_type": "markdown",
   "metadata": {},
   "source": [
    "# Train"
   ]
  },
  {
   "cell_type": "code",
   "execution_count": 21,
   "metadata": {},
   "outputs": [],
   "source": [
    "from sklearn.model_selection import train_test_split"
   ]
  },
  {
   "cell_type": "code",
   "execution_count": 22,
   "metadata": {},
   "outputs": [],
   "source": [
    "x_train = data[0:int(len(data) * 0.8)]\n",
    "x_val = data[int(len(data) * 0.8):]\n",
    "batch_size = 100\n",
    "epochs = 200"
   ]
  },
  {
   "cell_type": "code",
   "execution_count": 23,
   "metadata": {},
   "outputs": [
    {
     "data": {
      "text/plain": [
       "(11836, 4)"
      ]
     },
     "execution_count": 23,
     "metadata": {},
     "output_type": "execute_result"
    }
   ],
   "source": [
    "x_train.shape"
   ]
  },
  {
   "cell_type": "code",
   "execution_count": 24,
   "metadata": {},
   "outputs": [
    {
     "name": "stdout",
     "output_type": "stream",
     "text": [
      "Train on 11836 samples, validate on 2959 samples\n",
      "Epoch 1/200\n",
      "11836/11836 [==============================] - 1s 110us/step - loss: 0.6156 - val_loss: 0.5524\n",
      "Epoch 2/200\n",
      "11836/11836 [==============================] - 1s 50us/step - loss: 0.5058 - val_loss: 0.4702\n",
      "Epoch 3/200\n",
      "11836/11836 [==============================] - 1s 53us/step - loss: 0.4611 - val_loss: 0.4570\n",
      "Epoch 4/200\n",
      "11836/11836 [==============================] - 1s 55us/step - loss: 0.4541 - val_loss: 0.4534\n",
      "Epoch 5/200\n",
      "11836/11836 [==============================] - 1s 49us/step - loss: 0.4519 - val_loss: 0.4520\n",
      "Epoch 6/200\n",
      "11836/11836 [==============================] - 1s 50us/step - loss: 0.4513 - val_loss: 0.4520\n",
      "Epoch 7/200\n",
      "11836/11836 [==============================] - 1s 52us/step - loss: 0.4506 - val_loss: 0.4513\n",
      "Epoch 8/200\n",
      "11836/11836 [==============================] - 1s 50us/step - loss: 0.4500 - val_loss: 0.4504\n",
      "Epoch 9/200\n",
      "11836/11836 [==============================] - 1s 52us/step - loss: 0.4498 - val_loss: 0.4501\n",
      "Epoch 10/200\n",
      "11836/11836 [==============================] - 1s 49us/step - loss: 0.4493 - val_loss: 0.4496\n",
      "Epoch 11/200\n",
      "11836/11836 [==============================] - 1s 51us/step - loss: 0.4493 - val_loss: 0.4499\n",
      "Epoch 12/200\n",
      "11836/11836 [==============================] - 1s 51us/step - loss: 0.4492 - val_loss: 0.4499\n",
      "Epoch 13/200\n",
      "11836/11836 [==============================] - 1s 48us/step - loss: 0.4492 - val_loss: 0.4501\n",
      "Epoch 14/200\n",
      "11836/11836 [==============================] - 1s 48us/step - loss: 0.4490 - val_loss: 0.4502\n",
      "Epoch 15/200\n",
      "11836/11836 [==============================] - 1s 46us/step - loss: 0.4491 - val_loss: 0.4499\n",
      "Epoch 16/200\n",
      "11836/11836 [==============================] - 1s 50us/step - loss: 0.4489 - val_loss: 0.4500\n",
      "Epoch 17/200\n",
      "11836/11836 [==============================] - 1s 47us/step - loss: 0.4489 - val_loss: 0.4497\n",
      "Epoch 18/200\n",
      "11836/11836 [==============================] - 1s 50us/step - loss: 0.4488 - val_loss: 0.4498\n",
      "Epoch 19/200\n",
      "11836/11836 [==============================] - 1s 50us/step - loss: 0.4489 - val_loss: 0.4498\n",
      "Epoch 20/200\n",
      "11836/11836 [==============================] - 1s 47us/step - loss: 0.4489 - val_loss: 0.4496\n",
      "Epoch 21/200\n",
      "11836/11836 [==============================] - 1s 50us/step - loss: 0.4489 - val_loss: 0.4497\n",
      "Epoch 22/200\n",
      "11836/11836 [==============================] - 1s 50us/step - loss: 0.4488 - val_loss: 0.4496\n",
      "Epoch 23/200\n",
      "11836/11836 [==============================] - 1s 51us/step - loss: 0.4489 - val_loss: 0.4496\n",
      "Epoch 24/200\n",
      "11836/11836 [==============================] - 1s 49us/step - loss: 0.4489 - val_loss: 0.4494\n",
      "Epoch 25/200\n",
      "11836/11836 [==============================] - 1s 51us/step - loss: 0.4487 - val_loss: 0.4498\n",
      "Epoch 26/200\n",
      "11836/11836 [==============================] - 1s 56us/step - loss: 0.4489 - val_loss: 0.4498\n",
      "Epoch 27/200\n",
      "11836/11836 [==============================] - 1s 59us/step - loss: 0.4488 - val_loss: 0.4497\n",
      "Epoch 28/200\n",
      "11836/11836 [==============================] - 1s 61us/step - loss: 0.4488 - val_loss: 0.4497\n",
      "Epoch 29/200\n",
      "11836/11836 [==============================] - 1s 55us/step - loss: 0.4488 - val_loss: 0.4496\n",
      "Epoch 30/200\n",
      "11836/11836 [==============================] - 1s 57us/step - loss: 0.4488 - val_loss: 0.4495\n",
      "Epoch 31/200\n",
      "11836/11836 [==============================] - 1s 51us/step - loss: 0.4487 - val_loss: 0.4498\n",
      "Epoch 32/200\n",
      "11836/11836 [==============================] - 1s 51us/step - loss: 0.4488 - val_loss: 0.4496\n",
      "Epoch 33/200\n",
      "11836/11836 [==============================] - 1s 51us/step - loss: 0.4488 - val_loss: 0.4496\n",
      "Epoch 34/200\n",
      "11836/11836 [==============================] - 1s 50us/step - loss: 0.4488 - val_loss: 0.4495\n",
      "Epoch 35/200\n",
      "11836/11836 [==============================] - 1s 49us/step - loss: 0.4488 - val_loss: 0.4495\n",
      "Epoch 36/200\n",
      "11836/11836 [==============================] - 1s 50us/step - loss: 0.4488 - val_loss: 0.4497\n",
      "Epoch 37/200\n",
      "11836/11836 [==============================] - 1s 49us/step - loss: 0.4488 - val_loss: 0.4496\n",
      "Epoch 38/200\n",
      "11836/11836 [==============================] - 1s 54us/step - loss: 0.4487 - val_loss: 0.4497\n",
      "Epoch 39/200\n",
      "11836/11836 [==============================] - 1s 49us/step - loss: 0.4487 - val_loss: 0.4496\n",
      "Epoch 40/200\n",
      "11836/11836 [==============================] - 1s 53us/step - loss: 0.4488 - val_loss: 0.4496\n",
      "Epoch 41/200\n",
      "11836/11836 [==============================] - 1s 51us/step - loss: 0.4487 - val_loss: 0.4497\n",
      "Epoch 42/200\n",
      "11836/11836 [==============================] - 1s 50us/step - loss: 0.4488 - val_loss: 0.4496\n",
      "Epoch 43/200\n",
      "11836/11836 [==============================] - 1s 50us/step - loss: 0.4488 - val_loss: 0.4496\n",
      "Epoch 44/200\n",
      "11836/11836 [==============================] - 1s 50us/step - loss: 0.4487 - val_loss: 0.4496\n",
      "Epoch 45/200\n",
      "11836/11836 [==============================] - 1s 50us/step - loss: 0.4488 - val_loss: 0.4497\n",
      "Epoch 46/200\n",
      "11836/11836 [==============================] - 1s 48us/step - loss: 0.4487 - val_loss: 0.4495\n",
      "Epoch 47/200\n",
      "11836/11836 [==============================] - 1s 49us/step - loss: 0.4487 - val_loss: 0.4495\n",
      "Epoch 48/200\n",
      "11836/11836 [==============================] - 1s 50us/step - loss: 0.4487 - val_loss: 0.4498\n",
      "Epoch 49/200\n",
      "11836/11836 [==============================] - 1s 50us/step - loss: 0.4488 - val_loss: 0.4497\n",
      "Epoch 50/200\n",
      "11836/11836 [==============================] - 1s 50us/step - loss: 0.4488 - val_loss: 0.4497\n",
      "Epoch 51/200\n",
      "11836/11836 [==============================] - 1s 48us/step - loss: 0.4487 - val_loss: 0.4497\n",
      "Epoch 52/200\n",
      "11836/11836 [==============================] - 1s 48us/step - loss: 0.4488 - val_loss: 0.4496\n",
      "Epoch 53/200\n",
      "11836/11836 [==============================] - 1s 46us/step - loss: 0.4487 - val_loss: 0.4498\n",
      "Epoch 54/200\n",
      "11836/11836 [==============================] - 1s 46us/step - loss: 0.4488 - val_loss: 0.4496\n",
      "Epoch 55/200\n",
      "11836/11836 [==============================] - 1s 46us/step - loss: 0.4488 - val_loss: 0.4497\n",
      "Epoch 56/200\n",
      "11836/11836 [==============================] - 1s 46us/step - loss: 0.4487 - val_loss: 0.4497\n",
      "Epoch 57/200\n",
      "11836/11836 [==============================] - 1s 46us/step - loss: 0.4488 - val_loss: 0.4496\n",
      "Epoch 58/200\n",
      "11836/11836 [==============================] - 1s 46us/step - loss: 0.4487 - val_loss: 0.4496\n",
      "Epoch 59/200\n",
      "11836/11836 [==============================] - 1s 47us/step - loss: 0.4488 - val_loss: 0.4495\n",
      "Epoch 60/200\n",
      "11836/11836 [==============================] - 1s 46us/step - loss: 0.4487 - val_loss: 0.4495\n",
      "Epoch 61/200\n",
      "11836/11836 [==============================] - 1s 47us/step - loss: 0.4487 - val_loss: 0.4497\n",
      "Epoch 62/200\n",
      "11836/11836 [==============================] - 1s 46us/step - loss: 0.4488 - val_loss: 0.4496\n",
      "Epoch 63/200\n",
      "11836/11836 [==============================] - 1s 47us/step - loss: 0.4487 - val_loss: 0.4496\n",
      "Epoch 64/200\n",
      "11836/11836 [==============================] - 1s 47us/step - loss: 0.4487 - val_loss: 0.4495\n",
      "Epoch 65/200\n",
      "11836/11836 [==============================] - 1s 46us/step - loss: 0.4487 - val_loss: 0.4496\n",
      "Epoch 66/200\n",
      "11836/11836 [==============================] - 1s 46us/step - loss: 0.4487 - val_loss: 0.4496\n",
      "Epoch 67/200\n",
      "11836/11836 [==============================] - 1s 46us/step - loss: 0.4487 - val_loss: 0.4496\n",
      "Epoch 68/200\n",
      "11836/11836 [==============================] - 1s 46us/step - loss: 0.4487 - val_loss: 0.4497\n",
      "Epoch 69/200\n",
      "11836/11836 [==============================] - 1s 47us/step - loss: 0.4488 - val_loss: 0.4496\n",
      "Epoch 70/200\n",
      "11836/11836 [==============================] - 1s 50us/step - loss: 0.4487 - val_loss: 0.4495\n",
      "Epoch 71/200\n",
      "11836/11836 [==============================] - 1s 48us/step - loss: 0.4487 - val_loss: 0.4496\n",
      "Epoch 72/200\n",
      "11836/11836 [==============================] - 1s 46us/step - loss: 0.4487 - val_loss: 0.4497\n",
      "Epoch 73/200\n",
      "11836/11836 [==============================] - 1s 48us/step - loss: 0.4488 - val_loss: 0.4496\n",
      "Epoch 74/200\n",
      "11836/11836 [==============================] - 1s 47us/step - loss: 0.4487 - val_loss: 0.4496\n",
      "Epoch 75/200\n",
      "11836/11836 [==============================] - 1s 47us/step - loss: 0.4487 - val_loss: 0.4496\n",
      "Epoch 76/200\n",
      "11836/11836 [==============================] - 1s 48us/step - loss: 0.4487 - val_loss: 0.4496\n",
      "Epoch 77/200\n"
     ]
    },
    {
     "name": "stdout",
     "output_type": "stream",
     "text": [
      "11836/11836 [==============================] - 1s 48us/step - loss: 0.4487 - val_loss: 0.4497\n",
      "Epoch 78/200\n",
      "11836/11836 [==============================] - 1s 46us/step - loss: 0.4487 - val_loss: 0.4496\n",
      "Epoch 79/200\n",
      "11836/11836 [==============================] - 1s 48us/step - loss: 0.4487 - val_loss: 0.4496\n",
      "Epoch 80/200\n",
      "11836/11836 [==============================] - 1s 48us/step - loss: 0.4487 - val_loss: 0.4496\n",
      "Epoch 81/200\n",
      "11836/11836 [==============================] - 1s 48us/step - loss: 0.4487 - val_loss: 0.4496\n",
      "Epoch 82/200\n",
      "11836/11836 [==============================] - 1s 48us/step - loss: 0.4488 - val_loss: 0.4496\n",
      "Epoch 83/200\n",
      "11836/11836 [==============================] - 1s 48us/step - loss: 0.4487 - val_loss: 0.4496\n",
      "Epoch 84/200\n",
      "11836/11836 [==============================] - 1s 46us/step - loss: 0.4487 - val_loss: 0.4496\n",
      "Epoch 85/200\n",
      "11836/11836 [==============================] - 1s 46us/step - loss: 0.4487 - val_loss: 0.4497\n",
      "Epoch 86/200\n",
      "11836/11836 [==============================] - 1s 46us/step - loss: 0.4487 - val_loss: 0.4496\n",
      "Epoch 87/200\n",
      "11836/11836 [==============================] - 1s 46us/step - loss: 0.4487 - val_loss: 0.4497\n",
      "Epoch 88/200\n",
      "11836/11836 [==============================] - 1s 47us/step - loss: 0.4487 - val_loss: 0.4496\n",
      "Epoch 89/200\n",
      "11836/11836 [==============================] - 1s 47us/step - loss: 0.4487 - val_loss: 0.4495\n",
      "Epoch 90/200\n",
      "11836/11836 [==============================] - 1s 47us/step - loss: 0.4487 - val_loss: 0.4496\n",
      "Epoch 91/200\n",
      "11836/11836 [==============================] - 1s 47us/step - loss: 0.4487 - val_loss: 0.4497\n",
      "Epoch 92/200\n",
      "11836/11836 [==============================] - 1s 47us/step - loss: 0.4487 - val_loss: 0.4497\n",
      "Epoch 93/200\n",
      "11836/11836 [==============================] - 1s 47us/step - loss: 0.4487 - val_loss: 0.4496\n",
      "Epoch 94/200\n",
      "11836/11836 [==============================] - 1s 47us/step - loss: 0.4487 - val_loss: 0.4496\n",
      "Epoch 95/200\n",
      "11836/11836 [==============================] - 1s 47us/step - loss: 0.4487 - val_loss: 0.4496\n",
      "Epoch 96/200\n",
      "11836/11836 [==============================] - 1s 50us/step - loss: 0.4487 - val_loss: 0.4497\n",
      "Epoch 97/200\n",
      "11836/11836 [==============================] - 1s 48us/step - loss: 0.4487 - val_loss: 0.4495\n",
      "Epoch 98/200\n",
      "11836/11836 [==============================] - 1s 47us/step - loss: 0.4487 - val_loss: 0.4496\n",
      "Epoch 99/200\n",
      "11836/11836 [==============================] - 1s 46us/step - loss: 0.4488 - val_loss: 0.4496\n",
      "Epoch 100/200\n",
      "11836/11836 [==============================] - 1s 46us/step - loss: 0.4487 - val_loss: 0.4495\n",
      "Epoch 101/200\n",
      "11836/11836 [==============================] - 1s 46us/step - loss: 0.4487 - val_loss: 0.4497\n",
      "Epoch 102/200\n",
      "11836/11836 [==============================] - 1s 46us/step - loss: 0.4488 - val_loss: 0.4496\n",
      "Epoch 103/200\n",
      "11836/11836 [==============================] - 1s 46us/step - loss: 0.4487 - val_loss: 0.4496\n",
      "Epoch 104/200\n",
      "11836/11836 [==============================] - 1s 46us/step - loss: 0.4487 - val_loss: 0.4496\n",
      "Epoch 105/200\n",
      "11836/11836 [==============================] - 1s 47us/step - loss: 0.4487 - val_loss: 0.4497\n",
      "Epoch 106/200\n",
      "11836/11836 [==============================] - 1s 47us/step - loss: 0.4487 - val_loss: 0.4495\n",
      "Epoch 107/200\n",
      "11836/11836 [==============================] - 1s 50us/step - loss: 0.4487 - val_loss: 0.4495\n",
      "Epoch 108/200\n",
      "11836/11836 [==============================] - 1s 48us/step - loss: 0.4487 - val_loss: 0.4496\n",
      "Epoch 109/200\n",
      "11836/11836 [==============================] - 1s 45us/step - loss: 0.4487 - val_loss: 0.4497\n",
      "Epoch 110/200\n",
      "11836/11836 [==============================] - 1s 46us/step - loss: 0.4487 - val_loss: 0.4497\n",
      "Epoch 111/200\n",
      "11836/11836 [==============================] - 1s 46us/step - loss: 0.4487 - val_loss: 0.4495\n",
      "Epoch 112/200\n",
      "11836/11836 [==============================] - 1s 46us/step - loss: 0.4488 - val_loss: 0.4495\n",
      "Epoch 113/200\n",
      "11836/11836 [==============================] - 1s 46us/step - loss: 0.4488 - val_loss: 0.4497\n",
      "Epoch 114/200\n",
      "11836/11836 [==============================] - 1s 46us/step - loss: 0.4487 - val_loss: 0.4497\n",
      "Epoch 115/200\n",
      "11836/11836 [==============================] - 1s 46us/step - loss: 0.4487 - val_loss: 0.4496\n",
      "Epoch 116/200\n",
      "11836/11836 [==============================] - 1s 48us/step - loss: 0.4487 - val_loss: 0.4496\n",
      "Epoch 117/200\n",
      "11836/11836 [==============================] - 1s 48us/step - loss: 0.4487 - val_loss: 0.4496\n",
      "Epoch 118/200\n",
      "11836/11836 [==============================] - 1s 50us/step - loss: 0.4487 - val_loss: 0.4496\n",
      "Epoch 119/200\n",
      "11836/11836 [==============================] - 1s 48us/step - loss: 0.4487 - val_loss: 0.4497\n",
      "Epoch 120/200\n",
      "11836/11836 [==============================] - 1s 50us/step - loss: 0.4487 - val_loss: 0.4496\n",
      "Epoch 121/200\n",
      "11836/11836 [==============================] - 1s 50us/step - loss: 0.4487 - val_loss: 0.4496\n",
      "Epoch 122/200\n",
      "11836/11836 [==============================] - 1s 51us/step - loss: 0.4487 - val_loss: 0.4496\n",
      "Epoch 123/200\n",
      "11836/11836 [==============================] - 1s 51us/step - loss: 0.4487 - val_loss: 0.4494\n",
      "Epoch 124/200\n",
      "11836/11836 [==============================] - 1s 50us/step - loss: 0.4487 - val_loss: 0.4495\n",
      "Epoch 125/200\n",
      "11836/11836 [==============================] - 1s 50us/step - loss: 0.4487 - val_loss: 0.4495\n",
      "Epoch 126/200\n",
      "11836/11836 [==============================] - 1s 48us/step - loss: 0.4487 - val_loss: 0.4496\n",
      "Epoch 127/200\n",
      "11836/11836 [==============================] - 1s 48us/step - loss: 0.4488 - val_loss: 0.4496\n",
      "Epoch 128/200\n",
      "11836/11836 [==============================] - 1s 49us/step - loss: 0.4487 - val_loss: 0.4498\n",
      "Epoch 129/200\n",
      "11836/11836 [==============================] - 1s 50us/step - loss: 0.4488 - val_loss: 0.4495\n",
      "Epoch 130/200\n",
      "11836/11836 [==============================] - 1s 51us/step - loss: 0.4487 - val_loss: 0.4496\n",
      "Epoch 131/200\n",
      "11836/11836 [==============================] - 1s 49us/step - loss: 0.4487 - val_loss: 0.4496\n",
      "Epoch 132/200\n",
      "11836/11836 [==============================] - 1s 48us/step - loss: 0.4487 - val_loss: 0.4496\n",
      "Epoch 133/200\n",
      "11836/11836 [==============================] - 1s 50us/step - loss: 0.4487 - val_loss: 0.4496\n",
      "Epoch 134/200\n",
      "11836/11836 [==============================] - 1s 49us/step - loss: 0.4487 - val_loss: 0.4495\n",
      "Epoch 135/200\n",
      "11836/11836 [==============================] - 1s 48us/step - loss: 0.4487 - val_loss: 0.4496\n",
      "Epoch 136/200\n",
      "11836/11836 [==============================] - 1s 48us/step - loss: 0.4487 - val_loss: 0.4496\n",
      "Epoch 137/200\n",
      "11836/11836 [==============================] - 1s 50us/step - loss: 0.4488 - val_loss: 0.4495\n",
      "Epoch 138/200\n",
      "11836/11836 [==============================] - 1s 51us/step - loss: 0.4487 - val_loss: 0.4496\n",
      "Epoch 139/200\n",
      "11836/11836 [==============================] - 1s 48us/step - loss: 0.4487 - val_loss: 0.4496\n",
      "Epoch 140/200\n",
      "11836/11836 [==============================] - 1s 50us/step - loss: 0.4487 - val_loss: 0.4496\n",
      "Epoch 141/200\n",
      "11836/11836 [==============================] - 1s 51us/step - loss: 0.4487 - val_loss: 0.4496\n",
      "Epoch 142/200\n",
      "11836/11836 [==============================] - 1s 49us/step - loss: 0.4487 - val_loss: 0.4497\n",
      "Epoch 143/200\n",
      "11836/11836 [==============================] - 1s 49us/step - loss: 0.4488 - val_loss: 0.4496\n",
      "Epoch 144/200\n",
      "11836/11836 [==============================] - 1s 49us/step - loss: 0.4487 - val_loss: 0.4496\n",
      "Epoch 145/200\n",
      "11836/11836 [==============================] - 1s 50us/step - loss: 0.4487 - val_loss: 0.4496\n",
      "Epoch 146/200\n",
      "11836/11836 [==============================] - 1s 49us/step - loss: 0.4487 - val_loss: 0.4495\n",
      "Epoch 147/200\n",
      "11836/11836 [==============================] - 1s 47us/step - loss: 0.4487 - val_loss: 0.4496\n",
      "Epoch 148/200\n",
      "11836/11836 [==============================] - 1s 51us/step - loss: 0.4487 - val_loss: 0.4496\n",
      "Epoch 149/200\n",
      "11836/11836 [==============================] - 1s 51us/step - loss: 0.4487 - val_loss: 0.4496\n",
      "Epoch 150/200\n",
      "11836/11836 [==============================] - 1s 48us/step - loss: 0.4487 - val_loss: 0.4496\n",
      "Epoch 151/200\n",
      "11836/11836 [==============================] - 1s 48us/step - loss: 0.4487 - val_loss: 0.4498\n",
      "Epoch 152/200\n",
      "11836/11836 [==============================] - 1s 48us/step - loss: 0.4487 - val_loss: 0.4497\n",
      "Epoch 153/200\n"
     ]
    },
    {
     "name": "stdout",
     "output_type": "stream",
     "text": [
      "11836/11836 [==============================] - 1s 51us/step - loss: 0.4487 - val_loss: 0.4495\n",
      "Epoch 154/200\n",
      "11836/11836 [==============================] - 1s 49us/step - loss: 0.4487 - val_loss: 0.4496\n",
      "Epoch 155/200\n",
      "11836/11836 [==============================] - 1s 48us/step - loss: 0.4487 - val_loss: 0.4497\n",
      "Epoch 156/200\n",
      "11836/11836 [==============================] - 1s 51us/step - loss: 0.4487 - val_loss: 0.4496\n",
      "Epoch 157/200\n",
      "11836/11836 [==============================] - 1s 51us/step - loss: 0.4487 - val_loss: 0.4496\n",
      "Epoch 158/200\n",
      "11836/11836 [==============================] - 1s 50us/step - loss: 0.4487 - val_loss: 0.4497\n",
      "Epoch 159/200\n",
      "11836/11836 [==============================] - 1s 48us/step - loss: 0.4488 - val_loss: 0.4496\n",
      "Epoch 160/200\n",
      "11836/11836 [==============================] - 1s 51us/step - loss: 0.4487 - val_loss: 0.4497\n",
      "Epoch 161/200\n",
      "11836/11836 [==============================] - 1s 49us/step - loss: 0.4487 - val_loss: 0.4497\n",
      "Epoch 162/200\n",
      "11836/11836 [==============================] - 1s 51us/step - loss: 0.4487 - val_loss: 0.4496\n",
      "Epoch 163/200\n",
      "11836/11836 [==============================] - 1s 49us/step - loss: 0.4487 - val_loss: 0.4496\n",
      "Epoch 164/200\n",
      "11836/11836 [==============================] - 1s 49us/step - loss: 0.4487 - val_loss: 0.4496\n",
      "Epoch 165/200\n",
      "11836/11836 [==============================] - 1s 49us/step - loss: 0.4487 - val_loss: 0.4496\n",
      "Epoch 166/200\n",
      "11836/11836 [==============================] - 1s 49us/step - loss: 0.4487 - val_loss: 0.4496\n",
      "Epoch 167/200\n",
      "11836/11836 [==============================] - 1s 48us/step - loss: 0.4487 - val_loss: 0.4497\n",
      "Epoch 168/200\n",
      "11836/11836 [==============================] - 1s 48us/step - loss: 0.4487 - val_loss: 0.4497\n",
      "Epoch 169/200\n",
      "11836/11836 [==============================] - 1s 49us/step - loss: 0.4487 - val_loss: 0.4496\n",
      "Epoch 170/200\n",
      "11836/11836 [==============================] - 1s 51us/step - loss: 0.4487 - val_loss: 0.4496\n",
      "Epoch 171/200\n",
      "11836/11836 [==============================] - 1s 52us/step - loss: 0.4487 - val_loss: 0.4495\n",
      "Epoch 172/200\n",
      "11836/11836 [==============================] - 1s 53us/step - loss: 0.4487 - val_loss: 0.4496\n",
      "Epoch 173/200\n",
      "11836/11836 [==============================] - 1s 52us/step - loss: 0.4488 - val_loss: 0.4495\n",
      "Epoch 174/200\n",
      "11836/11836 [==============================] - 1s 54us/step - loss: 0.4487 - val_loss: 0.4496\n",
      "Epoch 175/200\n",
      "11836/11836 [==============================] - 1s 50us/step - loss: 0.4488 - val_loss: 0.4496\n",
      "Epoch 176/200\n",
      "11836/11836 [==============================] - 1s 49us/step - loss: 0.4487 - val_loss: 0.4496\n",
      "Epoch 177/200\n",
      "11836/11836 [==============================] - 1s 50us/step - loss: 0.4487 - val_loss: 0.4497\n",
      "Epoch 178/200\n",
      "11836/11836 [==============================] - 1s 51us/step - loss: 0.4488 - val_loss: 0.4496\n",
      "Epoch 179/200\n",
      "11836/11836 [==============================] - 1s 50us/step - loss: 0.4487 - val_loss: 0.4495\n",
      "Epoch 180/200\n",
      "11836/11836 [==============================] - 1s 50us/step - loss: 0.4487 - val_loss: 0.4496\n",
      "Epoch 181/200\n",
      "11836/11836 [==============================] - 1s 48us/step - loss: 0.4487 - val_loss: 0.4496\n",
      "Epoch 182/200\n",
      "11836/11836 [==============================] - 1s 49us/step - loss: 0.4487 - val_loss: 0.4497\n",
      "Epoch 183/200\n",
      "11836/11836 [==============================] - 1s 50us/step - loss: 0.4487 - val_loss: 0.4495\n",
      "Epoch 184/200\n",
      "11836/11836 [==============================] - 1s 48us/step - loss: 0.4487 - val_loss: 0.4496\n",
      "Epoch 185/200\n",
      "11836/11836 [==============================] - 1s 49us/step - loss: 0.4487 - val_loss: 0.4497\n",
      "Epoch 186/200\n",
      "11836/11836 [==============================] - 1s 48us/step - loss: 0.4487 - val_loss: 0.4496\n",
      "Epoch 187/200\n",
      "11836/11836 [==============================] - 1s 47us/step - loss: 0.4487 - val_loss: 0.4498\n",
      "Epoch 188/200\n",
      "11836/11836 [==============================] - 1s 47us/step - loss: 0.4487 - val_loss: 0.4496\n",
      "Epoch 189/200\n",
      "11836/11836 [==============================] - 1s 48us/step - loss: 0.4487 - val_loss: 0.4497\n",
      "Epoch 190/200\n",
      "11836/11836 [==============================] - 1s 50us/step - loss: 0.4487 - val_loss: 0.4496\n",
      "Epoch 191/200\n",
      "11836/11836 [==============================] - 1s 49us/step - loss: 0.4487 - val_loss: 0.4496\n",
      "Epoch 192/200\n",
      "11836/11836 [==============================] - 1s 50us/step - loss: 0.4487 - val_loss: 0.4496\n",
      "Epoch 193/200\n",
      "11836/11836 [==============================] - 1s 49us/step - loss: 0.4487 - val_loss: 0.4496\n",
      "Epoch 194/200\n",
      "11836/11836 [==============================] - 1s 48us/step - loss: 0.4487 - val_loss: 0.4496\n",
      "Epoch 195/200\n",
      "11836/11836 [==============================] - 1s 48us/step - loss: 0.4487 - val_loss: 0.4495\n",
      "Epoch 196/200\n",
      "11836/11836 [==============================] - 1s 50us/step - loss: 0.4487 - val_loss: 0.4498\n",
      "Epoch 197/200\n",
      "11836/11836 [==============================] - 1s 49us/step - loss: 0.4487 - val_loss: 0.4495\n",
      "Epoch 198/200\n",
      "11836/11836 [==============================] - 1s 49us/step - loss: 0.4487 - val_loss: 0.4496\n",
      "Epoch 199/200\n",
      "11836/11836 [==============================] - 1s 51us/step - loss: 0.4487 - val_loss: 0.4496\n",
      "Epoch 200/200\n",
      "11836/11836 [==============================] - 1s 51us/step - loss: 0.4487 - val_loss: 0.4496\n"
     ]
    }
   ],
   "source": [
    "hist = vae.fit(x_train, x_train,\n",
    "               shuffle=True,\n",
    "               epochs=epochs,\n",
    "               batch_size=batch_size,\n",
    "               validation_data=(x_val, x_val))"
   ]
  },
  {
   "cell_type": "markdown",
   "metadata": {},
   "source": [
    "# Visualization"
   ]
  },
  {
   "cell_type": "code",
   "execution_count": 25,
   "metadata": {},
   "outputs": [],
   "source": [
    "import matplotlib.pyplot as plt"
   ]
  },
  {
   "cell_type": "code",
   "execution_count": 26,
   "metadata": {},
   "outputs": [],
   "source": [
    "predictions = vae.predict(x_val)"
   ]
  },
  {
   "cell_type": "code",
   "execution_count": 27,
   "metadata": {},
   "outputs": [
    {
     "data": {
      "text/plain": [
       "array([[0.07021789, 0.5024749 , 0.48946273, 0.03610104],\n",
       "       [0.07011582, 0.5020879 , 0.49071246, 0.03603751],\n",
       "       [0.0704913 , 0.5022937 , 0.48980784, 0.03633823],\n",
       "       ...,\n",
       "       [0.0657272 , 0.49598828, 0.49200255, 0.03381502],\n",
       "       [0.06968134, 0.50226235, 0.49050972, 0.03566827],\n",
       "       [0.06950293, 0.50098455, 0.49147698, 0.03587788]], dtype=float32)"
      ]
     },
     "execution_count": 27,
     "metadata": {},
     "output_type": "execute_result"
    }
   ],
   "source": [
    "predictions"
   ]
  },
  {
   "cell_type": "code",
   "execution_count": 28,
   "metadata": {},
   "outputs": [
    {
     "name": "stderr",
     "output_type": "stream",
     "text": [
      "/opt/conda/lib/python3.7/site-packages/ipykernel_launcher.py:1: RuntimeWarning: divide by zero encountered in true_divide\n",
      "  \"\"\"Entry point for launching an IPython kernel.\n"
     ]
    }
   ],
   "source": [
    "distr = (x_val - predictions) / x_val"
   ]
  },
  {
   "cell_type": "code",
   "execution_count": 29,
   "metadata": {},
   "outputs": [],
   "source": [
    "pT_pred = [row[0] for row in predictions]\n",
    "eta_pred = [row[1] for row in predictions]\n",
    "phi_pred = [row[2] for row in predictions]\n",
    "mass_pred = [row[3] for row in predictions]"
   ]
  },
  {
   "cell_type": "code",
   "execution_count": 30,
   "metadata": {},
   "outputs": [],
   "source": [
    "pT = [row[0] for row in x_val]\n",
    "eta = [row[1] for row in x_val]\n",
    "phi = [row[2] for row in x_val]\n",
    "mass = [row[3] for row in x_val]"
   ]
  },
  {
   "cell_type": "markdown",
   "metadata": {},
   "source": [
    "## Stacking output (orange) over input (blue) for pT, eta, phi, m"
   ]
  },
  {
   "cell_type": "code",
   "execution_count": 31,
   "metadata": {},
   "outputs": [
    {
     "data": {
      "text/plain": [
       "(array([  8.,  35.,  70., 208., 353., 483., 627., 808., 319.,  48.]),\n",
       " array([0.05941861, 0.06090853, 0.06239845, 0.06388836, 0.06537828,\n",
       "        0.06686819, 0.06835811, 0.06984803, 0.07133795, 0.07282786,\n",
       "        0.07431778], dtype=float32),\n",
       " <a list of 10 Patch objects>)"
      ]
     },
     "execution_count": 31,
     "metadata": {},
     "output_type": "execute_result"
    },
    {
     "data": {
      "image/png": "[encoded data removed]",
      "text/plain": [
       "<Figure size 432x288 with 1 Axes>"
      ]
     },
     "metadata": {
      "needs_background": "light"
     },
     "output_type": "display_data"
    }
   ],
   "source": [
    "plt.hist(pT)\n",
    "plt.hist(pT_pred)"
   ]
  },
  {
   "cell_type": "code",
   "execution_count": 32,
   "metadata": {},
   "outputs": [
    {
     "data": {
      "text/plain": [
       "(array([   5.,    7.,   24.,   72.,  147.,  283.,  414.,  468., 1039.,\n",
       "         500.]),\n",
       " array([0.48663905, 0.48834032, 0.4900416 , 0.49174288, 0.49344414,\n",
       "        0.49514544, 0.4968467 , 0.49854797, 0.50024927, 0.5019505 ,\n",
       "        0.5036518 ], dtype=float32),\n",
       " <a list of 10 Patch objects>)"
      ]
     },
     "execution_count": 32,
     "metadata": {},
     "output_type": "execute_result"
    },
    {
     "data": {
      "image/png": "[encoded data removed]",
      "text/plain": [
       "<Figure size 432x288 with 1 Axes>"
      ]
     },
     "metadata": {
      "needs_background": "light"
     },
     "output_type": "display_data"
    }
   ],
   "source": [
    "plt.hist(eta)\n",
    "plt.hist(eta_pred)"
   ]
  },
  {
   "cell_type": "code",
   "execution_count": 33,
   "metadata": {},
   "outputs": [
    {
     "data": {
      "text/plain": [
       "(array([ 75., 408., 859., 941., 526., 138.,  11.,   0.,   0.,   1.]),\n",
       " array([0.4876659 , 0.48891526, 0.49016464, 0.49141404, 0.4926634 ,\n",
       "        0.4939128 , 0.49516216, 0.49641153, 0.49766093, 0.4989103 ,\n",
       "        0.5001597 ], dtype=float32),\n",
       " <a list of 10 Patch objects>)"
      ]
     },
     "execution_count": 33,
     "metadata": {},
     "output_type": "execute_result"
    },
    {
     "data": {
      "image/png": "[encoded data removed]",
      "text/plain": [
       "<Figure size 432x288 with 1 Axes>"
      ]
     },
     "metadata": {
      "needs_background": "light"
     },
     "output_type": "display_data"
    }
   ],
   "source": [
    "plt.hist(phi)\n",
    "plt.hist(phi_pred)"
   ]
  },
  {
   "cell_type": "code",
   "execution_count": 34,
   "metadata": {},
   "outputs": [
    {
     "data": {
      "text/plain": [
       "(array([ 13.,  54., 156., 291., 529., 670., 729., 388., 107.,  22.]),\n",
       " array([0.03033241, 0.03126865, 0.03220489, 0.03314113, 0.03407737,\n",
       "        0.03501361, 0.03594986, 0.0368861 , 0.03782234, 0.03875858,\n",
       "        0.03969482], dtype=float32),\n",
       " <a list of 10 Patch objects>)"
      ]
     },
     "execution_count": 34,
     "metadata": {},
     "output_type": "execute_result"
    },
    {
     "data": {
      "image/png": "[encoded data removed]",
      "text/plain": [
       "<Figure size 432x288 with 1 Axes>"
      ]
     },
     "metadata": {
      "needs_background": "light"
     },
     "output_type": "display_data"
    }
   ],
   "source": [
    "plt.hist(mass)\n",
    "plt.hist(mass_pred)"
   ]
  },
  {
   "cell_type": "code",
   "execution_count": 35,
   "metadata": {},
   "outputs": [],
   "source": [
    "d_pT = [row[0] for row in distr]\n",
    "d_eta = [row[1] for row in distr]\n",
    "d_phi = [row[2] for row in distr]\n",
    "d_mass = [row[3] for row in distr]"
   ]
  },
  {
   "cell_type": "markdown",
   "metadata": {},
   "source": [
    "## Distribution of (input - output) / input"
   ]
  },
  {
   "cell_type": "code",
   "execution_count": 36,
   "metadata": {},
   "outputs": [
    {
     "data": {
      "text/plain": [
       "(array([1.000e+00, 0.000e+00, 0.000e+00, 0.000e+00, 2.000e+00, 2.000e+00,\n",
       "        4.000e+00, 3.000e+00, 4.200e+01, 2.905e+03]),\n",
       " array([-1.84582113e+04, -1.66122979e+04, -1.47663845e+04, -1.29204711e+04,\n",
       "        -1.10745577e+04, -9.22864427e+03, -7.38273086e+03, -5.53681745e+03,\n",
       "        -3.69090404e+03, -1.84499063e+03,  9.22777406e-01]),\n",
       " <a list of 10 Patch objects>)"
      ]
     },
     "execution_count": 36,
     "metadata": {},
     "output_type": "execute_result"
    },
    {
     "data": {
      "image/png": "[encoded data removed]",
      "text/plain": [
       "<Figure size 432x288 with 1 Axes>"
      ]
     },
     "metadata": {
      "needs_background": "light"
     },
     "output_type": "display_data"
    }
   ],
   "source": [
    "plt.hist(d_pT)"
   ]
  },
  {
   "cell_type": "code",
   "execution_count": 37,
   "metadata": {},
   "outputs": [
    {
     "data": {
      "text/plain": [
       "(array([1.000e+00, 1.000e+00, 0.000e+00, 0.000e+00, 0.000e+00, 0.000e+00,\n",
       "        0.000e+00, 0.000e+00, 2.000e+00, 2.955e+03]),\n",
       " array([-3.21867856e+03, -2.89676042e+03, -2.57484227e+03, -2.25292412e+03,\n",
       "        -1.93100598e+03, -1.60908783e+03, -1.28716969e+03, -9.65251541e+02,\n",
       "        -6.43333395e+02, -3.21415250e+02,  5.02896039e-01]),\n",
       " <a list of 10 Patch objects>)"
      ]
     },
     "execution_count": 37,
     "metadata": {},
     "output_type": "execute_result"
    },
    {
     "data": {
      "image/png": "[encoded data removed]",
      "text/plain": [
       "<Figure size 432x288 with 1 Axes>"
      ]
     },
     "metadata": {
      "needs_background": "light"
     },
     "output_type": "display_data"
    }
   ],
   "source": [
    "plt.hist(d_eta)"
   ]
  },
  {
   "cell_type": "code",
   "execution_count": 38,
   "metadata": {},
   "outputs": [
    {
     "data": {
      "text/plain": [
       "(array([1.000e+00, 0.000e+00, 0.000e+00, 0.000e+00, 0.000e+00, 0.000e+00,\n",
       "        0.000e+00, 0.000e+00, 0.000e+00, 2.958e+03]),\n",
       " array([-6.25504351e+03, -5.62948822e+03, -5.00393292e+03, -4.37837763e+03,\n",
       "        -3.75282234e+03, -3.12726705e+03, -2.50171176e+03, -1.87615647e+03,\n",
       "        -1.25060118e+03, -6.25045886e+02,  5.09405451e-01]),\n",
       " <a list of 10 Patch objects>)"
      ]
     },
     "execution_count": 38,
     "metadata": {},
     "output_type": "execute_result"
    },
    {
     "data": {
      "image/png": "[encoded data removed]",
      "text/plain": [
       "<Figure size 432x288 with 1 Axes>"
      ]
     },
     "metadata": {
      "needs_background": "light"
     },
     "output_type": "display_data"
    }
   ],
   "source": [
    "plt.hist(d_phi)"
   ]
  }
 ],
 "metadata": {
  "kernelspec": {
   "display_name": "Python 3",
   "language": "python",
   "name": "python3"
  },
  "language_info": {
   "codemirror_mode": {
    "name": "ipython",
    "version": 3
   },
   "file_extension": ".py",
   "mimetype": "text/x-python",
   "name": "python",
   "nbconvert_exporter": "python",
   "pygments_lexer": "ipython3",
   "version": "3.7.6"
  }
 },
 "nbformat": 4,
 "nbformat_minor": 4
}
