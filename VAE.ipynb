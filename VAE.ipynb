{
 "cells": [
  {
   "cell_type": "code",
   "execution_count": 1,
   "metadata": {},
   "outputs": [],
   "source": [
    "import pandas as pd\n",
    "import numpy as np\n",
    "from pyjet import cluster,DTYPE_PTEPM\n",
    "from sklearn import preprocessing"
   ]
  },
  {
   "cell_type": "markdown",
   "metadata": {},
   "source": [
    "# Pre processing"
   ]
  },
  {
   "cell_type": "code",
   "execution_count": 2,
   "metadata": {},
   "outputs": [],
   "source": [
    "path = path = '/anomalyvol/data/events_LHCO2020_backgroundMC_Pythia.h5'"
   ]
  },
  {
   "cell_type": "code",
   "execution_count": 3,
   "metadata": {},
   "outputs": [],
   "source": [
    "df = pd.read_hdf(path,stop=5000) # just read first 5000 events"
   ]
  },
  {
   "cell_type": "code",
   "execution_count": 4,
   "metadata": {},
   "outputs": [],
   "source": [
    "all_events = df.values"
   ]
  },
  {
   "cell_type": "code",
   "execution_count": 5,
   "metadata": {},
   "outputs": [],
   "source": [
    "rows = all_events.shape[0]\n",
    "cols = all_events.shape[1]\n",
    "data = []"
   ]
  },
  {
   "cell_type": "code",
   "execution_count": 6,
   "metadata": {},
   "outputs": [],
   "source": [
    "for i in range(rows):\n",
    "    pseudojets_input = np.zeros(len([x for x in all_events[i][::3] if x > 0]), dtype=DTYPE_PTEPM)\n",
    "    for j in range(cols // 3):\n",
    "        if (all_events[i][j*3]>0):\n",
    "            pseudojets_input[j]['pT'] = all_events[i][j*3]\n",
    "            pseudojets_input[j]['eta'] = all_events[i][j*3+1]\n",
    "            pseudojets_input[j]['phi'] = all_events[i][j*3+2]\n",
    "        pass\n",
    "    sequence = cluster(pseudojets_input, R=1.0, p=-1)\n",
    "    jets = sequence.inclusive_jets()\n",
    "    for k in range(len(jets)):\n",
    "        jet = []\n",
    "        jet.append(jets[k].pt)\n",
    "        jet.append(jets[k].eta)\n",
    "        jet.append(jets[k].phi)\n",
    "        jet.append(jets[k].mass)\n",
    "        data.append(jet)"
   ]
  },
  {
   "cell_type": "code",
   "execution_count": 7,
   "metadata": {},
   "outputs": [
    {
     "data": {
      "text/plain": [
       "(73641, 4)"
      ]
     },
     "execution_count": 7,
     "metadata": {},
     "output_type": "execute_result"
    }
   ],
   "source": [
    "data = np.array(data)\n",
    "data.shape"
   ]
  },
  {
   "cell_type": "code",
   "execution_count": 8,
   "metadata": {},
   "outputs": [],
   "source": [
    "# splitting data\n",
    "x_train = data[0:int(len(data) * 0.8)]\n",
    "x_val = data[int(len(data) * 0.8):int(len(data) * 0.9)]\n",
    "x_test = data[int(len(data) * 0.9):]"
   ]
  },
  {
   "cell_type": "code",
   "execution_count": 9,
   "metadata": {},
   "outputs": [],
   "source": [
    "# regularize\n",
    "scaler = preprocessing.StandardScaler()\n",
    "x_train = scaler.fit_transform(x_train)\n",
    "x_val = scaler.transform(x_val)\n",
    "x_test = scaler.transform(x_test)"
   ]
  },
  {
   "cell_type": "markdown",
   "metadata": {},
   "source": [
    "# VAE Model"
   ]
  },
  {
   "cell_type": "code",
   "execution_count": 10,
   "metadata": {},
   "outputs": [
    {
     "name": "stderr",
     "output_type": "stream",
     "text": [
      "Using TensorFlow backend.\n"
     ]
    }
   ],
   "source": [
    "import keras\n",
    "from keras.layers import Lambda, Input, Dense, Flatten, Reshape\n",
    "from keras.models import Model, Sequential\n",
    "from keras import metrics, losses\n",
    "from keras import backend as K"
   ]
  },
  {
   "cell_type": "code",
   "execution_count": 11,
   "metadata": {},
   "outputs": [],
   "source": [
    "def sampling(args):\n",
    "    \"\"\"\n",
    "    # Arguments\n",
    "        args (tensor): mean and log of variance of Q(z|X)\n",
    "    # Returns\n",
    "        z (tensor): sampled latent vector\n",
    "    \"\"\"\n",
    "\n",
    "    z_mean, z_log_var = args\n",
    "    batch = K.shape(z_mean)[0]\n",
    "    dim = K.int_shape(z_mean)[1]\n",
    "    # by default, random_normal has mean = 0 and std = 1.0\n",
    "    epsilon = K.random_normal(shape=(batch, dim))\n",
    "    return z_mean + K.exp(0.5 * z_log_var) * epsilon"
   ]
  },
  {
   "cell_type": "code",
   "execution_count": 12,
   "metadata": {},
   "outputs": [],
   "source": [
    "inter_dim = 32\n",
    "final_dim = 16\n",
    "latent_dim = 4\n",
    "input_dim = 4"
   ]
  },
  {
   "cell_type": "code",
   "execution_count": 13,
   "metadata": {},
   "outputs": [],
   "source": [
    "# encoder\n",
    "x = Input(shape=(input_dim,))\n",
    "#x_flat = Flatten()(x)\n",
    "h1 = Dense(inter_dim, activation='relu')(x)\n",
    "h2 = Dense(final_dim, activation='relu')(h1)\n",
    "z_mean = Dense(latent_dim)(h2)\n",
    "z_log_sigma = Dense(latent_dim)(h2)"
   ]
  },
  {
   "cell_type": "code",
   "execution_count": 14,
   "metadata": {},
   "outputs": [],
   "source": [
    "# random sampling\n",
    "z = Lambda(sampling, output_shape=(latent_dim,))([z_mean, z_log_sigma])\n",
    "\n",
    "encoder = Model(inputs = x, outputs = z)"
   ]
  },
  {
   "cell_type": "code",
   "execution_count": 15,
   "metadata": {},
   "outputs": [],
   "source": [
    "# decoder\n",
    "decoder_h2 = Dense(final_dim, activation='relu')\n",
    "decoder_h1 = Dense(inter_dim, activation='relu')\n",
    "decoder_mean = Dense(input_dim, activation='linear')\n",
    "\n",
    "h2_decoded = decoder_h2(z)\n",
    "h1_decoded = decoder_h1(h2_decoded)\n",
    "x_decoded_mean = decoder_mean(h1_decoded)\n",
    "# x_decoded = Reshape(input_shape)(x_decoded_mean)"
   ]
  },
  {
   "cell_type": "code",
   "execution_count": 16,
   "metadata": {},
   "outputs": [],
   "source": [
    "vae = Model(inputs = x, outputs = x_decoded_mean, name = 'vae')"
   ]
  },
  {
   "cell_type": "code",
   "execution_count": 17,
   "metadata": {},
   "outputs": [],
   "source": [
    "mse = keras.losses.MeanSquaredError()\n",
    "def vae_loss(x, y):\n",
    "    mse_loss = mse(x, y)\n",
    "    kl_loss = - 0.5 * K.mean(1 + z_log_sigma - K.square(z_mean) - K.exp(z_log_sigma), axis=-1)\n",
    "    return mse_loss + kl_loss\n",
    "\n",
    "vae.compile(optimizer='adam', loss=vae_loss)"
   ]
  },
  {
   "cell_type": "code",
   "execution_count": 18,
   "metadata": {},
   "outputs": [
    {
     "name": "stdout",
     "output_type": "stream",
     "text": [
      "Model: \"vae\"\n",
      "__________________________________________________________________________________________________\n",
      "Layer (type)                    Output Shape         Param #     Connected to                     \n",
      "==================================================================================================\n",
      "input_1 (InputLayer)            (None, 4)            0                                            \n",
      "__________________________________________________________________________________________________\n",
      "dense_1 (Dense)                 (None, 32)           160         input_1[0][0]                    \n",
      "__________________________________________________________________________________________________\n",
      "dense_2 (Dense)                 (None, 16)           528         dense_1[0][0]                    \n",
      "__________________________________________________________________________________________________\n",
      "dense_3 (Dense)                 (None, 4)            68          dense_2[0][0]                    \n",
      "__________________________________________________________________________________________________\n",
      "dense_4 (Dense)                 (None, 4)            68          dense_2[0][0]                    \n",
      "__________________________________________________________________________________________________\n",
      "lambda_1 (Lambda)               (None, 4)            0           dense_3[0][0]                    \n",
      "                                                                 dense_4[0][0]                    \n",
      "__________________________________________________________________________________________________\n",
      "dense_5 (Dense)                 (None, 16)           80          lambda_1[0][0]                   \n",
      "__________________________________________________________________________________________________\n",
      "dense_6 (Dense)                 (None, 32)           544         dense_5[0][0]                    \n",
      "__________________________________________________________________________________________________\n",
      "dense_7 (Dense)                 (None, 4)            132         dense_6[0][0]                    \n",
      "==================================================================================================\n",
      "Total params: 1,580\n",
      "Trainable params: 1,580\n",
      "Non-trainable params: 0\n",
      "__________________________________________________________________________________________________\n"
     ]
    }
   ],
   "source": [
    "vae.summary()"
   ]
  },
  {
   "cell_type": "markdown",
   "metadata": {},
   "source": [
    "# Train"
   ]
  },
  {
   "cell_type": "code",
   "execution_count": 19,
   "metadata": {},
   "outputs": [],
   "source": [
    "from sklearn.model_selection import train_test_split"
   ]
  },
  {
   "cell_type": "code",
   "execution_count": 20,
   "metadata": {},
   "outputs": [],
   "source": [
    "batch_size = 200\n",
    "epochs = 100"
   ]
  },
  {
   "cell_type": "code",
   "execution_count": 21,
   "metadata": {},
   "outputs": [
    {
     "data": {
      "text/plain": [
       "(58912, 4)"
      ]
     },
     "execution_count": 21,
     "metadata": {},
     "output_type": "execute_result"
    }
   ],
   "source": [
    "x_train.shape"
   ]
  },
  {
   "cell_type": "code",
   "execution_count": 22,
   "metadata": {},
   "outputs": [
    {
     "name": "stdout",
     "output_type": "stream",
     "text": [
      "Train on 58912 samples, validate on 7364 samples\n",
      "Epoch 1/100\n",
      "58912/58912 [==============================] - 2s 38us/step - loss: 0.9229 - val_loss: 0.7430\n",
      "Epoch 2/100\n",
      "58912/58912 [==============================] - 2s 26us/step - loss: 0.7035 - val_loss: 0.6672\n",
      "Epoch 3/100\n",
      "58912/58912 [==============================] - 2s 26us/step - loss: 0.6595 - val_loss: 0.6523\n",
      "Epoch 4/100\n",
      "58912/58912 [==============================] - 2s 26us/step - loss: 0.6447 - val_loss: 0.6384\n",
      "Epoch 5/100\n",
      "58912/58912 [==============================] - 2s 27us/step - loss: 0.6400 - val_loss: 0.6360\n",
      "Epoch 6/100\n",
      "58912/58912 [==============================] - 2s 27us/step - loss: 0.6361 - val_loss: 0.6318\n",
      "Epoch 7/100\n",
      "58912/58912 [==============================] - 2s 27us/step - loss: 0.6293 - val_loss: 0.6256\n",
      "Epoch 8/100\n",
      "58912/58912 [==============================] - 2s 27us/step - loss: 0.6305 - val_loss: 0.6264\n",
      "Epoch 9/100\n",
      "58912/58912 [==============================] - 2s 26us/step - loss: 0.6277 - val_loss: 0.6282\n",
      "Epoch 10/100\n",
      "58912/58912 [==============================] - 2s 26us/step - loss: 0.6238 - val_loss: 0.6239\n",
      "Epoch 11/100\n",
      "58912/58912 [==============================] - 2s 26us/step - loss: 0.6209 - val_loss: 0.6281\n",
      "Epoch 12/100\n",
      "58912/58912 [==============================] - 2s 26us/step - loss: 0.6216 - val_loss: 0.6221\n",
      "Epoch 13/100\n",
      "58912/58912 [==============================] - 2s 26us/step - loss: 0.6183 - val_loss: 0.6129\n",
      "Epoch 14/100\n",
      "58912/58912 [==============================] - 2s 26us/step - loss: 0.6173 - val_loss: 0.6187\n",
      "Epoch 15/100\n",
      "58912/58912 [==============================] - 2s 25us/step - loss: 0.6151 - val_loss: 0.6174\n",
      "Epoch 16/100\n",
      "58912/58912 [==============================] - 2s 26us/step - loss: 0.6121 - val_loss: 0.6166\n",
      "Epoch 17/100\n",
      "58912/58912 [==============================] - 2s 26us/step - loss: 0.6152 - val_loss: 0.6065\n",
      "Epoch 18/100\n",
      "58912/58912 [==============================] - 2s 26us/step - loss: 0.6100 - val_loss: 0.6115\n",
      "Epoch 19/100\n",
      "58912/58912 [==============================] - 2s 26us/step - loss: 0.6089 - val_loss: 0.6171\n",
      "Epoch 20/100\n",
      "58912/58912 [==============================] - 2s 27us/step - loss: 0.6080 - val_loss: 0.6094\n",
      "Epoch 21/100\n",
      "58912/58912 [==============================] - 2s 26us/step - loss: 0.6081 - val_loss: 0.6086\n",
      "Epoch 22/100\n",
      "58912/58912 [==============================] - 2s 26us/step - loss: 0.6083 - val_loss: 0.6026\n",
      "Epoch 23/100\n",
      "58912/58912 [==============================] - 2s 27us/step - loss: 0.6086 - val_loss: 0.6073\n",
      "Epoch 24/100\n",
      "58912/58912 [==============================] - 2s 26us/step - loss: 0.6091 - val_loss: 0.6060\n",
      "Epoch 25/100\n",
      "58912/58912 [==============================] - 2s 26us/step - loss: 0.6101 - val_loss: 0.6035\n",
      "Epoch 26/100\n",
      "58912/58912 [==============================] - 2s 26us/step - loss: 0.6072 - val_loss: 0.6097\n",
      "Epoch 27/100\n",
      "58912/58912 [==============================] - 1s 25us/step - loss: 0.6059 - val_loss: 0.6078\n",
      "Epoch 28/100\n",
      "58912/58912 [==============================] - 2s 26us/step - loss: 0.6074 - val_loss: 0.6060\n",
      "Epoch 29/100\n",
      "58912/58912 [==============================] - 1s 24us/step - loss: 0.6049 - val_loss: 0.6044\n",
      "Epoch 30/100\n",
      "58912/58912 [==============================] - 1s 25us/step - loss: 0.6079 - val_loss: 0.6017\n",
      "Epoch 31/100\n",
      "58912/58912 [==============================] - 1s 24us/step - loss: 0.6064 - val_loss: 0.6019\n",
      "Epoch 32/100\n",
      "58912/58912 [==============================] - 1s 25us/step - loss: 0.6059 - val_loss: 0.6119\n",
      "Epoch 33/100\n",
      "58912/58912 [==============================] - 1s 25us/step - loss: 0.6066 - val_loss: 0.6046\n",
      "Epoch 34/100\n",
      "58912/58912 [==============================] - 1s 25us/step - loss: 0.6069 - val_loss: 0.5980\n",
      "Epoch 35/100\n",
      "58912/58912 [==============================] - 1s 24us/step - loss: 0.6074 - val_loss: 0.5987\n",
      "Epoch 36/100\n",
      "58912/58912 [==============================] - 1s 25us/step - loss: 0.6056 - val_loss: 0.6055\n",
      "Epoch 37/100\n",
      "58912/58912 [==============================] - 1s 24us/step - loss: 0.6067 - val_loss: 0.6075\n",
      "Epoch 38/100\n",
      "58912/58912 [==============================] - 1s 24us/step - loss: 0.6037 - val_loss: 0.6020\n",
      "Epoch 39/100\n",
      "58912/58912 [==============================] - 1s 24us/step - loss: 0.6060 - val_loss: 0.6047\n",
      "Epoch 40/100\n",
      "58912/58912 [==============================] - 1s 24us/step - loss: 0.6070 - val_loss: 0.6016\n",
      "Epoch 41/100\n",
      "58912/58912 [==============================] - 1s 25us/step - loss: 0.6041 - val_loss: 0.6082\n",
      "Epoch 42/100\n",
      "58912/58912 [==============================] - 1s 25us/step - loss: 0.6077 - val_loss: 0.6036\n",
      "Epoch 43/100\n",
      "58912/58912 [==============================] - 1s 25us/step - loss: 0.6056 - val_loss: 0.6013\n",
      "Epoch 44/100\n",
      "58912/58912 [==============================] - 1s 24us/step - loss: 0.6022 - val_loss: 0.6018\n",
      "Epoch 45/100\n",
      "58912/58912 [==============================] - 1s 24us/step - loss: 0.6051 - val_loss: 0.5954\n",
      "Epoch 46/100\n",
      "58912/58912 [==============================] - 1s 24us/step - loss: 0.6057 - val_loss: 0.6059\n",
      "Epoch 47/100\n",
      "58912/58912 [==============================] - 1s 24us/step - loss: 0.6038 - val_loss: 0.5998\n",
      "Epoch 48/100\n",
      "58912/58912 [==============================] - 1s 24us/step - loss: 0.6037 - val_loss: 0.6042\n",
      "Epoch 49/100\n",
      "58912/58912 [==============================] - 1s 24us/step - loss: 0.6062 - val_loss: 0.6054\n",
      "Epoch 50/100\n",
      "58912/58912 [==============================] - 1s 24us/step - loss: 0.6064 - val_loss: 0.6050\n",
      "Epoch 51/100\n",
      "58912/58912 [==============================] - 1s 24us/step - loss: 0.6060 - val_loss: 0.5999\n",
      "Epoch 52/100\n",
      "58912/58912 [==============================] - 1s 24us/step - loss: 0.6052 - val_loss: 0.6026\n",
      "Epoch 53/100\n",
      "58912/58912 [==============================] - 1s 24us/step - loss: 0.6028 - val_loss: 0.6030\n",
      "Epoch 54/100\n",
      "58912/58912 [==============================] - 1s 24us/step - loss: 0.6056 - val_loss: 0.5994\n",
      "Epoch 55/100\n",
      "58912/58912 [==============================] - 1s 24us/step - loss: 0.6053 - val_loss: 0.5973\n",
      "Epoch 56/100\n",
      "58912/58912 [==============================] - 1s 24us/step - loss: 0.6037 - val_loss: 0.5949\n",
      "Epoch 57/100\n",
      "58912/58912 [==============================] - 1s 24us/step - loss: 0.6035 - val_loss: 0.6009\n",
      "Epoch 58/100\n",
      "58912/58912 [==============================] - 1s 24us/step - loss: 0.6065 - val_loss: 0.6019\n",
      "Epoch 59/100\n",
      "58912/58912 [==============================] - 1s 24us/step - loss: 0.6039 - val_loss: 0.6094\n",
      "Epoch 60/100\n",
      "58912/58912 [==============================] - 1s 24us/step - loss: 0.6043 - val_loss: 0.6057\n",
      "Epoch 61/100\n",
      "58912/58912 [==============================] - 1s 24us/step - loss: 0.6014 - val_loss: 0.5978\n",
      "Epoch 62/100\n",
      "58912/58912 [==============================] - 1s 24us/step - loss: 0.6039 - val_loss: 0.6041\n",
      "Epoch 63/100\n",
      "58912/58912 [==============================] - 1s 24us/step - loss: 0.6032 - val_loss: 0.6008\n",
      "Epoch 64/100\n",
      "58912/58912 [==============================] - 1s 24us/step - loss: 0.6056 - val_loss: 0.6064\n",
      "Epoch 65/100\n",
      "58912/58912 [==============================] - 1s 24us/step - loss: 0.6046 - val_loss: 0.6053\n",
      "Epoch 66/100\n",
      "58912/58912 [==============================] - 1s 24us/step - loss: 0.6032 - val_loss: 0.6056\n",
      "Epoch 67/100\n",
      "58912/58912 [==============================] - 1s 24us/step - loss: 0.6064 - val_loss: 0.6051\n",
      "Epoch 68/100\n",
      "58912/58912 [==============================] - 1s 24us/step - loss: 0.6043 - val_loss: 0.5988\n",
      "Epoch 69/100\n",
      "58912/58912 [==============================] - 1s 25us/step - loss: 0.6044 - val_loss: 0.6081\n",
      "Epoch 70/100\n",
      "58912/58912 [==============================] - 1s 24us/step - loss: 0.6028 - val_loss: 0.6035\n",
      "Epoch 71/100\n",
      "58912/58912 [==============================] - 1s 24us/step - loss: 0.6030 - val_loss: 0.5998\n",
      "Epoch 72/100\n",
      "58912/58912 [==============================] - 1s 24us/step - loss: 0.6041 - val_loss: 0.6064\n",
      "Epoch 73/100\n",
      "58912/58912 [==============================] - 1s 24us/step - loss: 0.6049 - val_loss: 0.6067\n",
      "Epoch 74/100\n",
      "58912/58912 [==============================] - 1s 24us/step - loss: 0.6045 - val_loss: 0.6033\n",
      "Epoch 75/100\n",
      "58912/58912 [==============================] - 1s 24us/step - loss: 0.6031 - val_loss: 0.6019\n",
      "Epoch 76/100\n",
      "58912/58912 [==============================] - 1s 24us/step - loss: 0.6043 - val_loss: 0.6055\n",
      "Epoch 77/100\n"
     ]
    },
    {
     "name": "stdout",
     "output_type": "stream",
     "text": [
      "58912/58912 [==============================] - 1s 24us/step - loss: 0.6041 - val_loss: 0.6040\n",
      "Epoch 78/100\n",
      "58912/58912 [==============================] - 1s 24us/step - loss: 0.6037 - val_loss: 0.5985\n",
      "Epoch 79/100\n",
      "58912/58912 [==============================] - 1s 24us/step - loss: 0.6035 - val_loss: 0.5971\n",
      "Epoch 80/100\n",
      "58912/58912 [==============================] - 1s 24us/step - loss: 0.6050 - val_loss: 0.6018\n",
      "Epoch 81/100\n",
      "58912/58912 [==============================] - 1s 24us/step - loss: 0.6024 - val_loss: 0.5985\n",
      "Epoch 82/100\n",
      "58912/58912 [==============================] - 1s 24us/step - loss: 0.6025 - val_loss: 0.6093\n",
      "Epoch 83/100\n",
      "58912/58912 [==============================] - 1s 24us/step - loss: 0.6040 - val_loss: 0.5994\n",
      "Epoch 84/100\n",
      "58912/58912 [==============================] - 1s 24us/step - loss: 0.6032 - val_loss: 0.6015\n",
      "Epoch 85/100\n",
      "58912/58912 [==============================] - 1s 24us/step - loss: 0.6062 - val_loss: 0.6025\n",
      "Epoch 86/100\n",
      "58912/58912 [==============================] - 1s 24us/step - loss: 0.6015 - val_loss: 0.6000\n",
      "Epoch 87/100\n",
      "58912/58912 [==============================] - 1s 24us/step - loss: 0.6049 - val_loss: 0.6020\n",
      "Epoch 88/100\n",
      "58912/58912 [==============================] - 1s 24us/step - loss: 0.6074 - val_loss: 0.5992\n",
      "Epoch 89/100\n",
      "58912/58912 [==============================] - 1s 24us/step - loss: 0.6054 - val_loss: 0.6063\n",
      "Epoch 90/100\n",
      "58912/58912 [==============================] - 1s 24us/step - loss: 0.6021 - val_loss: 0.6051\n",
      "Epoch 91/100\n",
      "58912/58912 [==============================] - 1s 25us/step - loss: 0.6017 - val_loss: 0.6041\n",
      "Epoch 92/100\n",
      "58912/58912 [==============================] - 1s 24us/step - loss: 0.6057 - val_loss: 0.6062\n",
      "Epoch 93/100\n",
      "58912/58912 [==============================] - 1s 24us/step - loss: 0.6013 - val_loss: 0.6071\n",
      "Epoch 94/100\n",
      "58912/58912 [==============================] - 1s 24us/step - loss: 0.6027 - val_loss: 0.6015\n",
      "Epoch 95/100\n",
      "58912/58912 [==============================] - 1s 24us/step - loss: 0.6029 - val_loss: 0.6062\n",
      "Epoch 96/100\n",
      "58912/58912 [==============================] - 1s 24us/step - loss: 0.6031 - val_loss: 0.6023\n",
      "Epoch 97/100\n",
      "58912/58912 [==============================] - 1s 24us/step - loss: 0.6036 - val_loss: 0.5916\n",
      "Epoch 98/100\n",
      "58912/58912 [==============================] - 1s 24us/step - loss: 0.6018 - val_loss: 0.5986\n",
      "Epoch 99/100\n",
      "58912/58912 [==============================] - 1s 24us/step - loss: 0.6037 - val_loss: 0.6015\n",
      "Epoch 100/100\n",
      "58912/58912 [==============================] - 1s 25us/step - loss: 0.6042 - val_loss: 0.6031\n"
     ]
    }
   ],
   "source": [
    "hist = vae.fit(x_train, x_train,\n",
    "               shuffle=True,\n",
    "               epochs=epochs,\n",
    "               batch_size=batch_size,\n",
    "               validation_data=(x_val, x_val))"
   ]
  },
  {
   "cell_type": "markdown",
   "metadata": {},
   "source": [
    "# Visualization"
   ]
  },
  {
   "cell_type": "code",
   "execution_count": 23,
   "metadata": {},
   "outputs": [],
   "source": [
    "import matplotlib.pyplot as plt"
   ]
  },
  {
   "cell_type": "code",
   "execution_count": 24,
   "metadata": {},
   "outputs": [
    {
     "data": {
      "image/png": "[encoded data removed]",
      "text/plain": [
       "<Figure size 432x266.991 with 1 Axes>"
      ]
     },
     "metadata": {
      "needs_background": "light"
     },
     "output_type": "display_data"
    }
   ],
   "source": [
    "golden_size = lambda width: (width, 2. * width / (1 + np.sqrt(5)))\n",
    "\n",
    "fig, ax = plt.subplots(figsize=golden_size(6))\n",
    "\n",
    "hist_df = pd.DataFrame(hist.history)\n",
    "hist_df.plot(ax=ax)\n",
    "\n",
    "ax.set_ylabel('NELBO')\n",
    "ax.set_xlabel('# epochs')\n",
    "\n",
    "ax.set_ylim(.99*hist_df[1:].values.min(), \n",
    "            1.1*hist_df[1:].values.max())\n",
    "plt.show()"
   ]
  },
  {
   "cell_type": "code",
   "execution_count": 25,
   "metadata": {},
   "outputs": [],
   "source": [
    "predictions = vae.predict(x_test)"
   ]
  },
  {
   "cell_type": "code",
   "execution_count": 26,
   "metadata": {},
   "outputs": [
    {
     "data": {
      "text/plain": [
       "array([[-0.31860852, -0.2217254 , -0.8620342 , -0.2610172 ],\n",
       "       [-0.3502915 ,  1.0951138 , -0.41847637, -0.2845958 ],\n",
       "       [-0.41989505,  1.2177718 ,  0.7398839 , -0.30688342],\n",
       "       ...,\n",
       "       [-0.3566109 , -0.6563587 , -0.21193004, -0.2824178 ],\n",
       "       [-0.39668548, -0.9366727 , -0.49533254, -0.3143061 ],\n",
       "       [-0.3707764 , -0.62992084,  0.7199376 , -0.28598222]],\n",
       "      dtype=float32)"
      ]
     },
     "execution_count": 26,
     "metadata": {},
     "output_type": "execute_result"
    }
   ],
   "source": [
    "predictions"
   ]
  },
  {
   "cell_type": "code",
   "execution_count": 27,
   "metadata": {},
   "outputs": [],
   "source": [
    "distr = (x_test - predictions) / x_test"
   ]
  },
  {
   "cell_type": "code",
   "execution_count": 28,
   "metadata": {},
   "outputs": [],
   "source": [
    "pT_pred = [row[0] for row in predictions]\n",
    "eta_pred = [row[1] for row in predictions]\n",
    "phi_pred = [row[2] for row in predictions]\n",
    "mass_pred = [row[3] for row in predictions]"
   ]
  },
  {
   "cell_type": "code",
   "execution_count": 29,
   "metadata": {},
   "outputs": [],
   "source": [
    "pT = [row[0] for row in x_test]\n",
    "eta = [row[1] for row in x_test]\n",
    "phi = [row[2] for row in x_test]\n",
    "mass = [row[3] for row in x_test]"
   ]
  },
  {
   "cell_type": "markdown",
   "metadata": {},
   "source": [
    "## Stacking output (orange) over input (blue) for pT, eta, phi, m"
   ]
  },
  {
   "cell_type": "code",
   "execution_count": 58,
   "metadata": {},
   "outputs": [
    {
     "data": {
      "text/plain": [
       "(array([0., 2., 1., 3., 2., 3., 6., 3., 2., 2., 0., 6., 3., 4., 5., 2., 3.,\n",
       "        2., 0., 1., 2., 3., 2., 3., 3., 5., 3., 5., 0., 2., 1., 6., 1., 3.,\n",
       "        1., 3., 3., 3., 3.]),\n",
       " array([0.        , 0.02564103, 0.05128205, 0.07692308, 0.1025641 ,\n",
       "        0.12820513, 0.15384615, 0.17948718, 0.20512821, 0.23076923,\n",
       "        0.25641026, 0.28205128, 0.30769231, 0.33333333, 0.35897436,\n",
       "        0.38461538, 0.41025641, 0.43589744, 0.46153846, 0.48717949,\n",
       "        0.51282051, 0.53846154, 0.56410256, 0.58974359, 0.61538462,\n",
       "        0.64102564, 0.66666667, 0.69230769, 0.71794872, 0.74358974,\n",
       "        0.76923077, 0.79487179, 0.82051282, 0.84615385, 0.87179487,\n",
       "        0.8974359 , 0.92307692, 0.94871795, 0.97435897, 1.        ]),\n",
       " <a list of 39 Patch objects>)"
      ]
     },
     "execution_count": 58,
     "metadata": {},
     "output_type": "execute_result"
    },
    {
     "data": {
      "image/png": "[encoded data removed]",
      "text/plain": [
       "<Figure size 432x288 with 1 Axes>"
      ]
     },
     "metadata": {
      "needs_background": "light"
     },
     "output_type": "display_data"
    }
   ],
   "source": [
    "bins = np.linspace(0, 1, 40)\n",
    "plt.hist(pT, bins=bins,alpha=0.5)\n",
    "plt.hist(pT_pred, bins=bins,alpha=0.5)"
   ]
  },
  {
   "cell_type": "code",
   "execution_count": 59,
   "metadata": {},
   "outputs": [
    {
     "data": {
      "text/plain": [
       "(array([ 65.,  62.,  56.,  45.,  63.,  62.,  62.,  59.,  67.,  88.,  73.,\n",
       "         62.,  58.,  65.,  64.,  66.,  53.,  78.,  53.,  53.,  41.,  49.,\n",
       "         53.,  56.,  50.,  51.,  39.,  50.,  37.,  61.,  53.,  51.,  55.,\n",
       "         60.,  49.,  70.,  71., 132., 250., 309., 244., 146.,  87.,  74.,\n",
       "         60.,  49.,  58.,  57.,  55.,  50.,  58.,  48.,  59.,  62.,  42.,\n",
       "         64.,  61.,  61.,  48.,  54.,  58.,  54.,  60.,  63.,  60.,  43.,\n",
       "         57.,  61.,  65.,  57.,  57.,  62.,  64.,  45.,  60.,  68.,  75.,\n",
       "         78.,  61.]),\n",
       " array([-1.        , -0.97468354, -0.94936709, -0.92405063, -0.89873418,\n",
       "        -0.87341772, -0.84810127, -0.82278481, -0.79746835, -0.7721519 ,\n",
       "        -0.74683544, -0.72151899, -0.69620253, -0.67088608, -0.64556962,\n",
       "        -0.62025316, -0.59493671, -0.56962025, -0.5443038 , -0.51898734,\n",
       "        -0.49367089, -0.46835443, -0.44303797, -0.41772152, -0.39240506,\n",
       "        -0.36708861, -0.34177215, -0.3164557 , -0.29113924, -0.26582278,\n",
       "        -0.24050633, -0.21518987, -0.18987342, -0.16455696, -0.13924051,\n",
       "        -0.11392405, -0.08860759, -0.06329114, -0.03797468, -0.01265823,\n",
       "         0.01265823,  0.03797468,  0.06329114,  0.08860759,  0.11392405,\n",
       "         0.13924051,  0.16455696,  0.18987342,  0.21518987,  0.24050633,\n",
       "         0.26582278,  0.29113924,  0.3164557 ,  0.34177215,  0.36708861,\n",
       "         0.39240506,  0.41772152,  0.44303797,  0.46835443,  0.49367089,\n",
       "         0.51898734,  0.5443038 ,  0.56962025,  0.59493671,  0.62025316,\n",
       "         0.64556962,  0.67088608,  0.69620253,  0.72151899,  0.74683544,\n",
       "         0.7721519 ,  0.79746835,  0.82278481,  0.84810127,  0.87341772,\n",
       "         0.89873418,  0.92405063,  0.94936709,  0.97468354,  1.        ]),\n",
       " <a list of 79 Patch objects>)"
      ]
     },
     "execution_count": 59,
     "metadata": {},
     "output_type": "execute_result"
    },
    {
     "data": {
      "image/png": "[encoded data removed]",
      "text/plain": [
       "<Figure size 432x288 with 1 Axes>"
      ]
     },
     "metadata": {
      "needs_background": "light"
     },
     "output_type": "display_data"
    }
   ],
   "source": [
    "bins = np.linspace(-1, 1, 80)\n",
    "plt.hist(eta, bins=bins,alpha=0.5)\n",
    "plt.hist(eta_pred, bins=bins,alpha=0.5)"
   ]
  },
  {
   "cell_type": "code",
   "execution_count": 60,
   "metadata": {},
   "outputs": [
    {
     "data": {
      "text/plain": [
       "(array([121., 116.,  98.,  93., 100.,  85., 102.,  74.,  85.,  93.,  85.,\n",
       "         90.,  81.,  74.,  86.,  77.,  80.,  68.,  88.,  62.,  53.,  73.,\n",
       "         70.,  63.,  64.,  74.,  69.,  63.,  60.,  60.,  56.,  69.,  51.,\n",
       "         67.,  57.,  67.,  83.,  55.,  56.,  58.,  56.,  58.,  57.,  80.,\n",
       "         68.,  67.,  62.,  61.,  61.,  70.,  59.,  59.,  57.,  71.,  61.,\n",
       "         66.,  66.,  75.,  58.,  65.,  64.,  56.,  55.,  62.,  48.,  65.,\n",
       "         80.,  96., 131., 103., 100., 114., 103.,  92.,  78.,  79.,  89.,\n",
       "         90.,  83.]),\n",
       " array([-1.        , -0.97468354, -0.94936709, -0.92405063, -0.89873418,\n",
       "        -0.87341772, -0.84810127, -0.82278481, -0.79746835, -0.7721519 ,\n",
       "        -0.74683544, -0.72151899, -0.69620253, -0.67088608, -0.64556962,\n",
       "        -0.62025316, -0.59493671, -0.56962025, -0.5443038 , -0.51898734,\n",
       "        -0.49367089, -0.46835443, -0.44303797, -0.41772152, -0.39240506,\n",
       "        -0.36708861, -0.34177215, -0.3164557 , -0.29113924, -0.26582278,\n",
       "        -0.24050633, -0.21518987, -0.18987342, -0.16455696, -0.13924051,\n",
       "        -0.11392405, -0.08860759, -0.06329114, -0.03797468, -0.01265823,\n",
       "         0.01265823,  0.03797468,  0.06329114,  0.08860759,  0.11392405,\n",
       "         0.13924051,  0.16455696,  0.18987342,  0.21518987,  0.24050633,\n",
       "         0.26582278,  0.29113924,  0.3164557 ,  0.34177215,  0.36708861,\n",
       "         0.39240506,  0.41772152,  0.44303797,  0.46835443,  0.49367089,\n",
       "         0.51898734,  0.5443038 ,  0.56962025,  0.59493671,  0.62025316,\n",
       "         0.64556962,  0.67088608,  0.69620253,  0.72151899,  0.74683544,\n",
       "         0.7721519 ,  0.79746835,  0.82278481,  0.84810127,  0.87341772,\n",
       "         0.89873418,  0.92405063,  0.94936709,  0.97468354,  1.        ]),\n",
       " <a list of 79 Patch objects>)"
      ]
     },
     "execution_count": 60,
     "metadata": {},
     "output_type": "execute_result"
    },
    {
     "data": {
      "image/png": "[encoded data removed]",
      "text/plain": [
       "<Figure size 432x288 with 1 Axes>"
      ]
     },
     "metadata": {
      "needs_background": "light"
     },
     "output_type": "display_data"
    }
   ],
   "source": [
    "bins = np.linspace(-1, 1, 80)\n",
    "plt.hist(phi, bins=bins,alpha=0.5)\n",
    "plt.hist(phi_pred, bins=bins,alpha=0.5)"
   ]
  },
  {
   "cell_type": "code",
   "execution_count": 67,
   "metadata": {},
   "outputs": [
    {
     "data": {
      "text/plain": [
       "(array([2.000e+00, 1.400e+01, 2.730e+02, 1.576e+03, 3.203e+03, 7.500e+02,\n",
       "        1.840e+02, 7.300e+01, 4.900e+01, 2.800e+01, 2.200e+01, 1.600e+01,\n",
       "        5.000e+00, 4.000e+00, 6.000e+00, 7.000e+00, 1.200e+01, 7.000e+00,\n",
       "        1.100e+01, 6.000e+00, 4.000e+00, 7.000e+00, 4.000e+00, 9.000e+00,\n",
       "        9.000e+00, 8.000e+00, 1.100e+01, 5.000e+00, 1.100e+01, 7.000e+00,\n",
       "        7.000e+00, 8.000e+00, 9.000e+00, 6.000e+00, 1.000e+01, 1.000e+01,\n",
       "        1.000e+01, 9.000e+00, 1.000e+01, 1.300e+01, 2.000e+01, 2.200e+01,\n",
       "        3.200e+01, 1.600e+01, 2.600e+01, 2.000e+01, 2.300e+01, 2.100e+01,\n",
       "        1.800e+01, 2.000e+01, 2.300e+01, 2.100e+01, 2.000e+01, 1.400e+01,\n",
       "        6.000e+00, 8.000e+00, 9.000e+00, 9.000e+00, 1.100e+01]),\n",
       " array([-0.4       , -0.37627119, -0.35254237, -0.32881356, -0.30508475,\n",
       "        -0.28135593, -0.25762712, -0.23389831, -0.21016949, -0.18644068,\n",
       "        -0.16271186, -0.13898305, -0.11525424, -0.09152542, -0.06779661,\n",
       "        -0.0440678 , -0.02033898,  0.00338983,  0.02711864,  0.05084746,\n",
       "         0.07457627,  0.09830508,  0.1220339 ,  0.14576271,  0.16949153,\n",
       "         0.19322034,  0.21694915,  0.24067797,  0.26440678,  0.28813559,\n",
       "         0.31186441,  0.33559322,  0.35932203,  0.38305085,  0.40677966,\n",
       "         0.43050847,  0.45423729,  0.4779661 ,  0.50169492,  0.52542373,\n",
       "         0.54915254,  0.57288136,  0.59661017,  0.62033898,  0.6440678 ,\n",
       "         0.66779661,  0.69152542,  0.71525424,  0.73898305,  0.76271186,\n",
       "         0.78644068,  0.81016949,  0.83389831,  0.85762712,  0.88135593,\n",
       "         0.90508475,  0.92881356,  0.95254237,  0.97627119,  1.        ]),\n",
       " <a list of 59 Patch objects>)"
      ]
     },
     "execution_count": 67,
     "metadata": {},
     "output_type": "execute_result"
    },
    {
     "data": {
      "image/png": "[encoded data removed]",
      "text/plain": [
       "<Figure size 432x288 with 1 Axes>"
      ]
     },
     "metadata": {
      "needs_background": "light"
     },
     "output_type": "display_data"
    }
   ],
   "source": [
    "bins = np.linspace(-.4,1, 60)\n",
    "plt.hist(mass, bins=bins,alpha=0.5)\n",
    "plt.hist(mass_pred, bins=bins,alpha=0.5)"
   ]
  },
  {
   "cell_type": "code",
   "execution_count": 52,
   "metadata": {},
   "outputs": [],
   "source": [
    "d_pT = [row[0] for row in distr]\n",
    "d_eta = [row[1] for row in distr]\n",
    "d_phi = [row[2] for row in distr]\n",
    "d_mass = [row[3] for row in distr]"
   ]
  },
  {
   "cell_type": "markdown",
   "metadata": {},
   "source": [
    "## Distribution of (input - output) / input"
   ]
  },
  {
   "cell_type": "code",
   "execution_count": 53,
   "metadata": {},
   "outputs": [],
   "source": [
    "bins = np.linspace(-1, 1, 30)"
   ]
  },
  {
   "cell_type": "code",
   "execution_count": 54,
   "metadata": {},
   "outputs": [
    {
     "data": {
      "text/plain": [
       "(array([  11.,   20.,   16.,   15.,   10.,   17.,   19.,   24.,   33.,\n",
       "          44.,   52.,   93.,  151.,  323.,  992., 2444., 1650.,  452.,\n",
       "         236.,  130.,   69.,   40.,   22.,   22.,   16.,   11.,    8.,\n",
       "           8.,    7.]),\n",
       " array([-1.        , -0.93103448, -0.86206897, -0.79310345, -0.72413793,\n",
       "        -0.65517241, -0.5862069 , -0.51724138, -0.44827586, -0.37931034,\n",
       "        -0.31034483, -0.24137931, -0.17241379, -0.10344828, -0.03448276,\n",
       "         0.03448276,  0.10344828,  0.17241379,  0.24137931,  0.31034483,\n",
       "         0.37931034,  0.44827586,  0.51724138,  0.5862069 ,  0.65517241,\n",
       "         0.72413793,  0.79310345,  0.86206897,  0.93103448,  1.        ]),\n",
       " <a list of 29 Patch objects>)"
      ]
     },
     "execution_count": 54,
     "metadata": {},
     "output_type": "execute_result"
    },
    {
     "data": {
      "image/png": "[encoded data removed]",
      "text/plain": [
       "<Figure size 432x288 with 1 Axes>"
      ]
     },
     "metadata": {
      "needs_background": "light"
     },
     "output_type": "display_data"
    }
   ],
   "source": [
    "plt.hist(d_pT, bins=bins)"
   ]
  },
  {
   "cell_type": "code",
   "execution_count": 55,
   "metadata": {},
   "outputs": [
    {
     "data": {
      "text/plain": [
       "(array([ 30.,  36.,  40.,  41.,  50.,  53.,  79.,  54.,  71., 101., 131.,\n",
       "        117., 127., 151., 202., 232., 234., 359., 405., 423., 319., 294.,\n",
       "        280., 202., 205., 185., 192., 222., 242.]),\n",
       " array([-1.        , -0.93103448, -0.86206897, -0.79310345, -0.72413793,\n",
       "        -0.65517241, -0.5862069 , -0.51724138, -0.44827586, -0.37931034,\n",
       "        -0.31034483, -0.24137931, -0.17241379, -0.10344828, -0.03448276,\n",
       "         0.03448276,  0.10344828,  0.17241379,  0.24137931,  0.31034483,\n",
       "         0.37931034,  0.44827586,  0.51724138,  0.5862069 ,  0.65517241,\n",
       "         0.72413793,  0.79310345,  0.86206897,  0.93103448,  1.        ]),\n",
       " <a list of 29 Patch objects>)"
      ]
     },
     "execution_count": 55,
     "metadata": {},
     "output_type": "execute_result"
    },
    {
     "data": {
      "image/png": "[encoded data removed]",
      "text/plain": [
       "<Figure size 432x288 with 1 Axes>"
      ]
     },
     "metadata": {
      "needs_background": "light"
     },
     "output_type": "display_data"
    }
   ],
   "source": [
    "plt.hist(d_eta, bins=bins)"
   ]
  },
  {
   "cell_type": "code",
   "execution_count": 56,
   "metadata": {},
   "outputs": [
    {
     "data": {
      "text/plain": [
       "(array([ 27.,  38.,  44.,  54.,  53.,  56.,  67.,  62.,  68.,  73., 104.,\n",
       "        123., 165., 149., 217., 238., 293., 384., 495., 450., 401., 361.,\n",
       "        266., 214., 233., 170., 149., 154., 110.]),\n",
       " array([-1.        , -0.93103448, -0.86206897, -0.79310345, -0.72413793,\n",
       "        -0.65517241, -0.5862069 , -0.51724138, -0.44827586, -0.37931034,\n",
       "        -0.31034483, -0.24137931, -0.17241379, -0.10344828, -0.03448276,\n",
       "         0.03448276,  0.10344828,  0.17241379,  0.24137931,  0.31034483,\n",
       "         0.37931034,  0.44827586,  0.51724138,  0.5862069 ,  0.65517241,\n",
       "         0.72413793,  0.79310345,  0.86206897,  0.93103448,  1.        ]),\n",
       " <a list of 29 Patch objects>)"
      ]
     },
     "execution_count": 56,
     "metadata": {},
     "output_type": "execute_result"
    },
    {
     "data": {
      "image/png": "[encoded data removed]",
      "text/plain": [
       "<Figure size 432x288 with 1 Axes>"
      ]
     },
     "metadata": {
      "needs_background": "light"
     },
     "output_type": "display_data"
    }
   ],
   "source": [
    "plt.hist(d_phi, bins=bins)"
   ]
  }
 ],
 "metadata": {
  "kernelspec": {
   "display_name": "Python 3",
   "language": "python",
   "name": "python3"
  },
  "language_info": {
   "codemirror_mode": {
    "name": "ipython",
    "version": 3
   },
   "file_extension": ".py",
   "mimetype": "text/x-python",
   "name": "python",
   "nbconvert_exporter": "python",
   "pygments_lexer": "ipython3",
   "version": "3.7.6"
  }
 },
 "nbformat": 4,
 "nbformat_minor": 4
}
