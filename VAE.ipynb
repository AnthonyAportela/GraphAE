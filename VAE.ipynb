{
 "cells": [
  {
   "cell_type": "code",
   "execution_count": 1,
   "metadata": {},
   "outputs": [],
   "source": [
    "import pandas as pd\n",
    "import numpy as np\n",
    "from pyjet import cluster,DTYPE_PTEPM\n",
    "from sklearn import preprocessing"
   ]
  },
  {
   "cell_type": "markdown",
   "metadata": {},
   "source": [
    "# Pre processing"
   ]
  },
  {
   "cell_type": "code",
   "execution_count": 2,
   "metadata": {},
   "outputs": [],
   "source": [
    "path = path = '/anomalyvol/data/events_LHCO2020_backgroundMC_Pythia.h5'"
   ]
  },
  {
   "cell_type": "code",
   "execution_count": 3,
   "metadata": {},
   "outputs": [],
   "source": [
    "df = pd.read_hdf(path,stop=5000) # just read first 5000 events"
   ]
  },
  {
   "cell_type": "code",
   "execution_count": 4,
   "metadata": {},
   "outputs": [],
   "source": [
    "all_events = df.values"
   ]
  },
  {
   "cell_type": "code",
   "execution_count": 5,
   "metadata": {},
   "outputs": [],
   "source": [
    "rows = all_events.shape[0]\n",
    "cols = all_events.shape[1]\n",
    "data = []"
   ]
  },
  {
   "cell_type": "code",
   "execution_count": 6,
   "metadata": {},
   "outputs": [],
   "source": [
    "for i in range(rows):\n",
    "    pseudojets_input = np.zeros(len([x for x in all_events[i][::3] if x > 0]), dtype=DTYPE_PTEPM)\n",
    "    for j in range(cols // 3):\n",
    "        if (all_events[i][j*3]>0):\n",
    "            pseudojets_input[j]['pT'] = all_events[i][j*3]\n",
    "            pseudojets_input[j]['eta'] = all_events[i][j*3+1]\n",
    "            pseudojets_input[j]['phi'] = all_events[i][j*3+2]\n",
    "        pass\n",
    "    sequence = cluster(pseudojets_input, R=1.0, p=-1)\n",
    "    jets = sequence.inclusive_jets()\n",
    "    for k in range(len(jets)):\n",
    "        jet = []\n",
    "        jet.append(jets[k].pt)\n",
    "        jet.append(jets[k].eta)\n",
    "        jet.append(jets[k].phi)\n",
    "        jet.append(jets[k].mass)\n",
    "        data.append(jet)"
   ]
  },
  {
   "cell_type": "code",
   "execution_count": 7,
   "metadata": {},
   "outputs": [
    {
     "data": {
      "text/plain": [
       "(73641, 4)"
      ]
     },
     "execution_count": 7,
     "metadata": {},
     "output_type": "execute_result"
    }
   ],
   "source": [
    "data = np.array(data)\n",
    "data.shape"
   ]
  },
  {
   "cell_type": "code",
   "execution_count": 8,
   "metadata": {},
   "outputs": [],
   "source": [
    "# splitting data\n",
    "x_train = data[0:int(len(data) * 0.8)]\n",
    "x_val = data[int(len(data) * 0.8):int(len(data) * 0.9)]\n",
    "x_test = data[int(len(data) * 0.9):]"
   ]
  },
  {
   "cell_type": "code",
   "execution_count": 9,
   "metadata": {},
   "outputs": [],
   "source": [
    "# regularize\n",
    "scaler = preprocessing.StandardScaler()\n",
    "x_train = scaler.fit_transform(x_train)\n",
    "x_val = scaler.transform(x_val)\n",
    "x_test = scaler.transform(x_test)"
   ]
  },
  {
   "cell_type": "markdown",
   "metadata": {},
   "source": [
    "# VAE Model"
   ]
  },
  {
   "cell_type": "code",
   "execution_count": 10,
   "metadata": {},
   "outputs": [
    {
     "name": "stderr",
     "output_type": "stream",
     "text": [
      "Using TensorFlow backend.\n"
     ]
    }
   ],
   "source": [
    "import keras\n",
    "from keras.layers import Lambda, Input, Dense, Flatten, Reshape\n",
    "from keras.models import Model, Sequential\n",
    "from keras import metrics, losses\n",
    "from keras import backend as K"
   ]
  },
  {
   "cell_type": "code",
   "execution_count": 11,
   "metadata": {},
   "outputs": [],
   "source": [
    "def sampling(args):\n",
    "    \"\"\"\n",
    "    # Arguments\n",
    "        args (tensor): mean and log of variance of Q(z|X)\n",
    "    # Returns\n",
    "        z (tensor): sampled latent vector\n",
    "    \"\"\"\n",
    "\n",
    "    z_mean, z_log_var = args\n",
    "    batch = K.shape(z_mean)[0]\n",
    "    dim = K.int_shape(z_mean)[1]\n",
    "    # by default, random_normal has mean = 0 and std = 1.0\n",
    "    epsilon = K.random_normal(shape=(batch, dim))\n",
    "    return z_mean + K.exp(0.5 * z_log_var) * epsilon"
   ]
  },
  {
   "cell_type": "code",
   "execution_count": 12,
   "metadata": {},
   "outputs": [],
   "source": [
    "inter_dim = 32\n",
    "final_dim = 16\n",
    "latent_dim = 4\n",
    "input_dim = 4"
   ]
  },
  {
   "cell_type": "code",
   "execution_count": 13,
   "metadata": {},
   "outputs": [],
   "source": [
    "# encoder\n",
    "x = Input(shape=(input_dim,))\n",
    "#x_flat = Flatten()(x)\n",
    "h1 = Dense(inter_dim, activation='relu')(x)\n",
    "h2 = Dense(final_dim, activation='relu')(h1)\n",
    "z_mean = Dense(latent_dim)(h2)\n",
    "z_log_sigma = Dense(latent_dim)(h2)"
   ]
  },
  {
   "cell_type": "code",
   "execution_count": 14,
   "metadata": {},
   "outputs": [],
   "source": [
    "# random sampling\n",
    "z = Lambda(sampling, output_shape=(latent_dim,))([z_mean, z_log_sigma])\n",
    "\n",
    "encoder = Model(inputs = x, outputs = z)"
   ]
  },
  {
   "cell_type": "code",
   "execution_count": 15,
   "metadata": {},
   "outputs": [],
   "source": [
    "# decoder\n",
    "decoder_h2 = Dense(final_dim, activation='relu')\n",
    "decoder_h1 = Dense(inter_dim, activation='relu')\n",
    "decoder_mean = Dense(input_dim, activation='linear')\n",
    "\n",
    "h2_decoded = decoder_h2(z)\n",
    "h1_decoded = decoder_h1(h2_decoded)\n",
    "x_decoded_mean = decoder_mean(h1_decoded)\n",
    "# x_decoded = Reshape(input_shape)(x_decoded_mean)"
   ]
  },
  {
   "cell_type": "code",
   "execution_count": 16,
   "metadata": {},
   "outputs": [],
   "source": [
    "vae = Model(inputs = x, outputs = x_decoded_mean, name = 'vae')"
   ]
  },
  {
   "cell_type": "code",
   "execution_count": 17,
   "metadata": {},
   "outputs": [],
   "source": [
    "mse = keras.losses.MeanSquaredError()\n",
    "def vae_loss(x, y):\n",
    "    mse_loss = mse(x, y)\n",
    "    kl_loss = - 0.5 * K.mean(1 + z_log_sigma - K.square(z_mean) - K.exp(z_log_sigma), axis=-1)\n",
    "    return mse_loss + kl_loss\n",
    "\n",
    "vae.compile(optimizer='adam', loss=vae_loss)"
   ]
  },
  {
   "cell_type": "code",
   "execution_count": 18,
   "metadata": {},
   "outputs": [
    {
     "name": "stdout",
     "output_type": "stream",
     "text": [
      "Model: \"vae\"\n",
      "__________________________________________________________________________________________________\n",
      "Layer (type)                    Output Shape         Param #     Connected to                     \n",
      "==================================================================================================\n",
      "input_1 (InputLayer)            (None, 4)            0                                            \n",
      "__________________________________________________________________________________________________\n",
      "dense_1 (Dense)                 (None, 32)           160         input_1[0][0]                    \n",
      "__________________________________________________________________________________________________\n",
      "dense_2 (Dense)                 (None, 16)           528         dense_1[0][0]                    \n",
      "__________________________________________________________________________________________________\n",
      "dense_3 (Dense)                 (None, 4)            68          dense_2[0][0]                    \n",
      "__________________________________________________________________________________________________\n",
      "dense_4 (Dense)                 (None, 4)            68          dense_2[0][0]                    \n",
      "__________________________________________________________________________________________________\n",
      "lambda_1 (Lambda)               (None, 4)            0           dense_3[0][0]                    \n",
      "                                                                 dense_4[0][0]                    \n",
      "__________________________________________________________________________________________________\n",
      "dense_5 (Dense)                 (None, 16)           80          lambda_1[0][0]                   \n",
      "__________________________________________________________________________________________________\n",
      "dense_6 (Dense)                 (None, 32)           544         dense_5[0][0]                    \n",
      "__________________________________________________________________________________________________\n",
      "dense_7 (Dense)                 (None, 4)            132         dense_6[0][0]                    \n",
      "==================================================================================================\n",
      "Total params: 1,580\n",
      "Trainable params: 1,580\n",
      "Non-trainable params: 0\n",
      "__________________________________________________________________________________________________\n"
     ]
    }
   ],
   "source": [
    "vae.summary()"
   ]
  },
  {
   "cell_type": "markdown",
   "metadata": {},
   "source": [
    "# Train"
   ]
  },
  {
   "cell_type": "code",
   "execution_count": 19,
   "metadata": {},
   "outputs": [],
   "source": [
    "from sklearn.model_selection import train_test_split"
   ]
  },
  {
   "cell_type": "code",
   "execution_count": 20,
   "metadata": {},
   "outputs": [],
   "source": [
    "batch_size = 200\n",
    "epochs = 100"
   ]
  },
  {
   "cell_type": "code",
   "execution_count": 21,
   "metadata": {},
   "outputs": [
    {
     "data": {
      "text/plain": [
       "(58912, 4)"
      ]
     },
     "execution_count": 21,
     "metadata": {},
     "output_type": "execute_result"
    }
   ],
   "source": [
    "x_train.shape"
   ]
  },
  {
   "cell_type": "code",
   "execution_count": 22,
   "metadata": {},
   "outputs": [
    {
     "name": "stdout",
     "output_type": "stream",
     "text": [
      "Train on 58912 samples, validate on 7364 samples\n",
      "Epoch 1/100\n",
      "58912/58912 [==============================] - 2s 38us/step - loss: 0.9229 - val_loss: 0.7430\n",
      "Epoch 2/100\n",
      "58912/58912 [==============================] - 2s 26us/step - loss: 0.7035 - val_loss: 0.6672\n",
      "Epoch 3/100\n",
      "58912/58912 [==============================] - 2s 26us/step - loss: 0.6595 - val_loss: 0.6523\n",
      "Epoch 4/100\n",
      "58912/58912 [==============================] - 2s 26us/step - loss: 0.6447 - val_loss: 0.6384\n",
      "Epoch 5/100\n",
      "58912/58912 [==============================] - 2s 27us/step - loss: 0.6400 - val_loss: 0.6360\n",
      "Epoch 6/100\n",
      "58912/58912 [==============================] - 2s 27us/step - loss: 0.6361 - val_loss: 0.6318\n",
      "Epoch 7/100\n",
      "58912/58912 [==============================] - 2s 27us/step - loss: 0.6293 - val_loss: 0.6256\n",
      "Epoch 8/100\n",
      "58912/58912 [==============================] - 2s 27us/step - loss: 0.6305 - val_loss: 0.6264\n",
      "Epoch 9/100\n",
      "58912/58912 [==============================] - 2s 26us/step - loss: 0.6277 - val_loss: 0.6282\n",
      "Epoch 10/100\n",
      "58912/58912 [==============================] - 2s 26us/step - loss: 0.6238 - val_loss: 0.6239\n",
      "Epoch 11/100\n",
      "58912/58912 [==============================] - 2s 26us/step - loss: 0.6209 - val_loss: 0.6281\n",
      "Epoch 12/100\n",
      "58912/58912 [==============================] - 2s 26us/step - loss: 0.6216 - val_loss: 0.6221\n",
      "Epoch 13/100\n",
      "58912/58912 [==============================] - 2s 26us/step - loss: 0.6183 - val_loss: 0.6129\n",
      "Epoch 14/100\n",
      "58912/58912 [==============================] - 2s 26us/step - loss: 0.6173 - val_loss: 0.6187\n",
      "Epoch 15/100\n",
      "58912/58912 [==============================] - 2s 25us/step - loss: 0.6151 - val_loss: 0.6174\n",
      "Epoch 16/100\n",
      "58912/58912 [==============================] - 2s 26us/step - loss: 0.6121 - val_loss: 0.6166\n",
      "Epoch 17/100\n",
      "58912/58912 [==============================] - 2s 26us/step - loss: 0.6152 - val_loss: 0.6065\n",
      "Epoch 18/100\n",
      "58912/58912 [==============================] - 2s 26us/step - loss: 0.6100 - val_loss: 0.6115\n",
      "Epoch 19/100\n",
      "58912/58912 [==============================] - 2s 26us/step - loss: 0.6089 - val_loss: 0.6171\n",
      "Epoch 20/100\n",
      "58912/58912 [==============================] - 2s 27us/step - loss: 0.6080 - val_loss: 0.6094\n",
      "Epoch 21/100\n",
      "58912/58912 [==============================] - 2s 26us/step - loss: 0.6081 - val_loss: 0.6086\n",
      "Epoch 22/100\n",
      "58912/58912 [==============================] - 2s 26us/step - loss: 0.6083 - val_loss: 0.6026\n",
      "Epoch 23/100\n",
      "58912/58912 [==============================] - 2s 27us/step - loss: 0.6086 - val_loss: 0.6073\n",
      "Epoch 24/100\n",
      "58912/58912 [==============================] - 2s 26us/step - loss: 0.6091 - val_loss: 0.6060\n",
      "Epoch 25/100\n",
      "58912/58912 [==============================] - 2s 26us/step - loss: 0.6101 - val_loss: 0.6035\n",
      "Epoch 26/100\n",
      "58912/58912 [==============================] - 2s 26us/step - loss: 0.6072 - val_loss: 0.6097\n",
      "Epoch 27/100\n",
      "58912/58912 [==============================] - 1s 25us/step - loss: 0.6059 - val_loss: 0.6078\n",
      "Epoch 28/100\n",
      "58912/58912 [==============================] - 2s 26us/step - loss: 0.6074 - val_loss: 0.6060\n",
      "Epoch 29/100\n",
      "58912/58912 [==============================] - 1s 24us/step - loss: 0.6049 - val_loss: 0.6044\n",
      "Epoch 30/100\n",
      "58912/58912 [==============================] - 1s 25us/step - loss: 0.6079 - val_loss: 0.6017\n",
      "Epoch 31/100\n",
      "58912/58912 [==============================] - 1s 24us/step - loss: 0.6064 - val_loss: 0.6019\n",
      "Epoch 32/100\n",
      "58912/58912 [==============================] - 1s 25us/step - loss: 0.6059 - val_loss: 0.6119\n",
      "Epoch 33/100\n",
      "58912/58912 [==============================] - 1s 25us/step - loss: 0.6066 - val_loss: 0.6046\n",
      "Epoch 34/100\n",
      "58912/58912 [==============================] - 1s 25us/step - loss: 0.6069 - val_loss: 0.5980\n",
      "Epoch 35/100\n",
      "58912/58912 [==============================] - 1s 24us/step - loss: 0.6074 - val_loss: 0.5987\n",
      "Epoch 36/100\n",
      "58912/58912 [==============================] - 1s 25us/step - loss: 0.6056 - val_loss: 0.6055\n",
      "Epoch 37/100\n",
      "58912/58912 [==============================] - 1s 24us/step - loss: 0.6067 - val_loss: 0.6075\n",
      "Epoch 38/100\n",
      "58912/58912 [==============================] - 1s 24us/step - loss: 0.6037 - val_loss: 0.6020\n",
      "Epoch 39/100\n",
      "58912/58912 [==============================] - 1s 24us/step - loss: 0.6060 - val_loss: 0.6047\n",
      "Epoch 40/100\n",
      "58912/58912 [==============================] - 1s 24us/step - loss: 0.6070 - val_loss: 0.6016\n",
      "Epoch 41/100\n",
      "58912/58912 [==============================] - 1s 25us/step - loss: 0.6041 - val_loss: 0.6082\n",
      "Epoch 42/100\n",
      "58912/58912 [==============================] - 1s 25us/step - loss: 0.6077 - val_loss: 0.6036\n",
      "Epoch 43/100\n",
      "58912/58912 [==============================] - 1s 25us/step - loss: 0.6056 - val_loss: 0.6013\n",
      "Epoch 44/100\n",
      "58912/58912 [==============================] - 1s 24us/step - loss: 0.6022 - val_loss: 0.6018\n",
      "Epoch 45/100\n",
      "58912/58912 [==============================] - 1s 24us/step - loss: 0.6051 - val_loss: 0.5954\n",
      "Epoch 46/100\n",
      "58912/58912 [==============================] - 1s 24us/step - loss: 0.6057 - val_loss: 0.6059\n",
      "Epoch 47/100\n",
      "58912/58912 [==============================] - 1s 24us/step - loss: 0.6038 - val_loss: 0.5998\n",
      "Epoch 48/100\n",
      "58912/58912 [==============================] - 1s 24us/step - loss: 0.6037 - val_loss: 0.6042\n",
      "Epoch 49/100\n",
      "58912/58912 [==============================] - 1s 24us/step - loss: 0.6062 - val_loss: 0.6054\n",
      "Epoch 50/100\n",
      "58912/58912 [==============================] - 1s 24us/step - loss: 0.6064 - val_loss: 0.6050\n",
      "Epoch 51/100\n",
      "58912/58912 [==============================] - 1s 24us/step - loss: 0.6060 - val_loss: 0.5999\n",
      "Epoch 52/100\n",
      "58912/58912 [==============================] - 1s 24us/step - loss: 0.6052 - val_loss: 0.6026\n",
      "Epoch 53/100\n",
      "58912/58912 [==============================] - 1s 24us/step - loss: 0.6028 - val_loss: 0.6030\n",
      "Epoch 54/100\n",
      "58912/58912 [==============================] - 1s 24us/step - loss: 0.6056 - val_loss: 0.5994\n",
      "Epoch 55/100\n",
      "58912/58912 [==============================] - 1s 24us/step - loss: 0.6053 - val_loss: 0.5973\n",
      "Epoch 56/100\n",
      "58912/58912 [==============================] - 1s 24us/step - loss: 0.6037 - val_loss: 0.5949\n",
      "Epoch 57/100\n",
      "58912/58912 [==============================] - 1s 24us/step - loss: 0.6035 - val_loss: 0.6009\n",
      "Epoch 58/100\n",
      "58912/58912 [==============================] - 1s 24us/step - loss: 0.6065 - val_loss: 0.6019\n",
      "Epoch 59/100\n",
      "58912/58912 [==============================] - 1s 24us/step - loss: 0.6039 - val_loss: 0.6094\n",
      "Epoch 60/100\n",
      "58912/58912 [==============================] - 1s 24us/step - loss: 0.6043 - val_loss: 0.6057\n",
      "Epoch 61/100\n",
      "58912/58912 [==============================] - 1s 24us/step - loss: 0.6014 - val_loss: 0.5978\n",
      "Epoch 62/100\n",
      "58912/58912 [==============================] - 1s 24us/step - loss: 0.6039 - val_loss: 0.6041\n",
      "Epoch 63/100\n",
      "58912/58912 [==============================] - 1s 24us/step - loss: 0.6032 - val_loss: 0.6008\n",
      "Epoch 64/100\n",
      "58912/58912 [==============================] - 1s 24us/step - loss: 0.6056 - val_loss: 0.6064\n",
      "Epoch 65/100\n",
      "58912/58912 [==============================] - 1s 24us/step - loss: 0.6046 - val_loss: 0.6053\n",
      "Epoch 66/100\n",
      "58912/58912 [==============================] - 1s 24us/step - loss: 0.6032 - val_loss: 0.6056\n",
      "Epoch 67/100\n",
      "58912/58912 [==============================] - 1s 24us/step - loss: 0.6064 - val_loss: 0.6051\n",
      "Epoch 68/100\n",
      "58912/58912 [==============================] - 1s 24us/step - loss: 0.6043 - val_loss: 0.5988\n",
      "Epoch 69/100\n",
      "58912/58912 [==============================] - 1s 25us/step - loss: 0.6044 - val_loss: 0.6081\n",
      "Epoch 70/100\n",
      "58912/58912 [==============================] - 1s 24us/step - loss: 0.6028 - val_loss: 0.6035\n",
      "Epoch 71/100\n",
      "58912/58912 [==============================] - 1s 24us/step - loss: 0.6030 - val_loss: 0.5998\n",
      "Epoch 72/100\n",
      "58912/58912 [==============================] - 1s 24us/step - loss: 0.6041 - val_loss: 0.6064\n",
      "Epoch 73/100\n",
      "58912/58912 [==============================] - 1s 24us/step - loss: 0.6049 - val_loss: 0.6067\n",
      "Epoch 74/100\n",
      "58912/58912 [==============================] - 1s 24us/step - loss: 0.6045 - val_loss: 0.6033\n",
      "Epoch 75/100\n",
      "58912/58912 [==============================] - 1s 24us/step - loss: 0.6031 - val_loss: 0.6019\n",
      "Epoch 76/100\n",
      "58912/58912 [==============================] - 1s 24us/step - loss: 0.6043 - val_loss: 0.6055\n",
      "Epoch 77/100\n"
     ]
    },
    {
     "name": "stdout",
     "output_type": "stream",
     "text": [
      "58912/58912 [==============================] - 1s 24us/step - loss: 0.6041 - val_loss: 0.6040\n",
      "Epoch 78/100\n",
      "58912/58912 [==============================] - 1s 24us/step - loss: 0.6037 - val_loss: 0.5985\n",
      "Epoch 79/100\n",
      "58912/58912 [==============================] - 1s 24us/step - loss: 0.6035 - val_loss: 0.5971\n",
      "Epoch 80/100\n",
      "58912/58912 [==============================] - 1s 24us/step - loss: 0.6050 - val_loss: 0.6018\n",
      "Epoch 81/100\n",
      "58912/58912 [==============================] - 1s 24us/step - loss: 0.6024 - val_loss: 0.5985\n",
      "Epoch 82/100\n",
      "58912/58912 [==============================] - 1s 24us/step - loss: 0.6025 - val_loss: 0.6093\n",
      "Epoch 83/100\n",
      "58912/58912 [==============================] - 1s 24us/step - loss: 0.6040 - val_loss: 0.5994\n",
      "Epoch 84/100\n",
      "58912/58912 [==============================] - 1s 24us/step - loss: 0.6032 - val_loss: 0.6015\n",
      "Epoch 85/100\n",
      "58912/58912 [==============================] - 1s 24us/step - loss: 0.6062 - val_loss: 0.6025\n",
      "Epoch 86/100\n",
      "58912/58912 [==============================] - 1s 24us/step - loss: 0.6015 - val_loss: 0.6000\n",
      "Epoch 87/100\n",
      "58912/58912 [==============================] - 1s 24us/step - loss: 0.6049 - val_loss: 0.6020\n",
      "Epoch 88/100\n",
      "58912/58912 [==============================] - 1s 24us/step - loss: 0.6074 - val_loss: 0.5992\n",
      "Epoch 89/100\n",
      "58912/58912 [==============================] - 1s 24us/step - loss: 0.6054 - val_loss: 0.6063\n",
      "Epoch 90/100\n",
      "58912/58912 [==============================] - 1s 24us/step - loss: 0.6021 - val_loss: 0.6051\n",
      "Epoch 91/100\n",
      "58912/58912 [==============================] - 1s 25us/step - loss: 0.6017 - val_loss: 0.6041\n",
      "Epoch 92/100\n",
      "58912/58912 [==============================] - 1s 24us/step - loss: 0.6057 - val_loss: 0.6062\n",
      "Epoch 93/100\n",
      "58912/58912 [==============================] - 1s 24us/step - loss: 0.6013 - val_loss: 0.6071\n",
      "Epoch 94/100\n",
      "58912/58912 [==============================] - 1s 24us/step - loss: 0.6027 - val_loss: 0.6015\n",
      "Epoch 95/100\n",
      "58912/58912 [==============================] - 1s 24us/step - loss: 0.6029 - val_loss: 0.6062\n",
      "Epoch 96/100\n",
      "58912/58912 [==============================] - 1s 24us/step - loss: 0.6031 - val_loss: 0.6023\n",
      "Epoch 97/100\n",
      "58912/58912 [==============================] - 1s 24us/step - loss: 0.6036 - val_loss: 0.5916\n",
      "Epoch 98/100\n",
      "58912/58912 [==============================] - 1s 24us/step - loss: 0.6018 - val_loss: 0.5986\n",
      "Epoch 99/100\n",
      "58912/58912 [==============================] - 1s 24us/step - loss: 0.6037 - val_loss: 0.6015\n",
      "Epoch 100/100\n",
      "58912/58912 [==============================] - 1s 25us/step - loss: 0.6042 - val_loss: 0.6031\n"
     ]
    }
   ],
   "source": [
    "hist = vae.fit(x_train, x_train,\n",
    "               shuffle=True,\n",
    "               epochs=epochs,\n",
    "               batch_size=batch_size,\n",
    "               validation_data=(x_val, x_val))"
   ]
  },
  {
   "cell_type": "markdown",
   "metadata": {},
   "source": [
    "# Visualization"
   ]
  },
  {
   "cell_type": "code",
   "execution_count": 23,
   "metadata": {},
   "outputs": [],
   "source": [
    "import matplotlib.pyplot as plt"
   ]
  },
  {
   "cell_type": "code",
   "execution_count": 24,
   "metadata": {},
   "outputs": [
    {
     "data": {
      "image/png": "[encoded data removed]",
      "text/plain": [
       "<Figure size 432x266.991 with 1 Axes>"
      ]
     },
     "metadata": {
      "needs_background": "light"
     },
     "output_type": "display_data"
    }
   ],
   "source": [
    "golden_size = lambda width: (width, 2. * width / (1 + np.sqrt(5)))\n",
    "\n",
    "fig, ax = plt.subplots(figsize=golden_size(6))\n",
    "\n",
    "hist_df = pd.DataFrame(hist.history)\n",
    "hist_df.plot(ax=ax)\n",
    "\n",
    "ax.set_ylabel('NELBO')\n",
    "ax.set_xlabel('# epochs')\n",
    "\n",
    "ax.set_ylim(.99*hist_df[1:].values.min(), \n",
    "            1.1*hist_df[1:].values.max())\n",
    "plt.show()"
   ]
  },
  {
   "cell_type": "code",
   "execution_count": 25,
   "metadata": {},
   "outputs": [],
   "source": [
    "predictions = vae.predict(x_test)"
   ]
  },
  {
   "cell_type": "code",
   "execution_count": 26,
   "metadata": {},
   "outputs": [
    {
     "data": {
      "text/plain": [
       "array([[-0.31860852, -0.2217254 , -0.8620342 , -0.2610172 ],\n",
       "       [-0.3502915 ,  1.0951138 , -0.41847637, -0.2845958 ],\n",
       "       [-0.41989505,  1.2177718 ,  0.7398839 , -0.30688342],\n",
       "       ...,\n",
       "       [-0.3566109 , -0.6563587 , -0.21193004, -0.2824178 ],\n",
       "       [-0.39668548, -0.9366727 , -0.49533254, -0.3143061 ],\n",
       "       [-0.3707764 , -0.62992084,  0.7199376 , -0.28598222]],\n",
       "      dtype=float32)"
      ]
     },
     "execution_count": 26,
     "metadata": {},
     "output_type": "execute_result"
    }
   ],
   "source": [
    "predictions"
   ]
  },
  {
   "cell_type": "code",
   "execution_count": 27,
   "metadata": {},
   "outputs": [],
   "source": [
    "distr = (x_test - predictions) / x_test"
   ]
  },
  {
   "cell_type": "code",
   "execution_count": 28,
   "metadata": {},
   "outputs": [],
   "source": [
    "pT_pred = [row[0] for row in predictions]\n",
    "eta_pred = [row[1] for row in predictions]\n",
    "phi_pred = [row[2] for row in predictions]\n",
    "mass_pred = [row[3] for row in predictions]"
   ]
  },
  {
   "cell_type": "code",
   "execution_count": 29,
   "metadata": {},
   "outputs": [],
   "source": [
    "pT = [row[0] for row in x_test]\n",
    "eta = [row[1] for row in x_test]\n",
    "phi = [row[2] for row in x_test]\n",
    "mass = [row[3] for row in x_test]"
   ]
  },
  {
   "cell_type": "markdown",
   "metadata": {},
   "source": [
    "## Stacking output (orange) over input (blue) for pT, eta, phi, m"
   ]
  },
  {
   "cell_type": "code",
   "execution_count": 30,
   "metadata": {},
   "outputs": [
    {
     "data": {
      "text/plain": [
       "(array([0., 0., 1., 1., 0., 0., 1., 3., 1., 1., 1., 2., 1., 4., 2., 2., 0.,\n",
       "        2., 1., 1., 0., 0., 5., 1., 2., 1., 1., 1., 4., 3., 1., 1., 2., 1.,\n",
       "        1., 1., 0., 0., 0., 1., 0., 1., 1., 1., 3., 1., 1., 1., 1., 2., 2.,\n",
       "        4., 0., 2., 1., 3., 2., 0., 0., 2., 0., 0., 1., 4., 3., 0., 0., 2.,\n",
       "        2., 0., 0., 1., 2., 2., 1., 1., 2., 1., 2.]),\n",
       " array([0.        , 0.01265823, 0.02531646, 0.03797468, 0.05063291,\n",
       "        0.06329114, 0.07594937, 0.08860759, 0.10126582, 0.11392405,\n",
       "        0.12658228, 0.13924051, 0.15189873, 0.16455696, 0.17721519,\n",
       "        0.18987342, 0.20253165, 0.21518987, 0.2278481 , 0.24050633,\n",
       "        0.25316456, 0.26582278, 0.27848101, 0.29113924, 0.30379747,\n",
       "        0.3164557 , 0.32911392, 0.34177215, 0.35443038, 0.36708861,\n",
       "        0.37974684, 0.39240506, 0.40506329, 0.41772152, 0.43037975,\n",
       "        0.44303797, 0.4556962 , 0.46835443, 0.48101266, 0.49367089,\n",
       "        0.50632911, 0.51898734, 0.53164557, 0.5443038 , 0.55696203,\n",
       "        0.56962025, 0.58227848, 0.59493671, 0.60759494, 0.62025316,\n",
       "        0.63291139, 0.64556962, 0.65822785, 0.67088608, 0.6835443 ,\n",
       "        0.69620253, 0.70886076, 0.72151899, 0.73417722, 0.74683544,\n",
       "        0.75949367, 0.7721519 , 0.78481013, 0.79746835, 0.81012658,\n",
       "        0.82278481, 0.83544304, 0.84810127, 0.86075949, 0.87341772,\n",
       "        0.88607595, 0.89873418, 0.91139241, 0.92405063, 0.93670886,\n",
       "        0.94936709, 0.96202532, 0.97468354, 0.98734177, 1.        ]),\n",
       " <a list of 79 Patch objects>)"
      ]
     },
     "execution_count": 30,
     "metadata": {},
     "output_type": "execute_result"
    },
    {
     "data": {
      "image/png": "[encoded data removed]",
      "text/plain": [
       "<Figure size 432x288 with 1 Axes>"
      ]
     },
     "metadata": {
      "needs_background": "light"
     },
     "output_type": "display_data"
    }
   ],
   "source": [
    "bins = np.linspace(0, 1, 80)\n",
    "plt.hist(pT, bins=bins,alpha=0.5)\n",
    "plt.hist(pT_pred, bins=bins,alpha=0.5)"
   ]
  },
  {
   "cell_type": "code",
   "execution_count": 31,
   "metadata": {},
   "outputs": [
    {
     "data": {
      "text/plain": [
       "(array([142., 133., 111.,  95.,  51.,  51.,  36.,  40.,  34.,  26.,  34.,\n",
       "         26.,  23.,  29.,  29.,  35.,  22.,  26.,  29.,  22.,  28.,  31.,\n",
       "         27.,  23.,  25.,  27.,  32.,  34.,  28.,  25.,  17.,  37.,  27.,\n",
       "         41.,  20.,  37.,  24.,  22.,  26.,  25.,  29.,  27.,  31.,  20.,\n",
       "         34.,  28.,  32.,  34.,  29.,  30.,  30.,  20.,  23.,  21.,  36.,\n",
       "         26.,  35.,  33.,  32.,  24.,  33.,  27.,  30.,  38.,  24.,  32.,\n",
       "         32.,  24.,  21.,  32.,  28.,  29.,  39.,  39.,  36.,  41.,  37.,\n",
       "         34.,  27.]),\n",
       " array([0.        , 0.01265823, 0.02531646, 0.03797468, 0.05063291,\n",
       "        0.06329114, 0.07594937, 0.08860759, 0.10126582, 0.11392405,\n",
       "        0.12658228, 0.13924051, 0.15189873, 0.16455696, 0.17721519,\n",
       "        0.18987342, 0.20253165, 0.21518987, 0.2278481 , 0.24050633,\n",
       "        0.25316456, 0.26582278, 0.27848101, 0.29113924, 0.30379747,\n",
       "        0.3164557 , 0.32911392, 0.34177215, 0.35443038, 0.36708861,\n",
       "        0.37974684, 0.39240506, 0.40506329, 0.41772152, 0.43037975,\n",
       "        0.44303797, 0.4556962 , 0.46835443, 0.48101266, 0.49367089,\n",
       "        0.50632911, 0.51898734, 0.53164557, 0.5443038 , 0.55696203,\n",
       "        0.56962025, 0.58227848, 0.59493671, 0.60759494, 0.62025316,\n",
       "        0.63291139, 0.64556962, 0.65822785, 0.67088608, 0.6835443 ,\n",
       "        0.69620253, 0.70886076, 0.72151899, 0.73417722, 0.74683544,\n",
       "        0.75949367, 0.7721519 , 0.78481013, 0.79746835, 0.81012658,\n",
       "        0.82278481, 0.83544304, 0.84810127, 0.86075949, 0.87341772,\n",
       "        0.88607595, 0.89873418, 0.91139241, 0.92405063, 0.93670886,\n",
       "        0.94936709, 0.96202532, 0.97468354, 0.98734177, 1.        ]),\n",
       " <a list of 79 Patch objects>)"
      ]
     },
     "execution_count": 31,
     "metadata": {},
     "output_type": "execute_result"
    },
    {
     "data": {
      "image/png": "[encoded data removed]",
      "text/plain": [
       "<Figure size 432x288 with 1 Axes>"
      ]
     },
     "metadata": {
      "needs_background": "light"
     },
     "output_type": "display_data"
    }
   ],
   "source": [
    "plt.hist(eta, bins=bins,alpha=0.5)\n",
    "plt.hist(eta_pred, bins=bins,alpha=0.5)"
   ]
  },
  {
   "cell_type": "code",
   "execution_count": 32,
   "metadata": {},
   "outputs": [
    {
     "data": {
      "text/plain": [
       "(array([29., 24., 32., 34., 24., 29., 28., 44., 36., 33., 35., 36., 31.,\n",
       "        38., 24., 34., 27., 28., 33., 28., 42., 26., 33., 32., 27., 24.,\n",
       "        33., 39., 32., 28., 33., 33., 33., 36., 30., 37., 38., 38., 20.,\n",
       "        39., 26., 37., 27., 26., 30., 27., 28., 40., 22., 23., 25., 32.,\n",
       "        33., 38., 42., 41., 55., 68., 63., 55., 48., 47., 53., 50., 64.,\n",
       "        54., 49., 52., 40., 41., 37., 39., 40., 53., 36., 47., 43., 33.,\n",
       "        50.]),\n",
       " array([0.        , 0.01265823, 0.02531646, 0.03797468, 0.05063291,\n",
       "        0.06329114, 0.07594937, 0.08860759, 0.10126582, 0.11392405,\n",
       "        0.12658228, 0.13924051, 0.15189873, 0.16455696, 0.17721519,\n",
       "        0.18987342, 0.20253165, 0.21518987, 0.2278481 , 0.24050633,\n",
       "        0.25316456, 0.26582278, 0.27848101, 0.29113924, 0.30379747,\n",
       "        0.3164557 , 0.32911392, 0.34177215, 0.35443038, 0.36708861,\n",
       "        0.37974684, 0.39240506, 0.40506329, 0.41772152, 0.43037975,\n",
       "        0.44303797, 0.4556962 , 0.46835443, 0.48101266, 0.49367089,\n",
       "        0.50632911, 0.51898734, 0.53164557, 0.5443038 , 0.55696203,\n",
       "        0.56962025, 0.58227848, 0.59493671, 0.60759494, 0.62025316,\n",
       "        0.63291139, 0.64556962, 0.65822785, 0.67088608, 0.6835443 ,\n",
       "        0.69620253, 0.70886076, 0.72151899, 0.73417722, 0.74683544,\n",
       "        0.75949367, 0.7721519 , 0.78481013, 0.79746835, 0.81012658,\n",
       "        0.82278481, 0.83544304, 0.84810127, 0.86075949, 0.87341772,\n",
       "        0.88607595, 0.89873418, 0.91139241, 0.92405063, 0.93670886,\n",
       "        0.94936709, 0.96202532, 0.97468354, 0.98734177, 1.        ]),\n",
       " <a list of 79 Patch objects>)"
      ]
     },
     "execution_count": 32,
     "metadata": {},
     "output_type": "execute_result"
    },
    {
     "data": {
      "image/png": "[encoded data removed]",
      "text/plain": [
       "<Figure size 432x288 with 1 Axes>"
      ]
     },
     "metadata": {
      "needs_background": "light"
     },
     "output_type": "display_data"
    }
   ],
   "source": [
    "plt.hist(phi, bins=bins,alpha=0.5)\n",
    "plt.hist(phi_pred, bins=bins,alpha=0.5)"
   ]
  },
  {
   "cell_type": "code",
   "execution_count": 33,
   "metadata": {},
   "outputs": [
    {
     "data": {
      "text/plain": [
       "(array([ 7.,  4.,  3.,  8.,  2.,  4.,  3.,  1.,  5.,  4.,  1.,  4.,  3.,\n",
       "         7.,  3.,  5.,  5.,  9.,  2.,  2.,  4.,  5.,  7.,  4.,  3.,  4.,\n",
       "         3.,  5.,  2.,  7.,  5.,  1.,  7.,  4.,  6.,  4.,  7.,  5.,  4.,\n",
       "         6.,  6.,  2.,  6., 14., 11., 11., 11., 15., 18., 11.,  7., 12.,\n",
       "        16.,  9., 12., 12., 14., 10.,  8.,  8., 14., 11., 14.,  9., 11.,\n",
       "        11., 13.,  8.,  7.,  8.,  1.,  3.,  6.,  6.,  4.,  3.,  6.,  5.,\n",
       "         6.]),\n",
       " array([0.        , 0.01265823, 0.02531646, 0.03797468, 0.05063291,\n",
       "        0.06329114, 0.07594937, 0.08860759, 0.10126582, 0.11392405,\n",
       "        0.12658228, 0.13924051, 0.15189873, 0.16455696, 0.17721519,\n",
       "        0.18987342, 0.20253165, 0.21518987, 0.2278481 , 0.24050633,\n",
       "        0.25316456, 0.26582278, 0.27848101, 0.29113924, 0.30379747,\n",
       "        0.3164557 , 0.32911392, 0.34177215, 0.35443038, 0.36708861,\n",
       "        0.37974684, 0.39240506, 0.40506329, 0.41772152, 0.43037975,\n",
       "        0.44303797, 0.4556962 , 0.46835443, 0.48101266, 0.49367089,\n",
       "        0.50632911, 0.51898734, 0.53164557, 0.5443038 , 0.55696203,\n",
       "        0.56962025, 0.58227848, 0.59493671, 0.60759494, 0.62025316,\n",
       "        0.63291139, 0.64556962, 0.65822785, 0.67088608, 0.6835443 ,\n",
       "        0.69620253, 0.70886076, 0.72151899, 0.73417722, 0.74683544,\n",
       "        0.75949367, 0.7721519 , 0.78481013, 0.79746835, 0.81012658,\n",
       "        0.82278481, 0.83544304, 0.84810127, 0.86075949, 0.87341772,\n",
       "        0.88607595, 0.89873418, 0.91139241, 0.92405063, 0.93670886,\n",
       "        0.94936709, 0.96202532, 0.97468354, 0.98734177, 1.        ]),\n",
       " <a list of 79 Patch objects>)"
      ]
     },
     "execution_count": 33,
     "metadata": {},
     "output_type": "execute_result"
    },
    {
     "data": {
      "image/png": "[encoded data removed]",
      "text/plain": [
       "<Figure size 432x288 with 1 Axes>"
      ]
     },
     "metadata": {
      "needs_background": "light"
     },
     "output_type": "display_data"
    }
   ],
   "source": [
    "plt.hist(mass, bins=bins,alpha=0.5)\n",
    "plt.hist(mass_pred, bins=bins,alpha=0.5)"
   ]
  },
  {
   "cell_type": "code",
   "execution_count": 34,
   "metadata": {},
   "outputs": [],
   "source": [
    "d_pT = [row[0] for row in distr]\n",
    "d_eta = [row[1] for row in distr]\n",
    "d_phi = [row[2] for row in distr]\n",
    "d_mass = [row[3] for row in distr]"
   ]
  },
  {
   "cell_type": "markdown",
   "metadata": {},
   "source": [
    "## Distribution of (input - output) / input"
   ]
  },
  {
   "cell_type": "code",
   "execution_count": 35,
   "metadata": {},
   "outputs": [],
   "source": [
    "bins = np.linspace(-1, 1, 30)"
   ]
  },
  {
   "cell_type": "code",
   "execution_count": 36,
   "metadata": {},
   "outputs": [
    {
     "data": {
      "text/plain": [
       "(array([  11.,   20.,   16.,   15.,   10.,   17.,   19.,   24.,   33.,\n",
       "          44.,   52.,   93.,  151.,  323.,  992., 2444., 1650.,  452.,\n",
       "         236.,  130.,   69.,   40.,   22.,   22.,   16.,   11.,    8.,\n",
       "           8.,    7.]),\n",
       " array([-1.        , -0.93103448, -0.86206897, -0.79310345, -0.72413793,\n",
       "        -0.65517241, -0.5862069 , -0.51724138, -0.44827586, -0.37931034,\n",
       "        -0.31034483, -0.24137931, -0.17241379, -0.10344828, -0.03448276,\n",
       "         0.03448276,  0.10344828,  0.17241379,  0.24137931,  0.31034483,\n",
       "         0.37931034,  0.44827586,  0.51724138,  0.5862069 ,  0.65517241,\n",
       "         0.72413793,  0.79310345,  0.86206897,  0.93103448,  1.        ]),\n",
       " <a list of 29 Patch objects>)"
      ]
     },
     "execution_count": 36,
     "metadata": {},
     "output_type": "execute_result"
    },
    {
     "data": {
      "image/png": "[encoded data removed]",
      "text/plain": [
       "<Figure size 432x288 with 1 Axes>"
      ]
     },
     "metadata": {
      "needs_background": "light"
     },
     "output_type": "display_data"
    }
   ],
   "source": [
    "plt.hist(d_pT, bins=bins)"
   ]
  },
  {
   "cell_type": "code",
   "execution_count": 37,
   "metadata": {},
   "outputs": [
    {
     "data": {
      "text/plain": [
       "(array([ 30.,  36.,  40.,  41.,  50.,  53.,  79.,  54.,  71., 101., 131.,\n",
       "        117., 127., 151., 202., 232., 234., 359., 405., 423., 319., 294.,\n",
       "        280., 202., 205., 185., 192., 222., 242.]),\n",
       " array([-1.        , -0.93103448, -0.86206897, -0.79310345, -0.72413793,\n",
       "        -0.65517241, -0.5862069 , -0.51724138, -0.44827586, -0.37931034,\n",
       "        -0.31034483, -0.24137931, -0.17241379, -0.10344828, -0.03448276,\n",
       "         0.03448276,  0.10344828,  0.17241379,  0.24137931,  0.31034483,\n",
       "         0.37931034,  0.44827586,  0.51724138,  0.5862069 ,  0.65517241,\n",
       "         0.72413793,  0.79310345,  0.86206897,  0.93103448,  1.        ]),\n",
       " <a list of 29 Patch objects>)"
      ]
     },
     "execution_count": 37,
     "metadata": {},
     "output_type": "execute_result"
    },
    {
     "data": {
      "image/png": "[encoded data removed]",
      "text/plain": [
       "<Figure size 432x288 with 1 Axes>"
      ]
     },
     "metadata": {
      "needs_background": "light"
     },
     "output_type": "display_data"
    }
   ],
   "source": [
    "plt.hist(d_eta, bins=bins)"
   ]
  },
  {
   "cell_type": "code",
   "execution_count": 38,
   "metadata": {},
   "outputs": [
    {
     "data": {
      "text/plain": [
       "(array([ 27.,  38.,  44.,  54.,  53.,  56.,  67.,  62.,  68.,  73., 104.,\n",
       "        123., 165., 149., 217., 238., 293., 384., 495., 450., 401., 361.,\n",
       "        266., 214., 233., 170., 149., 154., 110.]),\n",
       " array([-1.        , -0.93103448, -0.86206897, -0.79310345, -0.72413793,\n",
       "        -0.65517241, -0.5862069 , -0.51724138, -0.44827586, -0.37931034,\n",
       "        -0.31034483, -0.24137931, -0.17241379, -0.10344828, -0.03448276,\n",
       "         0.03448276,  0.10344828,  0.17241379,  0.24137931,  0.31034483,\n",
       "         0.37931034,  0.44827586,  0.51724138,  0.5862069 ,  0.65517241,\n",
       "         0.72413793,  0.79310345,  0.86206897,  0.93103448,  1.        ]),\n",
       " <a list of 29 Patch objects>)"
      ]
     },
     "execution_count": 38,
     "metadata": {},
     "output_type": "execute_result"
    },
    {
     "data": {
      "image/png": "[encoded data removed]",
      "text/plain": [
       "<Figure size 432x288 with 1 Axes>"
      ]
     },
     "metadata": {
      "needs_background": "light"
     },
     "output_type": "display_data"
    }
   ],
   "source": [
    "plt.hist(d_phi, bins=bins)"
   ]
  }
 ],
 "metadata": {
  "kernelspec": {
   "display_name": "Python 3",
   "language": "python",
   "name": "python3"
  },
  "language_info": {
   "codemirror_mode": {
    "name": "ipython",
    "version": 3
   },
   "file_extension": ".py",
   "mimetype": "text/x-python",
   "name": "python",
   "nbconvert_exporter": "python",
   "pygments_lexer": "ipython3",
   "version": "3.7.6"
  }
 },
 "nbformat": 4,
 "nbformat_minor": 4
}
